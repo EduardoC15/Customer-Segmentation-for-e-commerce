{
 "cells": [
  {
   "cell_type": "markdown",
   "metadata": {},
   "source": [
    "# Segmentación de clientes\n",
    "\n",
    "In this project, we explore the dynamic world of online retail by examining a transactional dataset from a UK-based retailer, sourced from the UCI Machine Learning Repository.\n",
    "\n",
    "### Opportunity\n",
    "\n",
    "The dataset encompasses transactions recorded between 2010 and 2011. Our main goal is to enhance marketing effectiveness and increase sales through customer segmentation. To achieve this, we transform the raw transactional data into a customer-focused format by engineering new features that support the identification of distinct customer segments using clustering algorithms.\n",
    "\n",
    "This segmentation enables us to uncover unique customer profiles and gain insights into their behaviors and preferences.\n",
    "\n"
   ]
  },
  {
   "cell_type": "markdown",
   "metadata": {},
   "source": [
    "### **Dataset Description:**\n",
    "\n",
    "The dataset consist of 541,909 entries and 8 columns.\n",
    "\n",
    "| **Column**    | **Description**                                                                                   |\n",
    "|----------------|---------------------------------------------------------------------------------------------------|\n",
    "| Invoice        | Code representing each unique transaction. If this code starts with letter 'C', it indicates a cancellation. |\n",
    "| StockCode      | Code uniquely assigned to each distinct product.                                                  |\n",
    "| Description    | Description of each product.                                                                      |\n",
    "| Quantity       | The number of units of a product in a transaction.                                                |\n",
    "| InvoiceDate    | The date and time of the transaction.                                                             |\n",
    "| Price          | The unit price of the product in sterling.                                                        |\n",
    "| Customer ID     | Identifier uniquely assigned to each customer.                                                   |\n",
    "| Country        | The country where each transaction took place.                                                   |\n"
   ]
  },
  {
   "cell_type": "markdown",
   "metadata": {},
   "source": [
    "## Setup and Initialization"
   ]
  },
  {
   "cell_type": "code",
   "execution_count": 751,
   "metadata": {},
   "outputs": [],
   "source": [
    "# Importing necessary libraries\n",
    "import pandas as pd\n",
    "import numpy as np\n",
    "import matplotlib.pyplot as plt\n",
    "from plotly.offline import iplot\n",
    "\n",
    "import warnings\n",
    "warnings.filterwarnings('ignore')"
   ]
  },
  {
   "cell_type": "markdown",
   "metadata": {},
   "source": [
    "## Initial Data Analysis"
   ]
  },
  {
   "cell_type": "code",
   "execution_count": 752,
   "metadata": {},
   "outputs": [
    {
     "data": {
      "text/html": [
       "<div>\n",
       "<style scoped>\n",
       "    .dataframe tbody tr th:only-of-type {\n",
       "        vertical-align: middle;\n",
       "    }\n",
       "\n",
       "    .dataframe tbody tr th {\n",
       "        vertical-align: top;\n",
       "    }\n",
       "\n",
       "    .dataframe thead th {\n",
       "        text-align: right;\n",
       "    }\n",
       "</style>\n",
       "<table border=\"1\" class=\"dataframe\">\n",
       "  <thead>\n",
       "    <tr style=\"text-align: right;\">\n",
       "      <th></th>\n",
       "      <th>Invoice</th>\n",
       "      <th>StockCode</th>\n",
       "      <th>Description</th>\n",
       "      <th>Quantity</th>\n",
       "      <th>InvoiceDate</th>\n",
       "      <th>Price</th>\n",
       "      <th>Customer ID</th>\n",
       "      <th>Country</th>\n",
       "    </tr>\n",
       "  </thead>\n",
       "  <tbody>\n",
       "    <tr>\n",
       "      <th>0</th>\n",
       "      <td>536365</td>\n",
       "      <td>85123A</td>\n",
       "      <td>WHITE HANGING HEART T-LIGHT HOLDER</td>\n",
       "      <td>6</td>\n",
       "      <td>2010-12-01 08:26:00</td>\n",
       "      <td>2.55</td>\n",
       "      <td>17850.0</td>\n",
       "      <td>United Kingdom</td>\n",
       "    </tr>\n",
       "    <tr>\n",
       "      <th>1</th>\n",
       "      <td>536365</td>\n",
       "      <td>71053</td>\n",
       "      <td>WHITE METAL LANTERN</td>\n",
       "      <td>6</td>\n",
       "      <td>2010-12-01 08:26:00</td>\n",
       "      <td>3.39</td>\n",
       "      <td>17850.0</td>\n",
       "      <td>United Kingdom</td>\n",
       "    </tr>\n",
       "    <tr>\n",
       "      <th>2</th>\n",
       "      <td>536365</td>\n",
       "      <td>84406B</td>\n",
       "      <td>CREAM CUPID HEARTS COAT HANGER</td>\n",
       "      <td>8</td>\n",
       "      <td>2010-12-01 08:26:00</td>\n",
       "      <td>2.75</td>\n",
       "      <td>17850.0</td>\n",
       "      <td>United Kingdom</td>\n",
       "    </tr>\n",
       "    <tr>\n",
       "      <th>3</th>\n",
       "      <td>536365</td>\n",
       "      <td>84029G</td>\n",
       "      <td>KNITTED UNION FLAG HOT WATER BOTTLE</td>\n",
       "      <td>6</td>\n",
       "      <td>2010-12-01 08:26:00</td>\n",
       "      <td>3.39</td>\n",
       "      <td>17850.0</td>\n",
       "      <td>United Kingdom</td>\n",
       "    </tr>\n",
       "    <tr>\n",
       "      <th>4</th>\n",
       "      <td>536365</td>\n",
       "      <td>84029E</td>\n",
       "      <td>RED WOOLLY HOTTIE WHITE HEART.</td>\n",
       "      <td>6</td>\n",
       "      <td>2010-12-01 08:26:00</td>\n",
       "      <td>3.39</td>\n",
       "      <td>17850.0</td>\n",
       "      <td>United Kingdom</td>\n",
       "    </tr>\n",
       "  </tbody>\n",
       "</table>\n",
       "</div>"
      ],
      "text/plain": [
       "  Invoice StockCode                          Description  Quantity  \\\n",
       "0  536365    85123A   WHITE HANGING HEART T-LIGHT HOLDER         6   \n",
       "1  536365     71053                  WHITE METAL LANTERN         6   \n",
       "2  536365    84406B       CREAM CUPID HEARTS COAT HANGER         8   \n",
       "3  536365    84029G  KNITTED UNION FLAG HOT WATER BOTTLE         6   \n",
       "4  536365    84029E       RED WOOLLY HOTTIE WHITE HEART.         6   \n",
       "\n",
       "          InvoiceDate  Price  Customer ID         Country  \n",
       "0 2010-12-01 08:26:00   2.55      17850.0  United Kingdom  \n",
       "1 2010-12-01 08:26:00   3.39      17850.0  United Kingdom  \n",
       "2 2010-12-01 08:26:00   2.75      17850.0  United Kingdom  \n",
       "3 2010-12-01 08:26:00   3.39      17850.0  United Kingdom  \n",
       "4 2010-12-01 08:26:00   3.39      17850.0  United Kingdom  "
      ]
     },
     "execution_count": 752,
     "metadata": {},
     "output_type": "execute_result"
    }
   ],
   "source": [
    "# Load the dataset and dataset overview\n",
    "df = pd.read_excel('online_retail_II.xlsx', sheet_name='Year 2010-2011')\n",
    "df.head()"
   ]
  },
  {
   "cell_type": "code",
   "execution_count": 753,
   "metadata": {},
   "outputs": [
    {
     "name": "stdout",
     "output_type": "stream",
     "text": [
      "<class 'pandas.core.frame.DataFrame'>\n",
      "RangeIndex: 541910 entries, 0 to 541909\n",
      "Data columns (total 8 columns):\n",
      " #   Column       Non-Null Count   Dtype         \n",
      "---  ------       --------------   -----         \n",
      " 0   Invoice      541910 non-null  object        \n",
      " 1   StockCode    541910 non-null  object        \n",
      " 2   Description  540456 non-null  object        \n",
      " 3   Quantity     541910 non-null  int64         \n",
      " 4   InvoiceDate  541910 non-null  datetime64[ns]\n",
      " 5   Price        541910 non-null  float64       \n",
      " 6   Customer ID  406830 non-null  float64       \n",
      " 7   Country      541910 non-null  object        \n",
      "dtypes: datetime64[ns](1), float64(2), int64(1), object(4)\n",
      "memory usage: 33.1+ MB\n"
     ]
    }
   ],
   "source": [
    "df.info()"
   ]
  },
  {
   "cell_type": "markdown",
   "metadata": {},
   "source": [
    "## Data Cleaning and Transformation\n",
    "\n",
    "### Handling Missing values"
   ]
  },
  {
   "cell_type": "code",
   "execution_count": 754,
   "metadata": {},
   "outputs": [
    {
     "data": {
      "text/plain": [
       "Customer ID    24.926648\n",
       "Description     0.268310\n",
       "dtype: float64"
      ]
     },
     "execution_count": 754,
     "metadata": {},
     "output_type": "execute_result"
    }
   ],
   "source": [
    "# Percetage of missing values\n",
    "missing_percentage = df[['Customer ID', 'Description']].isnull() \\\n",
    "    .mean() * 100\n",
    "\n",
    "missing_percentage"
   ]
  },
  {
   "cell_type": "code",
   "execution_count": 755,
   "metadata": {},
   "outputs": [],
   "source": [
    "# Saving the missing values to a CSV file\n",
    "missing_values = df[['Customer ID', 'Description']].isnull().to_csv('missing_values.csv', index=False)\n",
    "\n",
    "# Drop missing values\n",
    "df.dropna(inplace = True)"
   ]
  },
  {
   "cell_type": "markdown",
   "metadata": {},
   "source": [
    "**Customer ID (24.93% missing values) and Description (0.27% missing values)** \n",
    "- Both columns are essential for clustering customers. Therefore, missing values in the dataset are removed."
   ]
  },
  {
   "cell_type": "markdown",
   "metadata": {},
   "source": [
    "### Handling Duplicates"
   ]
  },
  {
   "cell_type": "code",
   "execution_count": 756,
   "metadata": {},
   "outputs": [
    {
     "name": "stdout",
     "output_type": "stream",
     "text": [
      "The dataset contains 5225 duplicate rows that need to be removed.\n"
     ]
    }
   ],
   "source": [
    "# Displaying the number of duplicate rows\n",
    "print(f\"The dataset contains {df.duplicated().sum()} duplicate rows that need to be removed.\")"
   ]
  },
  {
   "cell_type": "code",
   "execution_count": 757,
   "metadata": {},
   "outputs": [
    {
     "name": "stdout",
     "output_type": "stream",
     "text": [
      "<class 'pandas.core.frame.DataFrame'>\n",
      "Index: 401605 entries, 0 to 541909\n",
      "Data columns (total 8 columns):\n",
      " #   Column       Non-Null Count   Dtype         \n",
      "---  ------       --------------   -----         \n",
      " 0   Invoice      401605 non-null  object        \n",
      " 1   StockCode    401605 non-null  object        \n",
      " 2   Description  401605 non-null  object        \n",
      " 3   Quantity     401605 non-null  int64         \n",
      " 4   InvoiceDate  401605 non-null  datetime64[ns]\n",
      " 5   Price        401605 non-null  float64       \n",
      " 6   Customer ID  401605 non-null  float64       \n",
      " 7   Country      401605 non-null  object        \n",
      "dtypes: datetime64[ns](1), float64(2), int64(1), object(4)\n",
      "memory usage: 27.6+ MB\n"
     ]
    }
   ],
   "source": [
    "# Drop duplicated rows\n",
    "df.drop_duplicates(inplace = True)\n",
    "df.info()"
   ]
  },
  {
   "cell_type": "markdown",
   "metadata": {},
   "source": [
    "**10,062 Duplicates rows**\n",
    "- The presence of identical transaction times, suggests that these might be data recording errors rather than genuine repeated transactions. Therefore, duplicate rows must be removed."
   ]
  },
  {
   "cell_type": "markdown",
   "metadata": {},
   "source": [
    "### Identifying Stock Codes"
   ]
  },
  {
   "cell_type": "code",
   "execution_count": 758,
   "metadata": {},
   "outputs": [
    {
     "name": "stdout",
     "output_type": "stream",
     "text": [
      "Number of unique StockCodes: 3684\n"
     ]
    }
   ],
   "source": [
    "# Number of unique StockCodes\n",
    "nunique_stock_codes = df['StockCode'].nunique()\n",
    "print(f\"Number of unique StockCodes: {nunique_stock_codes}\")"
   ]
  },
  {
   "cell_type": "code",
   "execution_count": 759,
   "metadata": {},
   "outputs": [
    {
     "data": {
      "image/png": "[encoded data removed]",
      "text/plain": [
       "<Figure size 1200x500 with 1 Axes>"
      ]
     },
     "metadata": {},
     "output_type": "display_data"
    }
   ],
   "source": [
    "# Finding the top 10 most frequent stock codes\n",
    "top_10_stock_codes = df['StockCode'].value_counts(normalize=True).head(10) * 100\n",
    "\n",
    "# Plotting the top 10 most frequent stock codes\n",
    "plt.figure(figsize=(12, 5))\n",
    "top_10_stock_codes.plot(kind='barh', color='#1C9BF9')\n",
    "\n",
    "# Adding the percentage frequency on the bars\n",
    "for index, value in enumerate(top_10_stock_codes):\n",
    "    plt.text(value, index+0.25, f'{value:.2f}%', fontsize=10)\n",
    "\n",
    "plt.title('Top 10 Most Frequent Stock Codes')\n",
    "plt.xlabel('Percentage Frequency (%)')\n",
    "plt.ylabel('Stock Codes')\n",
    "plt.gca().invert_yaxis()\n",
    "plt.show()"
   ]
  },
  {
   "cell_type": "code",
   "execution_count": 760,
   "metadata": {},
   "outputs": [
    {
     "data": {
      "text/plain": [
       "5    3676\n",
       "0       7\n",
       "1       1\n",
       "Name: count, dtype: int64"
      ]
     },
     "execution_count": 760,
     "metadata": {},
     "output_type": "execute_result"
    }
   ],
   "source": [
    "# Values of numeric characteres in unique stock codes\n",
    "unique_stock_codes = df['StockCode'].unique()\n",
    "numeric_char_counts_in_unique_codes = pd.Series(unique_stock_codes).apply(lambda x: sum(c.isdigit() for c in str(x))).value_counts()\n",
    "numeric_char_counts_in_unique_codes"
   ]
  },
  {
   "cell_type": "code",
   "execution_count": 761,
   "metadata": {},
   "outputs": [
    {
     "name": "stdout",
     "output_type": "stream",
     "text": [
      "POST\n",
      "D\n",
      "C2\n",
      "M\n",
      "BANK CHARGES\n",
      "PADS\n",
      "DOT\n",
      "CRUK\n"
     ]
    }
   ],
   "source": [
    "# Anomalous stock codes\n",
    "anomalous_stock_codes = [code for code in unique_stock_codes if sum(c.isdigit() for c in str(code)) in (0, 1)]\n",
    "\n",
    "for code in anomalous_stock_codes:\n",
    "    print(code)"
   ]
  },
  {
   "cell_type": "code",
   "execution_count": 762,
   "metadata": {},
   "outputs": [
    {
     "name": "stdout",
     "output_type": "stream",
     "text": [
      "Percentage of records with anomalous stock codes: 0.48%\n"
     ]
    }
   ],
   "source": [
    "# Calculating the percentage of records with anomalous stock codes\n",
    "percentage_anomalous_stock_codes = len(df[df['StockCode'].isin(anomalous_stock_codes)]) / len(df) * 100\n",
    "print(f\"Percentage of records with anomalous stock codes: {percentage_anomalous_stock_codes:.2f}%\")"
   ]
  },
  {
   "cell_type": "code",
   "execution_count": 763,
   "metadata": {},
   "outputs": [
    {
     "data": {
      "text/plain": [
       "399689"
      ]
     },
     "execution_count": 763,
     "metadata": {},
     "output_type": "execute_result"
    }
   ],
   "source": [
    "# Removing rows with anomalous stock codes\n",
    "df = df[~df['StockCode'].isin(anomalous_stock_codes)]\n",
    "\n",
    "len(df)"
   ]
  },
  {
   "cell_type": "markdown",
   "metadata": {},
   "source": [
    "### Inferences on Stock Codes:\n",
    "\n",
    "- **Product Variety:** The dataset contains 3684 unique stock codes. This diversity can potentially lead to the identification of distinct customers clusters, with preferences for different types of products.\n",
    "\n",
    "- **Most Frequent Stock Codes:** A closer look at the top 10 most frequent stock codes can offer insights into the popular products or categories that are frequently purchased by customers.\n",
    "\n",
    "- **Stock Codes Anomalies:** We observe that while most stock codes are composed of 5 or 6 characters, there are some anomalies like the code 'BANK CHANGES', 'POST' (perhaps postage fees) These anomalies might represent services or non-product transactions rather than actual products.\n",
    "\n",
    "- **Percentage of records with anomalous Stock Codes:** Only 0.48%, have anomalous stock codes, which deviate from the typical format observed in the majority of the data.\n",
    "\n",
    "We remove the anomalous stock codes since there's a negligible amount of stock codes"
   ]
  },
  {
   "cell_type": "markdown",
   "metadata": {},
   "source": [
    "### Handling Cancelled Transactions"
   ]
  },
  {
   "cell_type": "code",
   "execution_count": 764,
   "metadata": {},
   "outputs": [
    {
     "data": {
      "text/html": [
       "<div>\n",
       "<style scoped>\n",
       "    .dataframe tbody tr th:only-of-type {\n",
       "        vertical-align: middle;\n",
       "    }\n",
       "\n",
       "    .dataframe tbody tr th {\n",
       "        vertical-align: top;\n",
       "    }\n",
       "\n",
       "    .dataframe thead th {\n",
       "        text-align: right;\n",
       "    }\n",
       "</style>\n",
       "<table border=\"1\" class=\"dataframe\">\n",
       "  <thead>\n",
       "    <tr style=\"text-align: right;\">\n",
       "      <th></th>\n",
       "      <th>Quantity</th>\n",
       "      <th>Price</th>\n",
       "    </tr>\n",
       "  </thead>\n",
       "  <tbody>\n",
       "    <tr>\n",
       "      <th>count</th>\n",
       "      <td>8506.000000</td>\n",
       "      <td>8506.000000</td>\n",
       "    </tr>\n",
       "    <tr>\n",
       "      <th>mean</th>\n",
       "      <td>-31.473195</td>\n",
       "      <td>4.440148</td>\n",
       "    </tr>\n",
       "    <tr>\n",
       "      <th>min</th>\n",
       "      <td>-80995.000000</td>\n",
       "      <td>0.030000</td>\n",
       "    </tr>\n",
       "    <tr>\n",
       "      <th>25%</th>\n",
       "      <td>-6.000000</td>\n",
       "      <td>1.450000</td>\n",
       "    </tr>\n",
       "    <tr>\n",
       "      <th>50%</th>\n",
       "      <td>-2.000000</td>\n",
       "      <td>2.550000</td>\n",
       "    </tr>\n",
       "    <tr>\n",
       "      <th>75%</th>\n",
       "      <td>-1.000000</td>\n",
       "      <td>4.950000</td>\n",
       "    </tr>\n",
       "    <tr>\n",
       "      <th>max</th>\n",
       "      <td>-1.000000</td>\n",
       "      <td>295.000000</td>\n",
       "    </tr>\n",
       "    <tr>\n",
       "      <th>std</th>\n",
       "      <td>1197.051599</td>\n",
       "      <td>9.199140</td>\n",
       "    </tr>\n",
       "  </tbody>\n",
       "</table>\n",
       "</div>"
      ],
      "text/plain": [
       "           Quantity        Price\n",
       "count   8506.000000  8506.000000\n",
       "mean     -31.473195     4.440148\n",
       "min   -80995.000000     0.030000\n",
       "25%       -6.000000     1.450000\n",
       "50%       -2.000000     2.550000\n",
       "75%       -1.000000     4.950000\n",
       "max       -1.000000   295.000000\n",
       "std     1197.051599     9.199140"
      ]
     },
     "execution_count": 764,
     "metadata": {},
     "output_type": "execute_result"
    }
   ],
   "source": [
    "# Filter out the rows with Invoice values that start with 'C' and create a new column 'Transaction_Status' indicating the status of the transaction\n",
    "df['Transaction_Status'] = np.where(df['Invoice'].astype(str).str.startswith('C'), 'Cancelled', 'Completed')\n",
    "\n",
    "# Analyze the 'Cancelled' transactions\n",
    "cancelled_transactions = df[df['Transaction_Status'] == 'Cancelled']\n",
    "cancelled_transactions.describe().drop(['Customer ID', 'InvoiceDate'], axis=1)"
   ]
  },
  {
   "cell_type": "code",
   "execution_count": 765,
   "metadata": {},
   "outputs": [
    {
     "data": {
      "text/plain": [
       "2.128154640232781"
      ]
     },
     "execution_count": 765,
     "metadata": {},
     "output_type": "execute_result"
    }
   ],
   "source": [
    "# Cancelled transactions percentage\n",
    "cancelled_percentage = (cancelled_transactions.shape[0] / df.shape[0]) * 100\n",
    "cancelled_percentage"
   ]
  },
  {
   "cell_type": "markdown",
   "metadata": {},
   "source": [
    "### Inferences\n",
    "\n",
    "The strategy is to retain these cancelled transactions in the dataset, marking them distinctly to facilitate further analysis. This approach will enhance the clustering process by incorporating patterns and trends observed in cancellation data, which might represent certain customer behaviors or preferences."
   ]
  },
  {
   "cell_type": "markdown",
   "metadata": {},
   "source": [
    "### Cleaning Description Column"
   ]
  },
  {
   "cell_type": "code",
   "execution_count": 766,
   "metadata": {},
   "outputs": [
    {
     "data": {
      "image/png": "[encoded data removed]",
      "text/plain": [
       "<Figure size 1200x800 with 1 Axes>"
      ]
     },
     "metadata": {},
     "output_type": "display_data"
    }
   ],
   "source": [
    "# Calculate the occurrence of each unique description and sort them\n",
    "description_counts = df['Description'].value_counts()\n",
    "\n",
    "# Get the top 30 descriptions\n",
    "top_30_descriptions = description_counts[:30]\n",
    "\n",
    "# Plotting\n",
    "plt.figure(figsize=(12,8))\n",
    "plt.barh(top_30_descriptions.index[::-1], top_30_descriptions.values[::-1], color='#1C9BF9')\n",
    "\n",
    "# Adding labels and title\n",
    "plt.xlabel('Number of Occurrences')\n",
    "plt.ylabel('Description')\n",
    "plt.title('Top 30 Most Frequent Descriptions')\n",
    "\n",
    "# Show the plot\n",
    "plt.show()"
   ]
  },
  {
   "cell_type": "code",
   "execution_count": 767,
   "metadata": {},
   "outputs": [
    {
     "name": "stdout",
     "output_type": "stream",
     "text": [
      "Unique descriptions containing lowercase letters:\n",
      "--------------------------------------------------\n",
      "BAG 500g SWIRLY MARBLES\n",
      "POLYESTER FILLER PAD 45x45cm\n",
      "POLYESTER FILLER PAD 45x30cm\n",
      "POLYESTER FILLER PAD 40x40cm\n",
      "FRENCH BLUE METAL DOOR SIGN No\n",
      "BAG 250g SWIRLY MARBLES\n",
      "BAG 125g SWIRLY MARBLES\n",
      "3 TRADITIONAl BISCUIT CUTTERS  SET\n",
      "NUMBER TILE COTTAGE GARDEN No\n",
      "FOLK ART GREETING CARD,pack/12\n",
      "ESSENTIAL BALM 3.5g TIN IN ENVELOPE\n",
      "POLYESTER FILLER PAD 65CMx65CM\n",
      "NUMBER TILE VINTAGE FONT No \n",
      "POLYESTER FILLER PAD 30CMx30CM\n",
      "POLYESTER FILLER PAD 60x40cm\n",
      "FLOWERS HANDBAG blue and orange\n",
      "Next Day Carriage\n",
      "THE KING GIFT BAG 25x24x12cm\n",
      "High Resolution Image\n"
     ]
    }
   ],
   "source": [
    "# Finding unique descriptions containing lowercase letters\n",
    "lowercase_descriptions = df['Description'].unique()\n",
    "lowercase_descriptions = [desc for desc in lowercase_descriptions if any(c.islower() for c in str(desc))]\n",
    "\n",
    "print(\"Unique descriptions containing lowercase letters:\")\n",
    "print(\"-\" * 50)\n",
    "for desc in lowercase_descriptions:\n",
    "    print(desc)"
   ]
  },
  {
   "cell_type": "code",
   "execution_count": 768,
   "metadata": {},
   "outputs": [
    {
     "name": "stdout",
     "output_type": "stream",
     "text": [
      "Number of records with service descriptions: 83\n",
      "Percentage of records with service descriptions: 0.02%\n"
     ]
    }
   ],
   "source": [
    "# Calculating the number and percentage of records with service descriptions\n",
    "service_descriptions = [\"Next Day Carriage\", \"High Resolution Image\"]\n",
    "\n",
    "number_service_descriptions = df[df['Description'].isin(service_descriptions)].shape[0]\n",
    "percentage_service_descriptions = (number_service_descriptions / df.shape[0]) * 100\n",
    "print(f\"Number of records with service descriptions: {number_service_descriptions}\")\n",
    "print(f\"Percentage of records with service descriptions: {percentage_service_descriptions:.2f}%\")\n",
    "\n",
    "# Removing rows with descriptions containing service descriptions\n",
    "df = df[~df['Description'].isin(service_descriptions)]"
   ]
  },
  {
   "cell_type": "code",
   "execution_count": 769,
   "metadata": {},
   "outputs": [
    {
     "data": {
      "text/plain": [
       "399606"
      ]
     },
     "execution_count": 769,
     "metadata": {},
     "output_type": "execute_result"
    }
   ],
   "source": [
    "df.shape[0]"
   ]
  },
  {
   "cell_type": "markdown",
   "metadata": {},
   "source": [
    "## Inferences\n",
    "\n",
    "- The most frequent descriptions are generally household items, particularly those associated with kitchenware, lunch bags, and decorative items.\n",
    "\n",
    "- All the descriptions are in uppercase, which might be a standardized format for entering product descriptions in the database. It would be prudent to check if there are descriptions entered in lowercase or a mix of case styles.\n",
    "\n",
    "- Upon reviewing the descriptions that contain lowecase characters, it is evident that some entries are not product descriptions, such as \"Next Day Carriage\" and \"High Resolution Image\". Therefore, we removed rows with this descriptions."
   ]
  },
  {
   "cell_type": "markdown",
   "metadata": {},
   "source": [
    "## Comparing Stock Codes with Descriptions"
   ]
  },
  {
   "cell_type": "code",
   "execution_count": 770,
   "metadata": {},
   "outputs": [
    {
     "data": {
      "text/plain": [
       "{'Invoice': 21784,\n",
       " 'StockCode': 3674,\n",
       " 'Description': 3886,\n",
       " 'Quantity': 432,\n",
       " 'InvoiceDate': 20132,\n",
       " 'Price': 370,\n",
       " 'Customer ID': 4363,\n",
       " 'Country': 37,\n",
       " 'Transaction_Status': 2}"
      ]
     },
     "execution_count": 770,
     "metadata": {},
     "output_type": "execute_result"
    }
   ],
   "source": [
    "# Unique values in each column\n",
    "{columns: len(df[columns].unique()) for columns in df.columns}"
   ]
  },
  {
   "cell_type": "code",
   "execution_count": 771,
   "metadata": {},
   "outputs": [
    {
     "name": "stdout",
     "output_type": "stream",
     "text": [
      "Descriptions shared by multiple StockCodes:\n",
      "--------------------------------------------------\n",
      "                          Description  StockCode_Count\n",
      "827      COLOURING PENCILS BROWN TUBE                2\n",
      "829        COLUMBIAN CANDLE RECTANGLE                2\n",
      "830            COLUMBIAN CANDLE ROUND                2\n",
      "1080  EAU DE NILE JEWELLED PHOTOFRAME                2\n",
      "1324     FRENCH FLORAL CUSHION COVER                 2\n",
      "1327    FRENCH LATTICE CUSHION COVER                 2\n",
      "1345              FROSTED WHITE BASE                 2\n",
      "2018   METAL SIGN,CUPCAKE SINGLE HOOK                3\n",
      "2332  PAPER LANTERN 9 POINT SNOW STAR                2\n",
      "2461    PINK FAIRY CAKE CUSHION COVER                2\n",
      "2466    PINK FLOCK GLASS CANDLEHOLDER                2\n",
      "2472       PINK FLOWERS RABBIT EASTER                2\n",
      "2796          RETRO PLASTIC 70'S TRAY                2\n",
      "2797         RETRO PLASTIC DAISY TRAY                2\n",
      "2799         RETRO PLASTIC POLKA TRAY                2\n",
      "2872     ROUND BLUE CLOCK WITH SUCKER                2\n",
      "3331    SQUARE CHERRY BLOSSOM CABINET                2\n",
      "3355         STORAGE TIN VINTAGE LEAF                2\n",
      "3685      WHITE BAMBOO RIBS LAMPSHADE                2\n",
      "\n",
      "StockCode details with shared descriptions:\n",
      "--------------------------------------------------\n",
      "       StockCode                      Description\n",
      "741        10133     COLOURING PENCILS BROWN TUBE\n",
      "3330       10135     COLOURING PENCILS BROWN TUBE\n",
      "3951       72133       COLUMBIAN CANDLE RECTANGLE\n",
      "12120      72131       COLUMBIAN CANDLE RECTANGLE\n",
      "7070       72130           COLUMBIAN CANDLE ROUND\n",
      "7071       72128           COLUMBIAN CANDLE ROUND\n",
      "75983     85024B  EAU DE NILE JEWELLED PHOTOFRAME\n",
      "37504     85023B  EAU DE NILE JEWELLED PHOTOFRAME\n",
      "170525     20840     FRENCH FLORAL CUSHION COVER \n",
      "93898      20837     FRENCH FLORAL CUSHION COVER \n",
      "172798     20838    FRENCH LATTICE CUSHION COVER \n",
      "172505     20835    FRENCH LATTICE CUSHION COVER \n",
      "29965      79403              FROSTED WHITE BASE \n",
      "91904      79406              FROSTED WHITE BASE \n",
      "29818     82613C   METAL SIGN,CUPCAKE SINGLE HOOK\n",
      "39555     82613A   METAL SIGN,CUPCAKE SINGLE HOOK\n",
      "9276      82613B   METAL SIGN,CUPCAKE SINGLE HOOK\n",
      "171346     23041  PAPER LANTERN 9 POINT SNOW STAR\n",
      "176849     23040  PAPER LANTERN 9 POINT SNOW STAR\n",
      "12796     47586A    PINK FAIRY CAKE CUSHION COVER\n",
      "42403     47585A    PINK FAIRY CAKE CUSHION COVER\n",
      "31758      79329    PINK FLOCK GLASS CANDLEHOLDER\n",
      "95347      79331    PINK FLOCK GLASS CANDLEHOLDER\n",
      "125020    35910B       PINK FLOWERS RABBIT EASTER\n",
      "89682     35909B       PINK FLOWERS RABBIT EASTER\n",
      "9170      79190A          RETRO PLASTIC 70'S TRAY\n",
      "64593     79192A          RETRO PLASTIC 70'S TRAY\n",
      "10013     79190D         RETRO PLASTIC DAISY TRAY\n",
      "67929     79191D         RETRO PLASTIC DAISY TRAY\n",
      "20476     79190B         RETRO PLASTIC POLKA TRAY\n",
      "10081     79191B         RETRO PLASTIC POLKA TRAY\n",
      "249672    81952B     ROUND BLUE CLOCK WITH SUCKER\n",
      "261919    81953B     ROUND BLUE CLOCK WITH SUCKER\n",
      "30554      84666    SQUARE CHERRY BLOSSOM CABINET\n",
      "14058      84665    SQUARE CHERRY BLOSSOM CABINET\n",
      "218409     23235         STORAGE TIN VINTAGE LEAF\n",
      "220213     23244         STORAGE TIN VINTAGE LEAF\n",
      "20340      40003      WHITE BAMBOO RIBS LAMPSHADE\n",
      "3093       40001      WHITE BAMBOO RIBS LAMPSHADE\n"
     ]
    }
   ],
   "source": [
    "# Ensure columns are of type string\n",
    "df['StockCode'] = df['StockCode'].astype(str)\n",
    "df['Description'] = df['Description'].astype(str)\n",
    "\n",
    "# Count how many StockCode are associated with each Description\n",
    "description_counts = df.groupby('Description')['StockCode'].nunique().reset_index()\n",
    "description_counts.rename(columns={'StockCode': 'StockCode_Count'}, inplace=True)\n",
    "\n",
    "# Filter descriptions shared by more than one StockCode\n",
    "shared_descriptions = description_counts[description_counts['StockCode_Count'] > 1]\n",
    "\n",
    "# Show shared descriptions\n",
    "print(\"Descriptions shared by multiple StockCodes:\")\n",
    "print(\"-\" * 50)\n",
    "print(shared_descriptions)\n",
    "\n",
    "# Get details of the StockCode associated with these Descriptions\n",
    "shared_desc_details = df[df['Description'].isin(shared_descriptions['Description'])][['StockCode', 'Description']].drop_duplicates().sort_values(by='Description')\n",
    "\n",
    "# Show details\n",
    "print(\"\\nStockCode details with shared descriptions:\")\n",
    "print(\"-\" * 50)\n",
    "print(shared_desc_details)"
   ]
  },
  {
   "cell_type": "code",
   "execution_count": 772,
   "metadata": {},
   "outputs": [
    {
     "name": "stdout",
     "output_type": "stream",
     "text": [
      "Stock codes with more than 1 unique description:\n",
      "--------------------------------------------------\n",
      "     StockCode  Unique_Descriptions_Count\n",
      "42      16156L                          2\n",
      "100     17107D                          3\n",
      "118      20622                          2\n",
      "170      20725                          2\n",
      "262      20914                          2\n",
      "...        ...                        ...\n",
      "3308    85184C                          2\n",
      "3309    85185B                          2\n",
      "3372    90014A                          2\n",
      "3373    90014B                          2\n",
      "3374    90014C                          2\n",
      "\n",
      "[213 rows x 2 columns]\n",
      "\n",
      "Details of the stock codes with more than 1 unique description:\n",
      "--------------------------------------------------\n",
      "       StockCode                          Description\n",
      "47284     16156L                       WRAP, CAROUSEL\n",
      "138080    16156L                        WRAP CAROUSEL\n",
      "315743    17107D         FLOWER FAIRY 5 DRAWER LINERS\n",
      "347764    17107D    FLOWER FAIRY 5 SUMMER DRAW LINERS\n",
      "6467      17107D  FLOWER FAIRY,5 SUMMER B'DRAW LINERS\n",
      "...          ...                                  ...\n",
      "37284     90014A            SILVER/MOP ORBIT NECKLACE\n",
      "28450     90014B         GOLD M PEARL  ORBIT NECKLACE\n",
      "386649    90014B           GOLD M.O.P. ORBIT NECKLACE\n",
      "504701    90014C      SILVER AND BLACK ORBIT NECKLACE\n",
      "142063    90014C          SILVER/BLACK ORBIT NECKLACE\n",
      "\n",
      "[445 rows x 2 columns]\n"
     ]
    }
   ],
   "source": [
    "# Convert StockCode to string\n",
    "df['StockCode'] = df['StockCode'].astype(str)\n",
    "\n",
    "# Group by StockCode and count the uniques Descriptions\n",
    "stock_code_description = df.groupby('StockCode')['Description'].nunique().reset_index()\n",
    "stock_code_description.rename(columns={'Description': 'Unique_Descriptions_Count'}, inplace= True)\n",
    "\n",
    "# Filtering the stock codes with more than 1 unique description\n",
    "multiple_descriptions = stock_code_description[stock_code_description['Unique_Descriptions_Count'] > 1]\n",
    "\n",
    "# Displaying the stock codes with more than 1 unique description\n",
    "print(\"Stock codes with more than 1 unique description:\")\n",
    "print(\"-\" * 50)\n",
    "\n",
    "print(multiple_descriptions)\n",
    "\n",
    "# Obtaining the details of the stock codes with more than 1 unique description\n",
    "multiple_descriptions_details = multiple_descriptions['StockCode']\n",
    "details = df[df['StockCode'].isin(multiple_descriptions_details)][['StockCode', 'Description']].drop_duplicates().sort_values(by='StockCode')\n",
    "\n",
    "print(\"\\nDetails of the stock codes with more than 1 unique description:\")\n",
    "print(\"-\" * 50)\n",
    "print(details)"
   ]
  },
  {
   "cell_type": "code",
   "execution_count": 773,
   "metadata": {},
   "outputs": [
    {
     "data": {
      "text/plain": [
       "{'Invoice': 21784,\n",
       " 'StockCode': 3674,\n",
       " 'Description': 3886,\n",
       " 'Quantity': 432,\n",
       " 'InvoiceDate': 20132,\n",
       " 'Price': 370,\n",
       " 'Customer ID': 4363,\n",
       " 'Country': 37,\n",
       " 'Transaction_Status': 2}"
      ]
     },
     "execution_count": 773,
     "metadata": {},
     "output_type": "execute_result"
    }
   ],
   "source": [
    "{columns: len(df[columns].unique()) for columns in df.columns}"
   ]
  },
  {
   "cell_type": "code",
   "execution_count": 774,
   "metadata": {},
   "outputs": [
    {
     "name": "stdout",
     "output_type": "stream",
     "text": [
      "Unique values after cleaning:\n",
      "StockCode: 3674\n",
      "Description: 3674\n",
      "No StockCode with multiple descriptions.\n",
      "There are no descriptions shared by multiple StockCode.\n"
     ]
    }
   ],
   "source": [
    "import pandas as pd\n",
    "\n",
    "# Ensure columns are of type string\n",
    "df['StockCode'] = df['StockCode'].astype(str)\n",
    "df['Description'] = df['Description'].astype(str)\n",
    "\n",
    "# Step 1: Unify multiple descriptions by selecting the most frequent one\n",
    "most_frequent_desc = df.groupby(['StockCode', 'Description']).size().reset_index(name='Count')\n",
    "most_frequent_desc = most_frequent_desc.sort_values(['StockCode', 'Count'], ascending=[True, False])\n",
    "most_frequent_desc = most_frequent_desc.groupby('StockCode').first().reset_index()[['StockCode', 'Description']]\n",
    "\n",
    "# Update the DataFrame with unified descriptions\n",
    "df = df.drop(columns=['Description']).merge(most_frequent_desc, on='StockCode', how='left')\n",
    "\n",
    "# Step 2: Identify and modify shared descriptions\n",
    "description_counts = df.groupby('Description')['StockCode'].nunique().reset_index()\n",
    "shared_descriptions = description_counts[description_counts['StockCode'] > 1]['Description']\n",
    "\n",
    "# Modify shared descriptions by adding the StockCode\n",
    "df.loc[df['Description'].isin(shared_descriptions), 'Description'] = (\n",
    "    df['Description'] + \" (\" + df['StockCode'] + \")\"\n",
    ")\n",
    "\n",
    "# Step 3: Validate results\n",
    "# Verify unique values\n",
    "print(\"Unique values after cleaning:\")\n",
    "print(f\"StockCode: {df['StockCode'].nunique()}\")\n",
    "print(f\"Description: {df['Description'].nunique()}\")\n",
    "\n",
    "# Check multiple descriptions\n",
    "stock_code_description = df.groupby('StockCode')['Description'].nunique().reset_index()\n",
    "multiple_descriptions = stock_code_description[stock_code_description['Description'] > 1]\n",
    "if multiple_descriptions.empty:\n",
    "    print(\"No StockCode with multiple descriptions.\")\n",
    "else:\n",
    "    print(\"Warning: Some StockCode still have multiple descriptions:\")\n",
    "    print(multiple_descriptions)\n",
    "\n",
    "# Check shared descriptions\n",
    "description_counts = df.groupby('Description')['StockCode'].nunique().reset_index()\n",
    "shared_descriptions = description_counts[description_counts['StockCode'] > 1]\n",
    "if shared_descriptions.empty:\n",
    "    print(\"There are no descriptions shared by multiple StockCode.\")\n",
    "else:\n",
    "    print(\"Warning: Some descriptions are still shared:\")\n",
    "    print(shared_descriptions)"
   ]
  },
  {
   "cell_type": "markdown",
   "metadata": {},
   "source": [
    "## Inferences:\n",
    "\n",
    "- **StockCodes with multiple Descriptions:** 213 StockCodes have multiple descriptions (196 with 2, 15 with 3, 2 with 4), causing extra Description values\n",
    "- **Descriptions shared by multiple StockCodes:** 19 descriptions are used by 39 StockCodes\n",
    "\n",
    "The presence of multiple descriptions per StockCode and shared descriptions across StockCode led to data quality issues, complicating product-level analyses such as identifying top-selling items.\n",
    "\n",
    "### Strategy:\n",
    "\n",
    "- For the 213 StockCodes with multiple descriptions, we selected the most frequent Description for each StockCode using a group-by operation and sorting by count.\n",
    "- For the 19 descriptions shared across 39 StockCode, we appended the StockCode in parentheses to create unique descriptions (e.g., \"COLOURING PENCILS BROWN TUBE (10133)\" and \"COLOURING PENCILS BROWN TUBE (10135)\")."
   ]
  },
  {
   "cell_type": "markdown",
   "metadata": {},
   "source": [
    "## Treating Zero Unit Prices"
   ]
  },
  {
   "cell_type": "markdown",
   "metadata": {},
   "source": [
    "### "
   ]
  },
  {
   "cell_type": "code",
   "execution_count": 775,
   "metadata": {},
   "outputs": [
    {
     "data": {
      "text/plain": [
       "count    399606.000000\n",
       "mean          2.904957\n",
       "std           4.448796\n",
       "min           0.000000\n",
       "25%           1.250000\n",
       "50%           1.950000\n",
       "75%           3.750000\n",
       "max         649.500000\n",
       "Name: Price, dtype: float64"
      ]
     },
     "execution_count": 775,
     "metadata": {},
     "output_type": "execute_result"
    }
   ],
   "source": [
    "df['Price'].describe()"
   ]
  },
  {
   "cell_type": "code",
   "execution_count": 776,
   "metadata": {},
   "outputs": [
    {
     "data": {
      "text/html": [
       "<div>\n",
       "<style scoped>\n",
       "    .dataframe tbody tr th:only-of-type {\n",
       "        vertical-align: middle;\n",
       "    }\n",
       "\n",
       "    .dataframe tbody tr th {\n",
       "        vertical-align: top;\n",
       "    }\n",
       "\n",
       "    .dataframe thead th {\n",
       "        text-align: right;\n",
       "    }\n",
       "</style>\n",
       "<table border=\"1\" class=\"dataframe\">\n",
       "  <thead>\n",
       "    <tr style=\"text-align: right;\">\n",
       "      <th></th>\n",
       "      <th>Quantity</th>\n",
       "    </tr>\n",
       "  </thead>\n",
       "  <tbody>\n",
       "    <tr>\n",
       "      <th>count</th>\n",
       "      <td>33.000000</td>\n",
       "    </tr>\n",
       "    <tr>\n",
       "      <th>mean</th>\n",
       "      <td>420.515152</td>\n",
       "    </tr>\n",
       "    <tr>\n",
       "      <th>min</th>\n",
       "      <td>1.000000</td>\n",
       "    </tr>\n",
       "    <tr>\n",
       "      <th>25%</th>\n",
       "      <td>2.000000</td>\n",
       "    </tr>\n",
       "    <tr>\n",
       "      <th>50%</th>\n",
       "      <td>11.000000</td>\n",
       "    </tr>\n",
       "    <tr>\n",
       "      <th>75%</th>\n",
       "      <td>36.000000</td>\n",
       "    </tr>\n",
       "    <tr>\n",
       "      <th>max</th>\n",
       "      <td>12540.000000</td>\n",
       "    </tr>\n",
       "    <tr>\n",
       "      <th>std</th>\n",
       "      <td>2176.713608</td>\n",
       "    </tr>\n",
       "  </tbody>\n",
       "</table>\n",
       "</div>"
      ],
      "text/plain": [
       "           Quantity\n",
       "count     33.000000\n",
       "mean     420.515152\n",
       "min        1.000000\n",
       "25%        2.000000\n",
       "50%       11.000000\n",
       "75%       36.000000\n",
       "max    12540.000000\n",
       "std     2176.713608"
      ]
     },
     "execution_count": 776,
     "metadata": {},
     "output_type": "execute_result"
    }
   ],
   "source": [
    "df[df['Price']==0].describe()[['Quantity']]"
   ]
  },
  {
   "cell_type": "code",
   "execution_count": 777,
   "metadata": {},
   "outputs": [
    {
     "data": {
      "text/html": [
       "<div>\n",
       "<style scoped>\n",
       "    .dataframe tbody tr th:only-of-type {\n",
       "        vertical-align: middle;\n",
       "    }\n",
       "\n",
       "    .dataframe tbody tr th {\n",
       "        vertical-align: top;\n",
       "    }\n",
       "\n",
       "    .dataframe thead th {\n",
       "        text-align: right;\n",
       "    }\n",
       "</style>\n",
       "<table border=\"1\" class=\"dataframe\">\n",
       "  <thead>\n",
       "    <tr style=\"text-align: right;\">\n",
       "      <th></th>\n",
       "      <th>Invoice</th>\n",
       "      <th>StockCode</th>\n",
       "      <th>Quantity</th>\n",
       "      <th>InvoiceDate</th>\n",
       "      <th>Price</th>\n",
       "      <th>Customer ID</th>\n",
       "      <th>Country</th>\n",
       "      <th>Transaction_Status</th>\n",
       "      <th>Description</th>\n",
       "    </tr>\n",
       "  </thead>\n",
       "  <tbody>\n",
       "    <tr>\n",
       "      <th>6816</th>\n",
       "      <td>537197</td>\n",
       "      <td>22841</td>\n",
       "      <td>1</td>\n",
       "      <td>2010-12-05 14:02:00</td>\n",
       "      <td>0.0</td>\n",
       "      <td>12647.0</td>\n",
       "      <td>Germany</td>\n",
       "      <td>Completed</td>\n",
       "      <td>ROUND CAKE TIN VINTAGE GREEN</td>\n",
       "    </tr>\n",
       "    <tr>\n",
       "      <th>22536</th>\n",
       "      <td>539263</td>\n",
       "      <td>22580</td>\n",
       "      <td>4</td>\n",
       "      <td>2010-12-16 14:36:00</td>\n",
       "      <td>0.0</td>\n",
       "      <td>16560.0</td>\n",
       "      <td>United Kingdom</td>\n",
       "      <td>Completed</td>\n",
       "      <td>ADVENT CALENDAR GINGHAM SACK</td>\n",
       "    </tr>\n",
       "    <tr>\n",
       "      <th>25442</th>\n",
       "      <td>539722</td>\n",
       "      <td>22423</td>\n",
       "      <td>10</td>\n",
       "      <td>2010-12-21 13:45:00</td>\n",
       "      <td>0.0</td>\n",
       "      <td>14911.0</td>\n",
       "      <td>EIRE</td>\n",
       "      <td>Completed</td>\n",
       "      <td>REGENCY CAKESTAND 3 TIER</td>\n",
       "    </tr>\n",
       "    <tr>\n",
       "      <th>29243</th>\n",
       "      <td>540372</td>\n",
       "      <td>22090</td>\n",
       "      <td>24</td>\n",
       "      <td>2011-01-06 16:41:00</td>\n",
       "      <td>0.0</td>\n",
       "      <td>13081.0</td>\n",
       "      <td>United Kingdom</td>\n",
       "      <td>Completed</td>\n",
       "      <td>PAPER BUNTING RETROSPOT</td>\n",
       "    </tr>\n",
       "    <tr>\n",
       "      <th>29245</th>\n",
       "      <td>540372</td>\n",
       "      <td>22553</td>\n",
       "      <td>24</td>\n",
       "      <td>2011-01-06 16:41:00</td>\n",
       "      <td>0.0</td>\n",
       "      <td>13081.0</td>\n",
       "      <td>United Kingdom</td>\n",
       "      <td>Completed</td>\n",
       "      <td>PLASTERS IN TIN SKULLS</td>\n",
       "    </tr>\n",
       "    <tr>\n",
       "      <th>34743</th>\n",
       "      <td>541109</td>\n",
       "      <td>22168</td>\n",
       "      <td>1</td>\n",
       "      <td>2011-01-13 15:10:00</td>\n",
       "      <td>0.0</td>\n",
       "      <td>15107.0</td>\n",
       "      <td>United Kingdom</td>\n",
       "      <td>Completed</td>\n",
       "      <td>ORGANISER WOOD ANTIQUE WHITE</td>\n",
       "    </tr>\n",
       "    <tr>\n",
       "      <th>54228</th>\n",
       "      <td>543599</td>\n",
       "      <td>84535B</td>\n",
       "      <td>16</td>\n",
       "      <td>2011-02-10 13:08:00</td>\n",
       "      <td>0.0</td>\n",
       "      <td>17560.0</td>\n",
       "      <td>United Kingdom</td>\n",
       "      <td>Completed</td>\n",
       "      <td>FAIRY CAKES NOTEBOOK A6 SIZE</td>\n",
       "    </tr>\n",
       "    <tr>\n",
       "      <th>86338</th>\n",
       "      <td>547417</td>\n",
       "      <td>22062</td>\n",
       "      <td>36</td>\n",
       "      <td>2011-03-23 10:25:00</td>\n",
       "      <td>0.0</td>\n",
       "      <td>13239.0</td>\n",
       "      <td>United Kingdom</td>\n",
       "      <td>Completed</td>\n",
       "      <td>CERAMIC BOWL WITH LOVE HEART DESIGN</td>\n",
       "    </tr>\n",
       "    <tr>\n",
       "      <th>93491</th>\n",
       "      <td>548318</td>\n",
       "      <td>22055</td>\n",
       "      <td>5</td>\n",
       "      <td>2011-03-30 12:45:00</td>\n",
       "      <td>0.0</td>\n",
       "      <td>13113.0</td>\n",
       "      <td>United Kingdom</td>\n",
       "      <td>Completed</td>\n",
       "      <td>MINI CAKE STAND  HANGING STRAWBERY</td>\n",
       "    </tr>\n",
       "    <tr>\n",
       "      <th>98139</th>\n",
       "      <td>548871</td>\n",
       "      <td>22162</td>\n",
       "      <td>2</td>\n",
       "      <td>2011-04-04 14:42:00</td>\n",
       "      <td>0.0</td>\n",
       "      <td>14410.0</td>\n",
       "      <td>United Kingdom</td>\n",
       "      <td>Completed</td>\n",
       "      <td>HEART GARLAND RUSTIC PADDED</td>\n",
       "    </tr>\n",
       "  </tbody>\n",
       "</table>\n",
       "</div>"
      ],
      "text/plain": [
       "      Invoice StockCode  Quantity         InvoiceDate  Price  Customer ID  \\\n",
       "6816   537197     22841         1 2010-12-05 14:02:00    0.0      12647.0   \n",
       "22536  539263     22580         4 2010-12-16 14:36:00    0.0      16560.0   \n",
       "25442  539722     22423        10 2010-12-21 13:45:00    0.0      14911.0   \n",
       "29243  540372     22090        24 2011-01-06 16:41:00    0.0      13081.0   \n",
       "29245  540372     22553        24 2011-01-06 16:41:00    0.0      13081.0   \n",
       "34743  541109     22168         1 2011-01-13 15:10:00    0.0      15107.0   \n",
       "54228  543599    84535B        16 2011-02-10 13:08:00    0.0      17560.0   \n",
       "86338  547417     22062        36 2011-03-23 10:25:00    0.0      13239.0   \n",
       "93491  548318     22055         5 2011-03-30 12:45:00    0.0      13113.0   \n",
       "98139  548871     22162         2 2011-04-04 14:42:00    0.0      14410.0   \n",
       "\n",
       "              Country Transaction_Status                          Description  \n",
       "6816          Germany          Completed         ROUND CAKE TIN VINTAGE GREEN  \n",
       "22536  United Kingdom          Completed         ADVENT CALENDAR GINGHAM SACK  \n",
       "25442            EIRE          Completed             REGENCY CAKESTAND 3 TIER  \n",
       "29243  United Kingdom          Completed              PAPER BUNTING RETROSPOT  \n",
       "29245  United Kingdom          Completed               PLASTERS IN TIN SKULLS  \n",
       "34743  United Kingdom          Completed        ORGANISER WOOD ANTIQUE WHITE   \n",
       "54228  United Kingdom          Completed         FAIRY CAKES NOTEBOOK A6 SIZE  \n",
       "86338  United Kingdom          Completed  CERAMIC BOWL WITH LOVE HEART DESIGN  \n",
       "93491  United Kingdom          Completed   MINI CAKE STAND  HANGING STRAWBERY  \n",
       "98139  United Kingdom          Completed          HEART GARLAND RUSTIC PADDED  "
      ]
     },
     "execution_count": 777,
     "metadata": {},
     "output_type": "execute_result"
    }
   ],
   "source": [
    "df[df['Price']==0].head(10)"
   ]
  },
  {
   "cell_type": "code",
   "execution_count": 778,
   "metadata": {},
   "outputs": [],
   "source": [
    "# Removing records with a unit price of zero to avoid potential data entry errors\n",
    "df = df[df['Price'] > 0]"
   ]
  },
  {
   "cell_type": "code",
   "execution_count": 779,
   "metadata": {},
   "outputs": [
    {
     "data": {
      "text/plain": [
       "399573"
      ]
     },
     "execution_count": 779,
     "metadata": {},
     "output_type": "execute_result"
    }
   ],
   "source": [
    "# Resetting the index of the cleaned dataset\n",
    "df.reset_index(drop=True, inplace=True)\n",
    "\n",
    "# Getting the number of rows in the dataframe\n",
    "df.shape[0]"
   ]
  },
  {
   "cell_type": "markdown",
   "metadata": {},
   "source": [
    "## Inferences\n",
    "\n",
    "- The transactions with a unit price of zero are relatively few in number (33 transactions).\n",
    "- These transactions have a large variability in the quantity of items involved, ranging from 1 to 12540, with a substantial standard deviation.\n",
    "\n",
    "Given the small number of these transactions and their potential to introduce noise in the data analysis, the strategy should be to remove these transactions from the dataset."
   ]
  },
  {
   "cell_type": "markdown",
   "metadata": {},
   "source": [
    "# Feature Engineering"
   ]
  },
  {
   "cell_type": "code",
   "execution_count": 780,
   "metadata": {},
   "outputs": [
    {
     "data": {
      "text/html": [
       "<div>\n",
       "<style scoped>\n",
       "    .dataframe tbody tr th:only-of-type {\n",
       "        vertical-align: middle;\n",
       "    }\n",
       "\n",
       "    .dataframe tbody tr th {\n",
       "        vertical-align: top;\n",
       "    }\n",
       "\n",
       "    .dataframe thead th {\n",
       "        text-align: right;\n",
       "    }\n",
       "</style>\n",
       "<table border=\"1\" class=\"dataframe\">\n",
       "  <thead>\n",
       "    <tr style=\"text-align: right;\">\n",
       "      <th></th>\n",
       "      <th>Invoice</th>\n",
       "      <th>StockCode</th>\n",
       "      <th>Quantity</th>\n",
       "      <th>InvoiceDate</th>\n",
       "      <th>Price</th>\n",
       "      <th>Customer ID</th>\n",
       "      <th>Country</th>\n",
       "      <th>Transaction_Status</th>\n",
       "      <th>Description</th>\n",
       "      <th>TotalPrice</th>\n",
       "    </tr>\n",
       "  </thead>\n",
       "  <tbody>\n",
       "    <tr>\n",
       "      <th>0</th>\n",
       "      <td>536365</td>\n",
       "      <td>85123A</td>\n",
       "      <td>6</td>\n",
       "      <td>2010-12-01 08:26:00</td>\n",
       "      <td>2.55</td>\n",
       "      <td>17850.0</td>\n",
       "      <td>United Kingdom</td>\n",
       "      <td>Completed</td>\n",
       "      <td>WHITE HANGING HEART T-LIGHT HOLDER</td>\n",
       "      <td>15.30</td>\n",
       "    </tr>\n",
       "    <tr>\n",
       "      <th>1</th>\n",
       "      <td>536365</td>\n",
       "      <td>71053</td>\n",
       "      <td>6</td>\n",
       "      <td>2010-12-01 08:26:00</td>\n",
       "      <td>3.39</td>\n",
       "      <td>17850.0</td>\n",
       "      <td>United Kingdom</td>\n",
       "      <td>Completed</td>\n",
       "      <td>WHITE METAL LANTERN</td>\n",
       "      <td>20.34</td>\n",
       "    </tr>\n",
       "    <tr>\n",
       "      <th>2</th>\n",
       "      <td>536365</td>\n",
       "      <td>84406B</td>\n",
       "      <td>8</td>\n",
       "      <td>2010-12-01 08:26:00</td>\n",
       "      <td>2.75</td>\n",
       "      <td>17850.0</td>\n",
       "      <td>United Kingdom</td>\n",
       "      <td>Completed</td>\n",
       "      <td>CREAM CUPID HEARTS COAT HANGER</td>\n",
       "      <td>22.00</td>\n",
       "    </tr>\n",
       "    <tr>\n",
       "      <th>3</th>\n",
       "      <td>536365</td>\n",
       "      <td>84029G</td>\n",
       "      <td>6</td>\n",
       "      <td>2010-12-01 08:26:00</td>\n",
       "      <td>3.39</td>\n",
       "      <td>17850.0</td>\n",
       "      <td>United Kingdom</td>\n",
       "      <td>Completed</td>\n",
       "      <td>KNITTED UNION FLAG HOT WATER BOTTLE</td>\n",
       "      <td>20.34</td>\n",
       "    </tr>\n",
       "    <tr>\n",
       "      <th>4</th>\n",
       "      <td>536365</td>\n",
       "      <td>84029E</td>\n",
       "      <td>6</td>\n",
       "      <td>2010-12-01 08:26:00</td>\n",
       "      <td>3.39</td>\n",
       "      <td>17850.0</td>\n",
       "      <td>United Kingdom</td>\n",
       "      <td>Completed</td>\n",
       "      <td>RED WOOLLY HOTTIE WHITE HEART.</td>\n",
       "      <td>20.34</td>\n",
       "    </tr>\n",
       "  </tbody>\n",
       "</table>\n",
       "</div>"
      ],
      "text/plain": [
       "  Invoice StockCode  Quantity         InvoiceDate  Price  Customer ID  \\\n",
       "0  536365    85123A         6 2010-12-01 08:26:00   2.55      17850.0   \n",
       "1  536365     71053         6 2010-12-01 08:26:00   3.39      17850.0   \n",
       "2  536365    84406B         8 2010-12-01 08:26:00   2.75      17850.0   \n",
       "3  536365    84029G         6 2010-12-01 08:26:00   3.39      17850.0   \n",
       "4  536365    84029E         6 2010-12-01 08:26:00   3.39      17850.0   \n",
       "\n",
       "          Country Transaction_Status                          Description  \\\n",
       "0  United Kingdom          Completed   WHITE HANGING HEART T-LIGHT HOLDER   \n",
       "1  United Kingdom          Completed                  WHITE METAL LANTERN   \n",
       "2  United Kingdom          Completed       CREAM CUPID HEARTS COAT HANGER   \n",
       "3  United Kingdom          Completed  KNITTED UNION FLAG HOT WATER BOTTLE   \n",
       "4  United Kingdom          Completed       RED WOOLLY HOTTIE WHITE HEART.   \n",
       "\n",
       "   TotalPrice  \n",
       "0       15.30  \n",
       "1       20.34  \n",
       "2       22.00  \n",
       "3       20.34  \n",
       "4       20.34  "
      ]
     },
     "execution_count": 780,
     "metadata": {},
     "output_type": "execute_result"
    }
   ],
   "source": [
    "# Total price of each transaction\n",
    "df['TotalPrice'] = df['Quantity'] * df['Price']\n",
    "df.head()"
   ]
  },
  {
   "cell_type": "code",
   "execution_count": 781,
   "metadata": {},
   "outputs": [
    {
     "name": "stdout",
     "output_type": "stream",
     "text": [
      "Min Date 2010-12-01 08:26:00 Max Date 2011-12-09 12:50:00\n"
     ]
    }
   ],
   "source": [
    "# First and last date of the dataset\n",
    "print(\"Min Date\", df[\"InvoiceDate\"].min(), \"Max Date\", df[\"InvoiceDate\"].max())"
   ]
  },
  {
   "cell_type": "markdown",
   "metadata": {},
   "source": [
    "## Customer Behavioral Features (RFM)"
   ]
  },
  {
   "cell_type": "markdown",
   "metadata": {},
   "source": [
    "## Recency\n",
    "\n",
    "This metric indicates how recently a customer has made a purchase. A lower recency value means the customer has purchased more recently, indicating higher engagement with the brand."
   ]
  },
  {
   "cell_type": "code",
   "execution_count": 782,
   "metadata": {},
   "outputs": [
    {
     "data": {
      "text/html": [
       "<div>\n",
       "<style scoped>\n",
       "    .dataframe tbody tr th:only-of-type {\n",
       "        vertical-align: middle;\n",
       "    }\n",
       "\n",
       "    .dataframe tbody tr th {\n",
       "        vertical-align: top;\n",
       "    }\n",
       "\n",
       "    .dataframe thead th {\n",
       "        text-align: right;\n",
       "    }\n",
       "</style>\n",
       "<table border=\"1\" class=\"dataframe\">\n",
       "  <thead>\n",
       "    <tr style=\"text-align: right;\">\n",
       "      <th></th>\n",
       "      <th>Recency</th>\n",
       "    </tr>\n",
       "    <tr>\n",
       "      <th>Customer ID</th>\n",
       "      <th></th>\n",
       "    </tr>\n",
       "  </thead>\n",
       "  <tbody>\n",
       "    <tr>\n",
       "      <th>12346.0</th>\n",
       "      <td>325</td>\n",
       "    </tr>\n",
       "    <tr>\n",
       "      <th>12347.0</th>\n",
       "      <td>1</td>\n",
       "    </tr>\n",
       "    <tr>\n",
       "      <th>12348.0</th>\n",
       "      <td>74</td>\n",
       "    </tr>\n",
       "    <tr>\n",
       "      <th>12349.0</th>\n",
       "      <td>18</td>\n",
       "    </tr>\n",
       "    <tr>\n",
       "      <th>12350.0</th>\n",
       "      <td>309</td>\n",
       "    </tr>\n",
       "  </tbody>\n",
       "</table>\n",
       "</div>"
      ],
      "text/plain": [
       "             Recency\n",
       "Customer ID         \n",
       "12346.0          325\n",
       "12347.0            1\n",
       "12348.0           74\n",
       "12349.0           18\n",
       "12350.0          309"
      ]
     },
     "execution_count": 782,
     "metadata": {},
     "output_type": "execute_result"
    }
   ],
   "source": [
    "# Recency calculation and customer data creation\n",
    "today_date = df.agg({\"InvoiceDate\":\"max\"})\n",
    "\n",
    "# Calculate the number of days since the last purchase\n",
    "customer_data = (today_date - df.groupby(\"Customer ID\") \\\n",
    "           .agg({\"InvoiceDate\":\"max\"})) \\\n",
    "            .rename(columns = {\"InvoiceDate\":\"Recency\"})\n",
    "\n",
    "customer_data[\"Recency\"] = customer_data[\"Recency\"] \\\n",
    "    .apply(lambda x: x.days)\n",
    "\n",
    "customer_data.head()"
   ]
  },
  {
   "cell_type": "markdown",
   "metadata": {},
   "source": [
    "## Frecuency\n",
    "\n",
    "There are two features that quantify the frequency of a customer's engagement with the retailer:\n",
    "\n",
    "- **Total Transactions:** This feature represents the total number of transactions made by a customer. It helps in understanding the engagement level of a customer with the retailer.\n",
    "\n",
    "- **Total Products Purchased:** This feature indicates the total number of products (sum of quantities) purchased by a customer across all transactions. It gives an insight into the customer's buying behavior in terms of the volume of products purchased."
   ]
  },
  {
   "cell_type": "code",
   "execution_count": 783,
   "metadata": {},
   "outputs": [
    {
     "data": {
      "text/html": [
       "<div>\n",
       "<style scoped>\n",
       "    .dataframe tbody tr th:only-of-type {\n",
       "        vertical-align: middle;\n",
       "    }\n",
       "\n",
       "    .dataframe tbody tr th {\n",
       "        vertical-align: top;\n",
       "    }\n",
       "\n",
       "    .dataframe thead th {\n",
       "        text-align: right;\n",
       "    }\n",
       "</style>\n",
       "<table border=\"1\" class=\"dataframe\">\n",
       "  <thead>\n",
       "    <tr style=\"text-align: right;\">\n",
       "      <th></th>\n",
       "      <th>Customer ID</th>\n",
       "      <th>Recency</th>\n",
       "      <th>Total_Transactions</th>\n",
       "      <th>Total_Products_Purchased</th>\n",
       "    </tr>\n",
       "  </thead>\n",
       "  <tbody>\n",
       "    <tr>\n",
       "      <th>0</th>\n",
       "      <td>12346.0</td>\n",
       "      <td>325</td>\n",
       "      <td>2</td>\n",
       "      <td>0</td>\n",
       "    </tr>\n",
       "    <tr>\n",
       "      <th>1</th>\n",
       "      <td>12347.0</td>\n",
       "      <td>1</td>\n",
       "      <td>7</td>\n",
       "      <td>2458</td>\n",
       "    </tr>\n",
       "    <tr>\n",
       "      <th>2</th>\n",
       "      <td>12348.0</td>\n",
       "      <td>74</td>\n",
       "      <td>4</td>\n",
       "      <td>2332</td>\n",
       "    </tr>\n",
       "    <tr>\n",
       "      <th>3</th>\n",
       "      <td>12349.0</td>\n",
       "      <td>18</td>\n",
       "      <td>1</td>\n",
       "      <td>630</td>\n",
       "    </tr>\n",
       "    <tr>\n",
       "      <th>4</th>\n",
       "      <td>12350.0</td>\n",
       "      <td>309</td>\n",
       "      <td>1</td>\n",
       "      <td>196</td>\n",
       "    </tr>\n",
       "  </tbody>\n",
       "</table>\n",
       "</div>"
      ],
      "text/plain": [
       "   Customer ID  Recency  Total_Transactions  Total_Products_Purchased\n",
       "0      12346.0      325                   2                         0\n",
       "1      12347.0        1                   7                      2458\n",
       "2      12348.0       74                   4                      2332\n",
       "3      12349.0       18                   1                       630\n",
       "4      12350.0      309                   1                       196"
      ]
     },
     "execution_count": 783,
     "metadata": {},
     "output_type": "execute_result"
    }
   ],
   "source": [
    "# Calculate the total number of transactions made by each customer\n",
    "total_transactions = df.groupby('Customer ID')['Invoice'] \\\n",
    "                    .nunique() \\\n",
    "                        .reset_index()\n",
    "total_transactions.rename(columns={'Invoice': 'Total_Transactions'}, inplace=True)\n",
    "\n",
    "# Calculate the total number of products purchased by each customer\n",
    "total_products_purchased = df.groupby('Customer ID')['Quantity'] \\\n",
    "                            .sum() \\\n",
    "                                .reset_index()\n",
    "total_products_purchased.rename(columns={'Quantity': 'Total_Products_Purchased'}, inplace=True)\n",
    "\n",
    "# Merge the new features into the customer_data dataframe\n",
    "customer_data = pd.merge(customer_data, total_transactions, on='Customer ID')\n",
    "customer_data = pd.merge(customer_data, total_products_purchased, on='Customer ID')\n",
    "\n",
    "# Display the first few rows of the customer_data dataframe\n",
    "customer_data.head()"
   ]
  },
  {
   "cell_type": "markdown",
   "metadata": {},
   "source": [
    "## Monetary\n",
    "\n",
    "There are two features that represent the monetary aspect of customer's transactions:\n",
    "\n",
    "- **Total Spend:** This feature represents the total amount of money spent by each customer. It is calculated as the sum of the product of UnitPrice and Quantity for all transactions made by a customer. This feature is crucial as it helps in identifying the total revenue generated by each customer, which is a direct indicator of a customer's value to the business.\n",
    "\n",
    "- **Average Transaction Value:** This feature is calculated as the **Total Spend** divided by the Total Transactions for each customer. It indicates the average value of a transaction carried out by a customer. This metric is useful in understanding the spending behavior of customers per transaction, which can assist in tailoring marketing strategies and offers to different customer segments based on their average spending patterns."
   ]
  },
  {
   "cell_type": "code",
   "execution_count": 784,
   "metadata": {},
   "outputs": [
    {
     "data": {
      "text/html": [
       "<div>\n",
       "<style scoped>\n",
       "    .dataframe tbody tr th:only-of-type {\n",
       "        vertical-align: middle;\n",
       "    }\n",
       "\n",
       "    .dataframe tbody tr th {\n",
       "        vertical-align: top;\n",
       "    }\n",
       "\n",
       "    .dataframe thead th {\n",
       "        text-align: right;\n",
       "    }\n",
       "</style>\n",
       "<table border=\"1\" class=\"dataframe\">\n",
       "  <thead>\n",
       "    <tr style=\"text-align: right;\">\n",
       "      <th></th>\n",
       "      <th>Customer ID</th>\n",
       "      <th>Recency</th>\n",
       "      <th>Total_Transactions</th>\n",
       "      <th>Total_Products_Purchased</th>\n",
       "      <th>Total_Spend</th>\n",
       "      <th>Average_Transaction_Value</th>\n",
       "    </tr>\n",
       "  </thead>\n",
       "  <tbody>\n",
       "    <tr>\n",
       "      <th>0</th>\n",
       "      <td>12346.0</td>\n",
       "      <td>325</td>\n",
       "      <td>2</td>\n",
       "      <td>0</td>\n",
       "      <td>0.00</td>\n",
       "      <td>0.000000</td>\n",
       "    </tr>\n",
       "    <tr>\n",
       "      <th>1</th>\n",
       "      <td>12347.0</td>\n",
       "      <td>1</td>\n",
       "      <td>7</td>\n",
       "      <td>2458</td>\n",
       "      <td>4310.00</td>\n",
       "      <td>615.714286</td>\n",
       "    </tr>\n",
       "    <tr>\n",
       "      <th>2</th>\n",
       "      <td>12348.0</td>\n",
       "      <td>74</td>\n",
       "      <td>4</td>\n",
       "      <td>2332</td>\n",
       "      <td>1437.24</td>\n",
       "      <td>359.310000</td>\n",
       "    </tr>\n",
       "    <tr>\n",
       "      <th>3</th>\n",
       "      <td>12349.0</td>\n",
       "      <td>18</td>\n",
       "      <td>1</td>\n",
       "      <td>630</td>\n",
       "      <td>1457.55</td>\n",
       "      <td>1457.550000</td>\n",
       "    </tr>\n",
       "    <tr>\n",
       "      <th>4</th>\n",
       "      <td>12350.0</td>\n",
       "      <td>309</td>\n",
       "      <td>1</td>\n",
       "      <td>196</td>\n",
       "      <td>294.40</td>\n",
       "      <td>294.400000</td>\n",
       "    </tr>\n",
       "  </tbody>\n",
       "</table>\n",
       "</div>"
      ],
      "text/plain": [
       "   Customer ID  Recency  Total_Transactions  Total_Products_Purchased  \\\n",
       "0      12346.0      325                   2                         0   \n",
       "1      12347.0        1                   7                      2458   \n",
       "2      12348.0       74                   4                      2332   \n",
       "3      12349.0       18                   1                       630   \n",
       "4      12350.0      309                   1                       196   \n",
       "\n",
       "   Total_Spend  Average_Transaction_Value  \n",
       "0         0.00                   0.000000  \n",
       "1      4310.00                 615.714286  \n",
       "2      1437.24                 359.310000  \n",
       "3      1457.55                1457.550000  \n",
       "4       294.40                 294.400000  "
      ]
     },
     "execution_count": 784,
     "metadata": {},
     "output_type": "execute_result"
    }
   ],
   "source": [
    "# Calculate the total spend by each customer\n",
    "total_spend = df.groupby('Customer ID')['TotalPrice'] \\\n",
    "            .sum() \\\n",
    "                .reset_index()\n",
    "\n",
    "total_spend.rename(columns={'TotalPrice': 'Total_Spend'}, inplace=True)\n",
    "\n",
    "# Calculate the average transaction value for each customer\n",
    "average_transaction_value = total_spend.merge(total_transactions, on='Customer ID')\n",
    "average_transaction_value['Average_Transaction_Value'] = average_transaction_value['Total_Spend'] / average_transaction_value['Total_Transactions']\n",
    "\n",
    "# Merge the new features into the customer_data dataframe\n",
    "customer_data = pd.merge(customer_data, total_spend, on='Customer ID')\n",
    "customer_data = pd.merge(customer_data, average_transaction_value[['Customer ID', 'Average_Transaction_Value']], on='Customer ID')\n",
    "\n",
    "# Display the first few rows of the customer_data dataframe\n",
    "customer_data.head()"
   ]
  },
  {
   "cell_type": "code",
   "execution_count": 785,
   "metadata": {},
   "outputs": [
    {
     "data": {
      "text/html": [
       "<div>\n",
       "<style scoped>\n",
       "    .dataframe tbody tr th:only-of-type {\n",
       "        vertical-align: middle;\n",
       "    }\n",
       "\n",
       "    .dataframe tbody tr th {\n",
       "        vertical-align: top;\n",
       "    }\n",
       "\n",
       "    .dataframe thead th {\n",
       "        text-align: right;\n",
       "    }\n",
       "</style>\n",
       "<table border=\"1\" class=\"dataframe\">\n",
       "  <thead>\n",
       "    <tr style=\"text-align: right;\">\n",
       "      <th></th>\n",
       "      <th>Customer ID</th>\n",
       "      <th>Recency</th>\n",
       "      <th>Total_Transactions</th>\n",
       "      <th>Total_Products_Purchased</th>\n",
       "      <th>Total_Spend</th>\n",
       "      <th>Average_Transaction_Value</th>\n",
       "      <th>Unique_Products_Purchased</th>\n",
       "    </tr>\n",
       "  </thead>\n",
       "  <tbody>\n",
       "    <tr>\n",
       "      <th>0</th>\n",
       "      <td>12346.0</td>\n",
       "      <td>325</td>\n",
       "      <td>2</td>\n",
       "      <td>0</td>\n",
       "      <td>0.00</td>\n",
       "      <td>0.000000</td>\n",
       "      <td>1</td>\n",
       "    </tr>\n",
       "    <tr>\n",
       "      <th>1</th>\n",
       "      <td>12347.0</td>\n",
       "      <td>1</td>\n",
       "      <td>7</td>\n",
       "      <td>2458</td>\n",
       "      <td>4310.00</td>\n",
       "      <td>615.714286</td>\n",
       "      <td>103</td>\n",
       "    </tr>\n",
       "    <tr>\n",
       "      <th>2</th>\n",
       "      <td>12348.0</td>\n",
       "      <td>74</td>\n",
       "      <td>4</td>\n",
       "      <td>2332</td>\n",
       "      <td>1437.24</td>\n",
       "      <td>359.310000</td>\n",
       "      <td>21</td>\n",
       "    </tr>\n",
       "    <tr>\n",
       "      <th>3</th>\n",
       "      <td>12349.0</td>\n",
       "      <td>18</td>\n",
       "      <td>1</td>\n",
       "      <td>630</td>\n",
       "      <td>1457.55</td>\n",
       "      <td>1457.550000</td>\n",
       "      <td>72</td>\n",
       "    </tr>\n",
       "    <tr>\n",
       "      <th>4</th>\n",
       "      <td>12350.0</td>\n",
       "      <td>309</td>\n",
       "      <td>1</td>\n",
       "      <td>196</td>\n",
       "      <td>294.40</td>\n",
       "      <td>294.400000</td>\n",
       "      <td>16</td>\n",
       "    </tr>\n",
       "  </tbody>\n",
       "</table>\n",
       "</div>"
      ],
      "text/plain": [
       "   Customer ID  Recency  Total_Transactions  Total_Products_Purchased  \\\n",
       "0      12346.0      325                   2                         0   \n",
       "1      12347.0        1                   7                      2458   \n",
       "2      12348.0       74                   4                      2332   \n",
       "3      12349.0       18                   1                       630   \n",
       "4      12350.0      309                   1                       196   \n",
       "\n",
       "   Total_Spend  Average_Transaction_Value  Unique_Products_Purchased  \n",
       "0         0.00                   0.000000                          1  \n",
       "1      4310.00                 615.714286                        103  \n",
       "2      1437.24                 359.310000                         21  \n",
       "3      1457.55                1457.550000                         72  \n",
       "4       294.40                 294.400000                         16  "
      ]
     },
     "execution_count": 785,
     "metadata": {},
     "output_type": "execute_result"
    }
   ],
   "source": [
    "# Calculate the number of unique products purchased by each customer\n",
    "unique_products_purchased = df.groupby('Customer ID')['StockCode'] \\\n",
    "                            .nunique() \\\n",
    "                                .reset_index()\n",
    "unique_products_purchased.rename(columns={'StockCode': 'Unique_Products_Purchased'}, inplace=True)\n",
    "\n",
    "# Merge the new feature into the customer_data dataframe\n",
    "customer_data = pd.merge(customer_data, unique_products_purchased, on='Customer ID')\n",
    "\n",
    "# Display the first few rows of the customer_data dataframe\n",
    "customer_data.head()"
   ]
  },
  {
   "cell_type": "markdown",
   "metadata": {},
   "source": [
    "## Cancellation Insights\n",
    "\n",
    "- **Cancellation Frequency:** This metric represents the total number of transactions a customer has canceled. Understanding the frequency of cancellations can help us identify customers who are more likely to cancel transactions. This could be an indicator of dissatisfaction or other issues, and understanding this can help us tailor strategies to reduce cancellations and enhance customer satisfaction.\n",
    "\n",
    "- **Cancellation Rate:** This represents the proportion of transactions that a customer has canceled out of all their transactions. This metric gives a normalized view of cancellation behavior. A high cancellation rate might be indicative of an unsatisfied customer segment. By identifying these segments, we can develop targeted strategies to improve their shopping experience and potentially reduce the cancellation rate."
   ]
  },
  {
   "cell_type": "code",
   "execution_count": 786,
   "metadata": {},
   "outputs": [
    {
     "data": {
      "text/html": [
       "<div>\n",
       "<style scoped>\n",
       "    .dataframe tbody tr th:only-of-type {\n",
       "        vertical-align: middle;\n",
       "    }\n",
       "\n",
       "    .dataframe tbody tr th {\n",
       "        vertical-align: top;\n",
       "    }\n",
       "\n",
       "    .dataframe thead th {\n",
       "        text-align: right;\n",
       "    }\n",
       "</style>\n",
       "<table border=\"1\" class=\"dataframe\">\n",
       "  <thead>\n",
       "    <tr style=\"text-align: right;\">\n",
       "      <th></th>\n",
       "      <th>Customer ID</th>\n",
       "      <th>Recency</th>\n",
       "      <th>Total_Transactions</th>\n",
       "      <th>Total_Products_Purchased</th>\n",
       "      <th>Total_Spend</th>\n",
       "      <th>Average_Transaction_Value</th>\n",
       "      <th>Unique_Products_Purchased</th>\n",
       "      <th>Cancellation_Frequency</th>\n",
       "      <th>Cancellation_Rate</th>\n",
       "    </tr>\n",
       "  </thead>\n",
       "  <tbody>\n",
       "    <tr>\n",
       "      <th>0</th>\n",
       "      <td>12346.0</td>\n",
       "      <td>325</td>\n",
       "      <td>2</td>\n",
       "      <td>0</td>\n",
       "      <td>0.00</td>\n",
       "      <td>0.000000</td>\n",
       "      <td>1</td>\n",
       "      <td>1.0</td>\n",
       "      <td>0.5</td>\n",
       "    </tr>\n",
       "    <tr>\n",
       "      <th>1</th>\n",
       "      <td>12347.0</td>\n",
       "      <td>1</td>\n",
       "      <td>7</td>\n",
       "      <td>2458</td>\n",
       "      <td>4310.00</td>\n",
       "      <td>615.714286</td>\n",
       "      <td>103</td>\n",
       "      <td>0.0</td>\n",
       "      <td>0.0</td>\n",
       "    </tr>\n",
       "    <tr>\n",
       "      <th>2</th>\n",
       "      <td>12348.0</td>\n",
       "      <td>74</td>\n",
       "      <td>4</td>\n",
       "      <td>2332</td>\n",
       "      <td>1437.24</td>\n",
       "      <td>359.310000</td>\n",
       "      <td>21</td>\n",
       "      <td>0.0</td>\n",
       "      <td>0.0</td>\n",
       "    </tr>\n",
       "    <tr>\n",
       "      <th>3</th>\n",
       "      <td>12349.0</td>\n",
       "      <td>18</td>\n",
       "      <td>1</td>\n",
       "      <td>630</td>\n",
       "      <td>1457.55</td>\n",
       "      <td>1457.550000</td>\n",
       "      <td>72</td>\n",
       "      <td>0.0</td>\n",
       "      <td>0.0</td>\n",
       "    </tr>\n",
       "    <tr>\n",
       "      <th>4</th>\n",
       "      <td>12350.0</td>\n",
       "      <td>309</td>\n",
       "      <td>1</td>\n",
       "      <td>196</td>\n",
       "      <td>294.40</td>\n",
       "      <td>294.400000</td>\n",
       "      <td>16</td>\n",
       "      <td>0.0</td>\n",
       "      <td>0.0</td>\n",
       "    </tr>\n",
       "  </tbody>\n",
       "</table>\n",
       "</div>"
      ],
      "text/plain": [
       "   Customer ID  Recency  Total_Transactions  Total_Products_Purchased  \\\n",
       "0      12346.0      325                   2                         0   \n",
       "1      12347.0        1                   7                      2458   \n",
       "2      12348.0       74                   4                      2332   \n",
       "3      12349.0       18                   1                       630   \n",
       "4      12350.0      309                   1                       196   \n",
       "\n",
       "   Total_Spend  Average_Transaction_Value  Unique_Products_Purchased  \\\n",
       "0         0.00                   0.000000                          1   \n",
       "1      4310.00                 615.714286                        103   \n",
       "2      1437.24                 359.310000                         21   \n",
       "3      1457.55                1457.550000                         72   \n",
       "4       294.40                 294.400000                         16   \n",
       "\n",
       "   Cancellation_Frequency  Cancellation_Rate  \n",
       "0                     1.0                0.5  \n",
       "1                     0.0                0.0  \n",
       "2                     0.0                0.0  \n",
       "3                     0.0                0.0  \n",
       "4                     0.0                0.0  "
      ]
     },
     "execution_count": 786,
     "metadata": {},
     "output_type": "execute_result"
    }
   ],
   "source": [
    "# Calculate the total number of transactions made by each customer\n",
    "total_transactions = df.groupby('Customer ID')['Invoice'].nunique().reset_index()\n",
    "\n",
    "# Calculate the number of cancelled transactions for each customer\n",
    "cancelled_transactions = df[df['Transaction_Status'] == 'Cancelled']\n",
    "cancellation_frequency = cancelled_transactions.groupby('Customer ID')['Invoice'].nunique().reset_index()\n",
    "cancellation_frequency.rename(columns={'Invoice': 'Cancellation_Frequency'}, inplace=True)\n",
    "\n",
    "# Merge the Cancellation Frequency data into the customer_data dataframe\n",
    "customer_data = pd.merge(customer_data, cancellation_frequency, on='Customer ID', how='left')\n",
    "\n",
    "# Replace NaN values with 0 (for customers who have not cancelled any transaction)\n",
    "customer_data['Cancellation_Frequency'].fillna(0, inplace=True)\n",
    "\n",
    "# Calculate the Cancellation Rate\n",
    "customer_data['Cancellation_Rate'] = customer_data['Cancellation_Frequency'] / total_transactions['Invoice']\n",
    "\n",
    "# Display the first few rows of the customer_data dataframe\n",
    "customer_data.head()"
   ]
  },
  {
   "cell_type": "code",
   "execution_count": 787,
   "metadata": {},
   "outputs": [
    {
     "name": "stdout",
     "output_type": "stream",
     "text": [
      "Number of customers who cancelled at least one transaction: 1534\n"
     ]
    },
    {
     "data": {
      "text/html": [
       "<div>\n",
       "<style scoped>\n",
       "    .dataframe tbody tr th:only-of-type {\n",
       "        vertical-align: middle;\n",
       "    }\n",
       "\n",
       "    .dataframe tbody tr th {\n",
       "        vertical-align: top;\n",
       "    }\n",
       "\n",
       "    .dataframe thead th {\n",
       "        text-align: right;\n",
       "    }\n",
       "</style>\n",
       "<table border=\"1\" class=\"dataframe\">\n",
       "  <thead>\n",
       "    <tr style=\"text-align: right;\">\n",
       "      <th></th>\n",
       "      <th>Customer ID</th>\n",
       "      <th>Recency</th>\n",
       "      <th>Total_Transactions</th>\n",
       "      <th>Total_Products_Purchased</th>\n",
       "      <th>Total_Spend</th>\n",
       "      <th>Average_Transaction_Value</th>\n",
       "      <th>Unique_Products_Purchased</th>\n",
       "      <th>Cancellation_Frequency</th>\n",
       "      <th>Cancellation_Rate</th>\n",
       "    </tr>\n",
       "  </thead>\n",
       "  <tbody>\n",
       "    <tr>\n",
       "      <th>0</th>\n",
       "      <td>12346.0</td>\n",
       "      <td>325</td>\n",
       "      <td>2</td>\n",
       "      <td>0</td>\n",
       "      <td>0.00</td>\n",
       "      <td>0.000000</td>\n",
       "      <td>1</td>\n",
       "      <td>1.0</td>\n",
       "      <td>0.500000</td>\n",
       "    </tr>\n",
       "    <tr>\n",
       "      <th>5</th>\n",
       "      <td>12352.0</td>\n",
       "      <td>35</td>\n",
       "      <td>8</td>\n",
       "      <td>463</td>\n",
       "      <td>1265.41</td>\n",
       "      <td>158.176250</td>\n",
       "      <td>57</td>\n",
       "      <td>1.0</td>\n",
       "      <td>0.125000</td>\n",
       "    </tr>\n",
       "    <tr>\n",
       "      <th>12</th>\n",
       "      <td>12359.0</td>\n",
       "      <td>7</td>\n",
       "      <td>6</td>\n",
       "      <td>1599</td>\n",
       "      <td>6182.98</td>\n",
       "      <td>1030.496667</td>\n",
       "      <td>214</td>\n",
       "      <td>2.0</td>\n",
       "      <td>0.333333</td>\n",
       "    </tr>\n",
       "    <tr>\n",
       "      <th>15</th>\n",
       "      <td>12362.0</td>\n",
       "      <td>2</td>\n",
       "      <td>13</td>\n",
       "      <td>2180</td>\n",
       "      <td>4665.58</td>\n",
       "      <td>358.890769</td>\n",
       "      <td>200</td>\n",
       "      <td>3.0</td>\n",
       "      <td>0.230769</td>\n",
       "    </tr>\n",
       "    <tr>\n",
       "      <th>25</th>\n",
       "      <td>12375.0</td>\n",
       "      <td>2</td>\n",
       "      <td>3</td>\n",
       "      <td>175</td>\n",
       "      <td>375.42</td>\n",
       "      <td>125.140000</td>\n",
       "      <td>13</td>\n",
       "      <td>1.0</td>\n",
       "      <td>0.333333</td>\n",
       "    </tr>\n",
       "    <tr>\n",
       "      <th>28</th>\n",
       "      <td>12379.0</td>\n",
       "      <td>81</td>\n",
       "      <td>3</td>\n",
       "      <td>401</td>\n",
       "      <td>775.29</td>\n",
       "      <td>258.430000</td>\n",
       "      <td>38</td>\n",
       "      <td>1.0</td>\n",
       "      <td>0.333333</td>\n",
       "    </tr>\n",
       "    <tr>\n",
       "      <th>29</th>\n",
       "      <td>12380.0</td>\n",
       "      <td>21</td>\n",
       "      <td>5</td>\n",
       "      <td>1109</td>\n",
       "      <td>2423.56</td>\n",
       "      <td>484.712000</td>\n",
       "      <td>76</td>\n",
       "      <td>1.0</td>\n",
       "      <td>0.200000</td>\n",
       "    </tr>\n",
       "    <tr>\n",
       "      <th>30</th>\n",
       "      <td>12381.0</td>\n",
       "      <td>4</td>\n",
       "      <td>4</td>\n",
       "      <td>772</td>\n",
       "      <td>1433.46</td>\n",
       "      <td>358.365000</td>\n",
       "      <td>69</td>\n",
       "      <td>1.0</td>\n",
       "      <td>0.250000</td>\n",
       "    </tr>\n",
       "    <tr>\n",
       "      <th>31</th>\n",
       "      <td>12383.0</td>\n",
       "      <td>184</td>\n",
       "      <td>6</td>\n",
       "      <td>1515</td>\n",
       "      <td>1617.31</td>\n",
       "      <td>269.551667</td>\n",
       "      <td>83</td>\n",
       "      <td>1.0</td>\n",
       "      <td>0.166667</td>\n",
       "    </tr>\n",
       "    <tr>\n",
       "      <th>32</th>\n",
       "      <td>12384.0</td>\n",
       "      <td>28</td>\n",
       "      <td>3</td>\n",
       "      <td>117</td>\n",
       "      <td>406.16</td>\n",
       "      <td>135.386667</td>\n",
       "      <td>25</td>\n",
       "      <td>1.0</td>\n",
       "      <td>0.333333</td>\n",
       "    </tr>\n",
       "    <tr>\n",
       "      <th>39</th>\n",
       "      <td>12395.0</td>\n",
       "      <td>15</td>\n",
       "      <td>15</td>\n",
       "      <td>2092</td>\n",
       "      <td>2662.28</td>\n",
       "      <td>177.485333</td>\n",
       "      <td>90</td>\n",
       "      <td>3.0</td>\n",
       "      <td>0.200000</td>\n",
       "    </tr>\n",
       "    <tr>\n",
       "      <th>47</th>\n",
       "      <td>12406.0</td>\n",
       "      <td>21</td>\n",
       "      <td>3</td>\n",
       "      <td>1809</td>\n",
       "      <td>3280.75</td>\n",
       "      <td>1093.583333</td>\n",
       "      <td>92</td>\n",
       "      <td>1.0</td>\n",
       "      <td>0.333333</td>\n",
       "    </tr>\n",
       "    <tr>\n",
       "      <th>49</th>\n",
       "      <td>12408.0</td>\n",
       "      <td>32</td>\n",
       "      <td>8</td>\n",
       "      <td>1382</td>\n",
       "      <td>2587.57</td>\n",
       "      <td>323.446250</td>\n",
       "      <td>80</td>\n",
       "      <td>3.0</td>\n",
       "      <td>0.375000</td>\n",
       "    </tr>\n",
       "    <tr>\n",
       "      <th>50</th>\n",
       "      <td>12409.0</td>\n",
       "      <td>78</td>\n",
       "      <td>7</td>\n",
       "      <td>5543</td>\n",
       "      <td>11056.93</td>\n",
       "      <td>1579.561429</td>\n",
       "      <td>91</td>\n",
       "      <td>4.0</td>\n",
       "      <td>0.571429</td>\n",
       "    </tr>\n",
       "    <tr>\n",
       "      <th>51</th>\n",
       "      <td>12410.0</td>\n",
       "      <td>300</td>\n",
       "      <td>3</td>\n",
       "      <td>205</td>\n",
       "      <td>521.08</td>\n",
       "      <td>173.693333</td>\n",
       "      <td>25</td>\n",
       "      <td>1.0</td>\n",
       "      <td>0.333333</td>\n",
       "    </tr>\n",
       "  </tbody>\n",
       "</table>\n",
       "</div>"
      ],
      "text/plain": [
       "    Customer ID  Recency  Total_Transactions  Total_Products_Purchased  \\\n",
       "0       12346.0      325                   2                         0   \n",
       "5       12352.0       35                   8                       463   \n",
       "12      12359.0        7                   6                      1599   \n",
       "15      12362.0        2                  13                      2180   \n",
       "25      12375.0        2                   3                       175   \n",
       "28      12379.0       81                   3                       401   \n",
       "29      12380.0       21                   5                      1109   \n",
       "30      12381.0        4                   4                       772   \n",
       "31      12383.0      184                   6                      1515   \n",
       "32      12384.0       28                   3                       117   \n",
       "39      12395.0       15                  15                      2092   \n",
       "47      12406.0       21                   3                      1809   \n",
       "49      12408.0       32                   8                      1382   \n",
       "50      12409.0       78                   7                      5543   \n",
       "51      12410.0      300                   3                       205   \n",
       "\n",
       "    Total_Spend  Average_Transaction_Value  Unique_Products_Purchased  \\\n",
       "0          0.00                   0.000000                          1   \n",
       "5       1265.41                 158.176250                         57   \n",
       "12      6182.98                1030.496667                        214   \n",
       "15      4665.58                 358.890769                        200   \n",
       "25       375.42                 125.140000                         13   \n",
       "28       775.29                 258.430000                         38   \n",
       "29      2423.56                 484.712000                         76   \n",
       "30      1433.46                 358.365000                         69   \n",
       "31      1617.31                 269.551667                         83   \n",
       "32       406.16                 135.386667                         25   \n",
       "39      2662.28                 177.485333                         90   \n",
       "47      3280.75                1093.583333                         92   \n",
       "49      2587.57                 323.446250                         80   \n",
       "50     11056.93                1579.561429                         91   \n",
       "51       521.08                 173.693333                         25   \n",
       "\n",
       "    Cancellation_Frequency  Cancellation_Rate  \n",
       "0                      1.0           0.500000  \n",
       "5                      1.0           0.125000  \n",
       "12                     2.0           0.333333  \n",
       "15                     3.0           0.230769  \n",
       "25                     1.0           0.333333  \n",
       "28                     1.0           0.333333  \n",
       "29                     1.0           0.200000  \n",
       "30                     1.0           0.250000  \n",
       "31                     1.0           0.166667  \n",
       "32                     1.0           0.333333  \n",
       "39                     3.0           0.200000  \n",
       "47                     1.0           0.333333  \n",
       "49                     3.0           0.375000  \n",
       "50                     4.0           0.571429  \n",
       "51                     1.0           0.333333  "
      ]
     },
     "execution_count": 787,
     "metadata": {},
     "output_type": "execute_result"
    }
   ],
   "source": [
    "# Number of customers who cancelled at least one transaction\n",
    "customers_who_cancelled = customer_data[customer_data['Cancellation_Rate'] > 0]\n",
    "print(f\"Number of customers who cancelled at least one transaction: {customers_who_cancelled.shape[0]}\")\n",
    "customers_who_cancelled.head(15)"
   ]
  },
  {
   "cell_type": "markdown",
   "metadata": {},
   "source": [
    "## Seasonality\n",
    "\n",
    "The seasonality in customers' purchasing behaviors can offer invaluable insights for tailoring marketing strategies and enhancing customer satisfaction. Here are the two features to introduce:\n",
    "\n",
    "- **Monthly_Spending_Mean:** This is the average amount a customer spends monthly. It helps us gauge the general spending habit of each customer. A higher mean indicates a customer who spends more, potentially showing interest in premium products, whereas a lower mean might indicate a more budget-conscious customer.\n",
    "\n",
    "- **Monthly_Spending_Std:** This feature indicates the variability in a customer's monthly spending. A higher value signals that the customer's spending fluctuates significantly month-to-month, perhaps indicating sporadic large purchases. In contrast, a lower value suggests more stable, consistent spending habits. Understanding this variability can help in crafting personalized promotions or discounts during periods they are expected to spend more."
   ]
  },
  {
   "cell_type": "code",
   "execution_count": 788,
   "metadata": {},
   "outputs": [],
   "source": [
    "# Extract month and year from InvoiceDate\n",
    "df['Year'] = df['InvoiceDate'].dt.year\n",
    "df['Month'] = df['InvoiceDate'].dt.month\n",
    "\n",
    "# Calculate monthly spending for each customer\n",
    "monthly_spending = df.groupby(['Customer ID', 'Year', 'Month'])['TotalPrice'].sum().reset_index()\n",
    "\n",
    "# Calculate Seasonal Buying Patterns: We are using monthly frequency as a proxy for seasonal buying patterns\n",
    "seasonal_buying_patterns = monthly_spending.groupby('Customer ID')['TotalPrice'].agg(['mean', 'std']).reset_index()\n",
    "seasonal_buying_patterns.rename(columns={'mean': 'Monthly_Spending_Mean', 'std': 'Monthly_Spending_Std'}, inplace=True)\n",
    "\n",
    "# Replace NaN values in Monthly_Spending_Std with 0, implying no variability for customers with single transaction month\n",
    "seasonal_buying_patterns['Monthly_Spending_Std'].fillna(0, inplace=True)\n",
    "\n",
    "# Remove the Year and Month columns from the original dataframe\n",
    "df.drop(columns=['Year', 'Month'], inplace=True)"
   ]
  },
  {
   "cell_type": "code",
   "execution_count": 789,
   "metadata": {},
   "outputs": [
    {
     "data": {
      "text/html": [
       "<div>\n",
       "<style scoped>\n",
       "    .dataframe tbody tr th:only-of-type {\n",
       "        vertical-align: middle;\n",
       "    }\n",
       "\n",
       "    .dataframe tbody tr th {\n",
       "        vertical-align: top;\n",
       "    }\n",
       "\n",
       "    .dataframe thead th {\n",
       "        text-align: right;\n",
       "    }\n",
       "</style>\n",
       "<table border=\"1\" class=\"dataframe\">\n",
       "  <thead>\n",
       "    <tr style=\"text-align: right;\">\n",
       "      <th></th>\n",
       "      <th>Customer ID</th>\n",
       "      <th>Recency</th>\n",
       "      <th>Total_Transactions</th>\n",
       "      <th>Total_Products_Purchased</th>\n",
       "      <th>Total_Spend</th>\n",
       "      <th>Average_Transaction_Value</th>\n",
       "      <th>Unique_Products_Purchased</th>\n",
       "      <th>Cancellation_Frequency</th>\n",
       "      <th>Cancellation_Rate</th>\n",
       "      <th>Monthly_Spending_Mean</th>\n",
       "      <th>Monthly_Spending_Std</th>\n",
       "    </tr>\n",
       "  </thead>\n",
       "  <tbody>\n",
       "    <tr>\n",
       "      <th>0</th>\n",
       "      <td>12346.0</td>\n",
       "      <td>325</td>\n",
       "      <td>2</td>\n",
       "      <td>0</td>\n",
       "      <td>0.00</td>\n",
       "      <td>0.000000</td>\n",
       "      <td>1</td>\n",
       "      <td>1.0</td>\n",
       "      <td>0.5</td>\n",
       "      <td>0.000000</td>\n",
       "      <td>0.000000</td>\n",
       "    </tr>\n",
       "    <tr>\n",
       "      <th>1</th>\n",
       "      <td>12347.0</td>\n",
       "      <td>1</td>\n",
       "      <td>7</td>\n",
       "      <td>2458</td>\n",
       "      <td>4310.00</td>\n",
       "      <td>615.714286</td>\n",
       "      <td>103</td>\n",
       "      <td>0.0</td>\n",
       "      <td>0.0</td>\n",
       "      <td>615.714286</td>\n",
       "      <td>341.070789</td>\n",
       "    </tr>\n",
       "    <tr>\n",
       "      <th>2</th>\n",
       "      <td>12348.0</td>\n",
       "      <td>74</td>\n",
       "      <td>4</td>\n",
       "      <td>2332</td>\n",
       "      <td>1437.24</td>\n",
       "      <td>359.310000</td>\n",
       "      <td>21</td>\n",
       "      <td>0.0</td>\n",
       "      <td>0.0</td>\n",
       "      <td>359.310000</td>\n",
       "      <td>203.875689</td>\n",
       "    </tr>\n",
       "    <tr>\n",
       "      <th>3</th>\n",
       "      <td>12349.0</td>\n",
       "      <td>18</td>\n",
       "      <td>1</td>\n",
       "      <td>630</td>\n",
       "      <td>1457.55</td>\n",
       "      <td>1457.550000</td>\n",
       "      <td>72</td>\n",
       "      <td>0.0</td>\n",
       "      <td>0.0</td>\n",
       "      <td>1457.550000</td>\n",
       "      <td>0.000000</td>\n",
       "    </tr>\n",
       "    <tr>\n",
       "      <th>4</th>\n",
       "      <td>12350.0</td>\n",
       "      <td>309</td>\n",
       "      <td>1</td>\n",
       "      <td>196</td>\n",
       "      <td>294.40</td>\n",
       "      <td>294.400000</td>\n",
       "      <td>16</td>\n",
       "      <td>0.0</td>\n",
       "      <td>0.0</td>\n",
       "      <td>294.400000</td>\n",
       "      <td>0.000000</td>\n",
       "    </tr>\n",
       "  </tbody>\n",
       "</table>\n",
       "</div>"
      ],
      "text/plain": [
       "   Customer ID  Recency  Total_Transactions  Total_Products_Purchased  \\\n",
       "0      12346.0      325                   2                         0   \n",
       "1      12347.0        1                   7                      2458   \n",
       "2      12348.0       74                   4                      2332   \n",
       "3      12349.0       18                   1                       630   \n",
       "4      12350.0      309                   1                       196   \n",
       "\n",
       "   Total_Spend  Average_Transaction_Value  Unique_Products_Purchased  \\\n",
       "0         0.00                   0.000000                          1   \n",
       "1      4310.00                 615.714286                        103   \n",
       "2      1437.24                 359.310000                         21   \n",
       "3      1457.55                1457.550000                         72   \n",
       "4       294.40                 294.400000                         16   \n",
       "\n",
       "   Cancellation_Frequency  Cancellation_Rate  Monthly_Spending_Mean  \\\n",
       "0                     1.0                0.5               0.000000   \n",
       "1                     0.0                0.0             615.714286   \n",
       "2                     0.0                0.0             359.310000   \n",
       "3                     0.0                0.0            1457.550000   \n",
       "4                     0.0                0.0             294.400000   \n",
       "\n",
       "   Monthly_Spending_Std  \n",
       "0              0.000000  \n",
       "1            341.070789  \n",
       "2            203.875689  \n",
       "3              0.000000  \n",
       "4              0.000000  "
      ]
     },
     "execution_count": 789,
     "metadata": {},
     "output_type": "execute_result"
    }
   ],
   "source": [
    "# Merge the new features into the customer_data dataframe\n",
    "customer_data = pd.merge(customer_data, seasonal_buying_patterns, on='Customer ID')\n",
    "\n",
    "# Display the first few rows of the customer_data dataframe\n",
    "customer_data.head()"
   ]
  },
  {
   "cell_type": "markdown",
   "metadata": {},
   "source": [
    "## Customer Dataset Description\n",
    "\n",
    "| **Feature**                    | **Description**                                                                                      |\n",
    "|-------------------------------|------------------------------------------------------------------------------------------------------|\n",
    "| Customer ID                   | Identifier uniquely assigned to each customer, used to distinguish individual customers.             |\n",
    "| Recency                       | The number of days that have passed since the customer's last purchase.                             |\n",
    "| Total_Transactions            | The total number of transactions made by the customer.                                              |\n",
    "| Total_Products_Purchased      | The total quantity of products purchased by the customer across all transactions.                   |\n",
    "| Total_Spend                   | The total amount of money the customer has spent across all transactions.                           |\n",
    "| Average_Transaction_Value     | The average value of the customer's transactions, calculated as total spend divided by transactions. |\n",
    "| Unique_Products_Purchased     | The number of different products the customer has purchased.                                        |\n",
    "| Cancellation_Frequency        | The total number of transactions that the customer has cancelled.                                   |\n",
    "| Cancellation_Rate             | The proportion of transactions that the customer has cancelled, calculated as cancellations/total.  |\n",
    "| Monthly_Spending_Mean         | The average monthly spending of the customer.                                                       |\n",
    "| Monthly_Spending_Std          | The standard deviation of the customer's monthly spending, indicating variability.                  |\n"
   ]
  },
  {
   "cell_type": "markdown",
   "metadata": {},
   "source": [
    "## Outlier Detection\n",
    "\n",
    "**Isolation Forest** algorithm works well for multi-dimensional data and is computationally efficient. It isolates observations by randomly selecting a feature and then randomly selecting a split value between the maximum and minimum values of the selected feature."
   ]
  },
  {
   "cell_type": "code",
   "execution_count": 790,
   "metadata": {},
   "outputs": [
    {
     "name": "stdout",
     "output_type": "stream",
     "text": [
      "                       mean  median      std     min        max\n",
      "Recency               91.17   49.00   100.97     0.0     373.00\n",
      "Total_Transactions     4.99     NaN     9.08     1.0     242.00\n",
      "Total_Spend         1894.60  641.78  8266.05 -1192.2  278778.02\n",
      "Cancellation_Rate      0.11    0.00     0.18     0.0       1.00\n"
     ]
    }
   ],
   "source": [
    "# Calcular estadísticas descriptivas\n",
    "stats = customer_data[['Recency', 'Total_Transactions', 'Total_Spend', 'Cancellation_Rate']].describe().T\n",
    "stats['median'] = customer_data[['Total_Spend', 'Cancellation_Rate', 'Recency']].median()\n",
    "stats = stats[['mean', 'median', 'std', 'min', 'max']]\n",
    "print(stats.round(2))"
   ]
  },
  {
   "cell_type": "code",
   "execution_count": 791,
   "metadata": {},
   "outputs": [
    {
     "data": {
      "image/png": "[encoded data removed]",
      "text/plain": [
       "<Figure size 640x480 with 1 Axes>"
      ]
     },
     "metadata": {},
     "output_type": "display_data"
    }
   ],
   "source": [
    "import numpy as np\n",
    "from sklearn.cluster import KMeans\n",
    "from sklearn.metrics import silhouette_score\n",
    "from sklearn.ensemble import IsolationForest\n",
    "import matplotlib.pyplot as plt\n",
    "\n",
    "# Select features for anomaly detection\n",
    "X = customer_data[['Recency', 'Total_Transactions', 'Total_Spend', 'Cancellation_Rate']]\n",
    "\n",
    "# Visualize the process of finding the optimal number of percentage of contamination\n",
    "contaminations = np.linspace(0.01, 0.10, 10)\n",
    "scores = []\n",
    "\n",
    "for c in contaminations:\n",
    "    iso = IsolationForest(contamination=c, random_state=0)\n",
    "    mask = iso.fit_predict(X) == 1\n",
    "    km = KMeans(n_clusters=3, random_state=0).fit(X[mask])\n",
    "    scores.append(silhouette_score(X[mask], km.labels_))\n",
    "\n",
    "# Plot\n",
    "plt.plot(contaminations, scores, marker='o')\n",
    "for x, y in zip(contaminations, scores):\n",
    "    plt.text(x, y, f\"{y:.2f}\", ha='center', va='bottom', fontsize=9)\n",
    "\n",
    "plt.xlabel(\"Contamination\")\n",
    "plt.ylabel(\"Silhouette score\")\n",
    "plt.title(\"Silhouette vs. Contamination\")\n",
    "plt.tight_layout()\n",
    "plt.show()"
   ]
  },
  {
   "cell_type": "code",
   "execution_count": 792,
   "metadata": {},
   "outputs": [
    {
     "data": {
      "text/html": [
       "<div>\n",
       "<style scoped>\n",
       "    .dataframe tbody tr th:only-of-type {\n",
       "        vertical-align: middle;\n",
       "    }\n",
       "\n",
       "    .dataframe tbody tr th {\n",
       "        vertical-align: top;\n",
       "    }\n",
       "\n",
       "    .dataframe thead th {\n",
       "        text-align: right;\n",
       "    }\n",
       "</style>\n",
       "<table border=\"1\" class=\"dataframe\">\n",
       "  <thead>\n",
       "    <tr style=\"text-align: right;\">\n",
       "      <th></th>\n",
       "      <th>Customer ID</th>\n",
       "      <th>Recency</th>\n",
       "      <th>Total_Transactions</th>\n",
       "      <th>Total_Products_Purchased</th>\n",
       "      <th>Total_Spend</th>\n",
       "      <th>Average_Transaction_Value</th>\n",
       "      <th>Unique_Products_Purchased</th>\n",
       "      <th>Cancellation_Frequency</th>\n",
       "      <th>Cancellation_Rate</th>\n",
       "      <th>Monthly_Spending_Mean</th>\n",
       "      <th>Monthly_Spending_Std</th>\n",
       "      <th>Outlier</th>\n",
       "    </tr>\n",
       "  </thead>\n",
       "  <tbody>\n",
       "    <tr>\n",
       "      <th>0</th>\n",
       "      <td>12346.0</td>\n",
       "      <td>325</td>\n",
       "      <td>2</td>\n",
       "      <td>0</td>\n",
       "      <td>0.00</td>\n",
       "      <td>0.000000</td>\n",
       "      <td>1</td>\n",
       "      <td>1.0</td>\n",
       "      <td>0.500</td>\n",
       "      <td>0.000000</td>\n",
       "      <td>0.000000</td>\n",
       "      <td>0</td>\n",
       "    </tr>\n",
       "    <tr>\n",
       "      <th>1</th>\n",
       "      <td>12347.0</td>\n",
       "      <td>1</td>\n",
       "      <td>7</td>\n",
       "      <td>2458</td>\n",
       "      <td>4310.00</td>\n",
       "      <td>615.714286</td>\n",
       "      <td>103</td>\n",
       "      <td>0.0</td>\n",
       "      <td>0.000</td>\n",
       "      <td>615.714286</td>\n",
       "      <td>341.070789</td>\n",
       "      <td>0</td>\n",
       "    </tr>\n",
       "    <tr>\n",
       "      <th>2</th>\n",
       "      <td>12348.0</td>\n",
       "      <td>74</td>\n",
       "      <td>4</td>\n",
       "      <td>2332</td>\n",
       "      <td>1437.24</td>\n",
       "      <td>359.310000</td>\n",
       "      <td>21</td>\n",
       "      <td>0.0</td>\n",
       "      <td>0.000</td>\n",
       "      <td>359.310000</td>\n",
       "      <td>203.875689</td>\n",
       "      <td>0</td>\n",
       "    </tr>\n",
       "    <tr>\n",
       "      <th>3</th>\n",
       "      <td>12349.0</td>\n",
       "      <td>18</td>\n",
       "      <td>1</td>\n",
       "      <td>630</td>\n",
       "      <td>1457.55</td>\n",
       "      <td>1457.550000</td>\n",
       "      <td>72</td>\n",
       "      <td>0.0</td>\n",
       "      <td>0.000</td>\n",
       "      <td>1457.550000</td>\n",
       "      <td>0.000000</td>\n",
       "      <td>0</td>\n",
       "    </tr>\n",
       "    <tr>\n",
       "      <th>4</th>\n",
       "      <td>12350.0</td>\n",
       "      <td>309</td>\n",
       "      <td>1</td>\n",
       "      <td>196</td>\n",
       "      <td>294.40</td>\n",
       "      <td>294.400000</td>\n",
       "      <td>16</td>\n",
       "      <td>0.0</td>\n",
       "      <td>0.000</td>\n",
       "      <td>294.400000</td>\n",
       "      <td>0.000000</td>\n",
       "      <td>0</td>\n",
       "    </tr>\n",
       "    <tr>\n",
       "      <th>5</th>\n",
       "      <td>12352.0</td>\n",
       "      <td>35</td>\n",
       "      <td>8</td>\n",
       "      <td>463</td>\n",
       "      <td>1265.41</td>\n",
       "      <td>158.176250</td>\n",
       "      <td>57</td>\n",
       "      <td>1.0</td>\n",
       "      <td>0.125</td>\n",
       "      <td>316.352500</td>\n",
       "      <td>134.700629</td>\n",
       "      <td>0</td>\n",
       "    </tr>\n",
       "    <tr>\n",
       "      <th>6</th>\n",
       "      <td>12353.0</td>\n",
       "      <td>203</td>\n",
       "      <td>1</td>\n",
       "      <td>20</td>\n",
       "      <td>89.00</td>\n",
       "      <td>89.000000</td>\n",
       "      <td>4</td>\n",
       "      <td>0.0</td>\n",
       "      <td>0.000</td>\n",
       "      <td>89.000000</td>\n",
       "      <td>0.000000</td>\n",
       "      <td>0</td>\n",
       "    </tr>\n",
       "    <tr>\n",
       "      <th>7</th>\n",
       "      <td>12354.0</td>\n",
       "      <td>231</td>\n",
       "      <td>1</td>\n",
       "      <td>530</td>\n",
       "      <td>1079.40</td>\n",
       "      <td>1079.400000</td>\n",
       "      <td>58</td>\n",
       "      <td>0.0</td>\n",
       "      <td>0.000</td>\n",
       "      <td>1079.400000</td>\n",
       "      <td>0.000000</td>\n",
       "      <td>0</td>\n",
       "    </tr>\n",
       "    <tr>\n",
       "      <th>8</th>\n",
       "      <td>12355.0</td>\n",
       "      <td>213</td>\n",
       "      <td>1</td>\n",
       "      <td>240</td>\n",
       "      <td>459.40</td>\n",
       "      <td>459.400000</td>\n",
       "      <td>13</td>\n",
       "      <td>0.0</td>\n",
       "      <td>0.000</td>\n",
       "      <td>459.400000</td>\n",
       "      <td>0.000000</td>\n",
       "      <td>0</td>\n",
       "    </tr>\n",
       "    <tr>\n",
       "      <th>9</th>\n",
       "      <td>12356.0</td>\n",
       "      <td>22</td>\n",
       "      <td>3</td>\n",
       "      <td>1573</td>\n",
       "      <td>2487.43</td>\n",
       "      <td>829.143333</td>\n",
       "      <td>52</td>\n",
       "      <td>0.0</td>\n",
       "      <td>0.000</td>\n",
       "      <td>829.143333</td>\n",
       "      <td>991.462585</td>\n",
       "      <td>0</td>\n",
       "    </tr>\n",
       "  </tbody>\n",
       "</table>\n",
       "</div>"
      ],
      "text/plain": [
       "   Customer ID  Recency  Total_Transactions  Total_Products_Purchased  \\\n",
       "0      12346.0      325                   2                         0   \n",
       "1      12347.0        1                   7                      2458   \n",
       "2      12348.0       74                   4                      2332   \n",
       "3      12349.0       18                   1                       630   \n",
       "4      12350.0      309                   1                       196   \n",
       "5      12352.0       35                   8                       463   \n",
       "6      12353.0      203                   1                        20   \n",
       "7      12354.0      231                   1                       530   \n",
       "8      12355.0      213                   1                       240   \n",
       "9      12356.0       22                   3                      1573   \n",
       "\n",
       "   Total_Spend  Average_Transaction_Value  Unique_Products_Purchased  \\\n",
       "0         0.00                   0.000000                          1   \n",
       "1      4310.00                 615.714286                        103   \n",
       "2      1437.24                 359.310000                         21   \n",
       "3      1457.55                1457.550000                         72   \n",
       "4       294.40                 294.400000                         16   \n",
       "5      1265.41                 158.176250                         57   \n",
       "6        89.00                  89.000000                          4   \n",
       "7      1079.40                1079.400000                         58   \n",
       "8       459.40                 459.400000                         13   \n",
       "9      2487.43                 829.143333                         52   \n",
       "\n",
       "   Cancellation_Frequency  Cancellation_Rate  Monthly_Spending_Mean  \\\n",
       "0                     1.0              0.500               0.000000   \n",
       "1                     0.0              0.000             615.714286   \n",
       "2                     0.0              0.000             359.310000   \n",
       "3                     0.0              0.000            1457.550000   \n",
       "4                     0.0              0.000             294.400000   \n",
       "5                     1.0              0.125             316.352500   \n",
       "6                     0.0              0.000              89.000000   \n",
       "7                     0.0              0.000            1079.400000   \n",
       "8                     0.0              0.000             459.400000   \n",
       "9                     0.0              0.000             829.143333   \n",
       "\n",
       "   Monthly_Spending_Std  Outlier  \n",
       "0              0.000000        0  \n",
       "1            341.070789        0  \n",
       "2            203.875689        0  \n",
       "3              0.000000        0  \n",
       "4              0.000000        0  \n",
       "5            134.700629        0  \n",
       "6              0.000000        0  \n",
       "7              0.000000        0  \n",
       "8              0.000000        0  \n",
       "9            991.462585        0  "
      ]
     },
     "execution_count": 792,
     "metadata": {},
     "output_type": "execute_result"
    }
   ],
   "source": [
    "# Fit the Isolation Forest model\n",
    "model = IsolationForest(contamination=0.01, random_state=42)\n",
    "model.fit(X)\n",
    "\n",
    "# Predict anomalies\n",
    "anomalies = model.predict(X)\n",
    "anomalies = pd.Series(anomalies, index=customer_data.index)\n",
    "customer_data['Outlier'] = anomalies\n",
    "customer_data['Outlier'] = customer_data['Outlier'].map({1: 0, -1: 1})  # Convert to binary (0 for normal, 1 for anomaly)\n",
    "\n",
    "# Display the first few rows of the customer_data dataframe\n",
    "customer_data.head(10)"
   ]
  },
  {
   "cell_type": "code",
   "execution_count": 793,
   "metadata": {},
   "outputs": [
    {
     "name": "stdout",
     "output_type": "stream",
     "text": [
      "Percentage of outliers: 0.99%\n"
     ]
    }
   ],
   "source": [
    "# Percentage of outliers\n",
    "outlier_percentage = (customer_data['Outlier'].sum() / customer_data.shape[0]) * 100\n",
    "print(f\"Percentage of outliers: {outlier_percentage:.2f}%\")"
   ]
  },
  {
   "cell_type": "code",
   "execution_count": 794,
   "metadata": {},
   "outputs": [
    {
     "data": {
      "text/plain": [
       "4319"
      ]
     },
     "execution_count": 794,
     "metadata": {},
     "output_type": "execute_result"
    }
   ],
   "source": [
    "# Separate outliers\n",
    "outliers = customer_data[customer_data['Outlier'] == 1]\n",
    "\n",
    "# Remove outliers from the dataset\n",
    "customer_data_cleaned = customer_data[customer_data['Outlier'] == 0]\n",
    "\n",
    "# Drop the Outlier column\n",
    "customer_data_cleaned.drop(columns=['Outlier'], inplace=True)\n",
    "customer_data_cleaned.reset_index(drop=True, inplace=True)\n",
    "\n",
    "customer_data_cleaned.shape[0]"
   ]
  },
  {
   "cell_type": "markdown",
   "metadata": {},
   "source": [
    "## Inferences\n",
    "\n",
    "The curve clearly shows that the higher the percentage of outliers to remove, the worse the internal \"quality\" of the clusters (silhouette score) becomes. Specifically:\n",
    "\n",
    "- Maximum peak at 0.01 (≈0.78): Removing 1% of the outliers before clustering produces the most compact and well-separated clusters.\n",
    "\n",
    "- From there, as the proportion of data removed increases, the silhouette score drops fairly steadily.\n",
    "\n",
    "### Strategy\n",
    "\n",
    "It is crucial to handle these outliers to prevent them from affecting the clusters' quality significantly. The strategy will be to separate these outliers for further analysis and remove them from our main dataset to prepare it for the clustering analysis."
   ]
  },
  {
   "cell_type": "markdown",
   "metadata": {},
   "source": [
    "## Correlation Analysis\n",
    "\n",
    "Before we proceed to KMeans clustering, it's essential to check the correlation between features in our dataset. The presence of multicollinearity, where features are highly correlated, can potentially affect the clustering process by not allowing the model to learn the actual underlying patterns in the data, we can utilize dimensionality reduction techniques like PCA. These techniques help in neutralizing the effect of multicollinearity by transforming the correlated features into a new set of uncorrelated variables, preserving most of the original data's variance."
   ]
  },
  {
   "cell_type": "code",
   "execution_count": 795,
   "metadata": {},
   "outputs": [
    {
     "data": {
      "application/vnd.plotly.v1+json": {
       "config": {
        "plotlyServerURL": "https://plot.ly"
       },
       "data": [
        {
         "coloraxis": "coloraxis",
         "hovertemplate": "x: %{x}<br>y: %{y}<br>Correlación: %{z}<extra></extra>",
         "name": "0",
         "textfont": {
          "family": "Arial",
          "size": 18
         },
         "texttemplate": "%{z:.2f}",
         "type": "heatmap",
         "x": [
          "Recency",
          "Total_Transactions",
          "Total_Products_Purchased",
          "Total_Spend",
          "Average_Transaction_Value",
          "Unique_Products_Purchased",
          "Cancellation_Frequency",
          "Cancellation_Rate",
          "Monthly_Spending_Mean",
          "Monthly_Spending_Std"
         ],
         "xaxis": "x",
         "y": [
          "Recency",
          "Total_Transactions",
          "Total_Products_Purchased",
          "Total_Spend",
          "Average_Transaction_Value",
          "Unique_Products_Purchased",
          "Cancellation_Frequency",
          "Cancellation_Rate",
          "Monthly_Spending_Mean",
          "Monthly_Spending_Std"
         ],
         "yaxis": "y",
         "z": {
          "bdata": "AAAAAAAA8D8AAAAAAAD4fwAAAAAAAPh/AAAAAAAA+H8AAAAAAAD4fwAAAAAAAPh/AAAAAAAA+H8AAAAAAAD4fwAAAAAAAPh/AAAAAAAA+H9mZmZmZmbWvwAAAAAAAPA/AAAAAAAA+H8AAAAAAAD4fwAAAAAAAPh/AAAAAAAA+H8AAAAAAAD4fwAAAAAAAPh/AAAAAAAA+H8AAAAAAAD4fwAAAAAAANC/16NwPQrX4z8AAAAAAADwPwAAAAAAAPh/AAAAAAAA+H8AAAAAAAD4fwAAAAAAAPh/AAAAAAAA+H8AAAAAAAD4fwAAAAAAAPh/AAAAAAAA0L8fhetRuB7lP+F6FK5H4eo/AAAAAAAA8D8AAAAAAAD4fwAAAAAAAPh/AAAAAAAA+H8AAAAAAAD4fwAAAAAAAPh/AAAAAAAA+H97FK5H4XqkvwAAAAAAAAAAZmZmZmZm1j9cj8L1KFzfPwAAAAAAAPA/AAAAAAAA+H8AAAAAAAD4fwAAAAAAAPh/AAAAAAAA+H8AAAAAAAD4f8P1KFyPwtW/mpmZmZmZ4T/NzMzMzMzcPwAAAAAAAOA/w/UoXI/CxT8AAAAAAADwPwAAAAAAAPh/AAAAAAAA+H8AAAAAAAD4fwAAAAAAAPh/KVyPwvUozL+uR+F6FK7nPz0K16NwPdo/zczMzMzM3D97FK5H4XqkvwrXo3A9Ctc/AAAAAAAA8D8AAAAAAAD4fwAAAAAAAPh/AAAAAAAA+H+4HoXrUbiuv7gehetRuM4/CtejcD0Ktz8pXI/C9Si8P5qZmZmZmbm/mpmZmZmZuT8zMzMzMzPjPwAAAAAAAPA/AAAAAAAA+H8AAAAAAAD4f7gehetRuK6/pHA9CtejwD9mZmZmZmbWP+F6FK5H4eI/7FG4HoXr6T9SuB6F61HIPwrXo3A9Crc/exSuR+F6lD8AAAAAAADwPwAAAAAAAPh/7FG4HoXrwb/sUbgehevRP/YoXI/C9eA/KVyPwvUo5D89CtejcD3aP4/C9Shcj9I/uB6F61G4zj/D9Shcj8LFP5qZmZmZmdk/AAAAAAAA8D8=",
          "dtype": "f8",
          "shape": "10, 10"
         }
        }
       ],
       "layout": {
        "coloraxis": {
         "colorbar": {
          "title": {
           "text": "Correlación"
          }
         },
         "colorscale": [
          [
           0,
           "#ffffff"
          ],
          [
           1,
           "#1C9BF9"
          ]
         ]
        },
        "font": {
         "size": 15
        },
        "height": 900,
        "margin": {
         "t": 60
        },
        "template": {
         "data": {
          "bar": [
           {
            "error_x": {
             "color": "#2a3f5f"
            },
            "error_y": {
             "color": "#2a3f5f"
            },
            "marker": {
             "line": {
              "color": "#E5ECF6",
              "width": 0.5
             },
             "pattern": {
              "fillmode": "overlay",
              "size": 10,
              "solidity": 0.2
             }
            },
            "type": "bar"
           }
          ],
          "barpolar": [
           {
            "marker": {
             "line": {
              "color": "#E5ECF6",
              "width": 0.5
             },
             "pattern": {
              "fillmode": "overlay",
              "size": 10,
              "solidity": 0.2
             }
            },
            "type": "barpolar"
           }
          ],
          "carpet": [
           {
            "aaxis": {
             "endlinecolor": "#2a3f5f",
             "gridcolor": "white",
             "linecolor": "white",
             "minorgridcolor": "white",
             "startlinecolor": "#2a3f5f"
            },
            "baxis": {
             "endlinecolor": "#2a3f5f",
             "gridcolor": "white",
             "linecolor": "white",
             "minorgridcolor": "white",
             "startlinecolor": "#2a3f5f"
            },
            "type": "carpet"
           }
          ],
          "choropleth": [
           {
            "colorbar": {
             "outlinewidth": 0,
             "ticks": ""
            },
            "type": "choropleth"
           }
          ],
          "contour": [
           {
            "colorbar": {
             "outlinewidth": 0,
             "ticks": ""
            },
            "colorscale": [
             [
              0,
              "#0d0887"
             ],
             [
              0.1111111111111111,
              "#46039f"
             ],
             [
              0.2222222222222222,
              "#7201a8"
             ],
             [
              0.3333333333333333,
              "#9c179e"
             ],
             [
              0.4444444444444444,
              "#bd3786"
             ],
             [
              0.5555555555555556,
              "#d8576b"
             ],
             [
              0.6666666666666666,
              "#ed7953"
             ],
             [
              0.7777777777777778,
              "#fb9f3a"
             ],
             [
              0.8888888888888888,
              "#fdca26"
             ],
             [
              1,
              "#f0f921"
             ]
            ],
            "type": "contour"
           }
          ],
          "contourcarpet": [
           {
            "colorbar": {
             "outlinewidth": 0,
             "ticks": ""
            },
            "type": "contourcarpet"
           }
          ],
          "heatmap": [
           {
            "colorbar": {
             "outlinewidth": 0,
             "ticks": ""
            },
            "colorscale": [
             [
              0,
              "#0d0887"
             ],
             [
              0.1111111111111111,
              "#46039f"
             ],
             [
              0.2222222222222222,
              "#7201a8"
             ],
             [
              0.3333333333333333,
              "#9c179e"
             ],
             [
              0.4444444444444444,
              "#bd3786"
             ],
             [
              0.5555555555555556,
              "#d8576b"
             ],
             [
              0.6666666666666666,
              "#ed7953"
             ],
             [
              0.7777777777777778,
              "#fb9f3a"
             ],
             [
              0.8888888888888888,
              "#fdca26"
             ],
             [
              1,
              "#f0f921"
             ]
            ],
            "type": "heatmap"
           }
          ],
          "histogram": [
           {
            "marker": {
             "pattern": {
              "fillmode": "overlay",
              "size": 10,
              "solidity": 0.2
             }
            },
            "type": "histogram"
           }
          ],
          "histogram2d": [
           {
            "colorbar": {
             "outlinewidth": 0,
             "ticks": ""
            },
            "colorscale": [
             [
              0,
              "#0d0887"
             ],
             [
              0.1111111111111111,
              "#46039f"
             ],
             [
              0.2222222222222222,
              "#7201a8"
             ],
             [
              0.3333333333333333,
              "#9c179e"
             ],
             [
              0.4444444444444444,
              "#bd3786"
             ],
             [
              0.5555555555555556,
              "#d8576b"
             ],
             [
              0.6666666666666666,
              "#ed7953"
             ],
             [
              0.7777777777777778,
              "#fb9f3a"
             ],
             [
              0.8888888888888888,
              "#fdca26"
             ],
             [
              1,
              "#f0f921"
             ]
            ],
            "type": "histogram2d"
           }
          ],
          "histogram2dcontour": [
           {
            "colorbar": {
             "outlinewidth": 0,
             "ticks": ""
            },
            "colorscale": [
             [
              0,
              "#0d0887"
             ],
             [
              0.1111111111111111,
              "#46039f"
             ],
             [
              0.2222222222222222,
              "#7201a8"
             ],
             [
              0.3333333333333333,
              "#9c179e"
             ],
             [
              0.4444444444444444,
              "#bd3786"
             ],
             [
              0.5555555555555556,
              "#d8576b"
             ],
             [
              0.6666666666666666,
              "#ed7953"
             ],
             [
              0.7777777777777778,
              "#fb9f3a"
             ],
             [
              0.8888888888888888,
              "#fdca26"
             ],
             [
              1,
              "#f0f921"
             ]
            ],
            "type": "histogram2dcontour"
           }
          ],
          "mesh3d": [
           {
            "colorbar": {
             "outlinewidth": 0,
             "ticks": ""
            },
            "type": "mesh3d"
           }
          ],
          "parcoords": [
           {
            "line": {
             "colorbar": {
              "outlinewidth": 0,
              "ticks": ""
             }
            },
            "type": "parcoords"
           }
          ],
          "pie": [
           {
            "automargin": true,
            "type": "pie"
           }
          ],
          "scatter": [
           {
            "fillpattern": {
             "fillmode": "overlay",
             "size": 10,
             "solidity": 0.2
            },
            "type": "scatter"
           }
          ],
          "scatter3d": [
           {
            "line": {
             "colorbar": {
              "outlinewidth": 0,
              "ticks": ""
             }
            },
            "marker": {
             "colorbar": {
              "outlinewidth": 0,
              "ticks": ""
             }
            },
            "type": "scatter3d"
           }
          ],
          "scattercarpet": [
           {
            "marker": {
             "colorbar": {
              "outlinewidth": 0,
              "ticks": ""
             }
            },
            "type": "scattercarpet"
           }
          ],
          "scattergeo": [
           {
            "marker": {
             "colorbar": {
              "outlinewidth": 0,
              "ticks": ""
             }
            },
            "type": "scattergeo"
           }
          ],
          "scattergl": [
           {
            "marker": {
             "colorbar": {
              "outlinewidth": 0,
              "ticks": ""
             }
            },
            "type": "scattergl"
           }
          ],
          "scattermap": [
           {
            "marker": {
             "colorbar": {
              "outlinewidth": 0,
              "ticks": ""
             }
            },
            "type": "scattermap"
           }
          ],
          "scattermapbox": [
           {
            "marker": {
             "colorbar": {
              "outlinewidth": 0,
              "ticks": ""
             }
            },
            "type": "scattermapbox"
           }
          ],
          "scatterpolar": [
           {
            "marker": {
             "colorbar": {
              "outlinewidth": 0,
              "ticks": ""
             }
            },
            "type": "scatterpolar"
           }
          ],
          "scatterpolargl": [
           {
            "marker": {
             "colorbar": {
              "outlinewidth": 0,
              "ticks": ""
             }
            },
            "type": "scatterpolargl"
           }
          ],
          "scatterternary": [
           {
            "marker": {
             "colorbar": {
              "outlinewidth": 0,
              "ticks": ""
             }
            },
            "type": "scatterternary"
           }
          ],
          "surface": [
           {
            "colorbar": {
             "outlinewidth": 0,
             "ticks": ""
            },
            "colorscale": [
             [
              0,
              "#0d0887"
             ],
             [
              0.1111111111111111,
              "#46039f"
             ],
             [
              0.2222222222222222,
              "#7201a8"
             ],
             [
              0.3333333333333333,
              "#9c179e"
             ],
             [
              0.4444444444444444,
              "#bd3786"
             ],
             [
              0.5555555555555556,
              "#d8576b"
             ],
             [
              0.6666666666666666,
              "#ed7953"
             ],
             [
              0.7777777777777778,
              "#fb9f3a"
             ],
             [
              0.8888888888888888,
              "#fdca26"
             ],
             [
              1,
              "#f0f921"
             ]
            ],
            "type": "surface"
           }
          ],
          "table": [
           {
            "cells": {
             "fill": {
              "color": "#EBF0F8"
             },
             "line": {
              "color": "white"
             }
            },
            "header": {
             "fill": {
              "color": "#C8D4E3"
             },
             "line": {
              "color": "white"
             }
            },
            "type": "table"
           }
          ]
         },
         "layout": {
          "annotationdefaults": {
           "arrowcolor": "#2a3f5f",
           "arrowhead": 0,
           "arrowwidth": 1
          },
          "autotypenumbers": "strict",
          "coloraxis": {
           "colorbar": {
            "outlinewidth": 0,
            "ticks": ""
           }
          },
          "colorscale": {
           "diverging": [
            [
             0,
             "#8e0152"
            ],
            [
             0.1,
             "#c51b7d"
            ],
            [
             0.2,
             "#de77ae"
            ],
            [
             0.3,
             "#f1b6da"
            ],
            [
             0.4,
             "#fde0ef"
            ],
            [
             0.5,
             "#f7f7f7"
            ],
            [
             0.6,
             "#e6f5d0"
            ],
            [
             0.7,
             "#b8e186"
            ],
            [
             0.8,
             "#7fbc41"
            ],
            [
             0.9,
             "#4d9221"
            ],
            [
             1,
             "#276419"
            ]
           ],
           "sequential": [
            [
             0,
             "#0d0887"
            ],
            [
             0.1111111111111111,
             "#46039f"
            ],
            [
             0.2222222222222222,
             "#7201a8"
            ],
            [
             0.3333333333333333,
             "#9c179e"
            ],
            [
             0.4444444444444444,
             "#bd3786"
            ],
            [
             0.5555555555555556,
             "#d8576b"
            ],
            [
             0.6666666666666666,
             "#ed7953"
            ],
            [
             0.7777777777777778,
             "#fb9f3a"
            ],
            [
             0.8888888888888888,
             "#fdca26"
            ],
            [
             1,
             "#f0f921"
            ]
           ],
           "sequentialminus": [
            [
             0,
             "#0d0887"
            ],
            [
             0.1111111111111111,
             "#46039f"
            ],
            [
             0.2222222222222222,
             "#7201a8"
            ],
            [
             0.3333333333333333,
             "#9c179e"
            ],
            [
             0.4444444444444444,
             "#bd3786"
            ],
            [
             0.5555555555555556,
             "#d8576b"
            ],
            [
             0.6666666666666666,
             "#ed7953"
            ],
            [
             0.7777777777777778,
             "#fb9f3a"
            ],
            [
             0.8888888888888888,
             "#fdca26"
            ],
            [
             1,
             "#f0f921"
            ]
           ]
          },
          "colorway": [
           "#636efa",
           "#EF553B",
           "#00cc96",
           "#ab63fa",
           "#FFA15A",
           "#19d3f3",
           "#FF6692",
           "#B6E880",
           "#FF97FF",
           "#FECB52"
          ],
          "font": {
           "color": "#2a3f5f"
          },
          "geo": {
           "bgcolor": "white",
           "lakecolor": "white",
           "landcolor": "#E5ECF6",
           "showlakes": true,
           "showland": true,
           "subunitcolor": "white"
          },
          "hoverlabel": {
           "align": "left"
          },
          "hovermode": "closest",
          "mapbox": {
           "style": "light"
          },
          "paper_bgcolor": "white",
          "plot_bgcolor": "#E5ECF6",
          "polar": {
           "angularaxis": {
            "gridcolor": "white",
            "linecolor": "white",
            "ticks": ""
           },
           "bgcolor": "#E5ECF6",
           "radialaxis": {
            "gridcolor": "white",
            "linecolor": "white",
            "ticks": ""
           }
          },
          "scene": {
           "xaxis": {
            "backgroundcolor": "#E5ECF6",
            "gridcolor": "white",
            "gridwidth": 2,
            "linecolor": "white",
            "showbackground": true,
            "ticks": "",
            "zerolinecolor": "white"
           },
           "yaxis": {
            "backgroundcolor": "#E5ECF6",
            "gridcolor": "white",
            "gridwidth": 2,
            "linecolor": "white",
            "showbackground": true,
            "ticks": "",
            "zerolinecolor": "white"
           },
           "zaxis": {
            "backgroundcolor": "#E5ECF6",
            "gridcolor": "white",
            "gridwidth": 2,
            "linecolor": "white",
            "showbackground": true,
            "ticks": "",
            "zerolinecolor": "white"
           }
          },
          "shapedefaults": {
           "line": {
            "color": "#2a3f5f"
           }
          },
          "ternary": {
           "aaxis": {
            "gridcolor": "white",
            "linecolor": "white",
            "ticks": ""
           },
           "baxis": {
            "gridcolor": "white",
            "linecolor": "white",
            "ticks": ""
           },
           "bgcolor": "#E5ECF6",
           "caxis": {
            "gridcolor": "white",
            "linecolor": "white",
            "ticks": ""
           }
          },
          "title": {
           "x": 0.05
          },
          "xaxis": {
           "automargin": true,
           "gridcolor": "white",
           "linecolor": "white",
           "ticks": "",
           "title": {
            "standoff": 15
           },
           "zerolinecolor": "white",
           "zerolinewidth": 2
          },
          "yaxis": {
           "automargin": true,
           "gridcolor": "white",
           "linecolor": "white",
           "ticks": "",
           "title": {
            "standoff": 15
           },
           "zerolinecolor": "white",
           "zerolinewidth": 2
          }
         }
        },
        "width": 900,
        "xaxis": {
         "anchor": "y",
         "constrain": "domain",
         "domain": [
          0,
          1
         ],
         "scaleanchor": "y",
         "side": "bottom",
         "tickangle": -90,
         "tickfont": {
          "family": "Arial",
          "size": 14
         }
        },
        "yaxis": {
         "anchor": "x",
         "autorange": "reversed",
         "constrain": "domain",
         "domain": [
          0,
          1
         ],
         "tickfont": {
          "family": "Arial",
          "size": 14
         }
        }
       }
      }
     },
     "metadata": {},
     "output_type": "display_data"
    }
   ],
   "source": [
    "from plotly import express as px\n",
    "\n",
    "# Calcular la matriz de correlación (redondeada)\n",
    "corr = customer_data_cleaned.drop(columns=['Customer ID']).corr().round(2)\n",
    "\n",
    "# Crear máscara para mantener solo la mitad inferior\n",
    "mask = np.triu(np.ones(corr.shape), k=1).astype(bool)\n",
    "corr_masked = corr.mask(mask)\n",
    "\n",
    "# Crear heatmap\n",
    "fig = px.imshow(\n",
    "    corr_masked,\n",
    "    text_auto=True,\n",
    "    color_continuous_scale=[\"#ffffff\", \"#1C9BF9\"],\n",
    "    aspect=\"equal\",\n",
    "    labels=dict(x=\"\", y=\"\", color=\"Correlación\")\n",
    ")\n",
    "\n",
    "# Personalizar layout\n",
    "fig.update_layout(\n",
    "    width=900,\n",
    "    height=900,\n",
    "    xaxis_side=\"bottom\",  # Que aparezcan abajo\n",
    "    font=dict(size=15),\n",
    "    xaxis=dict(tickfont=dict(family=\"Arial\", size=14)),\n",
    "    yaxis=dict(tickfont=dict(family=\"Arial\", size=14))\n",
    ")\n",
    "\n",
    "# Cambiar fuente de los números dentro del heatmap\n",
    "fig.update_traces(\n",
    "    textfont=dict(family=\"Arial\", size=18),\n",
    "    texttemplate=\"%{z:.2f}\"\n",
    ")\n",
    "\n",
    "# Mantener etiquetas horizontales\n",
    "fig.update_xaxes(tickangle=270)\n",
    "\n",
    "fig.show()"
   ]
  },
  {
   "cell_type": "markdown",
   "metadata": {},
   "source": [
    "### Inferences\n",
    "\n",
    "- **Recency:** The longer the time since the customer's last purchase, the fewer transactions (-0.35), products purchased (-0.25), and money spent (-0.25). In other words, recent customers are more active.\n",
    "- **Total_Transactions:** More transactions are associated with more products purchased (0.62), higher spending (0.66), greater product variety (0.55), and more cancellations (0.74). Frequent customers spend and cancel more.\n",
    "- **Total_Products_Purchased:** More products purchased means higher spending (0.84) and greater variety (0.45). This is associated with a higher value per transaction (0.35) and less time since the last purchase (-0.25).\n",
    "- **Total_Spend:** Higher total spending is associated with higher transaction value (0.49), more unique products (0.50), and higher average (0.59) and variable (0.63) monthly spending. High spenders purchased recently (-0.25).\n",
    "- **Average_Transaction_Value:** Higher transaction value is closely linked to average monthly spending (0.81). It has no clear relationship with recency (-0.04) or transactions (0.00).\n",
    "- **Unique_Products_Purchased:** Greater product variety is associated with more cancellations (0.36) and recent purchases (-0.34). It also has a significant link to monthly spending (0.19).\n",
    "- **Cancellation_Frequency:** More cancellations are linked to more transactions (0.74) and a higher cancellation rate (0.60). Customers who canceled a lot purchased recently (-0.22).\n",
    "- **Cancellation_Rate:** It has no strong relationship with other variables, except for cancellation frequency (0.60). It is independent of spending or recency (-0.06).\n",
    "- **Monthly_Spending_Mean:** Higher monthly spending is associated with higher total spending (0.59), higher transaction value (0.81), and spending variability (0.40). It reflects active customers.\n",
    "- **Monthly_Spending_Std:** Higher spending variability is associated with higher total spending (0.63) and average monthly spending (0.40). Customers with variable spending purchased recently (-0.14)."
   ]
  },
  {
   "cell_type": "markdown",
   "metadata": {},
   "source": [
    "## Standard Scaler Application\n",
    "\n",
    "K-means relies heavily on the concept of 'distance' between data points to form clusters. When features are not on a similar scale, features with larger values can disproportionately influence the clustering outcome, potentially leading to incorrect groupings. That's why data must be standardized."
   ]
  },
  {
   "cell_type": "code",
   "execution_count": 796,
   "metadata": {},
   "outputs": [
    {
     "data": {
      "text/html": [
       "<div>\n",
       "<style scoped>\n",
       "    .dataframe tbody tr th:only-of-type {\n",
       "        vertical-align: middle;\n",
       "    }\n",
       "\n",
       "    .dataframe tbody tr th {\n",
       "        vertical-align: top;\n",
       "    }\n",
       "\n",
       "    .dataframe thead th {\n",
       "        text-align: right;\n",
       "    }\n",
       "</style>\n",
       "<table border=\"1\" class=\"dataframe\">\n",
       "  <thead>\n",
       "    <tr style=\"text-align: right;\">\n",
       "      <th></th>\n",
       "      <th>Recency</th>\n",
       "      <th>Total_Transactions</th>\n",
       "      <th>Total_Spend</th>\n",
       "    </tr>\n",
       "    <tr>\n",
       "      <th>Customer ID</th>\n",
       "      <th></th>\n",
       "      <th></th>\n",
       "      <th></th>\n",
       "    </tr>\n",
       "  </thead>\n",
       "  <tbody>\n",
       "    <tr>\n",
       "      <th>12346.0</th>\n",
       "      <td>2.343185</td>\n",
       "      <td>-0.445697</td>\n",
       "      <td>-0.540943</td>\n",
       "    </tr>\n",
       "    <tr>\n",
       "      <th>12347.0</th>\n",
       "      <td>-0.898409</td>\n",
       "      <td>0.428095</td>\n",
       "      <td>1.078903</td>\n",
       "    </tr>\n",
       "    <tr>\n",
       "      <th>12348.0</th>\n",
       "      <td>-0.168050</td>\n",
       "      <td>-0.096180</td>\n",
       "      <td>-0.000779</td>\n",
       "    </tr>\n",
       "    <tr>\n",
       "      <th>12349.0</th>\n",
       "      <td>-0.728325</td>\n",
       "      <td>-0.620455</td>\n",
       "      <td>0.006854</td>\n",
       "    </tr>\n",
       "    <tr>\n",
       "      <th>12350.0</th>\n",
       "      <td>2.183106</td>\n",
       "      <td>-0.620455</td>\n",
       "      <td>-0.430297</td>\n",
       "    </tr>\n",
       "  </tbody>\n",
       "</table>\n",
       "</div>"
      ],
      "text/plain": [
       "              Recency  Total_Transactions  Total_Spend\n",
       "Customer ID                                           \n",
       "12346.0      2.343185           -0.445697    -0.540943\n",
       "12347.0     -0.898409            0.428095     1.078903\n",
       "12348.0     -0.168050           -0.096180    -0.000779\n",
       "12349.0     -0.728325           -0.620455     0.006854\n",
       "12350.0      2.183106           -0.620455    -0.430297"
      ]
     },
     "execution_count": 796,
     "metadata": {},
     "output_type": "execute_result"
    }
   ],
   "source": [
    "from sklearn.preprocessing import StandardScaler\n",
    "\n",
    "# Feature selection\n",
    "RFM_features = ['Customer ID','Recency', 'Total_Transactions', 'Total_Spend']\n",
    "customer_RFM = customer_data_cleaned[RFM_features]\n",
    "\n",
    "# Initialize the StandardScaler\n",
    "scaler = StandardScaler()\n",
    "\n",
    "# List of columns that don't need to be scaled\n",
    "columns_to_exclude = ['Customer ID']\n",
    "\n",
    "# List of columns that need to be scaled\n",
    "columns_to_scale = customer_RFM.columns.difference(columns_to_exclude)\n",
    "\n",
    "# Copy the cleaned dataset\n",
    "customer_RFM_scaled = customer_RFM.copy()\n",
    "\n",
    "# Applying the scaler to the necessary columns in the dataset\n",
    "customer_RFM_scaled[columns_to_scale] = scaler.fit_transform(customer_RFM_scaled[columns_to_scale])\n",
    "\n",
    "# Set 'Customer ID' as index\n",
    "customer_RFM_scaled.set_index('Customer ID', inplace=True)\n",
    "\n",
    "# Display the first few rows of the scaled data\n",
    "customer_RFM_scaled.head()"
   ]
  },
  {
   "cell_type": "markdown",
   "metadata": {},
   "source": [
    "## Inferences\n",
    "\n",
    "A model with fewer components may be preferable to avoid overfitting. Retaining three components is a reasonable choice, as it captures 92% of the variance with fewer dimensions, facilitating interpretation and reducing model complexity."
   ]
  },
  {
   "cell_type": "markdown",
   "metadata": {},
   "source": [
    "## Determining the Optimal Number of Clusters\n",
    "\n",
    "To ascertain the optimal number of clusters (k) for segmenting customers, I will explore two renowned methods:\n",
    "\n",
    "- **Elbow Method**\n",
    "\n",
    "- **Silhouette Method**"
   ]
  },
  {
   "cell_type": "code",
   "execution_count": 797,
   "metadata": {},
   "outputs": [
    {
     "data": {
      "image/png": "[encoded data removed]",
      "text/plain": [
       "<Figure size 1200x500 with 2 Axes>"
      ]
     },
     "metadata": {},
     "output_type": "display_data"
    }
   ],
   "source": [
    "# Elbow method to find the optimal number of clusters\n",
    "from sklearn.cluster import KMeans\n",
    "from sklearn.metrics import silhouette_score\n",
    "\n",
    "# Range of clusters to test\n",
    "range_n_clusters = range(2, 10)\n",
    "inertia = []\n",
    "silhouette_scores = []\n",
    "\n",
    "# Loop through the range of clusters\n",
    "for n_clusters in range_n_clusters:\n",
    "    kmeans = KMeans(n_clusters=n_clusters, random_state=42)\n",
    "    kmeans.fit(customer_RFM_scaled)\n",
    "    \n",
    "    # Calculate inertia\n",
    "    inertia.append(kmeans.inertia_)\n",
    "    \n",
    "    # Calculate silhouette score\n",
    "    silhouette_avg = silhouette_score(customer_RFM_scaled, kmeans.labels_)\n",
    "    silhouette_scores.append(silhouette_avg)\n",
    "\n",
    "# Plotting the elbow method\n",
    "plt.figure(figsize=(12, 5))\n",
    "plt.subplot(1, 2, 1)\n",
    "plt.plot(range_n_clusters, inertia, marker='o')\n",
    "plt.title('Elbow Method')\n",
    "plt.xlabel('Number of Clusters')\n",
    "plt.ylabel('Inertia')\n",
    "plt.grid()\n",
    "plt.subplot(1, 2, 2)\n",
    "plt.plot(range_n_clusters, silhouette_scores, marker='o')\n",
    "plt.title('Silhouette Score')\n",
    "plt.xlabel('Number of Clusters')\n",
    "plt.ylabel('Silhouette Score')\n",
    "plt.grid()\n",
    "plt.tight_layout()\n",
    "plt.show()"
   ]
  },
  {
   "cell_type": "markdown",
   "metadata": {},
   "source": [
    "### Inferences\n",
    "\n",
    "**Elbow: k between 4 and 5:** The optimal number of clusters appears to be between k = 4 and k = 5, as this is where the inertia (within-cluster sum of squares) starts to level off noticeably. This \"elbow\" indicates diminishing returns in model improvement when adding more clusters.\n",
    "\n",
    "**Silhouette: k = 3 clearly wins:** The silhouette score peaks at k = 3, indicating the highest cluster cohesion and separation at that point. While k = 4 also shows a high score, the performance starts to decrease beyond that.\n",
    "\n",
    "Despite a small drop in silhouette score, 4 clusters is the best option for a RFM Segmentation"
   ]
  },
  {
   "cell_type": "markdown",
   "metadata": {},
   "source": [
    "## Applying Clustering KMeans"
   ]
  },
  {
   "cell_type": "code",
   "execution_count": 798,
   "metadata": {},
   "outputs": [
    {
     "data": {
      "text/html": [
       "<div>\n",
       "<style scoped>\n",
       "    .dataframe tbody tr th:only-of-type {\n",
       "        vertical-align: middle;\n",
       "    }\n",
       "\n",
       "    .dataframe tbody tr th {\n",
       "        vertical-align: top;\n",
       "    }\n",
       "\n",
       "    .dataframe thead th {\n",
       "        text-align: right;\n",
       "    }\n",
       "</style>\n",
       "<table border=\"1\" class=\"dataframe\">\n",
       "  <thead>\n",
       "    <tr style=\"text-align: right;\">\n",
       "      <th></th>\n",
       "      <th>Customer ID</th>\n",
       "      <th>Recency</th>\n",
       "      <th>Total_Transactions</th>\n",
       "      <th>Total_Products_Purchased</th>\n",
       "      <th>Total_Spend</th>\n",
       "      <th>Average_Transaction_Value</th>\n",
       "      <th>Unique_Products_Purchased</th>\n",
       "      <th>Cancellation_Frequency</th>\n",
       "      <th>Cancellation_Rate</th>\n",
       "      <th>Monthly_Spending_Mean</th>\n",
       "      <th>Monthly_Spending_Std</th>\n",
       "      <th>cluster</th>\n",
       "    </tr>\n",
       "  </thead>\n",
       "  <tbody>\n",
       "    <tr>\n",
       "      <th>0</th>\n",
       "      <td>12346.0</td>\n",
       "      <td>325</td>\n",
       "      <td>2</td>\n",
       "      <td>0</td>\n",
       "      <td>0.00</td>\n",
       "      <td>0.000000</td>\n",
       "      <td>1</td>\n",
       "      <td>1.0</td>\n",
       "      <td>0.5</td>\n",
       "      <td>0.000000</td>\n",
       "      <td>0.000000</td>\n",
       "      <td>1</td>\n",
       "    </tr>\n",
       "    <tr>\n",
       "      <th>1</th>\n",
       "      <td>12347.0</td>\n",
       "      <td>1</td>\n",
       "      <td>7</td>\n",
       "      <td>2458</td>\n",
       "      <td>4310.00</td>\n",
       "      <td>615.714286</td>\n",
       "      <td>103</td>\n",
       "      <td>0.0</td>\n",
       "      <td>0.0</td>\n",
       "      <td>615.714286</td>\n",
       "      <td>341.070789</td>\n",
       "      <td>2</td>\n",
       "    </tr>\n",
       "    <tr>\n",
       "      <th>2</th>\n",
       "      <td>12348.0</td>\n",
       "      <td>74</td>\n",
       "      <td>4</td>\n",
       "      <td>2332</td>\n",
       "      <td>1437.24</td>\n",
       "      <td>359.310000</td>\n",
       "      <td>21</td>\n",
       "      <td>0.0</td>\n",
       "      <td>0.0</td>\n",
       "      <td>359.310000</td>\n",
       "      <td>203.875689</td>\n",
       "      <td>0</td>\n",
       "    </tr>\n",
       "    <tr>\n",
       "      <th>3</th>\n",
       "      <td>12349.0</td>\n",
       "      <td>18</td>\n",
       "      <td>1</td>\n",
       "      <td>630</td>\n",
       "      <td>1457.55</td>\n",
       "      <td>1457.550000</td>\n",
       "      <td>72</td>\n",
       "      <td>0.0</td>\n",
       "      <td>0.0</td>\n",
       "      <td>1457.550000</td>\n",
       "      <td>0.000000</td>\n",
       "      <td>0</td>\n",
       "    </tr>\n",
       "    <tr>\n",
       "      <th>4</th>\n",
       "      <td>12350.0</td>\n",
       "      <td>309</td>\n",
       "      <td>1</td>\n",
       "      <td>196</td>\n",
       "      <td>294.40</td>\n",
       "      <td>294.400000</td>\n",
       "      <td>16</td>\n",
       "      <td>0.0</td>\n",
       "      <td>0.0</td>\n",
       "      <td>294.400000</td>\n",
       "      <td>0.000000</td>\n",
       "      <td>1</td>\n",
       "    </tr>\n",
       "  </tbody>\n",
       "</table>\n",
       "</div>"
      ],
      "text/plain": [
       "   Customer ID  Recency  Total_Transactions  Total_Products_Purchased  \\\n",
       "0      12346.0      325                   2                         0   \n",
       "1      12347.0        1                   7                      2458   \n",
       "2      12348.0       74                   4                      2332   \n",
       "3      12349.0       18                   1                       630   \n",
       "4      12350.0      309                   1                       196   \n",
       "\n",
       "   Total_Spend  Average_Transaction_Value  Unique_Products_Purchased  \\\n",
       "0         0.00                   0.000000                          1   \n",
       "1      4310.00                 615.714286                        103   \n",
       "2      1437.24                 359.310000                         21   \n",
       "3      1457.55                1457.550000                         72   \n",
       "4       294.40                 294.400000                         16   \n",
       "\n",
       "   Cancellation_Frequency  Cancellation_Rate  Monthly_Spending_Mean  \\\n",
       "0                     1.0                0.5               0.000000   \n",
       "1                     0.0                0.0             615.714286   \n",
       "2                     0.0                0.0             359.310000   \n",
       "3                     0.0                0.0            1457.550000   \n",
       "4                     0.0                0.0             294.400000   \n",
       "\n",
       "   Monthly_Spending_Std  cluster  \n",
       "0              0.000000        1  \n",
       "1            341.070789        2  \n",
       "2            203.875689        0  \n",
       "3              0.000000        0  \n",
       "4              0.000000        1  "
      ]
     },
     "execution_count": 798,
     "metadata": {},
     "output_type": "execute_result"
    }
   ],
   "source": [
    "from collections import Counter\n",
    "\n",
    "# Apply KMeans clustering using the optimal k\n",
    "kmeans = KMeans(n_clusters=4, init='k-means++', n_init=10, max_iter=100, random_state=42)\n",
    "kmeans.fit(customer_RFM_scaled)\n",
    "\n",
    "# Get the frequency of each cluster\n",
    "cluster_frequencies = Counter(kmeans.labels_)\n",
    "\n",
    "freq_sorted = cluster_frequencies.most_common()  \n",
    "#    freq_sorted = [(3, 50), (1, 45), (4, 40), (0, 30), (2, 25)]\n",
    "\n",
    "label_mapping = {old_label: new_label for new_label, (old_label, _) in enumerate(freq_sorted)}\n",
    "#    label_mapping = {3:0, 1:1, 4:2, 0:3, 2:4}\n",
    "\n",
    "# Apply that mapping to each label generated by KMeans\n",
    "original_labels = kmeans.labels_                    # array([2, 0, 3, 3, 1, ...])\n",
    "new_labels = np.array([label_mapping[label] for label in original_labels])\n",
    "\n",
    "# Add the new labels to the original DataFrame\n",
    "customer_RFM_scaled['cluster'] = new_labels\n",
    "customer_data_cleaned['cluster'] = new_labels\n",
    "\n",
    "customer_data_cleaned.head()"
   ]
  },
  {
   "cell_type": "code",
   "execution_count": 799,
   "metadata": {},
   "outputs": [
    {
     "name": "stdout",
     "output_type": "stream",
     "text": [
      "cluster\n",
      "0    2638\n",
      "1    1044\n",
      "2     559\n",
      "3      78\n",
      "Name: count, dtype: int64\n"
     ]
    }
   ],
   "source": [
    "print(customer_data_cleaned['cluster'].value_counts().sort_index())"
   ]
  },
  {
   "cell_type": "code",
   "execution_count": 800,
   "metadata": {},
   "outputs": [
    {
     "name": "stdout",
     "output_type": "stream",
     "text": [
      "K-Means Clustering Metrics:\n",
      "Silhouette Score K-Means: 0.6295880459206336\n",
      "Calinski-Harabasz Score K-Means: 4715.227610428386\n",
      "Davies-Bouldin Score K-Means: 0.6860147014308159\n"
     ]
    }
   ],
   "source": [
    "from sklearn.metrics import silhouette_score, calinski_harabasz_score, davies_bouldin_score\n",
    "\n",
    "features = customer_RFM_scaled.values\n",
    "\n",
    "# Calculate the metrics for K-Means clustering\n",
    "kmeans_silhouette = silhouette_score(features, kmeans.labels_)\n",
    "kmeans_calinski = calinski_harabasz_score(features, kmeans.labels_)\n",
    "kmeans_davies = davies_bouldin_score(features, kmeans.labels_)\n",
    "\n",
    "# Print the metrics\n",
    "print(\"K-Means Clustering Metrics:\")\n",
    "print(\"Silhouette Score K-Means:\", kmeans_silhouette)\n",
    "print(\"Calinski-Harabasz Score K-Means:\", kmeans_calinski)\n",
    "print(\"Davies-Bouldin Score K-Means:\", kmeans_davies)"
   ]
  },
  {
   "cell_type": "code",
   "execution_count": 801,
   "metadata": {},
   "outputs": [
    {
     "data": {
      "application/vnd.plotly.v1+json": {
       "config": {
        "plotlyServerURL": "https://plot.ly"
       },
       "data": [
        {
         "hovertemplate": "Recency=%{x}<br>Total_Transactions=%{y}<br>Total_Spend=%{z}<br>cluster=%{marker.color}<extra></extra>",
         "legendgroup": "",
         "marker": {
          "color": {
           "bdata": "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",
           "dtype": "i1"
          },
          "coloraxis": "coloraxis",
          "symbol": "circle"
         },
         "mode": "markers",
         "name": "",
         "scene": "scene",
         "showlegend": false,
         "type": "scatter3d",
         "x": {
          "bdata": "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",
          "dtype": "f8"
         },
         "y": {
          "bdata": "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",
          "dtype": "f8"
         },
         "z": {
          "bdata": "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",
          "dtype": "f8"
         }
        }
       ],
       "layout": {
        "coloraxis": {
         "colorbar": {
          "title": {
           "text": "cluster"
          }
         },
         "colorscale": [
          [
           0,
           "#0d0887"
          ],
          [
           0.1111111111111111,
           "#46039f"
          ],
          [
           0.2222222222222222,
           "#7201a8"
          ],
          [
           0.3333333333333333,
           "#9c179e"
          ],
          [
           0.4444444444444444,
           "#bd3786"
          ],
          [
           0.5555555555555556,
           "#d8576b"
          ],
          [
           0.6666666666666666,
           "#ed7953"
          ],
          [
           0.7777777777777778,
           "#fb9f3a"
          ],
          [
           0.8888888888888888,
           "#fdca26"
          ],
          [
           1,
           "#f0f921"
          ]
         ]
        },
        "legend": {
         "tracegroupgap": 0
        },
        "margin": {
         "t": 60
        },
        "scene": {
         "domain": {
          "x": [
           0,
           1
          ],
          "y": [
           0,
           1
          ]
         },
         "xaxis": {
          "title": {
           "text": "Recency"
          }
         },
         "yaxis": {
          "title": {
           "text": "Total_Transactions"
          }
         },
         "zaxis": {
          "title": {
           "text": "Total_Spend"
          }
         }
        },
        "template": {
         "data": {
          "bar": [
           {
            "error_x": {
             "color": "#2a3f5f"
            },
            "error_y": {
             "color": "#2a3f5f"
            },
            "marker": {
             "line": {
              "color": "#E5ECF6",
              "width": 0.5
             },
             "pattern": {
              "fillmode": "overlay",
              "size": 10,
              "solidity": 0.2
             }
            },
            "type": "bar"
           }
          ],
          "barpolar": [
           {
            "marker": {
             "line": {
              "color": "#E5ECF6",
              "width": 0.5
             },
             "pattern": {
              "fillmode": "overlay",
              "size": 10,
              "solidity": 0.2
             }
            },
            "type": "barpolar"
           }
          ],
          "carpet": [
           {
            "aaxis": {
             "endlinecolor": "#2a3f5f",
             "gridcolor": "white",
             "linecolor": "white",
             "minorgridcolor": "white",
             "startlinecolor": "#2a3f5f"
            },
            "baxis": {
             "endlinecolor": "#2a3f5f",
             "gridcolor": "white",
             "linecolor": "white",
             "minorgridcolor": "white",
             "startlinecolor": "#2a3f5f"
            },
            "type": "carpet"
           }
          ],
          "choropleth": [
           {
            "colorbar": {
             "outlinewidth": 0,
             "ticks": ""
            },
            "type": "choropleth"
           }
          ],
          "contour": [
           {
            "colorbar": {
             "outlinewidth": 0,
             "ticks": ""
            },
            "colorscale": [
             [
              0,
              "#0d0887"
             ],
             [
              0.1111111111111111,
              "#46039f"
             ],
             [
              0.2222222222222222,
              "#7201a8"
             ],
             [
              0.3333333333333333,
              "#9c179e"
             ],
             [
              0.4444444444444444,
              "#bd3786"
             ],
             [
              0.5555555555555556,
              "#d8576b"
             ],
             [
              0.6666666666666666,
              "#ed7953"
             ],
             [
              0.7777777777777778,
              "#fb9f3a"
             ],
             [
              0.8888888888888888,
              "#fdca26"
             ],
             [
              1,
              "#f0f921"
             ]
            ],
            "type": "contour"
           }
          ],
          "contourcarpet": [
           {
            "colorbar": {
             "outlinewidth": 0,
             "ticks": ""
            },
            "type": "contourcarpet"
           }
          ],
          "heatmap": [
           {
            "colorbar": {
             "outlinewidth": 0,
             "ticks": ""
            },
            "colorscale": [
             [
              0,
              "#0d0887"
             ],
             [
              0.1111111111111111,
              "#46039f"
             ],
             [
              0.2222222222222222,
              "#7201a8"
             ],
             [
              0.3333333333333333,
              "#9c179e"
             ],
             [
              0.4444444444444444,
              "#bd3786"
             ],
             [
              0.5555555555555556,
              "#d8576b"
             ],
             [
              0.6666666666666666,
              "#ed7953"
             ],
             [
              0.7777777777777778,
              "#fb9f3a"
             ],
             [
              0.8888888888888888,
              "#fdca26"
             ],
             [
              1,
              "#f0f921"
             ]
            ],
            "type": "heatmap"
           }
          ],
          "histogram": [
           {
            "marker": {
             "pattern": {
              "fillmode": "overlay",
              "size": 10,
              "solidity": 0.2
             }
            },
            "type": "histogram"
           }
          ],
          "histogram2d": [
           {
            "colorbar": {
             "outlinewidth": 0,
             "ticks": ""
            },
            "colorscale": [
             [
              0,
              "#0d0887"
             ],
             [
              0.1111111111111111,
              "#46039f"
             ],
             [
              0.2222222222222222,
              "#7201a8"
             ],
             [
              0.3333333333333333,
              "#9c179e"
             ],
             [
              0.4444444444444444,
              "#bd3786"
             ],
             [
              0.5555555555555556,
              "#d8576b"
             ],
             [
              0.6666666666666666,
              "#ed7953"
             ],
             [
              0.7777777777777778,
              "#fb9f3a"
             ],
             [
              0.8888888888888888,
              "#fdca26"
             ],
             [
              1,
              "#f0f921"
             ]
            ],
            "type": "histogram2d"
           }
          ],
          "histogram2dcontour": [
           {
            "colorbar": {
             "outlinewidth": 0,
             "ticks": ""
            },
            "colorscale": [
             [
              0,
              "#0d0887"
             ],
             [
              0.1111111111111111,
              "#46039f"
             ],
             [
              0.2222222222222222,
              "#7201a8"
             ],
             [
              0.3333333333333333,
              "#9c179e"
             ],
             [
              0.4444444444444444,
              "#bd3786"
             ],
             [
              0.5555555555555556,
              "#d8576b"
             ],
             [
              0.6666666666666666,
              "#ed7953"
             ],
             [
              0.7777777777777778,
              "#fb9f3a"
             ],
             [
              0.8888888888888888,
              "#fdca26"
             ],
             [
              1,
              "#f0f921"
             ]
            ],
            "type": "histogram2dcontour"
           }
          ],
          "mesh3d": [
           {
            "colorbar": {
             "outlinewidth": 0,
             "ticks": ""
            },
            "type": "mesh3d"
           }
          ],
          "parcoords": [
           {
            "line": {
             "colorbar": {
              "outlinewidth": 0,
              "ticks": ""
             }
            },
            "type": "parcoords"
           }
          ],
          "pie": [
           {
            "automargin": true,
            "type": "pie"
           }
          ],
          "scatter": [
           {
            "fillpattern": {
             "fillmode": "overlay",
             "size": 10,
             "solidity": 0.2
            },
            "type": "scatter"
           }
          ],
          "scatter3d": [
           {
            "line": {
             "colorbar": {
              "outlinewidth": 0,
              "ticks": ""
             }
            },
            "marker": {
             "colorbar": {
              "outlinewidth": 0,
              "ticks": ""
             }
            },
            "type": "scatter3d"
           }
          ],
          "scattercarpet": [
           {
            "marker": {
             "colorbar": {
              "outlinewidth": 0,
              "ticks": ""
             }
            },
            "type": "scattercarpet"
           }
          ],
          "scattergeo": [
           {
            "marker": {
             "colorbar": {
              "outlinewidth": 0,
              "ticks": ""
             }
            },
            "type": "scattergeo"
           }
          ],
          "scattergl": [
           {
            "marker": {
             "colorbar": {
              "outlinewidth": 0,
              "ticks": ""
             }
            },
            "type": "scattergl"
           }
          ],
          "scattermap": [
           {
            "marker": {
             "colorbar": {
              "outlinewidth": 0,
              "ticks": ""
             }
            },
            "type": "scattermap"
           }
          ],
          "scattermapbox": [
           {
            "marker": {
             "colorbar": {
              "outlinewidth": 0,
              "ticks": ""
             }
            },
            "type": "scattermapbox"
           }
          ],
          "scatterpolar": [
           {
            "marker": {
             "colorbar": {
              "outlinewidth": 0,
              "ticks": ""
             }
            },
            "type": "scatterpolar"
           }
          ],
          "scatterpolargl": [
           {
            "marker": {
             "colorbar": {
              "outlinewidth": 0,
              "ticks": ""
             }
            },
            "type": "scatterpolargl"
           }
          ],
          "scatterternary": [
           {
            "marker": {
             "colorbar": {
              "outlinewidth": 0,
              "ticks": ""
             }
            },
            "type": "scatterternary"
           }
          ],
          "surface": [
           {
            "colorbar": {
             "outlinewidth": 0,
             "ticks": ""
            },
            "colorscale": [
             [
              0,
              "#0d0887"
             ],
             [
              0.1111111111111111,
              "#46039f"
             ],
             [
              0.2222222222222222,
              "#7201a8"
             ],
             [
              0.3333333333333333,
              "#9c179e"
             ],
             [
              0.4444444444444444,
              "#bd3786"
             ],
             [
              0.5555555555555556,
              "#d8576b"
             ],
             [
              0.6666666666666666,
              "#ed7953"
             ],
             [
              0.7777777777777778,
              "#fb9f3a"
             ],
             [
              0.8888888888888888,
              "#fdca26"
             ],
             [
              1,
              "#f0f921"
             ]
            ],
            "type": "surface"
           }
          ],
          "table": [
           {
            "cells": {
             "fill": {
              "color": "#EBF0F8"
             },
             "line": {
              "color": "white"
             }
            },
            "header": {
             "fill": {
              "color": "#C8D4E3"
             },
             "line": {
              "color": "white"
             }
            },
            "type": "table"
           }
          ]
         },
         "layout": {
          "annotationdefaults": {
           "arrowcolor": "#2a3f5f",
           "arrowhead": 0,
           "arrowwidth": 1
          },
          "autotypenumbers": "strict",
          "coloraxis": {
           "colorbar": {
            "outlinewidth": 0,
            "ticks": ""
           }
          },
          "colorscale": {
           "diverging": [
            [
             0,
             "#8e0152"
            ],
            [
             0.1,
             "#c51b7d"
            ],
            [
             0.2,
             "#de77ae"
            ],
            [
             0.3,
             "#f1b6da"
            ],
            [
             0.4,
             "#fde0ef"
            ],
            [
             0.5,
             "#f7f7f7"
            ],
            [
             0.6,
             "#e6f5d0"
            ],
            [
             0.7,
             "#b8e186"
            ],
            [
             0.8,
             "#7fbc41"
            ],
            [
             0.9,
             "#4d9221"
            ],
            [
             1,
             "#276419"
            ]
           ],
           "sequential": [
            [
             0,
             "#0d0887"
            ],
            [
             0.1111111111111111,
             "#46039f"
            ],
            [
             0.2222222222222222,
             "#7201a8"
            ],
            [
             0.3333333333333333,
             "#9c179e"
            ],
            [
             0.4444444444444444,
             "#bd3786"
            ],
            [
             0.5555555555555556,
             "#d8576b"
            ],
            [
             0.6666666666666666,
             "#ed7953"
            ],
            [
             0.7777777777777778,
             "#fb9f3a"
            ],
            [
             0.8888888888888888,
             "#fdca26"
            ],
            [
             1,
             "#f0f921"
            ]
           ],
           "sequentialminus": [
            [
             0,
             "#0d0887"
            ],
            [
             0.1111111111111111,
             "#46039f"
            ],
            [
             0.2222222222222222,
             "#7201a8"
            ],
            [
             0.3333333333333333,
             "#9c179e"
            ],
            [
             0.4444444444444444,
             "#bd3786"
            ],
            [
             0.5555555555555556,
             "#d8576b"
            ],
            [
             0.6666666666666666,
             "#ed7953"
            ],
            [
             0.7777777777777778,
             "#fb9f3a"
            ],
            [
             0.8888888888888888,
             "#fdca26"
            ],
            [
             1,
             "#f0f921"
            ]
           ]
          },
          "colorway": [
           "#636efa",
           "#EF553B",
           "#00cc96",
           "#ab63fa",
           "#FFA15A",
           "#19d3f3",
           "#FF6692",
           "#B6E880",
           "#FF97FF",
           "#FECB52"
          ],
          "font": {
           "color": "#2a3f5f"
          },
          "geo": {
           "bgcolor": "white",
           "lakecolor": "white",
           "landcolor": "#E5ECF6",
           "showlakes": true,
           "showland": true,
           "subunitcolor": "white"
          },
          "hoverlabel": {
           "align": "left"
          },
          "hovermode": "closest",
          "mapbox": {
           "style": "light"
          },
          "paper_bgcolor": "white",
          "plot_bgcolor": "#E5ECF6",
          "polar": {
           "angularaxis": {
            "gridcolor": "white",
            "linecolor": "white",
            "ticks": ""
           },
           "bgcolor": "#E5ECF6",
           "radialaxis": {
            "gridcolor": "white",
            "linecolor": "white",
            "ticks": ""
           }
          },
          "scene": {
           "xaxis": {
            "backgroundcolor": "#E5ECF6",
            "gridcolor": "white",
            "gridwidth": 2,
            "linecolor": "white",
            "showbackground": true,
            "ticks": "",
            "zerolinecolor": "white"
           },
           "yaxis": {
            "backgroundcolor": "#E5ECF6",
            "gridcolor": "white",
            "gridwidth": 2,
            "linecolor": "white",
            "showbackground": true,
            "ticks": "",
            "zerolinecolor": "white"
           },
           "zaxis": {
            "backgroundcolor": "#E5ECF6",
            "gridcolor": "white",
            "gridwidth": 2,
            "linecolor": "white",
            "showbackground": true,
            "ticks": "",
            "zerolinecolor": "white"
           }
          },
          "shapedefaults": {
           "line": {
            "color": "#2a3f5f"
           }
          },
          "ternary": {
           "aaxis": {
            "gridcolor": "white",
            "linecolor": "white",
            "ticks": ""
           },
           "baxis": {
            "gridcolor": "white",
            "linecolor": "white",
            "ticks": ""
           },
           "bgcolor": "#E5ECF6",
           "caxis": {
            "gridcolor": "white",
            "linecolor": "white",
            "ticks": ""
           }
          },
          "title": {
           "x": 0.05
          },
          "xaxis": {
           "automargin": true,
           "gridcolor": "white",
           "linecolor": "white",
           "ticks": "",
           "title": {
            "standoff": 15
           },
           "zerolinecolor": "white",
           "zerolinewidth": 2
          },
          "yaxis": {
           "automargin": true,
           "gridcolor": "white",
           "linecolor": "white",
           "ticks": "",
           "title": {
            "standoff": 15
           },
           "zerolinecolor": "white",
           "zerolinewidth": 2
          }
         }
        }
       }
      }
     },
     "metadata": {},
     "output_type": "display_data"
    }
   ],
   "source": [
    "import plotly.express as px\n",
    "fig = px.scatter_3d(customer_RFM_scaled, x='Recency', y='Total_Transactions', z='Total_Spend', color='cluster')\n",
    "fig.show()"
   ]
  },
  {
   "cell_type": "code",
   "execution_count": 802,
   "metadata": {},
   "outputs": [
    {
     "name": "stdout",
     "output_type": "stream",
     "text": [
      "Mean values of each cluster:\n",
      "            Recency  Total_Transactions   Total_Spend\n",
      "cluster                                              \n",
      "0         45.840030            3.170963    887.212077\n",
      "1        248.160920            1.746169    415.546398\n",
      "2         20.127013           12.803220   4088.223077\n",
      "3         11.461538           29.589744  14830.474615\n"
     ]
    }
   ],
   "source": [
    "# Print the mean values of each cluster for insights\n",
    "print(\"Mean values of each cluster:\")\n",
    "print(customer_data_cleaned.groupby('cluster')[['Recency', 'Total_Transactions', 'Total_Spend']].mean())"
   ]
  },
  {
   "cell_type": "code",
   "execution_count": 803,
   "metadata": {},
   "outputs": [
    {
     "data": {
      "text/plain": [
       "RFM\n",
       "0    61.078953\n",
       "1    24.172262\n",
       "2    12.942811\n",
       "3     1.805974\n",
       "Name: proportion, dtype: float64"
      ]
     },
     "execution_count": 803,
     "metadata": {},
     "output_type": "execute_result"
    }
   ],
   "source": [
    "# Rename the cluster column\n",
    "customer_data_cleaned.rename(columns={'cluster': 'RFM'}, inplace=True)\n",
    "customer_RFM_scaled.rename(columns={'cluster': 'RFM'}, inplace=True)\n",
    "\n",
    "# Calculate the percentage of customers in each cluster\n",
    "cluster_percentages = customer_data_cleaned['RFM'].value_counts(normalize=True) * 100\n",
    "cluster_percentages"
   ]
  },
  {
   "cell_type": "code",
   "execution_count": 804,
   "metadata": {},
   "outputs": [
    {
     "data": {
      "text/html": [
       "<div>\n",
       "<style scoped>\n",
       "    .dataframe tbody tr th:only-of-type {\n",
       "        vertical-align: middle;\n",
       "    }\n",
       "\n",
       "    .dataframe tbody tr th {\n",
       "        vertical-align: top;\n",
       "    }\n",
       "\n",
       "    .dataframe thead th {\n",
       "        text-align: right;\n",
       "    }\n",
       "</style>\n",
       "<table border=\"1\" class=\"dataframe\">\n",
       "  <thead>\n",
       "    <tr style=\"text-align: right;\">\n",
       "      <th></th>\n",
       "      <th>Customer ID</th>\n",
       "      <th>Recency</th>\n",
       "      <th>Total_Transactions</th>\n",
       "      <th>Total_Products_Purchased</th>\n",
       "      <th>Total_Spend</th>\n",
       "      <th>Average_Transaction_Value</th>\n",
       "      <th>Unique_Products_Purchased</th>\n",
       "      <th>Cancellation_Frequency</th>\n",
       "      <th>Cancellation_Rate</th>\n",
       "      <th>Monthly_Spending_Mean</th>\n",
       "      <th>Monthly_Spending_Std</th>\n",
       "      <th>RFM</th>\n",
       "    </tr>\n",
       "  </thead>\n",
       "  <tbody>\n",
       "    <tr>\n",
       "      <th>0</th>\n",
       "      <td>12346.0</td>\n",
       "      <td>325</td>\n",
       "      <td>2</td>\n",
       "      <td>0</td>\n",
       "      <td>0.00</td>\n",
       "      <td>0.000000</td>\n",
       "      <td>1</td>\n",
       "      <td>1.0</td>\n",
       "      <td>0.500</td>\n",
       "      <td>0.000000</td>\n",
       "      <td>0.000000</td>\n",
       "      <td>Risk</td>\n",
       "    </tr>\n",
       "    <tr>\n",
       "      <th>1</th>\n",
       "      <td>12347.0</td>\n",
       "      <td>1</td>\n",
       "      <td>7</td>\n",
       "      <td>2458</td>\n",
       "      <td>4310.00</td>\n",
       "      <td>615.714286</td>\n",
       "      <td>103</td>\n",
       "      <td>0.0</td>\n",
       "      <td>0.000</td>\n",
       "      <td>615.714286</td>\n",
       "      <td>341.070789</td>\n",
       "      <td>Loyal</td>\n",
       "    </tr>\n",
       "    <tr>\n",
       "      <th>2</th>\n",
       "      <td>12348.0</td>\n",
       "      <td>74</td>\n",
       "      <td>4</td>\n",
       "      <td>2332</td>\n",
       "      <td>1437.24</td>\n",
       "      <td>359.310000</td>\n",
       "      <td>21</td>\n",
       "      <td>0.0</td>\n",
       "      <td>0.000</td>\n",
       "      <td>359.310000</td>\n",
       "      <td>203.875689</td>\n",
       "      <td>Regular</td>\n",
       "    </tr>\n",
       "    <tr>\n",
       "      <th>3</th>\n",
       "      <td>12349.0</td>\n",
       "      <td>18</td>\n",
       "      <td>1</td>\n",
       "      <td>630</td>\n",
       "      <td>1457.55</td>\n",
       "      <td>1457.550000</td>\n",
       "      <td>72</td>\n",
       "      <td>0.0</td>\n",
       "      <td>0.000</td>\n",
       "      <td>1457.550000</td>\n",
       "      <td>0.000000</td>\n",
       "      <td>Regular</td>\n",
       "    </tr>\n",
       "    <tr>\n",
       "      <th>4</th>\n",
       "      <td>12350.0</td>\n",
       "      <td>309</td>\n",
       "      <td>1</td>\n",
       "      <td>196</td>\n",
       "      <td>294.40</td>\n",
       "      <td>294.400000</td>\n",
       "      <td>16</td>\n",
       "      <td>0.0</td>\n",
       "      <td>0.000</td>\n",
       "      <td>294.400000</td>\n",
       "      <td>0.000000</td>\n",
       "      <td>Risk</td>\n",
       "    </tr>\n",
       "    <tr>\n",
       "      <th>5</th>\n",
       "      <td>12352.0</td>\n",
       "      <td>35</td>\n",
       "      <td>8</td>\n",
       "      <td>463</td>\n",
       "      <td>1265.41</td>\n",
       "      <td>158.176250</td>\n",
       "      <td>57</td>\n",
       "      <td>1.0</td>\n",
       "      <td>0.125</td>\n",
       "      <td>316.352500</td>\n",
       "      <td>134.700629</td>\n",
       "      <td>Regular</td>\n",
       "    </tr>\n",
       "    <tr>\n",
       "      <th>6</th>\n",
       "      <td>12353.0</td>\n",
       "      <td>203</td>\n",
       "      <td>1</td>\n",
       "      <td>20</td>\n",
       "      <td>89.00</td>\n",
       "      <td>89.000000</td>\n",
       "      <td>4</td>\n",
       "      <td>0.0</td>\n",
       "      <td>0.000</td>\n",
       "      <td>89.000000</td>\n",
       "      <td>0.000000</td>\n",
       "      <td>Risk</td>\n",
       "    </tr>\n",
       "    <tr>\n",
       "      <th>7</th>\n",
       "      <td>12354.0</td>\n",
       "      <td>231</td>\n",
       "      <td>1</td>\n",
       "      <td>530</td>\n",
       "      <td>1079.40</td>\n",
       "      <td>1079.400000</td>\n",
       "      <td>58</td>\n",
       "      <td>0.0</td>\n",
       "      <td>0.000</td>\n",
       "      <td>1079.400000</td>\n",
       "      <td>0.000000</td>\n",
       "      <td>Risk</td>\n",
       "    </tr>\n",
       "    <tr>\n",
       "      <th>8</th>\n",
       "      <td>12355.0</td>\n",
       "      <td>213</td>\n",
       "      <td>1</td>\n",
       "      <td>240</td>\n",
       "      <td>459.40</td>\n",
       "      <td>459.400000</td>\n",
       "      <td>13</td>\n",
       "      <td>0.0</td>\n",
       "      <td>0.000</td>\n",
       "      <td>459.400000</td>\n",
       "      <td>0.000000</td>\n",
       "      <td>Risk</td>\n",
       "    </tr>\n",
       "    <tr>\n",
       "      <th>9</th>\n",
       "      <td>12356.0</td>\n",
       "      <td>22</td>\n",
       "      <td>3</td>\n",
       "      <td>1573</td>\n",
       "      <td>2487.43</td>\n",
       "      <td>829.143333</td>\n",
       "      <td>52</td>\n",
       "      <td>0.0</td>\n",
       "      <td>0.000</td>\n",
       "      <td>829.143333</td>\n",
       "      <td>991.462585</td>\n",
       "      <td>Regular</td>\n",
       "    </tr>\n",
       "  </tbody>\n",
       "</table>\n",
       "</div>"
      ],
      "text/plain": [
       "   Customer ID  Recency  Total_Transactions  Total_Products_Purchased  \\\n",
       "0      12346.0      325                   2                         0   \n",
       "1      12347.0        1                   7                      2458   \n",
       "2      12348.0       74                   4                      2332   \n",
       "3      12349.0       18                   1                       630   \n",
       "4      12350.0      309                   1                       196   \n",
       "5      12352.0       35                   8                       463   \n",
       "6      12353.0      203                   1                        20   \n",
       "7      12354.0      231                   1                       530   \n",
       "8      12355.0      213                   1                       240   \n",
       "9      12356.0       22                   3                      1573   \n",
       "\n",
       "   Total_Spend  Average_Transaction_Value  Unique_Products_Purchased  \\\n",
       "0         0.00                   0.000000                          1   \n",
       "1      4310.00                 615.714286                        103   \n",
       "2      1437.24                 359.310000                         21   \n",
       "3      1457.55                1457.550000                         72   \n",
       "4       294.40                 294.400000                         16   \n",
       "5      1265.41                 158.176250                         57   \n",
       "6        89.00                  89.000000                          4   \n",
       "7      1079.40                1079.400000                         58   \n",
       "8       459.40                 459.400000                         13   \n",
       "9      2487.43                 829.143333                         52   \n",
       "\n",
       "   Cancellation_Frequency  Cancellation_Rate  Monthly_Spending_Mean  \\\n",
       "0                     1.0              0.500               0.000000   \n",
       "1                     0.0              0.000             615.714286   \n",
       "2                     0.0              0.000             359.310000   \n",
       "3                     0.0              0.000            1457.550000   \n",
       "4                     0.0              0.000             294.400000   \n",
       "5                     1.0              0.125             316.352500   \n",
       "6                     0.0              0.000              89.000000   \n",
       "7                     0.0              0.000            1079.400000   \n",
       "8                     0.0              0.000             459.400000   \n",
       "9                     0.0              0.000             829.143333   \n",
       "\n",
       "   Monthly_Spending_Std      RFM  \n",
       "0              0.000000     Risk  \n",
       "1            341.070789    Loyal  \n",
       "2            203.875689  Regular  \n",
       "3              0.000000  Regular  \n",
       "4              0.000000     Risk  \n",
       "5            134.700629  Regular  \n",
       "6              0.000000     Risk  \n",
       "7              0.000000     Risk  \n",
       "8              0.000000     Risk  \n",
       "9            991.462585  Regular  "
      ]
     },
     "execution_count": 804,
     "metadata": {},
     "output_type": "execute_result"
    }
   ],
   "source": [
    "# Mapping dictionary\n",
    "cluster_map = {\n",
    "    0: 'Regular',\n",
    "    1: 'Risk',\n",
    "    2: 'Loyal',\n",
    "    3: 'Champion'\n",
    "}\n",
    "\n",
    "# Apply mapping\n",
    "customer_RFM_scaled['RFM'] = customer_RFM_scaled['RFM'].map(cluster_map)\n",
    "customer_data_cleaned['RFM'] = customer_data_cleaned['RFM'].map(cluster_map)\n",
    "\n",
    "customer_data_cleaned.head(10)"
   ]
  },
  {
   "cell_type": "markdown",
   "metadata": {},
   "source": [
    "### Inferences\n",
    "\n",
    "### Evaluation Metrics\n",
    "\n",
    "- **Silhouette Score (0.6296):** A value close to 0.65 indicates good intra-cluster cohesion and inter-cluster separation. The clustering structure is solid.\n",
    "- **Calinski-Harabasz Score (4715.23):** A high value suggesting the clusters are well-defined and compact.\n",
    "- **Davies-Bouldin Score (4715.23):** A low score, which confirms distinct and non-overlapping clusters.\n",
    "### Clusters Interpretation\n",
    "\n",
    "- **Champion:** Very low recency, extremely high purchase frequency, and the highest total spend. Although they represent only 1.8% of the customer base, they are the most valuable. Should be prioritized for retention and rewards.\n",
    "- **Loyal:** Frequent buyers with strong spending and good recency. Representing 12.9%, they contribute consistently to revenue. Ideal candidates for loyalty programs and engagement campaigns.\n",
    "- **Regular:** The largest segment (61.1%) with moderate purchase activity and average spending. They form the core base with potential to be upsold or converted into more valuable customers.\n",
    "- **Risk:** High recency, low frequency, and low total spend. These customers make up 24.2% and may be on the verge of churning. Consider reactivation strategies like targeted offers or win-back campaigns."
   ]
  }
 ],
 "metadata": {
  "kernelspec": {
   "display_name": "env",
   "language": "python",
   "name": "python3"
  },
  "language_info": {
   "codemirror_mode": {
    "name": "ipython",
    "version": 3
   },
   "file_extension": ".py",
   "mimetype": "text/x-python",
   "name": "python",
   "nbconvert_exporter": "python",
   "pygments_lexer": "ipython3",
   "version": "3.12.2"
  }
 },
 "nbformat": 4,
 "nbformat_minor": 2
}
