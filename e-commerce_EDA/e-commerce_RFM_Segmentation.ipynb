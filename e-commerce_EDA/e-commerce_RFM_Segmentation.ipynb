{
 "cells": [
  {
   "cell_type": "markdown",
   "metadata": {},
   "source": [
    "# Customer RFM Segmentation for E-Commerce\n",
    "\n",
    "This project utilizes the RFM (Recency, Frequency, Monetary) method to segment customers of a UK-based online retailer using transactional data between 01/12/2010 and 09/12/2011. Through data analysis and clustering algorithms, we transform raw data into actionable customer profiles, enabling optimized marketing strategies, improved customer retention, and increased sales by identifying and understanding the purchasing behavior of the most valuable customers.\n",
    "\n",
    "Results are visualized in a [Looker Studio dashboard](https://lookerstudio.google.com/s/kaK3n1F1tMA)\n",
    "\n",
    "### Opportunity\n",
    "\n",
    "The dataset encompasses transactions recorded between 2010 and 2011. Our main goal is to enhance marketing effectiveness and increase sales through customer segmentation. To achieve this, we transform the raw transactional data into a customer-focused format by engineering new features that support the identification of distinct customer segments using clustering algorithms.\n",
    "\n",
    "This segmentation enables us to uncover unique customer profiles and gain insights into their behaviors and preferences.\n",
    "\n"
   ]
  },
  {
   "cell_type": "markdown",
   "metadata": {},
   "source": [
    "### **Dataset Description:**\n",
    "\n",
    "The dataset consist of 541,909 entries and 8 columns.\n",
    "\n",
    "| **Column**    | **Description**                                                                                   |\n",
    "|----------------|---------------------------------------------------------------------------------------------------|\n",
    "| Invoice        | Code representing each unique transaction. If this code starts with letter 'C', it indicates a cancellation. |\n",
    "| StockCode      | Code uniquely assigned to each distinct product.                                                  |\n",
    "| Description    | Description of each product.                                                                      |\n",
    "| Quantity       | The number of units of a product in a transaction.                                                |\n",
    "| InvoiceDate    | The date and time of the transaction.                                                             |\n",
    "| Price          | The unit price of the product in sterling.                                                        |\n",
    "| Customer ID     | Identifier uniquely assigned to each customer.                                                   |\n",
    "| Country        | The country where each transaction took place.                                                   |\n"
   ]
  },
  {
   "cell_type": "markdown",
   "metadata": {},
   "source": [
    "## Setup and Initialization"
   ]
  },
  {
   "cell_type": "code",
   "execution_count": 61,
   "metadata": {},
   "outputs": [],
   "source": [
    "# Importing necessary libraries\n",
    "import pandas as pd\n",
    "import numpy as np\n",
    "import matplotlib.pyplot as plt\n",
    "from plotly.offline import iplot\n",
    "\n",
    "import warnings\n",
    "warnings.filterwarnings('ignore')"
   ]
  },
  {
   "cell_type": "markdown",
   "metadata": {},
   "source": [
    "## Initial Data Analysis"
   ]
  },
  {
   "cell_type": "code",
   "execution_count": 62,
   "metadata": {},
   "outputs": [
    {
     "data": {
      "text/html": [
       "<div>\n",
       "<style scoped>\n",
       "    .dataframe tbody tr th:only-of-type {\n",
       "        vertical-align: middle;\n",
       "    }\n",
       "\n",
       "    .dataframe tbody tr th {\n",
       "        vertical-align: top;\n",
       "    }\n",
       "\n",
       "    .dataframe thead th {\n",
       "        text-align: right;\n",
       "    }\n",
       "</style>\n",
       "<table border=\"1\" class=\"dataframe\">\n",
       "  <thead>\n",
       "    <tr style=\"text-align: right;\">\n",
       "      <th></th>\n",
       "      <th>Invoice</th>\n",
       "      <th>StockCode</th>\n",
       "      <th>Description</th>\n",
       "      <th>Quantity</th>\n",
       "      <th>InvoiceDate</th>\n",
       "      <th>Price</th>\n",
       "      <th>Customer ID</th>\n",
       "      <th>Country</th>\n",
       "    </tr>\n",
       "  </thead>\n",
       "  <tbody>\n",
       "    <tr>\n",
       "      <th>0</th>\n",
       "      <td>536365</td>\n",
       "      <td>85123A</td>\n",
       "      <td>WHITE HANGING HEART T-LIGHT HOLDER</td>\n",
       "      <td>6</td>\n",
       "      <td>2010-12-01 08:26:00</td>\n",
       "      <td>2.55</td>\n",
       "      <td>17850.0</td>\n",
       "      <td>United Kingdom</td>\n",
       "    </tr>\n",
       "    <tr>\n",
       "      <th>1</th>\n",
       "      <td>536365</td>\n",
       "      <td>71053</td>\n",
       "      <td>WHITE METAL LANTERN</td>\n",
       "      <td>6</td>\n",
       "      <td>2010-12-01 08:26:00</td>\n",
       "      <td>3.39</td>\n",
       "      <td>17850.0</td>\n",
       "      <td>United Kingdom</td>\n",
       "    </tr>\n",
       "    <tr>\n",
       "      <th>2</th>\n",
       "      <td>536365</td>\n",
       "      <td>84406B</td>\n",
       "      <td>CREAM CUPID HEARTS COAT HANGER</td>\n",
       "      <td>8</td>\n",
       "      <td>2010-12-01 08:26:00</td>\n",
       "      <td>2.75</td>\n",
       "      <td>17850.0</td>\n",
       "      <td>United Kingdom</td>\n",
       "    </tr>\n",
       "    <tr>\n",
       "      <th>3</th>\n",
       "      <td>536365</td>\n",
       "      <td>84029G</td>\n",
       "      <td>KNITTED UNION FLAG HOT WATER BOTTLE</td>\n",
       "      <td>6</td>\n",
       "      <td>2010-12-01 08:26:00</td>\n",
       "      <td>3.39</td>\n",
       "      <td>17850.0</td>\n",
       "      <td>United Kingdom</td>\n",
       "    </tr>\n",
       "    <tr>\n",
       "      <th>4</th>\n",
       "      <td>536365</td>\n",
       "      <td>84029E</td>\n",
       "      <td>RED WOOLLY HOTTIE WHITE HEART.</td>\n",
       "      <td>6</td>\n",
       "      <td>2010-12-01 08:26:00</td>\n",
       "      <td>3.39</td>\n",
       "      <td>17850.0</td>\n",
       "      <td>United Kingdom</td>\n",
       "    </tr>\n",
       "  </tbody>\n",
       "</table>\n",
       "</div>"
      ],
      "text/plain": [
       "  Invoice StockCode                          Description  Quantity  \\\n",
       "0  536365    85123A   WHITE HANGING HEART T-LIGHT HOLDER         6   \n",
       "1  536365     71053                  WHITE METAL LANTERN         6   \n",
       "2  536365    84406B       CREAM CUPID HEARTS COAT HANGER         8   \n",
       "3  536365    84029G  KNITTED UNION FLAG HOT WATER BOTTLE         6   \n",
       "4  536365    84029E       RED WOOLLY HOTTIE WHITE HEART.         6   \n",
       "\n",
       "          InvoiceDate  Price  Customer ID         Country  \n",
       "0 2010-12-01 08:26:00   2.55      17850.0  United Kingdom  \n",
       "1 2010-12-01 08:26:00   3.39      17850.0  United Kingdom  \n",
       "2 2010-12-01 08:26:00   2.75      17850.0  United Kingdom  \n",
       "3 2010-12-01 08:26:00   3.39      17850.0  United Kingdom  \n",
       "4 2010-12-01 08:26:00   3.39      17850.0  United Kingdom  "
      ]
     },
     "execution_count": 62,
     "metadata": {},
     "output_type": "execute_result"
    }
   ],
   "source": [
    "# Load the dataset and dataset overview\n",
    "df = pd.read_parquet('xlsx_to_parquet/online_retail_II.parquet')\n",
    "df.head()"
   ]
  },
  {
   "cell_type": "code",
   "execution_count": 63,
   "metadata": {},
   "outputs": [
    {
     "name": "stdout",
     "output_type": "stream",
     "text": [
      "<class 'pandas.core.frame.DataFrame'>\n",
      "RangeIndex: 541910 entries, 0 to 541909\n",
      "Data columns (total 8 columns):\n",
      " #   Column       Non-Null Count   Dtype         \n",
      "---  ------       --------------   -----         \n",
      " 0   Invoice      541910 non-null  string        \n",
      " 1   StockCode    541910 non-null  category      \n",
      " 2   Description  540456 non-null  category      \n",
      " 3   Quantity     541910 non-null  int16         \n",
      " 4   InvoiceDate  541910 non-null  datetime64[ns]\n",
      " 5   Price        541910 non-null  float32       \n",
      " 6   Customer ID  406830 non-null  float64       \n",
      " 7   Country      541910 non-null  category      \n",
      "dtypes: category(3), datetime64[ns](1), float32(1), float64(1), int16(1), string(1)\n",
      "memory usage: 18.4 MB\n"
     ]
    }
   ],
   "source": [
    "df.info()"
   ]
  },
  {
   "cell_type": "markdown",
   "metadata": {},
   "source": [
    "## Data Cleaning and Transformation\n",
    "\n",
    "### Handling Missing Values"
   ]
  },
  {
   "cell_type": "code",
   "execution_count": 64,
   "metadata": {},
   "outputs": [
    {
     "data": {
      "text/plain": [
       "Customer ID    24.926648\n",
       "Description     0.268310\n",
       "dtype: float64"
      ]
     },
     "execution_count": 64,
     "metadata": {},
     "output_type": "execute_result"
    }
   ],
   "source": [
    "# Percetage of missing values\n",
    "missing_percentage = df[['Customer ID', 'Description']].isnull() \\\n",
    "    .mean() * 100\n",
    "\n",
    "missing_percentage"
   ]
  },
  {
   "cell_type": "code",
   "execution_count": 65,
   "metadata": {},
   "outputs": [],
   "source": [
    "# Saving the missing values to a CSV file\n",
    "missing_values = df[['Customer ID', 'Description']].isnull().to_csv('missing_values.csv', index=False)\n",
    "\n",
    "# Drop missing values\n",
    "df.dropna(inplace = True)"
   ]
  },
  {
   "cell_type": "markdown",
   "metadata": {},
   "source": [
    "**Customer ID (24.93% missing values) and Description (0.27% missing values)** \n",
    "- Both columns are essential for clustering customers. Therefore, missing values in the dataset are removed."
   ]
  },
  {
   "cell_type": "markdown",
   "metadata": {},
   "source": [
    "### Handling Duplicates"
   ]
  },
  {
   "cell_type": "code",
   "execution_count": 66,
   "metadata": {},
   "outputs": [
    {
     "name": "stdout",
     "output_type": "stream",
     "text": [
      "The dataset contains 5225 duplicate rows that need to be removed.\n"
     ]
    }
   ],
   "source": [
    "# Displaying the number of duplicate rows\n",
    "print(f\"The dataset contains {df.duplicated().sum()} duplicate rows that need to be removed.\")"
   ]
  },
  {
   "cell_type": "code",
   "execution_count": 67,
   "metadata": {},
   "outputs": [
    {
     "name": "stdout",
     "output_type": "stream",
     "text": [
      "<class 'pandas.core.frame.DataFrame'>\n",
      "Index: 401605 entries, 0 to 541909\n",
      "Data columns (total 8 columns):\n",
      " #   Column       Non-Null Count   Dtype         \n",
      "---  ------       --------------   -----         \n",
      " 0   Invoice      401605 non-null  string        \n",
      " 1   StockCode    401605 non-null  category      \n",
      " 2   Description  401605 non-null  category      \n",
      " 3   Quantity     401605 non-null  int16         \n",
      " 4   InvoiceDate  401605 non-null  datetime64[ns]\n",
      " 5   Price        401605 non-null  float32       \n",
      " 6   Customer ID  401605 non-null  float64       \n",
      " 7   Country      401605 non-null  category      \n",
      "dtypes: category(3), datetime64[ns](1), float32(1), float64(1), int16(1), string(1)\n",
      "memory usage: 16.8 MB\n"
     ]
    }
   ],
   "source": [
    "# Drop duplicated rows\n",
    "df.drop_duplicates(inplace = True)\n",
    "df.info()"
   ]
  },
  {
   "cell_type": "markdown",
   "metadata": {},
   "source": [
    "**10,062 Duplicates rows**\n",
    "- The presence of identical transaction times, suggests that these might be data recording errors rather than genuine repeated transactions. Therefore, duplicate rows must be removed."
   ]
  },
  {
   "cell_type": "markdown",
   "metadata": {},
   "source": [
    "### Identifying Stock Codes"
   ]
  },
  {
   "cell_type": "code",
   "execution_count": 68,
   "metadata": {},
   "outputs": [
    {
     "name": "stdout",
     "output_type": "stream",
     "text": [
      "Number of unique StockCodes: 3684\n"
     ]
    }
   ],
   "source": [
    "# Number of unique StockCodes\n",
    "nunique_stock_codes = df['StockCode'].nunique()\n",
    "print(f\"Number of unique StockCodes: {nunique_stock_codes}\")"
   ]
  },
  {
   "cell_type": "code",
   "execution_count": 69,
   "metadata": {},
   "outputs": [
    {
     "data": {
      "image/png": "[encoded data removed]",
      "text/plain": [
       "<Figure size 1200x500 with 1 Axes>"
      ]
     },
     "metadata": {},
     "output_type": "display_data"
    }
   ],
   "source": [
    "# Finding the top 10 most frequent stock codes\n",
    "top_10_stock_codes = df['StockCode'].value_counts(normalize=True).head(10) * 100\n",
    "\n",
    "# Plotting the top 10 most frequent stock codes\n",
    "plt.figure(figsize=(12, 5))\n",
    "top_10_stock_codes.plot(kind='barh', color='#1C9BF9')\n",
    "\n",
    "# Adding the percentage frequency on the bars\n",
    "for index, value in enumerate(top_10_stock_codes):\n",
    "    plt.text(value, index+0.25, f'{value:.2f}%', fontsize=10)\n",
    "\n",
    "plt.title('Top 10 Most Frequent Stock Codes')\n",
    "plt.xlabel('Percentage Frequency (%)')\n",
    "plt.ylabel('Stock Codes')\n",
    "plt.gca().invert_yaxis()\n",
    "plt.show()"
   ]
  },
  {
   "cell_type": "code",
   "execution_count": 70,
   "metadata": {},
   "outputs": [
    {
     "data": {
      "text/plain": [
       "5    3676\n",
       "0       7\n",
       "1       1\n",
       "Name: count, dtype: int64"
      ]
     },
     "execution_count": 70,
     "metadata": {},
     "output_type": "execute_result"
    }
   ],
   "source": [
    "# Values of numeric characteres in unique stock codes\n",
    "unique_stock_codes = df['StockCode'].unique()\n",
    "numeric_char_counts_in_unique_codes = pd.Series(unique_stock_codes).apply(lambda x: sum(c.isdigit() for c in str(x))).value_counts()\n",
    "numeric_char_counts_in_unique_codes"
   ]
  },
  {
   "cell_type": "code",
   "execution_count": 71,
   "metadata": {},
   "outputs": [
    {
     "name": "stdout",
     "output_type": "stream",
     "text": [
      "POST\n",
      "D\n",
      "C2\n",
      "M\n",
      "BANK CHARGES\n",
      "PADS\n",
      "DOT\n",
      "CRUK\n"
     ]
    }
   ],
   "source": [
    "# Anomalous stock codes\n",
    "anomalous_stock_codes = [code for code in unique_stock_codes if sum(c.isdigit() for c in str(code)) in (0, 1)]\n",
    "\n",
    "for code in anomalous_stock_codes:\n",
    "    print(code)"
   ]
  },
  {
   "cell_type": "code",
   "execution_count": 72,
   "metadata": {},
   "outputs": [
    {
     "name": "stdout",
     "output_type": "stream",
     "text": [
      "Percentage of records with anomalous stock codes: 0.48%\n"
     ]
    }
   ],
   "source": [
    "# Calculating the percentage of records with anomalous stock codes\n",
    "percentage_anomalous_stock_codes = len(df[df['StockCode'].isin(anomalous_stock_codes)]) / len(df) * 100\n",
    "print(f\"Percentage of records with anomalous stock codes: {percentage_anomalous_stock_codes:.2f}%\")"
   ]
  },
  {
   "cell_type": "code",
   "execution_count": 73,
   "metadata": {},
   "outputs": [
    {
     "data": {
      "text/plain": [
       "399689"
      ]
     },
     "execution_count": 73,
     "metadata": {},
     "output_type": "execute_result"
    }
   ],
   "source": [
    "# Removing rows with anomalous stock codes\n",
    "df = df[~df['StockCode'].isin(anomalous_stock_codes)]\n",
    "\n",
    "len(df)"
   ]
  },
  {
   "cell_type": "markdown",
   "metadata": {},
   "source": [
    "### Inferences on Stock Codes:\n",
    "\n",
    "- **Product Variety:** The dataset contains 3684 unique stock codes. This diversity can potentially lead to the identification of distinct customers clusters, with preferences for different types of products.\n",
    "\n",
    "- **Most Frequent Stock Codes:** A closer look at the top 10 most frequent stock codes can offer insights into the popular products or categories that are frequently purchased by customers.\n",
    "\n",
    "- **Stock Codes Anomalies:** We observe that while most stock codes are composed of 5 or 6 characters, there are some anomalies like the code 'BANK CHANGES', 'POST' (perhaps postage fees) These anomalies might represent services or non-product transactions rather than actual products.\n",
    "\n",
    "- **Percentage of records with anomalous Stock Codes:** Only 0.48%, have anomalous stock codes, which deviate from the typical format observed in the majority of the data.\n",
    "\n",
    "We remove the anomalous stock codes since there's a negligible amount of stock codes"
   ]
  },
  {
   "cell_type": "markdown",
   "metadata": {},
   "source": [
    "### Handling Cancelled Transactions"
   ]
  },
  {
   "cell_type": "code",
   "execution_count": 74,
   "metadata": {},
   "outputs": [
    {
     "data": {
      "text/html": [
       "<div>\n",
       "<style scoped>\n",
       "    .dataframe tbody tr th:only-of-type {\n",
       "        vertical-align: middle;\n",
       "    }\n",
       "\n",
       "    .dataframe tbody tr th {\n",
       "        vertical-align: top;\n",
       "    }\n",
       "\n",
       "    .dataframe thead th {\n",
       "        text-align: right;\n",
       "    }\n",
       "</style>\n",
       "<table border=\"1\" class=\"dataframe\">\n",
       "  <thead>\n",
       "    <tr style=\"text-align: right;\">\n",
       "      <th></th>\n",
       "      <th>Quantity</th>\n",
       "      <th>Price</th>\n",
       "    </tr>\n",
       "  </thead>\n",
       "  <tbody>\n",
       "    <tr>\n",
       "      <th>count</th>\n",
       "      <td>8506.000000</td>\n",
       "      <td>8506.000000</td>\n",
       "    </tr>\n",
       "    <tr>\n",
       "      <th>mean</th>\n",
       "      <td>-16.063837</td>\n",
       "      <td>4.440148</td>\n",
       "    </tr>\n",
       "    <tr>\n",
       "      <th>min</th>\n",
       "      <td>-15459.000000</td>\n",
       "      <td>0.030000</td>\n",
       "    </tr>\n",
       "    <tr>\n",
       "      <th>25%</th>\n",
       "      <td>-6.000000</td>\n",
       "      <td>1.450000</td>\n",
       "    </tr>\n",
       "    <tr>\n",
       "      <th>50%</th>\n",
       "      <td>-2.000000</td>\n",
       "      <td>2.550000</td>\n",
       "    </tr>\n",
       "    <tr>\n",
       "      <th>75%</th>\n",
       "      <td>-1.000000</td>\n",
       "      <td>4.950000</td>\n",
       "    </tr>\n",
       "    <tr>\n",
       "      <th>max</th>\n",
       "      <td>-1.000000</td>\n",
       "      <td>295.000000</td>\n",
       "    </tr>\n",
       "    <tr>\n",
       "      <th>std</th>\n",
       "      <td>227.340894</td>\n",
       "      <td>9.199141</td>\n",
       "    </tr>\n",
       "  </tbody>\n",
       "</table>\n",
       "</div>"
      ],
      "text/plain": [
       "           Quantity        Price\n",
       "count   8506.000000  8506.000000\n",
       "mean     -16.063837     4.440148\n",
       "min   -15459.000000     0.030000\n",
       "25%       -6.000000     1.450000\n",
       "50%       -2.000000     2.550000\n",
       "75%       -1.000000     4.950000\n",
       "max       -1.000000   295.000000\n",
       "std      227.340894     9.199141"
      ]
     },
     "execution_count": 74,
     "metadata": {},
     "output_type": "execute_result"
    }
   ],
   "source": [
    "# Filter out the rows with Invoice values that start with 'C' and create a new column 'Transaction_Status' indicating the status of the transaction\n",
    "df['Transaction_Status'] = np.where(df['Invoice'].astype(str).str.startswith('C'), 'Cancelled', 'Completed')\n",
    "\n",
    "# Analyze the 'Cancelled' transactions\n",
    "cancelled_transactions = df[df['Transaction_Status'] == 'Cancelled']\n",
    "cancelled_transactions.describe().drop(['Customer ID', 'InvoiceDate'], axis=1)"
   ]
  },
  {
   "cell_type": "code",
   "execution_count": 75,
   "metadata": {},
   "outputs": [
    {
     "name": "stdout",
     "output_type": "stream",
     "text": [
      "Shape of transactions with TotalPrice negative: (8506, 10)\n",
      "Sum of TotalPrice with negative values: -267278.40625\n",
      "Sum of TotalPrice with Transaction_Status as Cancelled: -267278.40625\n"
     ]
    }
   ],
   "source": [
    "# Total price of each transaction\n",
    "df['TotalPrice'] = df['Quantity'] * df['Price']\n",
    "\n",
    "# Check shape of transactions with TotalPrice negative\n",
    "print(f'Shape of transactions with TotalPrice negative: {df[df[\"TotalPrice\"] < 0].shape}')\n",
    "\n",
    "# Check sum of TotalPrice with negative values\n",
    "print(f'Sum of TotalPrice with negative values: {df[df[\"TotalPrice\"] < 0][\"TotalPrice\"].sum()}')\n",
    "\n",
    "# Check sum of TotalPrice with Transaction_Status as Cancelled\n",
    "print(f'Sum of TotalPrice with Transaction_Status as Cancelled: {df[df[\"Transaction_Status\"] == \"Cancelled\"][\"TotalPrice\"].sum()}')"
   ]
  },
  {
   "cell_type": "code",
   "execution_count": 76,
   "metadata": {},
   "outputs": [
    {
     "data": {
      "text/plain": [
       "2.128154640232781"
      ]
     },
     "execution_count": 76,
     "metadata": {},
     "output_type": "execute_result"
    }
   ],
   "source": [
    "# Cancelled transactions percentage\n",
    "cancelled_percentage = (cancelled_transactions.shape[0] / df.shape[0]) * 100\n",
    "cancelled_percentage"
   ]
  },
  {
   "cell_type": "markdown",
   "metadata": {},
   "source": [
    "### Inferences\n",
    "\n",
    "- We can see that even thought the percentage of cancelled transactions is low, the total money is signiflicantly high.\n",
    "\n",
    "The strategy is to retain these cancelled transactions in the dataset, marking them distinctly to facilitate further analysis. This approach will:\n",
    "\n",
    "- Enhance feature engineering metrics.\n",
    "- The sum of total spend by customer will be balanced with the transaction of order in the first place.\n",
    "- Identify products with high cancellation rating."
   ]
  },
  {
   "cell_type": "markdown",
   "metadata": {},
   "source": [
    "### Cleaning Description Column"
   ]
  },
  {
   "cell_type": "code",
   "execution_count": 77,
   "metadata": {},
   "outputs": [
    {
     "data": {
      "image/png": "[encoded data removed]",
      "text/plain": [
       "<Figure size 1200x800 with 1 Axes>"
      ]
     },
     "metadata": {},
     "output_type": "display_data"
    }
   ],
   "source": [
    "# Calculate the occurrence of each unique description and sort them\n",
    "description_counts = df['Description'].value_counts()\n",
    "\n",
    "# Get the top 30 descriptions\n",
    "top_30_descriptions = description_counts[:30]\n",
    "\n",
    "# Plotting\n",
    "plt.figure(figsize=(12,8))\n",
    "plt.barh(top_30_descriptions.index[::-1], top_30_descriptions.values[::-1], color='#1C9BF9')\n",
    "\n",
    "# Adding labels and title\n",
    "plt.xlabel('Number of Occurrences')\n",
    "plt.ylabel('Description')\n",
    "plt.title('Top 30 Most Frequent Descriptions')\n",
    "\n",
    "# Show the plot\n",
    "plt.show()"
   ]
  },
  {
   "cell_type": "code",
   "execution_count": 78,
   "metadata": {},
   "outputs": [
    {
     "name": "stdout",
     "output_type": "stream",
     "text": [
      "Unique descriptions containing lowercase letters:\n",
      "--------------------------------------------------\n",
      "BAG 500g SWIRLY MARBLES\n",
      "POLYESTER FILLER PAD 45x45cm\n",
      "POLYESTER FILLER PAD 45x30cm\n",
      "POLYESTER FILLER PAD 40x40cm\n",
      "FRENCH BLUE METAL DOOR SIGN No\n",
      "BAG 250g SWIRLY MARBLES\n",
      "BAG 125g SWIRLY MARBLES\n",
      "3 TRADITIONAl BISCUIT CUTTERS  SET\n",
      "NUMBER TILE COTTAGE GARDEN No\n",
      "FOLK ART GREETING CARD,pack/12\n",
      "ESSENTIAL BALM 3.5g TIN IN ENVELOPE\n",
      "POLYESTER FILLER PAD 65CMx65CM\n",
      "NUMBER TILE VINTAGE FONT No \n",
      "POLYESTER FILLER PAD 30CMx30CM\n",
      "POLYESTER FILLER PAD 60x40cm\n",
      "FLOWERS HANDBAG blue and orange\n",
      "Next Day Carriage\n",
      "THE KING GIFT BAG 25x24x12cm\n",
      "High Resolution Image\n"
     ]
    }
   ],
   "source": [
    "# Finding unique descriptions containing lowercase letters\n",
    "lowercase_descriptions = df['Description'].unique()\n",
    "lowercase_descriptions = [desc for desc in lowercase_descriptions if any(c.islower() for c in str(desc))]\n",
    "\n",
    "print(\"Unique descriptions containing lowercase letters:\")\n",
    "print(\"-\" * 50)\n",
    "for desc in lowercase_descriptions:\n",
    "    print(desc)"
   ]
  },
  {
   "cell_type": "code",
   "execution_count": 79,
   "metadata": {},
   "outputs": [
    {
     "name": "stdout",
     "output_type": "stream",
     "text": [
      "Number of records with service descriptions: 83\n",
      "Percentage of records with service descriptions: 0.02%\n"
     ]
    }
   ],
   "source": [
    "# Calculating the number and percentage of records with service descriptions\n",
    "service_descriptions = [\"Next Day Carriage\", \"High Resolution Image\"]\n",
    "\n",
    "number_service_descriptions = df[df['Description'].isin(service_descriptions)].shape[0]\n",
    "percentage_service_descriptions = (number_service_descriptions / df.shape[0]) * 100\n",
    "print(f\"Number of records with service descriptions: {number_service_descriptions}\")\n",
    "print(f\"Percentage of records with service descriptions: {percentage_service_descriptions:.2f}%\")\n",
    "\n",
    "# Removing rows with descriptions containing service descriptions\n",
    "df = df[~df['Description'].isin(service_descriptions)]"
   ]
  },
  {
   "cell_type": "code",
   "execution_count": 80,
   "metadata": {},
   "outputs": [
    {
     "data": {
      "text/plain": [
       "399606"
      ]
     },
     "execution_count": 80,
     "metadata": {},
     "output_type": "execute_result"
    }
   ],
   "source": [
    "df.shape[0]"
   ]
  },
  {
   "cell_type": "markdown",
   "metadata": {},
   "source": [
    "### Inferences\n",
    "\n",
    "- The most frequent descriptions are generally household items, particularly those associated with kitchenware, lunch bags, and decorative items.\n",
    "\n",
    "- All the descriptions are in uppercase, which might be a standardized format for entering product descriptions in the database. It would be prudent to check if there are descriptions entered in lowercase or a mix of case styles.\n",
    "\n",
    "- Upon reviewing the descriptions that contain lowecase characters, it is evident that some entries are not product descriptions, such as \"Next Day Carriage\" and \"High Resolution Image\". Therefore, we removed rows with this descriptions."
   ]
  },
  {
   "cell_type": "markdown",
   "metadata": {},
   "source": [
    "## Comparing Stock Codes with Descriptions"
   ]
  },
  {
   "cell_type": "code",
   "execution_count": 81,
   "metadata": {},
   "outputs": [
    {
     "data": {
      "text/plain": [
       "{'Invoice': 21784,\n",
       " 'StockCode': 3674,\n",
       " 'Description': 3886,\n",
       " 'Quantity': 432,\n",
       " 'InvoiceDate': 20132,\n",
       " 'Price': 370,\n",
       " 'Customer ID': 4363,\n",
       " 'Country': 37,\n",
       " 'Transaction_Status': 2,\n",
       " 'TotalPrice': 3745}"
      ]
     },
     "execution_count": 81,
     "metadata": {},
     "output_type": "execute_result"
    }
   ],
   "source": [
    "# Unique values in each column\n",
    "{columns: len(df[columns].unique()) for columns in df.columns}"
   ]
  },
  {
   "cell_type": "code",
   "execution_count": 82,
   "metadata": {},
   "outputs": [
    {
     "name": "stdout",
     "output_type": "stream",
     "text": [
      "Descriptions shared by multiple StockCodes:\n",
      "--------------------------------------------------\n",
      "                          Description  StockCode_Count\n",
      "827      COLOURING PENCILS BROWN TUBE                2\n",
      "829        COLUMBIAN CANDLE RECTANGLE                2\n",
      "830            COLUMBIAN CANDLE ROUND                2\n",
      "1080  EAU DE NILE JEWELLED PHOTOFRAME                2\n",
      "1324     FRENCH FLORAL CUSHION COVER                 2\n",
      "1327    FRENCH LATTICE CUSHION COVER                 2\n",
      "1345              FROSTED WHITE BASE                 2\n",
      "2018   METAL SIGN,CUPCAKE SINGLE HOOK                3\n",
      "2332  PAPER LANTERN 9 POINT SNOW STAR                2\n",
      "2461    PINK FAIRY CAKE CUSHION COVER                2\n",
      "2466    PINK FLOCK GLASS CANDLEHOLDER                2\n",
      "2472       PINK FLOWERS RABBIT EASTER                2\n",
      "2796          RETRO PLASTIC 70'S TRAY                2\n",
      "2797         RETRO PLASTIC DAISY TRAY                2\n",
      "2799         RETRO PLASTIC POLKA TRAY                2\n",
      "2872     ROUND BLUE CLOCK WITH SUCKER                2\n",
      "3331    SQUARE CHERRY BLOSSOM CABINET                2\n",
      "3355         STORAGE TIN VINTAGE LEAF                2\n",
      "3685      WHITE BAMBOO RIBS LAMPSHADE                2\n",
      "\n",
      "StockCode details with shared descriptions:\n",
      "--------------------------------------------------\n",
      "       StockCode                      Description\n",
      "741        10133     COLOURING PENCILS BROWN TUBE\n",
      "3330       10135     COLOURING PENCILS BROWN TUBE\n",
      "3951       72133       COLUMBIAN CANDLE RECTANGLE\n",
      "12120      72131       COLUMBIAN CANDLE RECTANGLE\n",
      "7070       72130           COLUMBIAN CANDLE ROUND\n",
      "7071       72128           COLUMBIAN CANDLE ROUND\n",
      "75983     85024B  EAU DE NILE JEWELLED PHOTOFRAME\n",
      "37504     85023B  EAU DE NILE JEWELLED PHOTOFRAME\n",
      "170525     20840     FRENCH FLORAL CUSHION COVER \n",
      "93898      20837     FRENCH FLORAL CUSHION COVER \n",
      "172798     20838    FRENCH LATTICE CUSHION COVER \n",
      "172505     20835    FRENCH LATTICE CUSHION COVER \n",
      "29965      79403              FROSTED WHITE BASE \n",
      "91904      79406              FROSTED WHITE BASE \n",
      "29818     82613C   METAL SIGN,CUPCAKE SINGLE HOOK\n",
      "39555     82613A   METAL SIGN,CUPCAKE SINGLE HOOK\n",
      "9276      82613B   METAL SIGN,CUPCAKE SINGLE HOOK\n",
      "171346     23041  PAPER LANTERN 9 POINT SNOW STAR\n",
      "176849     23040  PAPER LANTERN 9 POINT SNOW STAR\n",
      "12796     47586A    PINK FAIRY CAKE CUSHION COVER\n",
      "42403     47585A    PINK FAIRY CAKE CUSHION COVER\n",
      "31758      79329    PINK FLOCK GLASS CANDLEHOLDER\n",
      "95347      79331    PINK FLOCK GLASS CANDLEHOLDER\n",
      "125020    35910B       PINK FLOWERS RABBIT EASTER\n",
      "89682     35909B       PINK FLOWERS RABBIT EASTER\n",
      "9170      79190A          RETRO PLASTIC 70'S TRAY\n",
      "64593     79192A          RETRO PLASTIC 70'S TRAY\n",
      "10013     79190D         RETRO PLASTIC DAISY TRAY\n",
      "67929     79191D         RETRO PLASTIC DAISY TRAY\n",
      "20476     79190B         RETRO PLASTIC POLKA TRAY\n",
      "10081     79191B         RETRO PLASTIC POLKA TRAY\n",
      "249672    81952B     ROUND BLUE CLOCK WITH SUCKER\n",
      "261919    81953B     ROUND BLUE CLOCK WITH SUCKER\n",
      "30554      84666    SQUARE CHERRY BLOSSOM CABINET\n",
      "14058      84665    SQUARE CHERRY BLOSSOM CABINET\n",
      "218409     23235         STORAGE TIN VINTAGE LEAF\n",
      "220213     23244         STORAGE TIN VINTAGE LEAF\n",
      "20340      40003      WHITE BAMBOO RIBS LAMPSHADE\n",
      "3093       40001      WHITE BAMBOO RIBS LAMPSHADE\n"
     ]
    }
   ],
   "source": [
    "# Ensure columns are of type string\n",
    "df['StockCode'] = df['StockCode'].astype(str)\n",
    "df['Description'] = df['Description'].astype(str)\n",
    "\n",
    "# Count how many StockCode are associated with each Description\n",
    "description_counts = df.groupby('Description')['StockCode'].nunique().reset_index()\n",
    "description_counts.rename(columns={'StockCode': 'StockCode_Count'}, inplace=True)\n",
    "\n",
    "# Filter descriptions shared by more than one StockCode\n",
    "shared_descriptions = description_counts[description_counts['StockCode_Count'] > 1]\n",
    "\n",
    "# Show shared descriptions\n",
    "print(\"Descriptions shared by multiple StockCodes:\")\n",
    "print(\"-\" * 50)\n",
    "print(shared_descriptions)\n",
    "\n",
    "# Get details of the StockCode associated with these Descriptions\n",
    "shared_desc_details = df[df['Description'].isin(shared_descriptions['Description'])][['StockCode', 'Description']].drop_duplicates().sort_values(by='Description')\n",
    "\n",
    "# Show details\n",
    "print(\"\\nStockCode details with shared descriptions:\")\n",
    "print(\"-\" * 50)\n",
    "print(shared_desc_details)"
   ]
  },
  {
   "cell_type": "code",
   "execution_count": 83,
   "metadata": {},
   "outputs": [
    {
     "name": "stdout",
     "output_type": "stream",
     "text": [
      "Stock codes with more than 1 unique description:\n",
      "--------------------------------------------------\n",
      "     StockCode  Unique_Descriptions_Count\n",
      "42      16156L                          2\n",
      "100     17107D                          3\n",
      "118      20622                          2\n",
      "170      20725                          2\n",
      "262      20914                          2\n",
      "...        ...                        ...\n",
      "3308    85184C                          2\n",
      "3309    85185B                          2\n",
      "3372    90014A                          2\n",
      "3373    90014B                          2\n",
      "3374    90014C                          2\n",
      "\n",
      "[213 rows x 2 columns]\n",
      "\n",
      "Details of the stock codes with more than 1 unique description:\n",
      "--------------------------------------------------\n",
      "       StockCode                          Description\n",
      "47284     16156L                       WRAP, CAROUSEL\n",
      "138080    16156L                        WRAP CAROUSEL\n",
      "315743    17107D         FLOWER FAIRY 5 DRAWER LINERS\n",
      "347764    17107D    FLOWER FAIRY 5 SUMMER DRAW LINERS\n",
      "6467      17107D  FLOWER FAIRY,5 SUMMER B'DRAW LINERS\n",
      "...          ...                                  ...\n",
      "37284     90014A            SILVER/MOP ORBIT NECKLACE\n",
      "28450     90014B         GOLD M PEARL  ORBIT NECKLACE\n",
      "386649    90014B           GOLD M.O.P. ORBIT NECKLACE\n",
      "504701    90014C      SILVER AND BLACK ORBIT NECKLACE\n",
      "142063    90014C          SILVER/BLACK ORBIT NECKLACE\n",
      "\n",
      "[445 rows x 2 columns]\n"
     ]
    }
   ],
   "source": [
    "# Convert StockCode to string\n",
    "df['StockCode'] = df['StockCode'].astype(str)\n",
    "\n",
    "# Group by StockCode and count the uniques Descriptions\n",
    "stock_code_description = df.groupby('StockCode')['Description'].nunique().reset_index()\n",
    "stock_code_description.rename(columns={'Description': 'Unique_Descriptions_Count'}, inplace= True)\n",
    "\n",
    "# Filtering the stock codes with more than 1 unique description\n",
    "multiple_descriptions = stock_code_description[stock_code_description['Unique_Descriptions_Count'] > 1]\n",
    "\n",
    "# Displaying the stock codes with more than 1 unique description\n",
    "print(\"Stock codes with more than 1 unique description:\")\n",
    "print(\"-\" * 50)\n",
    "\n",
    "print(multiple_descriptions)\n",
    "\n",
    "# Obtaining the details of the stock codes with more than 1 unique description\n",
    "multiple_descriptions_details = multiple_descriptions['StockCode']\n",
    "details = df[df['StockCode'].isin(multiple_descriptions_details)][['StockCode', 'Description']].drop_duplicates().sort_values(by='StockCode')\n",
    "\n",
    "print(\"\\nDetails of the stock codes with more than 1 unique description:\")\n",
    "print(\"-\" * 50)\n",
    "print(details)"
   ]
  },
  {
   "cell_type": "code",
   "execution_count": 84,
   "metadata": {},
   "outputs": [
    {
     "data": {
      "text/plain": [
       "{'Invoice': 21784,\n",
       " 'StockCode': 3674,\n",
       " 'Description': 3886,\n",
       " 'Quantity': 432,\n",
       " 'InvoiceDate': 20132,\n",
       " 'Price': 370,\n",
       " 'Customer ID': 4363,\n",
       " 'Country': 37,\n",
       " 'Transaction_Status': 2,\n",
       " 'TotalPrice': 3745}"
      ]
     },
     "execution_count": 84,
     "metadata": {},
     "output_type": "execute_result"
    }
   ],
   "source": [
    "{columns: len(df[columns].unique()) for columns in df.columns}"
   ]
  },
  {
   "cell_type": "code",
   "execution_count": 85,
   "metadata": {},
   "outputs": [
    {
     "name": "stdout",
     "output_type": "stream",
     "text": [
      "Unique values after cleaning:\n",
      "StockCode: 3674\n",
      "Description: 3674\n",
      "No StockCode with multiple descriptions.\n",
      "There are no descriptions shared by multiple StockCode.\n"
     ]
    }
   ],
   "source": [
    "import pandas as pd\n",
    "\n",
    "# Ensure columns are of type string\n",
    "df['StockCode'] = df['StockCode'].astype(str)\n",
    "df['Description'] = df['Description'].astype(str)\n",
    "\n",
    "# Step 1: Unify multiple descriptions by selecting the most frequent one\n",
    "most_frequent_desc = df.groupby(['StockCode', 'Description']).size().reset_index(name='Count')\n",
    "most_frequent_desc = most_frequent_desc.sort_values(['StockCode', 'Count'], ascending=[True, False])\n",
    "most_frequent_desc = most_frequent_desc.groupby('StockCode').first().reset_index()[['StockCode', 'Description']]\n",
    "\n",
    "# Update the DataFrame with unified descriptions\n",
    "df = df.drop(columns=['Description']).merge(most_frequent_desc, on='StockCode', how='left')\n",
    "\n",
    "# Step 2: Identify and modify shared descriptions\n",
    "description_counts = df.groupby('Description')['StockCode'].nunique().reset_index()\n",
    "shared_descriptions = description_counts[description_counts['StockCode'] > 1]['Description']\n",
    "\n",
    "# Modify shared descriptions by adding the StockCode\n",
    "df.loc[df['Description'].isin(shared_descriptions), 'Description'] = (\n",
    "    df['Description'] + \" (\" + df['StockCode'] + \")\"\n",
    ")\n",
    "\n",
    "# Step 3: Validate results\n",
    "# Verify unique values\n",
    "print(\"Unique values after cleaning:\")\n",
    "print(f\"StockCode: {df['StockCode'].nunique()}\")\n",
    "print(f\"Description: {df['Description'].nunique()}\")\n",
    "\n",
    "# Check multiple descriptions\n",
    "stock_code_description = df.groupby('StockCode')['Description'].nunique().reset_index()\n",
    "multiple_descriptions = stock_code_description[stock_code_description['Description'] > 1]\n",
    "if multiple_descriptions.empty:\n",
    "    print(\"No StockCode with multiple descriptions.\")\n",
    "else:\n",
    "    print(\"Warning: Some StockCode still have multiple descriptions:\")\n",
    "    print(multiple_descriptions)\n",
    "\n",
    "# Check shared descriptions\n",
    "description_counts = df.groupby('Description')['StockCode'].nunique().reset_index()\n",
    "shared_descriptions = description_counts[description_counts['StockCode'] > 1]\n",
    "if shared_descriptions.empty:\n",
    "    print(\"There are no descriptions shared by multiple StockCode.\")\n",
    "else:\n",
    "    print(\"Warning: Some descriptions are still shared:\")\n",
    "    print(shared_descriptions)"
   ]
  },
  {
   "cell_type": "markdown",
   "metadata": {},
   "source": [
    "### Inferences:\n",
    "\n",
    "- **StockCodes with multiple Descriptions:** 213 StockCodes have multiple descriptions (196 with 2, 15 with 3, 2 with 4), causing extra Description values\n",
    "- **Descriptions shared by multiple StockCodes:** 19 descriptions are used by 39 StockCodes\n",
    "\n",
    "The presence of multiple descriptions per StockCode and shared descriptions across StockCode led to data quality issues, complicating product-level analyses such as identifying top-selling items.\n",
    "\n",
    "### Strategy:\n",
    "\n",
    "- For the 213 StockCodes with multiple descriptions, we selected the most frequent Description for each StockCode using a group-by operation and sorting by count.\n",
    "- For the 19 descriptions shared across 39 StockCode, we appended the StockCode in parentheses to create unique descriptions (e.g., \"COLOURING PENCILS BROWN TUBE (10133)\" and \"COLOURING PENCILS BROWN TUBE (10135)\")."
   ]
  },
  {
   "cell_type": "markdown",
   "metadata": {},
   "source": [
    "## Treating Zero Unit Prices"
   ]
  },
  {
   "cell_type": "markdown",
   "metadata": {},
   "source": [
    "### "
   ]
  },
  {
   "cell_type": "code",
   "execution_count": 86,
   "metadata": {},
   "outputs": [
    {
     "data": {
      "text/plain": [
       "count    399606.000000\n",
       "mean          2.904957\n",
       "std           4.448796\n",
       "min           0.000000\n",
       "25%           1.250000\n",
       "50%           1.950000\n",
       "75%           3.750000\n",
       "max         649.500000\n",
       "Name: Price, dtype: float64"
      ]
     },
     "execution_count": 86,
     "metadata": {},
     "output_type": "execute_result"
    }
   ],
   "source": [
    "df['Price'].describe()"
   ]
  },
  {
   "cell_type": "code",
   "execution_count": 87,
   "metadata": {},
   "outputs": [
    {
     "data": {
      "text/html": [
       "<div>\n",
       "<style scoped>\n",
       "    .dataframe tbody tr th:only-of-type {\n",
       "        vertical-align: middle;\n",
       "    }\n",
       "\n",
       "    .dataframe tbody tr th {\n",
       "        vertical-align: top;\n",
       "    }\n",
       "\n",
       "    .dataframe thead th {\n",
       "        text-align: right;\n",
       "    }\n",
       "</style>\n",
       "<table border=\"1\" class=\"dataframe\">\n",
       "  <thead>\n",
       "    <tr style=\"text-align: right;\">\n",
       "      <th></th>\n",
       "      <th>Quantity</th>\n",
       "    </tr>\n",
       "  </thead>\n",
       "  <tbody>\n",
       "    <tr>\n",
       "      <th>count</th>\n",
       "      <td>33.000000</td>\n",
       "    </tr>\n",
       "    <tr>\n",
       "      <th>mean</th>\n",
       "      <td>420.515152</td>\n",
       "    </tr>\n",
       "    <tr>\n",
       "      <th>min</th>\n",
       "      <td>1.000000</td>\n",
       "    </tr>\n",
       "    <tr>\n",
       "      <th>25%</th>\n",
       "      <td>2.000000</td>\n",
       "    </tr>\n",
       "    <tr>\n",
       "      <th>50%</th>\n",
       "      <td>11.000000</td>\n",
       "    </tr>\n",
       "    <tr>\n",
       "      <th>75%</th>\n",
       "      <td>36.000000</td>\n",
       "    </tr>\n",
       "    <tr>\n",
       "      <th>max</th>\n",
       "      <td>12540.000000</td>\n",
       "    </tr>\n",
       "    <tr>\n",
       "      <th>std</th>\n",
       "      <td>2176.713608</td>\n",
       "    </tr>\n",
       "  </tbody>\n",
       "</table>\n",
       "</div>"
      ],
      "text/plain": [
       "           Quantity\n",
       "count     33.000000\n",
       "mean     420.515152\n",
       "min        1.000000\n",
       "25%        2.000000\n",
       "50%       11.000000\n",
       "75%       36.000000\n",
       "max    12540.000000\n",
       "std     2176.713608"
      ]
     },
     "execution_count": 87,
     "metadata": {},
     "output_type": "execute_result"
    }
   ],
   "source": [
    "df[df['Price']==0].describe()[['Quantity']]"
   ]
  },
  {
   "cell_type": "code",
   "execution_count": 88,
   "metadata": {},
   "outputs": [
    {
     "data": {
      "text/html": [
       "<div>\n",
       "<style scoped>\n",
       "    .dataframe tbody tr th:only-of-type {\n",
       "        vertical-align: middle;\n",
       "    }\n",
       "\n",
       "    .dataframe tbody tr th {\n",
       "        vertical-align: top;\n",
       "    }\n",
       "\n",
       "    .dataframe thead th {\n",
       "        text-align: right;\n",
       "    }\n",
       "</style>\n",
       "<table border=\"1\" class=\"dataframe\">\n",
       "  <thead>\n",
       "    <tr style=\"text-align: right;\">\n",
       "      <th></th>\n",
       "      <th>Invoice</th>\n",
       "      <th>StockCode</th>\n",
       "      <th>Quantity</th>\n",
       "      <th>InvoiceDate</th>\n",
       "      <th>Price</th>\n",
       "      <th>Customer ID</th>\n",
       "      <th>Country</th>\n",
       "      <th>Transaction_Status</th>\n",
       "      <th>TotalPrice</th>\n",
       "      <th>Description</th>\n",
       "    </tr>\n",
       "  </thead>\n",
       "  <tbody>\n",
       "    <tr>\n",
       "      <th>6816</th>\n",
       "      <td>537197</td>\n",
       "      <td>22841</td>\n",
       "      <td>1</td>\n",
       "      <td>2010-12-05 14:02:00</td>\n",
       "      <td>0.0</td>\n",
       "      <td>12647.0</td>\n",
       "      <td>Germany</td>\n",
       "      <td>Completed</td>\n",
       "      <td>0.0</td>\n",
       "      <td>ROUND CAKE TIN VINTAGE GREEN</td>\n",
       "    </tr>\n",
       "    <tr>\n",
       "      <th>22536</th>\n",
       "      <td>539263</td>\n",
       "      <td>22580</td>\n",
       "      <td>4</td>\n",
       "      <td>2010-12-16 14:36:00</td>\n",
       "      <td>0.0</td>\n",
       "      <td>16560.0</td>\n",
       "      <td>United Kingdom</td>\n",
       "      <td>Completed</td>\n",
       "      <td>0.0</td>\n",
       "      <td>ADVENT CALENDAR GINGHAM SACK</td>\n",
       "    </tr>\n",
       "    <tr>\n",
       "      <th>25442</th>\n",
       "      <td>539722</td>\n",
       "      <td>22423</td>\n",
       "      <td>10</td>\n",
       "      <td>2010-12-21 13:45:00</td>\n",
       "      <td>0.0</td>\n",
       "      <td>14911.0</td>\n",
       "      <td>EIRE</td>\n",
       "      <td>Completed</td>\n",
       "      <td>0.0</td>\n",
       "      <td>REGENCY CAKESTAND 3 TIER</td>\n",
       "    </tr>\n",
       "    <tr>\n",
       "      <th>29243</th>\n",
       "      <td>540372</td>\n",
       "      <td>22090</td>\n",
       "      <td>24</td>\n",
       "      <td>2011-01-06 16:41:00</td>\n",
       "      <td>0.0</td>\n",
       "      <td>13081.0</td>\n",
       "      <td>United Kingdom</td>\n",
       "      <td>Completed</td>\n",
       "      <td>0.0</td>\n",
       "      <td>PAPER BUNTING RETROSPOT</td>\n",
       "    </tr>\n",
       "    <tr>\n",
       "      <th>29245</th>\n",
       "      <td>540372</td>\n",
       "      <td>22553</td>\n",
       "      <td>24</td>\n",
       "      <td>2011-01-06 16:41:00</td>\n",
       "      <td>0.0</td>\n",
       "      <td>13081.0</td>\n",
       "      <td>United Kingdom</td>\n",
       "      <td>Completed</td>\n",
       "      <td>0.0</td>\n",
       "      <td>PLASTERS IN TIN SKULLS</td>\n",
       "    </tr>\n",
       "    <tr>\n",
       "      <th>34743</th>\n",
       "      <td>541109</td>\n",
       "      <td>22168</td>\n",
       "      <td>1</td>\n",
       "      <td>2011-01-13 15:10:00</td>\n",
       "      <td>0.0</td>\n",
       "      <td>15107.0</td>\n",
       "      <td>United Kingdom</td>\n",
       "      <td>Completed</td>\n",
       "      <td>0.0</td>\n",
       "      <td>ORGANISER WOOD ANTIQUE WHITE</td>\n",
       "    </tr>\n",
       "    <tr>\n",
       "      <th>54228</th>\n",
       "      <td>543599</td>\n",
       "      <td>84535B</td>\n",
       "      <td>16</td>\n",
       "      <td>2011-02-10 13:08:00</td>\n",
       "      <td>0.0</td>\n",
       "      <td>17560.0</td>\n",
       "      <td>United Kingdom</td>\n",
       "      <td>Completed</td>\n",
       "      <td>0.0</td>\n",
       "      <td>FAIRY CAKES NOTEBOOK A6 SIZE</td>\n",
       "    </tr>\n",
       "    <tr>\n",
       "      <th>86338</th>\n",
       "      <td>547417</td>\n",
       "      <td>22062</td>\n",
       "      <td>36</td>\n",
       "      <td>2011-03-23 10:25:00</td>\n",
       "      <td>0.0</td>\n",
       "      <td>13239.0</td>\n",
       "      <td>United Kingdom</td>\n",
       "      <td>Completed</td>\n",
       "      <td>0.0</td>\n",
       "      <td>CERAMIC BOWL WITH LOVE HEART DESIGN</td>\n",
       "    </tr>\n",
       "    <tr>\n",
       "      <th>93491</th>\n",
       "      <td>548318</td>\n",
       "      <td>22055</td>\n",
       "      <td>5</td>\n",
       "      <td>2011-03-30 12:45:00</td>\n",
       "      <td>0.0</td>\n",
       "      <td>13113.0</td>\n",
       "      <td>United Kingdom</td>\n",
       "      <td>Completed</td>\n",
       "      <td>0.0</td>\n",
       "      <td>MINI CAKE STAND  HANGING STRAWBERY</td>\n",
       "    </tr>\n",
       "    <tr>\n",
       "      <th>98139</th>\n",
       "      <td>548871</td>\n",
       "      <td>22162</td>\n",
       "      <td>2</td>\n",
       "      <td>2011-04-04 14:42:00</td>\n",
       "      <td>0.0</td>\n",
       "      <td>14410.0</td>\n",
       "      <td>United Kingdom</td>\n",
       "      <td>Completed</td>\n",
       "      <td>0.0</td>\n",
       "      <td>HEART GARLAND RUSTIC PADDED</td>\n",
       "    </tr>\n",
       "  </tbody>\n",
       "</table>\n",
       "</div>"
      ],
      "text/plain": [
       "      Invoice StockCode  Quantity         InvoiceDate  Price  Customer ID  \\\n",
       "6816   537197     22841         1 2010-12-05 14:02:00    0.0      12647.0   \n",
       "22536  539263     22580         4 2010-12-16 14:36:00    0.0      16560.0   \n",
       "25442  539722     22423        10 2010-12-21 13:45:00    0.0      14911.0   \n",
       "29243  540372     22090        24 2011-01-06 16:41:00    0.0      13081.0   \n",
       "29245  540372     22553        24 2011-01-06 16:41:00    0.0      13081.0   \n",
       "34743  541109     22168         1 2011-01-13 15:10:00    0.0      15107.0   \n",
       "54228  543599    84535B        16 2011-02-10 13:08:00    0.0      17560.0   \n",
       "86338  547417     22062        36 2011-03-23 10:25:00    0.0      13239.0   \n",
       "93491  548318     22055         5 2011-03-30 12:45:00    0.0      13113.0   \n",
       "98139  548871     22162         2 2011-04-04 14:42:00    0.0      14410.0   \n",
       "\n",
       "              Country Transaction_Status  TotalPrice  \\\n",
       "6816          Germany          Completed         0.0   \n",
       "22536  United Kingdom          Completed         0.0   \n",
       "25442            EIRE          Completed         0.0   \n",
       "29243  United Kingdom          Completed         0.0   \n",
       "29245  United Kingdom          Completed         0.0   \n",
       "34743  United Kingdom          Completed         0.0   \n",
       "54228  United Kingdom          Completed         0.0   \n",
       "86338  United Kingdom          Completed         0.0   \n",
       "93491  United Kingdom          Completed         0.0   \n",
       "98139  United Kingdom          Completed         0.0   \n",
       "\n",
       "                               Description  \n",
       "6816          ROUND CAKE TIN VINTAGE GREEN  \n",
       "22536         ADVENT CALENDAR GINGHAM SACK  \n",
       "25442             REGENCY CAKESTAND 3 TIER  \n",
       "29243              PAPER BUNTING RETROSPOT  \n",
       "29245               PLASTERS IN TIN SKULLS  \n",
       "34743        ORGANISER WOOD ANTIQUE WHITE   \n",
       "54228         FAIRY CAKES NOTEBOOK A6 SIZE  \n",
       "86338  CERAMIC BOWL WITH LOVE HEART DESIGN  \n",
       "93491   MINI CAKE STAND  HANGING STRAWBERY  \n",
       "98139          HEART GARLAND RUSTIC PADDED  "
      ]
     },
     "execution_count": 88,
     "metadata": {},
     "output_type": "execute_result"
    }
   ],
   "source": [
    "df[df['Price']==0].head(10)"
   ]
  },
  {
   "cell_type": "code",
   "execution_count": 89,
   "metadata": {},
   "outputs": [],
   "source": [
    "# Removing records with a unit price of zero to avoid potential data entry errors\n",
    "df = df[df['Price'] > 0]"
   ]
  },
  {
   "cell_type": "code",
   "execution_count": 90,
   "metadata": {},
   "outputs": [
    {
     "data": {
      "text/plain": [
       "399573"
      ]
     },
     "execution_count": 90,
     "metadata": {},
     "output_type": "execute_result"
    }
   ],
   "source": [
    "# Resetting the index of the cleaned dataset\n",
    "df.reset_index(drop=True, inplace=True)\n",
    "\n",
    "# Getting the number of rows in the dataframe\n",
    "df.shape[0]"
   ]
  },
  {
   "cell_type": "markdown",
   "metadata": {},
   "source": [
    "### Inferences\n",
    "\n",
    "- The transactions with a unit price of zero are relatively few in number (33 transactions).\n",
    "- These transactions have a large variability in the quantity of items involved, ranging from 1 to 12540, with a substantial standard deviation.\n",
    "\n",
    "Given the small number of these transactions and their potential to introduce noise in the data analysis, the strategy should be to remove these transactions from the dataset."
   ]
  },
  {
   "cell_type": "markdown",
   "metadata": {},
   "source": [
    "# Feature Engineering"
   ]
  },
  {
   "cell_type": "code",
   "execution_count": 91,
   "metadata": {},
   "outputs": [
    {
     "data": {
      "text/html": [
       "<div>\n",
       "<style scoped>\n",
       "    .dataframe tbody tr th:only-of-type {\n",
       "        vertical-align: middle;\n",
       "    }\n",
       "\n",
       "    .dataframe tbody tr th {\n",
       "        vertical-align: top;\n",
       "    }\n",
       "\n",
       "    .dataframe thead th {\n",
       "        text-align: right;\n",
       "    }\n",
       "</style>\n",
       "<table border=\"1\" class=\"dataframe\">\n",
       "  <thead>\n",
       "    <tr style=\"text-align: right;\">\n",
       "      <th></th>\n",
       "      <th>Invoice</th>\n",
       "      <th>StockCode</th>\n",
       "      <th>Quantity</th>\n",
       "      <th>InvoiceDate</th>\n",
       "      <th>Price</th>\n",
       "      <th>Customer ID</th>\n",
       "      <th>Country</th>\n",
       "      <th>Transaction_Status</th>\n",
       "      <th>TotalPrice</th>\n",
       "      <th>Description</th>\n",
       "    </tr>\n",
       "  </thead>\n",
       "  <tbody>\n",
       "    <tr>\n",
       "      <th>0</th>\n",
       "      <td>536365</td>\n",
       "      <td>85123A</td>\n",
       "      <td>6</td>\n",
       "      <td>2010-12-01 08:26:00</td>\n",
       "      <td>2.55</td>\n",
       "      <td>17850.0</td>\n",
       "      <td>United Kingdom</td>\n",
       "      <td>Completed</td>\n",
       "      <td>15.299999</td>\n",
       "      <td>WHITE HANGING HEART T-LIGHT HOLDER</td>\n",
       "    </tr>\n",
       "    <tr>\n",
       "      <th>1</th>\n",
       "      <td>536365</td>\n",
       "      <td>71053</td>\n",
       "      <td>6</td>\n",
       "      <td>2010-12-01 08:26:00</td>\n",
       "      <td>3.39</td>\n",
       "      <td>17850.0</td>\n",
       "      <td>United Kingdom</td>\n",
       "      <td>Completed</td>\n",
       "      <td>20.340000</td>\n",
       "      <td>WHITE METAL LANTERN</td>\n",
       "    </tr>\n",
       "    <tr>\n",
       "      <th>2</th>\n",
       "      <td>536365</td>\n",
       "      <td>84406B</td>\n",
       "      <td>8</td>\n",
       "      <td>2010-12-01 08:26:00</td>\n",
       "      <td>2.75</td>\n",
       "      <td>17850.0</td>\n",
       "      <td>United Kingdom</td>\n",
       "      <td>Completed</td>\n",
       "      <td>22.000000</td>\n",
       "      <td>CREAM CUPID HEARTS COAT HANGER</td>\n",
       "    </tr>\n",
       "    <tr>\n",
       "      <th>3</th>\n",
       "      <td>536365</td>\n",
       "      <td>84029G</td>\n",
       "      <td>6</td>\n",
       "      <td>2010-12-01 08:26:00</td>\n",
       "      <td>3.39</td>\n",
       "      <td>17850.0</td>\n",
       "      <td>United Kingdom</td>\n",
       "      <td>Completed</td>\n",
       "      <td>20.340000</td>\n",
       "      <td>KNITTED UNION FLAG HOT WATER BOTTLE</td>\n",
       "    </tr>\n",
       "    <tr>\n",
       "      <th>4</th>\n",
       "      <td>536365</td>\n",
       "      <td>84029E</td>\n",
       "      <td>6</td>\n",
       "      <td>2010-12-01 08:26:00</td>\n",
       "      <td>3.39</td>\n",
       "      <td>17850.0</td>\n",
       "      <td>United Kingdom</td>\n",
       "      <td>Completed</td>\n",
       "      <td>20.340000</td>\n",
       "      <td>RED WOOLLY HOTTIE WHITE HEART.</td>\n",
       "    </tr>\n",
       "  </tbody>\n",
       "</table>\n",
       "</div>"
      ],
      "text/plain": [
       "  Invoice StockCode  Quantity         InvoiceDate  Price  Customer ID  \\\n",
       "0  536365    85123A         6 2010-12-01 08:26:00   2.55      17850.0   \n",
       "1  536365     71053         6 2010-12-01 08:26:00   3.39      17850.0   \n",
       "2  536365    84406B         8 2010-12-01 08:26:00   2.75      17850.0   \n",
       "3  536365    84029G         6 2010-12-01 08:26:00   3.39      17850.0   \n",
       "4  536365    84029E         6 2010-12-01 08:26:00   3.39      17850.0   \n",
       "\n",
       "          Country Transaction_Status  TotalPrice  \\\n",
       "0  United Kingdom          Completed   15.299999   \n",
       "1  United Kingdom          Completed   20.340000   \n",
       "2  United Kingdom          Completed   22.000000   \n",
       "3  United Kingdom          Completed   20.340000   \n",
       "4  United Kingdom          Completed   20.340000   \n",
       "\n",
       "                           Description  \n",
       "0   WHITE HANGING HEART T-LIGHT HOLDER  \n",
       "1                  WHITE METAL LANTERN  \n",
       "2       CREAM CUPID HEARTS COAT HANGER  \n",
       "3  KNITTED UNION FLAG HOT WATER BOTTLE  \n",
       "4       RED WOOLLY HOTTIE WHITE HEART.  "
      ]
     },
     "execution_count": 91,
     "metadata": {},
     "output_type": "execute_result"
    }
   ],
   "source": [
    "# Displaying the first few rows of the cleaned dataset\n",
    "df.head()"
   ]
  },
  {
   "cell_type": "code",
   "execution_count": 92,
   "metadata": {},
   "outputs": [
    {
     "name": "stdout",
     "output_type": "stream",
     "text": [
      "Min Date 2010-12-01 08:26:00 Max Date 2011-12-09 12:50:00\n"
     ]
    }
   ],
   "source": [
    "# First and last date of the dataset\n",
    "print(\"Min Date\", df[\"InvoiceDate\"].min(), \"Max Date\", df[\"InvoiceDate\"].max())"
   ]
  },
  {
   "cell_type": "markdown",
   "metadata": {},
   "source": [
    "## Customer Behavioral Features (RFM)"
   ]
  },
  {
   "cell_type": "markdown",
   "metadata": {},
   "source": [
    "### Recency\n",
    "\n",
    "This metric indicates how recently a customer has made a purchase. A lower recency value means the customer has purchased more recently, indicating higher engagement with the brand."
   ]
  },
  {
   "cell_type": "code",
   "execution_count": 93,
   "metadata": {},
   "outputs": [
    {
     "data": {
      "text/html": [
       "<div>\n",
       "<style scoped>\n",
       "    .dataframe tbody tr th:only-of-type {\n",
       "        vertical-align: middle;\n",
       "    }\n",
       "\n",
       "    .dataframe tbody tr th {\n",
       "        vertical-align: top;\n",
       "    }\n",
       "\n",
       "    .dataframe thead th {\n",
       "        text-align: right;\n",
       "    }\n",
       "</style>\n",
       "<table border=\"1\" class=\"dataframe\">\n",
       "  <thead>\n",
       "    <tr style=\"text-align: right;\">\n",
       "      <th></th>\n",
       "      <th>Recency</th>\n",
       "    </tr>\n",
       "    <tr>\n",
       "      <th>Customer ID</th>\n",
       "      <th></th>\n",
       "    </tr>\n",
       "  </thead>\n",
       "  <tbody>\n",
       "    <tr>\n",
       "      <th>12346.0</th>\n",
       "      <td>325</td>\n",
       "    </tr>\n",
       "    <tr>\n",
       "      <th>12347.0</th>\n",
       "      <td>1</td>\n",
       "    </tr>\n",
       "    <tr>\n",
       "      <th>12348.0</th>\n",
       "      <td>74</td>\n",
       "    </tr>\n",
       "    <tr>\n",
       "      <th>12349.0</th>\n",
       "      <td>18</td>\n",
       "    </tr>\n",
       "    <tr>\n",
       "      <th>12350.0</th>\n",
       "      <td>309</td>\n",
       "    </tr>\n",
       "  </tbody>\n",
       "</table>\n",
       "</div>"
      ],
      "text/plain": [
       "             Recency\n",
       "Customer ID         \n",
       "12346.0          325\n",
       "12347.0            1\n",
       "12348.0           74\n",
       "12349.0           18\n",
       "12350.0          309"
      ]
     },
     "execution_count": 93,
     "metadata": {},
     "output_type": "execute_result"
    }
   ],
   "source": [
    "# Recency calculation and customer data creation\n",
    "today_date = df.agg({\"InvoiceDate\":\"max\"})\n",
    "\n",
    "# Calculate the number of days since the last purchase\n",
    "customer_data = (today_date - df.groupby(\"Customer ID\") \\\n",
    "           .agg({\"InvoiceDate\":\"max\"})) \\\n",
    "            .rename(columns = {\"InvoiceDate\":\"Recency\"})\n",
    "\n",
    "customer_data[\"Recency\"] = customer_data[\"Recency\"] \\\n",
    "    .apply(lambda x: x.days)\n",
    "\n",
    "customer_data.head()"
   ]
  },
  {
   "cell_type": "markdown",
   "metadata": {},
   "source": [
    "### Frecuency\n",
    "\n",
    "There are two features that quantify the frequency of a customer's engagement with the retailer:\n",
    "\n",
    "- **Total Transactions:** This feature represents the total number of transactions made by a customer. It helps in understanding the engagement level of a customer with the retailer.\n",
    "\n",
    "- **Total Products Purchased:** This feature indicates the total number of products (sum of quantities) purchased by a customer across all transactions. It gives an insight into the customer's buying behavior in terms of the volume of products purchased."
   ]
  },
  {
   "cell_type": "code",
   "execution_count": 94,
   "metadata": {},
   "outputs": [
    {
     "data": {
      "text/html": [
       "<div>\n",
       "<style scoped>\n",
       "    .dataframe tbody tr th:only-of-type {\n",
       "        vertical-align: middle;\n",
       "    }\n",
       "\n",
       "    .dataframe tbody tr th {\n",
       "        vertical-align: top;\n",
       "    }\n",
       "\n",
       "    .dataframe thead th {\n",
       "        text-align: right;\n",
       "    }\n",
       "</style>\n",
       "<table border=\"1\" class=\"dataframe\">\n",
       "  <thead>\n",
       "    <tr style=\"text-align: right;\">\n",
       "      <th></th>\n",
       "      <th>Customer ID</th>\n",
       "      <th>Recency</th>\n",
       "      <th>Total_Transactions</th>\n",
       "      <th>Total_Products_Purchased</th>\n",
       "    </tr>\n",
       "  </thead>\n",
       "  <tbody>\n",
       "    <tr>\n",
       "      <th>0</th>\n",
       "      <td>12346.0</td>\n",
       "      <td>325</td>\n",
       "      <td>2</td>\n",
       "      <td>0</td>\n",
       "    </tr>\n",
       "    <tr>\n",
       "      <th>1</th>\n",
       "      <td>12347.0</td>\n",
       "      <td>1</td>\n",
       "      <td>7</td>\n",
       "      <td>2458</td>\n",
       "    </tr>\n",
       "    <tr>\n",
       "      <th>2</th>\n",
       "      <td>12348.0</td>\n",
       "      <td>74</td>\n",
       "      <td>4</td>\n",
       "      <td>2332</td>\n",
       "    </tr>\n",
       "    <tr>\n",
       "      <th>3</th>\n",
       "      <td>12349.0</td>\n",
       "      <td>18</td>\n",
       "      <td>1</td>\n",
       "      <td>630</td>\n",
       "    </tr>\n",
       "    <tr>\n",
       "      <th>4</th>\n",
       "      <td>12350.0</td>\n",
       "      <td>309</td>\n",
       "      <td>1</td>\n",
       "      <td>196</td>\n",
       "    </tr>\n",
       "  </tbody>\n",
       "</table>\n",
       "</div>"
      ],
      "text/plain": [
       "   Customer ID  Recency  Total_Transactions  Total_Products_Purchased\n",
       "0      12346.0      325                   2                         0\n",
       "1      12347.0        1                   7                      2458\n",
       "2      12348.0       74                   4                      2332\n",
       "3      12349.0       18                   1                       630\n",
       "4      12350.0      309                   1                       196"
      ]
     },
     "execution_count": 94,
     "metadata": {},
     "output_type": "execute_result"
    }
   ],
   "source": [
    "# Calculate the total number of transactions made by each customer\n",
    "total_transactions = df.groupby('Customer ID')['Invoice'] \\\n",
    "                    .nunique() \\\n",
    "                        .reset_index()\n",
    "total_transactions.rename(columns={'Invoice': 'Total_Transactions'}, inplace=True)\n",
    "\n",
    "# Calculate the total number of products purchased by each customer\n",
    "total_products_purchased = df.groupby('Customer ID')['Quantity'] \\\n",
    "                            .sum() \\\n",
    "                                .reset_index()\n",
    "total_products_purchased.rename(columns={'Quantity': 'Total_Products_Purchased'}, inplace=True)\n",
    "\n",
    "# Merge the new features into the customer_data dataframe\n",
    "customer_data = pd.merge(customer_data, total_transactions, on='Customer ID')\n",
    "customer_data = pd.merge(customer_data, total_products_purchased, on='Customer ID')\n",
    "\n",
    "# Display the first few rows of the customer_data dataframe\n",
    "customer_data.head()"
   ]
  },
  {
   "cell_type": "markdown",
   "metadata": {},
   "source": [
    "### Monetary\n",
    "\n",
    "There are two features that represent the monetary aspect of customer's transactions:\n",
    "\n",
    "- **Total Spend:** This feature represents the total amount of money spent by each customer. It is calculated as the sum of the product of UnitPrice and Quantity for all transactions made by a customer. This feature is crucial as it helps in identifying the total revenue generated by each customer, which is a direct indicator of a customer's value to the business.\n",
    "\n",
    "- **Average Transaction Value:** This feature is calculated as the **Total Spend** divided by the Total Transactions for each customer. It indicates the average value of a transaction carried out by a customer. This metric is useful in understanding the spending behavior of customers per transaction, which can assist in tailoring marketing strategies and offers to different customer segments based on their average spending patterns."
   ]
  },
  {
   "cell_type": "code",
   "execution_count": 95,
   "metadata": {},
   "outputs": [
    {
     "data": {
      "text/html": [
       "<div>\n",
       "<style scoped>\n",
       "    .dataframe tbody tr th:only-of-type {\n",
       "        vertical-align: middle;\n",
       "    }\n",
       "\n",
       "    .dataframe tbody tr th {\n",
       "        vertical-align: top;\n",
       "    }\n",
       "\n",
       "    .dataframe thead th {\n",
       "        text-align: right;\n",
       "    }\n",
       "</style>\n",
       "<table border=\"1\" class=\"dataframe\">\n",
       "  <thead>\n",
       "    <tr style=\"text-align: right;\">\n",
       "      <th></th>\n",
       "      <th>Customer ID</th>\n",
       "      <th>Recency</th>\n",
       "      <th>Total_Transactions</th>\n",
       "      <th>Total_Products_Purchased</th>\n",
       "      <th>Total_Spend</th>\n",
       "      <th>Average_Transaction_Value</th>\n",
       "    </tr>\n",
       "  </thead>\n",
       "  <tbody>\n",
       "    <tr>\n",
       "      <th>0</th>\n",
       "      <td>12346.0</td>\n",
       "      <td>325</td>\n",
       "      <td>2</td>\n",
       "      <td>0</td>\n",
       "      <td>0.000000</td>\n",
       "      <td>0.000000</td>\n",
       "    </tr>\n",
       "    <tr>\n",
       "      <th>1</th>\n",
       "      <td>12347.0</td>\n",
       "      <td>1</td>\n",
       "      <td>7</td>\n",
       "      <td>2458</td>\n",
       "      <td>4310.000000</td>\n",
       "      <td>615.714286</td>\n",
       "    </tr>\n",
       "    <tr>\n",
       "      <th>2</th>\n",
       "      <td>12348.0</td>\n",
       "      <td>74</td>\n",
       "      <td>4</td>\n",
       "      <td>2332</td>\n",
       "      <td>1437.239990</td>\n",
       "      <td>359.309998</td>\n",
       "    </tr>\n",
       "    <tr>\n",
       "      <th>3</th>\n",
       "      <td>12349.0</td>\n",
       "      <td>18</td>\n",
       "      <td>1</td>\n",
       "      <td>630</td>\n",
       "      <td>1457.550049</td>\n",
       "      <td>1457.550049</td>\n",
       "    </tr>\n",
       "    <tr>\n",
       "      <th>4</th>\n",
       "      <td>12350.0</td>\n",
       "      <td>309</td>\n",
       "      <td>1</td>\n",
       "      <td>196</td>\n",
       "      <td>294.399994</td>\n",
       "      <td>294.399994</td>\n",
       "    </tr>\n",
       "  </tbody>\n",
       "</table>\n",
       "</div>"
      ],
      "text/plain": [
       "   Customer ID  Recency  Total_Transactions  Total_Products_Purchased  \\\n",
       "0      12346.0      325                   2                         0   \n",
       "1      12347.0        1                   7                      2458   \n",
       "2      12348.0       74                   4                      2332   \n",
       "3      12349.0       18                   1                       630   \n",
       "4      12350.0      309                   1                       196   \n",
       "\n",
       "   Total_Spend  Average_Transaction_Value  \n",
       "0     0.000000                   0.000000  \n",
       "1  4310.000000                 615.714286  \n",
       "2  1437.239990                 359.309998  \n",
       "3  1457.550049                1457.550049  \n",
       "4   294.399994                 294.399994  "
      ]
     },
     "execution_count": 95,
     "metadata": {},
     "output_type": "execute_result"
    }
   ],
   "source": [
    "# Calculate the total spend by each customer\n",
    "total_spend = df.groupby('Customer ID')['TotalPrice'] \\\n",
    "            .sum() \\\n",
    "                .reset_index()\n",
    "\n",
    "total_spend.rename(columns={'TotalPrice': 'Total_Spend'}, inplace=True)\n",
    "\n",
    "# Calculate the average transaction value for each customer\n",
    "average_transaction_value = total_spend.merge(total_transactions, on='Customer ID')\n",
    "average_transaction_value['Average_Transaction_Value'] = average_transaction_value['Total_Spend'] / average_transaction_value['Total_Transactions']\n",
    "\n",
    "# Merge the new features into the customer_data dataframe\n",
    "customer_data = pd.merge(customer_data, total_spend, on='Customer ID')\n",
    "customer_data = pd.merge(customer_data, average_transaction_value[['Customer ID', 'Average_Transaction_Value']], on='Customer ID')\n",
    "\n",
    "# Display the first few rows of the customer_data dataframe\n",
    "customer_data.head()"
   ]
  },
  {
   "cell_type": "code",
   "execution_count": 96,
   "metadata": {},
   "outputs": [
    {
     "data": {
      "text/html": [
       "<div>\n",
       "<style scoped>\n",
       "    .dataframe tbody tr th:only-of-type {\n",
       "        vertical-align: middle;\n",
       "    }\n",
       "\n",
       "    .dataframe tbody tr th {\n",
       "        vertical-align: top;\n",
       "    }\n",
       "\n",
       "    .dataframe thead th {\n",
       "        text-align: right;\n",
       "    }\n",
       "</style>\n",
       "<table border=\"1\" class=\"dataframe\">\n",
       "  <thead>\n",
       "    <tr style=\"text-align: right;\">\n",
       "      <th></th>\n",
       "      <th>Customer ID</th>\n",
       "      <th>Recency</th>\n",
       "      <th>Total_Transactions</th>\n",
       "      <th>Total_Products_Purchased</th>\n",
       "      <th>Total_Spend</th>\n",
       "      <th>Average_Transaction_Value</th>\n",
       "      <th>Unique_Products_Purchased</th>\n",
       "    </tr>\n",
       "  </thead>\n",
       "  <tbody>\n",
       "    <tr>\n",
       "      <th>0</th>\n",
       "      <td>12346.0</td>\n",
       "      <td>325</td>\n",
       "      <td>2</td>\n",
       "      <td>0</td>\n",
       "      <td>0.000000</td>\n",
       "      <td>0.000000</td>\n",
       "      <td>1</td>\n",
       "    </tr>\n",
       "    <tr>\n",
       "      <th>1</th>\n",
       "      <td>12347.0</td>\n",
       "      <td>1</td>\n",
       "      <td>7</td>\n",
       "      <td>2458</td>\n",
       "      <td>4310.000000</td>\n",
       "      <td>615.714286</td>\n",
       "      <td>103</td>\n",
       "    </tr>\n",
       "    <tr>\n",
       "      <th>2</th>\n",
       "      <td>12348.0</td>\n",
       "      <td>74</td>\n",
       "      <td>4</td>\n",
       "      <td>2332</td>\n",
       "      <td>1437.239990</td>\n",
       "      <td>359.309998</td>\n",
       "      <td>21</td>\n",
       "    </tr>\n",
       "    <tr>\n",
       "      <th>3</th>\n",
       "      <td>12349.0</td>\n",
       "      <td>18</td>\n",
       "      <td>1</td>\n",
       "      <td>630</td>\n",
       "      <td>1457.550049</td>\n",
       "      <td>1457.550049</td>\n",
       "      <td>72</td>\n",
       "    </tr>\n",
       "    <tr>\n",
       "      <th>4</th>\n",
       "      <td>12350.0</td>\n",
       "      <td>309</td>\n",
       "      <td>1</td>\n",
       "      <td>196</td>\n",
       "      <td>294.399994</td>\n",
       "      <td>294.399994</td>\n",
       "      <td>16</td>\n",
       "    </tr>\n",
       "  </tbody>\n",
       "</table>\n",
       "</div>"
      ],
      "text/plain": [
       "   Customer ID  Recency  Total_Transactions  Total_Products_Purchased  \\\n",
       "0      12346.0      325                   2                         0   \n",
       "1      12347.0        1                   7                      2458   \n",
       "2      12348.0       74                   4                      2332   \n",
       "3      12349.0       18                   1                       630   \n",
       "4      12350.0      309                   1                       196   \n",
       "\n",
       "   Total_Spend  Average_Transaction_Value  Unique_Products_Purchased  \n",
       "0     0.000000                   0.000000                          1  \n",
       "1  4310.000000                 615.714286                        103  \n",
       "2  1437.239990                 359.309998                         21  \n",
       "3  1457.550049                1457.550049                         72  \n",
       "4   294.399994                 294.399994                         16  "
      ]
     },
     "execution_count": 96,
     "metadata": {},
     "output_type": "execute_result"
    }
   ],
   "source": [
    "# Calculate the number of unique products purchased by each customer\n",
    "unique_products_purchased = df.groupby('Customer ID')['StockCode'] \\\n",
    "                            .nunique() \\\n",
    "                                .reset_index()\n",
    "unique_products_purchased.rename(columns={'StockCode': 'Unique_Products_Purchased'}, inplace=True)\n",
    "\n",
    "# Merge the new feature into the customer_data dataframe\n",
    "customer_data = pd.merge(customer_data, unique_products_purchased, on='Customer ID')\n",
    "\n",
    "# Display the first few rows of the customer_data dataframe\n",
    "customer_data.head()"
   ]
  },
  {
   "cell_type": "markdown",
   "metadata": {},
   "source": [
    "## Cancellation Insights\n",
    "\n",
    "- **Cancellation Frequency:** This metric represents the total number of transactions a customer has canceled. Understanding the frequency of cancellations can help us identify customers who are more likely to cancel transactions. This could be an indicator of dissatisfaction or other issues, and understanding this can help us tailor strategies to reduce cancellations and enhance customer satisfaction.\n",
    "\n",
    "- **Cancellation Rate:** This represents the proportion of transactions that a customer has canceled out of all their transactions. This metric gives a normalized view of cancellation behavior. A high cancellation rate might be indicative of an unsatisfied customer segment. By identifying these segments, we can develop targeted strategies to improve their shopping experience and potentially reduce the cancellation rate."
   ]
  },
  {
   "cell_type": "code",
   "execution_count": 97,
   "metadata": {},
   "outputs": [
    {
     "data": {
      "text/html": [
       "<div>\n",
       "<style scoped>\n",
       "    .dataframe tbody tr th:only-of-type {\n",
       "        vertical-align: middle;\n",
       "    }\n",
       "\n",
       "    .dataframe tbody tr th {\n",
       "        vertical-align: top;\n",
       "    }\n",
       "\n",
       "    .dataframe thead th {\n",
       "        text-align: right;\n",
       "    }\n",
       "</style>\n",
       "<table border=\"1\" class=\"dataframe\">\n",
       "  <thead>\n",
       "    <tr style=\"text-align: right;\">\n",
       "      <th></th>\n",
       "      <th>Customer ID</th>\n",
       "      <th>Recency</th>\n",
       "      <th>Total_Transactions</th>\n",
       "      <th>Total_Products_Purchased</th>\n",
       "      <th>Total_Spend</th>\n",
       "      <th>Average_Transaction_Value</th>\n",
       "      <th>Unique_Products_Purchased</th>\n",
       "      <th>Cancellation_Frequency</th>\n",
       "      <th>Cancellation_Rate</th>\n",
       "    </tr>\n",
       "  </thead>\n",
       "  <tbody>\n",
       "    <tr>\n",
       "      <th>0</th>\n",
       "      <td>12346.0</td>\n",
       "      <td>325</td>\n",
       "      <td>2</td>\n",
       "      <td>0</td>\n",
       "      <td>0.000000</td>\n",
       "      <td>0.000000</td>\n",
       "      <td>1</td>\n",
       "      <td>1.0</td>\n",
       "      <td>0.5</td>\n",
       "    </tr>\n",
       "    <tr>\n",
       "      <th>1</th>\n",
       "      <td>12347.0</td>\n",
       "      <td>1</td>\n",
       "      <td>7</td>\n",
       "      <td>2458</td>\n",
       "      <td>4310.000000</td>\n",
       "      <td>615.714286</td>\n",
       "      <td>103</td>\n",
       "      <td>0.0</td>\n",
       "      <td>0.0</td>\n",
       "    </tr>\n",
       "    <tr>\n",
       "      <th>2</th>\n",
       "      <td>12348.0</td>\n",
       "      <td>74</td>\n",
       "      <td>4</td>\n",
       "      <td>2332</td>\n",
       "      <td>1437.239990</td>\n",
       "      <td>359.309998</td>\n",
       "      <td>21</td>\n",
       "      <td>0.0</td>\n",
       "      <td>0.0</td>\n",
       "    </tr>\n",
       "    <tr>\n",
       "      <th>3</th>\n",
       "      <td>12349.0</td>\n",
       "      <td>18</td>\n",
       "      <td>1</td>\n",
       "      <td>630</td>\n",
       "      <td>1457.550049</td>\n",
       "      <td>1457.550049</td>\n",
       "      <td>72</td>\n",
       "      <td>0.0</td>\n",
       "      <td>0.0</td>\n",
       "    </tr>\n",
       "    <tr>\n",
       "      <th>4</th>\n",
       "      <td>12350.0</td>\n",
       "      <td>309</td>\n",
       "      <td>1</td>\n",
       "      <td>196</td>\n",
       "      <td>294.399994</td>\n",
       "      <td>294.399994</td>\n",
       "      <td>16</td>\n",
       "      <td>0.0</td>\n",
       "      <td>0.0</td>\n",
       "    </tr>\n",
       "  </tbody>\n",
       "</table>\n",
       "</div>"
      ],
      "text/plain": [
       "   Customer ID  Recency  Total_Transactions  Total_Products_Purchased  \\\n",
       "0      12346.0      325                   2                         0   \n",
       "1      12347.0        1                   7                      2458   \n",
       "2      12348.0       74                   4                      2332   \n",
       "3      12349.0       18                   1                       630   \n",
       "4      12350.0      309                   1                       196   \n",
       "\n",
       "   Total_Spend  Average_Transaction_Value  Unique_Products_Purchased  \\\n",
       "0     0.000000                   0.000000                          1   \n",
       "1  4310.000000                 615.714286                        103   \n",
       "2  1437.239990                 359.309998                         21   \n",
       "3  1457.550049                1457.550049                         72   \n",
       "4   294.399994                 294.399994                         16   \n",
       "\n",
       "   Cancellation_Frequency  Cancellation_Rate  \n",
       "0                     1.0                0.5  \n",
       "1                     0.0                0.0  \n",
       "2                     0.0                0.0  \n",
       "3                     0.0                0.0  \n",
       "4                     0.0                0.0  "
      ]
     },
     "execution_count": 97,
     "metadata": {},
     "output_type": "execute_result"
    }
   ],
   "source": [
    "# Calculate the total number of transactions made by each customer\n",
    "total_transactions = df.groupby('Customer ID')['Invoice'].nunique().reset_index()\n",
    "\n",
    "# Calculate the number of cancelled transactions for each customer\n",
    "cancelled_transactions = df[df['Transaction_Status'] == 'Cancelled']\n",
    "cancellation_frequency = cancelled_transactions.groupby('Customer ID')['Invoice'].nunique().reset_index()\n",
    "cancellation_frequency.rename(columns={'Invoice': 'Cancellation_Frequency'}, inplace=True)\n",
    "\n",
    "# Merge the Cancellation Frequency data into the customer_data dataframe\n",
    "customer_data = pd.merge(customer_data, cancellation_frequency, on='Customer ID', how='left')\n",
    "\n",
    "# Replace NaN values with 0 (for customers who have not cancelled any transaction)\n",
    "customer_data['Cancellation_Frequency'].fillna(0, inplace=True)\n",
    "\n",
    "# Calculate the Cancellation Rate\n",
    "customer_data['Cancellation_Rate'] = customer_data['Cancellation_Frequency'] / total_transactions['Invoice']\n",
    "\n",
    "# Display the first few rows of the customer_data dataframe\n",
    "customer_data.head()"
   ]
  },
  {
   "cell_type": "code",
   "execution_count": 98,
   "metadata": {},
   "outputs": [
    {
     "name": "stdout",
     "output_type": "stream",
     "text": [
      "Number of customers who cancelled at least one transaction: 1534\n"
     ]
    },
    {
     "data": {
      "text/html": [
       "<div>\n",
       "<style scoped>\n",
       "    .dataframe tbody tr th:only-of-type {\n",
       "        vertical-align: middle;\n",
       "    }\n",
       "\n",
       "    .dataframe tbody tr th {\n",
       "        vertical-align: top;\n",
       "    }\n",
       "\n",
       "    .dataframe thead th {\n",
       "        text-align: right;\n",
       "    }\n",
       "</style>\n",
       "<table border=\"1\" class=\"dataframe\">\n",
       "  <thead>\n",
       "    <tr style=\"text-align: right;\">\n",
       "      <th></th>\n",
       "      <th>Customer ID</th>\n",
       "      <th>Recency</th>\n",
       "      <th>Total_Transactions</th>\n",
       "      <th>Total_Products_Purchased</th>\n",
       "      <th>Total_Spend</th>\n",
       "      <th>Average_Transaction_Value</th>\n",
       "      <th>Unique_Products_Purchased</th>\n",
       "      <th>Cancellation_Frequency</th>\n",
       "      <th>Cancellation_Rate</th>\n",
       "    </tr>\n",
       "  </thead>\n",
       "  <tbody>\n",
       "    <tr>\n",
       "      <th>0</th>\n",
       "      <td>12346.0</td>\n",
       "      <td>325</td>\n",
       "      <td>2</td>\n",
       "      <td>0</td>\n",
       "      <td>0.000000</td>\n",
       "      <td>0.000000</td>\n",
       "      <td>1</td>\n",
       "      <td>1.0</td>\n",
       "      <td>0.500000</td>\n",
       "    </tr>\n",
       "    <tr>\n",
       "      <th>5</th>\n",
       "      <td>12352.0</td>\n",
       "      <td>35</td>\n",
       "      <td>8</td>\n",
       "      <td>463</td>\n",
       "      <td>1265.410034</td>\n",
       "      <td>158.176254</td>\n",
       "      <td>57</td>\n",
       "      <td>1.0</td>\n",
       "      <td>0.125000</td>\n",
       "    </tr>\n",
       "    <tr>\n",
       "      <th>12</th>\n",
       "      <td>12359.0</td>\n",
       "      <td>7</td>\n",
       "      <td>6</td>\n",
       "      <td>1599</td>\n",
       "      <td>6182.979980</td>\n",
       "      <td>1030.496663</td>\n",
       "      <td>214</td>\n",
       "      <td>2.0</td>\n",
       "      <td>0.333333</td>\n",
       "    </tr>\n",
       "    <tr>\n",
       "      <th>15</th>\n",
       "      <td>12362.0</td>\n",
       "      <td>2</td>\n",
       "      <td>13</td>\n",
       "      <td>2180</td>\n",
       "      <td>4665.580078</td>\n",
       "      <td>358.890775</td>\n",
       "      <td>200</td>\n",
       "      <td>3.0</td>\n",
       "      <td>0.230769</td>\n",
       "    </tr>\n",
       "    <tr>\n",
       "      <th>25</th>\n",
       "      <td>12375.0</td>\n",
       "      <td>2</td>\n",
       "      <td>3</td>\n",
       "      <td>175</td>\n",
       "      <td>375.419983</td>\n",
       "      <td>125.139994</td>\n",
       "      <td>13</td>\n",
       "      <td>1.0</td>\n",
       "      <td>0.333333</td>\n",
       "    </tr>\n",
       "    <tr>\n",
       "      <th>28</th>\n",
       "      <td>12379.0</td>\n",
       "      <td>81</td>\n",
       "      <td>3</td>\n",
       "      <td>401</td>\n",
       "      <td>775.289978</td>\n",
       "      <td>258.429993</td>\n",
       "      <td>38</td>\n",
       "      <td>1.0</td>\n",
       "      <td>0.333333</td>\n",
       "    </tr>\n",
       "    <tr>\n",
       "      <th>29</th>\n",
       "      <td>12380.0</td>\n",
       "      <td>21</td>\n",
       "      <td>5</td>\n",
       "      <td>1109</td>\n",
       "      <td>2423.560059</td>\n",
       "      <td>484.712012</td>\n",
       "      <td>76</td>\n",
       "      <td>1.0</td>\n",
       "      <td>0.200000</td>\n",
       "    </tr>\n",
       "    <tr>\n",
       "      <th>30</th>\n",
       "      <td>12381.0</td>\n",
       "      <td>4</td>\n",
       "      <td>4</td>\n",
       "      <td>772</td>\n",
       "      <td>1433.459961</td>\n",
       "      <td>358.364990</td>\n",
       "      <td>69</td>\n",
       "      <td>1.0</td>\n",
       "      <td>0.250000</td>\n",
       "    </tr>\n",
       "    <tr>\n",
       "      <th>31</th>\n",
       "      <td>12383.0</td>\n",
       "      <td>184</td>\n",
       "      <td>6</td>\n",
       "      <td>1515</td>\n",
       "      <td>1617.310059</td>\n",
       "      <td>269.551676</td>\n",
       "      <td>83</td>\n",
       "      <td>1.0</td>\n",
       "      <td>0.166667</td>\n",
       "    </tr>\n",
       "    <tr>\n",
       "      <th>32</th>\n",
       "      <td>12384.0</td>\n",
       "      <td>28</td>\n",
       "      <td>3</td>\n",
       "      <td>117</td>\n",
       "      <td>406.160004</td>\n",
       "      <td>135.386668</td>\n",
       "      <td>25</td>\n",
       "      <td>1.0</td>\n",
       "      <td>0.333333</td>\n",
       "    </tr>\n",
       "    <tr>\n",
       "      <th>39</th>\n",
       "      <td>12395.0</td>\n",
       "      <td>15</td>\n",
       "      <td>15</td>\n",
       "      <td>2092</td>\n",
       "      <td>2662.280029</td>\n",
       "      <td>177.485335</td>\n",
       "      <td>90</td>\n",
       "      <td>3.0</td>\n",
       "      <td>0.200000</td>\n",
       "    </tr>\n",
       "    <tr>\n",
       "      <th>47</th>\n",
       "      <td>12406.0</td>\n",
       "      <td>21</td>\n",
       "      <td>3</td>\n",
       "      <td>1809</td>\n",
       "      <td>3280.750000</td>\n",
       "      <td>1093.583333</td>\n",
       "      <td>92</td>\n",
       "      <td>1.0</td>\n",
       "      <td>0.333333</td>\n",
       "    </tr>\n",
       "    <tr>\n",
       "      <th>49</th>\n",
       "      <td>12408.0</td>\n",
       "      <td>32</td>\n",
       "      <td>8</td>\n",
       "      <td>1382</td>\n",
       "      <td>2587.570068</td>\n",
       "      <td>323.446259</td>\n",
       "      <td>80</td>\n",
       "      <td>3.0</td>\n",
       "      <td>0.375000</td>\n",
       "    </tr>\n",
       "    <tr>\n",
       "      <th>50</th>\n",
       "      <td>12409.0</td>\n",
       "      <td>78</td>\n",
       "      <td>7</td>\n",
       "      <td>5543</td>\n",
       "      <td>11056.929688</td>\n",
       "      <td>1579.561384</td>\n",
       "      <td>91</td>\n",
       "      <td>4.0</td>\n",
       "      <td>0.571429</td>\n",
       "    </tr>\n",
       "    <tr>\n",
       "      <th>51</th>\n",
       "      <td>12410.0</td>\n",
       "      <td>300</td>\n",
       "      <td>3</td>\n",
       "      <td>205</td>\n",
       "      <td>521.080017</td>\n",
       "      <td>173.693339</td>\n",
       "      <td>25</td>\n",
       "      <td>1.0</td>\n",
       "      <td>0.333333</td>\n",
       "    </tr>\n",
       "  </tbody>\n",
       "</table>\n",
       "</div>"
      ],
      "text/plain": [
       "    Customer ID  Recency  Total_Transactions  Total_Products_Purchased  \\\n",
       "0       12346.0      325                   2                         0   \n",
       "5       12352.0       35                   8                       463   \n",
       "12      12359.0        7                   6                      1599   \n",
       "15      12362.0        2                  13                      2180   \n",
       "25      12375.0        2                   3                       175   \n",
       "28      12379.0       81                   3                       401   \n",
       "29      12380.0       21                   5                      1109   \n",
       "30      12381.0        4                   4                       772   \n",
       "31      12383.0      184                   6                      1515   \n",
       "32      12384.0       28                   3                       117   \n",
       "39      12395.0       15                  15                      2092   \n",
       "47      12406.0       21                   3                      1809   \n",
       "49      12408.0       32                   8                      1382   \n",
       "50      12409.0       78                   7                      5543   \n",
       "51      12410.0      300                   3                       205   \n",
       "\n",
       "     Total_Spend  Average_Transaction_Value  Unique_Products_Purchased  \\\n",
       "0       0.000000                   0.000000                          1   \n",
       "5    1265.410034                 158.176254                         57   \n",
       "12   6182.979980                1030.496663                        214   \n",
       "15   4665.580078                 358.890775                        200   \n",
       "25    375.419983                 125.139994                         13   \n",
       "28    775.289978                 258.429993                         38   \n",
       "29   2423.560059                 484.712012                         76   \n",
       "30   1433.459961                 358.364990                         69   \n",
       "31   1617.310059                 269.551676                         83   \n",
       "32    406.160004                 135.386668                         25   \n",
       "39   2662.280029                 177.485335                         90   \n",
       "47   3280.750000                1093.583333                         92   \n",
       "49   2587.570068                 323.446259                         80   \n",
       "50  11056.929688                1579.561384                         91   \n",
       "51    521.080017                 173.693339                         25   \n",
       "\n",
       "    Cancellation_Frequency  Cancellation_Rate  \n",
       "0                      1.0           0.500000  \n",
       "5                      1.0           0.125000  \n",
       "12                     2.0           0.333333  \n",
       "15                     3.0           0.230769  \n",
       "25                     1.0           0.333333  \n",
       "28                     1.0           0.333333  \n",
       "29                     1.0           0.200000  \n",
       "30                     1.0           0.250000  \n",
       "31                     1.0           0.166667  \n",
       "32                     1.0           0.333333  \n",
       "39                     3.0           0.200000  \n",
       "47                     1.0           0.333333  \n",
       "49                     3.0           0.375000  \n",
       "50                     4.0           0.571429  \n",
       "51                     1.0           0.333333  "
      ]
     },
     "execution_count": 98,
     "metadata": {},
     "output_type": "execute_result"
    }
   ],
   "source": [
    "# Number of customers who cancelled at least one transaction\n",
    "customers_who_cancelled = customer_data[customer_data['Cancellation_Rate'] > 0]\n",
    "print(f\"Number of customers who cancelled at least one transaction: {customers_who_cancelled.shape[0]}\")\n",
    "customers_who_cancelled.head(15)"
   ]
  },
  {
   "cell_type": "markdown",
   "metadata": {},
   "source": [
    "## Seasonality\n",
    "\n",
    "The seasonality in customers' purchasing behaviors can offer invaluable insights for tailoring marketing strategies and enhancing customer satisfaction. Here are the two features to introduce:\n",
    "\n",
    "- **Monthly_Spending_Mean:** This is the average amount a customer spends monthly. It helps us gauge the general spending habit of each customer. A higher mean indicates a customer who spends more, potentially showing interest in premium products, whereas a lower mean might indicate a more budget-conscious customer.\n",
    "\n",
    "- **Monthly_Spending_Std:** This feature indicates the variability in a customer's monthly spending. A higher value signals that the customer's spending fluctuates significantly month-to-month, perhaps indicating sporadic large purchases. In contrast, a lower value suggests more stable, consistent spending habits. Understanding this variability can help in crafting personalized promotions or discounts during periods they are expected to spend more."
   ]
  },
  {
   "cell_type": "code",
   "execution_count": 99,
   "metadata": {},
   "outputs": [],
   "source": [
    "# Extract month and year from InvoiceDate\n",
    "df['Year'] = df['InvoiceDate'].dt.year\n",
    "df['Month'] = df['InvoiceDate'].dt.month\n",
    "\n",
    "# Calculate monthly spending for each customer\n",
    "monthly_spending = df.groupby(['Customer ID', 'Year', 'Month'])['TotalPrice'].sum().reset_index()\n",
    "\n",
    "# Calculate Seasonal Buying Patterns: We are using monthly frequency as a proxy for seasonal buying patterns\n",
    "seasonal_buying_patterns = monthly_spending.groupby('Customer ID')['TotalPrice'].agg(['mean', 'std']).reset_index()\n",
    "seasonal_buying_patterns.rename(columns={'mean': 'Monthly_Spending_Mean', 'std': 'Monthly_Spending_Std'}, inplace=True)\n",
    "\n",
    "# Replace NaN values in Monthly_Spending_Std with 0, implying no variability for customers with single transaction month\n",
    "seasonal_buying_patterns['Monthly_Spending_Std'].fillna(0, inplace=True)\n",
    "\n",
    "# Remove the Year and Month columns from the original dataframe\n",
    "df.drop(columns=['Year', 'Month'], inplace=True)"
   ]
  },
  {
   "cell_type": "code",
   "execution_count": 100,
   "metadata": {},
   "outputs": [
    {
     "data": {
      "text/html": [
       "<div>\n",
       "<style scoped>\n",
       "    .dataframe tbody tr th:only-of-type {\n",
       "        vertical-align: middle;\n",
       "    }\n",
       "\n",
       "    .dataframe tbody tr th {\n",
       "        vertical-align: top;\n",
       "    }\n",
       "\n",
       "    .dataframe thead th {\n",
       "        text-align: right;\n",
       "    }\n",
       "</style>\n",
       "<table border=\"1\" class=\"dataframe\">\n",
       "  <thead>\n",
       "    <tr style=\"text-align: right;\">\n",
       "      <th></th>\n",
       "      <th>Customer ID</th>\n",
       "      <th>Recency</th>\n",
       "      <th>Total_Transactions</th>\n",
       "      <th>Total_Products_Purchased</th>\n",
       "      <th>Total_Spend</th>\n",
       "      <th>Average_Transaction_Value</th>\n",
       "      <th>Unique_Products_Purchased</th>\n",
       "      <th>Cancellation_Frequency</th>\n",
       "      <th>Cancellation_Rate</th>\n",
       "      <th>Monthly_Spending_Mean</th>\n",
       "      <th>Monthly_Spending_Std</th>\n",
       "    </tr>\n",
       "  </thead>\n",
       "  <tbody>\n",
       "    <tr>\n",
       "      <th>0</th>\n",
       "      <td>12346.0</td>\n",
       "      <td>325</td>\n",
       "      <td>2</td>\n",
       "      <td>0</td>\n",
       "      <td>0.000000</td>\n",
       "      <td>0.000000</td>\n",
       "      <td>1</td>\n",
       "      <td>1.0</td>\n",
       "      <td>0.5</td>\n",
       "      <td>0.000000</td>\n",
       "      <td>0.000000</td>\n",
       "    </tr>\n",
       "    <tr>\n",
       "      <th>1</th>\n",
       "      <td>12347.0</td>\n",
       "      <td>1</td>\n",
       "      <td>7</td>\n",
       "      <td>2458</td>\n",
       "      <td>4310.000000</td>\n",
       "      <td>615.714286</td>\n",
       "      <td>103</td>\n",
       "      <td>0.0</td>\n",
       "      <td>0.0</td>\n",
       "      <td>615.714294</td>\n",
       "      <td>341.070770</td>\n",
       "    </tr>\n",
       "    <tr>\n",
       "      <th>2</th>\n",
       "      <td>12348.0</td>\n",
       "      <td>74</td>\n",
       "      <td>4</td>\n",
       "      <td>2332</td>\n",
       "      <td>1437.239990</td>\n",
       "      <td>359.309998</td>\n",
       "      <td>21</td>\n",
       "      <td>0.0</td>\n",
       "      <td>0.0</td>\n",
       "      <td>359.309998</td>\n",
       "      <td>203.875687</td>\n",
       "    </tr>\n",
       "    <tr>\n",
       "      <th>3</th>\n",
       "      <td>12349.0</td>\n",
       "      <td>18</td>\n",
       "      <td>1</td>\n",
       "      <td>630</td>\n",
       "      <td>1457.550049</td>\n",
       "      <td>1457.550049</td>\n",
       "      <td>72</td>\n",
       "      <td>0.0</td>\n",
       "      <td>0.0</td>\n",
       "      <td>1457.550049</td>\n",
       "      <td>0.000000</td>\n",
       "    </tr>\n",
       "    <tr>\n",
       "      <th>4</th>\n",
       "      <td>12350.0</td>\n",
       "      <td>309</td>\n",
       "      <td>1</td>\n",
       "      <td>196</td>\n",
       "      <td>294.399994</td>\n",
       "      <td>294.399994</td>\n",
       "      <td>16</td>\n",
       "      <td>0.0</td>\n",
       "      <td>0.0</td>\n",
       "      <td>294.399994</td>\n",
       "      <td>0.000000</td>\n",
       "    </tr>\n",
       "  </tbody>\n",
       "</table>\n",
       "</div>"
      ],
      "text/plain": [
       "   Customer ID  Recency  Total_Transactions  Total_Products_Purchased  \\\n",
       "0      12346.0      325                   2                         0   \n",
       "1      12347.0        1                   7                      2458   \n",
       "2      12348.0       74                   4                      2332   \n",
       "3      12349.0       18                   1                       630   \n",
       "4      12350.0      309                   1                       196   \n",
       "\n",
       "   Total_Spend  Average_Transaction_Value  Unique_Products_Purchased  \\\n",
       "0     0.000000                   0.000000                          1   \n",
       "1  4310.000000                 615.714286                        103   \n",
       "2  1437.239990                 359.309998                         21   \n",
       "3  1457.550049                1457.550049                         72   \n",
       "4   294.399994                 294.399994                         16   \n",
       "\n",
       "   Cancellation_Frequency  Cancellation_Rate  Monthly_Spending_Mean  \\\n",
       "0                     1.0                0.5               0.000000   \n",
       "1                     0.0                0.0             615.714294   \n",
       "2                     0.0                0.0             359.309998   \n",
       "3                     0.0                0.0            1457.550049   \n",
       "4                     0.0                0.0             294.399994   \n",
       "\n",
       "   Monthly_Spending_Std  \n",
       "0              0.000000  \n",
       "1            341.070770  \n",
       "2            203.875687  \n",
       "3              0.000000  \n",
       "4              0.000000  "
      ]
     },
     "execution_count": 100,
     "metadata": {},
     "output_type": "execute_result"
    }
   ],
   "source": [
    "# Merge the new features into the customer_data dataframe\n",
    "customer_data = pd.merge(customer_data, seasonal_buying_patterns, on='Customer ID')\n",
    "\n",
    "# Display the first few rows of the customer_data dataframe\n",
    "customer_data.head()"
   ]
  },
  {
   "cell_type": "markdown",
   "metadata": {},
   "source": [
    "## Customer Dataset Description\n",
    "\n",
    "| **Column**                    | **Description**                                                                                      |\n",
    "|-------------------------------|------------------------------------------------------------------------------------------------------|\n",
    "| Customer ID                   | Identifier uniquely assigned to each customer, used to distinguish individual customers.             |\n",
    "| Recency                       | The number of days that have passed since the customer's last purchase.                             |\n",
    "| Total_Transactions            | The total number of transactions made by the customer.                                              |\n",
    "| Total_Products_Purchased      | The total quantity of products purchased by the customer across all transactions.                   |\n",
    "| Total_Spend                   | The total amount of money the customer has spent across all transactions.                           |\n",
    "| Average_Transaction_Value     | The average value of the customer's transactions, calculated as total spend divided by transactions. |\n",
    "| Unique_Products_Purchased     | The number of different products the customer has purchased.                                        |\n",
    "| Cancellation_Frequency        | The total number of transactions that the customer has cancelled.                                   |\n",
    "| Cancellation_Rate             | The proportion of transactions that the customer has cancelled, calculated as cancellations/total.  |\n",
    "| Monthly_Spending_Mean         | The average monthly spending of the customer.                                                       |\n",
    "| Monthly_Spending_Std          | The standard deviation of the customer's monthly spending, indicating variability.                  |\n"
   ]
  },
  {
   "cell_type": "markdown",
   "metadata": {},
   "source": [
    "## Outlier Detection\n",
    "\n",
    "For a better understanding of the data, we will apply Isolation Forest to detect outliers.\n",
    "\n",
    "**Isolation Forest** algorithm works well for multi-dimensional data and is computationally efficient. It isolates observations by randomly selecting a feature and then randomly selecting a split value between the maximum and minimum values of the selected feature."
   ]
  },
  {
   "cell_type": "code",
   "execution_count": 101,
   "metadata": {},
   "outputs": [
    {
     "name": "stdout",
     "output_type": "stream",
     "text": [
      "                       mean  median      std     min        max\n",
      "Recency               91.17   49.00   100.97     0.0     373.00\n",
      "Total_Transactions     4.99    3.00     9.08     1.0     242.00\n",
      "Total_Spend         1894.60  641.79  8266.05 -1192.2  278778.03\n"
     ]
    }
   ],
   "source": [
    "# Calculate descriptive statistics\n",
    "stats = customer_data[['Recency', 'Total_Transactions', 'Total_Spend']].describe().T\n",
    "stats['median'] = customer_data[['Recency', 'Total_Transactions', 'Total_Spend']].median()\n",
    "stats = stats[['mean', 'median', 'std', 'min', 'max']]\n",
    "print(stats.round(2))"
   ]
  },
  {
   "cell_type": "code",
   "execution_count": 102,
   "metadata": {},
   "outputs": [
    {
     "data": {
      "image/png": "[encoded data removed]",
      "text/plain": [
       "<Figure size 640x480 with 1 Axes>"
      ]
     },
     "metadata": {},
     "output_type": "display_data"
    }
   ],
   "source": [
    "import numpy as np\n",
    "from sklearn.cluster import KMeans\n",
    "from sklearn.metrics import silhouette_score\n",
    "from sklearn.ensemble import IsolationForest\n",
    "import matplotlib.pyplot as plt\n",
    "\n",
    "# Select features for anomaly detection\n",
    "X = customer_data[['Recency', 'Total_Transactions', 'Total_Spend']]\n",
    "\n",
    "# Visualize the process of finding the optimal number of percentage of contamination\n",
    "contaminations = np.linspace(0.01, 0.10, 10)\n",
    "scores = []\n",
    "\n",
    "for c in contaminations:\n",
    "    iso = IsolationForest(contamination=c, random_state=0)\n",
    "    mask = iso.fit_predict(X) == 1\n",
    "    km = KMeans(n_clusters=3, random_state=0).fit(X[mask])\n",
    "    scores.append(silhouette_score(X[mask], km.labels_))\n",
    "\n",
    "# Plot\n",
    "plt.plot(contaminations, scores, marker='o')\n",
    "for x, y in zip(contaminations, scores):\n",
    "    plt.text(x, y, f\"{y:.2f}\", ha='center', va='bottom', fontsize=9)\n",
    "\n",
    "plt.xlabel(\"Contamination\")\n",
    "plt.ylabel(\"Silhouette score\")\n",
    "plt.title(\"Silhouette vs. Contamination\")\n",
    "plt.tight_layout()\n",
    "plt.show()"
   ]
  },
  {
   "cell_type": "code",
   "execution_count": 103,
   "metadata": {},
   "outputs": [
    {
     "data": {
      "text/html": [
       "<div>\n",
       "<style scoped>\n",
       "    .dataframe tbody tr th:only-of-type {\n",
       "        vertical-align: middle;\n",
       "    }\n",
       "\n",
       "    .dataframe tbody tr th {\n",
       "        vertical-align: top;\n",
       "    }\n",
       "\n",
       "    .dataframe thead th {\n",
       "        text-align: right;\n",
       "    }\n",
       "</style>\n",
       "<table border=\"1\" class=\"dataframe\">\n",
       "  <thead>\n",
       "    <tr style=\"text-align: right;\">\n",
       "      <th></th>\n",
       "      <th>Customer ID</th>\n",
       "      <th>Recency</th>\n",
       "      <th>Total_Transactions</th>\n",
       "      <th>Total_Products_Purchased</th>\n",
       "      <th>Total_Spend</th>\n",
       "      <th>Average_Transaction_Value</th>\n",
       "      <th>Unique_Products_Purchased</th>\n",
       "      <th>Cancellation_Frequency</th>\n",
       "      <th>Cancellation_Rate</th>\n",
       "      <th>Monthly_Spending_Mean</th>\n",
       "      <th>Monthly_Spending_Std</th>\n",
       "      <th>Outlier</th>\n",
       "    </tr>\n",
       "  </thead>\n",
       "  <tbody>\n",
       "    <tr>\n",
       "      <th>0</th>\n",
       "      <td>12346.0</td>\n",
       "      <td>325</td>\n",
       "      <td>2</td>\n",
       "      <td>0</td>\n",
       "      <td>0.000000</td>\n",
       "      <td>0.000000</td>\n",
       "      <td>1</td>\n",
       "      <td>1.0</td>\n",
       "      <td>0.500</td>\n",
       "      <td>0.000000</td>\n",
       "      <td>0.000000</td>\n",
       "      <td>0</td>\n",
       "    </tr>\n",
       "    <tr>\n",
       "      <th>1</th>\n",
       "      <td>12347.0</td>\n",
       "      <td>1</td>\n",
       "      <td>7</td>\n",
       "      <td>2458</td>\n",
       "      <td>4310.000000</td>\n",
       "      <td>615.714286</td>\n",
       "      <td>103</td>\n",
       "      <td>0.0</td>\n",
       "      <td>0.000</td>\n",
       "      <td>615.714294</td>\n",
       "      <td>341.070770</td>\n",
       "      <td>0</td>\n",
       "    </tr>\n",
       "    <tr>\n",
       "      <th>2</th>\n",
       "      <td>12348.0</td>\n",
       "      <td>74</td>\n",
       "      <td>4</td>\n",
       "      <td>2332</td>\n",
       "      <td>1437.239990</td>\n",
       "      <td>359.309998</td>\n",
       "      <td>21</td>\n",
       "      <td>0.0</td>\n",
       "      <td>0.000</td>\n",
       "      <td>359.309998</td>\n",
       "      <td>203.875687</td>\n",
       "      <td>0</td>\n",
       "    </tr>\n",
       "    <tr>\n",
       "      <th>3</th>\n",
       "      <td>12349.0</td>\n",
       "      <td>18</td>\n",
       "      <td>1</td>\n",
       "      <td>630</td>\n",
       "      <td>1457.550049</td>\n",
       "      <td>1457.550049</td>\n",
       "      <td>72</td>\n",
       "      <td>0.0</td>\n",
       "      <td>0.000</td>\n",
       "      <td>1457.550049</td>\n",
       "      <td>0.000000</td>\n",
       "      <td>0</td>\n",
       "    </tr>\n",
       "    <tr>\n",
       "      <th>4</th>\n",
       "      <td>12350.0</td>\n",
       "      <td>309</td>\n",
       "      <td>1</td>\n",
       "      <td>196</td>\n",
       "      <td>294.399994</td>\n",
       "      <td>294.399994</td>\n",
       "      <td>16</td>\n",
       "      <td>0.0</td>\n",
       "      <td>0.000</td>\n",
       "      <td>294.399994</td>\n",
       "      <td>0.000000</td>\n",
       "      <td>0</td>\n",
       "    </tr>\n",
       "    <tr>\n",
       "      <th>5</th>\n",
       "      <td>12352.0</td>\n",
       "      <td>35</td>\n",
       "      <td>8</td>\n",
       "      <td>463</td>\n",
       "      <td>1265.410034</td>\n",
       "      <td>158.176254</td>\n",
       "      <td>57</td>\n",
       "      <td>1.0</td>\n",
       "      <td>0.125</td>\n",
       "      <td>316.352509</td>\n",
       "      <td>134.700638</td>\n",
       "      <td>0</td>\n",
       "    </tr>\n",
       "    <tr>\n",
       "      <th>6</th>\n",
       "      <td>12353.0</td>\n",
       "      <td>203</td>\n",
       "      <td>1</td>\n",
       "      <td>20</td>\n",
       "      <td>89.000000</td>\n",
       "      <td>89.000000</td>\n",
       "      <td>4</td>\n",
       "      <td>0.0</td>\n",
       "      <td>0.000</td>\n",
       "      <td>89.000000</td>\n",
       "      <td>0.000000</td>\n",
       "      <td>0</td>\n",
       "    </tr>\n",
       "    <tr>\n",
       "      <th>7</th>\n",
       "      <td>12354.0</td>\n",
       "      <td>231</td>\n",
       "      <td>1</td>\n",
       "      <td>530</td>\n",
       "      <td>1079.400024</td>\n",
       "      <td>1079.400024</td>\n",
       "      <td>58</td>\n",
       "      <td>0.0</td>\n",
       "      <td>0.000</td>\n",
       "      <td>1079.400024</td>\n",
       "      <td>0.000000</td>\n",
       "      <td>0</td>\n",
       "    </tr>\n",
       "    <tr>\n",
       "      <th>8</th>\n",
       "      <td>12355.0</td>\n",
       "      <td>213</td>\n",
       "      <td>1</td>\n",
       "      <td>240</td>\n",
       "      <td>459.399994</td>\n",
       "      <td>459.399994</td>\n",
       "      <td>13</td>\n",
       "      <td>0.0</td>\n",
       "      <td>0.000</td>\n",
       "      <td>459.399994</td>\n",
       "      <td>0.000000</td>\n",
       "      <td>0</td>\n",
       "    </tr>\n",
       "    <tr>\n",
       "      <th>9</th>\n",
       "      <td>12356.0</td>\n",
       "      <td>22</td>\n",
       "      <td>3</td>\n",
       "      <td>1573</td>\n",
       "      <td>2487.429932</td>\n",
       "      <td>829.143311</td>\n",
       "      <td>52</td>\n",
       "      <td>0.0</td>\n",
       "      <td>0.000</td>\n",
       "      <td>829.143311</td>\n",
       "      <td>991.462585</td>\n",
       "      <td>0</td>\n",
       "    </tr>\n",
       "  </tbody>\n",
       "</table>\n",
       "</div>"
      ],
      "text/plain": [
       "   Customer ID  Recency  Total_Transactions  Total_Products_Purchased  \\\n",
       "0      12346.0      325                   2                         0   \n",
       "1      12347.0        1                   7                      2458   \n",
       "2      12348.0       74                   4                      2332   \n",
       "3      12349.0       18                   1                       630   \n",
       "4      12350.0      309                   1                       196   \n",
       "5      12352.0       35                   8                       463   \n",
       "6      12353.0      203                   1                        20   \n",
       "7      12354.0      231                   1                       530   \n",
       "8      12355.0      213                   1                       240   \n",
       "9      12356.0       22                   3                      1573   \n",
       "\n",
       "   Total_Spend  Average_Transaction_Value  Unique_Products_Purchased  \\\n",
       "0     0.000000                   0.000000                          1   \n",
       "1  4310.000000                 615.714286                        103   \n",
       "2  1437.239990                 359.309998                         21   \n",
       "3  1457.550049                1457.550049                         72   \n",
       "4   294.399994                 294.399994                         16   \n",
       "5  1265.410034                 158.176254                         57   \n",
       "6    89.000000                  89.000000                          4   \n",
       "7  1079.400024                1079.400024                         58   \n",
       "8   459.399994                 459.399994                         13   \n",
       "9  2487.429932                 829.143311                         52   \n",
       "\n",
       "   Cancellation_Frequency  Cancellation_Rate  Monthly_Spending_Mean  \\\n",
       "0                     1.0              0.500               0.000000   \n",
       "1                     0.0              0.000             615.714294   \n",
       "2                     0.0              0.000             359.309998   \n",
       "3                     0.0              0.000            1457.550049   \n",
       "4                     0.0              0.000             294.399994   \n",
       "5                     1.0              0.125             316.352509   \n",
       "6                     0.0              0.000              89.000000   \n",
       "7                     0.0              0.000            1079.400024   \n",
       "8                     0.0              0.000             459.399994   \n",
       "9                     0.0              0.000             829.143311   \n",
       "\n",
       "   Monthly_Spending_Std  Outlier  \n",
       "0              0.000000        0  \n",
       "1            341.070770        0  \n",
       "2            203.875687        0  \n",
       "3              0.000000        0  \n",
       "4              0.000000        0  \n",
       "5            134.700638        0  \n",
       "6              0.000000        0  \n",
       "7              0.000000        0  \n",
       "8              0.000000        0  \n",
       "9            991.462585        0  "
      ]
     },
     "execution_count": 103,
     "metadata": {},
     "output_type": "execute_result"
    }
   ],
   "source": [
    "# Fit the Isolation Forest model\n",
    "model = IsolationForest(contamination=0.01, random_state=42)\n",
    "model.fit(X)\n",
    "\n",
    "# Predict anomalies\n",
    "anomalies = model.predict(X)\n",
    "anomalies = pd.Series(anomalies, index=customer_data.index)\n",
    "customer_data['Outlier'] = anomalies\n",
    "customer_data['Outlier'] = customer_data['Outlier'].map({1: 0, -1: 1})  # Convert to binary (0 for normal, 1 for anomaly)\n",
    "\n",
    "# Display the first few rows of the customer_data dataframe\n",
    "customer_data.head(10)"
   ]
  },
  {
   "cell_type": "code",
   "execution_count": 104,
   "metadata": {},
   "outputs": [
    {
     "name": "stdout",
     "output_type": "stream",
     "text": [
      "Percentage of outliers: 1.01%\n",
      "Number of outliers: 44\n"
     ]
    }
   ],
   "source": [
    "# Percentage of outliers\n",
    "outlier_percentage = (customer_data['Outlier'].sum() / customer_data.shape[0]) * 100\n",
    "print(f\"Percentage of outliers: {outlier_percentage:.2f}%\")\n",
    "\n",
    "# Print the number of outliers\n",
    "print(f\"Number of outliers: {customer_data['Outlier'].sum()}\")"
   ]
  },
  {
   "cell_type": "code",
   "execution_count": 105,
   "metadata": {},
   "outputs": [
    {
     "name": "stdout",
     "output_type": "stream",
     "text": [
      "Outliers:\n",
      "      Customer ID  Recency  Total_Transactions    Total_Spend\n",
      "55        12415.0       23                  24  123638.179688\n",
      "100       12471.0        1                  45   16323.520508\n",
      "328       12748.0        0                 217   29819.990234\n",
      "448       12921.0        3                  50   16389.740234\n",
      "456       12931.0       21                  19   33544.808594\n",
      "485       12971.0        3                  88   10933.759766\n",
      "566       13089.0        2                 118   57322.128906\n",
      "570       13093.0      266                  13    7741.469727\n",
      "574       13098.0        0                  41   28658.878906\n",
      "799       13408.0        1                  75   27888.380859\n",
      "1001      13694.0        3                  57   62961.539062\n",
      "1058      13767.0        1                  52   16945.710938\n",
      "1063      13777.0        0                  40   25758.099609\n",
      "1074      13798.0        0                  63   36352.871094\n",
      "1291      14088.0        9                  14   50415.488281\n",
      "1296      14096.0        3                  17   53258.429688\n",
      "1341      14156.0        9                  64  113685.773438\n",
      "1443      14298.0        2                  45   50862.441406\n",
      "1670      14606.0        0                 125   11486.599609\n",
      "1699      14646.0        1                  73  278778.031250\n",
      "1891      14911.0        0                 242  128768.242188\n",
      "1976      15039.0        9                  52   19638.589844\n",
      "1995      15061.0        3                  54   54250.339844\n",
      "2023      15098.0      181                   4   39619.500000\n",
      "2075      15159.0        1                  34   18573.679688\n",
      "2095      15189.0        0                  53   15802.139648\n",
      "2188      15311.0        0                 118   59284.191406\n",
      "2516      15749.0      234                   4   21535.900391\n",
      "2531      15769.0        6                  29   51823.718750\n",
      "2583      15838.0       10                  20   33362.281250\n",
      "2701      16013.0        3                  52   33453.449219\n",
      "2715      16029.0       38                  66   60369.929688\n",
      "2791      16133.0        3                  46   14305.660156\n",
      "3007      16422.0       16                  60   34311.000000\n",
      "3195      16684.0        3                  30   65920.117188\n",
      "3704      17389.0        0                  42   31317.478516\n",
      "3749      17450.0        7                  49  189575.531250\n",
      "3792      17511.0        2                  45   88138.203125\n",
      "3916      17675.0        0                  41   20083.099609\n",
      "3918      17677.0        1                  43   16201.370117\n",
      "4033      17841.0        1                 169   39861.488281\n",
      "4038      17850.0      301                  35    5303.479980\n",
      "4115      17949.0        0                  49   53215.738281\n",
      "4223      18102.0        0                  60  259657.296875\n"
     ]
    }
   ],
   "source": [
    "# Print customer data with outliers\n",
    "outliers = customer_data[customer_data['Outlier'] == 1]\n",
    "print(\"Outliers:\")\n",
    "print(outliers[['Customer ID', 'Recency', 'Total_Transactions', 'Total_Spend']])"
   ]
  },
  {
   "cell_type": "code",
   "execution_count": 106,
   "metadata": {},
   "outputs": [
    {
     "data": {
      "text/plain": [
       "4362"
      ]
     },
     "execution_count": 106,
     "metadata": {},
     "output_type": "execute_result"
    }
   ],
   "source": [
    "# Separate outliers\n",
    "outliers = customer_data[customer_data['Outlier'] == 1]\n",
    "\n",
    "customer_data_cleaned = customer_data.copy()\n",
    "\n",
    "# Drop the Outlier column\n",
    "customer_data_cleaned.drop(columns=['Outlier'], inplace=True)\n",
    "customer_data_cleaned.reset_index(drop=True, inplace=True)\n",
    "\n",
    "customer_data_cleaned.shape[0]"
   ]
  },
  {
   "cell_type": "markdown",
   "metadata": {},
   "source": [
    "### Inferences\n",
    "\n",
    "The curve clearly shows that the higher the percentage of outliers to remove, the worse the internal \"quality\" of the clusters (silhouette score) becomes. Specifically:\n",
    "\n",
    "- Maximum peak at 0.01 (≈0.73).\n",
    "\n",
    "- From there, as the proportion of data removed increases, the silhouette score drops fairly steadily.\n",
    "\n",
    "### Strategy\n",
    "\n",
    "It is a good practice to handle these outliers to prevent them from affecting the clusters' quality significantly. In this case the outliers detected are customers who spend the most, the most important ones. Therefore the strategy will be to keep them and consider applying Hierarchical clustering too."
   ]
  },
  {
   "cell_type": "markdown",
   "metadata": {},
   "source": [
    "## Correlation Analysis\n",
    "\n",
    "Before we proceed to KMeans clustering, it's essential to check the correlation between features in our dataset."
   ]
  },
  {
   "cell_type": "code",
   "execution_count": 107,
   "metadata": {},
   "outputs": [
    {
     "data": {
      "application/vnd.plotly.v1+json": {
       "config": {
        "plotlyServerURL": "https://plot.ly"
       },
       "data": [
        {
         "coloraxis": "coloraxis",
         "hovertemplate": "x: %{x}<br>y: %{y}<br>Correlación: %{z}<extra></extra>",
         "name": "0",
         "textfont": {
          "family": "Arial",
          "size": 18
         },
         "texttemplate": "%{z:.2f}",
         "type": "heatmap",
         "x": [
          "Recency",
          "Total_Transactions",
          "Total_Products_Purchased",
          "Total_Spend",
          "Average_Transaction_Value",
          "Unique_Products_Purchased",
          "Cancellation_Frequency",
          "Cancellation_Rate",
          "Monthly_Spending_Mean",
          "Monthly_Spending_Std"
         ],
         "xaxis": "x",
         "y": [
          "Recency",
          "Total_Transactions",
          "Total_Products_Purchased",
          "Total_Spend",
          "Average_Transaction_Value",
          "Unique_Products_Purchased",
          "Cancellation_Frequency",
          "Cancellation_Rate",
          "Monthly_Spending_Mean",
          "Monthly_Spending_Std"
         ],
         "yaxis": "y",
         "z": {
          "bdata": "AAAAAAAA8D8AAAAAAAD4fwAAAAAAAPh/AAAAAAAA+H8AAAAAAAD4fwAAAAAAAPh/AAAAAAAA+H8AAAAAAAD4fwAAAAAAAPh/AAAAAAAA+H+kcD0K16PQvwAAAAAAAPA/AAAAAAAA+H8AAAAAAAD4fwAAAAAAAPh/AAAAAAAA+H8AAAAAAAD4fwAAAAAAAPh/AAAAAAAA+H8AAAAAAAD4f+xRuB6F68G/PQrXo3A94j8AAAAAAADwPwAAAAAAAPh/AAAAAAAA+H8AAAAAAAD4fwAAAAAAAPh/AAAAAAAA+H8AAAAAAAD4fwAAAAAAAPh/pHA9CtejwL+amZmZmZnhP3E9CtejcO0/AAAAAAAA8D8AAAAAAAD4fwAAAAAAAPh/AAAAAAAA+H8AAAAAAAD4fwAAAAAAAPh/AAAAAAAA+H/sUbgeheuxv3sUrkfherQ/UrgehetR2D8pXI/C9SjcPwAAAAAAAPA/AAAAAAAA+H8AAAAAAAD4fwAAAAAAAPh/AAAAAAAA+H8AAAAAAAD4fzMzMzMzM9O/ZmZmZmZm5j8pXI/C9SjcP5qZmZmZmdk/CtejcD0Kxz8AAAAAAADwPwAAAAAAAPh/AAAAAAAA+H8AAAAAAAD4fwAAAAAAAPh/UrgehetRyL9I4XoUrkfpP2ZmZmZmZtY/w/UoXI/C1T8AAAAAAAAAAPYoXI/C9eA/AAAAAAAA8D8AAAAAAAD4fwAAAAAAAPh/AAAAAAAA+H97FK5H4XqEvzMzMzMzM8M/uB6F61G4nj+4HoXrUbiePylcj8L1KLy/exSuR+F6tD/NzMzMzMzcPwAAAAAAAPA/AAAAAAAA+H8AAAAAAAD4f3sUrkfherS/H4XrUbge1T/Xo3A9CtfjP1yPwvUoXOc/SOF6FK5H6T+PwvUoXI/SP1K4HoXrUcg/exSuR+F6hD8AAAAAAADwPwAAAAAAAPh/uB6F61G4vr+amZmZmZnZPxSuR+F6FOY/PQrXo3A96j+4HoXrUbjeP3sUrkfhetQ/AAAAAAAA0D+amZmZmZm5Px+F61G4HuU/AAAAAAAA8D8=",
          "dtype": "f8",
          "shape": "10, 10"
         }
        }
       ],
       "layout": {
        "coloraxis": {
         "colorbar": {
          "title": {
           "text": "Correlación"
          }
         },
         "colorscale": [
          [
           0,
           "#ffffff"
          ],
          [
           1,
           "#1C9BF9"
          ]
         ]
        },
        "font": {
         "size": 15
        },
        "height": 900,
        "margin": {
         "t": 60
        },
        "template": {
         "data": {
          "bar": [
           {
            "error_x": {
             "color": "#2a3f5f"
            },
            "error_y": {
             "color": "#2a3f5f"
            },
            "marker": {
             "line": {
              "color": "#E5ECF6",
              "width": 0.5
             },
             "pattern": {
              "fillmode": "overlay",
              "size": 10,
              "solidity": 0.2
             }
            },
            "type": "bar"
           }
          ],
          "barpolar": [
           {
            "marker": {
             "line": {
              "color": "#E5ECF6",
              "width": 0.5
             },
             "pattern": {
              "fillmode": "overlay",
              "size": 10,
              "solidity": 0.2
             }
            },
            "type": "barpolar"
           }
          ],
          "carpet": [
           {
            "aaxis": {
             "endlinecolor": "#2a3f5f",
             "gridcolor": "white",
             "linecolor": "white",
             "minorgridcolor": "white",
             "startlinecolor": "#2a3f5f"
            },
            "baxis": {
             "endlinecolor": "#2a3f5f",
             "gridcolor": "white",
             "linecolor": "white",
             "minorgridcolor": "white",
             "startlinecolor": "#2a3f5f"
            },
            "type": "carpet"
           }
          ],
          "choropleth": [
           {
            "colorbar": {
             "outlinewidth": 0,
             "ticks": ""
            },
            "type": "choropleth"
           }
          ],
          "contour": [
           {
            "colorbar": {
             "outlinewidth": 0,
             "ticks": ""
            },
            "colorscale": [
             [
              0,
              "#0d0887"
             ],
             [
              0.1111111111111111,
              "#46039f"
             ],
             [
              0.2222222222222222,
              "#7201a8"
             ],
             [
              0.3333333333333333,
              "#9c179e"
             ],
             [
              0.4444444444444444,
              "#bd3786"
             ],
             [
              0.5555555555555556,
              "#d8576b"
             ],
             [
              0.6666666666666666,
              "#ed7953"
             ],
             [
              0.7777777777777778,
              "#fb9f3a"
             ],
             [
              0.8888888888888888,
              "#fdca26"
             ],
             [
              1,
              "#f0f921"
             ]
            ],
            "type": "contour"
           }
          ],
          "contourcarpet": [
           {
            "colorbar": {
             "outlinewidth": 0,
             "ticks": ""
            },
            "type": "contourcarpet"
           }
          ],
          "heatmap": [
           {
            "colorbar": {
             "outlinewidth": 0,
             "ticks": ""
            },
            "colorscale": [
             [
              0,
              "#0d0887"
             ],
             [
              0.1111111111111111,
              "#46039f"
             ],
             [
              0.2222222222222222,
              "#7201a8"
             ],
             [
              0.3333333333333333,
              "#9c179e"
             ],
             [
              0.4444444444444444,
              "#bd3786"
             ],
             [
              0.5555555555555556,
              "#d8576b"
             ],
             [
              0.6666666666666666,
              "#ed7953"
             ],
             [
              0.7777777777777778,
              "#fb9f3a"
             ],
             [
              0.8888888888888888,
              "#fdca26"
             ],
             [
              1,
              "#f0f921"
             ]
            ],
            "type": "heatmap"
           }
          ],
          "histogram": [
           {
            "marker": {
             "pattern": {
              "fillmode": "overlay",
              "size": 10,
              "solidity": 0.2
             }
            },
            "type": "histogram"
           }
          ],
          "histogram2d": [
           {
            "colorbar": {
             "outlinewidth": 0,
             "ticks": ""
            },
            "colorscale": [
             [
              0,
              "#0d0887"
             ],
             [
              0.1111111111111111,
              "#46039f"
             ],
             [
              0.2222222222222222,
              "#7201a8"
             ],
             [
              0.3333333333333333,
              "#9c179e"
             ],
             [
              0.4444444444444444,
              "#bd3786"
             ],
             [
              0.5555555555555556,
              "#d8576b"
             ],
             [
              0.6666666666666666,
              "#ed7953"
             ],
             [
              0.7777777777777778,
              "#fb9f3a"
             ],
             [
              0.8888888888888888,
              "#fdca26"
             ],
             [
              1,
              "#f0f921"
             ]
            ],
            "type": "histogram2d"
           }
          ],
          "histogram2dcontour": [
           {
            "colorbar": {
             "outlinewidth": 0,
             "ticks": ""
            },
            "colorscale": [
             [
              0,
              "#0d0887"
             ],
             [
              0.1111111111111111,
              "#46039f"
             ],
             [
              0.2222222222222222,
              "#7201a8"
             ],
             [
              0.3333333333333333,
              "#9c179e"
             ],
             [
              0.4444444444444444,
              "#bd3786"
             ],
             [
              0.5555555555555556,
              "#d8576b"
             ],
             [
              0.6666666666666666,
              "#ed7953"
             ],
             [
              0.7777777777777778,
              "#fb9f3a"
             ],
             [
              0.8888888888888888,
              "#fdca26"
             ],
             [
              1,
              "#f0f921"
             ]
            ],
            "type": "histogram2dcontour"
           }
          ],
          "mesh3d": [
           {
            "colorbar": {
             "outlinewidth": 0,
             "ticks": ""
            },
            "type": "mesh3d"
           }
          ],
          "parcoords": [
           {
            "line": {
             "colorbar": {
              "outlinewidth": 0,
              "ticks": ""
             }
            },
            "type": "parcoords"
           }
          ],
          "pie": [
           {
            "automargin": true,
            "type": "pie"
           }
          ],
          "scatter": [
           {
            "fillpattern": {
             "fillmode": "overlay",
             "size": 10,
             "solidity": 0.2
            },
            "type": "scatter"
           }
          ],
          "scatter3d": [
           {
            "line": {
             "colorbar": {
              "outlinewidth": 0,
              "ticks": ""
             }
            },
            "marker": {
             "colorbar": {
              "outlinewidth": 0,
              "ticks": ""
             }
            },
            "type": "scatter3d"
           }
          ],
          "scattercarpet": [
           {
            "marker": {
             "colorbar": {
              "outlinewidth": 0,
              "ticks": ""
             }
            },
            "type": "scattercarpet"
           }
          ],
          "scattergeo": [
           {
            "marker": {
             "colorbar": {
              "outlinewidth": 0,
              "ticks": ""
             }
            },
            "type": "scattergeo"
           }
          ],
          "scattergl": [
           {
            "marker": {
             "colorbar": {
              "outlinewidth": 0,
              "ticks": ""
             }
            },
            "type": "scattergl"
           }
          ],
          "scattermap": [
           {
            "marker": {
             "colorbar": {
              "outlinewidth": 0,
              "ticks": ""
             }
            },
            "type": "scattermap"
           }
          ],
          "scattermapbox": [
           {
            "marker": {
             "colorbar": {
              "outlinewidth": 0,
              "ticks": ""
             }
            },
            "type": "scattermapbox"
           }
          ],
          "scatterpolar": [
           {
            "marker": {
             "colorbar": {
              "outlinewidth": 0,
              "ticks": ""
             }
            },
            "type": "scatterpolar"
           }
          ],
          "scatterpolargl": [
           {
            "marker": {
             "colorbar": {
              "outlinewidth": 0,
              "ticks": ""
             }
            },
            "type": "scatterpolargl"
           }
          ],
          "scatterternary": [
           {
            "marker": {
             "colorbar": {
              "outlinewidth": 0,
              "ticks": ""
             }
            },
            "type": "scatterternary"
           }
          ],
          "surface": [
           {
            "colorbar": {
             "outlinewidth": 0,
             "ticks": ""
            },
            "colorscale": [
             [
              0,
              "#0d0887"
             ],
             [
              0.1111111111111111,
              "#46039f"
             ],
             [
              0.2222222222222222,
              "#7201a8"
             ],
             [
              0.3333333333333333,
              "#9c179e"
             ],
             [
              0.4444444444444444,
              "#bd3786"
             ],
             [
              0.5555555555555556,
              "#d8576b"
             ],
             [
              0.6666666666666666,
              "#ed7953"
             ],
             [
              0.7777777777777778,
              "#fb9f3a"
             ],
             [
              0.8888888888888888,
              "#fdca26"
             ],
             [
              1,
              "#f0f921"
             ]
            ],
            "type": "surface"
           }
          ],
          "table": [
           {
            "cells": {
             "fill": {
              "color": "#EBF0F8"
             },
             "line": {
              "color": "white"
             }
            },
            "header": {
             "fill": {
              "color": "#C8D4E3"
             },
             "line": {
              "color": "white"
             }
            },
            "type": "table"
           }
          ]
         },
         "layout": {
          "annotationdefaults": {
           "arrowcolor": "#2a3f5f",
           "arrowhead": 0,
           "arrowwidth": 1
          },
          "autotypenumbers": "strict",
          "coloraxis": {
           "colorbar": {
            "outlinewidth": 0,
            "ticks": ""
           }
          },
          "colorscale": {
           "diverging": [
            [
             0,
             "#8e0152"
            ],
            [
             0.1,
             "#c51b7d"
            ],
            [
             0.2,
             "#de77ae"
            ],
            [
             0.3,
             "#f1b6da"
            ],
            [
             0.4,
             "#fde0ef"
            ],
            [
             0.5,
             "#f7f7f7"
            ],
            [
             0.6,
             "#e6f5d0"
            ],
            [
             0.7,
             "#b8e186"
            ],
            [
             0.8,
             "#7fbc41"
            ],
            [
             0.9,
             "#4d9221"
            ],
            [
             1,
             "#276419"
            ]
           ],
           "sequential": [
            [
             0,
             "#0d0887"
            ],
            [
             0.1111111111111111,
             "#46039f"
            ],
            [
             0.2222222222222222,
             "#7201a8"
            ],
            [
             0.3333333333333333,
             "#9c179e"
            ],
            [
             0.4444444444444444,
             "#bd3786"
            ],
            [
             0.5555555555555556,
             "#d8576b"
            ],
            [
             0.6666666666666666,
             "#ed7953"
            ],
            [
             0.7777777777777778,
             "#fb9f3a"
            ],
            [
             0.8888888888888888,
             "#fdca26"
            ],
            [
             1,
             "#f0f921"
            ]
           ],
           "sequentialminus": [
            [
             0,
             "#0d0887"
            ],
            [
             0.1111111111111111,
             "#46039f"
            ],
            [
             0.2222222222222222,
             "#7201a8"
            ],
            [
             0.3333333333333333,
             "#9c179e"
            ],
            [
             0.4444444444444444,
             "#bd3786"
            ],
            [
             0.5555555555555556,
             "#d8576b"
            ],
            [
             0.6666666666666666,
             "#ed7953"
            ],
            [
             0.7777777777777778,
             "#fb9f3a"
            ],
            [
             0.8888888888888888,
             "#fdca26"
            ],
            [
             1,
             "#f0f921"
            ]
           ]
          },
          "colorway": [
           "#636efa",
           "#EF553B",
           "#00cc96",
           "#ab63fa",
           "#FFA15A",
           "#19d3f3",
           "#FF6692",
           "#B6E880",
           "#FF97FF",
           "#FECB52"
          ],
          "font": {
           "color": "#2a3f5f"
          },
          "geo": {
           "bgcolor": "white",
           "lakecolor": "white",
           "landcolor": "#E5ECF6",
           "showlakes": true,
           "showland": true,
           "subunitcolor": "white"
          },
          "hoverlabel": {
           "align": "left"
          },
          "hovermode": "closest",
          "mapbox": {
           "style": "light"
          },
          "paper_bgcolor": "white",
          "plot_bgcolor": "#E5ECF6",
          "polar": {
           "angularaxis": {
            "gridcolor": "white",
            "linecolor": "white",
            "ticks": ""
           },
           "bgcolor": "#E5ECF6",
           "radialaxis": {
            "gridcolor": "white",
            "linecolor": "white",
            "ticks": ""
           }
          },
          "scene": {
           "xaxis": {
            "backgroundcolor": "#E5ECF6",
            "gridcolor": "white",
            "gridwidth": 2,
            "linecolor": "white",
            "showbackground": true,
            "ticks": "",
            "zerolinecolor": "white"
           },
           "yaxis": {
            "backgroundcolor": "#E5ECF6",
            "gridcolor": "white",
            "gridwidth": 2,
            "linecolor": "white",
            "showbackground": true,
            "ticks": "",
            "zerolinecolor": "white"
           },
           "zaxis": {
            "backgroundcolor": "#E5ECF6",
            "gridcolor": "white",
            "gridwidth": 2,
            "linecolor": "white",
            "showbackground": true,
            "ticks": "",
            "zerolinecolor": "white"
           }
          },
          "shapedefaults": {
           "line": {
            "color": "#2a3f5f"
           }
          },
          "ternary": {
           "aaxis": {
            "gridcolor": "white",
            "linecolor": "white",
            "ticks": ""
           },
           "baxis": {
            "gridcolor": "white",
            "linecolor": "white",
            "ticks": ""
           },
           "bgcolor": "#E5ECF6",
           "caxis": {
            "gridcolor": "white",
            "linecolor": "white",
            "ticks": ""
           }
          },
          "title": {
           "x": 0.05
          },
          "xaxis": {
           "automargin": true,
           "gridcolor": "white",
           "linecolor": "white",
           "ticks": "",
           "title": {
            "standoff": 15
           },
           "zerolinecolor": "white",
           "zerolinewidth": 2
          },
          "yaxis": {
           "automargin": true,
           "gridcolor": "white",
           "linecolor": "white",
           "ticks": "",
           "title": {
            "standoff": 15
           },
           "zerolinecolor": "white",
           "zerolinewidth": 2
          }
         }
        },
        "width": 900,
        "xaxis": {
         "anchor": "y",
         "constrain": "domain",
         "domain": [
          0,
          1
         ],
         "scaleanchor": "y",
         "side": "bottom",
         "tickangle": -90,
         "tickfont": {
          "family": "Arial",
          "size": 14
         }
        },
        "yaxis": {
         "anchor": "x",
         "autorange": "reversed",
         "constrain": "domain",
         "domain": [
          0,
          1
         ],
         "tickfont": {
          "family": "Arial",
          "size": 14
         }
        }
       }
      }
     },
     "metadata": {},
     "output_type": "display_data"
    }
   ],
   "source": [
    "from plotly import express as px\n",
    "\n",
    "# Calcular la matriz de correlación (redondeada)\n",
    "corr = customer_data_cleaned.drop(columns=['Customer ID']).corr().round(2)\n",
    "\n",
    "# Crear máscara para mantener solo la mitad inferior\n",
    "mask = np.triu(np.ones(corr.shape), k=1).astype(bool)\n",
    "corr_masked = corr.mask(mask)\n",
    "\n",
    "# Crear heatmap\n",
    "fig = px.imshow(\n",
    "    corr_masked,\n",
    "    text_auto=True,\n",
    "    color_continuous_scale=[\"#ffffff\", \"#1C9BF9\"],\n",
    "    aspect=\"equal\",\n",
    "    labels=dict(x=\"\", y=\"\", color=\"Correlación\")\n",
    ")\n",
    "\n",
    "# Personalizar layout\n",
    "fig.update_layout(\n",
    "    width=900,\n",
    "    height=900,\n",
    "    xaxis_side=\"bottom\",  # Que aparezcan abajo\n",
    "    font=dict(size=15),\n",
    "    xaxis=dict(tickfont=dict(family=\"Arial\", size=14)),\n",
    "    yaxis=dict(tickfont=dict(family=\"Arial\", size=14))\n",
    ")\n",
    "\n",
    "# Cambiar fuente de los números dentro del heatmap\n",
    "fig.update_traces(\n",
    "    textfont=dict(family=\"Arial\", size=18),\n",
    "    texttemplate=\"%{z:.2f}\"\n",
    ")\n",
    "\n",
    "# Mantener etiquetas horizontales\n",
    "fig.update_xaxes(tickangle=270)\n",
    "\n",
    "fig.show()"
   ]
  },
  {
   "cell_type": "markdown",
   "metadata": {},
   "source": [
    "### Inferences\n",
    "\n",
    "- **Recency:** The more recent the customer’s last purchase, the more transactions (-0.26), products (-0.14), and money (-0.13) they spent. A shorter recency is associated with higher engagement, and customers who returned recently also bought a wider variety of products (-0.30).\n",
    "- **Total_Transactions:** More transactions are tied to more products purchased (0.57), higher total spending (0.55), a wider range of items (0.70), and a higher number of cancellations (0.35). Frequent customers tend to be high spenders who explore more products and are also more likely to cancel.\n",
    "- **Total_Products_Purchased:** Buying more products correlates strongly with total spend (0.92), showing that product quantity drives revenue. It’s also linked to greater variety (0.44), more transactions (0.57), and slightly with more cancellations (0.35). These customers tend to be somewhat more recent (-0.14).\n",
    "- **Total_Spend:** Strongly tied to product volume (0.92), purchase variety (0.40), and both average (0.79) and variable (0.82) monthly spending. High spenders also transact more (0.55) and have more recent activity (-0.13). This is the clearest indicator of high-value customers.\n",
    "- **Average_Transaction_Value:** Closely associated with average monthly spending (0.79) and moderately with total spend (0.44). This feature reflects purchasing power per transaction, but has minimal correlation with frequency or recency.\n",
    "- **Unique_Products_Purchased:** A wider range of products is linked to more transactions (0.70), total spend (0.40), and product count (0.44). These customers tend to cancel slightly more (0.53) and have made more recent purchases (-0.30).\n",
    "- **Cancellation_Frequency:** More frequent cancellations correlate with product variety (0.53), total product count (0.35), and number of transactions (0.35). These customers are active but may have issues with satisfaction. They also tend to have bought more recently (-0.19).\n",
    "- **Cancellation_Rate:** Only moderately associated with cancellation frequency (0.45), and largely independent of recency (-0.01), spend (0.03), or transaction volume. It likely reflects a behavioral pattern not directly tied to purchase value.\n",
    "- **Monthly_Spending_Mean:** Strongly correlated with total spend (0.73), transaction value (0.79), and product quantity (0.62). This metric reflects stable, high-value customer behavior and a pattern of regular spending.\n",
    "- **Monthly_Spending_Std:** High variability in monthly spending correlates with higher overall spending (0.82), higher monthly average (0.66), and slightly more products (0.69). These customers tend to be recent buyers (-0.12) with inconsistent but impactful purchasing patterns.\n"
   ]
  },
  {
   "cell_type": "markdown",
   "metadata": {},
   "source": [
    "## StandardScaler Application\n",
    "\n",
    "K-means relies heavily on the concept of 'distance' between data points to form clusters. When features are not on a similar scale, features with larger values can disproportionately influence the clustering outcome, potentially leading to incorrect groupings. That's why data must be standardized."
   ]
  },
  {
   "cell_type": "code",
   "execution_count": 108,
   "metadata": {},
   "outputs": [
    {
     "data": {
      "text/html": [
       "<div>\n",
       "<style scoped>\n",
       "    .dataframe tbody tr th:only-of-type {\n",
       "        vertical-align: middle;\n",
       "    }\n",
       "\n",
       "    .dataframe tbody tr th {\n",
       "        vertical-align: top;\n",
       "    }\n",
       "\n",
       "    .dataframe thead th {\n",
       "        text-align: right;\n",
       "    }\n",
       "</style>\n",
       "<table border=\"1\" class=\"dataframe\">\n",
       "  <thead>\n",
       "    <tr style=\"text-align: right;\">\n",
       "      <th></th>\n",
       "      <th>Recency</th>\n",
       "      <th>Total_Transactions</th>\n",
       "      <th>Total_Spend</th>\n",
       "    </tr>\n",
       "    <tr>\n",
       "      <th>Customer ID</th>\n",
       "      <th></th>\n",
       "      <th></th>\n",
       "      <th></th>\n",
       "    </tr>\n",
       "  </thead>\n",
       "  <tbody>\n",
       "    <tr>\n",
       "      <th>12346.0</th>\n",
       "      <td>2.316176</td>\n",
       "      <td>-0.329598</td>\n",
       "      <td>-0.229229</td>\n",
       "    </tr>\n",
       "    <tr>\n",
       "      <th>12347.0</th>\n",
       "      <td>-0.893205</td>\n",
       "      <td>0.220952</td>\n",
       "      <td>0.292240</td>\n",
       "    </tr>\n",
       "    <tr>\n",
       "      <th>12348.0</th>\n",
       "      <td>-0.170103</td>\n",
       "      <td>-0.109378</td>\n",
       "      <td>-0.055337</td>\n",
       "    </tr>\n",
       "    <tr>\n",
       "      <th>12349.0</th>\n",
       "      <td>-0.724811</td>\n",
       "      <td>-0.439709</td>\n",
       "      <td>-0.052880</td>\n",
       "    </tr>\n",
       "    <tr>\n",
       "      <th>12350.0</th>\n",
       "      <td>2.157688</td>\n",
       "      <td>-0.439709</td>\n",
       "      <td>-0.193610</td>\n",
       "    </tr>\n",
       "  </tbody>\n",
       "</table>\n",
       "</div>"
      ],
      "text/plain": [
       "              Recency  Total_Transactions  Total_Spend\n",
       "Customer ID                                           \n",
       "12346.0      2.316176           -0.329598    -0.229229\n",
       "12347.0     -0.893205            0.220952     0.292240\n",
       "12348.0     -0.170103           -0.109378    -0.055337\n",
       "12349.0     -0.724811           -0.439709    -0.052880\n",
       "12350.0      2.157688           -0.439709    -0.193610"
      ]
     },
     "execution_count": 108,
     "metadata": {},
     "output_type": "execute_result"
    }
   ],
   "source": [
    "from sklearn.preprocessing import StandardScaler\n",
    "\n",
    "# Feature selection\n",
    "RFM_features = ['Customer ID','Recency', 'Total_Transactions', 'Total_Spend']\n",
    "customer_RFM = customer_data_cleaned[RFM_features]\n",
    "\n",
    "# Initialize the StandardScaler\n",
    "scaler = StandardScaler()\n",
    "\n",
    "# List of columns that don't need to be scaled\n",
    "columns_to_exclude = ['Customer ID']\n",
    "\n",
    "# List of columns that need to be scaled\n",
    "columns_to_scale = customer_RFM.columns.difference(columns_to_exclude)\n",
    "\n",
    "# Copy the cleaned dataset\n",
    "customer_RFM_scaled = customer_RFM.copy()\n",
    "\n",
    "# Applying the scaler to the necessary columns in the dataset\n",
    "customer_RFM_scaled[columns_to_scale] = scaler.fit_transform(customer_RFM_scaled[columns_to_scale])\n",
    "\n",
    "# Set 'Customer ID' as index\n",
    "customer_RFM_scaled.set_index('Customer ID', inplace=True)\n",
    "\n",
    "# Display the first few rows of the scaled data\n",
    "customer_RFM_scaled.head()"
   ]
  },
  {
   "cell_type": "markdown",
   "metadata": {},
   "source": [
    "## Determining the Optimal Number of Clusters\n",
    "\n",
    "To ascertain the optimal number of clusters (k) for segmenting customers, I will explore two renowned methods:\n",
    "\n",
    "- **Elbow Method**\n",
    "\n",
    "- **Silhouette Method**"
   ]
  },
  {
   "cell_type": "code",
   "execution_count": 109,
   "metadata": {},
   "outputs": [
    {
     "data": {
      "image/png": "[encoded data removed]",
      "text/plain": [
       "<Figure size 1200x500 with 2 Axes>"
      ]
     },
     "metadata": {},
     "output_type": "display_data"
    }
   ],
   "source": [
    "# Elbow method to find the optimal number of clusters\n",
    "from sklearn.cluster import KMeans\n",
    "from sklearn.metrics import silhouette_score\n",
    "\n",
    "# Range of clusters to test\n",
    "range_n_clusters = range(2, 10)\n",
    "inertia = []\n",
    "silhouette_scores = []\n",
    "\n",
    "# Loop through the range of clusters\n",
    "for n_clusters in range_n_clusters:\n",
    "    kmeans = KMeans(n_clusters=n_clusters, random_state=42)\n",
    "    kmeans.fit(customer_RFM_scaled)\n",
    "    \n",
    "    # Calculate inertia\n",
    "    inertia.append(kmeans.inertia_)\n",
    "    \n",
    "    # Calculate silhouette score\n",
    "    silhouette_avg = silhouette_score(customer_RFM_scaled, kmeans.labels_)\n",
    "    silhouette_scores.append(silhouette_avg)\n",
    "\n",
    "# Plotting the elbow method\n",
    "plt.figure(figsize=(12, 5))\n",
    "plt.subplot(1, 2, 1)\n",
    "plt.plot(range_n_clusters, inertia, marker='o')\n",
    "plt.title('Elbow Method')\n",
    "plt.xlabel('Number of Clusters')\n",
    "plt.ylabel('Inertia')\n",
    "plt.grid()\n",
    "plt.subplot(1, 2, 2)\n",
    "plt.plot(range_n_clusters, silhouette_scores, marker='o')\n",
    "plt.title('Silhouette Score')\n",
    "plt.xlabel('Number of Clusters')\n",
    "plt.ylabel('Silhouette Score')\n",
    "plt.grid()\n",
    "plt.tight_layout()\n",
    "plt.show()"
   ]
  },
  {
   "cell_type": "markdown",
   "metadata": {},
   "source": [
    "### Inferences\n",
    "\n",
    "**Elbow: k between 4 and 5:** The inertia drops sharply from k = 2 to k = 4, and then begins to flatten from k = 5 onward. The point where the inertia starts to diminish at a slower rate is around k = 4 or 5. This suggests that the optimal number of clusters is likely between 4 and 5, as adding more clusters beyond this point yields smaller improvements.\n",
    "\n",
    "**Silhouette: k = 3 clearly wins:** Among higher values, k = 4 has the next highest silhouette score, indicating relatively well-separated and cohesive clusters. After k = 4, the silhouette score declines, showing reduced clustering quality.\n",
    "\n",
    "Although k = 2 gives the highest silhouette score, a choice of k = 4 provides a strong balance between cluster cohesion and model complexity. 4 clusters is the best option for a RFM Segmentation."
   ]
  },
  {
   "cell_type": "markdown",
   "metadata": {},
   "source": [
    "## Applying Clustering KMeans"
   ]
  },
  {
   "cell_type": "code",
   "execution_count": 110,
   "metadata": {},
   "outputs": [
    {
     "data": {
      "text/html": [
       "<div>\n",
       "<style scoped>\n",
       "    .dataframe tbody tr th:only-of-type {\n",
       "        vertical-align: middle;\n",
       "    }\n",
       "\n",
       "    .dataframe tbody tr th {\n",
       "        vertical-align: top;\n",
       "    }\n",
       "\n",
       "    .dataframe thead th {\n",
       "        text-align: right;\n",
       "    }\n",
       "</style>\n",
       "<table border=\"1\" class=\"dataframe\">\n",
       "  <thead>\n",
       "    <tr style=\"text-align: right;\">\n",
       "      <th></th>\n",
       "      <th>Customer ID</th>\n",
       "      <th>Recency</th>\n",
       "      <th>Total_Transactions</th>\n",
       "      <th>Total_Products_Purchased</th>\n",
       "      <th>Total_Spend</th>\n",
       "      <th>Average_Transaction_Value</th>\n",
       "      <th>Unique_Products_Purchased</th>\n",
       "      <th>Cancellation_Frequency</th>\n",
       "      <th>Cancellation_Rate</th>\n",
       "      <th>Monthly_Spending_Mean</th>\n",
       "      <th>Monthly_Spending_Std</th>\n",
       "      <th>cluster</th>\n",
       "    </tr>\n",
       "  </thead>\n",
       "  <tbody>\n",
       "    <tr>\n",
       "      <th>0</th>\n",
       "      <td>12346.0</td>\n",
       "      <td>325</td>\n",
       "      <td>2</td>\n",
       "      <td>0</td>\n",
       "      <td>0.000000</td>\n",
       "      <td>0.000000</td>\n",
       "      <td>1</td>\n",
       "      <td>1.0</td>\n",
       "      <td>0.5</td>\n",
       "      <td>0.000000</td>\n",
       "      <td>0.000000</td>\n",
       "      <td>1</td>\n",
       "    </tr>\n",
       "    <tr>\n",
       "      <th>1</th>\n",
       "      <td>12347.0</td>\n",
       "      <td>1</td>\n",
       "      <td>7</td>\n",
       "      <td>2458</td>\n",
       "      <td>4310.000000</td>\n",
       "      <td>615.714286</td>\n",
       "      <td>103</td>\n",
       "      <td>0.0</td>\n",
       "      <td>0.0</td>\n",
       "      <td>615.714294</td>\n",
       "      <td>341.070770</td>\n",
       "      <td>0</td>\n",
       "    </tr>\n",
       "    <tr>\n",
       "      <th>2</th>\n",
       "      <td>12348.0</td>\n",
       "      <td>74</td>\n",
       "      <td>4</td>\n",
       "      <td>2332</td>\n",
       "      <td>1437.239990</td>\n",
       "      <td>359.309998</td>\n",
       "      <td>21</td>\n",
       "      <td>0.0</td>\n",
       "      <td>0.0</td>\n",
       "      <td>359.309998</td>\n",
       "      <td>203.875687</td>\n",
       "      <td>0</td>\n",
       "    </tr>\n",
       "    <tr>\n",
       "      <th>3</th>\n",
       "      <td>12349.0</td>\n",
       "      <td>18</td>\n",
       "      <td>1</td>\n",
       "      <td>630</td>\n",
       "      <td>1457.550049</td>\n",
       "      <td>1457.550049</td>\n",
       "      <td>72</td>\n",
       "      <td>0.0</td>\n",
       "      <td>0.0</td>\n",
       "      <td>1457.550049</td>\n",
       "      <td>0.000000</td>\n",
       "      <td>0</td>\n",
       "    </tr>\n",
       "    <tr>\n",
       "      <th>4</th>\n",
       "      <td>12350.0</td>\n",
       "      <td>309</td>\n",
       "      <td>1</td>\n",
       "      <td>196</td>\n",
       "      <td>294.399994</td>\n",
       "      <td>294.399994</td>\n",
       "      <td>16</td>\n",
       "      <td>0.0</td>\n",
       "      <td>0.0</td>\n",
       "      <td>294.399994</td>\n",
       "      <td>0.000000</td>\n",
       "      <td>1</td>\n",
       "    </tr>\n",
       "  </tbody>\n",
       "</table>\n",
       "</div>"
      ],
      "text/plain": [
       "   Customer ID  Recency  Total_Transactions  Total_Products_Purchased  \\\n",
       "0      12346.0      325                   2                         0   \n",
       "1      12347.0        1                   7                      2458   \n",
       "2      12348.0       74                   4                      2332   \n",
       "3      12349.0       18                   1                       630   \n",
       "4      12350.0      309                   1                       196   \n",
       "\n",
       "   Total_Spend  Average_Transaction_Value  Unique_Products_Purchased  \\\n",
       "0     0.000000                   0.000000                          1   \n",
       "1  4310.000000                 615.714286                        103   \n",
       "2  1437.239990                 359.309998                         21   \n",
       "3  1457.550049                1457.550049                         72   \n",
       "4   294.399994                 294.399994                         16   \n",
       "\n",
       "   Cancellation_Frequency  Cancellation_Rate  Monthly_Spending_Mean  \\\n",
       "0                     1.0                0.5               0.000000   \n",
       "1                     0.0                0.0             615.714294   \n",
       "2                     0.0                0.0             359.309998   \n",
       "3                     0.0                0.0            1457.550049   \n",
       "4                     0.0                0.0             294.399994   \n",
       "\n",
       "   Monthly_Spending_Std  cluster  \n",
       "0              0.000000        1  \n",
       "1            341.070770        0  \n",
       "2            203.875687        0  \n",
       "3              0.000000        0  \n",
       "4              0.000000        1  "
      ]
     },
     "execution_count": 110,
     "metadata": {},
     "output_type": "execute_result"
    }
   ],
   "source": [
    "from collections import Counter\n",
    "\n",
    "# Apply KMeans clustering using the optimal k\n",
    "kmeans = KMeans(n_clusters=4, init='k-means++', n_init=10, max_iter=100, random_state=42)\n",
    "kmeans.fit(customer_RFM_scaled)\n",
    "\n",
    "# Get the frequency of each cluster\n",
    "cluster_frequencies = Counter(kmeans.labels_)\n",
    "\n",
    "freq_sorted = cluster_frequencies.most_common()  \n",
    "#    freq_sorted = [(3, 50), (1, 45), (4, 40), (0, 30), (2, 25)]\n",
    "\n",
    "label_mapping = {old_label: new_label for new_label, (old_label, _) in enumerate(freq_sorted)}\n",
    "#    label_mapping = {3:0, 1:1, 4:2, 0:3, 2:4}\n",
    "\n",
    "# Apply that mapping to each label generated by KMeans\n",
    "original_labels = kmeans.labels_                    # array([2, 0, 3, 3, 1, ...])\n",
    "new_labels = np.array([label_mapping[label] for label in original_labels])\n",
    "\n",
    "# Add the new labels to the original DataFrame\n",
    "customer_RFM_scaled['cluster'] = new_labels\n",
    "customer_data_cleaned['cluster'] = new_labels\n",
    "\n",
    "customer_data_cleaned.head()"
   ]
  },
  {
   "cell_type": "code",
   "execution_count": 111,
   "metadata": {},
   "outputs": [
    {
     "name": "stdout",
     "output_type": "stream",
     "text": [
      "cluster\n",
      "0    3071\n",
      "1    1073\n",
      "2     207\n",
      "3      11\n",
      "Name: count, dtype: int64\n"
     ]
    }
   ],
   "source": [
    "print(customer_data_cleaned['cluster'].value_counts().sort_index())"
   ]
  },
  {
   "cell_type": "code",
   "execution_count": 112,
   "metadata": {},
   "outputs": [
    {
     "name": "stdout",
     "output_type": "stream",
     "text": [
      "K-Means Clustering Metrics:\n",
      "Silhouette Score K-Means: 0.6757703132446826\n",
      "Calinski-Harabasz Score K-Means: 3732.482873990765\n",
      "Davies-Bouldin Score K-Means: 0.7266546821675622\n"
     ]
    }
   ],
   "source": [
    "from sklearn.metrics import silhouette_score, calinski_harabasz_score, davies_bouldin_score\n",
    "\n",
    "features = customer_RFM_scaled.values\n",
    "\n",
    "# Calculate the metrics for K-Means clustering\n",
    "kmeans_silhouette = silhouette_score(features, kmeans.labels_)\n",
    "kmeans_calinski = calinski_harabasz_score(features, kmeans.labels_)\n",
    "kmeans_davies = davies_bouldin_score(features, kmeans.labels_)\n",
    "\n",
    "# Print the metrics\n",
    "print(\"K-Means Clustering Metrics:\")\n",
    "print(\"Silhouette Score K-Means:\", kmeans_silhouette)\n",
    "print(\"Calinski-Harabasz Score K-Means:\", kmeans_calinski)\n",
    "print(\"Davies-Bouldin Score K-Means:\", kmeans_davies)"
   ]
  },
  {
   "cell_type": "code",
   "execution_count": 113,
   "metadata": {},
   "outputs": [
    {
     "data": {
      "application/vnd.plotly.v1+json": {
       "config": {
        "plotlyServerURL": "https://plot.ly"
       },
       "data": [
        {
         "hovertemplate": "Recency=%{x}<br>Total_Transactions=%{y}<br>Total_Spend=%{z}<br>cluster=%{marker.color}<extra></extra>",
         "legendgroup": "",
         "marker": {
          "color": {
           "bdata": "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",
           "dtype": "i1"
          },
          "coloraxis": "coloraxis",
          "symbol": "circle"
         },
         "mode": "markers",
         "name": "",
         "scene": "scene",
         "showlegend": false,
         "type": "scatter3d",
         "x": {
          "bdata": "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",
          "dtype": "f8"
         },
         "y": {
          "bdata": "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",
          "dtype": "f8"
         },
         "z": {
          "bdata": "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",
          "dtype": "f8"
         }
        }
       ],
       "layout": {
        "coloraxis": {
         "colorbar": {
          "title": {
           "text": "cluster"
          }
         },
         "colorscale": [
          [
           0,
           "#0d0887"
          ],
          [
           0.1111111111111111,
           "#46039f"
          ],
          [
           0.2222222222222222,
           "#7201a8"
          ],
          [
           0.3333333333333333,
           "#9c179e"
          ],
          [
           0.4444444444444444,
           "#bd3786"
          ],
          [
           0.5555555555555556,
           "#d8576b"
          ],
          [
           0.6666666666666666,
           "#ed7953"
          ],
          [
           0.7777777777777778,
           "#fb9f3a"
          ],
          [
           0.8888888888888888,
           "#fdca26"
          ],
          [
           1,
           "#f0f921"
          ]
         ]
        },
        "legend": {
         "tracegroupgap": 0
        },
        "margin": {
         "t": 60
        },
        "scene": {
         "domain": {
          "x": [
           0,
           1
          ],
          "y": [
           0,
           1
          ]
         },
         "xaxis": {
          "title": {
           "text": "Recency"
          }
         },
         "yaxis": {
          "title": {
           "text": "Total_Transactions"
          }
         },
         "zaxis": {
          "title": {
           "text": "Total_Spend"
          }
         }
        },
        "template": {
         "data": {
          "bar": [
           {
            "error_x": {
             "color": "#2a3f5f"
            },
            "error_y": {
             "color": "#2a3f5f"
            },
            "marker": {
             "line": {
              "color": "#E5ECF6",
              "width": 0.5
             },
             "pattern": {
              "fillmode": "overlay",
              "size": 10,
              "solidity": 0.2
             }
            },
            "type": "bar"
           }
          ],
          "barpolar": [
           {
            "marker": {
             "line": {
              "color": "#E5ECF6",
              "width": 0.5
             },
             "pattern": {
              "fillmode": "overlay",
              "size": 10,
              "solidity": 0.2
             }
            },
            "type": "barpolar"
           }
          ],
          "carpet": [
           {
            "aaxis": {
             "endlinecolor": "#2a3f5f",
             "gridcolor": "white",
             "linecolor": "white",
             "minorgridcolor": "white",
             "startlinecolor": "#2a3f5f"
            },
            "baxis": {
             "endlinecolor": "#2a3f5f",
             "gridcolor": "white",
             "linecolor": "white",
             "minorgridcolor": "white",
             "startlinecolor": "#2a3f5f"
            },
            "type": "carpet"
           }
          ],
          "choropleth": [
           {
            "colorbar": {
             "outlinewidth": 0,
             "ticks": ""
            },
            "type": "choropleth"
           }
          ],
          "contour": [
           {
            "colorbar": {
             "outlinewidth": 0,
             "ticks": ""
            },
            "colorscale": [
             [
              0,
              "#0d0887"
             ],
             [
              0.1111111111111111,
              "#46039f"
             ],
             [
              0.2222222222222222,
              "#7201a8"
             ],
             [
              0.3333333333333333,
              "#9c179e"
             ],
             [
              0.4444444444444444,
              "#bd3786"
             ],
             [
              0.5555555555555556,
              "#d8576b"
             ],
             [
              0.6666666666666666,
              "#ed7953"
             ],
             [
              0.7777777777777778,
              "#fb9f3a"
             ],
             [
              0.8888888888888888,
              "#fdca26"
             ],
             [
              1,
              "#f0f921"
             ]
            ],
            "type": "contour"
           }
          ],
          "contourcarpet": [
           {
            "colorbar": {
             "outlinewidth": 0,
             "ticks": ""
            },
            "type": "contourcarpet"
           }
          ],
          "heatmap": [
           {
            "colorbar": {
             "outlinewidth": 0,
             "ticks": ""
            },
            "colorscale": [
             [
              0,
              "#0d0887"
             ],
             [
              0.1111111111111111,
              "#46039f"
             ],
             [
              0.2222222222222222,
              "#7201a8"
             ],
             [
              0.3333333333333333,
              "#9c179e"
             ],
             [
              0.4444444444444444,
              "#bd3786"
             ],
             [
              0.5555555555555556,
              "#d8576b"
             ],
             [
              0.6666666666666666,
              "#ed7953"
             ],
             [
              0.7777777777777778,
              "#fb9f3a"
             ],
             [
              0.8888888888888888,
              "#fdca26"
             ],
             [
              1,
              "#f0f921"
             ]
            ],
            "type": "heatmap"
           }
          ],
          "histogram": [
           {
            "marker": {
             "pattern": {
              "fillmode": "overlay",
              "size": 10,
              "solidity": 0.2
             }
            },
            "type": "histogram"
           }
          ],
          "histogram2d": [
           {
            "colorbar": {
             "outlinewidth": 0,
             "ticks": ""
            },
            "colorscale": [
             [
              0,
              "#0d0887"
             ],
             [
              0.1111111111111111,
              "#46039f"
             ],
             [
              0.2222222222222222,
              "#7201a8"
             ],
             [
              0.3333333333333333,
              "#9c179e"
             ],
             [
              0.4444444444444444,
              "#bd3786"
             ],
             [
              0.5555555555555556,
              "#d8576b"
             ],
             [
              0.6666666666666666,
              "#ed7953"
             ],
             [
              0.7777777777777778,
              "#fb9f3a"
             ],
             [
              0.8888888888888888,
              "#fdca26"
             ],
             [
              1,
              "#f0f921"
             ]
            ],
            "type": "histogram2d"
           }
          ],
          "histogram2dcontour": [
           {
            "colorbar": {
             "outlinewidth": 0,
             "ticks": ""
            },
            "colorscale": [
             [
              0,
              "#0d0887"
             ],
             [
              0.1111111111111111,
              "#46039f"
             ],
             [
              0.2222222222222222,
              "#7201a8"
             ],
             [
              0.3333333333333333,
              "#9c179e"
             ],
             [
              0.4444444444444444,
              "#bd3786"
             ],
             [
              0.5555555555555556,
              "#d8576b"
             ],
             [
              0.6666666666666666,
              "#ed7953"
             ],
             [
              0.7777777777777778,
              "#fb9f3a"
             ],
             [
              0.8888888888888888,
              "#fdca26"
             ],
             [
              1,
              "#f0f921"
             ]
            ],
            "type": "histogram2dcontour"
           }
          ],
          "mesh3d": [
           {
            "colorbar": {
             "outlinewidth": 0,
             "ticks": ""
            },
            "type": "mesh3d"
           }
          ],
          "parcoords": [
           {
            "line": {
             "colorbar": {
              "outlinewidth": 0,
              "ticks": ""
             }
            },
            "type": "parcoords"
           }
          ],
          "pie": [
           {
            "automargin": true,
            "type": "pie"
           }
          ],
          "scatter": [
           {
            "fillpattern": {
             "fillmode": "overlay",
             "size": 10,
             "solidity": 0.2
            },
            "type": "scatter"
           }
          ],
          "scatter3d": [
           {
            "line": {
             "colorbar": {
              "outlinewidth": 0,
              "ticks": ""
             }
            },
            "marker": {
             "colorbar": {
              "outlinewidth": 0,
              "ticks": ""
             }
            },
            "type": "scatter3d"
           }
          ],
          "scattercarpet": [
           {
            "marker": {
             "colorbar": {
              "outlinewidth": 0,
              "ticks": ""
             }
            },
            "type": "scattercarpet"
           }
          ],
          "scattergeo": [
           {
            "marker": {
             "colorbar": {
              "outlinewidth": 0,
              "ticks": ""
             }
            },
            "type": "scattergeo"
           }
          ],
          "scattergl": [
           {
            "marker": {
             "colorbar": {
              "outlinewidth": 0,
              "ticks": ""
             }
            },
            "type": "scattergl"
           }
          ],
          "scattermap": [
           {
            "marker": {
             "colorbar": {
              "outlinewidth": 0,
              "ticks": ""
             }
            },
            "type": "scattermap"
           }
          ],
          "scattermapbox": [
           {
            "marker": {
             "colorbar": {
              "outlinewidth": 0,
              "ticks": ""
             }
            },
            "type": "scattermapbox"
           }
          ],
          "scatterpolar": [
           {
            "marker": {
             "colorbar": {
              "outlinewidth": 0,
              "ticks": ""
             }
            },
            "type": "scatterpolar"
           }
          ],
          "scatterpolargl": [
           {
            "marker": {
             "colorbar": {
              "outlinewidth": 0,
              "ticks": ""
             }
            },
            "type": "scatterpolargl"
           }
          ],
          "scatterternary": [
           {
            "marker": {
             "colorbar": {
              "outlinewidth": 0,
              "ticks": ""
             }
            },
            "type": "scatterternary"
           }
          ],
          "surface": [
           {
            "colorbar": {
             "outlinewidth": 0,
             "ticks": ""
            },
            "colorscale": [
             [
              0,
              "#0d0887"
             ],
             [
              0.1111111111111111,
              "#46039f"
             ],
             [
              0.2222222222222222,
              "#7201a8"
             ],
             [
              0.3333333333333333,
              "#9c179e"
             ],
             [
              0.4444444444444444,
              "#bd3786"
             ],
             [
              0.5555555555555556,
              "#d8576b"
             ],
             [
              0.6666666666666666,
              "#ed7953"
             ],
             [
              0.7777777777777778,
              "#fb9f3a"
             ],
             [
              0.8888888888888888,
              "#fdca26"
             ],
             [
              1,
              "#f0f921"
             ]
            ],
            "type": "surface"
           }
          ],
          "table": [
           {
            "cells": {
             "fill": {
              "color": "#EBF0F8"
             },
             "line": {
              "color": "white"
             }
            },
            "header": {
             "fill": {
              "color": "#C8D4E3"
             },
             "line": {
              "color": "white"
             }
            },
            "type": "table"
           }
          ]
         },
         "layout": {
          "annotationdefaults": {
           "arrowcolor": "#2a3f5f",
           "arrowhead": 0,
           "arrowwidth": 1
          },
          "autotypenumbers": "strict",
          "coloraxis": {
           "colorbar": {
            "outlinewidth": 0,
            "ticks": ""
           }
          },
          "colorscale": {
           "diverging": [
            [
             0,
             "#8e0152"
            ],
            [
             0.1,
             "#c51b7d"
            ],
            [
             0.2,
             "#de77ae"
            ],
            [
             0.3,
             "#f1b6da"
            ],
            [
             0.4,
             "#fde0ef"
            ],
            [
             0.5,
             "#f7f7f7"
            ],
            [
             0.6,
             "#e6f5d0"
            ],
            [
             0.7,
             "#b8e186"
            ],
            [
             0.8,
             "#7fbc41"
            ],
            [
             0.9,
             "#4d9221"
            ],
            [
             1,
             "#276419"
            ]
           ],
           "sequential": [
            [
             0,
             "#0d0887"
            ],
            [
             0.1111111111111111,
             "#46039f"
            ],
            [
             0.2222222222222222,
             "#7201a8"
            ],
            [
             0.3333333333333333,
             "#9c179e"
            ],
            [
             0.4444444444444444,
             "#bd3786"
            ],
            [
             0.5555555555555556,
             "#d8576b"
            ],
            [
             0.6666666666666666,
             "#ed7953"
            ],
            [
             0.7777777777777778,
             "#fb9f3a"
            ],
            [
             0.8888888888888888,
             "#fdca26"
            ],
            [
             1,
             "#f0f921"
            ]
           ],
           "sequentialminus": [
            [
             0,
             "#0d0887"
            ],
            [
             0.1111111111111111,
             "#46039f"
            ],
            [
             0.2222222222222222,
             "#7201a8"
            ],
            [
             0.3333333333333333,
             "#9c179e"
            ],
            [
             0.4444444444444444,
             "#bd3786"
            ],
            [
             0.5555555555555556,
             "#d8576b"
            ],
            [
             0.6666666666666666,
             "#ed7953"
            ],
            [
             0.7777777777777778,
             "#fb9f3a"
            ],
            [
             0.8888888888888888,
             "#fdca26"
            ],
            [
             1,
             "#f0f921"
            ]
           ]
          },
          "colorway": [
           "#636efa",
           "#EF553B",
           "#00cc96",
           "#ab63fa",
           "#FFA15A",
           "#19d3f3",
           "#FF6692",
           "#B6E880",
           "#FF97FF",
           "#FECB52"
          ],
          "font": {
           "color": "#2a3f5f"
          },
          "geo": {
           "bgcolor": "white",
           "lakecolor": "white",
           "landcolor": "#E5ECF6",
           "showlakes": true,
           "showland": true,
           "subunitcolor": "white"
          },
          "hoverlabel": {
           "align": "left"
          },
          "hovermode": "closest",
          "mapbox": {
           "style": "light"
          },
          "paper_bgcolor": "white",
          "plot_bgcolor": "#E5ECF6",
          "polar": {
           "angularaxis": {
            "gridcolor": "white",
            "linecolor": "white",
            "ticks": ""
           },
           "bgcolor": "#E5ECF6",
           "radialaxis": {
            "gridcolor": "white",
            "linecolor": "white",
            "ticks": ""
           }
          },
          "scene": {
           "xaxis": {
            "backgroundcolor": "#E5ECF6",
            "gridcolor": "white",
            "gridwidth": 2,
            "linecolor": "white",
            "showbackground": true,
            "ticks": "",
            "zerolinecolor": "white"
           },
           "yaxis": {
            "backgroundcolor": "#E5ECF6",
            "gridcolor": "white",
            "gridwidth": 2,
            "linecolor": "white",
            "showbackground": true,
            "ticks": "",
            "zerolinecolor": "white"
           },
           "zaxis": {
            "backgroundcolor": "#E5ECF6",
            "gridcolor": "white",
            "gridwidth": 2,
            "linecolor": "white",
            "showbackground": true,
            "ticks": "",
            "zerolinecolor": "white"
           }
          },
          "shapedefaults": {
           "line": {
            "color": "#2a3f5f"
           }
          },
          "ternary": {
           "aaxis": {
            "gridcolor": "white",
            "linecolor": "white",
            "ticks": ""
           },
           "baxis": {
            "gridcolor": "white",
            "linecolor": "white",
            "ticks": ""
           },
           "bgcolor": "#E5ECF6",
           "caxis": {
            "gridcolor": "white",
            "linecolor": "white",
            "ticks": ""
           }
          },
          "title": {
           "x": 0.05
          },
          "xaxis": {
           "automargin": true,
           "gridcolor": "white",
           "linecolor": "white",
           "ticks": "",
           "title": {
            "standoff": 15
           },
           "zerolinecolor": "white",
           "zerolinewidth": 2
          },
          "yaxis": {
           "automargin": true,
           "gridcolor": "white",
           "linecolor": "white",
           "ticks": "",
           "title": {
            "standoff": 15
           },
           "zerolinecolor": "white",
           "zerolinewidth": 2
          }
         }
        }
       }
      }
     },
     "metadata": {},
     "output_type": "display_data"
    }
   ],
   "source": [
    "import plotly.express as px\n",
    "fig = px.scatter_3d(customer_RFM_scaled, x='Recency', y='Total_Transactions', z='Total_Spend', color='cluster')\n",
    "fig.show()"
   ]
  },
  {
   "cell_type": "code",
   "execution_count": 114,
   "metadata": {},
   "outputs": [
    {
     "name": "stdout",
     "output_type": "stream",
     "text": [
      "Mean values of each cluster:\n",
      "            Recency  Total_Transactions    Total_Spend\n",
      "cluster                                               \n",
      "0         41.926083            4.260501    1299.026855\n",
      "1        248.568500            1.778192     457.803375\n",
      "2         10.536232           27.101449   11667.638672\n",
      "3          4.090909          107.181818  124411.726562\n"
     ]
    }
   ],
   "source": [
    "# Print the mean values of each cluster for insights\n",
    "print(\"Mean values of each cluster:\")\n",
    "print(customer_data_cleaned.groupby('cluster')[['Recency', 'Total_Transactions', 'Total_Spend']].mean())"
   ]
  },
  {
   "cell_type": "code",
   "execution_count": 115,
   "metadata": {},
   "outputs": [
    {
     "data": {
      "text/plain": [
       "RFM\n",
       "0    70.403485\n",
       "1    24.598808\n",
       "2     4.745530\n",
       "3     0.252178\n",
       "Name: proportion, dtype: float64"
      ]
     },
     "execution_count": 115,
     "metadata": {},
     "output_type": "execute_result"
    }
   ],
   "source": [
    "# Rename the cluster column\n",
    "customer_data_cleaned.rename(columns={'cluster': 'RFM'}, inplace=True)\n",
    "customer_RFM_scaled.rename(columns={'cluster': 'RFM'}, inplace=True)\n",
    "\n",
    "# Calculate the percentage of customers in each cluster\n",
    "cluster_percentages = customer_data_cleaned['RFM'].value_counts(normalize=True) * 100\n",
    "cluster_percentages"
   ]
  },
  {
   "cell_type": "code",
   "execution_count": 116,
   "metadata": {},
   "outputs": [
    {
     "data": {
      "text/html": [
       "<div>\n",
       "<style scoped>\n",
       "    .dataframe tbody tr th:only-of-type {\n",
       "        vertical-align: middle;\n",
       "    }\n",
       "\n",
       "    .dataframe tbody tr th {\n",
       "        vertical-align: top;\n",
       "    }\n",
       "\n",
       "    .dataframe thead th {\n",
       "        text-align: right;\n",
       "    }\n",
       "</style>\n",
       "<table border=\"1\" class=\"dataframe\">\n",
       "  <thead>\n",
       "    <tr style=\"text-align: right;\">\n",
       "      <th></th>\n",
       "      <th>Customer ID</th>\n",
       "      <th>Recency</th>\n",
       "      <th>Total_Transactions</th>\n",
       "      <th>Total_Products_Purchased</th>\n",
       "      <th>Total_Spend</th>\n",
       "      <th>Average_Transaction_Value</th>\n",
       "      <th>Unique_Products_Purchased</th>\n",
       "      <th>Cancellation_Frequency</th>\n",
       "      <th>Cancellation_Rate</th>\n",
       "      <th>Monthly_Spending_Mean</th>\n",
       "      <th>Monthly_Spending_Std</th>\n",
       "      <th>RFM</th>\n",
       "    </tr>\n",
       "  </thead>\n",
       "  <tbody>\n",
       "    <tr>\n",
       "      <th>0</th>\n",
       "      <td>12346.0</td>\n",
       "      <td>325</td>\n",
       "      <td>2</td>\n",
       "      <td>0</td>\n",
       "      <td>0.000000</td>\n",
       "      <td>0.000000</td>\n",
       "      <td>1</td>\n",
       "      <td>1.0</td>\n",
       "      <td>0.500</td>\n",
       "      <td>0.000000</td>\n",
       "      <td>0.000000</td>\n",
       "      <td>Passenger</td>\n",
       "    </tr>\n",
       "    <tr>\n",
       "      <th>1</th>\n",
       "      <td>12347.0</td>\n",
       "      <td>1</td>\n",
       "      <td>7</td>\n",
       "      <td>2458</td>\n",
       "      <td>4310.000000</td>\n",
       "      <td>615.714286</td>\n",
       "      <td>103</td>\n",
       "      <td>0.0</td>\n",
       "      <td>0.000</td>\n",
       "      <td>615.714294</td>\n",
       "      <td>341.070770</td>\n",
       "      <td>Regular</td>\n",
       "    </tr>\n",
       "    <tr>\n",
       "      <th>2</th>\n",
       "      <td>12348.0</td>\n",
       "      <td>74</td>\n",
       "      <td>4</td>\n",
       "      <td>2332</td>\n",
       "      <td>1437.239990</td>\n",
       "      <td>359.309998</td>\n",
       "      <td>21</td>\n",
       "      <td>0.0</td>\n",
       "      <td>0.000</td>\n",
       "      <td>359.309998</td>\n",
       "      <td>203.875687</td>\n",
       "      <td>Regular</td>\n",
       "    </tr>\n",
       "    <tr>\n",
       "      <th>3</th>\n",
       "      <td>12349.0</td>\n",
       "      <td>18</td>\n",
       "      <td>1</td>\n",
       "      <td>630</td>\n",
       "      <td>1457.550049</td>\n",
       "      <td>1457.550049</td>\n",
       "      <td>72</td>\n",
       "      <td>0.0</td>\n",
       "      <td>0.000</td>\n",
       "      <td>1457.550049</td>\n",
       "      <td>0.000000</td>\n",
       "      <td>Regular</td>\n",
       "    </tr>\n",
       "    <tr>\n",
       "      <th>4</th>\n",
       "      <td>12350.0</td>\n",
       "      <td>309</td>\n",
       "      <td>1</td>\n",
       "      <td>196</td>\n",
       "      <td>294.399994</td>\n",
       "      <td>294.399994</td>\n",
       "      <td>16</td>\n",
       "      <td>0.0</td>\n",
       "      <td>0.000</td>\n",
       "      <td>294.399994</td>\n",
       "      <td>0.000000</td>\n",
       "      <td>Passenger</td>\n",
       "    </tr>\n",
       "    <tr>\n",
       "      <th>5</th>\n",
       "      <td>12352.0</td>\n",
       "      <td>35</td>\n",
       "      <td>8</td>\n",
       "      <td>463</td>\n",
       "      <td>1265.410034</td>\n",
       "      <td>158.176254</td>\n",
       "      <td>57</td>\n",
       "      <td>1.0</td>\n",
       "      <td>0.125</td>\n",
       "      <td>316.352509</td>\n",
       "      <td>134.700638</td>\n",
       "      <td>Regular</td>\n",
       "    </tr>\n",
       "    <tr>\n",
       "      <th>6</th>\n",
       "      <td>12353.0</td>\n",
       "      <td>203</td>\n",
       "      <td>1</td>\n",
       "      <td>20</td>\n",
       "      <td>89.000000</td>\n",
       "      <td>89.000000</td>\n",
       "      <td>4</td>\n",
       "      <td>0.0</td>\n",
       "      <td>0.000</td>\n",
       "      <td>89.000000</td>\n",
       "      <td>0.000000</td>\n",
       "      <td>Passenger</td>\n",
       "    </tr>\n",
       "    <tr>\n",
       "      <th>7</th>\n",
       "      <td>12354.0</td>\n",
       "      <td>231</td>\n",
       "      <td>1</td>\n",
       "      <td>530</td>\n",
       "      <td>1079.400024</td>\n",
       "      <td>1079.400024</td>\n",
       "      <td>58</td>\n",
       "      <td>0.0</td>\n",
       "      <td>0.000</td>\n",
       "      <td>1079.400024</td>\n",
       "      <td>0.000000</td>\n",
       "      <td>Passenger</td>\n",
       "    </tr>\n",
       "    <tr>\n",
       "      <th>8</th>\n",
       "      <td>12355.0</td>\n",
       "      <td>213</td>\n",
       "      <td>1</td>\n",
       "      <td>240</td>\n",
       "      <td>459.399994</td>\n",
       "      <td>459.399994</td>\n",
       "      <td>13</td>\n",
       "      <td>0.0</td>\n",
       "      <td>0.000</td>\n",
       "      <td>459.399994</td>\n",
       "      <td>0.000000</td>\n",
       "      <td>Passenger</td>\n",
       "    </tr>\n",
       "    <tr>\n",
       "      <th>9</th>\n",
       "      <td>12356.0</td>\n",
       "      <td>22</td>\n",
       "      <td>3</td>\n",
       "      <td>1573</td>\n",
       "      <td>2487.429932</td>\n",
       "      <td>829.143311</td>\n",
       "      <td>52</td>\n",
       "      <td>0.0</td>\n",
       "      <td>0.000</td>\n",
       "      <td>829.143311</td>\n",
       "      <td>991.462585</td>\n",
       "      <td>Regular</td>\n",
       "    </tr>\n",
       "  </tbody>\n",
       "</table>\n",
       "</div>"
      ],
      "text/plain": [
       "   Customer ID  Recency  Total_Transactions  Total_Products_Purchased  \\\n",
       "0      12346.0      325                   2                         0   \n",
       "1      12347.0        1                   7                      2458   \n",
       "2      12348.0       74                   4                      2332   \n",
       "3      12349.0       18                   1                       630   \n",
       "4      12350.0      309                   1                       196   \n",
       "5      12352.0       35                   8                       463   \n",
       "6      12353.0      203                   1                        20   \n",
       "7      12354.0      231                   1                       530   \n",
       "8      12355.0      213                   1                       240   \n",
       "9      12356.0       22                   3                      1573   \n",
       "\n",
       "   Total_Spend  Average_Transaction_Value  Unique_Products_Purchased  \\\n",
       "0     0.000000                   0.000000                          1   \n",
       "1  4310.000000                 615.714286                        103   \n",
       "2  1437.239990                 359.309998                         21   \n",
       "3  1457.550049                1457.550049                         72   \n",
       "4   294.399994                 294.399994                         16   \n",
       "5  1265.410034                 158.176254                         57   \n",
       "6    89.000000                  89.000000                          4   \n",
       "7  1079.400024                1079.400024                         58   \n",
       "8   459.399994                 459.399994                         13   \n",
       "9  2487.429932                 829.143311                         52   \n",
       "\n",
       "   Cancellation_Frequency  Cancellation_Rate  Monthly_Spending_Mean  \\\n",
       "0                     1.0              0.500               0.000000   \n",
       "1                     0.0              0.000             615.714294   \n",
       "2                     0.0              0.000             359.309998   \n",
       "3                     0.0              0.000            1457.550049   \n",
       "4                     0.0              0.000             294.399994   \n",
       "5                     1.0              0.125             316.352509   \n",
       "6                     0.0              0.000              89.000000   \n",
       "7                     0.0              0.000            1079.400024   \n",
       "8                     0.0              0.000             459.399994   \n",
       "9                     0.0              0.000             829.143311   \n",
       "\n",
       "   Monthly_Spending_Std        RFM  \n",
       "0              0.000000  Passenger  \n",
       "1            341.070770    Regular  \n",
       "2            203.875687    Regular  \n",
       "3              0.000000    Regular  \n",
       "4              0.000000  Passenger  \n",
       "5            134.700638    Regular  \n",
       "6              0.000000  Passenger  \n",
       "7              0.000000  Passenger  \n",
       "8              0.000000  Passenger  \n",
       "9            991.462585    Regular  "
      ]
     },
     "execution_count": 116,
     "metadata": {},
     "output_type": "execute_result"
    }
   ],
   "source": [
    "# Mapping dictionary\n",
    "cluster_map = {\n",
    "    0: 'Regular',\n",
    "    1: 'Passenger',\n",
    "    2: 'Loyal',\n",
    "    3: 'Champion'\n",
    "}\n",
    "\n",
    "# Apply mapping\n",
    "customer_RFM_scaled['RFM'] = customer_RFM_scaled['RFM'].map(cluster_map)\n",
    "customer_data_cleaned['RFM'] = customer_data_cleaned['RFM'].map(cluster_map)\n",
    "\n",
    "customer_data_cleaned.head(10)"
   ]
  },
  {
   "cell_type": "markdown",
   "metadata": {},
   "source": [
    "### Inferences\n",
    "\n",
    "### Evaluation Metrics\n",
    "\n",
    "- **Silhouette Score (0.6758):** A value close to 0.68 suggests well-defined clusters with good cohesion and separation. This indicates a reliable clustering structure.\n",
    "- **Calinski-Harabasz Score (3732.48):** A high score, reinforcing that the clusters are dense and well-separated.\n",
    "- **Davies-Bouldin Score (0.7267):** A relatively low value, confirming that clusters are distinct and not overlapping excessively.\n",
    "\n",
    "### Clusters Interpretation\n",
    "\n",
    "- **Champion:** Very low recency (≈4 days), extremely high purchase frequency (~107 transactions), and by far the highest total spend (~$124,412). Despite being only **0.25%** of the customer base, they are the most valuable segment. Prioritize retention, exclusive offers, and high-touch service for them.\n",
    "- **Loyal:** Low recency (~10.5 days), high frequency (~27 transactions), and strong spending (~$11,668). They represent **4.75%** of customers and contribute significantly to revenue. Ideal for loyalty programs, cross-sells, and appreciation campaigns.\n",
    "- **Regular:** Moderate recency (~42 days), moderate frequency (~4.26 transactions), and average total spend (~$1,299). Comprising **70.40%** of customers, they are the core base. Focus on nurturing, upselling, and engagement strategies to elevate them.\n",
    "- **Passenger:** High recency (~249 days), low frequency (~1.78 transactions), and low spending (~$458). Making up **24.60%** of the base, they are at risk of churn. Use reactivation tactics such as special offers, reminders, or feedback requests.\n"
   ]
  },
  {
   "cell_type": "markdown",
   "metadata": {},
   "source": [
    "## Adding Churn client to RFM Segmentation\n",
    "\n",
    "It is important to detect clients that churned, we will consider a churned customer those with a Recency above 180 (almost 6 months).\n",
    "\n",
    "This will bring the opportunity to identify customers who was loyal or Champion and now is a lost customer, those are really important customers to recover. Based on the results we consider to add news segmentations."
   ]
  },
  {
   "cell_type": "code",
   "execution_count": 117,
   "metadata": {},
   "outputs": [
    {
     "name": "stdout",
     "output_type": "stream",
     "text": [
      "Churned Customers Percentage by Cluster (RFM):\n",
      "RFM\n",
      "Champion      0.00\n",
      "Loyal         0.97\n",
      "Passenger    80.24\n",
      "Regular       0.00\n",
      "Name: Churned, dtype: float64\n"
     ]
    }
   ],
   "source": [
    "# Add 'Churned' column: 1 if Recency > 180, else 0\n",
    "customer_data_cleaned['Churned'] = (customer_data_cleaned['Recency'] > 180).astype(int)\n",
    "\n",
    "# Calculate churn percentage per cluster (RFM)\n",
    "churn_percentage_per_cluster = (\n",
    "    customer_data_cleaned.groupby('RFM')['Churned'].mean() * 100\n",
    ").round(2)\n",
    "\n",
    "# Print the result\n",
    "print(\"Churned Customers Percentage by Cluster (RFM):\")\n",
    "print(churn_percentage_per_cluster)"
   ]
  },
  {
   "cell_type": "code",
   "execution_count": 118,
   "metadata": {},
   "outputs": [
    {
     "name": "stdout",
     "output_type": "stream",
     "text": [
      "Churned Customers Count by Cluster (RFM):\n",
      "RFM\n",
      "Champion               0\n",
      "Churned Loyal          2\n",
      "Churned Passenger    861\n",
      "Loyal                  0\n",
      "Passenger              0\n",
      "Regular                0\n",
      "Name: Churned, dtype: int64\n"
     ]
    }
   ],
   "source": [
    "# Relabel RFM for churned customers\n",
    "customer_data_cleaned.loc[customer_data_cleaned['Churned'] == 1, 'RFM'] = (\n",
    "    'Churned ' + customer_data_cleaned.loc[customer_data_cleaned['Churned'] == 1, 'RFM']\n",
    ")\n",
    "\n",
    "# Count the number of customers in each cluster who have churned\n",
    "churned_counts = customer_data_cleaned.groupby('RFM')['Churned'].sum()\n",
    "\n",
    "# Delete the 'Churned' column\n",
    "customer_data_cleaned.drop(columns=['Churned'], inplace=True)\n",
    "\n",
    "# Print the counts\n",
    "print(\"Churned Customers Count by Cluster (RFM):\")\n",
    "print(churned_counts)"
   ]
  },
  {
   "cell_type": "code",
   "execution_count": 119,
   "metadata": {},
   "outputs": [
    {
     "name": "stdout",
     "output_type": "stream",
     "text": [
      "Percentage of Customers in Each Segment:\n"
     ]
    },
    {
     "data": {
      "text/plain": [
       "RFM\n",
       "Regular              70.403485\n",
       "Churned Passenger    19.738652\n",
       "Passenger             4.860156\n",
       "Loyal                 4.699679\n",
       "Champion              0.252178\n",
       "Churned Loyal         0.045851\n",
       "Name: proportion, dtype: float64"
      ]
     },
     "execution_count": 119,
     "metadata": {},
     "output_type": "execute_result"
    }
   ],
   "source": [
    "# Calculate the percentage of customers in each Segment\n",
    "print(\"Percentage of Customers in Each Segment:\")\n",
    "cluster_percentages = customer_data_cleaned['RFM'].value_counts(normalize=True) * 100\n",
    "cluster_percentages"
   ]
  },
  {
   "cell_type": "markdown",
   "metadata": {},
   "source": [
    "### Inferences\n",
    "\n",
    "- Integrating churn analysis into the RFM segmentation adds valuable insight into customer retention, allowing for more precise and actionable marketing strategies.\n",
    "\n",
    "- Customers with a recency greater than 180 days (approximately 6 months) are classified as **churned**.\n",
    "\n",
    "- The original RFM segments have been enhanced with churn-specific labels, such as **Churned Passenger** and **Churned Loyal**, allowing for a more nuanced understanding of customer behavior.\n",
    "\n",
    "- While no **Churned Regular** or **Churned Champion** customers were found in this dataset, these segments could emerge in future analyses as customer behavior evolves.\n",
    "\n",
    "### **Updated Segmentation Overview:**\n",
    "\n",
    "- **Churned Passenger (19.74%)**: A large group of inactive, low-value customers. These users are prime targets for reactivation campaigns to regain lost revenue.\n",
    "\n",
    "- **Passenger (4.86%)**: Low-engagement customers who are still active but at risk of churning. Monitoring and low-effort engagement strategies may help retain them.\n",
    "\n",
    "- **Regular (70.40%)**: The largest and most stable segment. They represent consistent engagement and should be maintained through continued value delivery.\n",
    "\n",
    "- **Loyal (4.70%)**: Frequent and engaged buyers. Nurturing this group with loyalty rewards and personalized offers is key to retention.\n",
    "\n",
    "- **Churned Loyal (0.05%)**: A small but high-potential segment. These previously loyal customers are worth win-back efforts due to their historical value.\n",
    "\n",
    "- **Champion (0.25%)**: High-spending, highly engaged customers. Though a small segment, they provide outsized value and should be prioritized for premium service and exclusive offers.\n",
    "\n",
    "By embedding churn status into the RFM framework, the business gains deeper visibility into customer lifecycles. This allows for:\n",
    "- Strategic recovery of high-value churned customers.\n",
    "- Proactive engagement with at-risk segments.\n",
    "- Focused retention of stable, revenue-generating customers.\n"
   ]
  },
  {
   "cell_type": "markdown",
   "metadata": {},
   "source": [
    "## Exporting Cleaned Transactions and Customers datasets"
   ]
  },
  {
   "cell_type": "code",
   "execution_count": 120,
   "metadata": {},
   "outputs": [],
   "source": [
    "from datetime import datetime\n",
    "\n",
    "# Year and month columns\n",
    "df['Year'] = df['InvoiceDate'].dt.year\n",
    "df['Month'] = df['InvoiceDate'].dt.month\n",
    "\n",
    "# Drop the Year and Month columns\n",
    "df.drop(columns=['Year', 'Month'], inplace=True)\n",
    "\n",
    "# Exporting Transactions_cleaned and Customer_cleaned\n",
    "customer_data_cleaned.to_csv('Customer_cleaned.csv', index=False)\n",
    "df.to_csv('Transactions_cleaned.csv', index=False)"
   ]
  },
  {
   "cell_type": "markdown",
   "metadata": {},
   "source": [
    "## Conclusions\n",
    "\n",
    "**In this analysis, we cleaned the retail dataset by Handling:**\n",
    "- Missing values.\n",
    "- Duplicates.\n",
    "- Stock code corrections.\n",
    "- Cancelled transactions.\n",
    "- Zero unit prices.\n",
    "- Adding Total Price Column.\n",
    "\n",
    "**We create and engineered RFM and additional features for customer insights, such as:**\n",
    "- **Recency:** The number of days that have passed since the customer's last purchase.\n",
    "- **Total_Transactions:** The total number of transactions made by the customer.\n",
    "- **Total_Products_Purchased:** The total quantity of products purchased by the customer across all transactions.\n",
    "- **Total_Spend:** The total amount of money the customer has spent across all transactions.\n",
    "- **Average_Transaction_Value:** The average value of the customer's transactions, calculated as total spend divided by transactions.\n",
    "- **Unique_Products_Purchased:** The number of different products the customer has purchased.\n",
    "- **Cancellation_Frequency:** The total number of transactions that the customer has cancelled.\n",
    "- **Cancellation_Rate:** The proportion of transactions that the customer has cancelled, calculated as cancellations/total.\n",
    "- **Monthly_Spending_Mean:** The average monthly spending of the customer.\n",
    "- **Monthly_Spending_Std:** The standard deviation of the customer's monthly spending, indicating variability.\n",
    "\n",
    "**Followed by:**\n",
    "- Outlier detection\n",
    "- Correlation analysis\n",
    "- Scaling the data.\n",
    "- Determining the Optimal Number of Clusters\n",
    "- Application of KMeans clustering to segment customers using **Recency**, **Total_Transactions**, **Total_Spend** columns (RFM features).\n",
    "- Refined the segmentation with churn analysis (recency > 180 days)\n",
    "- Exported the cleaned transactions and customer data.\n",
    "\n",
    "### Customer Data Description\n",
    "\n",
    "The final Customer Data Description including RFM Segmentation.\n",
    "\n",
    "| **Feature**                    | **Description**                                                                                      |\n",
    "|--------------------------------|------------------------------------------------------------------------------------------------------|\n",
    "| **Customer ID**                | Identifier uniquely assigned to each customer, used to distinguish individual customers.             |\n",
    "| **Recency**                    | The number of days that have passed since the customer's last purchase.                             |\n",
    "| **Total_Transactions**         | The total number of transactions made by the customer.                                              |\n",
    "| **Total_Products_Purchased**   | The total quantity of products purchased by the customer across all transactions.                   |\n",
    "| **Total_Spend**                | The total amount of money the customer has spent across all transactions.                           |\n",
    "| **Average_Transaction_Value**  | The average value of the customer's transactions, calculated as total spend divided by transactions. |\n",
    "| **Unique_Products_Purchased**  | The number of different products the customer has purchased.                                        |\n",
    "| **Cancellation_Frequency**     | The total number of transactions that the customer has cancelled.                                   |\n",
    "| **Cancellation_Rate**          | The proportion of transactions that the customer has cancelled, calculated as cancellations/total.  |\n",
    "| **Monthly_Spending_Mean**      | The average monthly spending of the customer.                                                       |\n",
    "| **Monthly_Spending_Std**       | The standard deviation of the customer's monthly spending, indicating variability.                  |\n",
    "| **RFM**                        | The customer segmentation category derived from Recency, Total_Transactions, and Total_Spend, indicating the customer's value and engagement level, such as 'Champion', 'Loyal', 'Regular', or 'Passenger'. This has been refined to integrate churn analysis, classifying customers with a recency greater than 180 days (approximately 6 months) as churned and adding churn-specific labels: Churned + Segment. |\n",
    "\n",
    "### Percentage and description of RFM Segmentations:\n",
    "- **Churned Passenger (19.74%)**: A large group of inactive, low-value customers. These users are prime targets for reactivation campaigns to regain lost revenue.\n",
    "- **Passenger (4.86%)**: Low-engagement customers who are still active but at risk of churning. Monitoring and low-effort engagement strategies may help retain them.\n",
    "- **Regular (70.40%)**: The largest and most stable segment. They represent consistent engagement and should be maintained through continued value delivery.\n",
    "- **Loyal (4.70%)**: Frequent and engaged buyers. Nurturing this group with loyalty rewards and personalized offers is key to retention.\n",
    "- **Churned Loyal (0.05%)**: A small but high-potential segment. These previously loyal customers are worth win-back efforts due to their historical value.\n",
    "- **Champion (0.25%)**: High-spending, highly engaged customers. Though a small segment, they provide outsized value and should be prioritized for premium service and exclusive offers.\n",
    "\n",
    "This segmentation offers actionable insights into customer behavior, supporting targeted marketing to boost retention and sales."
   ]
  }
 ],
 "metadata": {
  "kernelspec": {
   "display_name": "env",
   "language": "python",
   "name": "python3"
  },
  "language_info": {
   "codemirror_mode": {
    "name": "ipython",
    "version": 3
   },
   "file_extension": ".py",
   "mimetype": "text/x-python",
   "name": "python",
   "nbconvert_exporter": "python",
   "pygments_lexer": "ipython3",
   "version": "3.12.2"
  }
 },
 "nbformat": 4,
 "nbformat_minor": 2
}
