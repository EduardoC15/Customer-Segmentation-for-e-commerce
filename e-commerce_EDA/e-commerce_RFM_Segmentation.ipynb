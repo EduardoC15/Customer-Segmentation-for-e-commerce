{
 "cells": [
  {
   "cell_type": "markdown",
   "metadata": {},
   "source": [
    "# Segmentación de clientes\n",
    "\n",
    "In this project, we explore the dynamic world of online retail by examining a transactional dataset from a UK-based retailer, sourced from the UCI Machine Learning Repository.\n",
    "\n",
    "### Opportunity\n",
    "\n",
    "The dataset encompasses transactions recorded between 2010 and 2011. Our main goal is to enhance marketing effectiveness and increase sales through customer segmentation. To achieve this, we transform the raw transactional data into a customer-focused format by engineering new features that support the identification of distinct customer segments using clustering algorithms.\n",
    "\n",
    "This segmentation enables us to uncover unique customer profiles and gain insights into their behaviors and preferences.\n",
    "\n"
   ]
  },
  {
   "cell_type": "markdown",
   "metadata": {},
   "source": [
    "### **Dataset Description:**\n",
    "\n",
    "The dataset consist of 541,909 entries and 8 columns.\n",
    "\n",
    "| **Column**    | **Description**                                                                                   |\n",
    "|----------------|---------------------------------------------------------------------------------------------------|\n",
    "| Invoice        | Code representing each unique transaction. If this code starts with letter 'C', it indicates a cancellation. |\n",
    "| StockCode      | Code uniquely assigned to each distinct product.                                                  |\n",
    "| Description    | Description of each product.                                                                      |\n",
    "| Quantity       | The number of units of a product in a transaction.                                                |\n",
    "| InvoiceDate    | The date and time of the transaction.                                                             |\n",
    "| Price          | The unit price of the product in sterling.                                                        |\n",
    "| Customer ID     | Identifier uniquely assigned to each customer.                                                   |\n",
    "| Country        | The country where each transaction took place.                                                   |\n"
   ]
  },
  {
   "cell_type": "markdown",
   "metadata": {},
   "source": [
    "## Setup and Initialization"
   ]
  },
  {
   "cell_type": "code",
   "execution_count": 481,
   "metadata": {},
   "outputs": [],
   "source": [
    "# Importing necessary libraries\n",
    "import pandas as pd\n",
    "import numpy as np\n",
    "import matplotlib.pyplot as plt\n",
    "from plotly.offline import iplot\n",
    "\n",
    "import warnings\n",
    "warnings.filterwarnings('ignore')"
   ]
  },
  {
   "cell_type": "markdown",
   "metadata": {},
   "source": [
    "## Initial Data Analysis"
   ]
  },
  {
   "cell_type": "code",
   "execution_count": 482,
   "metadata": {},
   "outputs": [
    {
     "data": {
      "text/html": [
       "<div>\n",
       "<style scoped>\n",
       "    .dataframe tbody tr th:only-of-type {\n",
       "        vertical-align: middle;\n",
       "    }\n",
       "\n",
       "    .dataframe tbody tr th {\n",
       "        vertical-align: top;\n",
       "    }\n",
       "\n",
       "    .dataframe thead th {\n",
       "        text-align: right;\n",
       "    }\n",
       "</style>\n",
       "<table border=\"1\" class=\"dataframe\">\n",
       "  <thead>\n",
       "    <tr style=\"text-align: right;\">\n",
       "      <th></th>\n",
       "      <th>Invoice</th>\n",
       "      <th>StockCode</th>\n",
       "      <th>Description</th>\n",
       "      <th>Quantity</th>\n",
       "      <th>InvoiceDate</th>\n",
       "      <th>Price</th>\n",
       "      <th>Customer ID</th>\n",
       "      <th>Country</th>\n",
       "    </tr>\n",
       "  </thead>\n",
       "  <tbody>\n",
       "    <tr>\n",
       "      <th>0</th>\n",
       "      <td>536365</td>\n",
       "      <td>85123A</td>\n",
       "      <td>WHITE HANGING HEART T-LIGHT HOLDER</td>\n",
       "      <td>6</td>\n",
       "      <td>2010-12-01 08:26:00</td>\n",
       "      <td>2.55</td>\n",
       "      <td>17850.0</td>\n",
       "      <td>United Kingdom</td>\n",
       "    </tr>\n",
       "    <tr>\n",
       "      <th>1</th>\n",
       "      <td>536365</td>\n",
       "      <td>71053</td>\n",
       "      <td>WHITE METAL LANTERN</td>\n",
       "      <td>6</td>\n",
       "      <td>2010-12-01 08:26:00</td>\n",
       "      <td>3.39</td>\n",
       "      <td>17850.0</td>\n",
       "      <td>United Kingdom</td>\n",
       "    </tr>\n",
       "    <tr>\n",
       "      <th>2</th>\n",
       "      <td>536365</td>\n",
       "      <td>84406B</td>\n",
       "      <td>CREAM CUPID HEARTS COAT HANGER</td>\n",
       "      <td>8</td>\n",
       "      <td>2010-12-01 08:26:00</td>\n",
       "      <td>2.75</td>\n",
       "      <td>17850.0</td>\n",
       "      <td>United Kingdom</td>\n",
       "    </tr>\n",
       "    <tr>\n",
       "      <th>3</th>\n",
       "      <td>536365</td>\n",
       "      <td>84029G</td>\n",
       "      <td>KNITTED UNION FLAG HOT WATER BOTTLE</td>\n",
       "      <td>6</td>\n",
       "      <td>2010-12-01 08:26:00</td>\n",
       "      <td>3.39</td>\n",
       "      <td>17850.0</td>\n",
       "      <td>United Kingdom</td>\n",
       "    </tr>\n",
       "    <tr>\n",
       "      <th>4</th>\n",
       "      <td>536365</td>\n",
       "      <td>84029E</td>\n",
       "      <td>RED WOOLLY HOTTIE WHITE HEART.</td>\n",
       "      <td>6</td>\n",
       "      <td>2010-12-01 08:26:00</td>\n",
       "      <td>3.39</td>\n",
       "      <td>17850.0</td>\n",
       "      <td>United Kingdom</td>\n",
       "    </tr>\n",
       "  </tbody>\n",
       "</table>\n",
       "</div>"
      ],
      "text/plain": [
       "  Invoice StockCode                          Description  Quantity  \\\n",
       "0  536365    85123A   WHITE HANGING HEART T-LIGHT HOLDER         6   \n",
       "1  536365     71053                  WHITE METAL LANTERN         6   \n",
       "2  536365    84406B       CREAM CUPID HEARTS COAT HANGER         8   \n",
       "3  536365    84029G  KNITTED UNION FLAG HOT WATER BOTTLE         6   \n",
       "4  536365    84029E       RED WOOLLY HOTTIE WHITE HEART.         6   \n",
       "\n",
       "          InvoiceDate  Price  Customer ID         Country  \n",
       "0 2010-12-01 08:26:00   2.55      17850.0  United Kingdom  \n",
       "1 2010-12-01 08:26:00   3.39      17850.0  United Kingdom  \n",
       "2 2010-12-01 08:26:00   2.75      17850.0  United Kingdom  \n",
       "3 2010-12-01 08:26:00   3.39      17850.0  United Kingdom  \n",
       "4 2010-12-01 08:26:00   3.39      17850.0  United Kingdom  "
      ]
     },
     "execution_count": 482,
     "metadata": {},
     "output_type": "execute_result"
    }
   ],
   "source": [
    "# Load the dataset and dataset overview\n",
    "df = pd.read_excel('online_retail_II.xlsx', sheet_name='Year 2010-2011')\n",
    "df.head()"
   ]
  },
  {
   "cell_type": "code",
   "execution_count": 483,
   "metadata": {},
   "outputs": [
    {
     "name": "stdout",
     "output_type": "stream",
     "text": [
      "<class 'pandas.core.frame.DataFrame'>\n",
      "RangeIndex: 541910 entries, 0 to 541909\n",
      "Data columns (total 8 columns):\n",
      " #   Column       Non-Null Count   Dtype         \n",
      "---  ------       --------------   -----         \n",
      " 0   Invoice      541910 non-null  object        \n",
      " 1   StockCode    541910 non-null  object        \n",
      " 2   Description  540456 non-null  object        \n",
      " 3   Quantity     541910 non-null  int64         \n",
      " 4   InvoiceDate  541910 non-null  datetime64[ns]\n",
      " 5   Price        541910 non-null  float64       \n",
      " 6   Customer ID  406830 non-null  float64       \n",
      " 7   Country      541910 non-null  object        \n",
      "dtypes: datetime64[ns](1), float64(2), int64(1), object(4)\n",
      "memory usage: 33.1+ MB\n"
     ]
    }
   ],
   "source": [
    "df.info()"
   ]
  },
  {
   "cell_type": "markdown",
   "metadata": {},
   "source": [
    "## Data Cleaning and Transformation\n",
    "\n",
    "### Handling Missing values"
   ]
  },
  {
   "cell_type": "code",
   "execution_count": 484,
   "metadata": {},
   "outputs": [
    {
     "data": {
      "text/plain": [
       "Customer ID    24.926648\n",
       "Description     0.268310\n",
       "dtype: float64"
      ]
     },
     "execution_count": 484,
     "metadata": {},
     "output_type": "execute_result"
    }
   ],
   "source": [
    "# Percetage of missing values\n",
    "missing_percentage = df[['Customer ID', 'Description']].isnull() \\\n",
    "    .mean() * 100\n",
    "\n",
    "missing_percentage"
   ]
  },
  {
   "cell_type": "code",
   "execution_count": 485,
   "metadata": {},
   "outputs": [],
   "source": [
    "# Saving the missing values to a CSV file\n",
    "missing_values = df[['Customer ID', 'Description']].isnull().to_csv('missing_values.csv', index=False)\n",
    "\n",
    "# Drop missing values\n",
    "df.dropna(inplace = True)"
   ]
  },
  {
   "cell_type": "markdown",
   "metadata": {},
   "source": [
    "**Customer ID (24.93% missing values) and Description (0.27% missing values)** \n",
    "- Both columns are essential for clustering customers. Therefore, missing values in the dataset are removed."
   ]
  },
  {
   "cell_type": "markdown",
   "metadata": {},
   "source": [
    "### Handling Duplicates"
   ]
  },
  {
   "cell_type": "code",
   "execution_count": 486,
   "metadata": {},
   "outputs": [
    {
     "name": "stdout",
     "output_type": "stream",
     "text": [
      "The dataset contains 5225 duplicate rows that need to be removed.\n"
     ]
    }
   ],
   "source": [
    "# Displaying the number of duplicate rows\n",
    "print(f\"The dataset contains {df.duplicated().sum()} duplicate rows that need to be removed.\")"
   ]
  },
  {
   "cell_type": "code",
   "execution_count": 487,
   "metadata": {},
   "outputs": [
    {
     "name": "stdout",
     "output_type": "stream",
     "text": [
      "<class 'pandas.core.frame.DataFrame'>\n",
      "Index: 401605 entries, 0 to 541909\n",
      "Data columns (total 8 columns):\n",
      " #   Column       Non-Null Count   Dtype         \n",
      "---  ------       --------------   -----         \n",
      " 0   Invoice      401605 non-null  object        \n",
      " 1   StockCode    401605 non-null  object        \n",
      " 2   Description  401605 non-null  object        \n",
      " 3   Quantity     401605 non-null  int64         \n",
      " 4   InvoiceDate  401605 non-null  datetime64[ns]\n",
      " 5   Price        401605 non-null  float64       \n",
      " 6   Customer ID  401605 non-null  float64       \n",
      " 7   Country      401605 non-null  object        \n",
      "dtypes: datetime64[ns](1), float64(2), int64(1), object(4)\n",
      "memory usage: 27.6+ MB\n"
     ]
    }
   ],
   "source": [
    "# Drop duplicated rows\n",
    "df.drop_duplicates(inplace = True)\n",
    "df.info()"
   ]
  },
  {
   "cell_type": "markdown",
   "metadata": {},
   "source": [
    "**10,062 Duplicates rows**\n",
    "- The presence of identical transaction times, suggests that these might be data recording errors rather than genuine repeated transactions. Therefore, duplicate rows must be removed."
   ]
  },
  {
   "cell_type": "markdown",
   "metadata": {},
   "source": [
    "### Identifying Stock Codes"
   ]
  },
  {
   "cell_type": "code",
   "execution_count": 488,
   "metadata": {},
   "outputs": [
    {
     "name": "stdout",
     "output_type": "stream",
     "text": [
      "Number of unique StockCodes: 3684\n"
     ]
    }
   ],
   "source": [
    "# Number of unique StockCodes\n",
    "nunique_stock_codes = df['StockCode'].nunique()\n",
    "print(f\"Number of unique StockCodes: {nunique_stock_codes}\")"
   ]
  },
  {
   "cell_type": "code",
   "execution_count": 489,
   "metadata": {},
   "outputs": [
    {
     "data": {
      "image/png": "[encoded data removed]",
      "text/plain": [
       "<Figure size 1200x500 with 1 Axes>"
      ]
     },
     "metadata": {},
     "output_type": "display_data"
    }
   ],
   "source": [
    "# Finding the top 10 most frequent stock codes\n",
    "top_10_stock_codes = df['StockCode'].value_counts(normalize=True).head(10) * 100\n",
    "\n",
    "# Plotting the top 10 most frequent stock codes\n",
    "plt.figure(figsize=(12, 5))\n",
    "top_10_stock_codes.plot(kind='barh', color='#1C9BF9')\n",
    "\n",
    "# Adding the percentage frequency on the bars\n",
    "for index, value in enumerate(top_10_stock_codes):\n",
    "    plt.text(value, index+0.25, f'{value:.2f}%', fontsize=10)\n",
    "\n",
    "plt.title('Top 10 Most Frequent Stock Codes')\n",
    "plt.xlabel('Percentage Frequency (%)')\n",
    "plt.ylabel('Stock Codes')\n",
    "plt.gca().invert_yaxis()\n",
    "plt.show()"
   ]
  },
  {
   "cell_type": "code",
   "execution_count": 490,
   "metadata": {},
   "outputs": [
    {
     "data": {
      "text/plain": [
       "5    3676\n",
       "0       7\n",
       "1       1\n",
       "Name: count, dtype: int64"
      ]
     },
     "execution_count": 490,
     "metadata": {},
     "output_type": "execute_result"
    }
   ],
   "source": [
    "# Values of numeric characteres in unique stock codes\n",
    "unique_stock_codes = df['StockCode'].unique()\n",
    "numeric_char_counts_in_unique_codes = pd.Series(unique_stock_codes).apply(lambda x: sum(c.isdigit() for c in str(x))).value_counts()\n",
    "numeric_char_counts_in_unique_codes"
   ]
  },
  {
   "cell_type": "code",
   "execution_count": 491,
   "metadata": {},
   "outputs": [
    {
     "name": "stdout",
     "output_type": "stream",
     "text": [
      "POST\n",
      "D\n",
      "C2\n",
      "M\n",
      "BANK CHARGES\n",
      "PADS\n",
      "DOT\n",
      "CRUK\n"
     ]
    }
   ],
   "source": [
    "# Anomalous stock codes\n",
    "anomalous_stock_codes = [code for code in unique_stock_codes if sum(c.isdigit() for c in str(code)) in (0, 1)]\n",
    "\n",
    "for code in anomalous_stock_codes:\n",
    "    print(code)"
   ]
  },
  {
   "cell_type": "code",
   "execution_count": 492,
   "metadata": {},
   "outputs": [
    {
     "name": "stdout",
     "output_type": "stream",
     "text": [
      "Percentage of records with anomalous stock codes: 0.48%\n"
     ]
    }
   ],
   "source": [
    "# Calculating the percentage of records with anomalous stock codes\n",
    "percentage_anomalous_stock_codes = len(df[df['StockCode'].isin(anomalous_stock_codes)]) / len(df) * 100\n",
    "print(f\"Percentage of records with anomalous stock codes: {percentage_anomalous_stock_codes:.2f}%\")"
   ]
  },
  {
   "cell_type": "code",
   "execution_count": 493,
   "metadata": {},
   "outputs": [
    {
     "data": {
      "text/plain": [
       "399689"
      ]
     },
     "execution_count": 493,
     "metadata": {},
     "output_type": "execute_result"
    }
   ],
   "source": [
    "# Removing rows with anomalous stock codes\n",
    "df = df[~df['StockCode'].isin(anomalous_stock_codes)]\n",
    "\n",
    "len(df)"
   ]
  },
  {
   "cell_type": "markdown",
   "metadata": {},
   "source": [
    "### Inferences on Stock Codes:\n",
    "\n",
    "- **Product Variety:** The dataset contains 3684 unique stock codes. This diversity can potentially lead to the identification of distinct customers clusters, with preferences for different types of products.\n",
    "\n",
    "- **Most Frequent Stock Codes:** A closer look at the top 10 most frequent stock codes can offer insights into the popular products or categories that are frequently purchased by customers.\n",
    "\n",
    "- **Stock Codes Anomalies:** We observe that while most stock codes are composed of 5 or 6 characters, there are some anomalies like the code 'BANK CHANGES', 'POST' (perhaps postage fees) These anomalies might represent services or non-product transactions rather than actual products.\n",
    "\n",
    "- **Percentage of records with anomalous Stock Codes:** Only 0.48%, have anomalous stock codes, which deviate from the typical format observed in the majority of the data.\n",
    "\n",
    "We remove the anomalous stock codes since there's a negligible amount of stock codes"
   ]
  },
  {
   "cell_type": "markdown",
   "metadata": {},
   "source": [
    "### Handling Cancelled Transactions"
   ]
  },
  {
   "cell_type": "code",
   "execution_count": 494,
   "metadata": {},
   "outputs": [
    {
     "data": {
      "text/html": [
       "<div>\n",
       "<style scoped>\n",
       "    .dataframe tbody tr th:only-of-type {\n",
       "        vertical-align: middle;\n",
       "    }\n",
       "\n",
       "    .dataframe tbody tr th {\n",
       "        vertical-align: top;\n",
       "    }\n",
       "\n",
       "    .dataframe thead th {\n",
       "        text-align: right;\n",
       "    }\n",
       "</style>\n",
       "<table border=\"1\" class=\"dataframe\">\n",
       "  <thead>\n",
       "    <tr style=\"text-align: right;\">\n",
       "      <th></th>\n",
       "      <th>Quantity</th>\n",
       "      <th>Price</th>\n",
       "    </tr>\n",
       "  </thead>\n",
       "  <tbody>\n",
       "    <tr>\n",
       "      <th>count</th>\n",
       "      <td>8506.000000</td>\n",
       "      <td>8506.000000</td>\n",
       "    </tr>\n",
       "    <tr>\n",
       "      <th>mean</th>\n",
       "      <td>-31.473195</td>\n",
       "      <td>4.440148</td>\n",
       "    </tr>\n",
       "    <tr>\n",
       "      <th>min</th>\n",
       "      <td>-80995.000000</td>\n",
       "      <td>0.030000</td>\n",
       "    </tr>\n",
       "    <tr>\n",
       "      <th>25%</th>\n",
       "      <td>-6.000000</td>\n",
       "      <td>1.450000</td>\n",
       "    </tr>\n",
       "    <tr>\n",
       "      <th>50%</th>\n",
       "      <td>-2.000000</td>\n",
       "      <td>2.550000</td>\n",
       "    </tr>\n",
       "    <tr>\n",
       "      <th>75%</th>\n",
       "      <td>-1.000000</td>\n",
       "      <td>4.950000</td>\n",
       "    </tr>\n",
       "    <tr>\n",
       "      <th>max</th>\n",
       "      <td>-1.000000</td>\n",
       "      <td>295.000000</td>\n",
       "    </tr>\n",
       "    <tr>\n",
       "      <th>std</th>\n",
       "      <td>1197.051599</td>\n",
       "      <td>9.199140</td>\n",
       "    </tr>\n",
       "  </tbody>\n",
       "</table>\n",
       "</div>"
      ],
      "text/plain": [
       "           Quantity        Price\n",
       "count   8506.000000  8506.000000\n",
       "mean     -31.473195     4.440148\n",
       "min   -80995.000000     0.030000\n",
       "25%       -6.000000     1.450000\n",
       "50%       -2.000000     2.550000\n",
       "75%       -1.000000     4.950000\n",
       "max       -1.000000   295.000000\n",
       "std     1197.051599     9.199140"
      ]
     },
     "execution_count": 494,
     "metadata": {},
     "output_type": "execute_result"
    }
   ],
   "source": [
    "# Filter out the rows with Invoice values that start with 'C' and create a new column 'Transaction_Status' indicating the status of the transaction\n",
    "df['Transaction_Status'] = np.where(df['Invoice'].astype(str).str.startswith('C'), 'Cancelled', 'Completed')\n",
    "\n",
    "# Analyze the 'Cancelled' transactions\n",
    "cancelled_transactions = df[df['Transaction_Status'] == 'Cancelled']\n",
    "cancelled_transactions.describe().drop(['Customer ID', 'InvoiceDate'], axis=1)"
   ]
  },
  {
   "cell_type": "code",
   "execution_count": 495,
   "metadata": {},
   "outputs": [
    {
     "data": {
      "text/plain": [
       "2.128154640232781"
      ]
     },
     "execution_count": 495,
     "metadata": {},
     "output_type": "execute_result"
    }
   ],
   "source": [
    "# Cancelled transactions percentage\n",
    "cancelled_percentage = (cancelled_transactions.shape[0] / df.shape[0]) * 100\n",
    "cancelled_percentage"
   ]
  },
  {
   "cell_type": "markdown",
   "metadata": {},
   "source": [
    "### Inferences\n",
    "\n",
    "The strategy is to retain these cancelled transactions in the dataset, marking them distinctly to facilitate further analysis. This approach will enhance the clustering process by incorporating patterns and trends observed in cancellation data, which might represent certain customer behaviors or preferences."
   ]
  },
  {
   "cell_type": "markdown",
   "metadata": {},
   "source": [
    "### Cleaning Description Column"
   ]
  },
  {
   "cell_type": "code",
   "execution_count": 496,
   "metadata": {},
   "outputs": [
    {
     "data": {
      "image/png": "[encoded data removed]",
      "text/plain": [
       "<Figure size 1200x800 with 1 Axes>"
      ]
     },
     "metadata": {},
     "output_type": "display_data"
    }
   ],
   "source": [
    "# Calculate the occurrence of each unique description and sort them\n",
    "description_counts = df['Description'].value_counts()\n",
    "\n",
    "# Get the top 30 descriptions\n",
    "top_30_descriptions = description_counts[:30]\n",
    "\n",
    "# Plotting\n",
    "plt.figure(figsize=(12,8))\n",
    "plt.barh(top_30_descriptions.index[::-1], top_30_descriptions.values[::-1], color='#1C9BF9')\n",
    "\n",
    "# Adding labels and title\n",
    "plt.xlabel('Number of Occurrences')\n",
    "plt.ylabel('Description')\n",
    "plt.title('Top 30 Most Frequent Descriptions')\n",
    "\n",
    "# Show the plot\n",
    "plt.show()"
   ]
  },
  {
   "cell_type": "code",
   "execution_count": 497,
   "metadata": {},
   "outputs": [
    {
     "name": "stdout",
     "output_type": "stream",
     "text": [
      "Unique descriptions containing lowercase letters:\n",
      "--------------------------------------------------\n",
      "BAG 500g SWIRLY MARBLES\n",
      "POLYESTER FILLER PAD 45x45cm\n",
      "POLYESTER FILLER PAD 45x30cm\n",
      "POLYESTER FILLER PAD 40x40cm\n",
      "FRENCH BLUE METAL DOOR SIGN No\n",
      "BAG 250g SWIRLY MARBLES\n",
      "BAG 125g SWIRLY MARBLES\n",
      "3 TRADITIONAl BISCUIT CUTTERS  SET\n",
      "NUMBER TILE COTTAGE GARDEN No\n",
      "FOLK ART GREETING CARD,pack/12\n",
      "ESSENTIAL BALM 3.5g TIN IN ENVELOPE\n",
      "POLYESTER FILLER PAD 65CMx65CM\n",
      "NUMBER TILE VINTAGE FONT No \n",
      "POLYESTER FILLER PAD 30CMx30CM\n",
      "POLYESTER FILLER PAD 60x40cm\n",
      "FLOWERS HANDBAG blue and orange\n",
      "Next Day Carriage\n",
      "THE KING GIFT BAG 25x24x12cm\n",
      "High Resolution Image\n"
     ]
    }
   ],
   "source": [
    "# Finding unique descriptions containing lowercase letters\n",
    "lowercase_descriptions = df['Description'].unique()\n",
    "lowercase_descriptions = [desc for desc in lowercase_descriptions if any(c.islower() for c in str(desc))]\n",
    "\n",
    "print(\"Unique descriptions containing lowercase letters:\")\n",
    "print(\"-\" * 50)\n",
    "for desc in lowercase_descriptions:\n",
    "    print(desc)"
   ]
  },
  {
   "cell_type": "code",
   "execution_count": 498,
   "metadata": {},
   "outputs": [
    {
     "name": "stdout",
     "output_type": "stream",
     "text": [
      "Number of records with service descriptions: 83\n",
      "Percentage of records with service descriptions: 0.02%\n"
     ]
    }
   ],
   "source": [
    "# Calculating the number and percentage of records with service descriptions\n",
    "service_descriptions = [\"Next Day Carriage\", \"High Resolution Image\"]\n",
    "\n",
    "number_service_descriptions = df[df['Description'].isin(service_descriptions)].shape[0]\n",
    "percentage_service_descriptions = (number_service_descriptions / df.shape[0]) * 100\n",
    "print(f\"Number of records with service descriptions: {number_service_descriptions}\")\n",
    "print(f\"Percentage of records with service descriptions: {percentage_service_descriptions:.2f}%\")\n",
    "\n",
    "# Removing rows with descriptions containing service descriptions\n",
    "df = df[~df['Description'].isin(service_descriptions)]"
   ]
  },
  {
   "cell_type": "code",
   "execution_count": 499,
   "metadata": {},
   "outputs": [
    {
     "data": {
      "text/plain": [
       "399606"
      ]
     },
     "execution_count": 499,
     "metadata": {},
     "output_type": "execute_result"
    }
   ],
   "source": [
    "df.shape[0]"
   ]
  },
  {
   "cell_type": "markdown",
   "metadata": {},
   "source": [
    "## Inferences\n",
    "\n",
    "- The most frequent descriptions are generally household items, particularly those associated with kitchenware, lunch bags, and decorative items.\n",
    "\n",
    "- All the descriptions are in uppercase, which might be a standardized format for entering product descriptions in the database. It would be prudent to check if there are descriptions entered in lowercase or a mix of case styles.\n",
    "\n",
    "- Upon reviewing the descriptions that contain lowecase characters, it is evident that some entries are not product descriptions, such as \"Next Day Carriage\" and \"High Resolution Image\". Therefore, we removed rows with this descriptions."
   ]
  },
  {
   "cell_type": "markdown",
   "metadata": {},
   "source": [
    "## Comparing Stock Codes with Descriptions"
   ]
  },
  {
   "cell_type": "code",
   "execution_count": 500,
   "metadata": {},
   "outputs": [
    {
     "data": {
      "text/plain": [
       "{'Invoice': 21784,\n",
       " 'StockCode': 3674,\n",
       " 'Description': 3886,\n",
       " 'Quantity': 432,\n",
       " 'InvoiceDate': 20132,\n",
       " 'Price': 370,\n",
       " 'Customer ID': 4363,\n",
       " 'Country': 37,\n",
       " 'Transaction_Status': 2}"
      ]
     },
     "execution_count": 500,
     "metadata": {},
     "output_type": "execute_result"
    }
   ],
   "source": [
    "# Unique values in each column\n",
    "{columns: len(df[columns].unique()) for columns in df.columns}"
   ]
  },
  {
   "cell_type": "code",
   "execution_count": 501,
   "metadata": {},
   "outputs": [
    {
     "name": "stdout",
     "output_type": "stream",
     "text": [
      "Descriptions shared by multiple StockCodes:\n",
      "--------------------------------------------------\n",
      "                          Description  StockCode_Count\n",
      "827      COLOURING PENCILS BROWN TUBE                2\n",
      "829        COLUMBIAN CANDLE RECTANGLE                2\n",
      "830            COLUMBIAN CANDLE ROUND                2\n",
      "1080  EAU DE NILE JEWELLED PHOTOFRAME                2\n",
      "1324     FRENCH FLORAL CUSHION COVER                 2\n",
      "1327    FRENCH LATTICE CUSHION COVER                 2\n",
      "1345              FROSTED WHITE BASE                 2\n",
      "2018   METAL SIGN,CUPCAKE SINGLE HOOK                3\n",
      "2332  PAPER LANTERN 9 POINT SNOW STAR                2\n",
      "2461    PINK FAIRY CAKE CUSHION COVER                2\n",
      "2466    PINK FLOCK GLASS CANDLEHOLDER                2\n",
      "2472       PINK FLOWERS RABBIT EASTER                2\n",
      "2796          RETRO PLASTIC 70'S TRAY                2\n",
      "2797         RETRO PLASTIC DAISY TRAY                2\n",
      "2799         RETRO PLASTIC POLKA TRAY                2\n",
      "2872     ROUND BLUE CLOCK WITH SUCKER                2\n",
      "3331    SQUARE CHERRY BLOSSOM CABINET                2\n",
      "3355         STORAGE TIN VINTAGE LEAF                2\n",
      "3685      WHITE BAMBOO RIBS LAMPSHADE                2\n",
      "\n",
      "StockCode details with shared descriptions:\n",
      "--------------------------------------------------\n",
      "       StockCode                      Description\n",
      "741        10133     COLOURING PENCILS BROWN TUBE\n",
      "3330       10135     COLOURING PENCILS BROWN TUBE\n",
      "3951       72133       COLUMBIAN CANDLE RECTANGLE\n",
      "12120      72131       COLUMBIAN CANDLE RECTANGLE\n",
      "7070       72130           COLUMBIAN CANDLE ROUND\n",
      "7071       72128           COLUMBIAN CANDLE ROUND\n",
      "75983     85024B  EAU DE NILE JEWELLED PHOTOFRAME\n",
      "37504     85023B  EAU DE NILE JEWELLED PHOTOFRAME\n",
      "170525     20840     FRENCH FLORAL CUSHION COVER \n",
      "93898      20837     FRENCH FLORAL CUSHION COVER \n",
      "172798     20838    FRENCH LATTICE CUSHION COVER \n",
      "172505     20835    FRENCH LATTICE CUSHION COVER \n",
      "29965      79403              FROSTED WHITE BASE \n",
      "91904      79406              FROSTED WHITE BASE \n",
      "29818     82613C   METAL SIGN,CUPCAKE SINGLE HOOK\n",
      "39555     82613A   METAL SIGN,CUPCAKE SINGLE HOOK\n",
      "9276      82613B   METAL SIGN,CUPCAKE SINGLE HOOK\n",
      "171346     23041  PAPER LANTERN 9 POINT SNOW STAR\n",
      "176849     23040  PAPER LANTERN 9 POINT SNOW STAR\n",
      "12796     47586A    PINK FAIRY CAKE CUSHION COVER\n",
      "42403     47585A    PINK FAIRY CAKE CUSHION COVER\n",
      "31758      79329    PINK FLOCK GLASS CANDLEHOLDER\n",
      "95347      79331    PINK FLOCK GLASS CANDLEHOLDER\n",
      "125020    35910B       PINK FLOWERS RABBIT EASTER\n",
      "89682     35909B       PINK FLOWERS RABBIT EASTER\n",
      "9170      79190A          RETRO PLASTIC 70'S TRAY\n",
      "64593     79192A          RETRO PLASTIC 70'S TRAY\n",
      "10013     79190D         RETRO PLASTIC DAISY TRAY\n",
      "67929     79191D         RETRO PLASTIC DAISY TRAY\n",
      "20476     79190B         RETRO PLASTIC POLKA TRAY\n",
      "10081     79191B         RETRO PLASTIC POLKA TRAY\n",
      "249672    81952B     ROUND BLUE CLOCK WITH SUCKER\n",
      "261919    81953B     ROUND BLUE CLOCK WITH SUCKER\n",
      "30554      84666    SQUARE CHERRY BLOSSOM CABINET\n",
      "14058      84665    SQUARE CHERRY BLOSSOM CABINET\n",
      "218409     23235         STORAGE TIN VINTAGE LEAF\n",
      "220213     23244         STORAGE TIN VINTAGE LEAF\n",
      "20340      40003      WHITE BAMBOO RIBS LAMPSHADE\n",
      "3093       40001      WHITE BAMBOO RIBS LAMPSHADE\n"
     ]
    }
   ],
   "source": [
    "# Ensure columns are of type string\n",
    "df['StockCode'] = df['StockCode'].astype(str)\n",
    "df['Description'] = df['Description'].astype(str)\n",
    "\n",
    "# Count how many StockCode are associated with each Description\n",
    "description_counts = df.groupby('Description')['StockCode'].nunique().reset_index()\n",
    "description_counts.rename(columns={'StockCode': 'StockCode_Count'}, inplace=True)\n",
    "\n",
    "# Filter descriptions shared by more than one StockCode\n",
    "shared_descriptions = description_counts[description_counts['StockCode_Count'] > 1]\n",
    "\n",
    "# Show shared descriptions\n",
    "print(\"Descriptions shared by multiple StockCodes:\")\n",
    "print(\"-\" * 50)\n",
    "print(shared_descriptions)\n",
    "\n",
    "# Get details of the StockCode associated with these Descriptions\n",
    "shared_desc_details = df[df['Description'].isin(shared_descriptions['Description'])][['StockCode', 'Description']].drop_duplicates().sort_values(by='Description')\n",
    "\n",
    "# Show details\n",
    "print(\"\\nStockCode details with shared descriptions:\")\n",
    "print(\"-\" * 50)\n",
    "print(shared_desc_details)"
   ]
  },
  {
   "cell_type": "code",
   "execution_count": 502,
   "metadata": {},
   "outputs": [
    {
     "name": "stdout",
     "output_type": "stream",
     "text": [
      "Stock codes with more than 1 unique description:\n",
      "--------------------------------------------------\n",
      "     StockCode  Unique_Descriptions_Count\n",
      "42      16156L                          2\n",
      "100     17107D                          3\n",
      "118      20622                          2\n",
      "170      20725                          2\n",
      "262      20914                          2\n",
      "...        ...                        ...\n",
      "3308    85184C                          2\n",
      "3309    85185B                          2\n",
      "3372    90014A                          2\n",
      "3373    90014B                          2\n",
      "3374    90014C                          2\n",
      "\n",
      "[213 rows x 2 columns]\n",
      "\n",
      "Details of the stock codes with more than 1 unique description:\n",
      "--------------------------------------------------\n",
      "       StockCode                          Description\n",
      "47284     16156L                       WRAP, CAROUSEL\n",
      "138080    16156L                        WRAP CAROUSEL\n",
      "315743    17107D         FLOWER FAIRY 5 DRAWER LINERS\n",
      "347764    17107D    FLOWER FAIRY 5 SUMMER DRAW LINERS\n",
      "6467      17107D  FLOWER FAIRY,5 SUMMER B'DRAW LINERS\n",
      "...          ...                                  ...\n",
      "37284     90014A            SILVER/MOP ORBIT NECKLACE\n",
      "28450     90014B         GOLD M PEARL  ORBIT NECKLACE\n",
      "386649    90014B           GOLD M.O.P. ORBIT NECKLACE\n",
      "504701    90014C      SILVER AND BLACK ORBIT NECKLACE\n",
      "142063    90014C          SILVER/BLACK ORBIT NECKLACE\n",
      "\n",
      "[445 rows x 2 columns]\n"
     ]
    }
   ],
   "source": [
    "# Convert StockCode to string\n",
    "df['StockCode'] = df['StockCode'].astype(str)\n",
    "\n",
    "# Group by StockCode and count the uniques Descriptions\n",
    "stock_code_description = df.groupby('StockCode')['Description'].nunique().reset_index()\n",
    "stock_code_description.rename(columns={'Description': 'Unique_Descriptions_Count'}, inplace= True)\n",
    "\n",
    "# Filtering the stock codes with more than 1 unique description\n",
    "multiple_descriptions = stock_code_description[stock_code_description['Unique_Descriptions_Count'] > 1]\n",
    "\n",
    "# Displaying the stock codes with more than 1 unique description\n",
    "print(\"Stock codes with more than 1 unique description:\")\n",
    "print(\"-\" * 50)\n",
    "\n",
    "print(multiple_descriptions)\n",
    "\n",
    "# Obtaining the details of the stock codes with more than 1 unique description\n",
    "multiple_descriptions_details = multiple_descriptions['StockCode']\n",
    "details = df[df['StockCode'].isin(multiple_descriptions_details)][['StockCode', 'Description']].drop_duplicates().sort_values(by='StockCode')\n",
    "\n",
    "print(\"\\nDetails of the stock codes with more than 1 unique description:\")\n",
    "print(\"-\" * 50)\n",
    "print(details)"
   ]
  },
  {
   "cell_type": "code",
   "execution_count": 503,
   "metadata": {},
   "outputs": [
    {
     "data": {
      "text/plain": [
       "{'Invoice': 21784,\n",
       " 'StockCode': 3674,\n",
       " 'Description': 3886,\n",
       " 'Quantity': 432,\n",
       " 'InvoiceDate': 20132,\n",
       " 'Price': 370,\n",
       " 'Customer ID': 4363,\n",
       " 'Country': 37,\n",
       " 'Transaction_Status': 2}"
      ]
     },
     "execution_count": 503,
     "metadata": {},
     "output_type": "execute_result"
    }
   ],
   "source": [
    "{columns: len(df[columns].unique()) for columns in df.columns}"
   ]
  },
  {
   "cell_type": "code",
   "execution_count": 504,
   "metadata": {},
   "outputs": [
    {
     "name": "stdout",
     "output_type": "stream",
     "text": [
      "Unique values after cleaning:\n",
      "StockCode: 3674\n",
      "Description: 3674\n",
      "No StockCode with multiple descriptions.\n",
      "There are no descriptions shared by multiple StockCode.\n"
     ]
    }
   ],
   "source": [
    "import pandas as pd\n",
    "\n",
    "# Ensure columns are of type string\n",
    "df['StockCode'] = df['StockCode'].astype(str)\n",
    "df['Description'] = df['Description'].astype(str)\n",
    "\n",
    "# Step 1: Unify multiple descriptions by selecting the most frequent one\n",
    "most_frequent_desc = df.groupby(['StockCode', 'Description']).size().reset_index(name='Count')\n",
    "most_frequent_desc = most_frequent_desc.sort_values(['StockCode', 'Count'], ascending=[True, False])\n",
    "most_frequent_desc = most_frequent_desc.groupby('StockCode').first().reset_index()[['StockCode', 'Description']]\n",
    "\n",
    "# Update the DataFrame with unified descriptions\n",
    "df = df.drop(columns=['Description']).merge(most_frequent_desc, on='StockCode', how='left')\n",
    "\n",
    "# Step 2: Identify and modify shared descriptions\n",
    "description_counts = df.groupby('Description')['StockCode'].nunique().reset_index()\n",
    "shared_descriptions = description_counts[description_counts['StockCode'] > 1]['Description']\n",
    "\n",
    "# Modify shared descriptions by adding the StockCode\n",
    "df.loc[df['Description'].isin(shared_descriptions), 'Description'] = (\n",
    "    df['Description'] + \" (\" + df['StockCode'] + \")\"\n",
    ")\n",
    "\n",
    "# Step 3: Validate results\n",
    "# Verify unique values\n",
    "print(\"Unique values after cleaning:\")\n",
    "print(f\"StockCode: {df['StockCode'].nunique()}\")\n",
    "print(f\"Description: {df['Description'].nunique()}\")\n",
    "\n",
    "# Check multiple descriptions\n",
    "stock_code_description = df.groupby('StockCode')['Description'].nunique().reset_index()\n",
    "multiple_descriptions = stock_code_description[stock_code_description['Description'] > 1]\n",
    "if multiple_descriptions.empty:\n",
    "    print(\"No StockCode with multiple descriptions.\")\n",
    "else:\n",
    "    print(\"Warning: Some StockCode still have multiple descriptions:\")\n",
    "    print(multiple_descriptions)\n",
    "\n",
    "# Check shared descriptions\n",
    "description_counts = df.groupby('Description')['StockCode'].nunique().reset_index()\n",
    "shared_descriptions = description_counts[description_counts['StockCode'] > 1]\n",
    "if shared_descriptions.empty:\n",
    "    print(\"There are no descriptions shared by multiple StockCode.\")\n",
    "else:\n",
    "    print(\"Warning: Some descriptions are still shared:\")\n",
    "    print(shared_descriptions)"
   ]
  },
  {
   "cell_type": "markdown",
   "metadata": {},
   "source": [
    "## Inferences:\n",
    "\n",
    "- **StockCodes with multiple Descriptions:** 213 StockCodes have multiple descriptions (196 with 2, 15 with 3, 2 with 4), causing extra Description values\n",
    "- **Descriptions shared by multiple StockCodes:** 19 descriptions are used by 39 StockCodes\n",
    "\n",
    "The presence of multiple descriptions per StockCode and shared descriptions across StockCode led to data quality issues, complicating product-level analyses such as identifying top-selling items.\n",
    "\n",
    "### Strategy:\n",
    "\n",
    "- For the 213 StockCodes with multiple descriptions, we selected the most frequent Description for each StockCode using a group-by operation and sorting by count.\n",
    "- For the 19 descriptions shared across 39 StockCode, we appended the StockCode in parentheses to create unique descriptions (e.g., \"COLOURING PENCILS BROWN TUBE (10133)\" and \"COLOURING PENCILS BROWN TUBE (10135)\")."
   ]
  },
  {
   "cell_type": "markdown",
   "metadata": {},
   "source": [
    "## Treating Zero Unit Prices"
   ]
  },
  {
   "cell_type": "markdown",
   "metadata": {},
   "source": [
    "### "
   ]
  },
  {
   "cell_type": "code",
   "execution_count": 505,
   "metadata": {},
   "outputs": [
    {
     "data": {
      "text/plain": [
       "count    399606.000000\n",
       "mean          2.904957\n",
       "std           4.448796\n",
       "min           0.000000\n",
       "25%           1.250000\n",
       "50%           1.950000\n",
       "75%           3.750000\n",
       "max         649.500000\n",
       "Name: Price, dtype: float64"
      ]
     },
     "execution_count": 505,
     "metadata": {},
     "output_type": "execute_result"
    }
   ],
   "source": [
    "df['Price'].describe()"
   ]
  },
  {
   "cell_type": "code",
   "execution_count": 506,
   "metadata": {},
   "outputs": [
    {
     "data": {
      "text/html": [
       "<div>\n",
       "<style scoped>\n",
       "    .dataframe tbody tr th:only-of-type {\n",
       "        vertical-align: middle;\n",
       "    }\n",
       "\n",
       "    .dataframe tbody tr th {\n",
       "        vertical-align: top;\n",
       "    }\n",
       "\n",
       "    .dataframe thead th {\n",
       "        text-align: right;\n",
       "    }\n",
       "</style>\n",
       "<table border=\"1\" class=\"dataframe\">\n",
       "  <thead>\n",
       "    <tr style=\"text-align: right;\">\n",
       "      <th></th>\n",
       "      <th>Quantity</th>\n",
       "    </tr>\n",
       "  </thead>\n",
       "  <tbody>\n",
       "    <tr>\n",
       "      <th>count</th>\n",
       "      <td>33.000000</td>\n",
       "    </tr>\n",
       "    <tr>\n",
       "      <th>mean</th>\n",
       "      <td>420.515152</td>\n",
       "    </tr>\n",
       "    <tr>\n",
       "      <th>min</th>\n",
       "      <td>1.000000</td>\n",
       "    </tr>\n",
       "    <tr>\n",
       "      <th>25%</th>\n",
       "      <td>2.000000</td>\n",
       "    </tr>\n",
       "    <tr>\n",
       "      <th>50%</th>\n",
       "      <td>11.000000</td>\n",
       "    </tr>\n",
       "    <tr>\n",
       "      <th>75%</th>\n",
       "      <td>36.000000</td>\n",
       "    </tr>\n",
       "    <tr>\n",
       "      <th>max</th>\n",
       "      <td>12540.000000</td>\n",
       "    </tr>\n",
       "    <tr>\n",
       "      <th>std</th>\n",
       "      <td>2176.713608</td>\n",
       "    </tr>\n",
       "  </tbody>\n",
       "</table>\n",
       "</div>"
      ],
      "text/plain": [
       "           Quantity\n",
       "count     33.000000\n",
       "mean     420.515152\n",
       "min        1.000000\n",
       "25%        2.000000\n",
       "50%       11.000000\n",
       "75%       36.000000\n",
       "max    12540.000000\n",
       "std     2176.713608"
      ]
     },
     "execution_count": 506,
     "metadata": {},
     "output_type": "execute_result"
    }
   ],
   "source": [
    "df[df['Price']==0].describe()[['Quantity']]"
   ]
  },
  {
   "cell_type": "code",
   "execution_count": 507,
   "metadata": {},
   "outputs": [
    {
     "data": {
      "text/html": [
       "<div>\n",
       "<style scoped>\n",
       "    .dataframe tbody tr th:only-of-type {\n",
       "        vertical-align: middle;\n",
       "    }\n",
       "\n",
       "    .dataframe tbody tr th {\n",
       "        vertical-align: top;\n",
       "    }\n",
       "\n",
       "    .dataframe thead th {\n",
       "        text-align: right;\n",
       "    }\n",
       "</style>\n",
       "<table border=\"1\" class=\"dataframe\">\n",
       "  <thead>\n",
       "    <tr style=\"text-align: right;\">\n",
       "      <th></th>\n",
       "      <th>Invoice</th>\n",
       "      <th>StockCode</th>\n",
       "      <th>Quantity</th>\n",
       "      <th>InvoiceDate</th>\n",
       "      <th>Price</th>\n",
       "      <th>Customer ID</th>\n",
       "      <th>Country</th>\n",
       "      <th>Transaction_Status</th>\n",
       "      <th>Description</th>\n",
       "    </tr>\n",
       "  </thead>\n",
       "  <tbody>\n",
       "    <tr>\n",
       "      <th>6816</th>\n",
       "      <td>537197</td>\n",
       "      <td>22841</td>\n",
       "      <td>1</td>\n",
       "      <td>2010-12-05 14:02:00</td>\n",
       "      <td>0.0</td>\n",
       "      <td>12647.0</td>\n",
       "      <td>Germany</td>\n",
       "      <td>Completed</td>\n",
       "      <td>ROUND CAKE TIN VINTAGE GREEN</td>\n",
       "    </tr>\n",
       "    <tr>\n",
       "      <th>22536</th>\n",
       "      <td>539263</td>\n",
       "      <td>22580</td>\n",
       "      <td>4</td>\n",
       "      <td>2010-12-16 14:36:00</td>\n",
       "      <td>0.0</td>\n",
       "      <td>16560.0</td>\n",
       "      <td>United Kingdom</td>\n",
       "      <td>Completed</td>\n",
       "      <td>ADVENT CALENDAR GINGHAM SACK</td>\n",
       "    </tr>\n",
       "    <tr>\n",
       "      <th>25442</th>\n",
       "      <td>539722</td>\n",
       "      <td>22423</td>\n",
       "      <td>10</td>\n",
       "      <td>2010-12-21 13:45:00</td>\n",
       "      <td>0.0</td>\n",
       "      <td>14911.0</td>\n",
       "      <td>EIRE</td>\n",
       "      <td>Completed</td>\n",
       "      <td>REGENCY CAKESTAND 3 TIER</td>\n",
       "    </tr>\n",
       "    <tr>\n",
       "      <th>29243</th>\n",
       "      <td>540372</td>\n",
       "      <td>22090</td>\n",
       "      <td>24</td>\n",
       "      <td>2011-01-06 16:41:00</td>\n",
       "      <td>0.0</td>\n",
       "      <td>13081.0</td>\n",
       "      <td>United Kingdom</td>\n",
       "      <td>Completed</td>\n",
       "      <td>PAPER BUNTING RETROSPOT</td>\n",
       "    </tr>\n",
       "    <tr>\n",
       "      <th>29245</th>\n",
       "      <td>540372</td>\n",
       "      <td>22553</td>\n",
       "      <td>24</td>\n",
       "      <td>2011-01-06 16:41:00</td>\n",
       "      <td>0.0</td>\n",
       "      <td>13081.0</td>\n",
       "      <td>United Kingdom</td>\n",
       "      <td>Completed</td>\n",
       "      <td>PLASTERS IN TIN SKULLS</td>\n",
       "    </tr>\n",
       "    <tr>\n",
       "      <th>34743</th>\n",
       "      <td>541109</td>\n",
       "      <td>22168</td>\n",
       "      <td>1</td>\n",
       "      <td>2011-01-13 15:10:00</td>\n",
       "      <td>0.0</td>\n",
       "      <td>15107.0</td>\n",
       "      <td>United Kingdom</td>\n",
       "      <td>Completed</td>\n",
       "      <td>ORGANISER WOOD ANTIQUE WHITE</td>\n",
       "    </tr>\n",
       "    <tr>\n",
       "      <th>54228</th>\n",
       "      <td>543599</td>\n",
       "      <td>84535B</td>\n",
       "      <td>16</td>\n",
       "      <td>2011-02-10 13:08:00</td>\n",
       "      <td>0.0</td>\n",
       "      <td>17560.0</td>\n",
       "      <td>United Kingdom</td>\n",
       "      <td>Completed</td>\n",
       "      <td>FAIRY CAKES NOTEBOOK A6 SIZE</td>\n",
       "    </tr>\n",
       "    <tr>\n",
       "      <th>86338</th>\n",
       "      <td>547417</td>\n",
       "      <td>22062</td>\n",
       "      <td>36</td>\n",
       "      <td>2011-03-23 10:25:00</td>\n",
       "      <td>0.0</td>\n",
       "      <td>13239.0</td>\n",
       "      <td>United Kingdom</td>\n",
       "      <td>Completed</td>\n",
       "      <td>CERAMIC BOWL WITH LOVE HEART DESIGN</td>\n",
       "    </tr>\n",
       "    <tr>\n",
       "      <th>93491</th>\n",
       "      <td>548318</td>\n",
       "      <td>22055</td>\n",
       "      <td>5</td>\n",
       "      <td>2011-03-30 12:45:00</td>\n",
       "      <td>0.0</td>\n",
       "      <td>13113.0</td>\n",
       "      <td>United Kingdom</td>\n",
       "      <td>Completed</td>\n",
       "      <td>MINI CAKE STAND  HANGING STRAWBERY</td>\n",
       "    </tr>\n",
       "    <tr>\n",
       "      <th>98139</th>\n",
       "      <td>548871</td>\n",
       "      <td>22162</td>\n",
       "      <td>2</td>\n",
       "      <td>2011-04-04 14:42:00</td>\n",
       "      <td>0.0</td>\n",
       "      <td>14410.0</td>\n",
       "      <td>United Kingdom</td>\n",
       "      <td>Completed</td>\n",
       "      <td>HEART GARLAND RUSTIC PADDED</td>\n",
       "    </tr>\n",
       "  </tbody>\n",
       "</table>\n",
       "</div>"
      ],
      "text/plain": [
       "      Invoice StockCode  Quantity         InvoiceDate  Price  Customer ID  \\\n",
       "6816   537197     22841         1 2010-12-05 14:02:00    0.0      12647.0   \n",
       "22536  539263     22580         4 2010-12-16 14:36:00    0.0      16560.0   \n",
       "25442  539722     22423        10 2010-12-21 13:45:00    0.0      14911.0   \n",
       "29243  540372     22090        24 2011-01-06 16:41:00    0.0      13081.0   \n",
       "29245  540372     22553        24 2011-01-06 16:41:00    0.0      13081.0   \n",
       "34743  541109     22168         1 2011-01-13 15:10:00    0.0      15107.0   \n",
       "54228  543599    84535B        16 2011-02-10 13:08:00    0.0      17560.0   \n",
       "86338  547417     22062        36 2011-03-23 10:25:00    0.0      13239.0   \n",
       "93491  548318     22055         5 2011-03-30 12:45:00    0.0      13113.0   \n",
       "98139  548871     22162         2 2011-04-04 14:42:00    0.0      14410.0   \n",
       "\n",
       "              Country Transaction_Status                          Description  \n",
       "6816          Germany          Completed         ROUND CAKE TIN VINTAGE GREEN  \n",
       "22536  United Kingdom          Completed         ADVENT CALENDAR GINGHAM SACK  \n",
       "25442            EIRE          Completed             REGENCY CAKESTAND 3 TIER  \n",
       "29243  United Kingdom          Completed              PAPER BUNTING RETROSPOT  \n",
       "29245  United Kingdom          Completed               PLASTERS IN TIN SKULLS  \n",
       "34743  United Kingdom          Completed        ORGANISER WOOD ANTIQUE WHITE   \n",
       "54228  United Kingdom          Completed         FAIRY CAKES NOTEBOOK A6 SIZE  \n",
       "86338  United Kingdom          Completed  CERAMIC BOWL WITH LOVE HEART DESIGN  \n",
       "93491  United Kingdom          Completed   MINI CAKE STAND  HANGING STRAWBERY  \n",
       "98139  United Kingdom          Completed          HEART GARLAND RUSTIC PADDED  "
      ]
     },
     "execution_count": 507,
     "metadata": {},
     "output_type": "execute_result"
    }
   ],
   "source": [
    "df[df['Price']==0].head(10)"
   ]
  },
  {
   "cell_type": "code",
   "execution_count": 508,
   "metadata": {},
   "outputs": [],
   "source": [
    "# Removing records with a unit price of zero to avoid potential data entry errors\n",
    "df = df[df['Price'] > 0]"
   ]
  },
  {
   "cell_type": "code",
   "execution_count": 509,
   "metadata": {},
   "outputs": [
    {
     "data": {
      "text/plain": [
       "399573"
      ]
     },
     "execution_count": 509,
     "metadata": {},
     "output_type": "execute_result"
    }
   ],
   "source": [
    "# Resetting the index of the cleaned dataset\n",
    "df.reset_index(drop=True, inplace=True)\n",
    "\n",
    "# Getting the number of rows in the dataframe\n",
    "df.shape[0]"
   ]
  },
  {
   "cell_type": "markdown",
   "metadata": {},
   "source": [
    "## Inferences\n",
    "\n",
    "- The transactions with a unit price of zero are relatively few in number (33 transactions).\n",
    "- These transactions have a large variability in the quantity of items involved, ranging from 1 to 12540, with a substantial standard deviation.\n",
    "\n",
    "Given the small number of these transactions and their potential to introduce noise in the data analysis, the strategy should be to remove these transactions from the dataset."
   ]
  },
  {
   "cell_type": "markdown",
   "metadata": {},
   "source": [
    "# Feature Engineering"
   ]
  },
  {
   "cell_type": "code",
   "execution_count": 510,
   "metadata": {},
   "outputs": [
    {
     "data": {
      "text/html": [
       "<div>\n",
       "<style scoped>\n",
       "    .dataframe tbody tr th:only-of-type {\n",
       "        vertical-align: middle;\n",
       "    }\n",
       "\n",
       "    .dataframe tbody tr th {\n",
       "        vertical-align: top;\n",
       "    }\n",
       "\n",
       "    .dataframe thead th {\n",
       "        text-align: right;\n",
       "    }\n",
       "</style>\n",
       "<table border=\"1\" class=\"dataframe\">\n",
       "  <thead>\n",
       "    <tr style=\"text-align: right;\">\n",
       "      <th></th>\n",
       "      <th>Invoice</th>\n",
       "      <th>StockCode</th>\n",
       "      <th>Quantity</th>\n",
       "      <th>InvoiceDate</th>\n",
       "      <th>Price</th>\n",
       "      <th>Customer ID</th>\n",
       "      <th>Country</th>\n",
       "      <th>Transaction_Status</th>\n",
       "      <th>Description</th>\n",
       "      <th>TotalPrice</th>\n",
       "    </tr>\n",
       "  </thead>\n",
       "  <tbody>\n",
       "    <tr>\n",
       "      <th>0</th>\n",
       "      <td>536365</td>\n",
       "      <td>85123A</td>\n",
       "      <td>6</td>\n",
       "      <td>2010-12-01 08:26:00</td>\n",
       "      <td>2.55</td>\n",
       "      <td>17850.0</td>\n",
       "      <td>United Kingdom</td>\n",
       "      <td>Completed</td>\n",
       "      <td>WHITE HANGING HEART T-LIGHT HOLDER</td>\n",
       "      <td>15.30</td>\n",
       "    </tr>\n",
       "    <tr>\n",
       "      <th>1</th>\n",
       "      <td>536365</td>\n",
       "      <td>71053</td>\n",
       "      <td>6</td>\n",
       "      <td>2010-12-01 08:26:00</td>\n",
       "      <td>3.39</td>\n",
       "      <td>17850.0</td>\n",
       "      <td>United Kingdom</td>\n",
       "      <td>Completed</td>\n",
       "      <td>WHITE METAL LANTERN</td>\n",
       "      <td>20.34</td>\n",
       "    </tr>\n",
       "    <tr>\n",
       "      <th>2</th>\n",
       "      <td>536365</td>\n",
       "      <td>84406B</td>\n",
       "      <td>8</td>\n",
       "      <td>2010-12-01 08:26:00</td>\n",
       "      <td>2.75</td>\n",
       "      <td>17850.0</td>\n",
       "      <td>United Kingdom</td>\n",
       "      <td>Completed</td>\n",
       "      <td>CREAM CUPID HEARTS COAT HANGER</td>\n",
       "      <td>22.00</td>\n",
       "    </tr>\n",
       "    <tr>\n",
       "      <th>3</th>\n",
       "      <td>536365</td>\n",
       "      <td>84029G</td>\n",
       "      <td>6</td>\n",
       "      <td>2010-12-01 08:26:00</td>\n",
       "      <td>3.39</td>\n",
       "      <td>17850.0</td>\n",
       "      <td>United Kingdom</td>\n",
       "      <td>Completed</td>\n",
       "      <td>KNITTED UNION FLAG HOT WATER BOTTLE</td>\n",
       "      <td>20.34</td>\n",
       "    </tr>\n",
       "    <tr>\n",
       "      <th>4</th>\n",
       "      <td>536365</td>\n",
       "      <td>84029E</td>\n",
       "      <td>6</td>\n",
       "      <td>2010-12-01 08:26:00</td>\n",
       "      <td>3.39</td>\n",
       "      <td>17850.0</td>\n",
       "      <td>United Kingdom</td>\n",
       "      <td>Completed</td>\n",
       "      <td>RED WOOLLY HOTTIE WHITE HEART.</td>\n",
       "      <td>20.34</td>\n",
       "    </tr>\n",
       "  </tbody>\n",
       "</table>\n",
       "</div>"
      ],
      "text/plain": [
       "  Invoice StockCode  Quantity         InvoiceDate  Price  Customer ID  \\\n",
       "0  536365    85123A         6 2010-12-01 08:26:00   2.55      17850.0   \n",
       "1  536365     71053         6 2010-12-01 08:26:00   3.39      17850.0   \n",
       "2  536365    84406B         8 2010-12-01 08:26:00   2.75      17850.0   \n",
       "3  536365    84029G         6 2010-12-01 08:26:00   3.39      17850.0   \n",
       "4  536365    84029E         6 2010-12-01 08:26:00   3.39      17850.0   \n",
       "\n",
       "          Country Transaction_Status                          Description  \\\n",
       "0  United Kingdom          Completed   WHITE HANGING HEART T-LIGHT HOLDER   \n",
       "1  United Kingdom          Completed                  WHITE METAL LANTERN   \n",
       "2  United Kingdom          Completed       CREAM CUPID HEARTS COAT HANGER   \n",
       "3  United Kingdom          Completed  KNITTED UNION FLAG HOT WATER BOTTLE   \n",
       "4  United Kingdom          Completed       RED WOOLLY HOTTIE WHITE HEART.   \n",
       "\n",
       "   TotalPrice  \n",
       "0       15.30  \n",
       "1       20.34  \n",
       "2       22.00  \n",
       "3       20.34  \n",
       "4       20.34  "
      ]
     },
     "execution_count": 510,
     "metadata": {},
     "output_type": "execute_result"
    }
   ],
   "source": [
    "# Total price of each transaction\n",
    "df['TotalPrice'] = df['Quantity'] * df['Price']\n",
    "df.head()"
   ]
  },
  {
   "cell_type": "code",
   "execution_count": 511,
   "metadata": {},
   "outputs": [
    {
     "name": "stdout",
     "output_type": "stream",
     "text": [
      "Min Date 2010-12-01 08:26:00 Max Date 2011-12-09 12:50:00\n"
     ]
    }
   ],
   "source": [
    "# First and last date of the dataset\n",
    "print(\"Min Date\", df[\"InvoiceDate\"].min(), \"Max Date\", df[\"InvoiceDate\"].max())"
   ]
  },
  {
   "cell_type": "markdown",
   "metadata": {},
   "source": [
    "## Customer Behavioral Features (RFM)"
   ]
  },
  {
   "cell_type": "markdown",
   "metadata": {},
   "source": [
    "## Recency\n",
    "\n",
    "This metric indicates how recently a customer has made a purchase. A lower recency value means the customer has purchased more recently, indicating higher engagement with the brand."
   ]
  },
  {
   "cell_type": "code",
   "execution_count": 512,
   "metadata": {},
   "outputs": [
    {
     "data": {
      "text/html": [
       "<div>\n",
       "<style scoped>\n",
       "    .dataframe tbody tr th:only-of-type {\n",
       "        vertical-align: middle;\n",
       "    }\n",
       "\n",
       "    .dataframe tbody tr th {\n",
       "        vertical-align: top;\n",
       "    }\n",
       "\n",
       "    .dataframe thead th {\n",
       "        text-align: right;\n",
       "    }\n",
       "</style>\n",
       "<table border=\"1\" class=\"dataframe\">\n",
       "  <thead>\n",
       "    <tr style=\"text-align: right;\">\n",
       "      <th></th>\n",
       "      <th>Recency</th>\n",
       "    </tr>\n",
       "    <tr>\n",
       "      <th>Customer ID</th>\n",
       "      <th></th>\n",
       "    </tr>\n",
       "  </thead>\n",
       "  <tbody>\n",
       "    <tr>\n",
       "      <th>12346.0</th>\n",
       "      <td>325</td>\n",
       "    </tr>\n",
       "    <tr>\n",
       "      <th>12347.0</th>\n",
       "      <td>1</td>\n",
       "    </tr>\n",
       "    <tr>\n",
       "      <th>12348.0</th>\n",
       "      <td>74</td>\n",
       "    </tr>\n",
       "    <tr>\n",
       "      <th>12349.0</th>\n",
       "      <td>18</td>\n",
       "    </tr>\n",
       "    <tr>\n",
       "      <th>12350.0</th>\n",
       "      <td>309</td>\n",
       "    </tr>\n",
       "  </tbody>\n",
       "</table>\n",
       "</div>"
      ],
      "text/plain": [
       "             Recency\n",
       "Customer ID         \n",
       "12346.0          325\n",
       "12347.0            1\n",
       "12348.0           74\n",
       "12349.0           18\n",
       "12350.0          309"
      ]
     },
     "execution_count": 512,
     "metadata": {},
     "output_type": "execute_result"
    }
   ],
   "source": [
    "# Recency calculation and customer data creation\n",
    "today_date = df.agg({\"InvoiceDate\":\"max\"})\n",
    "\n",
    "# Calculate the number of days since the last purchase\n",
    "customer_data = (today_date - df.groupby(\"Customer ID\") \\\n",
    "           .agg({\"InvoiceDate\":\"max\"})) \\\n",
    "            .rename(columns = {\"InvoiceDate\":\"Recency\"})\n",
    "\n",
    "customer_data[\"Recency\"] = customer_data[\"Recency\"] \\\n",
    "    .apply(lambda x: x.days)\n",
    "\n",
    "customer_data.head()"
   ]
  },
  {
   "cell_type": "markdown",
   "metadata": {},
   "source": [
    "## Frecuency\n",
    "\n",
    "There are two features that quantify the frequency of a customer's engagement with the retailer:\n",
    "\n",
    "- **Total Transactions:** This feature represents the total number of transactions made by a customer. It helps in understanding the engagement level of a customer with the retailer.\n",
    "\n",
    "- **Total Products Purchased:** This feature indicates the total number of products (sum of quantities) purchased by a customer across all transactions. It gives an insight into the customer's buying behavior in terms of the volume of products purchased."
   ]
  },
  {
   "cell_type": "code",
   "execution_count": 513,
   "metadata": {},
   "outputs": [
    {
     "data": {
      "text/html": [
       "<div>\n",
       "<style scoped>\n",
       "    .dataframe tbody tr th:only-of-type {\n",
       "        vertical-align: middle;\n",
       "    }\n",
       "\n",
       "    .dataframe tbody tr th {\n",
       "        vertical-align: top;\n",
       "    }\n",
       "\n",
       "    .dataframe thead th {\n",
       "        text-align: right;\n",
       "    }\n",
       "</style>\n",
       "<table border=\"1\" class=\"dataframe\">\n",
       "  <thead>\n",
       "    <tr style=\"text-align: right;\">\n",
       "      <th></th>\n",
       "      <th>Customer ID</th>\n",
       "      <th>Recency</th>\n",
       "      <th>Total_Transactions</th>\n",
       "      <th>Total_Products_Purchased</th>\n",
       "    </tr>\n",
       "  </thead>\n",
       "  <tbody>\n",
       "    <tr>\n",
       "      <th>0</th>\n",
       "      <td>12346.0</td>\n",
       "      <td>325</td>\n",
       "      <td>2</td>\n",
       "      <td>0</td>\n",
       "    </tr>\n",
       "    <tr>\n",
       "      <th>1</th>\n",
       "      <td>12347.0</td>\n",
       "      <td>1</td>\n",
       "      <td>7</td>\n",
       "      <td>2458</td>\n",
       "    </tr>\n",
       "    <tr>\n",
       "      <th>2</th>\n",
       "      <td>12348.0</td>\n",
       "      <td>74</td>\n",
       "      <td>4</td>\n",
       "      <td>2332</td>\n",
       "    </tr>\n",
       "    <tr>\n",
       "      <th>3</th>\n",
       "      <td>12349.0</td>\n",
       "      <td>18</td>\n",
       "      <td>1</td>\n",
       "      <td>630</td>\n",
       "    </tr>\n",
       "    <tr>\n",
       "      <th>4</th>\n",
       "      <td>12350.0</td>\n",
       "      <td>309</td>\n",
       "      <td>1</td>\n",
       "      <td>196</td>\n",
       "    </tr>\n",
       "  </tbody>\n",
       "</table>\n",
       "</div>"
      ],
      "text/plain": [
       "   Customer ID  Recency  Total_Transactions  Total_Products_Purchased\n",
       "0      12346.0      325                   2                         0\n",
       "1      12347.0        1                   7                      2458\n",
       "2      12348.0       74                   4                      2332\n",
       "3      12349.0       18                   1                       630\n",
       "4      12350.0      309                   1                       196"
      ]
     },
     "execution_count": 513,
     "metadata": {},
     "output_type": "execute_result"
    }
   ],
   "source": [
    "# Calculate the total number of transactions made by each customer\n",
    "total_transactions = df.groupby('Customer ID')['Invoice'] \\\n",
    "                    .nunique() \\\n",
    "                        .reset_index()\n",
    "total_transactions.rename(columns={'Invoice': 'Total_Transactions'}, inplace=True)\n",
    "\n",
    "# Calculate the total number of products purchased by each customer\n",
    "total_products_purchased = df.groupby('Customer ID')['Quantity'] \\\n",
    "                            .sum() \\\n",
    "                                .reset_index()\n",
    "total_products_purchased.rename(columns={'Quantity': 'Total_Products_Purchased'}, inplace=True)\n",
    "\n",
    "# Merge the new features into the customer_data dataframe\n",
    "customer_data = pd.merge(customer_data, total_transactions, on='Customer ID')\n",
    "customer_data = pd.merge(customer_data, total_products_purchased, on='Customer ID')\n",
    "\n",
    "# Display the first few rows of the customer_data dataframe\n",
    "customer_data.head()"
   ]
  },
  {
   "cell_type": "markdown",
   "metadata": {},
   "source": [
    "## Monetary\n",
    "\n",
    "There are two features that represent the monetary aspect of customer's transactions:\n",
    "\n",
    "- **Total Spend:** This feature represents the total amount of money spent by each customer. It is calculated as the sum of the product of UnitPrice and Quantity for all transactions made by a customer. This feature is crucial as it helps in identifying the total revenue generated by each customer, which is a direct indicator of a customer's value to the business.\n",
    "\n",
    "- **Average Transaction Value:** This feature is calculated as the **Total Spend** divided by the Total Transactions for each customer. It indicates the average value of a transaction carried out by a customer. This metric is useful in understanding the spending behavior of customers per transaction, which can assist in tailoring marketing strategies and offers to different customer segments based on their average spending patterns."
   ]
  },
  {
   "cell_type": "code",
   "execution_count": 514,
   "metadata": {},
   "outputs": [
    {
     "data": {
      "text/html": [
       "<div>\n",
       "<style scoped>\n",
       "    .dataframe tbody tr th:only-of-type {\n",
       "        vertical-align: middle;\n",
       "    }\n",
       "\n",
       "    .dataframe tbody tr th {\n",
       "        vertical-align: top;\n",
       "    }\n",
       "\n",
       "    .dataframe thead th {\n",
       "        text-align: right;\n",
       "    }\n",
       "</style>\n",
       "<table border=\"1\" class=\"dataframe\">\n",
       "  <thead>\n",
       "    <tr style=\"text-align: right;\">\n",
       "      <th></th>\n",
       "      <th>Customer ID</th>\n",
       "      <th>Recency</th>\n",
       "      <th>Total_Transactions</th>\n",
       "      <th>Total_Products_Purchased</th>\n",
       "      <th>Total_Spend</th>\n",
       "      <th>Average_Transaction_Value</th>\n",
       "    </tr>\n",
       "  </thead>\n",
       "  <tbody>\n",
       "    <tr>\n",
       "      <th>0</th>\n",
       "      <td>12346.0</td>\n",
       "      <td>325</td>\n",
       "      <td>2</td>\n",
       "      <td>0</td>\n",
       "      <td>0.00</td>\n",
       "      <td>0.000000</td>\n",
       "    </tr>\n",
       "    <tr>\n",
       "      <th>1</th>\n",
       "      <td>12347.0</td>\n",
       "      <td>1</td>\n",
       "      <td>7</td>\n",
       "      <td>2458</td>\n",
       "      <td>4310.00</td>\n",
       "      <td>615.714286</td>\n",
       "    </tr>\n",
       "    <tr>\n",
       "      <th>2</th>\n",
       "      <td>12348.0</td>\n",
       "      <td>74</td>\n",
       "      <td>4</td>\n",
       "      <td>2332</td>\n",
       "      <td>1437.24</td>\n",
       "      <td>359.310000</td>\n",
       "    </tr>\n",
       "    <tr>\n",
       "      <th>3</th>\n",
       "      <td>12349.0</td>\n",
       "      <td>18</td>\n",
       "      <td>1</td>\n",
       "      <td>630</td>\n",
       "      <td>1457.55</td>\n",
       "      <td>1457.550000</td>\n",
       "    </tr>\n",
       "    <tr>\n",
       "      <th>4</th>\n",
       "      <td>12350.0</td>\n",
       "      <td>309</td>\n",
       "      <td>1</td>\n",
       "      <td>196</td>\n",
       "      <td>294.40</td>\n",
       "      <td>294.400000</td>\n",
       "    </tr>\n",
       "  </tbody>\n",
       "</table>\n",
       "</div>"
      ],
      "text/plain": [
       "   Customer ID  Recency  Total_Transactions  Total_Products_Purchased  \\\n",
       "0      12346.0      325                   2                         0   \n",
       "1      12347.0        1                   7                      2458   \n",
       "2      12348.0       74                   4                      2332   \n",
       "3      12349.0       18                   1                       630   \n",
       "4      12350.0      309                   1                       196   \n",
       "\n",
       "   Total_Spend  Average_Transaction_Value  \n",
       "0         0.00                   0.000000  \n",
       "1      4310.00                 615.714286  \n",
       "2      1437.24                 359.310000  \n",
       "3      1457.55                1457.550000  \n",
       "4       294.40                 294.400000  "
      ]
     },
     "execution_count": 514,
     "metadata": {},
     "output_type": "execute_result"
    }
   ],
   "source": [
    "# Calculate the total spend by each customer\n",
    "total_spend = df.groupby('Customer ID')['TotalPrice'] \\\n",
    "            .sum() \\\n",
    "                .reset_index()\n",
    "\n",
    "total_spend.rename(columns={'TotalPrice': 'Total_Spend'}, inplace=True)\n",
    "\n",
    "# Calculate the average transaction value for each customer\n",
    "average_transaction_value = total_spend.merge(total_transactions, on='Customer ID')\n",
    "average_transaction_value['Average_Transaction_Value'] = average_transaction_value['Total_Spend'] / average_transaction_value['Total_Transactions']\n",
    "\n",
    "# Merge the new features into the customer_data dataframe\n",
    "customer_data = pd.merge(customer_data, total_spend, on='Customer ID')\n",
    "customer_data = pd.merge(customer_data, average_transaction_value[['Customer ID', 'Average_Transaction_Value']], on='Customer ID')\n",
    "\n",
    "# Display the first few rows of the customer_data dataframe\n",
    "customer_data.head()"
   ]
  },
  {
   "cell_type": "code",
   "execution_count": 515,
   "metadata": {},
   "outputs": [
    {
     "data": {
      "text/html": [
       "<div>\n",
       "<style scoped>\n",
       "    .dataframe tbody tr th:only-of-type {\n",
       "        vertical-align: middle;\n",
       "    }\n",
       "\n",
       "    .dataframe tbody tr th {\n",
       "        vertical-align: top;\n",
       "    }\n",
       "\n",
       "    .dataframe thead th {\n",
       "        text-align: right;\n",
       "    }\n",
       "</style>\n",
       "<table border=\"1\" class=\"dataframe\">\n",
       "  <thead>\n",
       "    <tr style=\"text-align: right;\">\n",
       "      <th></th>\n",
       "      <th>Customer ID</th>\n",
       "      <th>Recency</th>\n",
       "      <th>Total_Transactions</th>\n",
       "      <th>Total_Products_Purchased</th>\n",
       "      <th>Total_Spend</th>\n",
       "      <th>Average_Transaction_Value</th>\n",
       "      <th>Unique_Products_Purchased</th>\n",
       "    </tr>\n",
       "  </thead>\n",
       "  <tbody>\n",
       "    <tr>\n",
       "      <th>0</th>\n",
       "      <td>12346.0</td>\n",
       "      <td>325</td>\n",
       "      <td>2</td>\n",
       "      <td>0</td>\n",
       "      <td>0.00</td>\n",
       "      <td>0.000000</td>\n",
       "      <td>1</td>\n",
       "    </tr>\n",
       "    <tr>\n",
       "      <th>1</th>\n",
       "      <td>12347.0</td>\n",
       "      <td>1</td>\n",
       "      <td>7</td>\n",
       "      <td>2458</td>\n",
       "      <td>4310.00</td>\n",
       "      <td>615.714286</td>\n",
       "      <td>103</td>\n",
       "    </tr>\n",
       "    <tr>\n",
       "      <th>2</th>\n",
       "      <td>12348.0</td>\n",
       "      <td>74</td>\n",
       "      <td>4</td>\n",
       "      <td>2332</td>\n",
       "      <td>1437.24</td>\n",
       "      <td>359.310000</td>\n",
       "      <td>21</td>\n",
       "    </tr>\n",
       "    <tr>\n",
       "      <th>3</th>\n",
       "      <td>12349.0</td>\n",
       "      <td>18</td>\n",
       "      <td>1</td>\n",
       "      <td>630</td>\n",
       "      <td>1457.55</td>\n",
       "      <td>1457.550000</td>\n",
       "      <td>72</td>\n",
       "    </tr>\n",
       "    <tr>\n",
       "      <th>4</th>\n",
       "      <td>12350.0</td>\n",
       "      <td>309</td>\n",
       "      <td>1</td>\n",
       "      <td>196</td>\n",
       "      <td>294.40</td>\n",
       "      <td>294.400000</td>\n",
       "      <td>16</td>\n",
       "    </tr>\n",
       "  </tbody>\n",
       "</table>\n",
       "</div>"
      ],
      "text/plain": [
       "   Customer ID  Recency  Total_Transactions  Total_Products_Purchased  \\\n",
       "0      12346.0      325                   2                         0   \n",
       "1      12347.0        1                   7                      2458   \n",
       "2      12348.0       74                   4                      2332   \n",
       "3      12349.0       18                   1                       630   \n",
       "4      12350.0      309                   1                       196   \n",
       "\n",
       "   Total_Spend  Average_Transaction_Value  Unique_Products_Purchased  \n",
       "0         0.00                   0.000000                          1  \n",
       "1      4310.00                 615.714286                        103  \n",
       "2      1437.24                 359.310000                         21  \n",
       "3      1457.55                1457.550000                         72  \n",
       "4       294.40                 294.400000                         16  "
      ]
     },
     "execution_count": 515,
     "metadata": {},
     "output_type": "execute_result"
    }
   ],
   "source": [
    "# Calculate the number of unique products purchased by each customer\n",
    "unique_products_purchased = df.groupby('Customer ID')['StockCode'] \\\n",
    "                            .nunique() \\\n",
    "                                .reset_index()\n",
    "unique_products_purchased.rename(columns={'StockCode': 'Unique_Products_Purchased'}, inplace=True)\n",
    "\n",
    "# Merge the new feature into the customer_data dataframe\n",
    "customer_data = pd.merge(customer_data, unique_products_purchased, on='Customer ID')\n",
    "\n",
    "# Display the first few rows of the customer_data dataframe\n",
    "customer_data.head()"
   ]
  },
  {
   "cell_type": "markdown",
   "metadata": {},
   "source": [
    "## Cancellation Insights\n",
    "\n",
    "- **Cancellation Frequency:** This metric represents the total number of transactions a customer has canceled. Understanding the frequency of cancellations can help us identify customers who are more likely to cancel transactions. This could be an indicator of dissatisfaction or other issues, and understanding this can help us tailor strategies to reduce cancellations and enhance customer satisfaction.\n",
    "\n",
    "- **Cancellation Rate:** This represents the proportion of transactions that a customer has canceled out of all their transactions. This metric gives a normalized view of cancellation behavior. A high cancellation rate might be indicative of an unsatisfied customer segment. By identifying these segments, we can develop targeted strategies to improve their shopping experience and potentially reduce the cancellation rate."
   ]
  },
  {
   "cell_type": "code",
   "execution_count": 516,
   "metadata": {},
   "outputs": [
    {
     "data": {
      "text/html": [
       "<div>\n",
       "<style scoped>\n",
       "    .dataframe tbody tr th:only-of-type {\n",
       "        vertical-align: middle;\n",
       "    }\n",
       "\n",
       "    .dataframe tbody tr th {\n",
       "        vertical-align: top;\n",
       "    }\n",
       "\n",
       "    .dataframe thead th {\n",
       "        text-align: right;\n",
       "    }\n",
       "</style>\n",
       "<table border=\"1\" class=\"dataframe\">\n",
       "  <thead>\n",
       "    <tr style=\"text-align: right;\">\n",
       "      <th></th>\n",
       "      <th>Customer ID</th>\n",
       "      <th>Recency</th>\n",
       "      <th>Total_Transactions</th>\n",
       "      <th>Total_Products_Purchased</th>\n",
       "      <th>Total_Spend</th>\n",
       "      <th>Average_Transaction_Value</th>\n",
       "      <th>Unique_Products_Purchased</th>\n",
       "      <th>Cancellation_Frequency</th>\n",
       "      <th>Cancellation_Rate</th>\n",
       "    </tr>\n",
       "  </thead>\n",
       "  <tbody>\n",
       "    <tr>\n",
       "      <th>0</th>\n",
       "      <td>12346.0</td>\n",
       "      <td>325</td>\n",
       "      <td>2</td>\n",
       "      <td>0</td>\n",
       "      <td>0.00</td>\n",
       "      <td>0.000000</td>\n",
       "      <td>1</td>\n",
       "      <td>1.0</td>\n",
       "      <td>0.5</td>\n",
       "    </tr>\n",
       "    <tr>\n",
       "      <th>1</th>\n",
       "      <td>12347.0</td>\n",
       "      <td>1</td>\n",
       "      <td>7</td>\n",
       "      <td>2458</td>\n",
       "      <td>4310.00</td>\n",
       "      <td>615.714286</td>\n",
       "      <td>103</td>\n",
       "      <td>0.0</td>\n",
       "      <td>0.0</td>\n",
       "    </tr>\n",
       "    <tr>\n",
       "      <th>2</th>\n",
       "      <td>12348.0</td>\n",
       "      <td>74</td>\n",
       "      <td>4</td>\n",
       "      <td>2332</td>\n",
       "      <td>1437.24</td>\n",
       "      <td>359.310000</td>\n",
       "      <td>21</td>\n",
       "      <td>0.0</td>\n",
       "      <td>0.0</td>\n",
       "    </tr>\n",
       "    <tr>\n",
       "      <th>3</th>\n",
       "      <td>12349.0</td>\n",
       "      <td>18</td>\n",
       "      <td>1</td>\n",
       "      <td>630</td>\n",
       "      <td>1457.55</td>\n",
       "      <td>1457.550000</td>\n",
       "      <td>72</td>\n",
       "      <td>0.0</td>\n",
       "      <td>0.0</td>\n",
       "    </tr>\n",
       "    <tr>\n",
       "      <th>4</th>\n",
       "      <td>12350.0</td>\n",
       "      <td>309</td>\n",
       "      <td>1</td>\n",
       "      <td>196</td>\n",
       "      <td>294.40</td>\n",
       "      <td>294.400000</td>\n",
       "      <td>16</td>\n",
       "      <td>0.0</td>\n",
       "      <td>0.0</td>\n",
       "    </tr>\n",
       "  </tbody>\n",
       "</table>\n",
       "</div>"
      ],
      "text/plain": [
       "   Customer ID  Recency  Total_Transactions  Total_Products_Purchased  \\\n",
       "0      12346.0      325                   2                         0   \n",
       "1      12347.0        1                   7                      2458   \n",
       "2      12348.0       74                   4                      2332   \n",
       "3      12349.0       18                   1                       630   \n",
       "4      12350.0      309                   1                       196   \n",
       "\n",
       "   Total_Spend  Average_Transaction_Value  Unique_Products_Purchased  \\\n",
       "0         0.00                   0.000000                          1   \n",
       "1      4310.00                 615.714286                        103   \n",
       "2      1437.24                 359.310000                         21   \n",
       "3      1457.55                1457.550000                         72   \n",
       "4       294.40                 294.400000                         16   \n",
       "\n",
       "   Cancellation_Frequency  Cancellation_Rate  \n",
       "0                     1.0                0.5  \n",
       "1                     0.0                0.0  \n",
       "2                     0.0                0.0  \n",
       "3                     0.0                0.0  \n",
       "4                     0.0                0.0  "
      ]
     },
     "execution_count": 516,
     "metadata": {},
     "output_type": "execute_result"
    }
   ],
   "source": [
    "# Calculate the total number of transactions made by each customer\n",
    "total_transactions = df.groupby('Customer ID')['Invoice'].nunique().reset_index()\n",
    "\n",
    "# Calculate the number of cancelled transactions for each customer\n",
    "cancelled_transactions = df[df['Transaction_Status'] == 'Cancelled']\n",
    "cancellation_frequency = cancelled_transactions.groupby('Customer ID')['Invoice'].nunique().reset_index()\n",
    "cancellation_frequency.rename(columns={'Invoice': 'Cancellation_Frequency'}, inplace=True)\n",
    "\n",
    "# Merge the Cancellation Frequency data into the customer_data dataframe\n",
    "customer_data = pd.merge(customer_data, cancellation_frequency, on='Customer ID', how='left')\n",
    "\n",
    "# Replace NaN values with 0 (for customers who have not cancelled any transaction)\n",
    "customer_data['Cancellation_Frequency'].fillna(0, inplace=True)\n",
    "\n",
    "# Calculate the Cancellation Rate\n",
    "customer_data['Cancellation_Rate'] = customer_data['Cancellation_Frequency'] / total_transactions['Invoice']\n",
    "\n",
    "# Display the first few rows of the customer_data dataframe\n",
    "customer_data.head()"
   ]
  },
  {
   "cell_type": "code",
   "execution_count": 517,
   "metadata": {},
   "outputs": [
    {
     "name": "stdout",
     "output_type": "stream",
     "text": [
      "Number of customers who cancelled at least one transaction: 1534\n"
     ]
    },
    {
     "data": {
      "text/html": [
       "<div>\n",
       "<style scoped>\n",
       "    .dataframe tbody tr th:only-of-type {\n",
       "        vertical-align: middle;\n",
       "    }\n",
       "\n",
       "    .dataframe tbody tr th {\n",
       "        vertical-align: top;\n",
       "    }\n",
       "\n",
       "    .dataframe thead th {\n",
       "        text-align: right;\n",
       "    }\n",
       "</style>\n",
       "<table border=\"1\" class=\"dataframe\">\n",
       "  <thead>\n",
       "    <tr style=\"text-align: right;\">\n",
       "      <th></th>\n",
       "      <th>Customer ID</th>\n",
       "      <th>Recency</th>\n",
       "      <th>Total_Transactions</th>\n",
       "      <th>Total_Products_Purchased</th>\n",
       "      <th>Total_Spend</th>\n",
       "      <th>Average_Transaction_Value</th>\n",
       "      <th>Unique_Products_Purchased</th>\n",
       "      <th>Cancellation_Frequency</th>\n",
       "      <th>Cancellation_Rate</th>\n",
       "    </tr>\n",
       "  </thead>\n",
       "  <tbody>\n",
       "    <tr>\n",
       "      <th>0</th>\n",
       "      <td>12346.0</td>\n",
       "      <td>325</td>\n",
       "      <td>2</td>\n",
       "      <td>0</td>\n",
       "      <td>0.00</td>\n",
       "      <td>0.000000</td>\n",
       "      <td>1</td>\n",
       "      <td>1.0</td>\n",
       "      <td>0.500000</td>\n",
       "    </tr>\n",
       "    <tr>\n",
       "      <th>5</th>\n",
       "      <td>12352.0</td>\n",
       "      <td>35</td>\n",
       "      <td>8</td>\n",
       "      <td>463</td>\n",
       "      <td>1265.41</td>\n",
       "      <td>158.176250</td>\n",
       "      <td>57</td>\n",
       "      <td>1.0</td>\n",
       "      <td>0.125000</td>\n",
       "    </tr>\n",
       "    <tr>\n",
       "      <th>12</th>\n",
       "      <td>12359.0</td>\n",
       "      <td>7</td>\n",
       "      <td>6</td>\n",
       "      <td>1599</td>\n",
       "      <td>6182.98</td>\n",
       "      <td>1030.496667</td>\n",
       "      <td>214</td>\n",
       "      <td>2.0</td>\n",
       "      <td>0.333333</td>\n",
       "    </tr>\n",
       "    <tr>\n",
       "      <th>15</th>\n",
       "      <td>12362.0</td>\n",
       "      <td>2</td>\n",
       "      <td>13</td>\n",
       "      <td>2180</td>\n",
       "      <td>4665.58</td>\n",
       "      <td>358.890769</td>\n",
       "      <td>200</td>\n",
       "      <td>3.0</td>\n",
       "      <td>0.230769</td>\n",
       "    </tr>\n",
       "    <tr>\n",
       "      <th>25</th>\n",
       "      <td>12375.0</td>\n",
       "      <td>2</td>\n",
       "      <td>3</td>\n",
       "      <td>175</td>\n",
       "      <td>375.42</td>\n",
       "      <td>125.140000</td>\n",
       "      <td>13</td>\n",
       "      <td>1.0</td>\n",
       "      <td>0.333333</td>\n",
       "    </tr>\n",
       "    <tr>\n",
       "      <th>28</th>\n",
       "      <td>12379.0</td>\n",
       "      <td>81</td>\n",
       "      <td>3</td>\n",
       "      <td>401</td>\n",
       "      <td>775.29</td>\n",
       "      <td>258.430000</td>\n",
       "      <td>38</td>\n",
       "      <td>1.0</td>\n",
       "      <td>0.333333</td>\n",
       "    </tr>\n",
       "    <tr>\n",
       "      <th>29</th>\n",
       "      <td>12380.0</td>\n",
       "      <td>21</td>\n",
       "      <td>5</td>\n",
       "      <td>1109</td>\n",
       "      <td>2423.56</td>\n",
       "      <td>484.712000</td>\n",
       "      <td>76</td>\n",
       "      <td>1.0</td>\n",
       "      <td>0.200000</td>\n",
       "    </tr>\n",
       "    <tr>\n",
       "      <th>30</th>\n",
       "      <td>12381.0</td>\n",
       "      <td>4</td>\n",
       "      <td>4</td>\n",
       "      <td>772</td>\n",
       "      <td>1433.46</td>\n",
       "      <td>358.365000</td>\n",
       "      <td>69</td>\n",
       "      <td>1.0</td>\n",
       "      <td>0.250000</td>\n",
       "    </tr>\n",
       "    <tr>\n",
       "      <th>31</th>\n",
       "      <td>12383.0</td>\n",
       "      <td>184</td>\n",
       "      <td>6</td>\n",
       "      <td>1515</td>\n",
       "      <td>1617.31</td>\n",
       "      <td>269.551667</td>\n",
       "      <td>83</td>\n",
       "      <td>1.0</td>\n",
       "      <td>0.166667</td>\n",
       "    </tr>\n",
       "    <tr>\n",
       "      <th>32</th>\n",
       "      <td>12384.0</td>\n",
       "      <td>28</td>\n",
       "      <td>3</td>\n",
       "      <td>117</td>\n",
       "      <td>406.16</td>\n",
       "      <td>135.386667</td>\n",
       "      <td>25</td>\n",
       "      <td>1.0</td>\n",
       "      <td>0.333333</td>\n",
       "    </tr>\n",
       "    <tr>\n",
       "      <th>39</th>\n",
       "      <td>12395.0</td>\n",
       "      <td>15</td>\n",
       "      <td>15</td>\n",
       "      <td>2092</td>\n",
       "      <td>2662.28</td>\n",
       "      <td>177.485333</td>\n",
       "      <td>90</td>\n",
       "      <td>3.0</td>\n",
       "      <td>0.200000</td>\n",
       "    </tr>\n",
       "    <tr>\n",
       "      <th>47</th>\n",
       "      <td>12406.0</td>\n",
       "      <td>21</td>\n",
       "      <td>3</td>\n",
       "      <td>1809</td>\n",
       "      <td>3280.75</td>\n",
       "      <td>1093.583333</td>\n",
       "      <td>92</td>\n",
       "      <td>1.0</td>\n",
       "      <td>0.333333</td>\n",
       "    </tr>\n",
       "    <tr>\n",
       "      <th>49</th>\n",
       "      <td>12408.0</td>\n",
       "      <td>32</td>\n",
       "      <td>8</td>\n",
       "      <td>1382</td>\n",
       "      <td>2587.57</td>\n",
       "      <td>323.446250</td>\n",
       "      <td>80</td>\n",
       "      <td>3.0</td>\n",
       "      <td>0.375000</td>\n",
       "    </tr>\n",
       "    <tr>\n",
       "      <th>50</th>\n",
       "      <td>12409.0</td>\n",
       "      <td>78</td>\n",
       "      <td>7</td>\n",
       "      <td>5543</td>\n",
       "      <td>11056.93</td>\n",
       "      <td>1579.561429</td>\n",
       "      <td>91</td>\n",
       "      <td>4.0</td>\n",
       "      <td>0.571429</td>\n",
       "    </tr>\n",
       "    <tr>\n",
       "      <th>51</th>\n",
       "      <td>12410.0</td>\n",
       "      <td>300</td>\n",
       "      <td>3</td>\n",
       "      <td>205</td>\n",
       "      <td>521.08</td>\n",
       "      <td>173.693333</td>\n",
       "      <td>25</td>\n",
       "      <td>1.0</td>\n",
       "      <td>0.333333</td>\n",
       "    </tr>\n",
       "  </tbody>\n",
       "</table>\n",
       "</div>"
      ],
      "text/plain": [
       "    Customer ID  Recency  Total_Transactions  Total_Products_Purchased  \\\n",
       "0       12346.0      325                   2                         0   \n",
       "5       12352.0       35                   8                       463   \n",
       "12      12359.0        7                   6                      1599   \n",
       "15      12362.0        2                  13                      2180   \n",
       "25      12375.0        2                   3                       175   \n",
       "28      12379.0       81                   3                       401   \n",
       "29      12380.0       21                   5                      1109   \n",
       "30      12381.0        4                   4                       772   \n",
       "31      12383.0      184                   6                      1515   \n",
       "32      12384.0       28                   3                       117   \n",
       "39      12395.0       15                  15                      2092   \n",
       "47      12406.0       21                   3                      1809   \n",
       "49      12408.0       32                   8                      1382   \n",
       "50      12409.0       78                   7                      5543   \n",
       "51      12410.0      300                   3                       205   \n",
       "\n",
       "    Total_Spend  Average_Transaction_Value  Unique_Products_Purchased  \\\n",
       "0          0.00                   0.000000                          1   \n",
       "5       1265.41                 158.176250                         57   \n",
       "12      6182.98                1030.496667                        214   \n",
       "15      4665.58                 358.890769                        200   \n",
       "25       375.42                 125.140000                         13   \n",
       "28       775.29                 258.430000                         38   \n",
       "29      2423.56                 484.712000                         76   \n",
       "30      1433.46                 358.365000                         69   \n",
       "31      1617.31                 269.551667                         83   \n",
       "32       406.16                 135.386667                         25   \n",
       "39      2662.28                 177.485333                         90   \n",
       "47      3280.75                1093.583333                         92   \n",
       "49      2587.57                 323.446250                         80   \n",
       "50     11056.93                1579.561429                         91   \n",
       "51       521.08                 173.693333                         25   \n",
       "\n",
       "    Cancellation_Frequency  Cancellation_Rate  \n",
       "0                      1.0           0.500000  \n",
       "5                      1.0           0.125000  \n",
       "12                     2.0           0.333333  \n",
       "15                     3.0           0.230769  \n",
       "25                     1.0           0.333333  \n",
       "28                     1.0           0.333333  \n",
       "29                     1.0           0.200000  \n",
       "30                     1.0           0.250000  \n",
       "31                     1.0           0.166667  \n",
       "32                     1.0           0.333333  \n",
       "39                     3.0           0.200000  \n",
       "47                     1.0           0.333333  \n",
       "49                     3.0           0.375000  \n",
       "50                     4.0           0.571429  \n",
       "51                     1.0           0.333333  "
      ]
     },
     "execution_count": 517,
     "metadata": {},
     "output_type": "execute_result"
    }
   ],
   "source": [
    "customers_who_cancelled = customer_data[customer_data['Cancellation_Rate'] > 0]\n",
    "print(f\"Number of customers who cancelled at least one transaction: {customers_who_cancelled.shape[0]}\")\n",
    "customers_who_cancelled.head(15)"
   ]
  },
  {
   "cell_type": "markdown",
   "metadata": {},
   "source": [
    "## Seasonality\n",
    "\n",
    "The seasonality in customers' purchasing behaviors can offer invaluable insights for tailoring marketing strategies and enhancing customer satisfaction. Here are the two features to introduce:\n",
    "\n",
    "- **Monthly_Spending_Mean:** This is the average amount a customer spends monthly. It helps us gauge the general spending habit of each customer. A higher mean indicates a customer who spends more, potentially showing interest in premium products, whereas a lower mean might indicate a more budget-conscious customer.\n",
    "\n",
    "- **Monthly_Spending_Std:** This feature indicates the variability in a customer's monthly spending. A higher value signals that the customer's spending fluctuates significantly month-to-month, perhaps indicating sporadic large purchases. In contrast, a lower value suggests more stable, consistent spending habits. Understanding this variability can help in crafting personalized promotions or discounts during periods they are expected to spend more."
   ]
  },
  {
   "cell_type": "code",
   "execution_count": 518,
   "metadata": {},
   "outputs": [],
   "source": [
    "# Extract month and year from InvoiceDate\n",
    "df['Year'] = df['InvoiceDate'].dt.year\n",
    "df['Month'] = df['InvoiceDate'].dt.month\n",
    "\n",
    "# Calculate monthly spending for each customer\n",
    "monthly_spending = df.groupby(['Customer ID', 'Year', 'Month'])['TotalPrice'].sum().reset_index()\n",
    "\n",
    "# Calculate Seasonal Buying Patterns: We are using monthly frequency as a proxy for seasonal buying patterns\n",
    "seasonal_buying_patterns = monthly_spending.groupby('Customer ID')['TotalPrice'].agg(['mean', 'std']).reset_index()\n",
    "seasonal_buying_patterns.rename(columns={'mean': 'Monthly_Spending_Mean', 'std': 'Monthly_Spending_Std'}, inplace=True)\n",
    "\n",
    "# Replace NaN values in Monthly_Spending_Std with 0, implying no variability for customers with single transaction month\n",
    "seasonal_buying_patterns['Monthly_Spending_Std'].fillna(0, inplace=True)\n",
    "\n",
    "# Remove the Year and Month columns from the original dataframe\n",
    "df.drop(columns=['Year', 'Month'], inplace=True)"
   ]
  },
  {
   "cell_type": "code",
   "execution_count": 519,
   "metadata": {},
   "outputs": [
    {
     "data": {
      "text/html": [
       "<div>\n",
       "<style scoped>\n",
       "    .dataframe tbody tr th:only-of-type {\n",
       "        vertical-align: middle;\n",
       "    }\n",
       "\n",
       "    .dataframe tbody tr th {\n",
       "        vertical-align: top;\n",
       "    }\n",
       "\n",
       "    .dataframe thead th {\n",
       "        text-align: right;\n",
       "    }\n",
       "</style>\n",
       "<table border=\"1\" class=\"dataframe\">\n",
       "  <thead>\n",
       "    <tr style=\"text-align: right;\">\n",
       "      <th></th>\n",
       "      <th>Customer ID</th>\n",
       "      <th>Recency</th>\n",
       "      <th>Total_Transactions</th>\n",
       "      <th>Total_Products_Purchased</th>\n",
       "      <th>Total_Spend</th>\n",
       "      <th>Average_Transaction_Value</th>\n",
       "      <th>Unique_Products_Purchased</th>\n",
       "      <th>Cancellation_Frequency</th>\n",
       "      <th>Cancellation_Rate</th>\n",
       "      <th>Monthly_Spending_Mean</th>\n",
       "      <th>Monthly_Spending_Std</th>\n",
       "    </tr>\n",
       "  </thead>\n",
       "  <tbody>\n",
       "    <tr>\n",
       "      <th>0</th>\n",
       "      <td>12346.0</td>\n",
       "      <td>325</td>\n",
       "      <td>2</td>\n",
       "      <td>0</td>\n",
       "      <td>0.00</td>\n",
       "      <td>0.000000</td>\n",
       "      <td>1</td>\n",
       "      <td>1.0</td>\n",
       "      <td>0.5</td>\n",
       "      <td>0.000000</td>\n",
       "      <td>0.000000</td>\n",
       "    </tr>\n",
       "    <tr>\n",
       "      <th>1</th>\n",
       "      <td>12347.0</td>\n",
       "      <td>1</td>\n",
       "      <td>7</td>\n",
       "      <td>2458</td>\n",
       "      <td>4310.00</td>\n",
       "      <td>615.714286</td>\n",
       "      <td>103</td>\n",
       "      <td>0.0</td>\n",
       "      <td>0.0</td>\n",
       "      <td>615.714286</td>\n",
       "      <td>341.070789</td>\n",
       "    </tr>\n",
       "    <tr>\n",
       "      <th>2</th>\n",
       "      <td>12348.0</td>\n",
       "      <td>74</td>\n",
       "      <td>4</td>\n",
       "      <td>2332</td>\n",
       "      <td>1437.24</td>\n",
       "      <td>359.310000</td>\n",
       "      <td>21</td>\n",
       "      <td>0.0</td>\n",
       "      <td>0.0</td>\n",
       "      <td>359.310000</td>\n",
       "      <td>203.875689</td>\n",
       "    </tr>\n",
       "    <tr>\n",
       "      <th>3</th>\n",
       "      <td>12349.0</td>\n",
       "      <td>18</td>\n",
       "      <td>1</td>\n",
       "      <td>630</td>\n",
       "      <td>1457.55</td>\n",
       "      <td>1457.550000</td>\n",
       "      <td>72</td>\n",
       "      <td>0.0</td>\n",
       "      <td>0.0</td>\n",
       "      <td>1457.550000</td>\n",
       "      <td>0.000000</td>\n",
       "    </tr>\n",
       "    <tr>\n",
       "      <th>4</th>\n",
       "      <td>12350.0</td>\n",
       "      <td>309</td>\n",
       "      <td>1</td>\n",
       "      <td>196</td>\n",
       "      <td>294.40</td>\n",
       "      <td>294.400000</td>\n",
       "      <td>16</td>\n",
       "      <td>0.0</td>\n",
       "      <td>0.0</td>\n",
       "      <td>294.400000</td>\n",
       "      <td>0.000000</td>\n",
       "    </tr>\n",
       "  </tbody>\n",
       "</table>\n",
       "</div>"
      ],
      "text/plain": [
       "   Customer ID  Recency  Total_Transactions  Total_Products_Purchased  \\\n",
       "0      12346.0      325                   2                         0   \n",
       "1      12347.0        1                   7                      2458   \n",
       "2      12348.0       74                   4                      2332   \n",
       "3      12349.0       18                   1                       630   \n",
       "4      12350.0      309                   1                       196   \n",
       "\n",
       "   Total_Spend  Average_Transaction_Value  Unique_Products_Purchased  \\\n",
       "0         0.00                   0.000000                          1   \n",
       "1      4310.00                 615.714286                        103   \n",
       "2      1437.24                 359.310000                         21   \n",
       "3      1457.55                1457.550000                         72   \n",
       "4       294.40                 294.400000                         16   \n",
       "\n",
       "   Cancellation_Frequency  Cancellation_Rate  Monthly_Spending_Mean  \\\n",
       "0                     1.0                0.5               0.000000   \n",
       "1                     0.0                0.0             615.714286   \n",
       "2                     0.0                0.0             359.310000   \n",
       "3                     0.0                0.0            1457.550000   \n",
       "4                     0.0                0.0             294.400000   \n",
       "\n",
       "   Monthly_Spending_Std  \n",
       "0              0.000000  \n",
       "1            341.070789  \n",
       "2            203.875689  \n",
       "3              0.000000  \n",
       "4              0.000000  "
      ]
     },
     "execution_count": 519,
     "metadata": {},
     "output_type": "execute_result"
    }
   ],
   "source": [
    "# Merge the new features into the customer_data dataframe\n",
    "customer_data = pd.merge(customer_data, seasonal_buying_patterns, on='Customer ID')\n",
    "\n",
    "# Display the first few rows of the customer_data dataframe\n",
    "customer_data.head()"
   ]
  },
  {
   "cell_type": "markdown",
   "metadata": {},
   "source": [
    "## Customer Dataset Description\n",
    "\n",
    "| **Feature**                    | **Description**                                                                                      |\n",
    "|-------------------------------|------------------------------------------------------------------------------------------------------|\n",
    "| Customer ID                   | Identifier uniquely assigned to each customer, used to distinguish individual customers.             |\n",
    "| Recency                       | The number of days that have passed since the customer's last purchase.                             |\n",
    "| Total_Transactions            | The total number of transactions made by the customer.                                              |\n",
    "| Total_Products_Purchased      | The total quantity of products purchased by the customer across all transactions.                   |\n",
    "| Total_Spend                   | The total amount of money the customer has spent across all transactions.                           |\n",
    "| Average_Transaction_Value     | The average value of the customer's transactions, calculated as total spend divided by transactions. |\n",
    "| Unique_Products_Purchased     | The number of different products the customer has purchased.                                        |\n",
    "| Cancellation_Frequency        | The total number of transactions that the customer has cancelled.                                   |\n",
    "| Cancellation_Rate             | The proportion of transactions that the customer has cancelled, calculated as cancellations/total.  |\n",
    "| Monthly_Spending_Mean         | The average monthly spending of the customer.                                                       |\n",
    "| Monthly_Spending_Std          | The standard deviation of the customer's monthly spending, indicating variability.                  |\n"
   ]
  },
  {
   "cell_type": "markdown",
   "metadata": {},
   "source": [
    "## Outlier Detection\n",
    "\n",
    "**Isolation Forest** algorithm works well for multi-dimensional data and is computationally efficient. It isolates observations by randomly selecting a feature and then randomly selecting a split value between the maximum and minimum values of the selected feature."
   ]
  },
  {
   "cell_type": "code",
   "execution_count": 520,
   "metadata": {},
   "outputs": [
    {
     "name": "stdout",
     "output_type": "stream",
     "text": [
      "                       mean  median      std     min        max\n",
      "Recency               91.17   49.00   100.97     0.0     373.00\n",
      "Total_Transactions     4.99     NaN     9.08     1.0     242.00\n",
      "Total_Spend         1894.60  641.78  8266.05 -1192.2  278778.02\n",
      "Cancellation_Rate      0.11    0.00     0.18     0.0       1.00\n"
     ]
    }
   ],
   "source": [
    "# Calcular estadísticas descriptivas\n",
    "stats = customer_data[['Recency', 'Total_Transactions', 'Total_Spend', 'Cancellation_Rate']].describe().T\n",
    "stats['median'] = customer_data[['Total_Spend', 'Cancellation_Rate', 'Recency']].median()\n",
    "stats = stats[['mean', 'median', 'std', 'min', 'max']]\n",
    "print(stats.round(2))"
   ]
  },
  {
   "cell_type": "code",
   "execution_count": 521,
   "metadata": {},
   "outputs": [
    {
     "data": {
      "image/png": "[encoded data removed]",
      "text/plain": [
       "<Figure size 640x480 with 1 Axes>"
      ]
     },
     "metadata": {},
     "output_type": "display_data"
    }
   ],
   "source": [
    "import numpy as np\n",
    "from sklearn.cluster import KMeans\n",
    "from sklearn.metrics import silhouette_score\n",
    "from sklearn.ensemble import IsolationForest\n",
    "import matplotlib.pyplot as plt\n",
    "\n",
    "# Select features for anomaly detection\n",
    "X = customer_data[['Recency', 'Total_Transactions', 'Total_Spend', 'Cancellation_Rate']]\n",
    "\n",
    "# Visualize the process of finding the optimal number of percentage of contamination\n",
    "contaminations = np.linspace(0.01, 0.10, 10)\n",
    "scores = []\n",
    "\n",
    "for c in contaminations:\n",
    "    iso = IsolationForest(contamination=c, random_state=0)\n",
    "    mask = iso.fit_predict(X) == 1\n",
    "    km = KMeans(n_clusters=3, random_state=0).fit(X[mask])\n",
    "    scores.append(silhouette_score(X[mask], km.labels_))\n",
    "\n",
    "# Plot\n",
    "plt.plot(contaminations, scores, marker='o')\n",
    "for x, y in zip(contaminations, scores):\n",
    "    plt.text(x, y, f\"{y:.2f}\", ha='center', va='bottom', fontsize=9)\n",
    "\n",
    "plt.xlabel(\"Contamination\")\n",
    "plt.ylabel(\"Silhouette score\")\n",
    "plt.title(\"Silhouette vs. Contamination\")\n",
    "plt.tight_layout()\n",
    "plt.show()"
   ]
  },
  {
   "cell_type": "code",
   "execution_count": 522,
   "metadata": {},
   "outputs": [
    {
     "data": {
      "text/html": [
       "<div>\n",
       "<style scoped>\n",
       "    .dataframe tbody tr th:only-of-type {\n",
       "        vertical-align: middle;\n",
       "    }\n",
       "\n",
       "    .dataframe tbody tr th {\n",
       "        vertical-align: top;\n",
       "    }\n",
       "\n",
       "    .dataframe thead th {\n",
       "        text-align: right;\n",
       "    }\n",
       "</style>\n",
       "<table border=\"1\" class=\"dataframe\">\n",
       "  <thead>\n",
       "    <tr style=\"text-align: right;\">\n",
       "      <th></th>\n",
       "      <th>Customer ID</th>\n",
       "      <th>Recency</th>\n",
       "      <th>Total_Transactions</th>\n",
       "      <th>Total_Products_Purchased</th>\n",
       "      <th>Total_Spend</th>\n",
       "      <th>Average_Transaction_Value</th>\n",
       "      <th>Unique_Products_Purchased</th>\n",
       "      <th>Cancellation_Frequency</th>\n",
       "      <th>Cancellation_Rate</th>\n",
       "      <th>Monthly_Spending_Mean</th>\n",
       "      <th>Monthly_Spending_Std</th>\n",
       "      <th>Outlier</th>\n",
       "    </tr>\n",
       "  </thead>\n",
       "  <tbody>\n",
       "    <tr>\n",
       "      <th>0</th>\n",
       "      <td>12346.0</td>\n",
       "      <td>325</td>\n",
       "      <td>2</td>\n",
       "      <td>0</td>\n",
       "      <td>0.00</td>\n",
       "      <td>0.000000</td>\n",
       "      <td>1</td>\n",
       "      <td>1.0</td>\n",
       "      <td>0.500</td>\n",
       "      <td>0.000000</td>\n",
       "      <td>0.000000</td>\n",
       "      <td>0</td>\n",
       "    </tr>\n",
       "    <tr>\n",
       "      <th>1</th>\n",
       "      <td>12347.0</td>\n",
       "      <td>1</td>\n",
       "      <td>7</td>\n",
       "      <td>2458</td>\n",
       "      <td>4310.00</td>\n",
       "      <td>615.714286</td>\n",
       "      <td>103</td>\n",
       "      <td>0.0</td>\n",
       "      <td>0.000</td>\n",
       "      <td>615.714286</td>\n",
       "      <td>341.070789</td>\n",
       "      <td>0</td>\n",
       "    </tr>\n",
       "    <tr>\n",
       "      <th>2</th>\n",
       "      <td>12348.0</td>\n",
       "      <td>74</td>\n",
       "      <td>4</td>\n",
       "      <td>2332</td>\n",
       "      <td>1437.24</td>\n",
       "      <td>359.310000</td>\n",
       "      <td>21</td>\n",
       "      <td>0.0</td>\n",
       "      <td>0.000</td>\n",
       "      <td>359.310000</td>\n",
       "      <td>203.875689</td>\n",
       "      <td>0</td>\n",
       "    </tr>\n",
       "    <tr>\n",
       "      <th>3</th>\n",
       "      <td>12349.0</td>\n",
       "      <td>18</td>\n",
       "      <td>1</td>\n",
       "      <td>630</td>\n",
       "      <td>1457.55</td>\n",
       "      <td>1457.550000</td>\n",
       "      <td>72</td>\n",
       "      <td>0.0</td>\n",
       "      <td>0.000</td>\n",
       "      <td>1457.550000</td>\n",
       "      <td>0.000000</td>\n",
       "      <td>0</td>\n",
       "    </tr>\n",
       "    <tr>\n",
       "      <th>4</th>\n",
       "      <td>12350.0</td>\n",
       "      <td>309</td>\n",
       "      <td>1</td>\n",
       "      <td>196</td>\n",
       "      <td>294.40</td>\n",
       "      <td>294.400000</td>\n",
       "      <td>16</td>\n",
       "      <td>0.0</td>\n",
       "      <td>0.000</td>\n",
       "      <td>294.400000</td>\n",
       "      <td>0.000000</td>\n",
       "      <td>0</td>\n",
       "    </tr>\n",
       "    <tr>\n",
       "      <th>5</th>\n",
       "      <td>12352.0</td>\n",
       "      <td>35</td>\n",
       "      <td>8</td>\n",
       "      <td>463</td>\n",
       "      <td>1265.41</td>\n",
       "      <td>158.176250</td>\n",
       "      <td>57</td>\n",
       "      <td>1.0</td>\n",
       "      <td>0.125</td>\n",
       "      <td>316.352500</td>\n",
       "      <td>134.700629</td>\n",
       "      <td>0</td>\n",
       "    </tr>\n",
       "    <tr>\n",
       "      <th>6</th>\n",
       "      <td>12353.0</td>\n",
       "      <td>203</td>\n",
       "      <td>1</td>\n",
       "      <td>20</td>\n",
       "      <td>89.00</td>\n",
       "      <td>89.000000</td>\n",
       "      <td>4</td>\n",
       "      <td>0.0</td>\n",
       "      <td>0.000</td>\n",
       "      <td>89.000000</td>\n",
       "      <td>0.000000</td>\n",
       "      <td>0</td>\n",
       "    </tr>\n",
       "    <tr>\n",
       "      <th>7</th>\n",
       "      <td>12354.0</td>\n",
       "      <td>231</td>\n",
       "      <td>1</td>\n",
       "      <td>530</td>\n",
       "      <td>1079.40</td>\n",
       "      <td>1079.400000</td>\n",
       "      <td>58</td>\n",
       "      <td>0.0</td>\n",
       "      <td>0.000</td>\n",
       "      <td>1079.400000</td>\n",
       "      <td>0.000000</td>\n",
       "      <td>0</td>\n",
       "    </tr>\n",
       "    <tr>\n",
       "      <th>8</th>\n",
       "      <td>12355.0</td>\n",
       "      <td>213</td>\n",
       "      <td>1</td>\n",
       "      <td>240</td>\n",
       "      <td>459.40</td>\n",
       "      <td>459.400000</td>\n",
       "      <td>13</td>\n",
       "      <td>0.0</td>\n",
       "      <td>0.000</td>\n",
       "      <td>459.400000</td>\n",
       "      <td>0.000000</td>\n",
       "      <td>0</td>\n",
       "    </tr>\n",
       "    <tr>\n",
       "      <th>9</th>\n",
       "      <td>12356.0</td>\n",
       "      <td>22</td>\n",
       "      <td>3</td>\n",
       "      <td>1573</td>\n",
       "      <td>2487.43</td>\n",
       "      <td>829.143333</td>\n",
       "      <td>52</td>\n",
       "      <td>0.0</td>\n",
       "      <td>0.000</td>\n",
       "      <td>829.143333</td>\n",
       "      <td>991.462585</td>\n",
       "      <td>0</td>\n",
       "    </tr>\n",
       "  </tbody>\n",
       "</table>\n",
       "</div>"
      ],
      "text/plain": [
       "   Customer ID  Recency  Total_Transactions  Total_Products_Purchased  \\\n",
       "0      12346.0      325                   2                         0   \n",
       "1      12347.0        1                   7                      2458   \n",
       "2      12348.0       74                   4                      2332   \n",
       "3      12349.0       18                   1                       630   \n",
       "4      12350.0      309                   1                       196   \n",
       "5      12352.0       35                   8                       463   \n",
       "6      12353.0      203                   1                        20   \n",
       "7      12354.0      231                   1                       530   \n",
       "8      12355.0      213                   1                       240   \n",
       "9      12356.0       22                   3                      1573   \n",
       "\n",
       "   Total_Spend  Average_Transaction_Value  Unique_Products_Purchased  \\\n",
       "0         0.00                   0.000000                          1   \n",
       "1      4310.00                 615.714286                        103   \n",
       "2      1437.24                 359.310000                         21   \n",
       "3      1457.55                1457.550000                         72   \n",
       "4       294.40                 294.400000                         16   \n",
       "5      1265.41                 158.176250                         57   \n",
       "6        89.00                  89.000000                          4   \n",
       "7      1079.40                1079.400000                         58   \n",
       "8       459.40                 459.400000                         13   \n",
       "9      2487.43                 829.143333                         52   \n",
       "\n",
       "   Cancellation_Frequency  Cancellation_Rate  Monthly_Spending_Mean  \\\n",
       "0                     1.0              0.500               0.000000   \n",
       "1                     0.0              0.000             615.714286   \n",
       "2                     0.0              0.000             359.310000   \n",
       "3                     0.0              0.000            1457.550000   \n",
       "4                     0.0              0.000             294.400000   \n",
       "5                     1.0              0.125             316.352500   \n",
       "6                     0.0              0.000              89.000000   \n",
       "7                     0.0              0.000            1079.400000   \n",
       "8                     0.0              0.000             459.400000   \n",
       "9                     0.0              0.000             829.143333   \n",
       "\n",
       "   Monthly_Spending_Std  Outlier  \n",
       "0              0.000000        0  \n",
       "1            341.070789        0  \n",
       "2            203.875689        0  \n",
       "3              0.000000        0  \n",
       "4              0.000000        0  \n",
       "5            134.700629        0  \n",
       "6              0.000000        0  \n",
       "7              0.000000        0  \n",
       "8              0.000000        0  \n",
       "9            991.462585        0  "
      ]
     },
     "execution_count": 522,
     "metadata": {},
     "output_type": "execute_result"
    }
   ],
   "source": [
    "# Fit the Isolation Forest model\n",
    "model = IsolationForest(contamination=0.01, random_state=42)\n",
    "model.fit(X)\n",
    "\n",
    "# Predict anomalies\n",
    "anomalies = model.predict(X)\n",
    "anomalies = pd.Series(anomalies, index=customer_data.index)\n",
    "customer_data['Outlier'] = anomalies\n",
    "customer_data['Outlier'] = customer_data['Outlier'].map({1: 0, -1: 1})  # Convert to binary (0 for normal, 1 for anomaly)\n",
    "\n",
    "# Display the first few rows of the customer_data dataframe\n",
    "customer_data.head(10)"
   ]
  },
  {
   "cell_type": "code",
   "execution_count": 523,
   "metadata": {},
   "outputs": [
    {
     "name": "stdout",
     "output_type": "stream",
     "text": [
      "Percentage of outliers: 0.99%\n"
     ]
    }
   ],
   "source": [
    "# Percentage of outliers\n",
    "outlier_percentage = (customer_data['Outlier'].sum() / customer_data.shape[0]) * 100\n",
    "print(f\"Percentage of outliers: {outlier_percentage:.2f}%\")"
   ]
  },
  {
   "cell_type": "code",
   "execution_count": 524,
   "metadata": {},
   "outputs": [
    {
     "data": {
      "text/plain": [
       "4319"
      ]
     },
     "execution_count": 524,
     "metadata": {},
     "output_type": "execute_result"
    }
   ],
   "source": [
    "# Separate outliers\n",
    "outliers = customer_data[customer_data['Outlier'] == 1]\n",
    "\n",
    "# Remove outliers from the dataset\n",
    "customer_data_cleaned = customer_data[customer_data['Outlier'] == 0]\n",
    "\n",
    "# Drop the Outlier column\n",
    "customer_data_cleaned.drop(columns=['Outlier'], inplace=True)\n",
    "customer_data_cleaned.reset_index(drop=True, inplace=True)\n",
    "\n",
    "customer_data_cleaned.shape[0]"
   ]
  },
  {
   "cell_type": "markdown",
   "metadata": {},
   "source": [
    "## Inferences\n",
    "\n",
    "The curve clearly shows that the higher the percentage of outliers to remove, the worse the internal \"quality\" of the clusters (silhouette score) becomes. Specifically:\n",
    "\n",
    "- Maximum peak at 0.01 (≈0.78): Removing 1% of the outliers before clustering produces the most compact and well-separated clusters.\n",
    "\n",
    "- From there, as the proportion of data removed increases, the silhouette score drops fairly steadily.\n",
    "\n",
    "### Strategy\n",
    "\n",
    "It is crucial to handle these outliers to prevent them from affecting the clusters' quality significantly. The strategy will be to separate these outliers for further analysis and remove them from our main dataset to prepare it for the clustering analysis."
   ]
  },
  {
   "cell_type": "markdown",
   "metadata": {},
   "source": [
    "## Correlation Analysis\n",
    "\n",
    "Before we proceed to KMeans clustering, it's essential to check the correlation between features in our dataset. The presence of multicollinearity, where features are highly correlated, can potentially affect the clustering process by not allowing the model to learn the actual underlying patterns in the data, we can utilize dimensionality reduction techniques like PCA. These techniques help in neutralizing the effect of multicollinearity by transforming the correlated features into a new set of uncorrelated variables, preserving most of the original data's variance."
   ]
  },
  {
   "cell_type": "code",
   "execution_count": 525,
   "metadata": {},
   "outputs": [
    {
     "data": {
      "application/vnd.plotly.v1+json": {
       "config": {
        "plotlyServerURL": "https://plot.ly"
       },
       "data": [
        {
         "coloraxis": "coloraxis",
         "hovertemplate": "x: %{x}<br>y: %{y}<br>Correlación: %{z}<extra></extra>",
         "name": "0",
         "textfont": {
          "family": "Arial",
          "size": 18
         },
         "texttemplate": "%{z:.2f}",
         "type": "heatmap",
         "x": [
          "Recency",
          "Total_Transactions",
          "Total_Products_Purchased",
          "Total_Spend",
          "Average_Transaction_Value",
          "Unique_Products_Purchased",
          "Cancellation_Frequency",
          "Cancellation_Rate",
          "Monthly_Spending_Mean",
          "Monthly_Spending_Std"
         ],
         "xaxis": "x",
         "y": [
          "Recency",
          "Total_Transactions",
          "Total_Products_Purchased",
          "Total_Spend",
          "Average_Transaction_Value",
          "Unique_Products_Purchased",
          "Cancellation_Frequency",
          "Cancellation_Rate",
          "Monthly_Spending_Mean",
          "Monthly_Spending_Std"
         ],
         "yaxis": "y",
         "z": {
          "bdata": "AAAAAAAA8D8AAAAAAAD4fwAAAAAAAPh/AAAAAAAA+H8AAAAAAAD4fwAAAAAAAPh/AAAAAAAA+H8AAAAAAAD4fwAAAAAAAPh/AAAAAAAA+H9mZmZmZmbWvwAAAAAAAPA/AAAAAAAA+H8AAAAAAAD4fwAAAAAAAPh/AAAAAAAA+H8AAAAAAAD4fwAAAAAAAPh/AAAAAAAA+H8AAAAAAAD4fwAAAAAAANC/16NwPQrX4z8AAAAAAADwPwAAAAAAAPh/AAAAAAAA+H8AAAAAAAD4fwAAAAAAAPh/AAAAAAAA+H8AAAAAAAD4fwAAAAAAAPh/AAAAAAAA0L8fhetRuB7lP+F6FK5H4eo/AAAAAAAA8D8AAAAAAAD4fwAAAAAAAPh/AAAAAAAA+H8AAAAAAAD4fwAAAAAAAPh/AAAAAAAA+H97FK5H4XqkvwAAAAAAAAAAZmZmZmZm1j9cj8L1KFzfPwAAAAAAAPA/AAAAAAAA+H8AAAAAAAD4fwAAAAAAAPh/AAAAAAAA+H8AAAAAAAD4f8P1KFyPwtW/mpmZmZmZ4T/NzMzMzMzcPwAAAAAAAOA/w/UoXI/CxT8AAAAAAADwPwAAAAAAAPh/AAAAAAAA+H8AAAAAAAD4fwAAAAAAAPh/KVyPwvUozL+uR+F6FK7nPz0K16NwPdo/zczMzMzM3D97FK5H4XqkvwrXo3A9Ctc/AAAAAAAA8D8AAAAAAAD4fwAAAAAAAPh/AAAAAAAA+H+4HoXrUbiuv7gehetRuM4/CtejcD0Ktz8pXI/C9Si8P5qZmZmZmbm/mpmZmZmZuT8zMzMzMzPjPwAAAAAAAPA/AAAAAAAA+H8AAAAAAAD4f7gehetRuK6/pHA9CtejwD9mZmZmZmbWP+F6FK5H4eI/7FG4HoXr6T9SuB6F61HIPwrXo3A9Crc/exSuR+F6lD8AAAAAAADwPwAAAAAAAPh/7FG4HoXrwb/sUbgehevRP/YoXI/C9eA/KVyPwvUo5D89CtejcD3aP4/C9Shcj9I/uB6F61G4zj/D9Shcj8LFP5qZmZmZmdk/AAAAAAAA8D8=",
          "dtype": "f8",
          "shape": "10, 10"
         }
        }
       ],
       "layout": {
        "coloraxis": {
         "colorbar": {
          "title": {
           "text": "Correlación"
          }
         },
         "colorscale": [
          [
           0,
           "#ffffff"
          ],
          [
           1,
           "#1C9BF9"
          ]
         ]
        },
        "font": {
         "size": 15
        },
        "height": 900,
        "margin": {
         "t": 60
        },
        "template": {
         "data": {
          "bar": [
           {
            "error_x": {
             "color": "#2a3f5f"
            },
            "error_y": {
             "color": "#2a3f5f"
            },
            "marker": {
             "line": {
              "color": "#E5ECF6",
              "width": 0.5
             },
             "pattern": {
              "fillmode": "overlay",
              "size": 10,
              "solidity": 0.2
             }
            },
            "type": "bar"
           }
          ],
          "barpolar": [
           {
            "marker": {
             "line": {
              "color": "#E5ECF6",
              "width": 0.5
             },
             "pattern": {
              "fillmode": "overlay",
              "size": 10,
              "solidity": 0.2
             }
            },
            "type": "barpolar"
           }
          ],
          "carpet": [
           {
            "aaxis": {
             "endlinecolor": "#2a3f5f",
             "gridcolor": "white",
             "linecolor": "white",
             "minorgridcolor": "white",
             "startlinecolor": "#2a3f5f"
            },
            "baxis": {
             "endlinecolor": "#2a3f5f",
             "gridcolor": "white",
             "linecolor": "white",
             "minorgridcolor": "white",
             "startlinecolor": "#2a3f5f"
            },
            "type": "carpet"
           }
          ],
          "choropleth": [
           {
            "colorbar": {
             "outlinewidth": 0,
             "ticks": ""
            },
            "type": "choropleth"
           }
          ],
          "contour": [
           {
            "colorbar": {
             "outlinewidth": 0,
             "ticks": ""
            },
            "colorscale": [
             [
              0,
              "#0d0887"
             ],
             [
              0.1111111111111111,
              "#46039f"
             ],
             [
              0.2222222222222222,
              "#7201a8"
             ],
             [
              0.3333333333333333,
              "#9c179e"
             ],
             [
              0.4444444444444444,
              "#bd3786"
             ],
             [
              0.5555555555555556,
              "#d8576b"
             ],
             [
              0.6666666666666666,
              "#ed7953"
             ],
             [
              0.7777777777777778,
              "#fb9f3a"
             ],
             [
              0.8888888888888888,
              "#fdca26"
             ],
             [
              1,
              "#f0f921"
             ]
            ],
            "type": "contour"
           }
          ],
          "contourcarpet": [
           {
            "colorbar": {
             "outlinewidth": 0,
             "ticks": ""
            },
            "type": "contourcarpet"
           }
          ],
          "heatmap": [
           {
            "colorbar": {
             "outlinewidth": 0,
             "ticks": ""
            },
            "colorscale": [
             [
              0,
              "#0d0887"
             ],
             [
              0.1111111111111111,
              "#46039f"
             ],
             [
              0.2222222222222222,
              "#7201a8"
             ],
             [
              0.3333333333333333,
              "#9c179e"
             ],
             [
              0.4444444444444444,
              "#bd3786"
             ],
             [
              0.5555555555555556,
              "#d8576b"
             ],
             [
              0.6666666666666666,
              "#ed7953"
             ],
             [
              0.7777777777777778,
              "#fb9f3a"
             ],
             [
              0.8888888888888888,
              "#fdca26"
             ],
             [
              1,
              "#f0f921"
             ]
            ],
            "type": "heatmap"
           }
          ],
          "histogram": [
           {
            "marker": {
             "pattern": {
              "fillmode": "overlay",
              "size": 10,
              "solidity": 0.2
             }
            },
            "type": "histogram"
           }
          ],
          "histogram2d": [
           {
            "colorbar": {
             "outlinewidth": 0,
             "ticks": ""
            },
            "colorscale": [
             [
              0,
              "#0d0887"
             ],
             [
              0.1111111111111111,
              "#46039f"
             ],
             [
              0.2222222222222222,
              "#7201a8"
             ],
             [
              0.3333333333333333,
              "#9c179e"
             ],
             [
              0.4444444444444444,
              "#bd3786"
             ],
             [
              0.5555555555555556,
              "#d8576b"
             ],
             [
              0.6666666666666666,
              "#ed7953"
             ],
             [
              0.7777777777777778,
              "#fb9f3a"
             ],
             [
              0.8888888888888888,
              "#fdca26"
             ],
             [
              1,
              "#f0f921"
             ]
            ],
            "type": "histogram2d"
           }
          ],
          "histogram2dcontour": [
           {
            "colorbar": {
             "outlinewidth": 0,
             "ticks": ""
            },
            "colorscale": [
             [
              0,
              "#0d0887"
             ],
             [
              0.1111111111111111,
              "#46039f"
             ],
             [
              0.2222222222222222,
              "#7201a8"
             ],
             [
              0.3333333333333333,
              "#9c179e"
             ],
             [
              0.4444444444444444,
              "#bd3786"
             ],
             [
              0.5555555555555556,
              "#d8576b"
             ],
             [
              0.6666666666666666,
              "#ed7953"
             ],
             [
              0.7777777777777778,
              "#fb9f3a"
             ],
             [
              0.8888888888888888,
              "#fdca26"
             ],
             [
              1,
              "#f0f921"
             ]
            ],
            "type": "histogram2dcontour"
           }
          ],
          "mesh3d": [
           {
            "colorbar": {
             "outlinewidth": 0,
             "ticks": ""
            },
            "type": "mesh3d"
           }
          ],
          "parcoords": [
           {
            "line": {
             "colorbar": {
              "outlinewidth": 0,
              "ticks": ""
             }
            },
            "type": "parcoords"
           }
          ],
          "pie": [
           {
            "automargin": true,
            "type": "pie"
           }
          ],
          "scatter": [
           {
            "fillpattern": {
             "fillmode": "overlay",
             "size": 10,
             "solidity": 0.2
            },
            "type": "scatter"
           }
          ],
          "scatter3d": [
           {
            "line": {
             "colorbar": {
              "outlinewidth": 0,
              "ticks": ""
             }
            },
            "marker": {
             "colorbar": {
              "outlinewidth": 0,
              "ticks": ""
             }
            },
            "type": "scatter3d"
           }
          ],
          "scattercarpet": [
           {
            "marker": {
             "colorbar": {
              "outlinewidth": 0,
              "ticks": ""
             }
            },
            "type": "scattercarpet"
           }
          ],
          "scattergeo": [
           {
            "marker": {
             "colorbar": {
              "outlinewidth": 0,
              "ticks": ""
             }
            },
            "type": "scattergeo"
           }
          ],
          "scattergl": [
           {
            "marker": {
             "colorbar": {
              "outlinewidth": 0,
              "ticks": ""
             }
            },
            "type": "scattergl"
           }
          ],
          "scattermap": [
           {
            "marker": {
             "colorbar": {
              "outlinewidth": 0,
              "ticks": ""
             }
            },
            "type": "scattermap"
           }
          ],
          "scattermapbox": [
           {
            "marker": {
             "colorbar": {
              "outlinewidth": 0,
              "ticks": ""
             }
            },
            "type": "scattermapbox"
           }
          ],
          "scatterpolar": [
           {
            "marker": {
             "colorbar": {
              "outlinewidth": 0,
              "ticks": ""
             }
            },
            "type": "scatterpolar"
           }
          ],
          "scatterpolargl": [
           {
            "marker": {
             "colorbar": {
              "outlinewidth": 0,
              "ticks": ""
             }
            },
            "type": "scatterpolargl"
           }
          ],
          "scatterternary": [
           {
            "marker": {
             "colorbar": {
              "outlinewidth": 0,
              "ticks": ""
             }
            },
            "type": "scatterternary"
           }
          ],
          "surface": [
           {
            "colorbar": {
             "outlinewidth": 0,
             "ticks": ""
            },
            "colorscale": [
             [
              0,
              "#0d0887"
             ],
             [
              0.1111111111111111,
              "#46039f"
             ],
             [
              0.2222222222222222,
              "#7201a8"
             ],
             [
              0.3333333333333333,
              "#9c179e"
             ],
             [
              0.4444444444444444,
              "#bd3786"
             ],
             [
              0.5555555555555556,
              "#d8576b"
             ],
             [
              0.6666666666666666,
              "#ed7953"
             ],
             [
              0.7777777777777778,
              "#fb9f3a"
             ],
             [
              0.8888888888888888,
              "#fdca26"
             ],
             [
              1,
              "#f0f921"
             ]
            ],
            "type": "surface"
           }
          ],
          "table": [
           {
            "cells": {
             "fill": {
              "color": "#EBF0F8"
             },
             "line": {
              "color": "white"
             }
            },
            "header": {
             "fill": {
              "color": "#C8D4E3"
             },
             "line": {
              "color": "white"
             }
            },
            "type": "table"
           }
          ]
         },
         "layout": {
          "annotationdefaults": {
           "arrowcolor": "#2a3f5f",
           "arrowhead": 0,
           "arrowwidth": 1
          },
          "autotypenumbers": "strict",
          "coloraxis": {
           "colorbar": {
            "outlinewidth": 0,
            "ticks": ""
           }
          },
          "colorscale": {
           "diverging": [
            [
             0,
             "#8e0152"
            ],
            [
             0.1,
             "#c51b7d"
            ],
            [
             0.2,
             "#de77ae"
            ],
            [
             0.3,
             "#f1b6da"
            ],
            [
             0.4,
             "#fde0ef"
            ],
            [
             0.5,
             "#f7f7f7"
            ],
            [
             0.6,
             "#e6f5d0"
            ],
            [
             0.7,
             "#b8e186"
            ],
            [
             0.8,
             "#7fbc41"
            ],
            [
             0.9,
             "#4d9221"
            ],
            [
             1,
             "#276419"
            ]
           ],
           "sequential": [
            [
             0,
             "#0d0887"
            ],
            [
             0.1111111111111111,
             "#46039f"
            ],
            [
             0.2222222222222222,
             "#7201a8"
            ],
            [
             0.3333333333333333,
             "#9c179e"
            ],
            [
             0.4444444444444444,
             "#bd3786"
            ],
            [
             0.5555555555555556,
             "#d8576b"
            ],
            [
             0.6666666666666666,
             "#ed7953"
            ],
            [
             0.7777777777777778,
             "#fb9f3a"
            ],
            [
             0.8888888888888888,
             "#fdca26"
            ],
            [
             1,
             "#f0f921"
            ]
           ],
           "sequentialminus": [
            [
             0,
             "#0d0887"
            ],
            [
             0.1111111111111111,
             "#46039f"
            ],
            [
             0.2222222222222222,
             "#7201a8"
            ],
            [
             0.3333333333333333,
             "#9c179e"
            ],
            [
             0.4444444444444444,
             "#bd3786"
            ],
            [
             0.5555555555555556,
             "#d8576b"
            ],
            [
             0.6666666666666666,
             "#ed7953"
            ],
            [
             0.7777777777777778,
             "#fb9f3a"
            ],
            [
             0.8888888888888888,
             "#fdca26"
            ],
            [
             1,
             "#f0f921"
            ]
           ]
          },
          "colorway": [
           "#636efa",
           "#EF553B",
           "#00cc96",
           "#ab63fa",
           "#FFA15A",
           "#19d3f3",
           "#FF6692",
           "#B6E880",
           "#FF97FF",
           "#FECB52"
          ],
          "font": {
           "color": "#2a3f5f"
          },
          "geo": {
           "bgcolor": "white",
           "lakecolor": "white",
           "landcolor": "#E5ECF6",
           "showlakes": true,
           "showland": true,
           "subunitcolor": "white"
          },
          "hoverlabel": {
           "align": "left"
          },
          "hovermode": "closest",
          "mapbox": {
           "style": "light"
          },
          "paper_bgcolor": "white",
          "plot_bgcolor": "#E5ECF6",
          "polar": {
           "angularaxis": {
            "gridcolor": "white",
            "linecolor": "white",
            "ticks": ""
           },
           "bgcolor": "#E5ECF6",
           "radialaxis": {
            "gridcolor": "white",
            "linecolor": "white",
            "ticks": ""
           }
          },
          "scene": {
           "xaxis": {
            "backgroundcolor": "#E5ECF6",
            "gridcolor": "white",
            "gridwidth": 2,
            "linecolor": "white",
            "showbackground": true,
            "ticks": "",
            "zerolinecolor": "white"
           },
           "yaxis": {
            "backgroundcolor": "#E5ECF6",
            "gridcolor": "white",
            "gridwidth": 2,
            "linecolor": "white",
            "showbackground": true,
            "ticks": "",
            "zerolinecolor": "white"
           },
           "zaxis": {
            "backgroundcolor": "#E5ECF6",
            "gridcolor": "white",
            "gridwidth": 2,
            "linecolor": "white",
            "showbackground": true,
            "ticks": "",
            "zerolinecolor": "white"
           }
          },
          "shapedefaults": {
           "line": {
            "color": "#2a3f5f"
           }
          },
          "ternary": {
           "aaxis": {
            "gridcolor": "white",
            "linecolor": "white",
            "ticks": ""
           },
           "baxis": {
            "gridcolor": "white",
            "linecolor": "white",
            "ticks": ""
           },
           "bgcolor": "#E5ECF6",
           "caxis": {
            "gridcolor": "white",
            "linecolor": "white",
            "ticks": ""
           }
          },
          "title": {
           "x": 0.05
          },
          "xaxis": {
           "automargin": true,
           "gridcolor": "white",
           "linecolor": "white",
           "ticks": "",
           "title": {
            "standoff": 15
           },
           "zerolinecolor": "white",
           "zerolinewidth": 2
          },
          "yaxis": {
           "automargin": true,
           "gridcolor": "white",
           "linecolor": "white",
           "ticks": "",
           "title": {
            "standoff": 15
           },
           "zerolinecolor": "white",
           "zerolinewidth": 2
          }
         }
        },
        "width": 900,
        "xaxis": {
         "anchor": "y",
         "constrain": "domain",
         "domain": [
          0,
          1
         ],
         "scaleanchor": "y",
         "side": "bottom",
         "tickangle": -90,
         "tickfont": {
          "family": "Arial",
          "size": 14
         }
        },
        "yaxis": {
         "anchor": "x",
         "autorange": "reversed",
         "constrain": "domain",
         "domain": [
          0,
          1
         ],
         "tickfont": {
          "family": "Arial",
          "size": 14
         }
        }
       }
      }
     },
     "metadata": {},
     "output_type": "display_data"
    }
   ],
   "source": [
    "from plotly import express as px\n",
    "\n",
    "# Calcular la matriz de correlación (redondeada)\n",
    "corr = customer_data_cleaned.drop(columns=['Customer ID']).corr().round(2)\n",
    "\n",
    "# Crear máscara para mantener solo la mitad inferior\n",
    "mask = np.triu(np.ones(corr.shape), k=1).astype(bool)\n",
    "corr_masked = corr.mask(mask)\n",
    "\n",
    "# Crear heatmap\n",
    "fig = px.imshow(\n",
    "    corr_masked,\n",
    "    text_auto=True,\n",
    "    color_continuous_scale=[\"#ffffff\", \"#1C9BF9\"],\n",
    "    aspect=\"equal\",\n",
    "    labels=dict(x=\"\", y=\"\", color=\"Correlación\")\n",
    ")\n",
    "\n",
    "# Personalizar layout\n",
    "fig.update_layout(\n",
    "    width=900,\n",
    "    height=900,\n",
    "    xaxis_side=\"bottom\",  # Que aparezcan abajo\n",
    "    font=dict(size=15),\n",
    "    xaxis=dict(tickfont=dict(family=\"Arial\", size=14)),\n",
    "    yaxis=dict(tickfont=dict(family=\"Arial\", size=14))\n",
    ")\n",
    "\n",
    "# Cambiar fuente de los números dentro del heatmap\n",
    "fig.update_traces(\n",
    "    textfont=dict(family=\"Arial\", size=18),\n",
    "    texttemplate=\"%{z:.2f}\"\n",
    ")\n",
    "\n",
    "# Mantener etiquetas horizontales\n",
    "fig.update_xaxes(tickangle=270)\n",
    "\n",
    "fig.show()"
   ]
  },
  {
   "cell_type": "markdown",
   "metadata": {},
   "source": [
    "### Inferences\n",
    "\n",
    "- **Recency:** The longer the time since the customer's last purchase, the fewer transactions (-0.35), products purchased (-0.25), and money spent (-0.25). In other words, recent customers are more active.\n",
    "- **Total_Transactions:** More transactions are associated with more products purchased (0.62), higher spending (0.66), greater product variety (0.55), and more cancellations (0.74). Frequent customers spend and cancel more.\n",
    "- **Total_Products_Purchased:** More products purchased means higher spending (0.84) and greater variety (0.45). This is associated with a higher value per transaction (0.35) and less time since the last purchase (-0.25).\n",
    "- **Total_Spend:** Higher total spending is associated with higher transaction value (0.49), more unique products (0.50), and higher average (0.59) and variable (0.63) monthly spending. High spenders purchased recently (-0.25).\n",
    "- **Average_Transaction_Value:** Higher transaction value is closely linked to average monthly spending (0.81). It has no clear relationship with recency (-0.04) or transactions (0.00).\n",
    "- **Unique_Products_Purchased:** Greater product variety is associated with more cancellations (0.36) and recent purchases (-0.34). It also has a significant link to monthly spending (0.19).\n",
    "- **Cancellation_Frequency:** More cancellations are linked to more transactions (0.74) and a higher cancellation rate (0.60). Customers who canceled a lot purchased recently (-0.22).\n",
    "- **Cancellation_Rate:** It has no strong relationship with other variables, except for cancellation frequency (0.60). It is independent of spending or recency (-0.06).\n",
    "- **Monthly_Spending_Mean:** Higher monthly spending is associated with higher total spending (0.59), higher transaction value (0.81), and spending variability (0.40). It reflects active customers.\n",
    "- **Monthly_Spending_Std:** Higher spending variability is associated with higher total spending (0.63) and average monthly spending (0.40). Customers with variable spending purchased recently (-0.14)."
   ]
  },
  {
   "cell_type": "markdown",
   "metadata": {},
   "source": [
    "## Dimensionality Reduction\n",
    "\n",
    "K-means relies heavily on the concept of 'distance' between data points to form clusters. When features are not on a similar scale, features with larger values can disproportionately influence the clustering outcome, potentially leading to incorrect groupings.\n",
    "\n",
    "PCA aims to find the directions where the data varies the most. When features are not scaled, those with larger values might dominate these components, not accurately reflecting the underlying patterns in the data."
   ]
  },
  {
   "cell_type": "code",
   "execution_count": 526,
   "metadata": {},
   "outputs": [
    {
     "data": {
      "text/html": [
       "<div>\n",
       "<style scoped>\n",
       "    .dataframe tbody tr th:only-of-type {\n",
       "        vertical-align: middle;\n",
       "    }\n",
       "\n",
       "    .dataframe tbody tr th {\n",
       "        vertical-align: top;\n",
       "    }\n",
       "\n",
       "    .dataframe thead th {\n",
       "        text-align: right;\n",
       "    }\n",
       "</style>\n",
       "<table border=\"1\" class=\"dataframe\">\n",
       "  <thead>\n",
       "    <tr style=\"text-align: right;\">\n",
       "      <th></th>\n",
       "      <th>Customer ID</th>\n",
       "      <th>Recency</th>\n",
       "      <th>Total_Transactions</th>\n",
       "      <th>Total_Spend</th>\n",
       "      <th>Cancellation_Rate</th>\n",
       "    </tr>\n",
       "  </thead>\n",
       "  <tbody>\n",
       "    <tr>\n",
       "      <th>0</th>\n",
       "      <td>12346.0</td>\n",
       "      <td>2.343185</td>\n",
       "      <td>-0.445697</td>\n",
       "      <td>-0.540943</td>\n",
       "      <td>2.324002</td>\n",
       "    </tr>\n",
       "    <tr>\n",
       "      <th>1</th>\n",
       "      <td>12347.0</td>\n",
       "      <td>-0.898409</td>\n",
       "      <td>0.428095</td>\n",
       "      <td>1.078903</td>\n",
       "      <td>-0.608423</td>\n",
       "    </tr>\n",
       "    <tr>\n",
       "      <th>2</th>\n",
       "      <td>12348.0</td>\n",
       "      <td>-0.168050</td>\n",
       "      <td>-0.096180</td>\n",
       "      <td>-0.000779</td>\n",
       "      <td>-0.608423</td>\n",
       "    </tr>\n",
       "    <tr>\n",
       "      <th>3</th>\n",
       "      <td>12349.0</td>\n",
       "      <td>-0.728325</td>\n",
       "      <td>-0.620455</td>\n",
       "      <td>0.006854</td>\n",
       "      <td>-0.608423</td>\n",
       "    </tr>\n",
       "    <tr>\n",
       "      <th>4</th>\n",
       "      <td>12350.0</td>\n",
       "      <td>2.183106</td>\n",
       "      <td>-0.620455</td>\n",
       "      <td>-0.430297</td>\n",
       "      <td>-0.608423</td>\n",
       "    </tr>\n",
       "  </tbody>\n",
       "</table>\n",
       "</div>"
      ],
      "text/plain": [
       "   Customer ID   Recency  Total_Transactions  Total_Spend  Cancellation_Rate\n",
       "0      12346.0  2.343185           -0.445697    -0.540943           2.324002\n",
       "1      12347.0 -0.898409            0.428095     1.078903          -0.608423\n",
       "2      12348.0 -0.168050           -0.096180    -0.000779          -0.608423\n",
       "3      12349.0 -0.728325           -0.620455     0.006854          -0.608423\n",
       "4      12350.0  2.183106           -0.620455    -0.430297          -0.608423"
      ]
     },
     "execution_count": 526,
     "metadata": {},
     "output_type": "execute_result"
    }
   ],
   "source": [
    "from sklearn.preprocessing import StandardScaler\n",
    "\n",
    "# Feature selection\n",
    "RFM_features = ['Customer ID','Recency', 'Total_Transactions', 'Total_Spend', 'Cancellation_Rate']\n",
    "customer_RFM = customer_data_cleaned[RFM_features]\n",
    "\n",
    "# Initialize the StandardScaler\n",
    "scaler = StandardScaler()\n",
    "\n",
    "# List of columns that don't need to be scaled\n",
    "columns_to_exclude = ['Customer ID']\n",
    "\n",
    "# List of columns that need to be scaled\n",
    "columns_to_scale = customer_RFM.columns.difference(columns_to_exclude)\n",
    "\n",
    "# Copy the cleaned dataset\n",
    "customer_RFM_scaled = customer_RFM.copy()\n",
    "\n",
    "# Applying the scaler to the necessary columns in the dataset\n",
    "customer_RFM_scaled[columns_to_scale] = scaler.fit_transform(customer_RFM_scaled[columns_to_scale])\n",
    "\n",
    "# Display the first few rows of the scaled data\n",
    "customer_RFM_scaled.head()"
   ]
  },
  {
   "cell_type": "code",
   "execution_count": 527,
   "metadata": {},
   "outputs": [
    {
     "data": {
      "application/vnd.plotly.v1+json": {
       "config": {
        "plotlyServerURL": "https://plot.ly"
       },
       "data": [
        {
         "marker": {
          "color": "#6da7de"
         },
         "name": "Varianza Explicada",
         "text": [
          "0.48",
          "0.24",
          "0.20",
          "0.08"
         ],
         "textposition": "outside",
         "type": "bar",
         "x": [
          1,
          2,
          3,
          4
         ],
         "y": {
          "bdata": "bJJ5Lmn93j8LWSIw6J/OP9TlPMSUJ8k/ljhbXWF7tD8=",
          "dtype": "f8"
         }
        },
        {
         "line": {
          "color": "#003f5c",
          "dash": "dash"
         },
         "marker": {
          "color": "#003f5c"
         },
         "mode": "lines+markers",
         "name": "Varianza Acumulada",
         "type": "scatter",
         "x": [
          1,
          2,
          3,
          4
         ],
         "y": {
          "bdata": "bJJ5Lmn93j95X0WjribnP+6YVNSTcO0/AAAAAAAA8D8=",
          "dtype": "f8"
         }
        },
        {
         "line": {
          "color": "red",
          "dash": "dash"
         },
         "mode": "lines",
         "name": "k Óptimo = 3",
         "type": "scatter",
         "x": [
          null
         ],
         "y": [
          null
         ]
        }
       ],
       "layout": {
        "annotations": [
         {
          "align": "center",
          "showarrow": false,
          "text": "0.48",
          "x": 0.7,
          "y": 0.4942169717651703
         },
         {
          "align": "center",
          "showarrow": false,
          "text": "0.72",
          "x": 1.7,
          "y": 0.7334719456564412
         },
         {
          "align": "center",
          "showarrow": false,
          "text": "0.92",
          "x": 2.7,
          "y": 0.9299923655585545
         },
         {
          "align": "center",
          "showarrow": false,
          "text": "1.00",
          "x": 3.7,
          "y": 1.01
         }
        ],
        "height": 600,
        "legend": {
         "bgcolor": "rgba(255, 255, 255, 0.5)",
         "bordercolor": "#003f5c",
         "x": 0.62,
         "y": 0.1
        },
        "plot_bgcolor": "#fcf0dc",
        "shapes": [
         {
          "line": {
           "color": "red",
           "dash": "dash"
          },
          "type": "line",
          "x0": 3,
          "x1": 3,
          "y0": 0,
          "y1": 1
         }
        ],
        "showlegend": true,
        "template": {
         "data": {
          "bar": [
           {
            "error_x": {
             "color": "#2a3f5f"
            },
            "error_y": {
             "color": "#2a3f5f"
            },
            "marker": {
             "line": {
              "color": "#E5ECF6",
              "width": 0.5
             },
             "pattern": {
              "fillmode": "overlay",
              "size": 10,
              "solidity": 0.2
             }
            },
            "type": "bar"
           }
          ],
          "barpolar": [
           {
            "marker": {
             "line": {
              "color": "#E5ECF6",
              "width": 0.5
             },
             "pattern": {
              "fillmode": "overlay",
              "size": 10,
              "solidity": 0.2
             }
            },
            "type": "barpolar"
           }
          ],
          "carpet": [
           {
            "aaxis": {
             "endlinecolor": "#2a3f5f",
             "gridcolor": "white",
             "linecolor": "white",
             "minorgridcolor": "white",
             "startlinecolor": "#2a3f5f"
            },
            "baxis": {
             "endlinecolor": "#2a3f5f",
             "gridcolor": "white",
             "linecolor": "white",
             "minorgridcolor": "white",
             "startlinecolor": "#2a3f5f"
            },
            "type": "carpet"
           }
          ],
          "choropleth": [
           {
            "colorbar": {
             "outlinewidth": 0,
             "ticks": ""
            },
            "type": "choropleth"
           }
          ],
          "contour": [
           {
            "colorbar": {
             "outlinewidth": 0,
             "ticks": ""
            },
            "colorscale": [
             [
              0,
              "#0d0887"
             ],
             [
              0.1111111111111111,
              "#46039f"
             ],
             [
              0.2222222222222222,
              "#7201a8"
             ],
             [
              0.3333333333333333,
              "#9c179e"
             ],
             [
              0.4444444444444444,
              "#bd3786"
             ],
             [
              0.5555555555555556,
              "#d8576b"
             ],
             [
              0.6666666666666666,
              "#ed7953"
             ],
             [
              0.7777777777777778,
              "#fb9f3a"
             ],
             [
              0.8888888888888888,
              "#fdca26"
             ],
             [
              1,
              "#f0f921"
             ]
            ],
            "type": "contour"
           }
          ],
          "contourcarpet": [
           {
            "colorbar": {
             "outlinewidth": 0,
             "ticks": ""
            },
            "type": "contourcarpet"
           }
          ],
          "heatmap": [
           {
            "colorbar": {
             "outlinewidth": 0,
             "ticks": ""
            },
            "colorscale": [
             [
              0,
              "#0d0887"
             ],
             [
              0.1111111111111111,
              "#46039f"
             ],
             [
              0.2222222222222222,
              "#7201a8"
             ],
             [
              0.3333333333333333,
              "#9c179e"
             ],
             [
              0.4444444444444444,
              "#bd3786"
             ],
             [
              0.5555555555555556,
              "#d8576b"
             ],
             [
              0.6666666666666666,
              "#ed7953"
             ],
             [
              0.7777777777777778,
              "#fb9f3a"
             ],
             [
              0.8888888888888888,
              "#fdca26"
             ],
             [
              1,
              "#f0f921"
             ]
            ],
            "type": "heatmap"
           }
          ],
          "histogram": [
           {
            "marker": {
             "pattern": {
              "fillmode": "overlay",
              "size": 10,
              "solidity": 0.2
             }
            },
            "type": "histogram"
           }
          ],
          "histogram2d": [
           {
            "colorbar": {
             "outlinewidth": 0,
             "ticks": ""
            },
            "colorscale": [
             [
              0,
              "#0d0887"
             ],
             [
              0.1111111111111111,
              "#46039f"
             ],
             [
              0.2222222222222222,
              "#7201a8"
             ],
             [
              0.3333333333333333,
              "#9c179e"
             ],
             [
              0.4444444444444444,
              "#bd3786"
             ],
             [
              0.5555555555555556,
              "#d8576b"
             ],
             [
              0.6666666666666666,
              "#ed7953"
             ],
             [
              0.7777777777777778,
              "#fb9f3a"
             ],
             [
              0.8888888888888888,
              "#fdca26"
             ],
             [
              1,
              "#f0f921"
             ]
            ],
            "type": "histogram2d"
           }
          ],
          "histogram2dcontour": [
           {
            "colorbar": {
             "outlinewidth": 0,
             "ticks": ""
            },
            "colorscale": [
             [
              0,
              "#0d0887"
             ],
             [
              0.1111111111111111,
              "#46039f"
             ],
             [
              0.2222222222222222,
              "#7201a8"
             ],
             [
              0.3333333333333333,
              "#9c179e"
             ],
             [
              0.4444444444444444,
              "#bd3786"
             ],
             [
              0.5555555555555556,
              "#d8576b"
             ],
             [
              0.6666666666666666,
              "#ed7953"
             ],
             [
              0.7777777777777778,
              "#fb9f3a"
             ],
             [
              0.8888888888888888,
              "#fdca26"
             ],
             [
              1,
              "#f0f921"
             ]
            ],
            "type": "histogram2dcontour"
           }
          ],
          "mesh3d": [
           {
            "colorbar": {
             "outlinewidth": 0,
             "ticks": ""
            },
            "type": "mesh3d"
           }
          ],
          "parcoords": [
           {
            "line": {
             "colorbar": {
              "outlinewidth": 0,
              "ticks": ""
             }
            },
            "type": "parcoords"
           }
          ],
          "pie": [
           {
            "automargin": true,
            "type": "pie"
           }
          ],
          "scatter": [
           {
            "fillpattern": {
             "fillmode": "overlay",
             "size": 10,
             "solidity": 0.2
            },
            "type": "scatter"
           }
          ],
          "scatter3d": [
           {
            "line": {
             "colorbar": {
              "outlinewidth": 0,
              "ticks": ""
             }
            },
            "marker": {
             "colorbar": {
              "outlinewidth": 0,
              "ticks": ""
             }
            },
            "type": "scatter3d"
           }
          ],
          "scattercarpet": [
           {
            "marker": {
             "colorbar": {
              "outlinewidth": 0,
              "ticks": ""
             }
            },
            "type": "scattercarpet"
           }
          ],
          "scattergeo": [
           {
            "marker": {
             "colorbar": {
              "outlinewidth": 0,
              "ticks": ""
             }
            },
            "type": "scattergeo"
           }
          ],
          "scattergl": [
           {
            "marker": {
             "colorbar": {
              "outlinewidth": 0,
              "ticks": ""
             }
            },
            "type": "scattergl"
           }
          ],
          "scattermap": [
           {
            "marker": {
             "colorbar": {
              "outlinewidth": 0,
              "ticks": ""
             }
            },
            "type": "scattermap"
           }
          ],
          "scattermapbox": [
           {
            "marker": {
             "colorbar": {
              "outlinewidth": 0,
              "ticks": ""
             }
            },
            "type": "scattermapbox"
           }
          ],
          "scatterpolar": [
           {
            "marker": {
             "colorbar": {
              "outlinewidth": 0,
              "ticks": ""
             }
            },
            "type": "scatterpolar"
           }
          ],
          "scatterpolargl": [
           {
            "marker": {
             "colorbar": {
              "outlinewidth": 0,
              "ticks": ""
             }
            },
            "type": "scatterpolargl"
           }
          ],
          "scatterternary": [
           {
            "marker": {
             "colorbar": {
              "outlinewidth": 0,
              "ticks": ""
             }
            },
            "type": "scatterternary"
           }
          ],
          "surface": [
           {
            "colorbar": {
             "outlinewidth": 0,
             "ticks": ""
            },
            "colorscale": [
             [
              0,
              "#0d0887"
             ],
             [
              0.1111111111111111,
              "#46039f"
             ],
             [
              0.2222222222222222,
              "#7201a8"
             ],
             [
              0.3333333333333333,
              "#9c179e"
             ],
             [
              0.4444444444444444,
              "#bd3786"
             ],
             [
              0.5555555555555556,
              "#d8576b"
             ],
             [
              0.6666666666666666,
              "#ed7953"
             ],
             [
              0.7777777777777778,
              "#fb9f3a"
             ],
             [
              0.8888888888888888,
              "#fdca26"
             ],
             [
              1,
              "#f0f921"
             ]
            ],
            "type": "surface"
           }
          ],
          "table": [
           {
            "cells": {
             "fill": {
              "color": "#EBF0F8"
             },
             "line": {
              "color": "white"
             }
            },
            "header": {
             "fill": {
              "color": "#C8D4E3"
             },
             "line": {
              "color": "white"
             }
            },
            "type": "table"
           }
          ]
         },
         "layout": {
          "annotationdefaults": {
           "arrowcolor": "#2a3f5f",
           "arrowhead": 0,
           "arrowwidth": 1
          },
          "autotypenumbers": "strict",
          "coloraxis": {
           "colorbar": {
            "outlinewidth": 0,
            "ticks": ""
           }
          },
          "colorscale": {
           "diverging": [
            [
             0,
             "#8e0152"
            ],
            [
             0.1,
             "#c51b7d"
            ],
            [
             0.2,
             "#de77ae"
            ],
            [
             0.3,
             "#f1b6da"
            ],
            [
             0.4,
             "#fde0ef"
            ],
            [
             0.5,
             "#f7f7f7"
            ],
            [
             0.6,
             "#e6f5d0"
            ],
            [
             0.7,
             "#b8e186"
            ],
            [
             0.8,
             "#7fbc41"
            ],
            [
             0.9,
             "#4d9221"
            ],
            [
             1,
             "#276419"
            ]
           ],
           "sequential": [
            [
             0,
             "#0d0887"
            ],
            [
             0.1111111111111111,
             "#46039f"
            ],
            [
             0.2222222222222222,
             "#7201a8"
            ],
            [
             0.3333333333333333,
             "#9c179e"
            ],
            [
             0.4444444444444444,
             "#bd3786"
            ],
            [
             0.5555555555555556,
             "#d8576b"
            ],
            [
             0.6666666666666666,
             "#ed7953"
            ],
            [
             0.7777777777777778,
             "#fb9f3a"
            ],
            [
             0.8888888888888888,
             "#fdca26"
            ],
            [
             1,
             "#f0f921"
            ]
           ],
           "sequentialminus": [
            [
             0,
             "#0d0887"
            ],
            [
             0.1111111111111111,
             "#46039f"
            ],
            [
             0.2222222222222222,
             "#7201a8"
            ],
            [
             0.3333333333333333,
             "#9c179e"
            ],
            [
             0.4444444444444444,
             "#bd3786"
            ],
            [
             0.5555555555555556,
             "#d8576b"
            ],
            [
             0.6666666666666666,
             "#ed7953"
            ],
            [
             0.7777777777777778,
             "#fb9f3a"
            ],
            [
             0.8888888888888888,
             "#fdca26"
            ],
            [
             1,
             "#f0f921"
            ]
           ]
          },
          "colorway": [
           "#636efa",
           "#EF553B",
           "#00cc96",
           "#ab63fa",
           "#FFA15A",
           "#19d3f3",
           "#FF6692",
           "#B6E880",
           "#FF97FF",
           "#FECB52"
          ],
          "font": {
           "color": "#2a3f5f"
          },
          "geo": {
           "bgcolor": "white",
           "lakecolor": "white",
           "landcolor": "#E5ECF6",
           "showlakes": true,
           "showland": true,
           "subunitcolor": "white"
          },
          "hoverlabel": {
           "align": "left"
          },
          "hovermode": "closest",
          "mapbox": {
           "style": "light"
          },
          "paper_bgcolor": "white",
          "plot_bgcolor": "#E5ECF6",
          "polar": {
           "angularaxis": {
            "gridcolor": "white",
            "linecolor": "white",
            "ticks": ""
           },
           "bgcolor": "#E5ECF6",
           "radialaxis": {
            "gridcolor": "white",
            "linecolor": "white",
            "ticks": ""
           }
          },
          "scene": {
           "xaxis": {
            "backgroundcolor": "#E5ECF6",
            "gridcolor": "white",
            "gridwidth": 2,
            "linecolor": "white",
            "showbackground": true,
            "ticks": "",
            "zerolinecolor": "white"
           },
           "yaxis": {
            "backgroundcolor": "#E5ECF6",
            "gridcolor": "white",
            "gridwidth": 2,
            "linecolor": "white",
            "showbackground": true,
            "ticks": "",
            "zerolinecolor": "white"
           },
           "zaxis": {
            "backgroundcolor": "#E5ECF6",
            "gridcolor": "white",
            "gridwidth": 2,
            "linecolor": "white",
            "showbackground": true,
            "ticks": "",
            "zerolinecolor": "white"
           }
          },
          "shapedefaults": {
           "line": {
            "color": "#2a3f5f"
           }
          },
          "ternary": {
           "aaxis": {
            "gridcolor": "white",
            "linecolor": "white",
            "ticks": ""
           },
           "baxis": {
            "gridcolor": "white",
            "linecolor": "white",
            "ticks": ""
           },
           "bgcolor": "#E5ECF6",
           "caxis": {
            "gridcolor": "white",
            "linecolor": "white",
            "ticks": ""
           }
          },
          "title": {
           "x": 0.05
          },
          "xaxis": {
           "automargin": true,
           "gridcolor": "white",
           "linecolor": "white",
           "ticks": "",
           "title": {
            "standoff": 15
           },
           "zerolinecolor": "white",
           "zerolinewidth": 2
          },
          "yaxis": {
           "automargin": true,
           "gridcolor": "white",
           "linecolor": "white",
           "ticks": "",
           "title": {
            "standoff": 15
           },
           "zerolinecolor": "white",
           "zerolinewidth": 2
          }
         }
        },
        "title": {
         "text": "Varianza Acumulada vs. Número de Componentes"
        },
        "width": 900,
        "xaxis": {
         "title": {
          "text": "Número de Componentes"
         }
        },
        "yaxis": {
         "range": [
          0,
          1
         ],
         "title": {
          "text": "Varianza Explicada"
         }
        }
       }
      }
     },
     "metadata": {},
     "output_type": "display_data"
    }
   ],
   "source": [
    "# Visualize the distribution of the scaled features with plotly\n",
    "\n",
    "from sklearn.decomposition import PCA\n",
    "from plotly import graph_objects as go\n",
    "\n",
    "# Establecer 'Customer ID' como índice\n",
    "customer_RFM_scaled.set_index('Customer ID', inplace=True)\n",
    "\n",
    "# Aplicar PCA\n",
    "pca = PCA().fit(customer_RFM_scaled)\n",
    "explained_variance_ratio = pca.explained_variance_ratio_\n",
    "cumulative_explained_variance = np.cumsum(explained_variance_ratio)\n",
    "\n",
    "# Establecer el valor óptimo de k\n",
    "optimal_k = 3\n",
    "\n",
    "# Número de componentes\n",
    "n_components = len(explained_variance_ratio)\n",
    "\n",
    "# Crear la figura en Plotly\n",
    "fig = go.Figure(layout=dict(\n",
    "    width=900,\n",
    "    height=600\n",
    "    ))\n",
    "\n",
    "# Añadir gráfico de barras para la varianza explicada\n",
    "fig.add_trace(go.Bar(\n",
    "    x=list(range(1, n_components + 1)),\n",
    "    y=explained_variance_ratio,\n",
    "    name='Varianza Explicada',\n",
    "    marker_color='#6da7de',  # Azul claro\n",
    "    text=[f\"{ev:.2f}\" for ev in explained_variance_ratio],\n",
    "    textposition='outside'  # Coloca el texto encima de las barras\n",
    "))\n",
    "\n",
    "# Añadir gráfico de líneas para la varianza acumulada\n",
    "fig.add_trace(go.Scatter(\n",
    "    x=list(range(1, n_components + 1)),\n",
    "    y=cumulative_explained_variance,\n",
    "    name='Varianza Acumulada',\n",
    "    mode='lines+markers',\n",
    "    line=dict(color='#003f5c', dash='dash'),  # Azul oscuro, discontinuo\n",
    "    marker=dict(color='#003f5c')\n",
    "))\n",
    "\n",
    "# Añadir línea vertical para el k óptimo\n",
    "fig.add_shape(\n",
    "    type='line',\n",
    "    x0=optimal_k,\n",
    "    y0=0,\n",
    "    x1=optimal_k,\n",
    "    y1=1,\n",
    "    line=dict(color='red', dash='dash')\n",
    ")\n",
    "\n",
    "# Añadir una traza vacía para incluir la línea de k en la leyenda\n",
    "fig.add_trace(go.Scatter(\n",
    "    x=[None],\n",
    "    y=[None],\n",
    "    mode='lines',\n",
    "    line=dict(color='red', dash='dash'),\n",
    "    name=f'k Óptimo = {optimal_k}'\n",
    "))\n",
    "\n",
    "# Añadir anotaciones para la varianza acumulada\n",
    "for i, cv in enumerate(cumulative_explained_variance):\n",
    "    fig.add_annotation(\n",
    "        x=i + 1 - 0.3,  # Desplazamiento horizontal similar al original\n",
    "        y=cv + 0.01,    # Desplazamiento vertical\n",
    "        text=f\"{cv:.2f}\",\n",
    "        showarrow=False,\n",
    "        align='center'\n",
    "    )\n",
    "\n",
    "# Personalizar el diseño\n",
    "fig.update_layout(\n",
    "    title='Varianza Acumulada vs. Número de Componentes',\n",
    "    xaxis_title='Número de Componentes',\n",
    "    yaxis_title='Varianza Explicada',\n",
    "    yaxis_range=[0, 1],  # Rango del eje y de 0 a 1\n",
    "    showlegend=True,\n",
    "    legend=dict(\n",
    "        x=0.62,\n",
    "        y=0.1,\n",
    "        bgcolor='rgba(255, 255, 255, 0.5)',  # Fondo semitransparente\n",
    "        bordercolor='#003f5c'  # Borde en azul oscuro\n",
    "    ),\n",
    "    plot_bgcolor='#fcf0dc'  # Fondo similar al estilo seaborn del original\n",
    ")\n",
    "\n",
    "# Mostrar la gráfica\n",
    "fig.show()"
   ]
  },
  {
   "cell_type": "markdown",
   "metadata": {},
   "source": [
    "## Inferences\n",
    "\n",
    "A model with fewer components may be preferable to avoid overfitting. Retaining three components is a reasonable choice, as it captures 92% of the variance with fewer dimensions, facilitating interpretation and reducing model complexity."
   ]
  },
  {
   "cell_type": "code",
   "execution_count": 528,
   "metadata": {},
   "outputs": [
    {
     "name": "stdout",
     "output_type": "stream",
     "text": [
      "Varianza explicada por cada componente: [0.48421697 0.23925497 0.19652042]\n",
      "Varianza acumulada: [0.48421697 0.72347195 0.91999237]\n",
      "                  PC1       PC2       PC3\n",
      "Customer ID                              \n",
      "12346.0     -0.974153  3.068630  1.008537\n",
      "12347.0      1.127745 -1.042731 -0.000157\n",
      "12348.0     -0.150643 -0.620399 -0.007434\n",
      "12349.0     -0.247687 -0.819148 -0.576204\n",
      "12350.0     -1.718533  0.294222  1.622200\n"
     ]
    }
   ],
   "source": [
    "pca = PCA(n_components=3)\n",
    "\n",
    "# Paso 2: Ajustar el modelo PCA a los datos escalados\n",
    "pca.fit(customer_RFM_scaled)\n",
    "\n",
    "# Paso 3: Transformar los datos en los 3 componentes principales\n",
    "customer_RFM_pca_transform = pca.transform(customer_RFM_scaled)\n",
    "\n",
    "# Paso 4: Crear un DataFrame con los resultados\n",
    "pca_columns = ['PC1', 'PC2', 'PC3']  # Nombres de las columnas: Componente Principal 1, 2 y 3\n",
    "customer_RFM_pca = pd.DataFrame(data=customer_RFM_pca_transform, \n",
    "                                   columns=pca_columns, \n",
    "                                   index=customer_RFM_scaled.index)\n",
    "\n",
    "# Paso 5 (Opcional): Verificar la varianza explicada por los componentes\n",
    "explained_variance = pca.explained_variance_ratio_\n",
    "cumulative_variance = explained_variance.cumsum()\n",
    "print(\"Varianza explicada por cada componente:\", explained_variance)\n",
    "print(\"Varianza acumulada:\", cumulative_variance)\n",
    "\n",
    "# Mostrar las primeras filas del DataFrame transformado\n",
    "print(customer_RFM_pca.head())"
   ]
  },
  {
   "cell_type": "code",
   "execution_count": 529,
   "metadata": {},
   "outputs": [
    {
     "name": "stdout",
     "output_type": "stream",
     "text": [
      "      Recency  Total_Transactions  Total_Spend  Cancellation_Rate\n",
      "PC1 -0.416249            0.638557     0.592395           0.260864\n",
      "PC2  0.360984           -0.008757    -0.142721           0.921545\n",
      "PC3  0.824505            0.210478     0.462278          -0.249378\n"
     ]
    }
   ],
   "source": [
    "# Extract coefficients\n",
    "coefficients = pca.components_\n",
    "\n",
    "features_names = ['Recency', 'Total_Transactions', 'Total_Spend', 'Cancellation_Rate']\n",
    "\n",
    "coefficients_df = pd.DataFrame(\n",
    "    coefficients,\n",
    "    columns=features_names,\n",
    "    index=[f'PC{i+1}' for i in range(coefficients.shape[0])]\n",
    ")\n",
    "\n",
    "# Display the result\n",
    "print(coefficients_df)"
   ]
  },
  {
   "cell_type": "markdown",
   "metadata": {},
   "source": [
    "### Inferences\n",
    "\n",
    "- **PC1:**\n",
    "    - Positively influenced by Total_Transactions (0.64) and Total_Spend (0.59), suggesting it represents purchasing behavior (customers who buy a lot and spend more).\n",
    "    - Recency (-0.42) has a negative effect, indicating that recent customers (low recency) contribute more to this component.\n",
    "    - Cancellation_Rate (0.26) has a smaller but positive impact.\n",
    "- **PC2:**\n",
    "    - Dominated by Cancellation_Rate (0.92), indicating that this component primarily captures cancellation behavior.\n",
    "    - Recency (0.36) has a slight positive effect, suggesting that customers with high recency (inactive) tend to cancel more.\n",
    "    - Total_Transactions and Total_Spend have minimal impacts (-0.01 and -0.14).\n",
    "- **PC3:**\n",
    "    - Highly influenced by Recency (0.82), suggesting it represents customer inactivity.\n",
    "    - Total_Spend (0.46) and Total_Transactions (0.21) contribute positively, but to a lesser extent.\n",
    "    - Cancellation_Rate (-0.25) has a slight negative effect."
   ]
  },
  {
   "cell_type": "markdown",
   "metadata": {},
   "source": [
    "## Determining the Optimal Number of Clusters\n",
    "\n",
    "To ascertain the optimal number of clusters (k) for segmenting customers, I will explore two renowned methods:\n",
    "\n",
    "- **Elbow Method**\n",
    "\n",
    "- **Silhouette Method**"
   ]
  },
  {
   "cell_type": "code",
   "execution_count": 530,
   "metadata": {},
   "outputs": [
    {
     "data": {
      "image/png": "[encoded data removed]",
      "text/plain": [
       "<Figure size 1200x500 with 2 Axes>"
      ]
     },
     "metadata": {},
     "output_type": "display_data"
    }
   ],
   "source": [
    "# Elbow method to find the optimal number of clusters\n",
    "from sklearn.cluster import KMeans\n",
    "from sklearn.metrics import silhouette_score\n",
    "\n",
    "# Range of clusters to test\n",
    "range_n_clusters = range(2, 10)\n",
    "inertia = []\n",
    "silhouette_scores = []\n",
    "\n",
    "# Loop through the range of clusters\n",
    "for n_clusters in range_n_clusters:\n",
    "    kmeans = KMeans(n_clusters=n_clusters, random_state=42)\n",
    "    kmeans.fit(customer_RFM_pca)\n",
    "    \n",
    "    # Calculate inertia\n",
    "    inertia.append(kmeans.inertia_)\n",
    "    \n",
    "    # Calculate silhouette score\n",
    "    silhouette_avg = silhouette_score(customer_RFM_pca, kmeans.labels_)\n",
    "    silhouette_scores.append(silhouette_avg)\n",
    "\n",
    "# Plotting the elbow method\n",
    "plt.figure(figsize=(12, 5))\n",
    "plt.subplot(1, 2, 1)\n",
    "plt.plot(range_n_clusters, inertia, marker='o')\n",
    "plt.title('Elbow Method')\n",
    "plt.xlabel('Number of Clusters')\n",
    "plt.ylabel('Inertia')\n",
    "plt.grid()\n",
    "plt.subplot(1, 2, 2)\n",
    "plt.plot(range_n_clusters, silhouette_scores, marker='o')\n",
    "plt.title('Silhouette Score')\n",
    "plt.xlabel('Number of Clusters')\n",
    "plt.ylabel('Silhouette Score')\n",
    "plt.grid()\n",
    "plt.tight_layout()\n",
    "plt.show()"
   ]
  },
  {
   "cell_type": "markdown",
   "metadata": {},
   "source": [
    "### Inferences\n",
    "\n",
    "**Elbow: k between 4 and 5:** The exact elbow could be located at k = 4 or k = 5, because that's where the inertia stops abruptly and begins to soften.\n",
    "\n",
    "**Silhouette: k = 5 clearly wins:** Although at k = 4 the Silhouette was already high (~0.47), at k = 5 we reach the highest value (~0.48)."
   ]
  },
  {
   "cell_type": "markdown",
   "metadata": {},
   "source": [
    "## Applying Clustering KMeans"
   ]
  },
  {
   "cell_type": "code",
   "execution_count": 531,
   "metadata": {},
   "outputs": [
    {
     "data": {
      "text/html": [
       "<div>\n",
       "<style scoped>\n",
       "    .dataframe tbody tr th:only-of-type {\n",
       "        vertical-align: middle;\n",
       "    }\n",
       "\n",
       "    .dataframe tbody tr th {\n",
       "        vertical-align: top;\n",
       "    }\n",
       "\n",
       "    .dataframe thead th {\n",
       "        text-align: right;\n",
       "    }\n",
       "</style>\n",
       "<table border=\"1\" class=\"dataframe\">\n",
       "  <thead>\n",
       "    <tr style=\"text-align: right;\">\n",
       "      <th></th>\n",
       "      <th>Customer ID</th>\n",
       "      <th>Recency</th>\n",
       "      <th>Total_Transactions</th>\n",
       "      <th>Total_Products_Purchased</th>\n",
       "      <th>Total_Spend</th>\n",
       "      <th>Average_Transaction_Value</th>\n",
       "      <th>Unique_Products_Purchased</th>\n",
       "      <th>Cancellation_Frequency</th>\n",
       "      <th>Cancellation_Rate</th>\n",
       "      <th>Monthly_Spending_Mean</th>\n",
       "      <th>Monthly_Spending_Std</th>\n",
       "      <th>cluster</th>\n",
       "    </tr>\n",
       "  </thead>\n",
       "  <tbody>\n",
       "    <tr>\n",
       "      <th>0</th>\n",
       "      <td>12346.0</td>\n",
       "      <td>325</td>\n",
       "      <td>2</td>\n",
       "      <td>0</td>\n",
       "      <td>0.00</td>\n",
       "      <td>0.000000</td>\n",
       "      <td>1</td>\n",
       "      <td>1.0</td>\n",
       "      <td>0.5</td>\n",
       "      <td>0.000000</td>\n",
       "      <td>0.000000</td>\n",
       "      <td>3</td>\n",
       "    </tr>\n",
       "    <tr>\n",
       "      <th>1</th>\n",
       "      <td>12347.0</td>\n",
       "      <td>1</td>\n",
       "      <td>7</td>\n",
       "      <td>2458</td>\n",
       "      <td>4310.00</td>\n",
       "      <td>615.714286</td>\n",
       "      <td>103</td>\n",
       "      <td>0.0</td>\n",
       "      <td>0.0</td>\n",
       "      <td>615.714286</td>\n",
       "      <td>341.070789</td>\n",
       "      <td>1</td>\n",
       "    </tr>\n",
       "    <tr>\n",
       "      <th>2</th>\n",
       "      <td>12348.0</td>\n",
       "      <td>74</td>\n",
       "      <td>4</td>\n",
       "      <td>2332</td>\n",
       "      <td>1437.24</td>\n",
       "      <td>359.310000</td>\n",
       "      <td>21</td>\n",
       "      <td>0.0</td>\n",
       "      <td>0.0</td>\n",
       "      <td>359.310000</td>\n",
       "      <td>203.875689</td>\n",
       "      <td>0</td>\n",
       "    </tr>\n",
       "    <tr>\n",
       "      <th>3</th>\n",
       "      <td>12349.0</td>\n",
       "      <td>18</td>\n",
       "      <td>1</td>\n",
       "      <td>630</td>\n",
       "      <td>1457.55</td>\n",
       "      <td>1457.550000</td>\n",
       "      <td>72</td>\n",
       "      <td>0.0</td>\n",
       "      <td>0.0</td>\n",
       "      <td>1457.550000</td>\n",
       "      <td>0.000000</td>\n",
       "      <td>0</td>\n",
       "    </tr>\n",
       "    <tr>\n",
       "      <th>4</th>\n",
       "      <td>12350.0</td>\n",
       "      <td>309</td>\n",
       "      <td>1</td>\n",
       "      <td>196</td>\n",
       "      <td>294.40</td>\n",
       "      <td>294.400000</td>\n",
       "      <td>16</td>\n",
       "      <td>0.0</td>\n",
       "      <td>0.0</td>\n",
       "      <td>294.400000</td>\n",
       "      <td>0.000000</td>\n",
       "      <td>2</td>\n",
       "    </tr>\n",
       "  </tbody>\n",
       "</table>\n",
       "</div>"
      ],
      "text/plain": [
       "   Customer ID  Recency  Total_Transactions  Total_Products_Purchased  \\\n",
       "0      12346.0      325                   2                         0   \n",
       "1      12347.0        1                   7                      2458   \n",
       "2      12348.0       74                   4                      2332   \n",
       "3      12349.0       18                   1                       630   \n",
       "4      12350.0      309                   1                       196   \n",
       "\n",
       "   Total_Spend  Average_Transaction_Value  Unique_Products_Purchased  \\\n",
       "0         0.00                   0.000000                          1   \n",
       "1      4310.00                 615.714286                        103   \n",
       "2      1437.24                 359.310000                         21   \n",
       "3      1457.55                1457.550000                         72   \n",
       "4       294.40                 294.400000                         16   \n",
       "\n",
       "   Cancellation_Frequency  Cancellation_Rate  Monthly_Spending_Mean  \\\n",
       "0                     1.0                0.5               0.000000   \n",
       "1                     0.0                0.0             615.714286   \n",
       "2                     0.0                0.0             359.310000   \n",
       "3                     0.0                0.0            1457.550000   \n",
       "4                     0.0                0.0             294.400000   \n",
       "\n",
       "   Monthly_Spending_Std  cluster  \n",
       "0              0.000000        3  \n",
       "1            341.070789        1  \n",
       "2            203.875689        0  \n",
       "3              0.000000        0  \n",
       "4              0.000000        2  "
      ]
     },
     "execution_count": 531,
     "metadata": {},
     "output_type": "execute_result"
    }
   ],
   "source": [
    "from collections import Counter\n",
    "\n",
    "# Apply KMeans clustering using the optimal k\n",
    "kmeans = KMeans(n_clusters=5, init='k-means++', n_init=10, max_iter=100, random_state=42)\n",
    "kmeans.fit(customer_RFM_pca)\n",
    "\n",
    "# Get the frequency of each cluster\n",
    "cluster_frequencies = Counter(kmeans.labels_)\n",
    "\n",
    "freq_sorted = cluster_frequencies.most_common()  \n",
    "#    freq_sorted = [(3, 50), (1, 45), (4, 40), (0, 30), (2, 25)]\n",
    "\n",
    "label_mapping = {old_label: new_label for new_label, (old_label, _) in enumerate(freq_sorted)}\n",
    "#    label_mapping = {3:0, 1:1, 4:2, 0:3, 2:4}\n",
    "\n",
    "# Apply that mapping to each label generated by KMeans\n",
    "original_labels = kmeans.labels_                    # array([2, 0, 3, 3, 1, ...])\n",
    "new_labels = np.array([label_mapping[label] for label in original_labels])\n",
    "\n",
    "# Add the new labels to the original DataFrame\n",
    "customer_data_cleaned['cluster'] = new_labels\n",
    "customer_RFM_pca['cluster'] = new_labels\n",
    "\n",
    "customer_data_cleaned.head()"
   ]
  },
  {
   "cell_type": "code",
   "execution_count": 532,
   "metadata": {},
   "outputs": [
    {
     "name": "stdout",
     "output_type": "stream",
     "text": [
      "cluster\n",
      "0    1892\n",
      "1     889\n",
      "2     824\n",
      "3     585\n",
      "4     129\n",
      "Name: count, dtype: int64\n"
     ]
    }
   ],
   "source": [
    "print(customer_data_cleaned['cluster'].value_counts().sort_index())"
   ]
  },
  {
   "cell_type": "code",
   "execution_count": 533,
   "metadata": {},
   "outputs": [
    {
     "name": "stdout",
     "output_type": "stream",
     "text": [
      "K-Means Clustering Metrics:\n",
      "Silhouette Score K-Means: 0.47994847866220913\n",
      "Calinski-Harabasz Score K-Means: 3306.937724269995\n",
      "Davies-Bouldin Score K-Means: 0.8351198739594053\n"
     ]
    }
   ],
   "source": [
    "from sklearn.metrics import silhouette_score, calinski_harabasz_score, davies_bouldin_score\n",
    "\n",
    "features = customer_RFM_pca[['PC1', 'PC2', 'PC3']].values\n",
    "\n",
    "# Calcular métricas para K-Means\n",
    "kmeans_silhouette = silhouette_score(features, kmeans.labels_)\n",
    "kmeans_calinski = calinski_harabasz_score(features, kmeans.labels_)\n",
    "kmeans_davies = davies_bouldin_score(features, kmeans.labels_)\n",
    "\n",
    "# Imprimir resultados\n",
    "print(\"K-Means Clustering Metrics:\")\n",
    "print(\"Silhouette Score K-Means:\", kmeans_silhouette)\n",
    "print(\"Calinski-Harabasz Score K-Means:\", kmeans_calinski)\n",
    "print(\"Davies-Bouldin Score K-Means:\", kmeans_davies)"
   ]
  },
  {
   "cell_type": "code",
   "execution_count": 534,
   "metadata": {},
   "outputs": [
    {
     "data": {
      "application/vnd.plotly.v1+json": {
       "config": {
        "plotlyServerURL": "https://plot.ly"
       },
       "data": [
        {
         "hovertemplate": "PC1=%{x}<br>PC2=%{y}<br>PC3=%{z}<br>cluster=%{marker.color}<extra></extra>",
         "legendgroup": "",
         "marker": {
          "color": {
           "bdata": "AwEAAAIBAgICAAEAAQACAQAAAgAAAAACAAMCAAMBAQIDAgAAAAAAAQAAAAICAAABAAEBAwADAgEAAAAAAQIAAgMBAAABAAQDAQABAAIAAQAAAgAAAgEAAAMAAQMAAgMDAAMDBAEBBAABBAADAAEBAQACAQAAAwMAAAEDAAMCAwACAAADAgIAAQAAAQAAAQEAAAEBAAAAAAMAAQQAAwADAgIAAgABAAEDAgMCAQIDAwEEAAMCAgEBAwMCAAIBAQMDAAAAAwIAAAEAAQEAAQIAAAADAAEAAwECAAMAAAEABAICAAMBAQEAAAEAAQACAAAAAAABAAECAwACAwAAAQEAAAABAQMAAQABAgADAAQDAAQEBAAAAgAAAgADAAADAQAAAwABAgEEAwEAAQAAAAADBAEDAAACAAEAAAQCAgICAgIAAAABAQEAAAQCAwABAAAAAAIBAgIAAQABAwEAAAMAAAICAgIAAAMBAwADAgAAAAACAwACAwAAAQAAAgECAAACAAIAAQMBAAEAAgAAAAMDAwIBAgMAAwIBAgACAgAAAQMDAgAAAAEDAwACAAMCBAIAAAMBAQAAAAEAAQAEAgABAAADAwQBAQEAAAQDAAMAAgMBAQABAQABAgEAAAAAAwAABAICAgEAAwADAwIBAAAAAwMDAgAEAgABAwADAgEBAQAAAAQBAAEBAwAAAwIAAwAAAAMCAAABAQAEAgEAAgIAAgACAwAABAICAAAEAAIBAAMEAwABAQABAAIEAAADAQIDAQQDAwABAgMAAAEAAAECAgMCAwEAAQABAAIBAAABAAMAAAEAAQACAQADAAEAAAMAAAAAAQABAQIDAgAAAAAAAAEEAAAAAAEAAAEBAgMAAAICAwECAgACAQAAAgMBAgAAAgAAAQAAAAIDAAAAAgIEAAEEAQECAwAAAAAAAwADAAMAAgACAwAAAAIDAAICAQABAAMAAAEBAQAEAwAAAAEAAQIDAAAAAAMCAQIDAAMAAAADAAMAAAACAgMBAAMBAAIDAwAAAwAAAQIBAgMAAAIBAgMBAgAAAAIBAAAAAAQAAwMDAAEAAAADAAABAAECAAEBAAABAgIDAQQAAAMAAwAEAAADAgIDAQMDAgACAgAABAAAAAICAQMDAQEDAAAAAwIAAgABAgAAAAADAAMBAAABAAABAAIAAgQBAAMAAAABAgEAAAAAAgAAAgAAAgACAQIAAAQBAAICAgMBAAEAAAEAAAMEAgAAAAAAAQMAAwACAAECAQEBAQEAAAEAAAACAAEAAQIBAAAAAAIAAQMDAgAABAAAAwAAAgEAAgMBAgAAAQMBAAIBAgEAAgICAQACAgMCAQIAAAADAgEAAAAAAgADAwIAAgMBAQADAgAAAgACAAEBAQAAAAMDAAQBAQAAAAACAAECAAADAAACAAMCAAAAAgACAAIAAQMBAwACAAAAAAMAAAADAgACAAIBAAABAAADAAMEAwACAQEDAAAAAAABAQMCAAAAAAEEAQEBAgACAAABAAIDAQACAAIAAAEBAwAAAwIAAwMAAAADAAMCAAIDAgABAAEAAAIAAQIDAQMCAAAAAAIABAEAAgABAgAAAAEBAQEAAQACAQABAAEBAwAAAQAAAwIAAAABAQAAAgAAAAABBAEBAAICAQABAgAAAgEDAQAEAAAAAAQBAgEEAQIAAgEDAAAAAAAAAwIAAQMEAAIBAAQAAQABAwIDAQMDAQEBAwIAAAMBAAABAAAAAgEDAQAAAwECAAEBAwIDAAMCAgMAAQICAAACAAAAAAMCAQAABAACAQEBAAQDAAMCAQADAwABAQEAAQEAAQAAAgECAwABAQMDAQEAAQACAgEAAgIBAwACAgAAAwEEAAABAwADAgIAAAMBAgEDAAEBAwABAQEAAwEBAAMDAwMAAQMAAAEAAwADAwIBAAADAQAAAwMCAQMAAAACAAMCAAIAAgMAAwAAAQQCAgICAgAAAAAAAgABAwECAQABAwEBAQADAAEBAgMCAQEAAAADAAECAAEAAQMAAAACAgIAAwMDAAAAAAIAAAIBAgIDAAEAAgAAAAAAAwMCAQIAAgADAAABAwICAQAAAgMAAAADAQEAAQABAAECAwAAAAAAAAABAQQAAAACAQEBAgAAAAAAAgEAAQEAAgAAAgAAAAMBAAEDAAMAAgEDAgAAAAAAAwADAQIAAAAAAAAAAgACBAAAAgEDAwECAQADAwMAAwACAgAAAQEAAAMDAgIAAAAAAQIBAAEAAAAAAQAEAgICAAABBAACAAAEAgMAAwIBAgACAAEBAAACAQEAAQABAAAAAQAAAAACAgAAAQQEAAEBAwABAQMBAAAAAQAAAAADAAIDAAEDAQIAAAEDAAIAAgAAAAAAAwMBAgQAAAEAAgAAAAEBAgACAgAAAAICAAECAwABAAECAAMAAAQDAAADAQAAAwEDAAAAAAQDAQMCAAIDAAAAAAEAAgACAgIAAAAEAgABAQMDAAMBAAMAAAMBAAIAAAIAAAACAwIBAQEAAAEDAAEAAAIAAQABAgACAAAAAAAAAAAAAAEAAgACAAIAAwIAAAAEAAIAAAAAAgABAgEAAQEAAAMAAAADAQEAAAECAgAEAwECAQIDAAIAAAIBAQAAAgEDAAACAgABAAACBAIBAgIDAAIDAgEBAAAEAAMDAAMAAQIDAwMAAQEAAAEAAgMAAwAABAADAQIAAAADAQIBAAIBAAMDAAABAQADAAMABAIAAAICAAMAAgACAQIDAgAAAAEEAAAEAAMAAAMAAgAAAQIAAwIAAwABAgEDAgMCAgIAAQIAAgICAAMDAQEAAAACAAEEAAEAAAADAgEAAgAAAAIAAAEBAAADAAADAgEAAwABBAECAQEBAQABAgEAAAMBAAIDAgACAAEDAAIAAwACAgIAAwADAAMDAgIAAgIBAgABBAACAwABAAEAAQABAAABAQIBAwACAgIBAAACAAIDAAAAAgMAAgEBAgACAQAAAAIAAgEAAAMAAwEAAAIAAAIBAAICAgMAAAACAgIAAgAAAgQAAQMDAAABAAAAAQIBAAABAQABAAMEAAECAAEAAgICAAIEAQACAQABAAAAAQABAgEAAAEDAwIAAAACAQABAQAAAgACAQAAAQIDAAAAAAEAAAACAAACAAAAAQIAAgAAAQMDAwABAQAAAAECAAMAAQAEAQADAQEAAAMAAQMBAAAAAwAEAAMCAAMDAgAAAAADAAADAAECAAMCAAIBAgEAAwABAAAAAAEAAQAAAgABAgEAAwACAAIDAAECAAMAAAIBAAABAgMAAQMDAQICAAEBAAAAAAEDAAAEAQECAwEAAAACAAMBAAAAAAIAAgIBAQABAQACAAMBAAEAAAABAAEBAAACAQMBAAIBAAACAAADAgEBAAMDAgMAAwAEAwMDAgABAAACAAEABAAAAAEAAAEAAAECAAABAwMDAgAAAAMCAgIAAgECAAABAAEAAgACAQICAAACAwICAAEAAgAAAQIAAgIAAAABAwABAQAAAAAAAQIBAwEAAgAAAAEAAQMAAAAAAAEAAQEBAAACAAAAAgEAAQEBAAABAAIAAAAAAAIABAIAAgEAAAEAAAMAAgAAAAIAAQADAAICAAAAAgMBAgADAAACAAECAwABAgIAAAMAAAACAAEDAgAAAgIAAwIAAQAAAAMCAQAAAAQDAgAAAwACAQIBAgACAAMCAAEBAgMEAgMBBAABAAABAAAAAAABAAEAAQABAQAAAAQCAAABAgEAAAAAAAAEAwMAAgACAwEAAgAAAgMAAgEDAQADAwEBAAIDAgAAAgABAwIBAAADAQAAAgEAAgICAwEAAgEAAgMBAAMAAwEAAwADAAACAQAAAgIDAAIAAwEBAQEEAAICAAEAAAIAAAACAQIABAADAAEBAQADAAAAAAAAAAAAAAMCAgEAAAAAAAIBAgEDAAMAAAECAwACAAEAAAAAAAABAAEAAwIBAgMAAAIAAAAAAAAAAQADAAIDAAAAAAACAQACAwMAAAAAAQIDAQAAAAAAAAIDAAEAAwIAAQADAwABAAAAAgIAAAAAAgMAAwQEAgAAAgABAwADAAACAwEDAAIBAwABAAQDAAACAQIAAQMDAwADAAIDAgIAAAEAAAAAAAMAAAMAAQECAwAAAgACAQMAAAIAAgEAAQABAgEBAQADAgICAwABAwMBBAACAgECAAAAAAEABAABAQIAAAAAAQADAwIAAAICAQEEAAAAAQABBAIAAwECAQACAQACAAIABAMAAAEAAgMDAQABAQMAAAACAAIDAgIAAQAAAwECAgEDAgEAAAEBAAAABAADAQAAAAEBAgABAgAAAwAAAgAAAAEDAAIBBAABAQACAAAAAAIAAgACAAABAwQBAQQAAAACAgAAAAADAwMDAAEBAAEDAAMAAAACAAAAAgABAgADAQABAAABAQAAAwABAgAAAAIBAQAEAQIAAQAAAQADAAABAAECAQIAAQADAAABAgMCAAAAAgIBAgAAAAIAAQIAAQMBAAAAAAIBAQIDAAEBAAABAwABAAQAAAAAAAIBAAAAAAEDAwAAAQAAAwACAAMBAAIAAwEAAAIBAgEAAQEAAQABAAAAAwAAAAABAAABAQADAwMBAAACAgEBAgABAwICAwIAAgIAAwIAAQAAAgQCAgAAAQADAAAAAwABAQEAAQIDAwIAAQIBAgIDAAEAAgEAAwABAgAAAAEDAAABAgEBAgEAAQAAAgIAAAADAQAAAgAAAAEDAAQAAgAAAAIAAAAAAAAAAgAAAAABAAICAAABAAAAAQACAQAAAAAAAQIEAAAAAwEEAwAAAQACAAAAAAMDAQAEAgIAAAEAAAIBAAAAAgACAAAAAgEBAgEAAAAAAgMAAQAEAAAAAAAAAAICAgEAAAABAAQDAwICAAEAAAABAAEAAQMAAQAEAwACAAABAAMDAQIAAgABAQACAgIAAAABAAMBAgAAAQACAAMBAAIAAQECAAIAAgACAAABAgMCAgEAAQAAAAACAQABAAACAgMDAQECAAICAAADAgADAAICAQAAAAIAAAABAAABAgAAAQIBAwECBAIDAAAAAAEBAAABAgACAQMCAAEBAQEAAAIAAgABAAAAAAECAAMBAwACAAACAQMAAQMAAQEBAgEAAwEAAQAAAAABAgEDAQAEAAQCAAABAAEBAQIDAwAAAQICAQIBAAIBBAICAgAAAgIBAgEAAwABAQMBAQECAAAEAQABAQAAAwMCAQIBBAEAAAACAAIAAAECAAABAgADAgAAAAAAAgEAAAIAAAEAAwAAAQQAAQAAAQMAAAMCAAAAAAABAQACAAACAAICAQQBAgIBAgAABAMBAAECAQICAAICAgAAAAAAAQICAgACAAAAAwACAwADAAICAAIAAAAAAQACAQIAAAEAAAAAAAABAgEAAAIAAAMBAQICAAACBAAAAQACAgICAgAAAQIAAgECAAAAAgECAgMCAQAAAgAAAQMCAgIAAAAAAAAAAwADAgAAAAAAAAEAAAEAAgIDAQIAAQECAAEAAAIBAgMBAgEBAgAAAAADAgIDAAEBAAIAAQAAAAACAwQDAAICAAAEAgIAAAABAAACAQIAAwIBAwMAAQAAAAAAAAADAAMCAAEDAgMDAAABBAAAAwEDAAAAAwACAQMDAgADAwABAAICAQAAAAACAgAAAAMBAwEABAIBAQIDBAECAQIAAAACAAEAAQADAAMAAAABAAEAAAEAAwMDAQADAwMAAgIDAQA=",
           "dtype": "i1"
          },
          "coloraxis": "coloraxis",
          "symbol": "circle"
         },
         "mode": "markers",
         "name": "",
         "scene": "scene",
         "showlegend": false,
         "type": "scatter3d",
         "x": {
          "bdata": "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",
          "dtype": "f8"
         },
         "y": {
          "bdata": "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",
          "dtype": "f8"
         },
         "z": {
          "bdata": "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",
          "dtype": "f8"
         }
        }
       ],
       "layout": {
        "coloraxis": {
         "colorbar": {
          "title": {
           "text": "cluster"
          }
         },
         "colorscale": [
          [
           0,
           "#0d0887"
          ],
          [
           0.1111111111111111,
           "#46039f"
          ],
          [
           0.2222222222222222,
           "#7201a8"
          ],
          [
           0.3333333333333333,
           "#9c179e"
          ],
          [
           0.4444444444444444,
           "#bd3786"
          ],
          [
           0.5555555555555556,
           "#d8576b"
          ],
          [
           0.6666666666666666,
           "#ed7953"
          ],
          [
           0.7777777777777778,
           "#fb9f3a"
          ],
          [
           0.8888888888888888,
           "#fdca26"
          ],
          [
           1,
           "#f0f921"
          ]
         ]
        },
        "legend": {
         "tracegroupgap": 0
        },
        "margin": {
         "t": 60
        },
        "scene": {
         "domain": {
          "x": [
           0,
           1
          ],
          "y": [
           0,
           1
          ]
         },
         "xaxis": {
          "title": {
           "text": "PC1"
          }
         },
         "yaxis": {
          "title": {
           "text": "PC2"
          }
         },
         "zaxis": {
          "title": {
           "text": "PC3"
          }
         }
        },
        "template": {
         "data": {
          "bar": [
           {
            "error_x": {
             "color": "#2a3f5f"
            },
            "error_y": {
             "color": "#2a3f5f"
            },
            "marker": {
             "line": {
              "color": "#E5ECF6",
              "width": 0.5
             },
             "pattern": {
              "fillmode": "overlay",
              "size": 10,
              "solidity": 0.2
             }
            },
            "type": "bar"
           }
          ],
          "barpolar": [
           {
            "marker": {
             "line": {
              "color": "#E5ECF6",
              "width": 0.5
             },
             "pattern": {
              "fillmode": "overlay",
              "size": 10,
              "solidity": 0.2
             }
            },
            "type": "barpolar"
           }
          ],
          "carpet": [
           {
            "aaxis": {
             "endlinecolor": "#2a3f5f",
             "gridcolor": "white",
             "linecolor": "white",
             "minorgridcolor": "white",
             "startlinecolor": "#2a3f5f"
            },
            "baxis": {
             "endlinecolor": "#2a3f5f",
             "gridcolor": "white",
             "linecolor": "white",
             "minorgridcolor": "white",
             "startlinecolor": "#2a3f5f"
            },
            "type": "carpet"
           }
          ],
          "choropleth": [
           {
            "colorbar": {
             "outlinewidth": 0,
             "ticks": ""
            },
            "type": "choropleth"
           }
          ],
          "contour": [
           {
            "colorbar": {
             "outlinewidth": 0,
             "ticks": ""
            },
            "colorscale": [
             [
              0,
              "#0d0887"
             ],
             [
              0.1111111111111111,
              "#46039f"
             ],
             [
              0.2222222222222222,
              "#7201a8"
             ],
             [
              0.3333333333333333,
              "#9c179e"
             ],
             [
              0.4444444444444444,
              "#bd3786"
             ],
             [
              0.5555555555555556,
              "#d8576b"
             ],
             [
              0.6666666666666666,
              "#ed7953"
             ],
             [
              0.7777777777777778,
              "#fb9f3a"
             ],
             [
              0.8888888888888888,
              "#fdca26"
             ],
             [
              1,
              "#f0f921"
             ]
            ],
            "type": "contour"
           }
          ],
          "contourcarpet": [
           {
            "colorbar": {
             "outlinewidth": 0,
             "ticks": ""
            },
            "type": "contourcarpet"
           }
          ],
          "heatmap": [
           {
            "colorbar": {
             "outlinewidth": 0,
             "ticks": ""
            },
            "colorscale": [
             [
              0,
              "#0d0887"
             ],
             [
              0.1111111111111111,
              "#46039f"
             ],
             [
              0.2222222222222222,
              "#7201a8"
             ],
             [
              0.3333333333333333,
              "#9c179e"
             ],
             [
              0.4444444444444444,
              "#bd3786"
             ],
             [
              0.5555555555555556,
              "#d8576b"
             ],
             [
              0.6666666666666666,
              "#ed7953"
             ],
             [
              0.7777777777777778,
              "#fb9f3a"
             ],
             [
              0.8888888888888888,
              "#fdca26"
             ],
             [
              1,
              "#f0f921"
             ]
            ],
            "type": "heatmap"
           }
          ],
          "histogram": [
           {
            "marker": {
             "pattern": {
              "fillmode": "overlay",
              "size": 10,
              "solidity": 0.2
             }
            },
            "type": "histogram"
           }
          ],
          "histogram2d": [
           {
            "colorbar": {
             "outlinewidth": 0,
             "ticks": ""
            },
            "colorscale": [
             [
              0,
              "#0d0887"
             ],
             [
              0.1111111111111111,
              "#46039f"
             ],
             [
              0.2222222222222222,
              "#7201a8"
             ],
             [
              0.3333333333333333,
              "#9c179e"
             ],
             [
              0.4444444444444444,
              "#bd3786"
             ],
             [
              0.5555555555555556,
              "#d8576b"
             ],
             [
              0.6666666666666666,
              "#ed7953"
             ],
             [
              0.7777777777777778,
              "#fb9f3a"
             ],
             [
              0.8888888888888888,
              "#fdca26"
             ],
             [
              1,
              "#f0f921"
             ]
            ],
            "type": "histogram2d"
           }
          ],
          "histogram2dcontour": [
           {
            "colorbar": {
             "outlinewidth": 0,
             "ticks": ""
            },
            "colorscale": [
             [
              0,
              "#0d0887"
             ],
             [
              0.1111111111111111,
              "#46039f"
             ],
             [
              0.2222222222222222,
              "#7201a8"
             ],
             [
              0.3333333333333333,
              "#9c179e"
             ],
             [
              0.4444444444444444,
              "#bd3786"
             ],
             [
              0.5555555555555556,
              "#d8576b"
             ],
             [
              0.6666666666666666,
              "#ed7953"
             ],
             [
              0.7777777777777778,
              "#fb9f3a"
             ],
             [
              0.8888888888888888,
              "#fdca26"
             ],
             [
              1,
              "#f0f921"
             ]
            ],
            "type": "histogram2dcontour"
           }
          ],
          "mesh3d": [
           {
            "colorbar": {
             "outlinewidth": 0,
             "ticks": ""
            },
            "type": "mesh3d"
           }
          ],
          "parcoords": [
           {
            "line": {
             "colorbar": {
              "outlinewidth": 0,
              "ticks": ""
             }
            },
            "type": "parcoords"
           }
          ],
          "pie": [
           {
            "automargin": true,
            "type": "pie"
           }
          ],
          "scatter": [
           {
            "fillpattern": {
             "fillmode": "overlay",
             "size": 10,
             "solidity": 0.2
            },
            "type": "scatter"
           }
          ],
          "scatter3d": [
           {
            "line": {
             "colorbar": {
              "outlinewidth": 0,
              "ticks": ""
             }
            },
            "marker": {
             "colorbar": {
              "outlinewidth": 0,
              "ticks": ""
             }
            },
            "type": "scatter3d"
           }
          ],
          "scattercarpet": [
           {
            "marker": {
             "colorbar": {
              "outlinewidth": 0,
              "ticks": ""
             }
            },
            "type": "scattercarpet"
           }
          ],
          "scattergeo": [
           {
            "marker": {
             "colorbar": {
              "outlinewidth": 0,
              "ticks": ""
             }
            },
            "type": "scattergeo"
           }
          ],
          "scattergl": [
           {
            "marker": {
             "colorbar": {
              "outlinewidth": 0,
              "ticks": ""
             }
            },
            "type": "scattergl"
           }
          ],
          "scattermap": [
           {
            "marker": {
             "colorbar": {
              "outlinewidth": 0,
              "ticks": ""
             }
            },
            "type": "scattermap"
           }
          ],
          "scattermapbox": [
           {
            "marker": {
             "colorbar": {
              "outlinewidth": 0,
              "ticks": ""
             }
            },
            "type": "scattermapbox"
           }
          ],
          "scatterpolar": [
           {
            "marker": {
             "colorbar": {
              "outlinewidth": 0,
              "ticks": ""
             }
            },
            "type": "scatterpolar"
           }
          ],
          "scatterpolargl": [
           {
            "marker": {
             "colorbar": {
              "outlinewidth": 0,
              "ticks": ""
             }
            },
            "type": "scatterpolargl"
           }
          ],
          "scatterternary": [
           {
            "marker": {
             "colorbar": {
              "outlinewidth": 0,
              "ticks": ""
             }
            },
            "type": "scatterternary"
           }
          ],
          "surface": [
           {
            "colorbar": {
             "outlinewidth": 0,
             "ticks": ""
            },
            "colorscale": [
             [
              0,
              "#0d0887"
             ],
             [
              0.1111111111111111,
              "#46039f"
             ],
             [
              0.2222222222222222,
              "#7201a8"
             ],
             [
              0.3333333333333333,
              "#9c179e"
             ],
             [
              0.4444444444444444,
              "#bd3786"
             ],
             [
              0.5555555555555556,
              "#d8576b"
             ],
             [
              0.6666666666666666,
              "#ed7953"
             ],
             [
              0.7777777777777778,
              "#fb9f3a"
             ],
             [
              0.8888888888888888,
              "#fdca26"
             ],
             [
              1,
              "#f0f921"
             ]
            ],
            "type": "surface"
           }
          ],
          "table": [
           {
            "cells": {
             "fill": {
              "color": "#EBF0F8"
             },
             "line": {
              "color": "white"
             }
            },
            "header": {
             "fill": {
              "color": "#C8D4E3"
             },
             "line": {
              "color": "white"
             }
            },
            "type": "table"
           }
          ]
         },
         "layout": {
          "annotationdefaults": {
           "arrowcolor": "#2a3f5f",
           "arrowhead": 0,
           "arrowwidth": 1
          },
          "autotypenumbers": "strict",
          "coloraxis": {
           "colorbar": {
            "outlinewidth": 0,
            "ticks": ""
           }
          },
          "colorscale": {
           "diverging": [
            [
             0,
             "#8e0152"
            ],
            [
             0.1,
             "#c51b7d"
            ],
            [
             0.2,
             "#de77ae"
            ],
            [
             0.3,
             "#f1b6da"
            ],
            [
             0.4,
             "#fde0ef"
            ],
            [
             0.5,
             "#f7f7f7"
            ],
            [
             0.6,
             "#e6f5d0"
            ],
            [
             0.7,
             "#b8e186"
            ],
            [
             0.8,
             "#7fbc41"
            ],
            [
             0.9,
             "#4d9221"
            ],
            [
             1,
             "#276419"
            ]
           ],
           "sequential": [
            [
             0,
             "#0d0887"
            ],
            [
             0.1111111111111111,
             "#46039f"
            ],
            [
             0.2222222222222222,
             "#7201a8"
            ],
            [
             0.3333333333333333,
             "#9c179e"
            ],
            [
             0.4444444444444444,
             "#bd3786"
            ],
            [
             0.5555555555555556,
             "#d8576b"
            ],
            [
             0.6666666666666666,
             "#ed7953"
            ],
            [
             0.7777777777777778,
             "#fb9f3a"
            ],
            [
             0.8888888888888888,
             "#fdca26"
            ],
            [
             1,
             "#f0f921"
            ]
           ],
           "sequentialminus": [
            [
             0,
             "#0d0887"
            ],
            [
             0.1111111111111111,
             "#46039f"
            ],
            [
             0.2222222222222222,
             "#7201a8"
            ],
            [
             0.3333333333333333,
             "#9c179e"
            ],
            [
             0.4444444444444444,
             "#bd3786"
            ],
            [
             0.5555555555555556,
             "#d8576b"
            ],
            [
             0.6666666666666666,
             "#ed7953"
            ],
            [
             0.7777777777777778,
             "#fb9f3a"
            ],
            [
             0.8888888888888888,
             "#fdca26"
            ],
            [
             1,
             "#f0f921"
            ]
           ]
          },
          "colorway": [
           "#636efa",
           "#EF553B",
           "#00cc96",
           "#ab63fa",
           "#FFA15A",
           "#19d3f3",
           "#FF6692",
           "#B6E880",
           "#FF97FF",
           "#FECB52"
          ],
          "font": {
           "color": "#2a3f5f"
          },
          "geo": {
           "bgcolor": "white",
           "lakecolor": "white",
           "landcolor": "#E5ECF6",
           "showlakes": true,
           "showland": true,
           "subunitcolor": "white"
          },
          "hoverlabel": {
           "align": "left"
          },
          "hovermode": "closest",
          "mapbox": {
           "style": "light"
          },
          "paper_bgcolor": "white",
          "plot_bgcolor": "#E5ECF6",
          "polar": {
           "angularaxis": {
            "gridcolor": "white",
            "linecolor": "white",
            "ticks": ""
           },
           "bgcolor": "#E5ECF6",
           "radialaxis": {
            "gridcolor": "white",
            "linecolor": "white",
            "ticks": ""
           }
          },
          "scene": {
           "xaxis": {
            "backgroundcolor": "#E5ECF6",
            "gridcolor": "white",
            "gridwidth": 2,
            "linecolor": "white",
            "showbackground": true,
            "ticks": "",
            "zerolinecolor": "white"
           },
           "yaxis": {
            "backgroundcolor": "#E5ECF6",
            "gridcolor": "white",
            "gridwidth": 2,
            "linecolor": "white",
            "showbackground": true,
            "ticks": "",
            "zerolinecolor": "white"
           },
           "zaxis": {
            "backgroundcolor": "#E5ECF6",
            "gridcolor": "white",
            "gridwidth": 2,
            "linecolor": "white",
            "showbackground": true,
            "ticks": "",
            "zerolinecolor": "white"
           }
          },
          "shapedefaults": {
           "line": {
            "color": "#2a3f5f"
           }
          },
          "ternary": {
           "aaxis": {
            "gridcolor": "white",
            "linecolor": "white",
            "ticks": ""
           },
           "baxis": {
            "gridcolor": "white",
            "linecolor": "white",
            "ticks": ""
           },
           "bgcolor": "#E5ECF6",
           "caxis": {
            "gridcolor": "white",
            "linecolor": "white",
            "ticks": ""
           }
          },
          "title": {
           "x": 0.05
          },
          "xaxis": {
           "automargin": true,
           "gridcolor": "white",
           "linecolor": "white",
           "ticks": "",
           "title": {
            "standoff": 15
           },
           "zerolinecolor": "white",
           "zerolinewidth": 2
          },
          "yaxis": {
           "automargin": true,
           "gridcolor": "white",
           "linecolor": "white",
           "ticks": "",
           "title": {
            "standoff": 15
           },
           "zerolinecolor": "white",
           "zerolinewidth": 2
          }
         }
        }
       }
      }
     },
     "metadata": {},
     "output_type": "display_data"
    }
   ],
   "source": [
    "import plotly.express as px\n",
    "fig = px.scatter_3d(customer_RFM_pca, x='PC1', y='PC2', z='PC3', color='cluster')\n",
    "fig.show()"
   ]
  },
  {
   "cell_type": "code",
   "execution_count": 535,
   "metadata": {},
   "outputs": [
    {
     "name": "stdout",
     "output_type": "stream",
     "text": [
      "            Recency  Total_Transactions   Total_Spend  Cancellation_Rate\n",
      "cluster                                                                 \n",
      "0         49.567125            2.466702    756.139107           0.000176\n",
      "1         24.745782            9.213723   2801.458751           0.180999\n",
      "2        254.515777            1.458738    384.803689           0.005889\n",
      "3        111.505983            3.671795    759.997145           0.442131\n",
      "4         11.000000           26.705426  11888.380078           0.180737\n"
     ]
    }
   ],
   "source": [
    "print(customer_data_cleaned.groupby('cluster')[['Recency', 'Total_Transactions', 'Total_Spend', 'Cancellation_Rate']].mean())"
   ]
  }
 ],
 "metadata": {
  "kernelspec": {
   "display_name": "env",
   "language": "python",
   "name": "python3"
  },
  "language_info": {
   "codemirror_mode": {
    "name": "ipython",
    "version": 3
   },
   "file_extension": ".py",
   "mimetype": "text/x-python",
   "name": "python",
   "nbconvert_exporter": "python",
   "pygments_lexer": "ipython3",
   "version": "3.12.2"
  }
 },
 "nbformat": 4,
 "nbformat_minor": 2
}
