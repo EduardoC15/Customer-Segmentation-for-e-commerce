{
 "cells": [
  {
   "cell_type": "markdown",
   "metadata": {},
   "source": [
    "# Customer RFM Segmentation for E-Commerce\n",
    "\n",
    "In this project, we explore the dynamic world of online retail by examining a transactional dataset from a UK-based retailer, sourced from the UCI Machine Learning Repository.\n",
    "\n",
    "### Opportunity\n",
    "\n",
    "The dataset encompasses transactions recorded between 2010 and 2011. Our main goal is to enhance marketing effectiveness and increase sales through customer segmentation. To achieve this, we transform the raw transactional data into a customer-focused format by engineering new features that support the identification of distinct customer segments using clustering algorithms.\n",
    "\n",
    "This segmentation enables us to uncover unique customer profiles and gain insights into their behaviors and preferences.\n",
    "\n"
   ]
  },
  {
   "cell_type": "markdown",
   "metadata": {},
   "source": [
    "### **Dataset Description:**\n",
    "\n",
    "The dataset consist of 541,909 entries and 8 columns.\n",
    "\n",
    "| **Column**    | **Description**                                                                                   |\n",
    "|----------------|---------------------------------------------------------------------------------------------------|\n",
    "| Invoice        | Code representing each unique transaction. If this code starts with letter 'C', it indicates a cancellation. |\n",
    "| StockCode      | Code uniquely assigned to each distinct product.                                                  |\n",
    "| Description    | Description of each product.                                                                      |\n",
    "| Quantity       | The number of units of a product in a transaction.                                                |\n",
    "| InvoiceDate    | The date and time of the transaction.                                                             |\n",
    "| Price          | The unit price of the product in sterling.                                                        |\n",
    "| Customer ID     | Identifier uniquely assigned to each customer.                                                   |\n",
    "| Country        | The country where each transaction took place.                                                   |\n"
   ]
  },
  {
   "cell_type": "markdown",
   "metadata": {},
   "source": [
    "## Setup and Initialization"
   ]
  },
  {
   "cell_type": "code",
   "execution_count": 1213,
   "metadata": {},
   "outputs": [],
   "source": [
    "# Importing necessary libraries\n",
    "import pandas as pd\n",
    "import numpy as np\n",
    "import matplotlib.pyplot as plt\n",
    "from plotly.offline import iplot\n",
    "\n",
    "import warnings\n",
    "warnings.filterwarnings('ignore')"
   ]
  },
  {
   "cell_type": "markdown",
   "metadata": {},
   "source": [
    "## Initial Data Analysis"
   ]
  },
  {
   "cell_type": "code",
   "execution_count": 1214,
   "metadata": {},
   "outputs": [
    {
     "data": {
      "text/html": [
       "<div>\n",
       "<style scoped>\n",
       "    .dataframe tbody tr th:only-of-type {\n",
       "        vertical-align: middle;\n",
       "    }\n",
       "\n",
       "    .dataframe tbody tr th {\n",
       "        vertical-align: top;\n",
       "    }\n",
       "\n",
       "    .dataframe thead th {\n",
       "        text-align: right;\n",
       "    }\n",
       "</style>\n",
       "<table border=\"1\" class=\"dataframe\">\n",
       "  <thead>\n",
       "    <tr style=\"text-align: right;\">\n",
       "      <th></th>\n",
       "      <th>Invoice</th>\n",
       "      <th>StockCode</th>\n",
       "      <th>Description</th>\n",
       "      <th>Quantity</th>\n",
       "      <th>InvoiceDate</th>\n",
       "      <th>Price</th>\n",
       "      <th>Customer ID</th>\n",
       "      <th>Country</th>\n",
       "    </tr>\n",
       "  </thead>\n",
       "  <tbody>\n",
       "    <tr>\n",
       "      <th>0</th>\n",
       "      <td>536365</td>\n",
       "      <td>85123A</td>\n",
       "      <td>WHITE HANGING HEART T-LIGHT HOLDER</td>\n",
       "      <td>6</td>\n",
       "      <td>2010-12-01 08:26:00</td>\n",
       "      <td>2.55</td>\n",
       "      <td>17850.0</td>\n",
       "      <td>United Kingdom</td>\n",
       "    </tr>\n",
       "    <tr>\n",
       "      <th>1</th>\n",
       "      <td>536365</td>\n",
       "      <td>71053</td>\n",
       "      <td>WHITE METAL LANTERN</td>\n",
       "      <td>6</td>\n",
       "      <td>2010-12-01 08:26:00</td>\n",
       "      <td>3.39</td>\n",
       "      <td>17850.0</td>\n",
       "      <td>United Kingdom</td>\n",
       "    </tr>\n",
       "    <tr>\n",
       "      <th>2</th>\n",
       "      <td>536365</td>\n",
       "      <td>84406B</td>\n",
       "      <td>CREAM CUPID HEARTS COAT HANGER</td>\n",
       "      <td>8</td>\n",
       "      <td>2010-12-01 08:26:00</td>\n",
       "      <td>2.75</td>\n",
       "      <td>17850.0</td>\n",
       "      <td>United Kingdom</td>\n",
       "    </tr>\n",
       "    <tr>\n",
       "      <th>3</th>\n",
       "      <td>536365</td>\n",
       "      <td>84029G</td>\n",
       "      <td>KNITTED UNION FLAG HOT WATER BOTTLE</td>\n",
       "      <td>6</td>\n",
       "      <td>2010-12-01 08:26:00</td>\n",
       "      <td>3.39</td>\n",
       "      <td>17850.0</td>\n",
       "      <td>United Kingdom</td>\n",
       "    </tr>\n",
       "    <tr>\n",
       "      <th>4</th>\n",
       "      <td>536365</td>\n",
       "      <td>84029E</td>\n",
       "      <td>RED WOOLLY HOTTIE WHITE HEART.</td>\n",
       "      <td>6</td>\n",
       "      <td>2010-12-01 08:26:00</td>\n",
       "      <td>3.39</td>\n",
       "      <td>17850.0</td>\n",
       "      <td>United Kingdom</td>\n",
       "    </tr>\n",
       "  </tbody>\n",
       "</table>\n",
       "</div>"
      ],
      "text/plain": [
       "  Invoice StockCode                          Description  Quantity  \\\n",
       "0  536365    85123A   WHITE HANGING HEART T-LIGHT HOLDER         6   \n",
       "1  536365     71053                  WHITE METAL LANTERN         6   \n",
       "2  536365    84406B       CREAM CUPID HEARTS COAT HANGER         8   \n",
       "3  536365    84029G  KNITTED UNION FLAG HOT WATER BOTTLE         6   \n",
       "4  536365    84029E       RED WOOLLY HOTTIE WHITE HEART.         6   \n",
       "\n",
       "          InvoiceDate  Price  Customer ID         Country  \n",
       "0 2010-12-01 08:26:00   2.55      17850.0  United Kingdom  \n",
       "1 2010-12-01 08:26:00   3.39      17850.0  United Kingdom  \n",
       "2 2010-12-01 08:26:00   2.75      17850.0  United Kingdom  \n",
       "3 2010-12-01 08:26:00   3.39      17850.0  United Kingdom  \n",
       "4 2010-12-01 08:26:00   3.39      17850.0  United Kingdom  "
      ]
     },
     "execution_count": 1214,
     "metadata": {},
     "output_type": "execute_result"
    }
   ],
   "source": [
    "# Load the dataset and dataset overview\n",
    "df = pd.read_excel('online_retail_II.xlsx', sheet_name='Year 2010-2011')\n",
    "df.head()"
   ]
  },
  {
   "cell_type": "code",
   "execution_count": 1215,
   "metadata": {},
   "outputs": [
    {
     "name": "stdout",
     "output_type": "stream",
     "text": [
      "<class 'pandas.core.frame.DataFrame'>\n",
      "RangeIndex: 541910 entries, 0 to 541909\n",
      "Data columns (total 8 columns):\n",
      " #   Column       Non-Null Count   Dtype         \n",
      "---  ------       --------------   -----         \n",
      " 0   Invoice      541910 non-null  object        \n",
      " 1   StockCode    541910 non-null  object        \n",
      " 2   Description  540456 non-null  object        \n",
      " 3   Quantity     541910 non-null  int64         \n",
      " 4   InvoiceDate  541910 non-null  datetime64[ns]\n",
      " 5   Price        541910 non-null  float64       \n",
      " 6   Customer ID  406830 non-null  float64       \n",
      " 7   Country      541910 non-null  object        \n",
      "dtypes: datetime64[ns](1), float64(2), int64(1), object(4)\n",
      "memory usage: 33.1+ MB\n"
     ]
    }
   ],
   "source": [
    "df.info()"
   ]
  },
  {
   "cell_type": "markdown",
   "metadata": {},
   "source": [
    "## Data Cleaning and Transformation\n",
    "\n",
    "### Handling Missing Values"
   ]
  },
  {
   "cell_type": "code",
   "execution_count": 1216,
   "metadata": {},
   "outputs": [
    {
     "data": {
      "text/plain": [
       "Customer ID    24.926648\n",
       "Description     0.268310\n",
       "dtype: float64"
      ]
     },
     "execution_count": 1216,
     "metadata": {},
     "output_type": "execute_result"
    }
   ],
   "source": [
    "# Percetage of missing values\n",
    "missing_percentage = df[['Customer ID', 'Description']].isnull() \\\n",
    "    .mean() * 100\n",
    "\n",
    "missing_percentage"
   ]
  },
  {
   "cell_type": "code",
   "execution_count": 1217,
   "metadata": {},
   "outputs": [],
   "source": [
    "# Saving the missing values to a CSV file\n",
    "missing_values = df[['Customer ID', 'Description']].isnull().to_csv('missing_values.csv', index=False)\n",
    "\n",
    "# Drop missing values\n",
    "df.dropna(inplace = True)"
   ]
  },
  {
   "cell_type": "markdown",
   "metadata": {},
   "source": [
    "**Customer ID (24.93% missing values) and Description (0.27% missing values)** \n",
    "- Both columns are essential for clustering customers. Therefore, missing values in the dataset are removed."
   ]
  },
  {
   "cell_type": "markdown",
   "metadata": {},
   "source": [
    "### Handling Duplicates"
   ]
  },
  {
   "cell_type": "code",
   "execution_count": 1218,
   "metadata": {},
   "outputs": [
    {
     "name": "stdout",
     "output_type": "stream",
     "text": [
      "The dataset contains 5225 duplicate rows that need to be removed.\n"
     ]
    }
   ],
   "source": [
    "# Displaying the number of duplicate rows\n",
    "print(f\"The dataset contains {df.duplicated().sum()} duplicate rows that need to be removed.\")"
   ]
  },
  {
   "cell_type": "code",
   "execution_count": 1219,
   "metadata": {},
   "outputs": [
    {
     "name": "stdout",
     "output_type": "stream",
     "text": [
      "<class 'pandas.core.frame.DataFrame'>\n",
      "Index: 401605 entries, 0 to 541909\n",
      "Data columns (total 8 columns):\n",
      " #   Column       Non-Null Count   Dtype         \n",
      "---  ------       --------------   -----         \n",
      " 0   Invoice      401605 non-null  object        \n",
      " 1   StockCode    401605 non-null  object        \n",
      " 2   Description  401605 non-null  object        \n",
      " 3   Quantity     401605 non-null  int64         \n",
      " 4   InvoiceDate  401605 non-null  datetime64[ns]\n",
      " 5   Price        401605 non-null  float64       \n",
      " 6   Customer ID  401605 non-null  float64       \n",
      " 7   Country      401605 non-null  object        \n",
      "dtypes: datetime64[ns](1), float64(2), int64(1), object(4)\n",
      "memory usage: 27.6+ MB\n"
     ]
    }
   ],
   "source": [
    "# Drop duplicated rows\n",
    "df.drop_duplicates(inplace = True)\n",
    "df.info()"
   ]
  },
  {
   "cell_type": "markdown",
   "metadata": {},
   "source": [
    "**10,062 Duplicates rows**\n",
    "- The presence of identical transaction times, suggests that these might be data recording errors rather than genuine repeated transactions. Therefore, duplicate rows must be removed."
   ]
  },
  {
   "cell_type": "markdown",
   "metadata": {},
   "source": [
    "### Identifying Stock Codes"
   ]
  },
  {
   "cell_type": "code",
   "execution_count": 1220,
   "metadata": {},
   "outputs": [
    {
     "name": "stdout",
     "output_type": "stream",
     "text": [
      "Number of unique StockCodes: 3684\n"
     ]
    }
   ],
   "source": [
    "# Number of unique StockCodes\n",
    "nunique_stock_codes = df['StockCode'].nunique()\n",
    "print(f\"Number of unique StockCodes: {nunique_stock_codes}\")"
   ]
  },
  {
   "cell_type": "code",
   "execution_count": 1221,
   "metadata": {},
   "outputs": [
    {
     "data": {
      "image/png": "[encoded data removed]",
      "text/plain": [
       "<Figure size 1200x500 with 1 Axes>"
      ]
     },
     "metadata": {},
     "output_type": "display_data"
    }
   ],
   "source": [
    "# Finding the top 10 most frequent stock codes\n",
    "top_10_stock_codes = df['StockCode'].value_counts(normalize=True).head(10) * 100\n",
    "\n",
    "# Plotting the top 10 most frequent stock codes\n",
    "plt.figure(figsize=(12, 5))\n",
    "top_10_stock_codes.plot(kind='barh', color='#1C9BF9')\n",
    "\n",
    "# Adding the percentage frequency on the bars\n",
    "for index, value in enumerate(top_10_stock_codes):\n",
    "    plt.text(value, index+0.25, f'{value:.2f}%', fontsize=10)\n",
    "\n",
    "plt.title('Top 10 Most Frequent Stock Codes')\n",
    "plt.xlabel('Percentage Frequency (%)')\n",
    "plt.ylabel('Stock Codes')\n",
    "plt.gca().invert_yaxis()\n",
    "plt.show()"
   ]
  },
  {
   "cell_type": "code",
   "execution_count": 1222,
   "metadata": {},
   "outputs": [
    {
     "data": {
      "text/plain": [
       "5    3676\n",
       "0       7\n",
       "1       1\n",
       "Name: count, dtype: int64"
      ]
     },
     "execution_count": 1222,
     "metadata": {},
     "output_type": "execute_result"
    }
   ],
   "source": [
    "# Values of numeric characteres in unique stock codes\n",
    "unique_stock_codes = df['StockCode'].unique()\n",
    "numeric_char_counts_in_unique_codes = pd.Series(unique_stock_codes).apply(lambda x: sum(c.isdigit() for c in str(x))).value_counts()\n",
    "numeric_char_counts_in_unique_codes"
   ]
  },
  {
   "cell_type": "code",
   "execution_count": 1223,
   "metadata": {},
   "outputs": [
    {
     "name": "stdout",
     "output_type": "stream",
     "text": [
      "POST\n",
      "D\n",
      "C2\n",
      "M\n",
      "BANK CHARGES\n",
      "PADS\n",
      "DOT\n",
      "CRUK\n"
     ]
    }
   ],
   "source": [
    "# Anomalous stock codes\n",
    "anomalous_stock_codes = [code for code in unique_stock_codes if sum(c.isdigit() for c in str(code)) in (0, 1)]\n",
    "\n",
    "for code in anomalous_stock_codes:\n",
    "    print(code)"
   ]
  },
  {
   "cell_type": "code",
   "execution_count": 1224,
   "metadata": {},
   "outputs": [
    {
     "name": "stdout",
     "output_type": "stream",
     "text": [
      "Percentage of records with anomalous stock codes: 0.48%\n"
     ]
    }
   ],
   "source": [
    "# Calculating the percentage of records with anomalous stock codes\n",
    "percentage_anomalous_stock_codes = len(df[df['StockCode'].isin(anomalous_stock_codes)]) / len(df) * 100\n",
    "print(f\"Percentage of records with anomalous stock codes: {percentage_anomalous_stock_codes:.2f}%\")"
   ]
  },
  {
   "cell_type": "code",
   "execution_count": 1225,
   "metadata": {},
   "outputs": [
    {
     "data": {
      "text/plain": [
       "399689"
      ]
     },
     "execution_count": 1225,
     "metadata": {},
     "output_type": "execute_result"
    }
   ],
   "source": [
    "# Removing rows with anomalous stock codes\n",
    "df = df[~df['StockCode'].isin(anomalous_stock_codes)]\n",
    "\n",
    "len(df)"
   ]
  },
  {
   "cell_type": "markdown",
   "metadata": {},
   "source": [
    "### Inferences on Stock Codes:\n",
    "\n",
    "- **Product Variety:** The dataset contains 3684 unique stock codes. This diversity can potentially lead to the identification of distinct customers clusters, with preferences for different types of products.\n",
    "\n",
    "- **Most Frequent Stock Codes:** A closer look at the top 10 most frequent stock codes can offer insights into the popular products or categories that are frequently purchased by customers.\n",
    "\n",
    "- **Stock Codes Anomalies:** We observe that while most stock codes are composed of 5 or 6 characters, there are some anomalies like the code 'BANK CHANGES', 'POST' (perhaps postage fees) These anomalies might represent services or non-product transactions rather than actual products.\n",
    "\n",
    "- **Percentage of records with anomalous Stock Codes:** Only 0.48%, have anomalous stock codes, which deviate from the typical format observed in the majority of the data.\n",
    "\n",
    "We remove the anomalous stock codes since there's a negligible amount of stock codes"
   ]
  },
  {
   "cell_type": "markdown",
   "metadata": {},
   "source": [
    "### Handling Cancelled Transactions"
   ]
  },
  {
   "cell_type": "code",
   "execution_count": 1226,
   "metadata": {},
   "outputs": [
    {
     "data": {
      "text/html": [
       "<div>\n",
       "<style scoped>\n",
       "    .dataframe tbody tr th:only-of-type {\n",
       "        vertical-align: middle;\n",
       "    }\n",
       "\n",
       "    .dataframe tbody tr th {\n",
       "        vertical-align: top;\n",
       "    }\n",
       "\n",
       "    .dataframe thead th {\n",
       "        text-align: right;\n",
       "    }\n",
       "</style>\n",
       "<table border=\"1\" class=\"dataframe\">\n",
       "  <thead>\n",
       "    <tr style=\"text-align: right;\">\n",
       "      <th></th>\n",
       "      <th>Quantity</th>\n",
       "      <th>Price</th>\n",
       "    </tr>\n",
       "  </thead>\n",
       "  <tbody>\n",
       "    <tr>\n",
       "      <th>count</th>\n",
       "      <td>8506.000000</td>\n",
       "      <td>8506.000000</td>\n",
       "    </tr>\n",
       "    <tr>\n",
       "      <th>mean</th>\n",
       "      <td>-31.473195</td>\n",
       "      <td>4.440148</td>\n",
       "    </tr>\n",
       "    <tr>\n",
       "      <th>min</th>\n",
       "      <td>-80995.000000</td>\n",
       "      <td>0.030000</td>\n",
       "    </tr>\n",
       "    <tr>\n",
       "      <th>25%</th>\n",
       "      <td>-6.000000</td>\n",
       "      <td>1.450000</td>\n",
       "    </tr>\n",
       "    <tr>\n",
       "      <th>50%</th>\n",
       "      <td>-2.000000</td>\n",
       "      <td>2.550000</td>\n",
       "    </tr>\n",
       "    <tr>\n",
       "      <th>75%</th>\n",
       "      <td>-1.000000</td>\n",
       "      <td>4.950000</td>\n",
       "    </tr>\n",
       "    <tr>\n",
       "      <th>max</th>\n",
       "      <td>-1.000000</td>\n",
       "      <td>295.000000</td>\n",
       "    </tr>\n",
       "    <tr>\n",
       "      <th>std</th>\n",
       "      <td>1197.051599</td>\n",
       "      <td>9.199140</td>\n",
       "    </tr>\n",
       "  </tbody>\n",
       "</table>\n",
       "</div>"
      ],
      "text/plain": [
       "           Quantity        Price\n",
       "count   8506.000000  8506.000000\n",
       "mean     -31.473195     4.440148\n",
       "min   -80995.000000     0.030000\n",
       "25%       -6.000000     1.450000\n",
       "50%       -2.000000     2.550000\n",
       "75%       -1.000000     4.950000\n",
       "max       -1.000000   295.000000\n",
       "std     1197.051599     9.199140"
      ]
     },
     "execution_count": 1226,
     "metadata": {},
     "output_type": "execute_result"
    }
   ],
   "source": [
    "# Filter out the rows with Invoice values that start with 'C' and create a new column 'Transaction_Status' indicating the status of the transaction\n",
    "df['Transaction_Status'] = np.where(df['Invoice'].astype(str).str.startswith('C'), 'Cancelled', 'Completed')\n",
    "\n",
    "# Analyze the 'Cancelled' transactions\n",
    "cancelled_transactions = df[df['Transaction_Status'] == 'Cancelled']\n",
    "cancelled_transactions.describe().drop(['Customer ID', 'InvoiceDate'], axis=1)"
   ]
  },
  {
   "cell_type": "code",
   "execution_count": 1227,
   "metadata": {},
   "outputs": [
    {
     "data": {
      "text/plain": [
       "2.128154640232781"
      ]
     },
     "execution_count": 1227,
     "metadata": {},
     "output_type": "execute_result"
    }
   ],
   "source": [
    "# Cancelled transactions percentage\n",
    "cancelled_percentage = (cancelled_transactions.shape[0] / df.shape[0]) * 100\n",
    "cancelled_percentage"
   ]
  },
  {
   "cell_type": "markdown",
   "metadata": {},
   "source": [
    "### Inferences\n",
    "\n",
    "The strategy is to retain these cancelled transactions in the dataset, marking them distinctly to facilitate further analysis. This approach will enhance the clustering process by incorporating patterns and trends observed in cancellation data, which might represent certain customer behaviors or preferences."
   ]
  },
  {
   "cell_type": "markdown",
   "metadata": {},
   "source": [
    "### Cleaning Description Column"
   ]
  },
  {
   "cell_type": "code",
   "execution_count": 1228,
   "metadata": {},
   "outputs": [
    {
     "data": {
      "image/png": "[encoded data removed]",
      "text/plain": [
       "<Figure size 1200x800 with 1 Axes>"
      ]
     },
     "metadata": {},
     "output_type": "display_data"
    }
   ],
   "source": [
    "# Calculate the occurrence of each unique description and sort them\n",
    "description_counts = df['Description'].value_counts()\n",
    "\n",
    "# Get the top 30 descriptions\n",
    "top_30_descriptions = description_counts[:30]\n",
    "\n",
    "# Plotting\n",
    "plt.figure(figsize=(12,8))\n",
    "plt.barh(top_30_descriptions.index[::-1], top_30_descriptions.values[::-1], color='#1C9BF9')\n",
    "\n",
    "# Adding labels and title\n",
    "plt.xlabel('Number of Occurrences')\n",
    "plt.ylabel('Description')\n",
    "plt.title('Top 30 Most Frequent Descriptions')\n",
    "\n",
    "# Show the plot\n",
    "plt.show()"
   ]
  },
  {
   "cell_type": "code",
   "execution_count": 1229,
   "metadata": {},
   "outputs": [
    {
     "name": "stdout",
     "output_type": "stream",
     "text": [
      "Unique descriptions containing lowercase letters:\n",
      "--------------------------------------------------\n",
      "BAG 500g SWIRLY MARBLES\n",
      "POLYESTER FILLER PAD 45x45cm\n",
      "POLYESTER FILLER PAD 45x30cm\n",
      "POLYESTER FILLER PAD 40x40cm\n",
      "FRENCH BLUE METAL DOOR SIGN No\n",
      "BAG 250g SWIRLY MARBLES\n",
      "BAG 125g SWIRLY MARBLES\n",
      "3 TRADITIONAl BISCUIT CUTTERS  SET\n",
      "NUMBER TILE COTTAGE GARDEN No\n",
      "FOLK ART GREETING CARD,pack/12\n",
      "ESSENTIAL BALM 3.5g TIN IN ENVELOPE\n",
      "POLYESTER FILLER PAD 65CMx65CM\n",
      "NUMBER TILE VINTAGE FONT No \n",
      "POLYESTER FILLER PAD 30CMx30CM\n",
      "POLYESTER FILLER PAD 60x40cm\n",
      "FLOWERS HANDBAG blue and orange\n",
      "Next Day Carriage\n",
      "THE KING GIFT BAG 25x24x12cm\n",
      "High Resolution Image\n"
     ]
    }
   ],
   "source": [
    "# Finding unique descriptions containing lowercase letters\n",
    "lowercase_descriptions = df['Description'].unique()\n",
    "lowercase_descriptions = [desc for desc in lowercase_descriptions if any(c.islower() for c in str(desc))]\n",
    "\n",
    "print(\"Unique descriptions containing lowercase letters:\")\n",
    "print(\"-\" * 50)\n",
    "for desc in lowercase_descriptions:\n",
    "    print(desc)"
   ]
  },
  {
   "cell_type": "code",
   "execution_count": 1230,
   "metadata": {},
   "outputs": [
    {
     "name": "stdout",
     "output_type": "stream",
     "text": [
      "Number of records with service descriptions: 83\n",
      "Percentage of records with service descriptions: 0.02%\n"
     ]
    }
   ],
   "source": [
    "# Calculating the number and percentage of records with service descriptions\n",
    "service_descriptions = [\"Next Day Carriage\", \"High Resolution Image\"]\n",
    "\n",
    "number_service_descriptions = df[df['Description'].isin(service_descriptions)].shape[0]\n",
    "percentage_service_descriptions = (number_service_descriptions / df.shape[0]) * 100\n",
    "print(f\"Number of records with service descriptions: {number_service_descriptions}\")\n",
    "print(f\"Percentage of records with service descriptions: {percentage_service_descriptions:.2f}%\")\n",
    "\n",
    "# Removing rows with descriptions containing service descriptions\n",
    "df = df[~df['Description'].isin(service_descriptions)]"
   ]
  },
  {
   "cell_type": "code",
   "execution_count": 1231,
   "metadata": {},
   "outputs": [
    {
     "data": {
      "text/plain": [
       "399606"
      ]
     },
     "execution_count": 1231,
     "metadata": {},
     "output_type": "execute_result"
    }
   ],
   "source": [
    "df.shape[0]"
   ]
  },
  {
   "cell_type": "markdown",
   "metadata": {},
   "source": [
    "### Inferences\n",
    "\n",
    "- The most frequent descriptions are generally household items, particularly those associated with kitchenware, lunch bags, and decorative items.\n",
    "\n",
    "- All the descriptions are in uppercase, which might be a standardized format for entering product descriptions in the database. It would be prudent to check if there are descriptions entered in lowercase or a mix of case styles.\n",
    "\n",
    "- Upon reviewing the descriptions that contain lowecase characters, it is evident that some entries are not product descriptions, such as \"Next Day Carriage\" and \"High Resolution Image\". Therefore, we removed rows with this descriptions."
   ]
  },
  {
   "cell_type": "markdown",
   "metadata": {},
   "source": [
    "## Comparing Stock Codes with Descriptions"
   ]
  },
  {
   "cell_type": "code",
   "execution_count": 1232,
   "metadata": {},
   "outputs": [
    {
     "data": {
      "text/plain": [
       "{'Invoice': 21784,\n",
       " 'StockCode': 3674,\n",
       " 'Description': 3886,\n",
       " 'Quantity': 432,\n",
       " 'InvoiceDate': 20132,\n",
       " 'Price': 370,\n",
       " 'Customer ID': 4363,\n",
       " 'Country': 37,\n",
       " 'Transaction_Status': 2}"
      ]
     },
     "execution_count": 1232,
     "metadata": {},
     "output_type": "execute_result"
    }
   ],
   "source": [
    "# Unique values in each column\n",
    "{columns: len(df[columns].unique()) for columns in df.columns}"
   ]
  },
  {
   "cell_type": "code",
   "execution_count": 1233,
   "metadata": {},
   "outputs": [
    {
     "name": "stdout",
     "output_type": "stream",
     "text": [
      "Descriptions shared by multiple StockCodes:\n",
      "--------------------------------------------------\n",
      "                          Description  StockCode_Count\n",
      "827      COLOURING PENCILS BROWN TUBE                2\n",
      "829        COLUMBIAN CANDLE RECTANGLE                2\n",
      "830            COLUMBIAN CANDLE ROUND                2\n",
      "1080  EAU DE NILE JEWELLED PHOTOFRAME                2\n",
      "1324     FRENCH FLORAL CUSHION COVER                 2\n",
      "1327    FRENCH LATTICE CUSHION COVER                 2\n",
      "1345              FROSTED WHITE BASE                 2\n",
      "2018   METAL SIGN,CUPCAKE SINGLE HOOK                3\n",
      "2332  PAPER LANTERN 9 POINT SNOW STAR                2\n",
      "2461    PINK FAIRY CAKE CUSHION COVER                2\n",
      "2466    PINK FLOCK GLASS CANDLEHOLDER                2\n",
      "2472       PINK FLOWERS RABBIT EASTER                2\n",
      "2796          RETRO PLASTIC 70'S TRAY                2\n",
      "2797         RETRO PLASTIC DAISY TRAY                2\n",
      "2799         RETRO PLASTIC POLKA TRAY                2\n",
      "2872     ROUND BLUE CLOCK WITH SUCKER                2\n",
      "3331    SQUARE CHERRY BLOSSOM CABINET                2\n",
      "3355         STORAGE TIN VINTAGE LEAF                2\n",
      "3685      WHITE BAMBOO RIBS LAMPSHADE                2\n",
      "\n",
      "StockCode details with shared descriptions:\n",
      "--------------------------------------------------\n",
      "       StockCode                      Description\n",
      "741        10133     COLOURING PENCILS BROWN TUBE\n",
      "3330       10135     COLOURING PENCILS BROWN TUBE\n",
      "3951       72133       COLUMBIAN CANDLE RECTANGLE\n",
      "12120      72131       COLUMBIAN CANDLE RECTANGLE\n",
      "7070       72130           COLUMBIAN CANDLE ROUND\n",
      "7071       72128           COLUMBIAN CANDLE ROUND\n",
      "75983     85024B  EAU DE NILE JEWELLED PHOTOFRAME\n",
      "37504     85023B  EAU DE NILE JEWELLED PHOTOFRAME\n",
      "170525     20840     FRENCH FLORAL CUSHION COVER \n",
      "93898      20837     FRENCH FLORAL CUSHION COVER \n",
      "172798     20838    FRENCH LATTICE CUSHION COVER \n",
      "172505     20835    FRENCH LATTICE CUSHION COVER \n",
      "29965      79403              FROSTED WHITE BASE \n",
      "91904      79406              FROSTED WHITE BASE \n",
      "29818     82613C   METAL SIGN,CUPCAKE SINGLE HOOK\n",
      "39555     82613A   METAL SIGN,CUPCAKE SINGLE HOOK\n",
      "9276      82613B   METAL SIGN,CUPCAKE SINGLE HOOK\n",
      "171346     23041  PAPER LANTERN 9 POINT SNOW STAR\n",
      "176849     23040  PAPER LANTERN 9 POINT SNOW STAR\n",
      "12796     47586A    PINK FAIRY CAKE CUSHION COVER\n",
      "42403     47585A    PINK FAIRY CAKE CUSHION COVER\n",
      "31758      79329    PINK FLOCK GLASS CANDLEHOLDER\n",
      "95347      79331    PINK FLOCK GLASS CANDLEHOLDER\n",
      "125020    35910B       PINK FLOWERS RABBIT EASTER\n",
      "89682     35909B       PINK FLOWERS RABBIT EASTER\n",
      "9170      79190A          RETRO PLASTIC 70'S TRAY\n",
      "64593     79192A          RETRO PLASTIC 70'S TRAY\n",
      "10013     79190D         RETRO PLASTIC DAISY TRAY\n",
      "67929     79191D         RETRO PLASTIC DAISY TRAY\n",
      "20476     79190B         RETRO PLASTIC POLKA TRAY\n",
      "10081     79191B         RETRO PLASTIC POLKA TRAY\n",
      "249672    81952B     ROUND BLUE CLOCK WITH SUCKER\n",
      "261919    81953B     ROUND BLUE CLOCK WITH SUCKER\n",
      "30554      84666    SQUARE CHERRY BLOSSOM CABINET\n",
      "14058      84665    SQUARE CHERRY BLOSSOM CABINET\n",
      "218409     23235         STORAGE TIN VINTAGE LEAF\n",
      "220213     23244         STORAGE TIN VINTAGE LEAF\n",
      "20340      40003      WHITE BAMBOO RIBS LAMPSHADE\n",
      "3093       40001      WHITE BAMBOO RIBS LAMPSHADE\n"
     ]
    }
   ],
   "source": [
    "# Ensure columns are of type string\n",
    "df['StockCode'] = df['StockCode'].astype(str)\n",
    "df['Description'] = df['Description'].astype(str)\n",
    "\n",
    "# Count how many StockCode are associated with each Description\n",
    "description_counts = df.groupby('Description')['StockCode'].nunique().reset_index()\n",
    "description_counts.rename(columns={'StockCode': 'StockCode_Count'}, inplace=True)\n",
    "\n",
    "# Filter descriptions shared by more than one StockCode\n",
    "shared_descriptions = description_counts[description_counts['StockCode_Count'] > 1]\n",
    "\n",
    "# Show shared descriptions\n",
    "print(\"Descriptions shared by multiple StockCodes:\")\n",
    "print(\"-\" * 50)\n",
    "print(shared_descriptions)\n",
    "\n",
    "# Get details of the StockCode associated with these Descriptions\n",
    "shared_desc_details = df[df['Description'].isin(shared_descriptions['Description'])][['StockCode', 'Description']].drop_duplicates().sort_values(by='Description')\n",
    "\n",
    "# Show details\n",
    "print(\"\\nStockCode details with shared descriptions:\")\n",
    "print(\"-\" * 50)\n",
    "print(shared_desc_details)"
   ]
  },
  {
   "cell_type": "code",
   "execution_count": 1234,
   "metadata": {},
   "outputs": [
    {
     "name": "stdout",
     "output_type": "stream",
     "text": [
      "Stock codes with more than 1 unique description:\n",
      "--------------------------------------------------\n",
      "     StockCode  Unique_Descriptions_Count\n",
      "42      16156L                          2\n",
      "100     17107D                          3\n",
      "118      20622                          2\n",
      "170      20725                          2\n",
      "262      20914                          2\n",
      "...        ...                        ...\n",
      "3308    85184C                          2\n",
      "3309    85185B                          2\n",
      "3372    90014A                          2\n",
      "3373    90014B                          2\n",
      "3374    90014C                          2\n",
      "\n",
      "[213 rows x 2 columns]\n",
      "\n",
      "Details of the stock codes with more than 1 unique description:\n",
      "--------------------------------------------------\n",
      "       StockCode                          Description\n",
      "47284     16156L                       WRAP, CAROUSEL\n",
      "138080    16156L                        WRAP CAROUSEL\n",
      "315743    17107D         FLOWER FAIRY 5 DRAWER LINERS\n",
      "347764    17107D    FLOWER FAIRY 5 SUMMER DRAW LINERS\n",
      "6467      17107D  FLOWER FAIRY,5 SUMMER B'DRAW LINERS\n",
      "...          ...                                  ...\n",
      "37284     90014A            SILVER/MOP ORBIT NECKLACE\n",
      "28450     90014B         GOLD M PEARL  ORBIT NECKLACE\n",
      "386649    90014B           GOLD M.O.P. ORBIT NECKLACE\n",
      "504701    90014C      SILVER AND BLACK ORBIT NECKLACE\n",
      "142063    90014C          SILVER/BLACK ORBIT NECKLACE\n",
      "\n",
      "[445 rows x 2 columns]\n"
     ]
    }
   ],
   "source": [
    "# Convert StockCode to string\n",
    "df['StockCode'] = df['StockCode'].astype(str)\n",
    "\n",
    "# Group by StockCode and count the uniques Descriptions\n",
    "stock_code_description = df.groupby('StockCode')['Description'].nunique().reset_index()\n",
    "stock_code_description.rename(columns={'Description': 'Unique_Descriptions_Count'}, inplace= True)\n",
    "\n",
    "# Filtering the stock codes with more than 1 unique description\n",
    "multiple_descriptions = stock_code_description[stock_code_description['Unique_Descriptions_Count'] > 1]\n",
    "\n",
    "# Displaying the stock codes with more than 1 unique description\n",
    "print(\"Stock codes with more than 1 unique description:\")\n",
    "print(\"-\" * 50)\n",
    "\n",
    "print(multiple_descriptions)\n",
    "\n",
    "# Obtaining the details of the stock codes with more than 1 unique description\n",
    "multiple_descriptions_details = multiple_descriptions['StockCode']\n",
    "details = df[df['StockCode'].isin(multiple_descriptions_details)][['StockCode', 'Description']].drop_duplicates().sort_values(by='StockCode')\n",
    "\n",
    "print(\"\\nDetails of the stock codes with more than 1 unique description:\")\n",
    "print(\"-\" * 50)\n",
    "print(details)"
   ]
  },
  {
   "cell_type": "code",
   "execution_count": 1235,
   "metadata": {},
   "outputs": [
    {
     "data": {
      "text/plain": [
       "{'Invoice': 21784,\n",
       " 'StockCode': 3674,\n",
       " 'Description': 3886,\n",
       " 'Quantity': 432,\n",
       " 'InvoiceDate': 20132,\n",
       " 'Price': 370,\n",
       " 'Customer ID': 4363,\n",
       " 'Country': 37,\n",
       " 'Transaction_Status': 2}"
      ]
     },
     "execution_count": 1235,
     "metadata": {},
     "output_type": "execute_result"
    }
   ],
   "source": [
    "{columns: len(df[columns].unique()) for columns in df.columns}"
   ]
  },
  {
   "cell_type": "code",
   "execution_count": 1236,
   "metadata": {},
   "outputs": [
    {
     "name": "stdout",
     "output_type": "stream",
     "text": [
      "Unique values after cleaning:\n",
      "StockCode: 3674\n",
      "Description: 3674\n",
      "No StockCode with multiple descriptions.\n",
      "There are no descriptions shared by multiple StockCode.\n"
     ]
    }
   ],
   "source": [
    "import pandas as pd\n",
    "\n",
    "# Ensure columns are of type string\n",
    "df['StockCode'] = df['StockCode'].astype(str)\n",
    "df['Description'] = df['Description'].astype(str)\n",
    "\n",
    "# Step 1: Unify multiple descriptions by selecting the most frequent one\n",
    "most_frequent_desc = df.groupby(['StockCode', 'Description']).size().reset_index(name='Count')\n",
    "most_frequent_desc = most_frequent_desc.sort_values(['StockCode', 'Count'], ascending=[True, False])\n",
    "most_frequent_desc = most_frequent_desc.groupby('StockCode').first().reset_index()[['StockCode', 'Description']]\n",
    "\n",
    "# Update the DataFrame with unified descriptions\n",
    "df = df.drop(columns=['Description']).merge(most_frequent_desc, on='StockCode', how='left')\n",
    "\n",
    "# Step 2: Identify and modify shared descriptions\n",
    "description_counts = df.groupby('Description')['StockCode'].nunique().reset_index()\n",
    "shared_descriptions = description_counts[description_counts['StockCode'] > 1]['Description']\n",
    "\n",
    "# Modify shared descriptions by adding the StockCode\n",
    "df.loc[df['Description'].isin(shared_descriptions), 'Description'] = (\n",
    "    df['Description'] + \" (\" + df['StockCode'] + \")\"\n",
    ")\n",
    "\n",
    "# Step 3: Validate results\n",
    "# Verify unique values\n",
    "print(\"Unique values after cleaning:\")\n",
    "print(f\"StockCode: {df['StockCode'].nunique()}\")\n",
    "print(f\"Description: {df['Description'].nunique()}\")\n",
    "\n",
    "# Check multiple descriptions\n",
    "stock_code_description = df.groupby('StockCode')['Description'].nunique().reset_index()\n",
    "multiple_descriptions = stock_code_description[stock_code_description['Description'] > 1]\n",
    "if multiple_descriptions.empty:\n",
    "    print(\"No StockCode with multiple descriptions.\")\n",
    "else:\n",
    "    print(\"Warning: Some StockCode still have multiple descriptions:\")\n",
    "    print(multiple_descriptions)\n",
    "\n",
    "# Check shared descriptions\n",
    "description_counts = df.groupby('Description')['StockCode'].nunique().reset_index()\n",
    "shared_descriptions = description_counts[description_counts['StockCode'] > 1]\n",
    "if shared_descriptions.empty:\n",
    "    print(\"There are no descriptions shared by multiple StockCode.\")\n",
    "else:\n",
    "    print(\"Warning: Some descriptions are still shared:\")\n",
    "    print(shared_descriptions)"
   ]
  },
  {
   "cell_type": "markdown",
   "metadata": {},
   "source": [
    "### Inferences:\n",
    "\n",
    "- **StockCodes with multiple Descriptions:** 213 StockCodes have multiple descriptions (196 with 2, 15 with 3, 2 with 4), causing extra Description values\n",
    "- **Descriptions shared by multiple StockCodes:** 19 descriptions are used by 39 StockCodes\n",
    "\n",
    "The presence of multiple descriptions per StockCode and shared descriptions across StockCode led to data quality issues, complicating product-level analyses such as identifying top-selling items.\n",
    "\n",
    "### Strategy:\n",
    "\n",
    "- For the 213 StockCodes with multiple descriptions, we selected the most frequent Description for each StockCode using a group-by operation and sorting by count.\n",
    "- For the 19 descriptions shared across 39 StockCode, we appended the StockCode in parentheses to create unique descriptions (e.g., \"COLOURING PENCILS BROWN TUBE (10133)\" and \"COLOURING PENCILS BROWN TUBE (10135)\")."
   ]
  },
  {
   "cell_type": "markdown",
   "metadata": {},
   "source": [
    "## Treating Zero Unit Prices"
   ]
  },
  {
   "cell_type": "markdown",
   "metadata": {},
   "source": [
    "### "
   ]
  },
  {
   "cell_type": "code",
   "execution_count": 1237,
   "metadata": {},
   "outputs": [
    {
     "data": {
      "text/plain": [
       "count    399606.000000\n",
       "mean          2.904957\n",
       "std           4.448796\n",
       "min           0.000000\n",
       "25%           1.250000\n",
       "50%           1.950000\n",
       "75%           3.750000\n",
       "max         649.500000\n",
       "Name: Price, dtype: float64"
      ]
     },
     "execution_count": 1237,
     "metadata": {},
     "output_type": "execute_result"
    }
   ],
   "source": [
    "df['Price'].describe()"
   ]
  },
  {
   "cell_type": "code",
   "execution_count": 1238,
   "metadata": {},
   "outputs": [
    {
     "data": {
      "text/html": [
       "<div>\n",
       "<style scoped>\n",
       "    .dataframe tbody tr th:only-of-type {\n",
       "        vertical-align: middle;\n",
       "    }\n",
       "\n",
       "    .dataframe tbody tr th {\n",
       "        vertical-align: top;\n",
       "    }\n",
       "\n",
       "    .dataframe thead th {\n",
       "        text-align: right;\n",
       "    }\n",
       "</style>\n",
       "<table border=\"1\" class=\"dataframe\">\n",
       "  <thead>\n",
       "    <tr style=\"text-align: right;\">\n",
       "      <th></th>\n",
       "      <th>Quantity</th>\n",
       "    </tr>\n",
       "  </thead>\n",
       "  <tbody>\n",
       "    <tr>\n",
       "      <th>count</th>\n",
       "      <td>33.000000</td>\n",
       "    </tr>\n",
       "    <tr>\n",
       "      <th>mean</th>\n",
       "      <td>420.515152</td>\n",
       "    </tr>\n",
       "    <tr>\n",
       "      <th>min</th>\n",
       "      <td>1.000000</td>\n",
       "    </tr>\n",
       "    <tr>\n",
       "      <th>25%</th>\n",
       "      <td>2.000000</td>\n",
       "    </tr>\n",
       "    <tr>\n",
       "      <th>50%</th>\n",
       "      <td>11.000000</td>\n",
       "    </tr>\n",
       "    <tr>\n",
       "      <th>75%</th>\n",
       "      <td>36.000000</td>\n",
       "    </tr>\n",
       "    <tr>\n",
       "      <th>max</th>\n",
       "      <td>12540.000000</td>\n",
       "    </tr>\n",
       "    <tr>\n",
       "      <th>std</th>\n",
       "      <td>2176.713608</td>\n",
       "    </tr>\n",
       "  </tbody>\n",
       "</table>\n",
       "</div>"
      ],
      "text/plain": [
       "           Quantity\n",
       "count     33.000000\n",
       "mean     420.515152\n",
       "min        1.000000\n",
       "25%        2.000000\n",
       "50%       11.000000\n",
       "75%       36.000000\n",
       "max    12540.000000\n",
       "std     2176.713608"
      ]
     },
     "execution_count": 1238,
     "metadata": {},
     "output_type": "execute_result"
    }
   ],
   "source": [
    "df[df['Price']==0].describe()[['Quantity']]"
   ]
  },
  {
   "cell_type": "code",
   "execution_count": 1239,
   "metadata": {},
   "outputs": [
    {
     "data": {
      "text/html": [
       "<div>\n",
       "<style scoped>\n",
       "    .dataframe tbody tr th:only-of-type {\n",
       "        vertical-align: middle;\n",
       "    }\n",
       "\n",
       "    .dataframe tbody tr th {\n",
       "        vertical-align: top;\n",
       "    }\n",
       "\n",
       "    .dataframe thead th {\n",
       "        text-align: right;\n",
       "    }\n",
       "</style>\n",
       "<table border=\"1\" class=\"dataframe\">\n",
       "  <thead>\n",
       "    <tr style=\"text-align: right;\">\n",
       "      <th></th>\n",
       "      <th>Invoice</th>\n",
       "      <th>StockCode</th>\n",
       "      <th>Quantity</th>\n",
       "      <th>InvoiceDate</th>\n",
       "      <th>Price</th>\n",
       "      <th>Customer ID</th>\n",
       "      <th>Country</th>\n",
       "      <th>Transaction_Status</th>\n",
       "      <th>Description</th>\n",
       "    </tr>\n",
       "  </thead>\n",
       "  <tbody>\n",
       "    <tr>\n",
       "      <th>6816</th>\n",
       "      <td>537197</td>\n",
       "      <td>22841</td>\n",
       "      <td>1</td>\n",
       "      <td>2010-12-05 14:02:00</td>\n",
       "      <td>0.0</td>\n",
       "      <td>12647.0</td>\n",
       "      <td>Germany</td>\n",
       "      <td>Completed</td>\n",
       "      <td>ROUND CAKE TIN VINTAGE GREEN</td>\n",
       "    </tr>\n",
       "    <tr>\n",
       "      <th>22536</th>\n",
       "      <td>539263</td>\n",
       "      <td>22580</td>\n",
       "      <td>4</td>\n",
       "      <td>2010-12-16 14:36:00</td>\n",
       "      <td>0.0</td>\n",
       "      <td>16560.0</td>\n",
       "      <td>United Kingdom</td>\n",
       "      <td>Completed</td>\n",
       "      <td>ADVENT CALENDAR GINGHAM SACK</td>\n",
       "    </tr>\n",
       "    <tr>\n",
       "      <th>25442</th>\n",
       "      <td>539722</td>\n",
       "      <td>22423</td>\n",
       "      <td>10</td>\n",
       "      <td>2010-12-21 13:45:00</td>\n",
       "      <td>0.0</td>\n",
       "      <td>14911.0</td>\n",
       "      <td>EIRE</td>\n",
       "      <td>Completed</td>\n",
       "      <td>REGENCY CAKESTAND 3 TIER</td>\n",
       "    </tr>\n",
       "    <tr>\n",
       "      <th>29243</th>\n",
       "      <td>540372</td>\n",
       "      <td>22090</td>\n",
       "      <td>24</td>\n",
       "      <td>2011-01-06 16:41:00</td>\n",
       "      <td>0.0</td>\n",
       "      <td>13081.0</td>\n",
       "      <td>United Kingdom</td>\n",
       "      <td>Completed</td>\n",
       "      <td>PAPER BUNTING RETROSPOT</td>\n",
       "    </tr>\n",
       "    <tr>\n",
       "      <th>29245</th>\n",
       "      <td>540372</td>\n",
       "      <td>22553</td>\n",
       "      <td>24</td>\n",
       "      <td>2011-01-06 16:41:00</td>\n",
       "      <td>0.0</td>\n",
       "      <td>13081.0</td>\n",
       "      <td>United Kingdom</td>\n",
       "      <td>Completed</td>\n",
       "      <td>PLASTERS IN TIN SKULLS</td>\n",
       "    </tr>\n",
       "    <tr>\n",
       "      <th>34743</th>\n",
       "      <td>541109</td>\n",
       "      <td>22168</td>\n",
       "      <td>1</td>\n",
       "      <td>2011-01-13 15:10:00</td>\n",
       "      <td>0.0</td>\n",
       "      <td>15107.0</td>\n",
       "      <td>United Kingdom</td>\n",
       "      <td>Completed</td>\n",
       "      <td>ORGANISER WOOD ANTIQUE WHITE</td>\n",
       "    </tr>\n",
       "    <tr>\n",
       "      <th>54228</th>\n",
       "      <td>543599</td>\n",
       "      <td>84535B</td>\n",
       "      <td>16</td>\n",
       "      <td>2011-02-10 13:08:00</td>\n",
       "      <td>0.0</td>\n",
       "      <td>17560.0</td>\n",
       "      <td>United Kingdom</td>\n",
       "      <td>Completed</td>\n",
       "      <td>FAIRY CAKES NOTEBOOK A6 SIZE</td>\n",
       "    </tr>\n",
       "    <tr>\n",
       "      <th>86338</th>\n",
       "      <td>547417</td>\n",
       "      <td>22062</td>\n",
       "      <td>36</td>\n",
       "      <td>2011-03-23 10:25:00</td>\n",
       "      <td>0.0</td>\n",
       "      <td>13239.0</td>\n",
       "      <td>United Kingdom</td>\n",
       "      <td>Completed</td>\n",
       "      <td>CERAMIC BOWL WITH LOVE HEART DESIGN</td>\n",
       "    </tr>\n",
       "    <tr>\n",
       "      <th>93491</th>\n",
       "      <td>548318</td>\n",
       "      <td>22055</td>\n",
       "      <td>5</td>\n",
       "      <td>2011-03-30 12:45:00</td>\n",
       "      <td>0.0</td>\n",
       "      <td>13113.0</td>\n",
       "      <td>United Kingdom</td>\n",
       "      <td>Completed</td>\n",
       "      <td>MINI CAKE STAND  HANGING STRAWBERY</td>\n",
       "    </tr>\n",
       "    <tr>\n",
       "      <th>98139</th>\n",
       "      <td>548871</td>\n",
       "      <td>22162</td>\n",
       "      <td>2</td>\n",
       "      <td>2011-04-04 14:42:00</td>\n",
       "      <td>0.0</td>\n",
       "      <td>14410.0</td>\n",
       "      <td>United Kingdom</td>\n",
       "      <td>Completed</td>\n",
       "      <td>HEART GARLAND RUSTIC PADDED</td>\n",
       "    </tr>\n",
       "  </tbody>\n",
       "</table>\n",
       "</div>"
      ],
      "text/plain": [
       "      Invoice StockCode  Quantity         InvoiceDate  Price  Customer ID  \\\n",
       "6816   537197     22841         1 2010-12-05 14:02:00    0.0      12647.0   \n",
       "22536  539263     22580         4 2010-12-16 14:36:00    0.0      16560.0   \n",
       "25442  539722     22423        10 2010-12-21 13:45:00    0.0      14911.0   \n",
       "29243  540372     22090        24 2011-01-06 16:41:00    0.0      13081.0   \n",
       "29245  540372     22553        24 2011-01-06 16:41:00    0.0      13081.0   \n",
       "34743  541109     22168         1 2011-01-13 15:10:00    0.0      15107.0   \n",
       "54228  543599    84535B        16 2011-02-10 13:08:00    0.0      17560.0   \n",
       "86338  547417     22062        36 2011-03-23 10:25:00    0.0      13239.0   \n",
       "93491  548318     22055         5 2011-03-30 12:45:00    0.0      13113.0   \n",
       "98139  548871     22162         2 2011-04-04 14:42:00    0.0      14410.0   \n",
       "\n",
       "              Country Transaction_Status                          Description  \n",
       "6816          Germany          Completed         ROUND CAKE TIN VINTAGE GREEN  \n",
       "22536  United Kingdom          Completed         ADVENT CALENDAR GINGHAM SACK  \n",
       "25442            EIRE          Completed             REGENCY CAKESTAND 3 TIER  \n",
       "29243  United Kingdom          Completed              PAPER BUNTING RETROSPOT  \n",
       "29245  United Kingdom          Completed               PLASTERS IN TIN SKULLS  \n",
       "34743  United Kingdom          Completed        ORGANISER WOOD ANTIQUE WHITE   \n",
       "54228  United Kingdom          Completed         FAIRY CAKES NOTEBOOK A6 SIZE  \n",
       "86338  United Kingdom          Completed  CERAMIC BOWL WITH LOVE HEART DESIGN  \n",
       "93491  United Kingdom          Completed   MINI CAKE STAND  HANGING STRAWBERY  \n",
       "98139  United Kingdom          Completed          HEART GARLAND RUSTIC PADDED  "
      ]
     },
     "execution_count": 1239,
     "metadata": {},
     "output_type": "execute_result"
    }
   ],
   "source": [
    "df[df['Price']==0].head(10)"
   ]
  },
  {
   "cell_type": "code",
   "execution_count": 1240,
   "metadata": {},
   "outputs": [],
   "source": [
    "# Removing records with a unit price of zero to avoid potential data entry errors\n",
    "df = df[df['Price'] > 0]"
   ]
  },
  {
   "cell_type": "code",
   "execution_count": 1241,
   "metadata": {},
   "outputs": [
    {
     "data": {
      "text/plain": [
       "399573"
      ]
     },
     "execution_count": 1241,
     "metadata": {},
     "output_type": "execute_result"
    }
   ],
   "source": [
    "# Resetting the index of the cleaned dataset\n",
    "df.reset_index(drop=True, inplace=True)\n",
    "\n",
    "# Getting the number of rows in the dataframe\n",
    "df.shape[0]"
   ]
  },
  {
   "cell_type": "markdown",
   "metadata": {},
   "source": [
    "### Inferences\n",
    "\n",
    "- The transactions with a unit price of zero are relatively few in number (33 transactions).\n",
    "- These transactions have a large variability in the quantity of items involved, ranging from 1 to 12540, with a substantial standard deviation.\n",
    "\n",
    "Given the small number of these transactions and their potential to introduce noise in the data analysis, the strategy should be to remove these transactions from the dataset."
   ]
  },
  {
   "cell_type": "markdown",
   "metadata": {},
   "source": [
    "# Feature Engineering"
   ]
  },
  {
   "cell_type": "code",
   "execution_count": 1242,
   "metadata": {},
   "outputs": [
    {
     "data": {
      "text/html": [
       "<div>\n",
       "<style scoped>\n",
       "    .dataframe tbody tr th:only-of-type {\n",
       "        vertical-align: middle;\n",
       "    }\n",
       "\n",
       "    .dataframe tbody tr th {\n",
       "        vertical-align: top;\n",
       "    }\n",
       "\n",
       "    .dataframe thead th {\n",
       "        text-align: right;\n",
       "    }\n",
       "</style>\n",
       "<table border=\"1\" class=\"dataframe\">\n",
       "  <thead>\n",
       "    <tr style=\"text-align: right;\">\n",
       "      <th></th>\n",
       "      <th>Invoice</th>\n",
       "      <th>StockCode</th>\n",
       "      <th>Quantity</th>\n",
       "      <th>InvoiceDate</th>\n",
       "      <th>Price</th>\n",
       "      <th>Customer ID</th>\n",
       "      <th>Country</th>\n",
       "      <th>Transaction_Status</th>\n",
       "      <th>Description</th>\n",
       "      <th>TotalPrice</th>\n",
       "    </tr>\n",
       "  </thead>\n",
       "  <tbody>\n",
       "    <tr>\n",
       "      <th>0</th>\n",
       "      <td>536365</td>\n",
       "      <td>85123A</td>\n",
       "      <td>6</td>\n",
       "      <td>2010-12-01 08:26:00</td>\n",
       "      <td>2.55</td>\n",
       "      <td>17850.0</td>\n",
       "      <td>United Kingdom</td>\n",
       "      <td>Completed</td>\n",
       "      <td>WHITE HANGING HEART T-LIGHT HOLDER</td>\n",
       "      <td>15.30</td>\n",
       "    </tr>\n",
       "    <tr>\n",
       "      <th>1</th>\n",
       "      <td>536365</td>\n",
       "      <td>71053</td>\n",
       "      <td>6</td>\n",
       "      <td>2010-12-01 08:26:00</td>\n",
       "      <td>3.39</td>\n",
       "      <td>17850.0</td>\n",
       "      <td>United Kingdom</td>\n",
       "      <td>Completed</td>\n",
       "      <td>WHITE METAL LANTERN</td>\n",
       "      <td>20.34</td>\n",
       "    </tr>\n",
       "    <tr>\n",
       "      <th>2</th>\n",
       "      <td>536365</td>\n",
       "      <td>84406B</td>\n",
       "      <td>8</td>\n",
       "      <td>2010-12-01 08:26:00</td>\n",
       "      <td>2.75</td>\n",
       "      <td>17850.0</td>\n",
       "      <td>United Kingdom</td>\n",
       "      <td>Completed</td>\n",
       "      <td>CREAM CUPID HEARTS COAT HANGER</td>\n",
       "      <td>22.00</td>\n",
       "    </tr>\n",
       "    <tr>\n",
       "      <th>3</th>\n",
       "      <td>536365</td>\n",
       "      <td>84029G</td>\n",
       "      <td>6</td>\n",
       "      <td>2010-12-01 08:26:00</td>\n",
       "      <td>3.39</td>\n",
       "      <td>17850.0</td>\n",
       "      <td>United Kingdom</td>\n",
       "      <td>Completed</td>\n",
       "      <td>KNITTED UNION FLAG HOT WATER BOTTLE</td>\n",
       "      <td>20.34</td>\n",
       "    </tr>\n",
       "    <tr>\n",
       "      <th>4</th>\n",
       "      <td>536365</td>\n",
       "      <td>84029E</td>\n",
       "      <td>6</td>\n",
       "      <td>2010-12-01 08:26:00</td>\n",
       "      <td>3.39</td>\n",
       "      <td>17850.0</td>\n",
       "      <td>United Kingdom</td>\n",
       "      <td>Completed</td>\n",
       "      <td>RED WOOLLY HOTTIE WHITE HEART.</td>\n",
       "      <td>20.34</td>\n",
       "    </tr>\n",
       "  </tbody>\n",
       "</table>\n",
       "</div>"
      ],
      "text/plain": [
       "  Invoice StockCode  Quantity         InvoiceDate  Price  Customer ID  \\\n",
       "0  536365    85123A         6 2010-12-01 08:26:00   2.55      17850.0   \n",
       "1  536365     71053         6 2010-12-01 08:26:00   3.39      17850.0   \n",
       "2  536365    84406B         8 2010-12-01 08:26:00   2.75      17850.0   \n",
       "3  536365    84029G         6 2010-12-01 08:26:00   3.39      17850.0   \n",
       "4  536365    84029E         6 2010-12-01 08:26:00   3.39      17850.0   \n",
       "\n",
       "          Country Transaction_Status                          Description  \\\n",
       "0  United Kingdom          Completed   WHITE HANGING HEART T-LIGHT HOLDER   \n",
       "1  United Kingdom          Completed                  WHITE METAL LANTERN   \n",
       "2  United Kingdom          Completed       CREAM CUPID HEARTS COAT HANGER   \n",
       "3  United Kingdom          Completed  KNITTED UNION FLAG HOT WATER BOTTLE   \n",
       "4  United Kingdom          Completed       RED WOOLLY HOTTIE WHITE HEART.   \n",
       "\n",
       "   TotalPrice  \n",
       "0       15.30  \n",
       "1       20.34  \n",
       "2       22.00  \n",
       "3       20.34  \n",
       "4       20.34  "
      ]
     },
     "execution_count": 1242,
     "metadata": {},
     "output_type": "execute_result"
    }
   ],
   "source": [
    "# Total price of each transaction\n",
    "df['TotalPrice'] = df['Quantity'] * df['Price']\n",
    "df.head()"
   ]
  },
  {
   "cell_type": "code",
   "execution_count": 1243,
   "metadata": {},
   "outputs": [
    {
     "name": "stdout",
     "output_type": "stream",
     "text": [
      "Min Date 2010-12-01 08:26:00 Max Date 2011-12-09 12:50:00\n"
     ]
    }
   ],
   "source": [
    "# First and last date of the dataset\n",
    "print(\"Min Date\", df[\"InvoiceDate\"].min(), \"Max Date\", df[\"InvoiceDate\"].max())"
   ]
  },
  {
   "cell_type": "markdown",
   "metadata": {},
   "source": [
    "## Customer Behavioral Features (RFM)"
   ]
  },
  {
   "cell_type": "markdown",
   "metadata": {},
   "source": [
    "### Recency\n",
    "\n",
    "This metric indicates how recently a customer has made a purchase. A lower recency value means the customer has purchased more recently, indicating higher engagement with the brand."
   ]
  },
  {
   "cell_type": "code",
   "execution_count": 1244,
   "metadata": {},
   "outputs": [
    {
     "data": {
      "text/html": [
       "<div>\n",
       "<style scoped>\n",
       "    .dataframe tbody tr th:only-of-type {\n",
       "        vertical-align: middle;\n",
       "    }\n",
       "\n",
       "    .dataframe tbody tr th {\n",
       "        vertical-align: top;\n",
       "    }\n",
       "\n",
       "    .dataframe thead th {\n",
       "        text-align: right;\n",
       "    }\n",
       "</style>\n",
       "<table border=\"1\" class=\"dataframe\">\n",
       "  <thead>\n",
       "    <tr style=\"text-align: right;\">\n",
       "      <th></th>\n",
       "      <th>Recency</th>\n",
       "    </tr>\n",
       "    <tr>\n",
       "      <th>Customer ID</th>\n",
       "      <th></th>\n",
       "    </tr>\n",
       "  </thead>\n",
       "  <tbody>\n",
       "    <tr>\n",
       "      <th>12346.0</th>\n",
       "      <td>325</td>\n",
       "    </tr>\n",
       "    <tr>\n",
       "      <th>12347.0</th>\n",
       "      <td>1</td>\n",
       "    </tr>\n",
       "    <tr>\n",
       "      <th>12348.0</th>\n",
       "      <td>74</td>\n",
       "    </tr>\n",
       "    <tr>\n",
       "      <th>12349.0</th>\n",
       "      <td>18</td>\n",
       "    </tr>\n",
       "    <tr>\n",
       "      <th>12350.0</th>\n",
       "      <td>309</td>\n",
       "    </tr>\n",
       "  </tbody>\n",
       "</table>\n",
       "</div>"
      ],
      "text/plain": [
       "             Recency\n",
       "Customer ID         \n",
       "12346.0          325\n",
       "12347.0            1\n",
       "12348.0           74\n",
       "12349.0           18\n",
       "12350.0          309"
      ]
     },
     "execution_count": 1244,
     "metadata": {},
     "output_type": "execute_result"
    }
   ],
   "source": [
    "# Recency calculation and customer data creation\n",
    "today_date = df.agg({\"InvoiceDate\":\"max\"})\n",
    "\n",
    "# Calculate the number of days since the last purchase\n",
    "customer_data = (today_date - df.groupby(\"Customer ID\") \\\n",
    "           .agg({\"InvoiceDate\":\"max\"})) \\\n",
    "            .rename(columns = {\"InvoiceDate\":\"Recency\"})\n",
    "\n",
    "customer_data[\"Recency\"] = customer_data[\"Recency\"] \\\n",
    "    .apply(lambda x: x.days)\n",
    "\n",
    "customer_data.head()"
   ]
  },
  {
   "cell_type": "markdown",
   "metadata": {},
   "source": [
    "### Frecuency\n",
    "\n",
    "There are two features that quantify the frequency of a customer's engagement with the retailer:\n",
    "\n",
    "- **Total Transactions:** This feature represents the total number of transactions made by a customer. It helps in understanding the engagement level of a customer with the retailer.\n",
    "\n",
    "- **Total Products Purchased:** This feature indicates the total number of products (sum of quantities) purchased by a customer across all transactions. It gives an insight into the customer's buying behavior in terms of the volume of products purchased."
   ]
  },
  {
   "cell_type": "code",
   "execution_count": 1245,
   "metadata": {},
   "outputs": [
    {
     "data": {
      "text/html": [
       "<div>\n",
       "<style scoped>\n",
       "    .dataframe tbody tr th:only-of-type {\n",
       "        vertical-align: middle;\n",
       "    }\n",
       "\n",
       "    .dataframe tbody tr th {\n",
       "        vertical-align: top;\n",
       "    }\n",
       "\n",
       "    .dataframe thead th {\n",
       "        text-align: right;\n",
       "    }\n",
       "</style>\n",
       "<table border=\"1\" class=\"dataframe\">\n",
       "  <thead>\n",
       "    <tr style=\"text-align: right;\">\n",
       "      <th></th>\n",
       "      <th>Customer ID</th>\n",
       "      <th>Recency</th>\n",
       "      <th>Total_Transactions</th>\n",
       "      <th>Total_Products_Purchased</th>\n",
       "    </tr>\n",
       "  </thead>\n",
       "  <tbody>\n",
       "    <tr>\n",
       "      <th>0</th>\n",
       "      <td>12346.0</td>\n",
       "      <td>325</td>\n",
       "      <td>2</td>\n",
       "      <td>0</td>\n",
       "    </tr>\n",
       "    <tr>\n",
       "      <th>1</th>\n",
       "      <td>12347.0</td>\n",
       "      <td>1</td>\n",
       "      <td>7</td>\n",
       "      <td>2458</td>\n",
       "    </tr>\n",
       "    <tr>\n",
       "      <th>2</th>\n",
       "      <td>12348.0</td>\n",
       "      <td>74</td>\n",
       "      <td>4</td>\n",
       "      <td>2332</td>\n",
       "    </tr>\n",
       "    <tr>\n",
       "      <th>3</th>\n",
       "      <td>12349.0</td>\n",
       "      <td>18</td>\n",
       "      <td>1</td>\n",
       "      <td>630</td>\n",
       "    </tr>\n",
       "    <tr>\n",
       "      <th>4</th>\n",
       "      <td>12350.0</td>\n",
       "      <td>309</td>\n",
       "      <td>1</td>\n",
       "      <td>196</td>\n",
       "    </tr>\n",
       "  </tbody>\n",
       "</table>\n",
       "</div>"
      ],
      "text/plain": [
       "   Customer ID  Recency  Total_Transactions  Total_Products_Purchased\n",
       "0      12346.0      325                   2                         0\n",
       "1      12347.0        1                   7                      2458\n",
       "2      12348.0       74                   4                      2332\n",
       "3      12349.0       18                   1                       630\n",
       "4      12350.0      309                   1                       196"
      ]
     },
     "execution_count": 1245,
     "metadata": {},
     "output_type": "execute_result"
    }
   ],
   "source": [
    "# Calculate the total number of transactions made by each customer\n",
    "total_transactions = df.groupby('Customer ID')['Invoice'] \\\n",
    "                    .nunique() \\\n",
    "                        .reset_index()\n",
    "total_transactions.rename(columns={'Invoice': 'Total_Transactions'}, inplace=True)\n",
    "\n",
    "# Calculate the total number of products purchased by each customer\n",
    "total_products_purchased = df.groupby('Customer ID')['Quantity'] \\\n",
    "                            .sum() \\\n",
    "                                .reset_index()\n",
    "total_products_purchased.rename(columns={'Quantity': 'Total_Products_Purchased'}, inplace=True)\n",
    "\n",
    "# Merge the new features into the customer_data dataframe\n",
    "customer_data = pd.merge(customer_data, total_transactions, on='Customer ID')\n",
    "customer_data = pd.merge(customer_data, total_products_purchased, on='Customer ID')\n",
    "\n",
    "# Display the first few rows of the customer_data dataframe\n",
    "customer_data.head()"
   ]
  },
  {
   "cell_type": "markdown",
   "metadata": {},
   "source": [
    "### Monetary\n",
    "\n",
    "There are two features that represent the monetary aspect of customer's transactions:\n",
    "\n",
    "- **Total Spend:** This feature represents the total amount of money spent by each customer. It is calculated as the sum of the product of UnitPrice and Quantity for all transactions made by a customer. This feature is crucial as it helps in identifying the total revenue generated by each customer, which is a direct indicator of a customer's value to the business.\n",
    "\n",
    "- **Average Transaction Value:** This feature is calculated as the **Total Spend** divided by the Total Transactions for each customer. It indicates the average value of a transaction carried out by a customer. This metric is useful in understanding the spending behavior of customers per transaction, which can assist in tailoring marketing strategies and offers to different customer segments based on their average spending patterns."
   ]
  },
  {
   "cell_type": "code",
   "execution_count": 1246,
   "metadata": {},
   "outputs": [
    {
     "data": {
      "text/html": [
       "<div>\n",
       "<style scoped>\n",
       "    .dataframe tbody tr th:only-of-type {\n",
       "        vertical-align: middle;\n",
       "    }\n",
       "\n",
       "    .dataframe tbody tr th {\n",
       "        vertical-align: top;\n",
       "    }\n",
       "\n",
       "    .dataframe thead th {\n",
       "        text-align: right;\n",
       "    }\n",
       "</style>\n",
       "<table border=\"1\" class=\"dataframe\">\n",
       "  <thead>\n",
       "    <tr style=\"text-align: right;\">\n",
       "      <th></th>\n",
       "      <th>Customer ID</th>\n",
       "      <th>Recency</th>\n",
       "      <th>Total_Transactions</th>\n",
       "      <th>Total_Products_Purchased</th>\n",
       "      <th>Total_Spend</th>\n",
       "      <th>Average_Transaction_Value</th>\n",
       "    </tr>\n",
       "  </thead>\n",
       "  <tbody>\n",
       "    <tr>\n",
       "      <th>0</th>\n",
       "      <td>12346.0</td>\n",
       "      <td>325</td>\n",
       "      <td>2</td>\n",
       "      <td>0</td>\n",
       "      <td>0.00</td>\n",
       "      <td>0.000000</td>\n",
       "    </tr>\n",
       "    <tr>\n",
       "      <th>1</th>\n",
       "      <td>12347.0</td>\n",
       "      <td>1</td>\n",
       "      <td>7</td>\n",
       "      <td>2458</td>\n",
       "      <td>4310.00</td>\n",
       "      <td>615.714286</td>\n",
       "    </tr>\n",
       "    <tr>\n",
       "      <th>2</th>\n",
       "      <td>12348.0</td>\n",
       "      <td>74</td>\n",
       "      <td>4</td>\n",
       "      <td>2332</td>\n",
       "      <td>1437.24</td>\n",
       "      <td>359.310000</td>\n",
       "    </tr>\n",
       "    <tr>\n",
       "      <th>3</th>\n",
       "      <td>12349.0</td>\n",
       "      <td>18</td>\n",
       "      <td>1</td>\n",
       "      <td>630</td>\n",
       "      <td>1457.55</td>\n",
       "      <td>1457.550000</td>\n",
       "    </tr>\n",
       "    <tr>\n",
       "      <th>4</th>\n",
       "      <td>12350.0</td>\n",
       "      <td>309</td>\n",
       "      <td>1</td>\n",
       "      <td>196</td>\n",
       "      <td>294.40</td>\n",
       "      <td>294.400000</td>\n",
       "    </tr>\n",
       "  </tbody>\n",
       "</table>\n",
       "</div>"
      ],
      "text/plain": [
       "   Customer ID  Recency  Total_Transactions  Total_Products_Purchased  \\\n",
       "0      12346.0      325                   2                         0   \n",
       "1      12347.0        1                   7                      2458   \n",
       "2      12348.0       74                   4                      2332   \n",
       "3      12349.0       18                   1                       630   \n",
       "4      12350.0      309                   1                       196   \n",
       "\n",
       "   Total_Spend  Average_Transaction_Value  \n",
       "0         0.00                   0.000000  \n",
       "1      4310.00                 615.714286  \n",
       "2      1437.24                 359.310000  \n",
       "3      1457.55                1457.550000  \n",
       "4       294.40                 294.400000  "
      ]
     },
     "execution_count": 1246,
     "metadata": {},
     "output_type": "execute_result"
    }
   ],
   "source": [
    "# Calculate the total spend by each customer\n",
    "total_spend = df.groupby('Customer ID')['TotalPrice'] \\\n",
    "            .sum() \\\n",
    "                .reset_index()\n",
    "\n",
    "total_spend.rename(columns={'TotalPrice': 'Total_Spend'}, inplace=True)\n",
    "\n",
    "# Calculate the average transaction value for each customer\n",
    "average_transaction_value = total_spend.merge(total_transactions, on='Customer ID')\n",
    "average_transaction_value['Average_Transaction_Value'] = average_transaction_value['Total_Spend'] / average_transaction_value['Total_Transactions']\n",
    "\n",
    "# Merge the new features into the customer_data dataframe\n",
    "customer_data = pd.merge(customer_data, total_spend, on='Customer ID')\n",
    "customer_data = pd.merge(customer_data, average_transaction_value[['Customer ID', 'Average_Transaction_Value']], on='Customer ID')\n",
    "\n",
    "# Display the first few rows of the customer_data dataframe\n",
    "customer_data.head()"
   ]
  },
  {
   "cell_type": "code",
   "execution_count": 1247,
   "metadata": {},
   "outputs": [
    {
     "data": {
      "text/html": [
       "<div>\n",
       "<style scoped>\n",
       "    .dataframe tbody tr th:only-of-type {\n",
       "        vertical-align: middle;\n",
       "    }\n",
       "\n",
       "    .dataframe tbody tr th {\n",
       "        vertical-align: top;\n",
       "    }\n",
       "\n",
       "    .dataframe thead th {\n",
       "        text-align: right;\n",
       "    }\n",
       "</style>\n",
       "<table border=\"1\" class=\"dataframe\">\n",
       "  <thead>\n",
       "    <tr style=\"text-align: right;\">\n",
       "      <th></th>\n",
       "      <th>Customer ID</th>\n",
       "      <th>Recency</th>\n",
       "      <th>Total_Transactions</th>\n",
       "      <th>Total_Products_Purchased</th>\n",
       "      <th>Total_Spend</th>\n",
       "      <th>Average_Transaction_Value</th>\n",
       "      <th>Unique_Products_Purchased</th>\n",
       "    </tr>\n",
       "  </thead>\n",
       "  <tbody>\n",
       "    <tr>\n",
       "      <th>0</th>\n",
       "      <td>12346.0</td>\n",
       "      <td>325</td>\n",
       "      <td>2</td>\n",
       "      <td>0</td>\n",
       "      <td>0.00</td>\n",
       "      <td>0.000000</td>\n",
       "      <td>1</td>\n",
       "    </tr>\n",
       "    <tr>\n",
       "      <th>1</th>\n",
       "      <td>12347.0</td>\n",
       "      <td>1</td>\n",
       "      <td>7</td>\n",
       "      <td>2458</td>\n",
       "      <td>4310.00</td>\n",
       "      <td>615.714286</td>\n",
       "      <td>103</td>\n",
       "    </tr>\n",
       "    <tr>\n",
       "      <th>2</th>\n",
       "      <td>12348.0</td>\n",
       "      <td>74</td>\n",
       "      <td>4</td>\n",
       "      <td>2332</td>\n",
       "      <td>1437.24</td>\n",
       "      <td>359.310000</td>\n",
       "      <td>21</td>\n",
       "    </tr>\n",
       "    <tr>\n",
       "      <th>3</th>\n",
       "      <td>12349.0</td>\n",
       "      <td>18</td>\n",
       "      <td>1</td>\n",
       "      <td>630</td>\n",
       "      <td>1457.55</td>\n",
       "      <td>1457.550000</td>\n",
       "      <td>72</td>\n",
       "    </tr>\n",
       "    <tr>\n",
       "      <th>4</th>\n",
       "      <td>12350.0</td>\n",
       "      <td>309</td>\n",
       "      <td>1</td>\n",
       "      <td>196</td>\n",
       "      <td>294.40</td>\n",
       "      <td>294.400000</td>\n",
       "      <td>16</td>\n",
       "    </tr>\n",
       "  </tbody>\n",
       "</table>\n",
       "</div>"
      ],
      "text/plain": [
       "   Customer ID  Recency  Total_Transactions  Total_Products_Purchased  \\\n",
       "0      12346.0      325                   2                         0   \n",
       "1      12347.0        1                   7                      2458   \n",
       "2      12348.0       74                   4                      2332   \n",
       "3      12349.0       18                   1                       630   \n",
       "4      12350.0      309                   1                       196   \n",
       "\n",
       "   Total_Spend  Average_Transaction_Value  Unique_Products_Purchased  \n",
       "0         0.00                   0.000000                          1  \n",
       "1      4310.00                 615.714286                        103  \n",
       "2      1437.24                 359.310000                         21  \n",
       "3      1457.55                1457.550000                         72  \n",
       "4       294.40                 294.400000                         16  "
      ]
     },
     "execution_count": 1247,
     "metadata": {},
     "output_type": "execute_result"
    }
   ],
   "source": [
    "# Calculate the number of unique products purchased by each customer\n",
    "unique_products_purchased = df.groupby('Customer ID')['StockCode'] \\\n",
    "                            .nunique() \\\n",
    "                                .reset_index()\n",
    "unique_products_purchased.rename(columns={'StockCode': 'Unique_Products_Purchased'}, inplace=True)\n",
    "\n",
    "# Merge the new feature into the customer_data dataframe\n",
    "customer_data = pd.merge(customer_data, unique_products_purchased, on='Customer ID')\n",
    "\n",
    "# Display the first few rows of the customer_data dataframe\n",
    "customer_data.head()"
   ]
  },
  {
   "cell_type": "markdown",
   "metadata": {},
   "source": [
    "## Cancellation Insights\n",
    "\n",
    "- **Cancellation Frequency:** This metric represents the total number of transactions a customer has canceled. Understanding the frequency of cancellations can help us identify customers who are more likely to cancel transactions. This could be an indicator of dissatisfaction or other issues, and understanding this can help us tailor strategies to reduce cancellations and enhance customer satisfaction.\n",
    "\n",
    "- **Cancellation Rate:** This represents the proportion of transactions that a customer has canceled out of all their transactions. This metric gives a normalized view of cancellation behavior. A high cancellation rate might be indicative of an unsatisfied customer segment. By identifying these segments, we can develop targeted strategies to improve their shopping experience and potentially reduce the cancellation rate."
   ]
  },
  {
   "cell_type": "code",
   "execution_count": 1248,
   "metadata": {},
   "outputs": [
    {
     "data": {
      "text/html": [
       "<div>\n",
       "<style scoped>\n",
       "    .dataframe tbody tr th:only-of-type {\n",
       "        vertical-align: middle;\n",
       "    }\n",
       "\n",
       "    .dataframe tbody tr th {\n",
       "        vertical-align: top;\n",
       "    }\n",
       "\n",
       "    .dataframe thead th {\n",
       "        text-align: right;\n",
       "    }\n",
       "</style>\n",
       "<table border=\"1\" class=\"dataframe\">\n",
       "  <thead>\n",
       "    <tr style=\"text-align: right;\">\n",
       "      <th></th>\n",
       "      <th>Customer ID</th>\n",
       "      <th>Recency</th>\n",
       "      <th>Total_Transactions</th>\n",
       "      <th>Total_Products_Purchased</th>\n",
       "      <th>Total_Spend</th>\n",
       "      <th>Average_Transaction_Value</th>\n",
       "      <th>Unique_Products_Purchased</th>\n",
       "      <th>Cancellation_Frequency</th>\n",
       "      <th>Cancellation_Rate</th>\n",
       "    </tr>\n",
       "  </thead>\n",
       "  <tbody>\n",
       "    <tr>\n",
       "      <th>0</th>\n",
       "      <td>12346.0</td>\n",
       "      <td>325</td>\n",
       "      <td>2</td>\n",
       "      <td>0</td>\n",
       "      <td>0.00</td>\n",
       "      <td>0.000000</td>\n",
       "      <td>1</td>\n",
       "      <td>1.0</td>\n",
       "      <td>0.5</td>\n",
       "    </tr>\n",
       "    <tr>\n",
       "      <th>1</th>\n",
       "      <td>12347.0</td>\n",
       "      <td>1</td>\n",
       "      <td>7</td>\n",
       "      <td>2458</td>\n",
       "      <td>4310.00</td>\n",
       "      <td>615.714286</td>\n",
       "      <td>103</td>\n",
       "      <td>0.0</td>\n",
       "      <td>0.0</td>\n",
       "    </tr>\n",
       "    <tr>\n",
       "      <th>2</th>\n",
       "      <td>12348.0</td>\n",
       "      <td>74</td>\n",
       "      <td>4</td>\n",
       "      <td>2332</td>\n",
       "      <td>1437.24</td>\n",
       "      <td>359.310000</td>\n",
       "      <td>21</td>\n",
       "      <td>0.0</td>\n",
       "      <td>0.0</td>\n",
       "    </tr>\n",
       "    <tr>\n",
       "      <th>3</th>\n",
       "      <td>12349.0</td>\n",
       "      <td>18</td>\n",
       "      <td>1</td>\n",
       "      <td>630</td>\n",
       "      <td>1457.55</td>\n",
       "      <td>1457.550000</td>\n",
       "      <td>72</td>\n",
       "      <td>0.0</td>\n",
       "      <td>0.0</td>\n",
       "    </tr>\n",
       "    <tr>\n",
       "      <th>4</th>\n",
       "      <td>12350.0</td>\n",
       "      <td>309</td>\n",
       "      <td>1</td>\n",
       "      <td>196</td>\n",
       "      <td>294.40</td>\n",
       "      <td>294.400000</td>\n",
       "      <td>16</td>\n",
       "      <td>0.0</td>\n",
       "      <td>0.0</td>\n",
       "    </tr>\n",
       "  </tbody>\n",
       "</table>\n",
       "</div>"
      ],
      "text/plain": [
       "   Customer ID  Recency  Total_Transactions  Total_Products_Purchased  \\\n",
       "0      12346.0      325                   2                         0   \n",
       "1      12347.0        1                   7                      2458   \n",
       "2      12348.0       74                   4                      2332   \n",
       "3      12349.0       18                   1                       630   \n",
       "4      12350.0      309                   1                       196   \n",
       "\n",
       "   Total_Spend  Average_Transaction_Value  Unique_Products_Purchased  \\\n",
       "0         0.00                   0.000000                          1   \n",
       "1      4310.00                 615.714286                        103   \n",
       "2      1437.24                 359.310000                         21   \n",
       "3      1457.55                1457.550000                         72   \n",
       "4       294.40                 294.400000                         16   \n",
       "\n",
       "   Cancellation_Frequency  Cancellation_Rate  \n",
       "0                     1.0                0.5  \n",
       "1                     0.0                0.0  \n",
       "2                     0.0                0.0  \n",
       "3                     0.0                0.0  \n",
       "4                     0.0                0.0  "
      ]
     },
     "execution_count": 1248,
     "metadata": {},
     "output_type": "execute_result"
    }
   ],
   "source": [
    "# Calculate the total number of transactions made by each customer\n",
    "total_transactions = df.groupby('Customer ID')['Invoice'].nunique().reset_index()\n",
    "\n",
    "# Calculate the number of cancelled transactions for each customer\n",
    "cancelled_transactions = df[df['Transaction_Status'] == 'Cancelled']\n",
    "cancellation_frequency = cancelled_transactions.groupby('Customer ID')['Invoice'].nunique().reset_index()\n",
    "cancellation_frequency.rename(columns={'Invoice': 'Cancellation_Frequency'}, inplace=True)\n",
    "\n",
    "# Merge the Cancellation Frequency data into the customer_data dataframe\n",
    "customer_data = pd.merge(customer_data, cancellation_frequency, on='Customer ID', how='left')\n",
    "\n",
    "# Replace NaN values with 0 (for customers who have not cancelled any transaction)\n",
    "customer_data['Cancellation_Frequency'].fillna(0, inplace=True)\n",
    "\n",
    "# Calculate the Cancellation Rate\n",
    "customer_data['Cancellation_Rate'] = customer_data['Cancellation_Frequency'] / total_transactions['Invoice']\n",
    "\n",
    "# Display the first few rows of the customer_data dataframe\n",
    "customer_data.head()"
   ]
  },
  {
   "cell_type": "code",
   "execution_count": 1249,
   "metadata": {},
   "outputs": [
    {
     "name": "stdout",
     "output_type": "stream",
     "text": [
      "Number of customers who cancelled at least one transaction: 1534\n"
     ]
    },
    {
     "data": {
      "text/html": [
       "<div>\n",
       "<style scoped>\n",
       "    .dataframe tbody tr th:only-of-type {\n",
       "        vertical-align: middle;\n",
       "    }\n",
       "\n",
       "    .dataframe tbody tr th {\n",
       "        vertical-align: top;\n",
       "    }\n",
       "\n",
       "    .dataframe thead th {\n",
       "        text-align: right;\n",
       "    }\n",
       "</style>\n",
       "<table border=\"1\" class=\"dataframe\">\n",
       "  <thead>\n",
       "    <tr style=\"text-align: right;\">\n",
       "      <th></th>\n",
       "      <th>Customer ID</th>\n",
       "      <th>Recency</th>\n",
       "      <th>Total_Transactions</th>\n",
       "      <th>Total_Products_Purchased</th>\n",
       "      <th>Total_Spend</th>\n",
       "      <th>Average_Transaction_Value</th>\n",
       "      <th>Unique_Products_Purchased</th>\n",
       "      <th>Cancellation_Frequency</th>\n",
       "      <th>Cancellation_Rate</th>\n",
       "    </tr>\n",
       "  </thead>\n",
       "  <tbody>\n",
       "    <tr>\n",
       "      <th>0</th>\n",
       "      <td>12346.0</td>\n",
       "      <td>325</td>\n",
       "      <td>2</td>\n",
       "      <td>0</td>\n",
       "      <td>0.00</td>\n",
       "      <td>0.000000</td>\n",
       "      <td>1</td>\n",
       "      <td>1.0</td>\n",
       "      <td>0.500000</td>\n",
       "    </tr>\n",
       "    <tr>\n",
       "      <th>5</th>\n",
       "      <td>12352.0</td>\n",
       "      <td>35</td>\n",
       "      <td>8</td>\n",
       "      <td>463</td>\n",
       "      <td>1265.41</td>\n",
       "      <td>158.176250</td>\n",
       "      <td>57</td>\n",
       "      <td>1.0</td>\n",
       "      <td>0.125000</td>\n",
       "    </tr>\n",
       "    <tr>\n",
       "      <th>12</th>\n",
       "      <td>12359.0</td>\n",
       "      <td>7</td>\n",
       "      <td>6</td>\n",
       "      <td>1599</td>\n",
       "      <td>6182.98</td>\n",
       "      <td>1030.496667</td>\n",
       "      <td>214</td>\n",
       "      <td>2.0</td>\n",
       "      <td>0.333333</td>\n",
       "    </tr>\n",
       "    <tr>\n",
       "      <th>15</th>\n",
       "      <td>12362.0</td>\n",
       "      <td>2</td>\n",
       "      <td>13</td>\n",
       "      <td>2180</td>\n",
       "      <td>4665.58</td>\n",
       "      <td>358.890769</td>\n",
       "      <td>200</td>\n",
       "      <td>3.0</td>\n",
       "      <td>0.230769</td>\n",
       "    </tr>\n",
       "    <tr>\n",
       "      <th>25</th>\n",
       "      <td>12375.0</td>\n",
       "      <td>2</td>\n",
       "      <td>3</td>\n",
       "      <td>175</td>\n",
       "      <td>375.42</td>\n",
       "      <td>125.140000</td>\n",
       "      <td>13</td>\n",
       "      <td>1.0</td>\n",
       "      <td>0.333333</td>\n",
       "    </tr>\n",
       "    <tr>\n",
       "      <th>28</th>\n",
       "      <td>12379.0</td>\n",
       "      <td>81</td>\n",
       "      <td>3</td>\n",
       "      <td>401</td>\n",
       "      <td>775.29</td>\n",
       "      <td>258.430000</td>\n",
       "      <td>38</td>\n",
       "      <td>1.0</td>\n",
       "      <td>0.333333</td>\n",
       "    </tr>\n",
       "    <tr>\n",
       "      <th>29</th>\n",
       "      <td>12380.0</td>\n",
       "      <td>21</td>\n",
       "      <td>5</td>\n",
       "      <td>1109</td>\n",
       "      <td>2423.56</td>\n",
       "      <td>484.712000</td>\n",
       "      <td>76</td>\n",
       "      <td>1.0</td>\n",
       "      <td>0.200000</td>\n",
       "    </tr>\n",
       "    <tr>\n",
       "      <th>30</th>\n",
       "      <td>12381.0</td>\n",
       "      <td>4</td>\n",
       "      <td>4</td>\n",
       "      <td>772</td>\n",
       "      <td>1433.46</td>\n",
       "      <td>358.365000</td>\n",
       "      <td>69</td>\n",
       "      <td>1.0</td>\n",
       "      <td>0.250000</td>\n",
       "    </tr>\n",
       "    <tr>\n",
       "      <th>31</th>\n",
       "      <td>12383.0</td>\n",
       "      <td>184</td>\n",
       "      <td>6</td>\n",
       "      <td>1515</td>\n",
       "      <td>1617.31</td>\n",
       "      <td>269.551667</td>\n",
       "      <td>83</td>\n",
       "      <td>1.0</td>\n",
       "      <td>0.166667</td>\n",
       "    </tr>\n",
       "    <tr>\n",
       "      <th>32</th>\n",
       "      <td>12384.0</td>\n",
       "      <td>28</td>\n",
       "      <td>3</td>\n",
       "      <td>117</td>\n",
       "      <td>406.16</td>\n",
       "      <td>135.386667</td>\n",
       "      <td>25</td>\n",
       "      <td>1.0</td>\n",
       "      <td>0.333333</td>\n",
       "    </tr>\n",
       "    <tr>\n",
       "      <th>39</th>\n",
       "      <td>12395.0</td>\n",
       "      <td>15</td>\n",
       "      <td>15</td>\n",
       "      <td>2092</td>\n",
       "      <td>2662.28</td>\n",
       "      <td>177.485333</td>\n",
       "      <td>90</td>\n",
       "      <td>3.0</td>\n",
       "      <td>0.200000</td>\n",
       "    </tr>\n",
       "    <tr>\n",
       "      <th>47</th>\n",
       "      <td>12406.0</td>\n",
       "      <td>21</td>\n",
       "      <td>3</td>\n",
       "      <td>1809</td>\n",
       "      <td>3280.75</td>\n",
       "      <td>1093.583333</td>\n",
       "      <td>92</td>\n",
       "      <td>1.0</td>\n",
       "      <td>0.333333</td>\n",
       "    </tr>\n",
       "    <tr>\n",
       "      <th>49</th>\n",
       "      <td>12408.0</td>\n",
       "      <td>32</td>\n",
       "      <td>8</td>\n",
       "      <td>1382</td>\n",
       "      <td>2587.57</td>\n",
       "      <td>323.446250</td>\n",
       "      <td>80</td>\n",
       "      <td>3.0</td>\n",
       "      <td>0.375000</td>\n",
       "    </tr>\n",
       "    <tr>\n",
       "      <th>50</th>\n",
       "      <td>12409.0</td>\n",
       "      <td>78</td>\n",
       "      <td>7</td>\n",
       "      <td>5543</td>\n",
       "      <td>11056.93</td>\n",
       "      <td>1579.561429</td>\n",
       "      <td>91</td>\n",
       "      <td>4.0</td>\n",
       "      <td>0.571429</td>\n",
       "    </tr>\n",
       "    <tr>\n",
       "      <th>51</th>\n",
       "      <td>12410.0</td>\n",
       "      <td>300</td>\n",
       "      <td>3</td>\n",
       "      <td>205</td>\n",
       "      <td>521.08</td>\n",
       "      <td>173.693333</td>\n",
       "      <td>25</td>\n",
       "      <td>1.0</td>\n",
       "      <td>0.333333</td>\n",
       "    </tr>\n",
       "  </tbody>\n",
       "</table>\n",
       "</div>"
      ],
      "text/plain": [
       "    Customer ID  Recency  Total_Transactions  Total_Products_Purchased  \\\n",
       "0       12346.0      325                   2                         0   \n",
       "5       12352.0       35                   8                       463   \n",
       "12      12359.0        7                   6                      1599   \n",
       "15      12362.0        2                  13                      2180   \n",
       "25      12375.0        2                   3                       175   \n",
       "28      12379.0       81                   3                       401   \n",
       "29      12380.0       21                   5                      1109   \n",
       "30      12381.0        4                   4                       772   \n",
       "31      12383.0      184                   6                      1515   \n",
       "32      12384.0       28                   3                       117   \n",
       "39      12395.0       15                  15                      2092   \n",
       "47      12406.0       21                   3                      1809   \n",
       "49      12408.0       32                   8                      1382   \n",
       "50      12409.0       78                   7                      5543   \n",
       "51      12410.0      300                   3                       205   \n",
       "\n",
       "    Total_Spend  Average_Transaction_Value  Unique_Products_Purchased  \\\n",
       "0          0.00                   0.000000                          1   \n",
       "5       1265.41                 158.176250                         57   \n",
       "12      6182.98                1030.496667                        214   \n",
       "15      4665.58                 358.890769                        200   \n",
       "25       375.42                 125.140000                         13   \n",
       "28       775.29                 258.430000                         38   \n",
       "29      2423.56                 484.712000                         76   \n",
       "30      1433.46                 358.365000                         69   \n",
       "31      1617.31                 269.551667                         83   \n",
       "32       406.16                 135.386667                         25   \n",
       "39      2662.28                 177.485333                         90   \n",
       "47      3280.75                1093.583333                         92   \n",
       "49      2587.57                 323.446250                         80   \n",
       "50     11056.93                1579.561429                         91   \n",
       "51       521.08                 173.693333                         25   \n",
       "\n",
       "    Cancellation_Frequency  Cancellation_Rate  \n",
       "0                      1.0           0.500000  \n",
       "5                      1.0           0.125000  \n",
       "12                     2.0           0.333333  \n",
       "15                     3.0           0.230769  \n",
       "25                     1.0           0.333333  \n",
       "28                     1.0           0.333333  \n",
       "29                     1.0           0.200000  \n",
       "30                     1.0           0.250000  \n",
       "31                     1.0           0.166667  \n",
       "32                     1.0           0.333333  \n",
       "39                     3.0           0.200000  \n",
       "47                     1.0           0.333333  \n",
       "49                     3.0           0.375000  \n",
       "50                     4.0           0.571429  \n",
       "51                     1.0           0.333333  "
      ]
     },
     "execution_count": 1249,
     "metadata": {},
     "output_type": "execute_result"
    }
   ],
   "source": [
    "# Number of customers who cancelled at least one transaction\n",
    "customers_who_cancelled = customer_data[customer_data['Cancellation_Rate'] > 0]\n",
    "print(f\"Number of customers who cancelled at least one transaction: {customers_who_cancelled.shape[0]}\")\n",
    "customers_who_cancelled.head(15)"
   ]
  },
  {
   "cell_type": "markdown",
   "metadata": {},
   "source": [
    "## Seasonality\n",
    "\n",
    "The seasonality in customers' purchasing behaviors can offer invaluable insights for tailoring marketing strategies and enhancing customer satisfaction. Here are the two features to introduce:\n",
    "\n",
    "- **Monthly_Spending_Mean:** This is the average amount a customer spends monthly. It helps us gauge the general spending habit of each customer. A higher mean indicates a customer who spends more, potentially showing interest in premium products, whereas a lower mean might indicate a more budget-conscious customer.\n",
    "\n",
    "- **Monthly_Spending_Std:** This feature indicates the variability in a customer's monthly spending. A higher value signals that the customer's spending fluctuates significantly month-to-month, perhaps indicating sporadic large purchases. In contrast, a lower value suggests more stable, consistent spending habits. Understanding this variability can help in crafting personalized promotions or discounts during periods they are expected to spend more."
   ]
  },
  {
   "cell_type": "code",
   "execution_count": 1250,
   "metadata": {},
   "outputs": [],
   "source": [
    "# Extract month and year from InvoiceDate\n",
    "df['Year'] = df['InvoiceDate'].dt.year\n",
    "df['Month'] = df['InvoiceDate'].dt.month\n",
    "\n",
    "# Calculate monthly spending for each customer\n",
    "monthly_spending = df.groupby(['Customer ID', 'Year', 'Month'])['TotalPrice'].sum().reset_index()\n",
    "\n",
    "# Calculate Seasonal Buying Patterns: We are using monthly frequency as a proxy for seasonal buying patterns\n",
    "seasonal_buying_patterns = monthly_spending.groupby('Customer ID')['TotalPrice'].agg(['mean', 'std']).reset_index()\n",
    "seasonal_buying_patterns.rename(columns={'mean': 'Monthly_Spending_Mean', 'std': 'Monthly_Spending_Std'}, inplace=True)\n",
    "\n",
    "# Replace NaN values in Monthly_Spending_Std with 0, implying no variability for customers with single transaction month\n",
    "seasonal_buying_patterns['Monthly_Spending_Std'].fillna(0, inplace=True)\n",
    "\n",
    "# Remove the Year and Month columns from the original dataframe\n",
    "df.drop(columns=['Year', 'Month'], inplace=True)"
   ]
  },
  {
   "cell_type": "code",
   "execution_count": 1251,
   "metadata": {},
   "outputs": [
    {
     "data": {
      "text/html": [
       "<div>\n",
       "<style scoped>\n",
       "    .dataframe tbody tr th:only-of-type {\n",
       "        vertical-align: middle;\n",
       "    }\n",
       "\n",
       "    .dataframe tbody tr th {\n",
       "        vertical-align: top;\n",
       "    }\n",
       "\n",
       "    .dataframe thead th {\n",
       "        text-align: right;\n",
       "    }\n",
       "</style>\n",
       "<table border=\"1\" class=\"dataframe\">\n",
       "  <thead>\n",
       "    <tr style=\"text-align: right;\">\n",
       "      <th></th>\n",
       "      <th>Customer ID</th>\n",
       "      <th>Recency</th>\n",
       "      <th>Total_Transactions</th>\n",
       "      <th>Total_Products_Purchased</th>\n",
       "      <th>Total_Spend</th>\n",
       "      <th>Average_Transaction_Value</th>\n",
       "      <th>Unique_Products_Purchased</th>\n",
       "      <th>Cancellation_Frequency</th>\n",
       "      <th>Cancellation_Rate</th>\n",
       "      <th>Monthly_Spending_Mean</th>\n",
       "      <th>Monthly_Spending_Std</th>\n",
       "    </tr>\n",
       "  </thead>\n",
       "  <tbody>\n",
       "    <tr>\n",
       "      <th>0</th>\n",
       "      <td>12346.0</td>\n",
       "      <td>325</td>\n",
       "      <td>2</td>\n",
       "      <td>0</td>\n",
       "      <td>0.00</td>\n",
       "      <td>0.000000</td>\n",
       "      <td>1</td>\n",
       "      <td>1.0</td>\n",
       "      <td>0.5</td>\n",
       "      <td>0.000000</td>\n",
       "      <td>0.000000</td>\n",
       "    </tr>\n",
       "    <tr>\n",
       "      <th>1</th>\n",
       "      <td>12347.0</td>\n",
       "      <td>1</td>\n",
       "      <td>7</td>\n",
       "      <td>2458</td>\n",
       "      <td>4310.00</td>\n",
       "      <td>615.714286</td>\n",
       "      <td>103</td>\n",
       "      <td>0.0</td>\n",
       "      <td>0.0</td>\n",
       "      <td>615.714286</td>\n",
       "      <td>341.070789</td>\n",
       "    </tr>\n",
       "    <tr>\n",
       "      <th>2</th>\n",
       "      <td>12348.0</td>\n",
       "      <td>74</td>\n",
       "      <td>4</td>\n",
       "      <td>2332</td>\n",
       "      <td>1437.24</td>\n",
       "      <td>359.310000</td>\n",
       "      <td>21</td>\n",
       "      <td>0.0</td>\n",
       "      <td>0.0</td>\n",
       "      <td>359.310000</td>\n",
       "      <td>203.875689</td>\n",
       "    </tr>\n",
       "    <tr>\n",
       "      <th>3</th>\n",
       "      <td>12349.0</td>\n",
       "      <td>18</td>\n",
       "      <td>1</td>\n",
       "      <td>630</td>\n",
       "      <td>1457.55</td>\n",
       "      <td>1457.550000</td>\n",
       "      <td>72</td>\n",
       "      <td>0.0</td>\n",
       "      <td>0.0</td>\n",
       "      <td>1457.550000</td>\n",
       "      <td>0.000000</td>\n",
       "    </tr>\n",
       "    <tr>\n",
       "      <th>4</th>\n",
       "      <td>12350.0</td>\n",
       "      <td>309</td>\n",
       "      <td>1</td>\n",
       "      <td>196</td>\n",
       "      <td>294.40</td>\n",
       "      <td>294.400000</td>\n",
       "      <td>16</td>\n",
       "      <td>0.0</td>\n",
       "      <td>0.0</td>\n",
       "      <td>294.400000</td>\n",
       "      <td>0.000000</td>\n",
       "    </tr>\n",
       "  </tbody>\n",
       "</table>\n",
       "</div>"
      ],
      "text/plain": [
       "   Customer ID  Recency  Total_Transactions  Total_Products_Purchased  \\\n",
       "0      12346.0      325                   2                         0   \n",
       "1      12347.0        1                   7                      2458   \n",
       "2      12348.0       74                   4                      2332   \n",
       "3      12349.0       18                   1                       630   \n",
       "4      12350.0      309                   1                       196   \n",
       "\n",
       "   Total_Spend  Average_Transaction_Value  Unique_Products_Purchased  \\\n",
       "0         0.00                   0.000000                          1   \n",
       "1      4310.00                 615.714286                        103   \n",
       "2      1437.24                 359.310000                         21   \n",
       "3      1457.55                1457.550000                         72   \n",
       "4       294.40                 294.400000                         16   \n",
       "\n",
       "   Cancellation_Frequency  Cancellation_Rate  Monthly_Spending_Mean  \\\n",
       "0                     1.0                0.5               0.000000   \n",
       "1                     0.0                0.0             615.714286   \n",
       "2                     0.0                0.0             359.310000   \n",
       "3                     0.0                0.0            1457.550000   \n",
       "4                     0.0                0.0             294.400000   \n",
       "\n",
       "   Monthly_Spending_Std  \n",
       "0              0.000000  \n",
       "1            341.070789  \n",
       "2            203.875689  \n",
       "3              0.000000  \n",
       "4              0.000000  "
      ]
     },
     "execution_count": 1251,
     "metadata": {},
     "output_type": "execute_result"
    }
   ],
   "source": [
    "# Merge the new features into the customer_data dataframe\n",
    "customer_data = pd.merge(customer_data, seasonal_buying_patterns, on='Customer ID')\n",
    "\n",
    "# Display the first few rows of the customer_data dataframe\n",
    "customer_data.head()"
   ]
  },
  {
   "cell_type": "markdown",
   "metadata": {},
   "source": [
    "## Customer Dataset Description\n",
    "\n",
    "| **Column**                    | **Description**                                                                                      |\n",
    "|-------------------------------|------------------------------------------------------------------------------------------------------|\n",
    "| Customer ID                   | Identifier uniquely assigned to each customer, used to distinguish individual customers.             |\n",
    "| Recency                       | The number of days that have passed since the customer's last purchase.                             |\n",
    "| Total_Transactions            | The total number of transactions made by the customer.                                              |\n",
    "| Total_Products_Purchased      | The total quantity of products purchased by the customer across all transactions.                   |\n",
    "| Total_Spend                   | The total amount of money the customer has spent across all transactions.                           |\n",
    "| Average_Transaction_Value     | The average value of the customer's transactions, calculated as total spend divided by transactions. |\n",
    "| Unique_Products_Purchased     | The number of different products the customer has purchased.                                        |\n",
    "| Cancellation_Frequency        | The total number of transactions that the customer has cancelled.                                   |\n",
    "| Cancellation_Rate             | The proportion of transactions that the customer has cancelled, calculated as cancellations/total.  |\n",
    "| Monthly_Spending_Mean         | The average monthly spending of the customer.                                                       |\n",
    "| Monthly_Spending_Std          | The standard deviation of the customer's monthly spending, indicating variability.                  |\n"
   ]
  },
  {
   "cell_type": "markdown",
   "metadata": {},
   "source": [
    "## Outlier Detection\n",
    "\n",
    "**Isolation Forest** algorithm works well for multi-dimensional data and is computationally efficient. It isolates observations by randomly selecting a feature and then randomly selecting a split value between the maximum and minimum values of the selected feature."
   ]
  },
  {
   "cell_type": "code",
   "execution_count": null,
   "metadata": {},
   "outputs": [
    {
     "name": "stdout",
     "output_type": "stream",
     "text": [
      "                       mean  median      std     min        max\n",
      "Recency               91.17   49.00   100.97     0.0     373.00\n",
      "Total_Transactions     4.99    3.00     9.08     1.0     242.00\n",
      "Total_Spend         1894.60  641.78  8266.05 -1192.2  278778.02\n"
     ]
    }
   ],
   "source": [
    "# Calculate descriptive statistics\n",
    "stats = customer_data[['Recency', 'Total_Transactions', 'Total_Spend']].describe().T\n",
    "stats['median'] = customer_data[['Recency', 'Total_Transactions', 'Total_Spend']].median()\n",
    "stats = stats[['mean', 'median', 'std', 'min', 'max']]\n",
    "print(stats.round(2))"
   ]
  },
  {
   "cell_type": "code",
   "execution_count": 1253,
   "metadata": {},
   "outputs": [
    {
     "data": {
      "image/png": "[encoded data removed]",
      "text/plain": [
       "<Figure size 640x480 with 1 Axes>"
      ]
     },
     "metadata": {},
     "output_type": "display_data"
    }
   ],
   "source": [
    "import numpy as np\n",
    "from sklearn.cluster import KMeans\n",
    "from sklearn.metrics import silhouette_score\n",
    "from sklearn.ensemble import IsolationForest\n",
    "import matplotlib.pyplot as plt\n",
    "\n",
    "# Select features for anomaly detection\n",
    "X = customer_data[['Recency', 'Total_Transactions', 'Total_Spend']]\n",
    "\n",
    "# Visualize the process of finding the optimal number of percentage of contamination\n",
    "contaminations = np.linspace(0.01, 0.10, 10)\n",
    "scores = []\n",
    "\n",
    "for c in contaminations:\n",
    "    iso = IsolationForest(contamination=c, random_state=0)\n",
    "    mask = iso.fit_predict(X) == 1\n",
    "    km = KMeans(n_clusters=3, random_state=0).fit(X[mask])\n",
    "    scores.append(silhouette_score(X[mask], km.labels_))\n",
    "\n",
    "# Plot\n",
    "plt.plot(contaminations, scores, marker='o')\n",
    "for x, y in zip(contaminations, scores):\n",
    "    plt.text(x, y, f\"{y:.2f}\", ha='center', va='bottom', fontsize=9)\n",
    "\n",
    "plt.xlabel(\"Contamination\")\n",
    "plt.ylabel(\"Silhouette score\")\n",
    "plt.title(\"Silhouette vs. Contamination\")\n",
    "plt.tight_layout()\n",
    "plt.show()"
   ]
  },
  {
   "cell_type": "code",
   "execution_count": 1254,
   "metadata": {},
   "outputs": [
    {
     "data": {
      "text/html": [
       "<div>\n",
       "<style scoped>\n",
       "    .dataframe tbody tr th:only-of-type {\n",
       "        vertical-align: middle;\n",
       "    }\n",
       "\n",
       "    .dataframe tbody tr th {\n",
       "        vertical-align: top;\n",
       "    }\n",
       "\n",
       "    .dataframe thead th {\n",
       "        text-align: right;\n",
       "    }\n",
       "</style>\n",
       "<table border=\"1\" class=\"dataframe\">\n",
       "  <thead>\n",
       "    <tr style=\"text-align: right;\">\n",
       "      <th></th>\n",
       "      <th>Customer ID</th>\n",
       "      <th>Recency</th>\n",
       "      <th>Total_Transactions</th>\n",
       "      <th>Total_Products_Purchased</th>\n",
       "      <th>Total_Spend</th>\n",
       "      <th>Average_Transaction_Value</th>\n",
       "      <th>Unique_Products_Purchased</th>\n",
       "      <th>Cancellation_Frequency</th>\n",
       "      <th>Cancellation_Rate</th>\n",
       "      <th>Monthly_Spending_Mean</th>\n",
       "      <th>Monthly_Spending_Std</th>\n",
       "      <th>Outlier</th>\n",
       "    </tr>\n",
       "  </thead>\n",
       "  <tbody>\n",
       "    <tr>\n",
       "      <th>0</th>\n",
       "      <td>12346.0</td>\n",
       "      <td>325</td>\n",
       "      <td>2</td>\n",
       "      <td>0</td>\n",
       "      <td>0.00</td>\n",
       "      <td>0.000000</td>\n",
       "      <td>1</td>\n",
       "      <td>1.0</td>\n",
       "      <td>0.500</td>\n",
       "      <td>0.000000</td>\n",
       "      <td>0.000000</td>\n",
       "      <td>0</td>\n",
       "    </tr>\n",
       "    <tr>\n",
       "      <th>1</th>\n",
       "      <td>12347.0</td>\n",
       "      <td>1</td>\n",
       "      <td>7</td>\n",
       "      <td>2458</td>\n",
       "      <td>4310.00</td>\n",
       "      <td>615.714286</td>\n",
       "      <td>103</td>\n",
       "      <td>0.0</td>\n",
       "      <td>0.000</td>\n",
       "      <td>615.714286</td>\n",
       "      <td>341.070789</td>\n",
       "      <td>0</td>\n",
       "    </tr>\n",
       "    <tr>\n",
       "      <th>2</th>\n",
       "      <td>12348.0</td>\n",
       "      <td>74</td>\n",
       "      <td>4</td>\n",
       "      <td>2332</td>\n",
       "      <td>1437.24</td>\n",
       "      <td>359.310000</td>\n",
       "      <td>21</td>\n",
       "      <td>0.0</td>\n",
       "      <td>0.000</td>\n",
       "      <td>359.310000</td>\n",
       "      <td>203.875689</td>\n",
       "      <td>0</td>\n",
       "    </tr>\n",
       "    <tr>\n",
       "      <th>3</th>\n",
       "      <td>12349.0</td>\n",
       "      <td>18</td>\n",
       "      <td>1</td>\n",
       "      <td>630</td>\n",
       "      <td>1457.55</td>\n",
       "      <td>1457.550000</td>\n",
       "      <td>72</td>\n",
       "      <td>0.0</td>\n",
       "      <td>0.000</td>\n",
       "      <td>1457.550000</td>\n",
       "      <td>0.000000</td>\n",
       "      <td>0</td>\n",
       "    </tr>\n",
       "    <tr>\n",
       "      <th>4</th>\n",
       "      <td>12350.0</td>\n",
       "      <td>309</td>\n",
       "      <td>1</td>\n",
       "      <td>196</td>\n",
       "      <td>294.40</td>\n",
       "      <td>294.400000</td>\n",
       "      <td>16</td>\n",
       "      <td>0.0</td>\n",
       "      <td>0.000</td>\n",
       "      <td>294.400000</td>\n",
       "      <td>0.000000</td>\n",
       "      <td>0</td>\n",
       "    </tr>\n",
       "    <tr>\n",
       "      <th>5</th>\n",
       "      <td>12352.0</td>\n",
       "      <td>35</td>\n",
       "      <td>8</td>\n",
       "      <td>463</td>\n",
       "      <td>1265.41</td>\n",
       "      <td>158.176250</td>\n",
       "      <td>57</td>\n",
       "      <td>1.0</td>\n",
       "      <td>0.125</td>\n",
       "      <td>316.352500</td>\n",
       "      <td>134.700629</td>\n",
       "      <td>0</td>\n",
       "    </tr>\n",
       "    <tr>\n",
       "      <th>6</th>\n",
       "      <td>12353.0</td>\n",
       "      <td>203</td>\n",
       "      <td>1</td>\n",
       "      <td>20</td>\n",
       "      <td>89.00</td>\n",
       "      <td>89.000000</td>\n",
       "      <td>4</td>\n",
       "      <td>0.0</td>\n",
       "      <td>0.000</td>\n",
       "      <td>89.000000</td>\n",
       "      <td>0.000000</td>\n",
       "      <td>0</td>\n",
       "    </tr>\n",
       "    <tr>\n",
       "      <th>7</th>\n",
       "      <td>12354.0</td>\n",
       "      <td>231</td>\n",
       "      <td>1</td>\n",
       "      <td>530</td>\n",
       "      <td>1079.40</td>\n",
       "      <td>1079.400000</td>\n",
       "      <td>58</td>\n",
       "      <td>0.0</td>\n",
       "      <td>0.000</td>\n",
       "      <td>1079.400000</td>\n",
       "      <td>0.000000</td>\n",
       "      <td>0</td>\n",
       "    </tr>\n",
       "    <tr>\n",
       "      <th>8</th>\n",
       "      <td>12355.0</td>\n",
       "      <td>213</td>\n",
       "      <td>1</td>\n",
       "      <td>240</td>\n",
       "      <td>459.40</td>\n",
       "      <td>459.400000</td>\n",
       "      <td>13</td>\n",
       "      <td>0.0</td>\n",
       "      <td>0.000</td>\n",
       "      <td>459.400000</td>\n",
       "      <td>0.000000</td>\n",
       "      <td>0</td>\n",
       "    </tr>\n",
       "    <tr>\n",
       "      <th>9</th>\n",
       "      <td>12356.0</td>\n",
       "      <td>22</td>\n",
       "      <td>3</td>\n",
       "      <td>1573</td>\n",
       "      <td>2487.43</td>\n",
       "      <td>829.143333</td>\n",
       "      <td>52</td>\n",
       "      <td>0.0</td>\n",
       "      <td>0.000</td>\n",
       "      <td>829.143333</td>\n",
       "      <td>991.462585</td>\n",
       "      <td>0</td>\n",
       "    </tr>\n",
       "  </tbody>\n",
       "</table>\n",
       "</div>"
      ],
      "text/plain": [
       "   Customer ID  Recency  Total_Transactions  Total_Products_Purchased  \\\n",
       "0      12346.0      325                   2                         0   \n",
       "1      12347.0        1                   7                      2458   \n",
       "2      12348.0       74                   4                      2332   \n",
       "3      12349.0       18                   1                       630   \n",
       "4      12350.0      309                   1                       196   \n",
       "5      12352.0       35                   8                       463   \n",
       "6      12353.0      203                   1                        20   \n",
       "7      12354.0      231                   1                       530   \n",
       "8      12355.0      213                   1                       240   \n",
       "9      12356.0       22                   3                      1573   \n",
       "\n",
       "   Total_Spend  Average_Transaction_Value  Unique_Products_Purchased  \\\n",
       "0         0.00                   0.000000                          1   \n",
       "1      4310.00                 615.714286                        103   \n",
       "2      1437.24                 359.310000                         21   \n",
       "3      1457.55                1457.550000                         72   \n",
       "4       294.40                 294.400000                         16   \n",
       "5      1265.41                 158.176250                         57   \n",
       "6        89.00                  89.000000                          4   \n",
       "7      1079.40                1079.400000                         58   \n",
       "8       459.40                 459.400000                         13   \n",
       "9      2487.43                 829.143333                         52   \n",
       "\n",
       "   Cancellation_Frequency  Cancellation_Rate  Monthly_Spending_Mean  \\\n",
       "0                     1.0              0.500               0.000000   \n",
       "1                     0.0              0.000             615.714286   \n",
       "2                     0.0              0.000             359.310000   \n",
       "3                     0.0              0.000            1457.550000   \n",
       "4                     0.0              0.000             294.400000   \n",
       "5                     1.0              0.125             316.352500   \n",
       "6                     0.0              0.000              89.000000   \n",
       "7                     0.0              0.000            1079.400000   \n",
       "8                     0.0              0.000             459.400000   \n",
       "9                     0.0              0.000             829.143333   \n",
       "\n",
       "   Monthly_Spending_Std  Outlier  \n",
       "0              0.000000        0  \n",
       "1            341.070789        0  \n",
       "2            203.875689        0  \n",
       "3              0.000000        0  \n",
       "4              0.000000        0  \n",
       "5            134.700629        0  \n",
       "6              0.000000        0  \n",
       "7              0.000000        0  \n",
       "8              0.000000        0  \n",
       "9            991.462585        0  "
      ]
     },
     "execution_count": 1254,
     "metadata": {},
     "output_type": "execute_result"
    }
   ],
   "source": [
    "# Fit the Isolation Forest model\n",
    "model = IsolationForest(contamination=0.01, random_state=42)\n",
    "model.fit(X)\n",
    "\n",
    "# Predict anomalies\n",
    "anomalies = model.predict(X)\n",
    "anomalies = pd.Series(anomalies, index=customer_data.index)\n",
    "customer_data['Outlier'] = anomalies\n",
    "customer_data['Outlier'] = customer_data['Outlier'].map({1: 0, -1: 1})  # Convert to binary (0 for normal, 1 for anomaly)\n",
    "\n",
    "# Display the first few rows of the customer_data dataframe\n",
    "customer_data.head(10)"
   ]
  },
  {
   "cell_type": "code",
   "execution_count": 1255,
   "metadata": {},
   "outputs": [
    {
     "name": "stdout",
     "output_type": "stream",
     "text": [
      "Percentage of outliers: 1.01%\n"
     ]
    }
   ],
   "source": [
    "# Percentage of outliers\n",
    "outlier_percentage = (customer_data['Outlier'].sum() / customer_data.shape[0]) * 100\n",
    "print(f\"Percentage of outliers: {outlier_percentage:.2f}%\")"
   ]
  },
  {
   "cell_type": "code",
   "execution_count": 1256,
   "metadata": {},
   "outputs": [
    {
     "data": {
      "text/plain": [
       "4318"
      ]
     },
     "execution_count": 1256,
     "metadata": {},
     "output_type": "execute_result"
    }
   ],
   "source": [
    "# Separate outliers\n",
    "outliers = customer_data[customer_data['Outlier'] == 1]\n",
    "\n",
    "# Remove outliers from the dataset\n",
    "customer_data_cleaned = customer_data[customer_data['Outlier'] == 0]\n",
    "\n",
    "# Drop the Outlier column\n",
    "customer_data_cleaned.drop(columns=['Outlier'], inplace=True)\n",
    "customer_data_cleaned.reset_index(drop=True, inplace=True)\n",
    "\n",
    "customer_data_cleaned.shape[0]"
   ]
  },
  {
   "cell_type": "markdown",
   "metadata": {},
   "source": [
    "### Inferences\n",
    "\n",
    "The curve clearly shows that the higher the percentage of outliers to remove, the worse the internal \"quality\" of the clusters (silhouette score) becomes. Specifically:\n",
    "\n",
    "- Maximum peak at 0.01 (≈0.73): Removing 1% of the outliers before clustering produces the most compact and well-separated clusters.\n",
    "\n",
    "- From there, as the proportion of data removed increases, the silhouette score drops fairly steadily.\n",
    "\n",
    "### Strategy\n",
    "\n",
    "It is crucial to handle these outliers to prevent them from affecting the clusters' quality significantly. The strategy will be to separate these outliers for further analysis and remove them from our main dataset to prepare it for the clustering analysis."
   ]
  },
  {
   "cell_type": "markdown",
   "metadata": {},
   "source": [
    "## Correlation Analysis\n",
    "\n",
    "Before we proceed to KMeans clustering, it's essential to check the correlation between features in our dataset. The presence of multicollinearity, where features are highly correlated, can potentially affect the clustering process by not allowing the model to learn the actual underlying patterns in the data, we can utilize dimensionality reduction techniques like PCA. These techniques help in neutralizing the effect of multicollinearity by transforming the correlated features into a new set of uncorrelated variables, preserving most of the original data's variance."
   ]
  },
  {
   "cell_type": "code",
   "execution_count": 1257,
   "metadata": {},
   "outputs": [
    {
     "data": {
      "application/vnd.plotly.v1+json": {
       "config": {
        "plotlyServerURL": "https://plot.ly"
       },
       "data": [
        {
         "coloraxis": "coloraxis",
         "hovertemplate": "x: %{x}<br>y: %{y}<br>Correlación: %{z}<extra></extra>",
         "name": "0",
         "textfont": {
          "family": "Arial",
          "size": 18
         },
         "texttemplate": "%{z:.2f}",
         "type": "heatmap",
         "x": [
          "Recency",
          "Total_Transactions",
          "Total_Products_Purchased",
          "Total_Spend",
          "Average_Transaction_Value",
          "Unique_Products_Purchased",
          "Cancellation_Frequency",
          "Cancellation_Rate",
          "Monthly_Spending_Mean",
          "Monthly_Spending_Std"
         ],
         "xaxis": "x",
         "y": [
          "Recency",
          "Total_Transactions",
          "Total_Products_Purchased",
          "Total_Spend",
          "Average_Transaction_Value",
          "Unique_Products_Purchased",
          "Cancellation_Frequency",
          "Cancellation_Rate",
          "Monthly_Spending_Mean",
          "Monthly_Spending_Std"
         ],
         "yaxis": "y",
         "z": {
          "bdata": "AAAAAAAA8D8AAAAAAAD4fwAAAAAAAPh/AAAAAAAA+H8AAAAAAAD4fwAAAAAAAPh/AAAAAAAA+H8AAAAAAAD4fwAAAAAAAPh/AAAAAAAA+H+uR+F6FK7XvwAAAAAAAPA/AAAAAAAA+H8AAAAAAAD4fwAAAAAAAPh/AAAAAAAA+H8AAAAAAAD4fwAAAAAAAPh/AAAAAAAA+H8AAAAAAAD4f6RwPQrXo9C/hetRuB6F4z8AAAAAAADwPwAAAAAAAPh/AAAAAAAA+H8AAAAAAAD4fwAAAAAAAPh/AAAAAAAA+H8AAAAAAAD4fwAAAAAAAPh/MzMzMzMz079cj8L1KFznP3sUrkfheuw/AAAAAAAA8D8AAAAAAAD4fwAAAAAAAPh/AAAAAAAA+H8AAAAAAAD4fwAAAAAAAPh/AAAAAAAA+H/sUbgeheuxv3sUrkfheoS/CtejcD0K1z89CtejcD3aPwAAAAAAAPA/AAAAAAAA+H8AAAAAAAD4fwAAAAAAAPh/AAAAAAAA+H8AAAAAAAD4f2ZmZmZmZta/4XoUrkfh4j/NzMzMzMzcP/YoXI/C9eA/w/UoXI/CxT8AAAAAAADwPwAAAAAAAPh/AAAAAAAA+H8AAAAAAAD4fwAAAAAAAPh/KVyPwvUozL9cj8L1KFznP/YoXI/C9dg/XI/C9Shc3z+amZmZmZmpv1K4HoXrUdg/AAAAAAAA8D8AAAAAAAD4fwAAAAAAAPh/AAAAAAAA+H97FK5H4XqEv3E9CtejcM0/exSuR+F6tD8pXI/C9Si8P+xRuB6F68G/CtejcD0Ktz8zMzMzMzPjPwAAAAAAAPA/AAAAAAAA+H8AAAAAAAD4f6RwPQrXo8C/UrgehetRyD8AAAAAAADgP4/C9Shcj+I/MzMzMzMz6z+kcD0K16PQP6RwPQrXo8A/exSuR+F6hL8AAAAAAADwPwAAAAAAAPh/cT0K16Nwzb/2KFyPwvXYP4/C9Shcj+I/H4XrUbge5T+uR+F6FK7XP2ZmZmZmZtY/w/UoXI/C1T+4HoXrUbjOP3E9CtejcN0/AAAAAAAA8D8=",
          "dtype": "f8",
          "shape": "10, 10"
         }
        }
       ],
       "layout": {
        "coloraxis": {
         "colorbar": {
          "title": {
           "text": "Correlación"
          }
         },
         "colorscale": [
          [
           0,
           "#ffffff"
          ],
          [
           1,
           "#1C9BF9"
          ]
         ]
        },
        "font": {
         "size": 15
        },
        "height": 900,
        "margin": {
         "t": 60
        },
        "template": {
         "data": {
          "bar": [
           {
            "error_x": {
             "color": "#2a3f5f"
            },
            "error_y": {
             "color": "#2a3f5f"
            },
            "marker": {
             "line": {
              "color": "#E5ECF6",
              "width": 0.5
             },
             "pattern": {
              "fillmode": "overlay",
              "size": 10,
              "solidity": 0.2
             }
            },
            "type": "bar"
           }
          ],
          "barpolar": [
           {
            "marker": {
             "line": {
              "color": "#E5ECF6",
              "width": 0.5
             },
             "pattern": {
              "fillmode": "overlay",
              "size": 10,
              "solidity": 0.2
             }
            },
            "type": "barpolar"
           }
          ],
          "carpet": [
           {
            "aaxis": {
             "endlinecolor": "#2a3f5f",
             "gridcolor": "white",
             "linecolor": "white",
             "minorgridcolor": "white",
             "startlinecolor": "#2a3f5f"
            },
            "baxis": {
             "endlinecolor": "#2a3f5f",
             "gridcolor": "white",
             "linecolor": "white",
             "minorgridcolor": "white",
             "startlinecolor": "#2a3f5f"
            },
            "type": "carpet"
           }
          ],
          "choropleth": [
           {
            "colorbar": {
             "outlinewidth": 0,
             "ticks": ""
            },
            "type": "choropleth"
           }
          ],
          "contour": [
           {
            "colorbar": {
             "outlinewidth": 0,
             "ticks": ""
            },
            "colorscale": [
             [
              0,
              "#0d0887"
             ],
             [
              0.1111111111111111,
              "#46039f"
             ],
             [
              0.2222222222222222,
              "#7201a8"
             ],
             [
              0.3333333333333333,
              "#9c179e"
             ],
             [
              0.4444444444444444,
              "#bd3786"
             ],
             [
              0.5555555555555556,
              "#d8576b"
             ],
             [
              0.6666666666666666,
              "#ed7953"
             ],
             [
              0.7777777777777778,
              "#fb9f3a"
             ],
             [
              0.8888888888888888,
              "#fdca26"
             ],
             [
              1,
              "#f0f921"
             ]
            ],
            "type": "contour"
           }
          ],
          "contourcarpet": [
           {
            "colorbar": {
             "outlinewidth": 0,
             "ticks": ""
            },
            "type": "contourcarpet"
           }
          ],
          "heatmap": [
           {
            "colorbar": {
             "outlinewidth": 0,
             "ticks": ""
            },
            "colorscale": [
             [
              0,
              "#0d0887"
             ],
             [
              0.1111111111111111,
              "#46039f"
             ],
             [
              0.2222222222222222,
              "#7201a8"
             ],
             [
              0.3333333333333333,
              "#9c179e"
             ],
             [
              0.4444444444444444,
              "#bd3786"
             ],
             [
              0.5555555555555556,
              "#d8576b"
             ],
             [
              0.6666666666666666,
              "#ed7953"
             ],
             [
              0.7777777777777778,
              "#fb9f3a"
             ],
             [
              0.8888888888888888,
              "#fdca26"
             ],
             [
              1,
              "#f0f921"
             ]
            ],
            "type": "heatmap"
           }
          ],
          "histogram": [
           {
            "marker": {
             "pattern": {
              "fillmode": "overlay",
              "size": 10,
              "solidity": 0.2
             }
            },
            "type": "histogram"
           }
          ],
          "histogram2d": [
           {
            "colorbar": {
             "outlinewidth": 0,
             "ticks": ""
            },
            "colorscale": [
             [
              0,
              "#0d0887"
             ],
             [
              0.1111111111111111,
              "#46039f"
             ],
             [
              0.2222222222222222,
              "#7201a8"
             ],
             [
              0.3333333333333333,
              "#9c179e"
             ],
             [
              0.4444444444444444,
              "#bd3786"
             ],
             [
              0.5555555555555556,
              "#d8576b"
             ],
             [
              0.6666666666666666,
              "#ed7953"
             ],
             [
              0.7777777777777778,
              "#fb9f3a"
             ],
             [
              0.8888888888888888,
              "#fdca26"
             ],
             [
              1,
              "#f0f921"
             ]
            ],
            "type": "histogram2d"
           }
          ],
          "histogram2dcontour": [
           {
            "colorbar": {
             "outlinewidth": 0,
             "ticks": ""
            },
            "colorscale": [
             [
              0,
              "#0d0887"
             ],
             [
              0.1111111111111111,
              "#46039f"
             ],
             [
              0.2222222222222222,
              "#7201a8"
             ],
             [
              0.3333333333333333,
              "#9c179e"
             ],
             [
              0.4444444444444444,
              "#bd3786"
             ],
             [
              0.5555555555555556,
              "#d8576b"
             ],
             [
              0.6666666666666666,
              "#ed7953"
             ],
             [
              0.7777777777777778,
              "#fb9f3a"
             ],
             [
              0.8888888888888888,
              "#fdca26"
             ],
             [
              1,
              "#f0f921"
             ]
            ],
            "type": "histogram2dcontour"
           }
          ],
          "mesh3d": [
           {
            "colorbar": {
             "outlinewidth": 0,
             "ticks": ""
            },
            "type": "mesh3d"
           }
          ],
          "parcoords": [
           {
            "line": {
             "colorbar": {
              "outlinewidth": 0,
              "ticks": ""
             }
            },
            "type": "parcoords"
           }
          ],
          "pie": [
           {
            "automargin": true,
            "type": "pie"
           }
          ],
          "scatter": [
           {
            "fillpattern": {
             "fillmode": "overlay",
             "size": 10,
             "solidity": 0.2
            },
            "type": "scatter"
           }
          ],
          "scatter3d": [
           {
            "line": {
             "colorbar": {
              "outlinewidth": 0,
              "ticks": ""
             }
            },
            "marker": {
             "colorbar": {
              "outlinewidth": 0,
              "ticks": ""
             }
            },
            "type": "scatter3d"
           }
          ],
          "scattercarpet": [
           {
            "marker": {
             "colorbar": {
              "outlinewidth": 0,
              "ticks": ""
             }
            },
            "type": "scattercarpet"
           }
          ],
          "scattergeo": [
           {
            "marker": {
             "colorbar": {
              "outlinewidth": 0,
              "ticks": ""
             }
            },
            "type": "scattergeo"
           }
          ],
          "scattergl": [
           {
            "marker": {
             "colorbar": {
              "outlinewidth": 0,
              "ticks": ""
             }
            },
            "type": "scattergl"
           }
          ],
          "scattermap": [
           {
            "marker": {
             "colorbar": {
              "outlinewidth": 0,
              "ticks": ""
             }
            },
            "type": "scattermap"
           }
          ],
          "scattermapbox": [
           {
            "marker": {
             "colorbar": {
              "outlinewidth": 0,
              "ticks": ""
             }
            },
            "type": "scattermapbox"
           }
          ],
          "scatterpolar": [
           {
            "marker": {
             "colorbar": {
              "outlinewidth": 0,
              "ticks": ""
             }
            },
            "type": "scatterpolar"
           }
          ],
          "scatterpolargl": [
           {
            "marker": {
             "colorbar": {
              "outlinewidth": 0,
              "ticks": ""
             }
            },
            "type": "scatterpolargl"
           }
          ],
          "scatterternary": [
           {
            "marker": {
             "colorbar": {
              "outlinewidth": 0,
              "ticks": ""
             }
            },
            "type": "scatterternary"
           }
          ],
          "surface": [
           {
            "colorbar": {
             "outlinewidth": 0,
             "ticks": ""
            },
            "colorscale": [
             [
              0,
              "#0d0887"
             ],
             [
              0.1111111111111111,
              "#46039f"
             ],
             [
              0.2222222222222222,
              "#7201a8"
             ],
             [
              0.3333333333333333,
              "#9c179e"
             ],
             [
              0.4444444444444444,
              "#bd3786"
             ],
             [
              0.5555555555555556,
              "#d8576b"
             ],
             [
              0.6666666666666666,
              "#ed7953"
             ],
             [
              0.7777777777777778,
              "#fb9f3a"
             ],
             [
              0.8888888888888888,
              "#fdca26"
             ],
             [
              1,
              "#f0f921"
             ]
            ],
            "type": "surface"
           }
          ],
          "table": [
           {
            "cells": {
             "fill": {
              "color": "#EBF0F8"
             },
             "line": {
              "color": "white"
             }
            },
            "header": {
             "fill": {
              "color": "#C8D4E3"
             },
             "line": {
              "color": "white"
             }
            },
            "type": "table"
           }
          ]
         },
         "layout": {
          "annotationdefaults": {
           "arrowcolor": "#2a3f5f",
           "arrowhead": 0,
           "arrowwidth": 1
          },
          "autotypenumbers": "strict",
          "coloraxis": {
           "colorbar": {
            "outlinewidth": 0,
            "ticks": ""
           }
          },
          "colorscale": {
           "diverging": [
            [
             0,
             "#8e0152"
            ],
            [
             0.1,
             "#c51b7d"
            ],
            [
             0.2,
             "#de77ae"
            ],
            [
             0.3,
             "#f1b6da"
            ],
            [
             0.4,
             "#fde0ef"
            ],
            [
             0.5,
             "#f7f7f7"
            ],
            [
             0.6,
             "#e6f5d0"
            ],
            [
             0.7,
             "#b8e186"
            ],
            [
             0.8,
             "#7fbc41"
            ],
            [
             0.9,
             "#4d9221"
            ],
            [
             1,
             "#276419"
            ]
           ],
           "sequential": [
            [
             0,
             "#0d0887"
            ],
            [
             0.1111111111111111,
             "#46039f"
            ],
            [
             0.2222222222222222,
             "#7201a8"
            ],
            [
             0.3333333333333333,
             "#9c179e"
            ],
            [
             0.4444444444444444,
             "#bd3786"
            ],
            [
             0.5555555555555556,
             "#d8576b"
            ],
            [
             0.6666666666666666,
             "#ed7953"
            ],
            [
             0.7777777777777778,
             "#fb9f3a"
            ],
            [
             0.8888888888888888,
             "#fdca26"
            ],
            [
             1,
             "#f0f921"
            ]
           ],
           "sequentialminus": [
            [
             0,
             "#0d0887"
            ],
            [
             0.1111111111111111,
             "#46039f"
            ],
            [
             0.2222222222222222,
             "#7201a8"
            ],
            [
             0.3333333333333333,
             "#9c179e"
            ],
            [
             0.4444444444444444,
             "#bd3786"
            ],
            [
             0.5555555555555556,
             "#d8576b"
            ],
            [
             0.6666666666666666,
             "#ed7953"
            ],
            [
             0.7777777777777778,
             "#fb9f3a"
            ],
            [
             0.8888888888888888,
             "#fdca26"
            ],
            [
             1,
             "#f0f921"
            ]
           ]
          },
          "colorway": [
           "#636efa",
           "#EF553B",
           "#00cc96",
           "#ab63fa",
           "#FFA15A",
           "#19d3f3",
           "#FF6692",
           "#B6E880",
           "#FF97FF",
           "#FECB52"
          ],
          "font": {
           "color": "#2a3f5f"
          },
          "geo": {
           "bgcolor": "white",
           "lakecolor": "white",
           "landcolor": "#E5ECF6",
           "showlakes": true,
           "showland": true,
           "subunitcolor": "white"
          },
          "hoverlabel": {
           "align": "left"
          },
          "hovermode": "closest",
          "mapbox": {
           "style": "light"
          },
          "paper_bgcolor": "white",
          "plot_bgcolor": "#E5ECF6",
          "polar": {
           "angularaxis": {
            "gridcolor": "white",
            "linecolor": "white",
            "ticks": ""
           },
           "bgcolor": "#E5ECF6",
           "radialaxis": {
            "gridcolor": "white",
            "linecolor": "white",
            "ticks": ""
           }
          },
          "scene": {
           "xaxis": {
            "backgroundcolor": "#E5ECF6",
            "gridcolor": "white",
            "gridwidth": 2,
            "linecolor": "white",
            "showbackground": true,
            "ticks": "",
            "zerolinecolor": "white"
           },
           "yaxis": {
            "backgroundcolor": "#E5ECF6",
            "gridcolor": "white",
            "gridwidth": 2,
            "linecolor": "white",
            "showbackground": true,
            "ticks": "",
            "zerolinecolor": "white"
           },
           "zaxis": {
            "backgroundcolor": "#E5ECF6",
            "gridcolor": "white",
            "gridwidth": 2,
            "linecolor": "white",
            "showbackground": true,
            "ticks": "",
            "zerolinecolor": "white"
           }
          },
          "shapedefaults": {
           "line": {
            "color": "#2a3f5f"
           }
          },
          "ternary": {
           "aaxis": {
            "gridcolor": "white",
            "linecolor": "white",
            "ticks": ""
           },
           "baxis": {
            "gridcolor": "white",
            "linecolor": "white",
            "ticks": ""
           },
           "bgcolor": "#E5ECF6",
           "caxis": {
            "gridcolor": "white",
            "linecolor": "white",
            "ticks": ""
           }
          },
          "title": {
           "x": 0.05
          },
          "xaxis": {
           "automargin": true,
           "gridcolor": "white",
           "linecolor": "white",
           "ticks": "",
           "title": {
            "standoff": 15
           },
           "zerolinecolor": "white",
           "zerolinewidth": 2
          },
          "yaxis": {
           "automargin": true,
           "gridcolor": "white",
           "linecolor": "white",
           "ticks": "",
           "title": {
            "standoff": 15
           },
           "zerolinecolor": "white",
           "zerolinewidth": 2
          }
         }
        },
        "width": 900,
        "xaxis": {
         "anchor": "y",
         "constrain": "domain",
         "domain": [
          0,
          1
         ],
         "scaleanchor": "y",
         "side": "bottom",
         "tickangle": -90,
         "tickfont": {
          "family": "Arial",
          "size": 14
         }
        },
        "yaxis": {
         "anchor": "x",
         "autorange": "reversed",
         "constrain": "domain",
         "domain": [
          0,
          1
         ],
         "tickfont": {
          "family": "Arial",
          "size": 14
         }
        }
       }
      }
     },
     "metadata": {},
     "output_type": "display_data"
    }
   ],
   "source": [
    "from plotly import express as px\n",
    "\n",
    "# Calcular la matriz de correlación (redondeada)\n",
    "corr = customer_data_cleaned.drop(columns=['Customer ID']).corr().round(2)\n",
    "\n",
    "# Crear máscara para mantener solo la mitad inferior\n",
    "mask = np.triu(np.ones(corr.shape), k=1).astype(bool)\n",
    "corr_masked = corr.mask(mask)\n",
    "\n",
    "# Crear heatmap\n",
    "fig = px.imshow(\n",
    "    corr_masked,\n",
    "    text_auto=True,\n",
    "    color_continuous_scale=[\"#ffffff\", \"#1C9BF9\"],\n",
    "    aspect=\"equal\",\n",
    "    labels=dict(x=\"\", y=\"\", color=\"Correlación\")\n",
    ")\n",
    "\n",
    "# Personalizar layout\n",
    "fig.update_layout(\n",
    "    width=900,\n",
    "    height=900,\n",
    "    xaxis_side=\"bottom\",  # Que aparezcan abajo\n",
    "    font=dict(size=15),\n",
    "    xaxis=dict(tickfont=dict(family=\"Arial\", size=14)),\n",
    "    yaxis=dict(tickfont=dict(family=\"Arial\", size=14))\n",
    ")\n",
    "\n",
    "# Cambiar fuente de los números dentro del heatmap\n",
    "fig.update_traces(\n",
    "    textfont=dict(family=\"Arial\", size=18),\n",
    "    texttemplate=\"%{z:.2f}\"\n",
    ")\n",
    "\n",
    "# Mantener etiquetas horizontales\n",
    "fig.update_xaxes(tickangle=270)\n",
    "\n",
    "fig.show()"
   ]
  },
  {
   "cell_type": "markdown",
   "metadata": {},
   "source": [
    "### Inferences\n",
    "\n",
    "- **Recency:** The longer the time since the customer's last purchase, the fewer transactions (-0.37), products purchased (-0.26), and money spent (-0.30). In other words, recent customers are more active.\n",
    "- **Total_Transactions:** More transactions are associated with more products purchased (0.61), higher spending (0.73), greater product variety (0.59), and more cancellations (0.73). Frequent customers spend and cancel more.\n",
    "- **Total_Products_Purchased:** More products purchased means higher spending (0.89), greater product variety (0.45), and higher value per transaction (0.41). This is associated with less time since the last purchase (-0.26).\n",
    "- **Total_Spend:** Higher total spending is associated with higher transaction value (0.41), more unique products (0.53), and higher average (0.58) and variable (0.66) monthly spending. High spenders purchased recently (-0.30).\n",
    "- **Average_Transaction_Value:** Higher transaction value is closely linked to average monthly spending (0.36). It has no clear relationship with recency (-0.07) or transactions (-0.01).\n",
    "- **Unique_Products_Purchased:** Greater product variety is associated with more cancellations (0.17) and recent purchases (-0.35). It also has a significant link to monthly spending (0.13).\n",
    "- **Cancellation_Frequency:** More cancellations are linked to more transactions (0.73) and a higher cancellation rate (0.38). Customers who canceled a lot purchased recently (-0.22).\n",
    "- **Cancellation_Rate:** It has no strong relationship with other variables, except for cancellation frequency (0.60). It is independent of spending or recency (-0.01).\n",
    "- **Monthly_Spending_Mean:** Higher monthly spending is associated with higher total spending (0.50), higher transaction value (0.36), and spending variability (0.37). It reflects active customers.\n",
    "- **Monthly_Spending_Std:** Higher spending variability is associated with higher total spending (0.66) and average monthly spending (0.35). Customers with variable spending purchased recently (-0.23)."
   ]
  },
  {
   "cell_type": "markdown",
   "metadata": {},
   "source": [
    "## StandardScaler Application\n",
    "\n",
    "K-means relies heavily on the concept of 'distance' between data points to form clusters. When features are not on a similar scale, features with larger values can disproportionately influence the clustering outcome, potentially leading to incorrect groupings. That's why data must be standardized."
   ]
  },
  {
   "cell_type": "code",
   "execution_count": 1258,
   "metadata": {},
   "outputs": [
    {
     "data": {
      "text/html": [
       "<div>\n",
       "<style scoped>\n",
       "    .dataframe tbody tr th:only-of-type {\n",
       "        vertical-align: middle;\n",
       "    }\n",
       "\n",
       "    .dataframe tbody tr th {\n",
       "        vertical-align: top;\n",
       "    }\n",
       "\n",
       "    .dataframe thead th {\n",
       "        text-align: right;\n",
       "    }\n",
       "</style>\n",
       "<table border=\"1\" class=\"dataframe\">\n",
       "  <thead>\n",
       "    <tr style=\"text-align: right;\">\n",
       "      <th></th>\n",
       "      <th>Recency</th>\n",
       "      <th>Total_Transactions</th>\n",
       "      <th>Total_Spend</th>\n",
       "    </tr>\n",
       "    <tr>\n",
       "      <th>Customer ID</th>\n",
       "      <th></th>\n",
       "      <th></th>\n",
       "      <th></th>\n",
       "    </tr>\n",
       "  </thead>\n",
       "  <tbody>\n",
       "    <tr>\n",
       "      <th>12346.0</th>\n",
       "      <td>2.308561</td>\n",
       "      <td>-0.460944</td>\n",
       "      <td>-0.626426</td>\n",
       "    </tr>\n",
       "    <tr>\n",
       "      <th>12347.0</th>\n",
       "      <td>-0.899306</td>\n",
       "      <td>0.486123</td>\n",
       "      <td>1.363996</td>\n",
       "    </tr>\n",
       "    <tr>\n",
       "      <th>12348.0</th>\n",
       "      <td>-0.176546</td>\n",
       "      <td>-0.082117</td>\n",
       "      <td>0.037313</td>\n",
       "    </tr>\n",
       "    <tr>\n",
       "      <th>12349.0</th>\n",
       "      <td>-0.730992</td>\n",
       "      <td>-0.650357</td>\n",
       "      <td>0.046692</td>\n",
       "    </tr>\n",
       "    <tr>\n",
       "      <th>12350.0</th>\n",
       "      <td>2.150148</td>\n",
       "      <td>-0.650357</td>\n",
       "      <td>-0.490468</td>\n",
       "    </tr>\n",
       "  </tbody>\n",
       "</table>\n",
       "</div>"
      ],
      "text/plain": [
       "              Recency  Total_Transactions  Total_Spend\n",
       "Customer ID                                           \n",
       "12346.0      2.308561           -0.460944    -0.626426\n",
       "12347.0     -0.899306            0.486123     1.363996\n",
       "12348.0     -0.176546           -0.082117     0.037313\n",
       "12349.0     -0.730992           -0.650357     0.046692\n",
       "12350.0      2.150148           -0.650357    -0.490468"
      ]
     },
     "execution_count": 1258,
     "metadata": {},
     "output_type": "execute_result"
    }
   ],
   "source": [
    "from sklearn.preprocessing import StandardScaler\n",
    "\n",
    "# Feature selection\n",
    "RFM_features = ['Customer ID','Recency', 'Total_Transactions', 'Total_Spend']\n",
    "customer_RFM = customer_data_cleaned[RFM_features]\n",
    "\n",
    "# Initialize the StandardScaler\n",
    "scaler = StandardScaler()\n",
    "\n",
    "# List of columns that don't need to be scaled\n",
    "columns_to_exclude = ['Customer ID']\n",
    "\n",
    "# List of columns that need to be scaled\n",
    "columns_to_scale = customer_RFM.columns.difference(columns_to_exclude)\n",
    "\n",
    "# Copy the cleaned dataset\n",
    "customer_RFM_scaled = customer_RFM.copy()\n",
    "\n",
    "# Applying the scaler to the necessary columns in the dataset\n",
    "customer_RFM_scaled[columns_to_scale] = scaler.fit_transform(customer_RFM_scaled[columns_to_scale])\n",
    "\n",
    "# Set 'Customer ID' as index\n",
    "customer_RFM_scaled.set_index('Customer ID', inplace=True)\n",
    "\n",
    "# Display the first few rows of the scaled data\n",
    "customer_RFM_scaled.head()"
   ]
  },
  {
   "cell_type": "markdown",
   "metadata": {},
   "source": [
    "### Inferences\n",
    "\n",
    "A model with standardized components may be preferable to better clusers on kmeans."
   ]
  },
  {
   "cell_type": "markdown",
   "metadata": {},
   "source": [
    "## Determining the Optimal Number of Clusters\n",
    "\n",
    "To ascertain the optimal number of clusters (k) for segmenting customers, I will explore two renowned methods:\n",
    "\n",
    "- **Elbow Method**\n",
    "\n",
    "- **Silhouette Method**"
   ]
  },
  {
   "cell_type": "code",
   "execution_count": 1259,
   "metadata": {},
   "outputs": [
    {
     "data": {
      "image/png": "[encoded data removed]",
      "text/plain": [
       "<Figure size 1200x500 with 2 Axes>"
      ]
     },
     "metadata": {},
     "output_type": "display_data"
    }
   ],
   "source": [
    "# Elbow method to find the optimal number of clusters\n",
    "from sklearn.cluster import KMeans\n",
    "from sklearn.metrics import silhouette_score\n",
    "\n",
    "# Range of clusters to test\n",
    "range_n_clusters = range(2, 10)\n",
    "inertia = []\n",
    "silhouette_scores = []\n",
    "\n",
    "# Loop through the range of clusters\n",
    "for n_clusters in range_n_clusters:\n",
    "    kmeans = KMeans(n_clusters=n_clusters, random_state=42)\n",
    "    kmeans.fit(customer_RFM_scaled)\n",
    "    \n",
    "    # Calculate inertia\n",
    "    inertia.append(kmeans.inertia_)\n",
    "    \n",
    "    # Calculate silhouette score\n",
    "    silhouette_avg = silhouette_score(customer_RFM_scaled, kmeans.labels_)\n",
    "    silhouette_scores.append(silhouette_avg)\n",
    "\n",
    "# Plotting the elbow method\n",
    "plt.figure(figsize=(12, 5))\n",
    "plt.subplot(1, 2, 1)\n",
    "plt.plot(range_n_clusters, inertia, marker='o')\n",
    "plt.title('Elbow Method')\n",
    "plt.xlabel('Number of Clusters')\n",
    "plt.ylabel('Inertia')\n",
    "plt.grid()\n",
    "plt.subplot(1, 2, 2)\n",
    "plt.plot(range_n_clusters, silhouette_scores, marker='o')\n",
    "plt.title('Silhouette Score')\n",
    "plt.xlabel('Number of Clusters')\n",
    "plt.ylabel('Silhouette Score')\n",
    "plt.grid()\n",
    "plt.tight_layout()\n",
    "plt.show()"
   ]
  },
  {
   "cell_type": "markdown",
   "metadata": {},
   "source": [
    "### Inferences\n",
    "\n",
    "**Elbow: k between 4 and 5:** The optimal number of clusters appears to be between k = 3 and k = 4, as this is where the inertia (within-cluster sum of squares) starts to level off noticeably. This \"elbow\" indicates diminishing returns in model improvement when adding more clusters.\n",
    "\n",
    "**Silhouette: k = 3 clearly wins:** The silhouette score peaks at k = 3, indicating the highest cluster cohesion and separation at that point. While k = 4 also shows a high score, the performance starts to decrease beyond that.\n",
    "\n",
    "Despite a small drop in silhouette score, 4 clusters is the best option for a RFM Segmentation"
   ]
  },
  {
   "cell_type": "markdown",
   "metadata": {},
   "source": [
    "## Applying Clustering KMeans"
   ]
  },
  {
   "cell_type": "code",
   "execution_count": 1260,
   "metadata": {},
   "outputs": [
    {
     "data": {
      "text/html": [
       "<div>\n",
       "<style scoped>\n",
       "    .dataframe tbody tr th:only-of-type {\n",
       "        vertical-align: middle;\n",
       "    }\n",
       "\n",
       "    .dataframe tbody tr th {\n",
       "        vertical-align: top;\n",
       "    }\n",
       "\n",
       "    .dataframe thead th {\n",
       "        text-align: right;\n",
       "    }\n",
       "</style>\n",
       "<table border=\"1\" class=\"dataframe\">\n",
       "  <thead>\n",
       "    <tr style=\"text-align: right;\">\n",
       "      <th></th>\n",
       "      <th>Customer ID</th>\n",
       "      <th>Recency</th>\n",
       "      <th>Total_Transactions</th>\n",
       "      <th>Total_Products_Purchased</th>\n",
       "      <th>Total_Spend</th>\n",
       "      <th>Average_Transaction_Value</th>\n",
       "      <th>Unique_Products_Purchased</th>\n",
       "      <th>Cancellation_Frequency</th>\n",
       "      <th>Cancellation_Rate</th>\n",
       "      <th>Monthly_Spending_Mean</th>\n",
       "      <th>Monthly_Spending_Std</th>\n",
       "      <th>cluster</th>\n",
       "    </tr>\n",
       "  </thead>\n",
       "  <tbody>\n",
       "    <tr>\n",
       "      <th>0</th>\n",
       "      <td>12346.0</td>\n",
       "      <td>325</td>\n",
       "      <td>2</td>\n",
       "      <td>0</td>\n",
       "      <td>0.00</td>\n",
       "      <td>0.000000</td>\n",
       "      <td>1</td>\n",
       "      <td>1.0</td>\n",
       "      <td>0.5</td>\n",
       "      <td>0.000000</td>\n",
       "      <td>0.000000</td>\n",
       "      <td>1</td>\n",
       "    </tr>\n",
       "    <tr>\n",
       "      <th>1</th>\n",
       "      <td>12347.0</td>\n",
       "      <td>1</td>\n",
       "      <td>7</td>\n",
       "      <td>2458</td>\n",
       "      <td>4310.00</td>\n",
       "      <td>615.714286</td>\n",
       "      <td>103</td>\n",
       "      <td>0.0</td>\n",
       "      <td>0.0</td>\n",
       "      <td>615.714286</td>\n",
       "      <td>341.070789</td>\n",
       "      <td>2</td>\n",
       "    </tr>\n",
       "    <tr>\n",
       "      <th>2</th>\n",
       "      <td>12348.0</td>\n",
       "      <td>74</td>\n",
       "      <td>4</td>\n",
       "      <td>2332</td>\n",
       "      <td>1437.24</td>\n",
       "      <td>359.310000</td>\n",
       "      <td>21</td>\n",
       "      <td>0.0</td>\n",
       "      <td>0.0</td>\n",
       "      <td>359.310000</td>\n",
       "      <td>203.875689</td>\n",
       "      <td>0</td>\n",
       "    </tr>\n",
       "    <tr>\n",
       "      <th>3</th>\n",
       "      <td>12349.0</td>\n",
       "      <td>18</td>\n",
       "      <td>1</td>\n",
       "      <td>630</td>\n",
       "      <td>1457.55</td>\n",
       "      <td>1457.550000</td>\n",
       "      <td>72</td>\n",
       "      <td>0.0</td>\n",
       "      <td>0.0</td>\n",
       "      <td>1457.550000</td>\n",
       "      <td>0.000000</td>\n",
       "      <td>0</td>\n",
       "    </tr>\n",
       "    <tr>\n",
       "      <th>4</th>\n",
       "      <td>12350.0</td>\n",
       "      <td>309</td>\n",
       "      <td>1</td>\n",
       "      <td>196</td>\n",
       "      <td>294.40</td>\n",
       "      <td>294.400000</td>\n",
       "      <td>16</td>\n",
       "      <td>0.0</td>\n",
       "      <td>0.0</td>\n",
       "      <td>294.400000</td>\n",
       "      <td>0.000000</td>\n",
       "      <td>1</td>\n",
       "    </tr>\n",
       "  </tbody>\n",
       "</table>\n",
       "</div>"
      ],
      "text/plain": [
       "   Customer ID  Recency  Total_Transactions  Total_Products_Purchased  \\\n",
       "0      12346.0      325                   2                         0   \n",
       "1      12347.0        1                   7                      2458   \n",
       "2      12348.0       74                   4                      2332   \n",
       "3      12349.0       18                   1                       630   \n",
       "4      12350.0      309                   1                       196   \n",
       "\n",
       "   Total_Spend  Average_Transaction_Value  Unique_Products_Purchased  \\\n",
       "0         0.00                   0.000000                          1   \n",
       "1      4310.00                 615.714286                        103   \n",
       "2      1437.24                 359.310000                         21   \n",
       "3      1457.55                1457.550000                         72   \n",
       "4       294.40                 294.400000                         16   \n",
       "\n",
       "   Cancellation_Frequency  Cancellation_Rate  Monthly_Spending_Mean  \\\n",
       "0                     1.0                0.5               0.000000   \n",
       "1                     0.0                0.0             615.714286   \n",
       "2                     0.0                0.0             359.310000   \n",
       "3                     0.0                0.0            1457.550000   \n",
       "4                     0.0                0.0             294.400000   \n",
       "\n",
       "   Monthly_Spending_Std  cluster  \n",
       "0              0.000000        1  \n",
       "1            341.070789        2  \n",
       "2            203.875689        0  \n",
       "3              0.000000        0  \n",
       "4              0.000000        1  "
      ]
     },
     "execution_count": 1260,
     "metadata": {},
     "output_type": "execute_result"
    }
   ],
   "source": [
    "from collections import Counter\n",
    "\n",
    "# Apply KMeans clustering using the optimal k\n",
    "kmeans = KMeans(n_clusters=4, init='k-means++', n_init=10, max_iter=100, random_state=42)\n",
    "kmeans.fit(customer_RFM_scaled)\n",
    "\n",
    "# Get the frequency of each cluster\n",
    "cluster_frequencies = Counter(kmeans.labels_)\n",
    "\n",
    "freq_sorted = cluster_frequencies.most_common()  \n",
    "#    freq_sorted = [(3, 50), (1, 45), (4, 40), (0, 30), (2, 25)]\n",
    "\n",
    "label_mapping = {old_label: new_label for new_label, (old_label, _) in enumerate(freq_sorted)}\n",
    "#    label_mapping = {3:0, 1:1, 4:2, 0:3, 2:4}\n",
    "\n",
    "# Apply that mapping to each label generated by KMeans\n",
    "original_labels = kmeans.labels_                    # array([2, 0, 3, 3, 1, ...])\n",
    "new_labels = np.array([label_mapping[label] for label in original_labels])\n",
    "\n",
    "# Add the new labels to the original DataFrame\n",
    "customer_RFM_scaled['cluster'] = new_labels\n",
    "customer_data_cleaned['cluster'] = new_labels\n",
    "\n",
    "customer_data_cleaned.head()"
   ]
  },
  {
   "cell_type": "code",
   "execution_count": 1261,
   "metadata": {},
   "outputs": [
    {
     "name": "stdout",
     "output_type": "stream",
     "text": [
      "cluster\n",
      "0    2470\n",
      "1    1042\n",
      "2     668\n",
      "3     138\n",
      "Name: count, dtype: int64\n"
     ]
    }
   ],
   "source": [
    "print(customer_data_cleaned['cluster'].value_counts().sort_index())"
   ]
  },
  {
   "cell_type": "code",
   "execution_count": 1262,
   "metadata": {},
   "outputs": [
    {
     "name": "stdout",
     "output_type": "stream",
     "text": [
      "K-Means Clustering Metrics:\n",
      "Silhouette Score K-Means: 0.6240372147581865\n",
      "Calinski-Harabasz Score K-Means: 5654.494311285476\n",
      "Davies-Bouldin Score K-Means: 0.668729417552503\n"
     ]
    }
   ],
   "source": [
    "from sklearn.metrics import silhouette_score, calinski_harabasz_score, davies_bouldin_score\n",
    "\n",
    "features = customer_RFM_scaled.values\n",
    "\n",
    "# Calculate the metrics for K-Means clustering\n",
    "kmeans_silhouette = silhouette_score(features, kmeans.labels_)\n",
    "kmeans_calinski = calinski_harabasz_score(features, kmeans.labels_)\n",
    "kmeans_davies = davies_bouldin_score(features, kmeans.labels_)\n",
    "\n",
    "# Print the metrics\n",
    "print(\"K-Means Clustering Metrics:\")\n",
    "print(\"Silhouette Score K-Means:\", kmeans_silhouette)\n",
    "print(\"Calinski-Harabasz Score K-Means:\", kmeans_calinski)\n",
    "print(\"Davies-Bouldin Score K-Means:\", kmeans_davies)"
   ]
  },
  {
   "cell_type": "code",
   "execution_count": 1263,
   "metadata": {},
   "outputs": [
    {
     "data": {
      "application/vnd.plotly.v1+json": {
       "config": {
        "plotlyServerURL": "https://plot.ly"
       },
       "data": [
        {
         "hovertemplate": "Recency=%{x}<br>Total_Transactions=%{y}<br>Total_Spend=%{z}<br>cluster=%{marker.color}<extra></extra>",
         "legendgroup": "",
         "marker": {
          "color": {
           "bdata": "AQIAAAEAAQEBAAIAAgABAgAAAQAAAAABAAABAAAAAAEAAQIAAAAAAgAAAAEBAAAAAAIDAQAAAQIAAAAAAgEAAQACAgACAgMAAgACAAEAAgAAAQACAQIAAAAAAAIAAQAAAAAAAgADAAMDAAAAAgICAAECAAABAgAAAgEAAAEAAAEAAAABAQAAAAAAAAACAgAAAgAAAAAAAAACAwAAAAABAQABAAIAAwABAAECAQEAAgMAAAEBAAAAAAEAAQMCAQAAAAACAQAAAgACAgACAQAAAAEAAAAAAAIBAAAAAAIAAwEBAAECAgAAAAAAAgABAAAAAgAAAAIBAAABAQAAAgAAAAACAgEBAAIAAgEAAgADAgADAwMAAgEAAAEAAAAAAAIAAAACAgECAwACAAIAAAEAAAMCAAAAAQICAAADAQEBAQEBAAAAAgICAAADAQEAAgAAAAABAgEBAAAAAgAAAAAAAAABAQEBAAABAgEAAQEAAAAAAQEAAQAAAAIAAAECAQAAAQABAAIAAwACAAEAAAABAgABAgEAAAABAgEBAAEBAAACAAABAAAAAAABAAEAAAEDAQACAQICAAABAAACAAEAAAAAAAAAAgAAAAMAAAEAAQICAgAAAAACAQIAAgAAAAAAAQEBAgABAAAAAQMAAAAAAAABAAMBAAMBAAEBAgICAgAAAwIAAAIAAAAAAQAAAAAAAQEAAAIAAAMBAAABAQABAAEAAAADAQEAAAMAAQMCAAEDAAACAAIAAQMAAAAAAQACAwIAAAABAQAAAgAAAAEBAAECAgACAAAAAQAAAAIAAQAAAAAAAAEAAAEAAAAAAAAAAAACAAICAQABAAAAAAAAAgMAAAAAAgAAAAABAAAAAQEAAgEBAAECAAABAAABAAABAAACAAAAAQAAAAABAQMAAgMCAgEAAAAAAAAAAAAAAQABAAEBAAAAAQEAAQECAAAAAAAAAAICAAMAAAAAAgACAQAAAAAAAQEDAQEAAQAAAAAAAAAAAAEBAAIAAAAAAQEBAAAAAAACAQIBAAAAAQIBAAABAAAAAQAAAAAAAwAAAAAAAgAAAAAAAAIAAgEAAAIAAAIBAQAAAwAAAQAAAAMAAAABAQECAQIBAAEBAAADAAIAAQEAAAEAAAEAAAACAQABAAABAAAAAAAAAAIAAAIAAAIAAQABAwIAAAAAAAABAgIAAAABAAABAAABAAECAQAAAwAAAQEBAAIAAgAAAAAAAAMBAAAAAAACAAABAAEAAAEAAgICAAAAAAAAAAEAAAAAAQIAAAIAAQACAQABAAEDAAABAAEBAAABAQIBAAAAAQIAAQIBAgABAQECAAEBAQEAAQAAAAABAgAAAAABAAIAAQABAAICAAEBAAABAAEBAgICAAAAAQAAAgAAAAAAAQACAQAAAAAAAQACAQIAAAEAAQABAAAAAgAAAQAAAAABAAABAAABAAEAAQIAAAAAAAAAAAMBAAEAAgEAAAAAAAICAAEAAAAAAgMAAgABAAEAAAIAAQAAAAEAAQAAAAIAAAAAAQACAAAAAAEAAAEAAQEBAAAAAgAAAQIAAQECAAEAAQAAAAEBAwIAAQACAQAAAAACAAMAAgABAAACAgACAQAAAgIAAQEAAAACAAABAQAAAAACAwIAAAEBAAACAQAAAQABAgADAAAAAAMCAQMDAAEAAQIAAAAAAAAAAQECAgAAAQIAAAIAAgABAAIAAAIAAgIBAAABAgAAAAAAAAECAAIAAAAAAQACAgABAQAAAQEAAAIBAQAAAQAAAAACAQAAAAMAAQIDAgADAQAAAQAAAAEAAgACAAEAAgACAAABAgEAAAICAAECAAACAAEBAgABAQIBAAEBAAIBAgMAAAIBAAABAQAAAAIBAgAAAgABAAICAgAAAAIAAAEAAAICAQAAAgABAAABAQIAAAACAAABAQECAAAAAAEAAQEBAQABAAAAAAACAwEBAQEBAAAAAAABAAIAAgECAAIAAgAAAAICAAIBAAEAAgAAAAAAAgEAAgAAAQIAAAEBAQACAAAAAAAAAQAAAQIBAQAAAgABAgAAAgAAAAEAAQABAAEAAAAAAQECAAABAQAAAAACAgACAAAAAAEAAAAAAAAAAAICAwAAAgECAwABAAAAAAIBAgACAgEBAAABAAAAAAIAAgIAAAABAgIBAAAAAAABAAECAQAAAAAAAAABAAEDAAABAAEBAAEAAAECAQAAAAEBAAACAgAAAQABAQAAAAIAAQAAAgAAAAAAAAMBAQEAAAIBAwABAAADAQAAAAECAQABAAICAAABAAIAAgACAAAAAAABAAABAQIAAgMDAAICAQACAAEAAAAAAgAAAAABAAEAAAIAAwEAAAIAAAEAAQAAAAAAAAACAQMAAAIAAQAAAAICAQABAQAAAAEBAAIBAAACAAABAgIAAQMBAAIAAgAAAAAAAAAAAAMBAgABAAEAAgAAAAAAAQABAQEAAAADAQAAAgACAAECAAAAAAAAAAEAAAEAAAABAAECAAIAAAAAAAMAAAEAAAACAQABAAAAAAAAAAAAAAAAAQABAAEAAAEAAAADAAEAAAAAAQAAAQIAAgIAAAAAAAABAgIAAAABAQADAQIBAAEAAAEAAAECAgAAAQIAAAABAQAAAAABAwEAAQEAAgEAAQIAAAAAAQAAAQIAAQABAAACAgAAAAABAAAAAAADAAACAQAAAgEAAQIAAQMAAQEAAAICAAAAAAABAAABAQABAAEAAQIBAAEAAAACAAADAAAAAAIAAQAAAAEAAQECAAACAQABAQEBAQEAAgEAAQIBAAAAAAIAAAABAAIDAAAAAAEBAQIAAQAAAAEAAAICAAAAAAABAQIAAAAAAwIBAgACAgACAQIAAAEAAAEAAQABAAAAAAEAAAABAQEAAAAAAAAAAQEAAQECAQACAwABAQACAAAAAgACAAACAAECAQABAQEAAAABAAEAAAAAAQAAAQIAAQABAgAAAAEAAQAAAAAAAAAAAAEAAAECAAEBAQAAAAABAQEAAQAAAQMAAAAAAAACAAAAAgECAAAAAgACAAADAAIBAAIAAQEBAAEDAgABAgACAAAAAAACAQIAAAAAAQEAAAABAgACAAAAAQABAgAAAAEAAAAAAAIAAgABAAEBAAAAAAEAAQAAAAIAAAADAgAAAAIBAAEAAgADAAAAAAIAAAAAAgACAAAAAQADAAEBAAEBAQAAAAABAAABAAIBAAABAAEAAQIAAAACAAAAAAAAAgAAAQACAQIAAQABAAEAAAIBAAAAAAECAAAAAQEAAgABAAEBAAICAAAAAAAAAAACAgEAAgAAAAEAAAIAAAAAAQABAQAAAAICAAEAAAABAgAAAAAAAgIAAAEAAAIAAQAAAAEAAAEBAAIAAAABAAAAAAAAAAEAAgAAAQACAAMAAAACAAACAAACAQAAAgABAQEAAAAAAQEBAQEAAQAAAgACAAECAQIBAQABAQEBAQACAAEAAAIBAAEBAAAAAAAAAgIAAAAAAAABAgECAAEAAAACAAIAAAAAAAACAAACAwAAAQAAAAECAAAAAgAAAgABAAAAAAABAAMBAAEAAAAAAAAAAAEAAAABAAIAAQABAQAAAAEBAgEAAAAAAQAAAQAAAAEBAAAAAAAAAQACAAEAAAEBAgEBAAAAAAABAQIAAAIAAQABAAAAAQIBAgEAAQACAQACAAEAAwEBAAMAAAAAAAAAAAAAAwACAAAAAgMAAAADAQAAAAEAAAAAAAAAAwAAAAEAAQECAAEAAAEBAAEAAAAAAAICAgABAAEAAAEBAAIBAQIAAAECAAABAAABAQEAAAABAAABAAIAAQAAAgABAAAAAAECAAABAQAAAQAAAgIAAgMAAQEAAAAAAQAAAAEAAQADAAEAAAICAAAAAAIAAAAAAAAAAAEBAAAAAAAAAQABAgIAAAAAAgEBAAEAAgAAAAAAAAAAAAABAQIBAAAAAQAAAAACAAAAAAAAAQEBAAAAAAECAAEAAAAAAAAAAQECAAIAAAAAAQEAAAAAAQAAAgEBAAAAAAABAQAAAAABAAABAwMBAAABAAIAAAAAAAEBAgIAAQIAAAIAAwAAAAEAAQACAAAAAAEBAAEAAQEAAAIAAAAAAAEAAAAAAgIBAQAAAQABAgEAAAEAAQIAAAACAQACAAAAAQEBAAACAAACAwABAQABAAAAAAIAAwAAAgEAAAAAAgAAAAEAAAEBAgIDAAAAAgACAwEAAQIBAgABAgABAAEAAwAAAAIAAQEAAgADAwAAAAABAAEAAQEAAAAAAQIBAQIAAQAAAAACAAAAAwABAgAAAAICAQACAQAAAQAAAQAAAAABAAECAwACAgABAAAAAAEAAQABAAACAQMAAAMAAAABAQAAAAABAAAAAAACAAICAAAAAAABAAAAAQAAAQABAAAAAAACAgAAAAICAQAAAAEAAgADAAEAAgAAAgAAAAAAAAIBAgEAAAAAAAACAQABAAAAAQECAQAAAAEAAgEAAgICAAAAAAEAAQIBAAACAAAAAAAAAAADAAAAAAABAAAAAAAAAQAAAAAAAAAAAQAAAgIBAAAAAAIBAgECAAICAAIAAAAAAAAAAAAAAAAAAgIAAQAAAgAAAQEDAAEAAgABAQABAAEBAAABAAIAAAEDAQEAAAAAAQAAAAAAAAICAAIBAAABAAIBAAEBAAACAAECAAACAgEAAAACAQAAAgECAAECAAIAAAEBAAIAAQIAAAEAAAACAQADAAEAAAABAAAAAAAAAAEAAAAAAAABAQAAAAAAAAAAAQIAAAAAAAABAwEAAAAAAgMAAAACAAEAAAAAAQACAAMBAQAAAgAAAQAAAAABAAEAAAABAgIBAgAAAgABAQACAAMAAAAAAgAAAQEBAgAAAAIAAwABAQEAAAAAAAIAAgACAAACAAMAAAEAAAIAAQACAQABAAICAAEBAQAAAAAAAAABAAAAAAEAAAAAAQACAgEAAQABAAEAAAIBAAEBAgACAAAAAAECAAAAAAEBAAACAgEAAQEAAAABAAEBAAEBAAAAAAEAAAAAAAACAQAAAAECAQABAwEAAAAAAAICAAACAQABAgABAAACAgIAAAEAAQAAAAAAAAIBAAACAAABAAABAgEAAAAAAgIAAQIAAAIAAgAAAAACAQAAAAAAAQAAAgACAgIBAAAAAAIBAQIBAAABAgMBAQEAAAEBAgECAAACAAIAAAIAAQAAAwAAAAIAAgEAAQIBAAMCAAAAAQABAAACAQAAAAEAAAEAAAAAAAECAAABAAACAgAAAAIDAAAAAAIBAAAAAQAAAAAAAgAAAQAAAQABAQADAgEBAgECAAMAAAACAQABAQABAQEAAAAAAAIBAQEAAQAAAAEAAQEAAAABAQABAAAAAAIAAQIBAAAAAAAAAAAAAgECAAABAAEAAAIBAQAAAQMAAAIAAQEBAQEAAAIBAAEAAQAAAAEAAQEAAQIAAAEAAAIBAQEBAAAAAAAAAAEAAAEAAAAAAAACAAACAAEBAAIBAAACAQACAAABAgEBAgECAgECAAAAAAEBAAADAAIBAAIAAAAAAQEDAAABAQAAAwEBAAAAAAAAAQABAAABAgEAAAIAAAAAAAAAAAAAAQAAAAEAAQAAAAMAAAEAAAAAAAEAAQAAAQEAAQAAAgABAQAAAAIAAQEAAAABAgEAAAMBAgIBAAMCAQABAAAAAQACAAIAAAABAAAAAQIAAgAAAAAAAQACAAAAAAABAQACAA==",
           "dtype": "i1"
          },
          "coloraxis": "coloraxis",
          "symbol": "circle"
         },
         "mode": "markers",
         "name": "",
         "scene": "scene",
         "showlegend": false,
         "type": "scatter3d",
         "x": {
          "bdata": "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",
          "dtype": "f8"
         },
         "y": {
          "bdata": "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",
          "dtype": "f8"
         },
         "z": {
          "bdata": "6jWwC68L5L+KBKeO7dL1P0/LA3akGqM/1/WJ8wbopz80ooOX02Pfv7GWJHpmhqW/e4i15Pq64r8CDcNzcWDAv2xel+Ffg9q/9tTHMLu24D/c7xNGRuwBQLRyOD+iUsm/wrRKO+zUAUB2b78j4vLbP5arOhQBduG/BclCeopz+D/JcaJnusbXv/Wsw1O3ibG/ZPo5Eeic3r8nPDn8zNDhv3SLaXkohu4/Dhhw9AFHtD+qtIrUt/ayv+s+h21Sf96/B1SRjAuu1b+Y7CZ8zP7cv64/MwEpqbY/KqGJ4daY8z8EWnBrOy3RvzHnsLAyit8/c5w60dU1oj+jWEX2Ote+PwnNXVg1Fty/zX2Q7nA23L98GMNMEwzlP/gA0PSOK9m/ys5hG7wY278TJ4n3try6P/MbkIwZUMC/D2B9uzhM4z8QqZbmZV/ZP4+BOOEAu6I/Uxu4PMQUw7/hWjREggXjv4DouzWxJ+G/e0WPQJ6D3L8KP2GUhw2QP6OWy4ICcOw/T91GSUbQsT9APqhjlDHiPwPrqE5Y6xFAbiUFNK6w2L+EEj7ZoT+5vzJLMdNcG9S//iLiYO0D27+XD5PsTJfqP87JFtujVNS/qm5bWpdY1r8cDuCaJjTVv+P6frZL49O/yBdCJgmlvz9YTwBWb+nHP0thvcPHHtG/heiDEv7+2L9Nrb/z7+DWvxDFNMUFggJAiyaFHUUH7j/xJr19ANngvwcygAGIDgJAmSS/qzgw9j8EYjTZ9zMWQMEkbwqnedG/t3votJDqB0CyiOASUWnbv5ZYMYBJb/Y/PUN8it9o4D9Yg3l6Nb/hv9Y5n3+t6uG/Kog6gDAq9D/j1rRy3ebiv7I1SugG78S/CDtHVY1W27+4IQxMPErdvxmPT+LgjPA/mz7vCREf4b/xx9sUi9gLQHe2o7n0yd2/wzFoSUIx07/qNbALrwvkvw3qunHkEN0/E3XdcCmy4T88SughJYi8P56ZvnGa0dC/+cwRbiiQ1b9DCisS06LMv+T0SI8Xj7a/bcilcO+bx78yOWRtdizUvymc4bTJ0dS/z4uxfTgkAEDZxSoBjZHhP6WKsKMQwwJATeIWQ5ZO1L9h/aVYJZH/PzMec7yNuRVA9uxUujP0178PDZNMhZTbv6AEsFUymeY/Bzzfigbp+j/5RrIp4IrOPzcXbSvjvfI/27sQLmtuqr9Pk2oEjUHfv0z53BUs4/k/vC6TmzKM27/XMmQMG7Dgv3kDP7JcXt2/4PGu1llYxb+H1qSttdfHv3Y/iuxnwd2/BTFpHY208z8KdlDdYGrRP0bTD1hBOug/f8yzR7Eo478umzSVnvXiv1obS3dHtsS/HGn2o9tU3L+CsDlqDLThvyZz210GBNC/wVBrO58X4r/JWFMGFFjYvyYWgcRvBsS/esGBXp7a37+8VOyOxCS0v1zUEEVC0No/t2Mg6P6izD+7u7Qssejfv6JWQNnBuds/rBYIMoz2178OYoZWyLrhv7frfx+YrsE/qILLrdsh8z+D6+VWU7q1v8zG1GcXUd6/5Wnr/mpswD9C21Jg/t6oP81/BPfzMeK/i1ts1c/Q3r/tWngyyC7GvxkaNr0x69K/epC4Baim9D/K8wvJlVXdvwlkIRY3H/8/RuPAabC3EkB33VYCXnXOv31EhIi5O9+/xlzuVGL6zr9/arDVSPvEv+9JuVZlzeG/ujq0G3QN47809FKnyWzPv/NBurMbkOG/6gggPJ+y3r9NIU5tOc/rP9rudA7fXta/JYmj2wulE0DqNbALrwvkv80M6TqXTtm/lb4VNmdEzz+mfv7AEYTgv6u1a+o0/e0/bJyQ8N8u3L/k2sRpcRvivyZug3qwcN+/mhzR9OO8CUByEDuL3zHqP9Je65TNu9i/E43K6uQsy79XadOuVKzhvy0f++5wWeG/p1QytkBkl79mbiM4TojXv7tXuMaRs90/KdcmYRgE3b8M1o0oat7cv6Bb4ZzOY+G/Fz9XhNi03b+/buq1FnsDQNkwjtTJzso/F+n+JPZByD9ZktTb72LhvyButnM7guK/lqs6FAF24b+jjgtsHxvXv6mH219KfQ1A04kMhoIw3b+ddJAHtjjcv4ofjmBBzNy/QSBDfZ1d6z934K+edMjav+gpJWDYR+k/he91pdki5T8wNGImE6jLvxn2V1TUNtw/g5RmHtbq2b/xKobsZsjhv7TDqXuq99W/+IhxoyuO4L8Xwy/EDijkv+o1sAuvC+S/FqanXOYlx7/ZqEBqlqnEPyEBI04KSbO/H0tcAh0i1r8tJ+t99cznP1crhltrw96/jwTylH7G1T/iayZqJcvWv0sK8ZaWqN2/f9Le2DYE4r+LbvsS5PDmPwnmkbRxFJm/uivccU1HFECg5znUbabhv8RNQL+gEeC/s+SKuh1F17+KbetJ1brdP5hkjqRCIQBAMjh0p6Uk9D8+0AIdy/DSv34+hCyvPsO/fuSZWLnj2b+8IdVR6ULQP8ytEhqfDrI/tWAt3XphAEC20lCPuvfYv581jEBRRd2/hY97zgBkxb+a7zh3t+Phv3X+Mhepq8q/v0kAaWnn6D/8YeYnUvfZv47I4YHBI74/sz3Ihu7rcb8o9sliMq3pPzVPBJYTOd+/d/juHQ7Y1781T1jafHbgvzkHt31mXOK/niKlpA3J0L+vQxcXMDnZP/I1BvlWbdi/VFJXs6028D/SlUt/A5jEv+EELC4KadW/ItHnQPD04r/Cyj2VhbDgvySdSjdk1+8/KfiKyc9t9j+303JXK2bjv0QCCcwhaOe/LNt94Nl92r/jaOKeD/bpPz5Lcxj+2qA/8kbsix5c5D9iuD3HD7Xgv/C8PldVHNe/m933+57/yT9To1jCAFa/v5Rjk9OmlhtABIrKnaYty7/UzgtNzbfQv/nAwti5OxRA1P4tssvZEUBUje93ZCsGQEcowQN/MtU/EJeC31MC4j+mEM47jP7iv3H1wnJt/fk/pBvWtJmiub92StVWjjDevzDJnnuRVsm//mJ/8JHJ079gH9VASZTRv28LpvD64ta/2GlSIKo/0r9dwvNKfmv3P38FBH5fpNK/LDu8VEMT4b/tjz8ZikDgv6pSOMX2uMY/L+/OKk9eAkDYMUJEqkHWv3NX7WnFQd0/pv2d9C4XDEC0WeSz08zEv//qvOVh/vE/jHQ/84Cb0L87RbQKSrb1P0lcJupXJ+C/NLkN+3o6x7/TbFSmuA/Pv09O/LWIDuG/74qglAg/2L9d1fZrnGf7PwAHH7yPod0/ZqphnR/Ky7+Nl84GaTHTv/JVN0YAmcm/KOSMZTAa3b+DMX/E6yvfP3zrAgVilO4/Uu+dkoyQ0r9DGd/6HMTbv7CtKeQE9x9A0amjFvfR4L8uWA7xQb7cvxvQthMFauK/tn/MY9K107+E0rib5+rhv7VseBsQBOK/I5sQeCGExr+4kJM7/HPbv7xsh4CKINi/aDA1wh2vDEDsOVcfTvv0PzS5NV6kMPI/h9Hnr/Tv379LuEspVT72PzYB7IdhKiJA0SKC4YJy6D/v9RVOqYvZPwgd6gCqY+K/YHPLyH+69D/0PU/2bDXlP172OIziAZo/jLB0sBN1xD+16gH++HzZvw8o3XZU8sM/jZk2mK/YAkAg0aRP1ym5v/hECEEA5WK/rQXUlOXZ0b8bckWZxw6qv5S8mf8gmtO/ojb05CqQ8j8nXUqz4TzUvwfrSRjQBs8/AEVQcUClnL9qDTN6kf/Zv0+L5eL7WuC/yEtf8aC32794zvQe8ujiv7lLHVvkX9+/7dS6I8pr4b+r1LzNcujdv4IE/u+ic9q/5EMoSl1Szb/s6ezRoK3ev0lZbV3+luG/8TvFO/HDBECilPSen8jcv5jrFpq/n9q/chtd5hdC3L+UTRc6iYfavz6LV5rppuC/ICaC3KHG4r+q/iijNSTNv/aBljnaudq/J1lRzNku4r+vP0VRpnm3v/+pCMCJesi/O46CFuis4r/beWkGCtzJv1pCmlFX08c/CoUpwZta3L/mC7MC12eqP8zeE+ewYNu/BSJOkNn2w78MWP8bWU7gv4Wpx0pYKgRARhL99Rve4L9ponT5N8XcvzG++EpQwdu/JC/seMjb3r+9R01qzIfiP/Q6OLhbEOK/mMowMSQ71L9KZpqrnET/P4CqINjoEOQ/ok27Sodk8j+712XSrBK8v7V+E8rJK8M/WzVUHgh13r8W+T2HMKDdv7YN8QEkUM6/iUyumDWBxb9Lfl6TBRnivwVGBK9YO9+/8wZ9NZAMzz+oAs1nxtyhvzd9MliLe+O/yJm3sAyP1z/sBJO/t4+9vyy6nKFmMNm/Fs+F5hnf4b/QRTObpae2Pzq4NY3WVtm/DpiEpIZC8z8RQEpIAqG9P81RL6MNROS/CCbBYk3X3L80yMHjxFvWv4QnjQOLCd2/wd9vQ1zy3b8kbBCbjZbUP0woOZdhM7U/PJPw+Wduzr/XHLxRasLXv28QhGuWSN+/bxvrpVc0qT9SKc4ypkzTv8hiBaj69N6/RTwSnNhtt78nXJzaqEFkv+iMnw1E0d6/ZxQnZfb03L/hAoit5U7ev9nEeg/Db+G/+vWJtJDT3b95KD2kn9jgv5DNbNlqohtARLTrAQj/4b+8jWi//W3ZvyLG+oeBGuc/2HqL53hz3b8Tjrr7KNTWP2dK/i3FZek/x4KxCXAUwj9v2skF3DbgP5vqC+LaV92/BhjhUJMf5z/Od6e78IjWv1OH9LLvApq/PCVtQNuj4b/CTvcyHBzcv2hFxyuaguG//2Wdl1auyb//ozGMawXUv1vdqLDL39Q/+H42GxJ+4r/CcpH+6PnbvzdWD3gGLNa/w6YdtSSl1z+fJLNpxU7Ev1o6SJMEerE/96LQ5t5b4r/1ZBMgjuMSQACN9RmlM82/WzqxK4Yf1L+A/O/n3hnkv2uG9fFqOda/HssXj4No2r9150BEeguYP+rwqcKym9Q/W5yF0RGX9D/lSIYD7cLMPytS7UlZlcK/y2Pf2AX3iD+r3wc4mVfev68hJ6J09fg/PXlDrNVy4r8yHeTS4mDzP+G9GV/hG+C/ajm2ay+RzT/RSwkjslbRv239bFexreG/3Um9tcIds79GV3gAXAniv7aEqt5tG9y/xN64z+Dn4b9iw7ip10LSv0QoTEI7d+O/g1CwVrowBUCdiibcAhfdv3+JjaNU8dy/nQo2rdKa4r9drC2aHqawv3OboVmx+9e/YYU2tCQk2b+53ePGDVAEQIJmkcrv/Nu/gXlp6Loz2b9e1F42I9Xbv+PdywCq2cq/rwOJglIU4b9cnYuwNr2yvwpZ/RcCntq/qWQg0n1I2L8jwB5G2hAPQKBxd3EbQuK/1R/5s8zX4b9bcQb9fHT/P9aCGJsdO9q/iOPB0RbX4r8Lr0eMf2jhv9I7c5FxTOO/6XZb+Qnhmb9w9GsIM1n5PwFTk8JesO0/cXfuPs1O7T8PGXJVw77QvxppvNfpB+G/iTZ3up/bBUCUO7VBliXiP3YsqHpMXNa/X87V8+VkyL9Im6x8bYYEQEu5FRb7l9S/Jw2tt4LCqb9cnu2wH9rRv7ps4kalRsW/MJt7Hcw64b+45saf7RfVv8a8YWuVxcu/r87GxbgZzL9rwjNXPHvKvx6YZMABFdS/qmyyr0on2r+7Dr0UpIbXv79V6x2BEd+/yH34icV91b+/DBc89prpPxmB+TD2l8k/b10VEK6u1L+T04rVCfT/PwAQCkMizd2/IPDz2otDsr/6cMA07Qjgv7gtu9zYVeG/pJpr4noA3794emU7JV/gv0mH7mx7R96/iW5fmjuovb/666Jw4ADhv8T1kygEW9u/+oOdfOBW4r/ukInHiOzdv6AQrETpafE/yeS9Ixeq4L8Iznr2fW3hvzxtNmqB0sm/CBlRCuWS0r/7oubxvnUUQJdfPQ4By+C/TuLmyvQv478XPEkyP5UoQIDIoqRYi/A/f8AEtxQd378us3MUOAXgv3Hbu3FKCQtAJ0YgQH2j3r/90X35HoDav+fFDMAE1cQ/9ai07zby4r9ahVgMS8oAQPICI7Iz++C/tdwP7dyM4r9f0P5D7GUCQCxm2BvQcOC/gdQoqWt/vr/YxDOHlSrjv0jBPltG0bM/ShdXm66+3b9HV+8AK23Rv3qjwfa9zKY/9U2TWyjvEECBXrH7QRnZP0ynTdo8wNm/JQxGPFb2xb8G65uHx1y7v2QKshDrl+O/96QyCf5H4L9I5AO9b6jJvzb5/fCbu/E/am72kUuv1D+KgszpMTfgv70JtEuPGeO/VXW5OUS/wr9b1TRMPufiv+zGtixKbOK/I/nRO8m1xj8co5bbELXpP8RdBIr3keE/hFnPnh6a8D/XdQ1dIEvHv9DqY+ioVfs/Po2sAM2a278xOILdfWzeP/hZOCnPA9+/h9h2Z/Bn4r9fjcNnyevVv95M5JqsqeC/Zq21Dw4G078yKjxv+hXtP4eeFBCq5MI/8ph8YMkUqb88LTTAcbjZv9rmQiFVvca/8SFwF1uVxT/ogfMGyV6yv2ZM5F6cAXw/WbO1GmOw4r8W9HYcIWHiv21AT159DsE/2v6BoO7Mw7+6BZJul9Xbv+oIpPipDtG/VKvfIoMqn79AFhwacwXTvyseXfwIcOK/VUXgdPZ5279puArOhKPdv6YyX2zJbeQ/ATZNuTvc2b9NNAKmPr7fv3Il2xE2JABAWahqsDxB4r8k89e1qzjzP6lveb3vnr4/B3u0bJD94r/L4dCgBaq1Px8gC5nGjuC/xCq21eCS4r8OAPN7ezHgv1RkAeCSRsq/CB3qAKpj4r831zNVCybjv1JNxHCfFso/7s6r5fb27T9M/uedcicPQHth9x7hv8y/GW4qu2nJzL+7k6U251jgv73uIoCUTbO/oVQjy8R9AECbGfEXzqTdv4Qq9HEI3L6/6gik+KkO0b/gQA7QkyazP/qJu1EqOt6/ZwAFmSwS4r+Ejk1ztB7jv4k664afwM+/n4skv609zr92+Ll7RKLhvxiuHpMSZNc/q5lSW2Z2AUD7FF0VTnLivzyfP5rBPOC/mz2L45qC3b8E1nmZx6rhvy/MICeWCOQ/d1vn75Yji7/lZUJhzTTWv4qw6h3PO8O/EQLRyJGY0r/lQJiz8/fTv5ajVPLKWd6/sQKuQg/r1L+rYcCztQzgv4EBQDkhzNa/UhfRVB4/4r+F6ZP0Cl7bv25URtzN6c8/d/U1kbRH2b8chf6R21Pav6RPAnuSENO/TFS3r/JFw79v8lu5fIvcv/BLl6N7NNS/DbHopLi43794tzyCNJzXv2GvoonnX8i/58mV9vIV4b8SiVtIDV8GQC572Pl7wtU/WlRy6Xpy8T/PZFfxkYX2P9Gor4ec2ek/iKAC0iM8/T9U/aazNKfWv6hRx1+Tf+G/wUxOiM/q37/cuGt15f3hvzOAjUwroNa/86m/pxs64L9YvIdS3gzYv4nDN/3dLeK/EbmMT+t90L+05iFmCD7Cvzk2nLNZqeK/6/B7iZwl4b9Y+eAWbf3jP6Fp2NcSa92/4d3Y1eP61r8BQfgTpYjMv3oMfD7NHuG//G+1fAjB4r8GniUHOa3VP9h6i+d4c92/jbs4WpTw4b8GUD83ckvdv4poW8AaWta/6QV0a4Ea478i9B3mRjbfvw124xfkC9M/jxuxmu/S47+V9syr8h51P2kW8QkGuqc/2dyQf24gwL9WncGtXGbWv9nNL2ESg7c/mjX026WM1r9Mb6FQRCsAQLgChsY0Kdc/X9x5+iIn1b+FDXeSsDERQGQSeT9mFKw/5xRxNIJS178aV+9xAxnhv2WnPswyztC/1DOqB4MeBUAsMbFEyyHUv5tSta4htfA/hTM15qiulr+A+rgTOTXSv7EjPWOmerm/NWSKiFO43b+oibEwQLbvP5kfWd0wl9C/kLAnvF/O3L+7y8G+wFbNv0NQU/zNUxFA9jc9tP4o0b+3mDLVBEvgvyb73+eCEuE/xpqHc59o3r/rEVAM1Hrfvx+XJGZTl+C/os+IZS8h4b9D/VrJJyHQv+ddutdQhN6/z2bvYT8Q3r+9wJ9Kih3Sv8wesXZVJtS/JYLvNpNi0b9ZT6kNaxTWvyFadQXSl9y/ndJac5zS3L9sqr32TY3pP3NXliHBbMu/6jWwC68L5L+F5P/sOazYPxv4GU44N+O/CwGlxc4k179f/nwBB+Pgv+FLUOOWxdK/0u26+sBg3r9htEkjLufsP6LdvNRQP9G/eYAqid/EzL8gtHHYKSvXvxI/aCKcxvA/byUXGhLA4L/pB5OD1m/0P7D1uS2cSti/2G4rcR2O1b933oqwMvPQv67lB2KnAti/cMmz+nIp478CS4rkwm3cP6jTHtsK/96/iVdE9jZ3jb91UwQqlpq1P4xSyhX2ktq/+R+Rb+i61b8lsrTW8e/ivxLpmHd3UOC/qRgjzH2d178aAUdMzrnFv0/7fLTI4+C/TDyUr9gakD83pLUoUwjTvx14k2ObJtW/ESdWsK2VAECw1KNMX8fgv6OaeJ62+OG/z+vxfqt3yz8FNfT2d2biP7k4SWoU4r0/KBhX/A1F8D++GqZxMt/Wv1B6b+dPEOG/Ea+xtxSrxL96A8iYj9HUvzm4wXcKp6S/L4XTYhtN2L/oocnYygPyP9qVldnPIuG/J5Odv6VR7j+uJ88JtrTfv/8Zt7rgUt+/wZQr12TRvb+cNSc/5BnvP3G76c/kdt+/5YgRlC9Q1D8Noj85H+flP1T9prM0p9a/xoTxnlKK3b++0LEGwqLEv2jVb5JFqMU/iiVSzQM6DkDvx1QfslXhvwz4le9c8KQ/Ccf4+r3t4b+WhBc0fCbUv+cOBEX3SN+/7ttamMnRwL9Yvx6dbsb/PwUUujB1m+G/9JEgOD/t4D/kj8VfGsDbv2FgV2SBseC/KWtvpCTQoT/25fKPPCy/v9cWZghSHqQ/GTqDXY1937+zhPz8SdnIP07aVO0nUeG/FjTSTcD44b859IXxCdHev6DzycJqqtq//+DNxCqru79IPqXJrBXXvyEgJfu06AtAgMkvXSHO2r/ixC0CEaCwvxcHXHk/eqS/BnaCrYta2b9ZDFPxbL7evx3yF8ygutI/7rqQguDT1b830gbALprev9af2SImxLi//vIH8I34ub+kNWwRv72Vv7hYg1/8dd+/1S39qkzX4L9zN2r+P1jfvz70JDwEAvA/jC4wSim12r9fIFW6cZfgP6OlwwjdZ+K/U9Ha+t0nx79dhfrBpVfJP0aiZSRPVeC/8nk8f8AD4b8OULnw4cvhvyM2yTqjgcu/cXTM1er9gD/tt4kEpj7WP/M7eBIKjtW/PNa2rYFo4r+WTt4738/nP1kd9CGU58C/4bu3PMIv4r98AN7nz7nxP2iWFIPc39S/JwcSJciB1b+qakkkeHvZPxUIUmC9/t6/ikmaRcHK2b8bMOOhCvDgvzfnmW6qEeC/CHRmgNNz/z+/Myg2F9vuP3X2zDPN36G/ihXcvlov1r9yPU4HmO7fv3zoXZ33u9W/i1V+eCcM1L8dMc+eUQfKv1mztRpjsOK/y3QE94Ih8D8JuxMck0P0P0AUc28m1Na/VCFBfwGF1r8cQwdyK4PhvygYnzAA8+G/Zu7DHRQuyj/N0aOOSBzRv7n5TJ/ckLW/a2AL6uJ+4L8QNvRpY4jNv5pl+9kJSOG/31ciSZcg3r8LIpjqpYHgv7GGcl1WptU/fWRA72pMij8iIwMcOoPfvwqV0ThAdNK/ELoPNArBA0C8d7IZ6NfBP457y0KRSdq/d0S3gURN4r/4PKQVzQHRvwW6uDP18OG/yuyJzdXV3b8zGUowWSfgP4TUDQLL3ty/x54Z6LJQ0j+1wDEL+Eq8v4RwJcGaYeC/BiROgyr90T9ygKlNvlvcv1an/DV2dtS/fJ6SQXXe4b+TIQutKyL7P4IjisgyzeC/iPJMq3KZ079s60aDOWrbv4Wj02X0neG/xYUBgV/p379mBP5/NCDUv9udjLgJLcG/L3qjn5V+ub+TlVQoRhO7P4R2Q5bkRNy/vugHr+UB2L+LatTyxWzhv+f//Cem4uC/HrGzIaiD0789y7LLiD7gv53vDtVPor8/J9jFyhHHB0ARe0p5suTSP8FGjmQ9nOg/Vz88ixhp1j//z2aMKJK2Pz/ZjbMa38C/tUrVBG+FyL/QeECEMFvQvxklUa+2O+K/wG4eLHUZw78VLOwritzevwPA0d4Wvdi/6qXn7DhX4j+AST8u8VHgv72Xg3ZOxsA/i+CJmdzY3b/L7yezjsXKP3LytCcO4OK/GDQnwVLmvr9Zrjp7p/bjP/040/tUCMm/hNQNAsve3L+riL/Hcj3dv2JaZGBiet8/BTmdrRPHtT/5+1u+hjHNv3NXSBfiPuG/4kX12W/L4r+WMASUpEDfvxI3LodfwQFA3Ed9Od7Q4L92P4rsZ8Hdv+o1sAuvC+S/PvbB1tmj3L+bPzSO57PZv/Yevtq2m+C/z8JLGCvn2D/rq1OzYz/Pv9jEM4eVKuO/TiAnYqIg47+novtnvg3qPzeEtFNL++K/IYeaZ+5jyr8Eg/qXB4Dhv+EFrq6gpas/AEyu676E5L/ha0pP6xLgP0dCOZZJz+G/y7rrCon43r/eOaylnF7aPzwpNq9Bk+K/JT5Acc+/2z9rXYLVKg3Tv6YvO3J8UN6/fqwNOcRB0L+mtWgYlrffv+04LZAsAAJANzTu3uRg4b9Kr6XrF1Lgv/9+V2bwqeC/2uQiXTv/wb8lrutniwDiv2PCO7Ey7aE/PBYFI+UH37/g04YkQJvCvxFNvuyE5NC/7U/SAYeZ2L/kaLdQlu7dP5Ep/BmdF+G/0J/0eKvMyj+Mtlw3glzAvze17u8hPN6/cFEatL0dxL8OcLrF6djRv/umXAhqC9a/IQ1oHcWN2b9mQ3cI3c7kPwrEtm4zwdK/NQqJi9MN3r+YLj0+HNfgv51fChV2ud2/6YSWFqpl1L9x1grrxXXpP9iiLeCA0n6/zoT2ln5PwL/WfbZjd3nfv5L4tMGK3uK/ha2jgBohyL83ghtQ1zDBP9raAyjUVd+/tkQ/7ffzuL+i4YVDty7Sv+Y4ghkcvd+/eQnx6okE1j9npSfJov77P5T70CnEGus/bBf8Egaa1L9k7DUaaJ3fvyv1wNDa5MC/6jWwC68L5L/vaRF0ca/DP0JqQmW+6bI/qDgdONLq5D9sZzIfiNjiP1ZiNDeCpLu/ja+Jyffk3b/E5TrLoGfhv/NH2Ihlc92/tnRRgQoo4r/r2jO/LnXKv8znYnKDWeA/R/29iwmk4L+tlbgGDvXev+gjijc3yN2/T0OIPHRAwr+853ui4Sfhvyudf6cxu9O/5sw8neiW178KRYcHz33ev6Sw7Bc81/I/LCmbqvPm37/kZFuOrjTiPzgFnjv+hsm/Ob5yBMBB4L/L8bZismHiv9N9A1grIMc/sXv5uRnB4b8gZSBgO0TPv0+WHme+uti/SG6a4azB2b/Fqt3MZ8S3v/2MLJHgULg/+GcngcP78D94Zc1igdDZv20r7mYuXt6/E0OjNTSMub8hv8FseLHcv1gDrAdradW/Yoc/T7SSx7+WWELT5j7EP8fyepJpZOG/sm+Rsar627/AVpbMJPPgv1IcqqWRjeW/vqAYYe7i2D/ZqHIhw3Djvx5VDqQDv9y/Eq+7C2XZzr/wwBmsHxvgvxK8SgZtJdS/Pku14BzK4r9NhDiywPztPwxGJfo2Z92/hEHsRj7X3r8HNCVKEBTOv1I6tC+H/Ke/tIOeKVx1tT838FPqITy7P4LSyppJI+M//BMkJFO0wb8QxAheHqMIQPPiiyG/Wd2/OPDJPt/Z4L8FpCJfqBLhv/vfpT9+iKu/DClNSaSO2D8BDVG2yDzfvyQ2aUpgRNm/4rhFOJbk4b++rBc79cTEv4JDd3hLIus/MGBX7leG6T8lQWvUz5zkP/dpdFKImAJASROOLEjP3L8hECGqHh7Yv71ULVpQcMk/a4w3k3w74r9t0lCQJFDivw/ikICHEaS/bG+Cnk+J6z+CXjGW2+AcQMqFOEm2nrq/4sB3JSCG4T/V3r0Ywv/Qv8kJnXO6HNm/KC0lI0By4L/fOgp5isLdv4pEwfRNfNa/F0mSDPLE27+TaehfMtHNP6W6xSUUYtW/+0KFnTulz7+OILpjBEDYv9M16A+pM+I/L3BSmgPl3r9cvCxzxb3hv7Z9KOOtm9y/Vws5uw8x0r/6UaTzeFPmP0touwJ9Qt6/rNUMz/nM2z+bCo80YhjiP6raKb398dW/YBRaXoEG4L9FvpL0Qfqwvw3MUqBQzt6/BIP6lweA4b+m0XAGlrbdv6v633LDP8M/Vi0q3I/d1b8Amf0x0bzgv+xcPTDHxt2/U5axoUFc2r+vckDqs1zQvzX4uyXtHt6/amXQZoKtrb9BMIWxdgHfv91vXJ4IGda/H2ydMdOsyb9wCPKNyWndv961+XC5suG/aOWanZT84r87AyOxyaLXvyP67+88lM6/981BbHFG+j9rML1jUX7Xv/qgtUzttOK/gk+2ccyJ4r9Fp+PHpabfP3mRgvJNANO/JBcxtjko1L+sD7Rv4uzrP7dWSkzL6O8/Q+dAONDm3L9/2VMYu4vev+rd5yFg7sO/bhVqeEWP5b87rNpAo4jWv1PHCuC3pOC/rll6iD6K4b/oGuNNNXPUv2kJNWlh2uK/SNWavoEUDED9YmF3UuPjP5iW+6nuO+G/ZwpAIUYi4L/xFkV+/d3bv9XAyOLk+N8/ZKPxoMGC3b9SlBWzMCPhv88gxGU1w8y/nMfVPIQW4b9AWuje+tTNP2d4zleDPOI/dTGBy7+q2b/GHw602/AEQPOMU5Olnt6/QFWtXmxD9D+nB/Iy2F2lv62nhWz0496/Tr/xc0Ekzr+0zbSLIuniv01gnubzHu4/9F9cUaEf2z/E5txIZ5SJP8UdwRSpifI/gQT5xXpc1b+0z0TnV0vUP0ouhjg7b9i/uBDS8abW9z8MEtcK7G/mP5dpDSknTse/Dt2YCl3R07+Ev4cPi1/evw+ZMgxSHNq/lD4DYfwo2b8GrwJc2/TJv8bCtF9El/U/3D638gcblD8KTq2DsxfVv0kArLosatW/ZwyVhykW279a4b8QE9TWv9Wdh8DdZ96/e0cDSSF/4r8jKGVT4ETav34+Uo6AoN0/40p3u6GlGEBi+QaMc0DnPxuDUL1mC9m/34nPtSnBmj+IXyvw5ZHVv4IDuWvM3uG/igH9FaZptz8OULnw4cvhv1xg5abYje8/QxFfA7T04b97VkeaT/zUv/EesmDZ7cE/UuASuTDO4b9DQXjUrGqfv4Swczb+AN2/hFqiTE7i/j/KfYaaIAjSv4AvkxqoDhpAhBYkxBq34L9Gxv/vGzPgv9ojnOXjreK/wGnqFOek0r/AZPvfUscIQNkh2BNQrQFAyTC7KRdV4b/xassg56cBQH2+U+lZ0xBAplQXvoQrtr9qVXn3jsrhv/M8jR4/BN2/AxwAXOwd4L9IM+Giqcmev9Yn0hnH++G/Tdg7q797yL+FG0Sdu0riv2rBNXSRVNm/NxHvM+Emwr8ySY1SOAHdvwrwsp8rX+O/8l3JI813y78dHPuhMlrhvzzAsEEZ5sS/bUUXXFON9j/fsodsjWfhv1a0eUoas+G/J5OBbPPq4r+HZu625P/zPzMdYameRNu/zgV5JTve4b+0BIpQmqnpP56weziANeG/VjDkregRAUD+SYtVBoHBv2+KY4G42eC/KIfs1uW5pr/wzntUV6/jP4FJdNC6h9a/wQG1qEXc4r+XXN5p1d7/Px79sCeoLtS/cxWdwoXz5D+mayXMxU+EP5QNdYC8qty/osXfeM/eiD/Kl7VlMrfiv0AFLx74VuS/yugrzGJz5D+NAfnoqrDbv7ziuXr4KOQ/jgKSseqC1b+WGwJebx3Tv8GrrJLNP9W/lZLONkh/u7/YveYtn+DZvwE+g29PbvA/8TraH6Kk1r8ecojuUaL4P/WxdChQFse/oMErAB7N27+W7pzc2MvJv1rrX7OXOMy/F4TSjhjg3r/IIrcyl1Xiv/CDk1qMeuo/H5iS+ReL5z//cZjzRj/av5ucuXX3uOG/6+yyGjY24L9AZuKO2Z/Uv0q2XImhB9a/dui9pqp5dL/yT3cibkriv1ePwuAEfty/6vBpozgW2b+kjFd2lxD4P/Y39elymb6/rtRPCPaJ379sHZc7pxngPzWdhUtvRsA/awNRYAlE4r8/6VaomXbXvxgiP7TLVt2/hYvJiCTE2r/cpp4P/w7ivxOEr+uw4uk/ahOlk0Qg178/We55Zv/Xv3QSV7jkdbo/JO/NewZb078kupZInET4P0rKSbOhtNq/4gf8yu8f4b9gTWHNdpTTP3AEi5mk//c/D1pJNwFp+D/LYvOomLzNv5AfHnDsNhJAbCKnbW9Gx7/hJiJ5sizev9zHr8YTe9S/V0y73kdO4b936uX8ZcHTvx2eX9nl0eG/MeA9sDmr4L9kF1Lh9Prev53i0nKfzeG/Tu/BkFAB1T+wBAn8ehfQPydzl8B1Ldk/kLeNZG3nwL/SdDQLANXyv4bpfMuADsW/IqdiHBbqyD8QwoqB8afLP9V97C6h0NA/z4vtU4KK4b94MM+BbLfiv5gPrDtkZtW/kspCSYSc7j+/u8sjP+bTv4zudmfSiMa/Sy9/8b1+xL+pIGe4aXfYPwIZYyJF9Ow/RpyQL1ZDpj9fFx+XtJbPv621xFjGUdQ/zyotvUuIpT8zOFSLac3Rv3pdsEb4rOk/g+5nG1aV2b/I1rksl6rhvyf++GQf4OG/yKuJQBuV3D+SOfzvcI3Lv5v9PG434+C/IPoB757M378174TTBm7hP2AU4R4n+sI/N8MT4WTPqz+hMMXVQQbivxMD6/7uJd+/INc74WMv0D+dkiMnw4LmP2AfOlu06Mi/91sK4wmU6T8sAkVAvtwUQBVjt4OzReK/TFCuIRLRtr9zAsB6kqXiP287oDIjpt6/EjwGk9Nr2L/u4GQNVkqiv4RYG+TKh9m/TrqDkMFi4r+9mmH+mCXbv2z/vJNsite/dxgbQY/sw78nfrNFwb3yP6LTUdSVEOK/MGrskMdT8T+smyX2mP7Wv9ZTblp8XNA/gUXLfZDv9z/0wKzmorzhv7TrEeAF3Nu/5G00L91Qyr88lwuHqhvcP20TdG/emPI/FTBenV+W+T+Iy1QZZ1HCv0KkOTYTt+G/G8ESpsYxn79mB+VFpCbmP0vLsgNAaOO/xjffjB1p1b93/zt3BCLhv+ao+Rkgjsk/UMkMK5J81T+S1c8RsDnoP1i6I/EzeNw/HVnkzqWm4L+ce66UHCq+PxVjt4OzReK/JacJfIhD4D+wpgObQg/Zv3tC1rNE892/ivWhyXKbtD8t6HH1TB7Xv1gw+nh1lOG/Y7IFek7h3r+A5oj4bBr6PwuPZEm1atq/3G4jxguEzr8MdQowKrTdvzOF0QqSe+E/NaBj07ml2r+afkbWl46+P1xPPEjutde/F/RpYOVo378jRDifFg7iv8vkNw+DfNc/BAf2k6MZ1r/chmJFpZPLv5LtaVdkb+K/+QSCOmvLw79BAqszaPzbv8QxONGgEuK/i64/G/k44L+2QrO+vUrjv6uLXAEaZ8C/+qC1TO204r+yywa3raDhv+6julPld+G/ZWTjhQxh1L8/eYo0A7jgv8HEYA7fAsy/xti7d3GC1j9XRTnjh87hvzO92PPfcfE/EC8YHxq8DEDserkmSsHhv4s4NjB5j+K/4Ml0qxTq4r+tsiQbhJDgv5Y5KhCJ2tW/eA6KHIPN3b8XiO9B6AzhvwQ9XcVW5tW/R9VGfQK3qb+QsuJMEA/hvwW6uDP18OG/3uOhN5vwxT9bffhMvdTqP7Ew44Y4FsW/VXp4j9vV9z82RnS8nQrjvz1rWwgI2u4/CP1NRg2r2b/DsIOLt7zhP45do5B3jNe/6X1V5ijU8z/cc0HdCYWgP5ra1YWoMZk/t5V5SKu64b/deD59XNzVP2YowVrvXOI/h1Y7PytP0D8/ryYIgLrWv7Igv8ueWMG/xOGh1NuW0b8pc/eXukHiv7xePOh4ba4/RrptKVlLAEC3pzTILZrZv4/eNwWYKtE/nNgiKUICwr+SLKjquq/cv6R5DmASD9C/n5pb0Tt79T8PEsDhYSDgvyhY7aVjkt6/XLZyJSDv8j9QFL9ZM1rdv+CuKmhHY7G/othfx9KU278+pJLWoF3aP9pu2P4x8H4/ze+byMC64r9t+rPKVx3jv0QZOGmuGOK/kwkXf0lI4z/RLh+luZfdP0tGzg74TrY/W+w0HTs/tj+r+BlZeAOVP4VisTL/vcS/9M5Hr7rXtr/aUA0TVP/cvya9lNMk0su/sjganurO2b+4b63SYA/Vv+ez/yGmN+C/NpUqT/dF4r+aVJwH6EzoP1CbUCbDXeK/y0xULA12zD+0eMGB38Lcv+N7ikQ5DtY/Vz83YfBR0T/Ukjcsj+HYvxCnH9pHzMK/cciP83YS2z/OiXQh13fWv27ISqrUddq/hcVQcUJVzT8y09erIZXgvwiJ7QXaMti/gq9ZAKFz0L+ywLtMhzHhv7hRmnTF/5a/Pj8GUIC+3r8yzAFs+Nffvz1a+TFLR9W/9NVgEvmx0z/u77dZ5SLiv3OGIJGZk96/V/K54cej4b/wyEJbhBW4vwA0iLs8RMK/sD7+pkJl2r9UmW9YwwPevwTEUYbEvt0/8fQeu7P74b9Dnbc6Uzfiv7eq7VSHKti/7bywRvqR2r9t3ht0c8LRPwxR9CBoMtC/ZBoLbk6L3b/p/eGNtDvhv4NtWA9SGdw/o77KNZEo8D+Cv327OjHUv0g+x72uUABAERI1o6Xb0T/+uKJoGvhav7E9AKuZFeC/qoAmmlYNpb8pv+fhfvTfv14RSGOWIdu/frat20imxb+m9/ObKUvVPwnyBwYPU96/RnDHYQJ44b+7ZMAA9Avgv+VdEHRDk8a/izqYUph74L9DSblrfM/MP2FmZcRnpPQ/hGa46BlPCkColSXMilPdv19t8gpj/da/gzl+TjdA5j9w/p/cJQrJvyVaWl4x98o/N5JPZ9a18z9F14wUUs3lPx1veqPyhOG/sr9XJhGV3b/Y2w7guJ3cv5cbB4iXNNi/MFU+O17ex7+l+o0DzOmmP6Vi9tIRheK/ttpSBKN65z+G2a9Y6yXTP7vn1ClxpeA/D6pRCm0x8z88gK6XCczUv2g3tnjeit+/tpvUUdK00b8/jK4EJEvhv+HUBp5onuG/rZfBoZ1jzb8nvNs5HEjbP9gAuY2S2t6/6jWwC68L5L96ITWUSyvYP+b5XNXcS8C/fHe1VleU+D8cI5TGfCnnP3poor913aE/u8RxEBTdsz/MaBe4bK/gv76ZYwLw1eC/+DVQUyP45D+bJx+xT6C7P+BTskjCheO/BRkoFPVczb/Lfq2MuY3hv9h/uHxV/+G/T2/d9Ptb4r+uiUaRUNfFv7J0Tq9r4sO/T5r5u4i54b9Eoh6cIRDiv2HYvgwIH7o/epZyU01147+UDLI0miKRv91a1qvImde/pjwqXcfZ1b81R3K4Rlrdv8PHngNVtcY/tnX29SP6zL8EScr37cPgv8rddfRId9y//Gcjnzvi4L+xXK8/j5XUvw6IoQJdKw9AlB+UBH9XyT8XLHUSvU/WvzBk903QFty/zHNQPC8P2b8Indov2t/cv0Pc9c2pd9y/ZSn/dRIyyD86Ku0ivZ3evzVGwsZ8OM2/n7f9M0C14L+CnFjs5QbOvz8bHnrUsuQ/Zedur1he5L+zl33SEDvUv983OsOm4si/44Z+ZluoxL8zdh0iSFriv3ysiXy55d2/IF0paAMR1r+iepVb7Prav+mghbWSlec/i3AtvWG+0z9tN533ymniv0rCgjMLoOK/IDH9vmlU1L/qkYorHQbRv54JW22Pcda/Ou1XOrOO4L8F5kl0fNKVP1KdLnPZxNS/Lj1qKbhb4r/LU7rUGo/QP/a3OGDf9NA/oTsDhCx937+pkbxNZ6HOv7f9fjyrZOC/Cq5JqdRB4D89zLXxWaXfv5mqduRJc+K/zbHSMeIt0r9fuN8uVknVv3Kp6uruL6e/5/h6LOZi4b/JlbSRU9UMQIjiUWng+6a/zTVcV9d63L+V/Du57XbRv/rIn0fGdcY/3ox0bhV31r8hGB713onhP98O8LVUFeS/7cYuudqbJ0BsGRzXH1jZvwVSsz/1RuO/BLnzcCpRsr/n+hHxzoTVv8mFPb5RVfs/2vS2r/Bg4r9EH1Y++Pvdvw9KvJhyZtY/5wkmylvj1r/3jDoSkn3hv4RGjp1eHtU/4+Nh/yJC4b94di50LnSwv93vKRHTbuK/UgeZdJXJ2D+A5aK4FFrgP8IztkZyZes/oROgSfmv3r8dRLlqY96oP1zquj5+ZuG/ncP0ezO2vr8XPohtCkT6PwCGDgR6X9a/5/9a2V135T9Ja89V8fjJv6G0MGn5Q+M/+2MTqKet4b/tIV2e4+jMv20A0p+hAN+/AnrBOJJ4uT8nnvxOu3jUv+XMB/seYeG/qQrNtiHgu7/BOxXBALfUvwF5c12YE+C/7h05aWLT3r/hB0ZXuPzPP3J5J1L+29y/TomVvz6n4z/1PAAhUegNQPnwhqXJYwBACdeuXcevtr9Whd5CJnOfv+1N8wisyfI/f9aI6siSnz9SNE68GMKUP1hyjr1FucC/4knjKslgtr8ln4NKlWTfv5Cl4ic/x5G/mznCdDST3L8yxyPxXHLXv5i8LDqkO9W/F9K5CqSq+j81m4VYHkDSv1O3kuC0qdu/qDEKQbQsrj/KAA5fVN2/P5Rts/QlQOO/rYM/5ZBD4L8y9x0zhTXfv8Uxf1nOV+C/rM7lgFZK4L9nKWSQfYbfP5+NONft++G/S/YFt0GsEEDtscXMFmDMv1nwnkfW/OG/YueyZeddxL85kjI2N83YP8Iqb02zTeS/MKOE+2d90r+Lmw6PnK3cv/Vd/G0N3Nq/ZS08+qoW4b9fTja6MYXfv+PWtHLd5uK/I+PkHngC1L9VoVV6+R/hv/1VhrH2EdK/6jWwC68L5L/yndZKjeHgv/L/KrLX8KO/YRL4O2Ia4r8nd69lvMUHQG4z1IhkeuG/QqQ5NhO34b91qPwSjjj1P0Mi1f5fP+G/SByLsjwzzr9gRqTcZKbdv1HGoY8Z8de/Q2AVlg0w4b8ZI4+1UjvbPwbCv9IFi9U/qo3sXE/J4b8aib2s8RTRv953AGI5B+C/P+4Y0IJ1xL9UGa+hNKbUvwlITVBkBuC//UtQUwUZ2b8HIbNvEFPjvz9EbbFOl96/ImrQiMIKu78uIUnsoI3ZPwTZ0k7cJtc/r4YtFLQJ1b/Op665VEThvxzjqCz5NcQ/dyj2G3KT4r/tjrb3ItXAPyL48xDpHeO/cUoko8uo7D8b3bwn2kLgP4Gg6nn3F+s/fm2FtVTy3r+W+BBQ7DAIQKOwAbfH3t+/GpUdI0362L97i8wiDODlPy/OF9zBZ9q/gevSc8JM5D9NpS0WIwLVv6DZEg65K5+/vl2vmXyOtr9L56qalqlgvz4YBzzDjeG/VFUR7Msv4r/kEYqHEHXOv1eQJgd7GuC/FVWzjDNG478yHWg2O6cXQJi0mlzXXNO/V2MGz4Zl5z9vQ7bM+uDSvw6QB2ZFa96/K8cCpn5G2b+R+gT+RbvYv60LvXZK76c/v57eoUVKrD9AbWSKmR/UvwV8vyR1ReC/JPSmzHmp1r/2Hu5SWLrRvyOPVTureNG/0g2MVydP3b9bvYG3cuLNP4uUjJPcLd2/glY4bYwJ4r+VufeCUzDivxAhCV24tNe/S9Gjg6IKrL+P2i53t7XUv8rKmvYA2hFA7RayQ3o82r+C+m+lUstyP7Eu8GghMbO/KCsytKevmz+DytJ5sc7ev9Rf+R5RSeQ/9IocpgGRw792LKh6TFzWv8a9P5Z1Xe8/7KWBqW3h37/x2VtRipHcv+hxkNjG4cy/EgzNLl6Brr+847Izezjgv08+VynnqKW/zPh7gYf+vT9/8N17YmLGvzLtdpHMF5O/4wS6PmXz0b9ngQWqae3ev6jM8CO0vOC/vSa49qy/3T+TfFxgvxHNv1tSbO4U096/S+sUdZx4zz/roPp21lDJP2pih6CC+ghAEcveT+rgvj//lszMUpMAQKo+Nsr1jeK/5QIb6Gjw37+GLvOrmCLBvx6hC6oDat2/0OY4/wDh3r9rPsfJ+DgIQH4wnIjhpd+//K8D8mtg37/7To21Zy7jv8utgNxIy9m/3PLLjaDY079NPkrqk8bgv3tkvpPh3wRAqMk3l1os4r9VNeLdR2erP1bxYneN/+C/AOtaayB51r+09AfkSFfhvybllx0VYtq/FKMStVLd4b81bVHABtu7P0SXKKWNjr6/0N/Dv3xZ4r/iOdpn69uTv3gwz4Fst+K/pRq1fzzR37/16IYhpe3RvzQroJVwstA/JR6DOViJ4r/zHMl9FA7hv9Ml0ADpdd+/B3aH17Nx3r95oru5HDTev6tIcVIPnuC/woYHDxwa2L+JpKskTtTbv+awNK/ol9m/B9McZpzdwD+PJmNFDhawv453kVsXvgFApq9/5RUK2r+Q/t9SELrhv6mq6y5g8Ka/nJK4uc/13r8mEcTGrh7cv5NrTKjePOC/yPpT+GOI4b+262pOlzDivxPLYwkim9q/xbpljEFP4L9bx7w/jPLLP40l86S6y82/4r6msOSZA0A95uoP9IzAP6iDWGakZN2/ZfGXUQ5f2r8AfLxS1v/Bv6HUkS5EjtW/s88EyN3F2L9fv2EqFsnUv+1oYi5s9vY/O8vEyup24T+c0FWhllT1P1iGMgePT+C/iplguidl279S3uAOswDVv8srLov5YuG/KoorX28J4r9+pqBJOTjYv3MPlkv57gZA+gJ5n9tc1b/HhgHuCFj6P+UeI9Zo792/5iwnzeju3L/LQcRfRkHivwRqeX80SsM/ETOqZe10iT9o1S9azfngvzlsM12ulNO/+o2EwJAp37+CY2sn/nWvP0PmcHU9DdY/rCsTk+P2jL9Wd4Nha27fv8zARvuxycW/icWMY8Eh3b/UC+FUUUzqP+iXbjR1nNG/ai8Eykj0xj86aG8YcLzXv+UdLpv8ML2/z4+2wuh54r/S995ZUCHGv4YSkPd9/dW/RQPSDANZ0r8ESKMFVT7RvwOOkwwNHcy/wxEUddCKDkAWODBPM1vLvzy2GvPkr9m/O3y1sAG+4r9fVbi18QTfv6qfCQygjrm/FtRKEp513z9BoSc7KNLcv+ZEZkyC/tm/ivrjsmeP2r8vORcoWpD2P1/gLH6SO28/Ue4WsLDN4L8oP/KIJmHgv+rq94mF9du/RGKsWvZR1b8w52tnkO3evydZgUR7TdO/lvQO9ovsxr+yNaZaM9vbP7ncDLG+QJg/csK/Dw404L/VPKhVcVG4v57jF/d1Ytq/bqWpl4qnxr9TyfatGfO4PzRMu6DVTO0/NkxEhwjA5D+f5tWt9wnev3xYOILp81u/VBb/a/7ltj+92b4zj23gv24kwK/XG+C/BiUjcOXt3b+UxDAHFpDav7Js4Xt0Or4/nblLMXDp2D9q0xTA21Lhv1zeLo7GBxJA+HF3qGgT3L+uj1WXoJefP0SfgWJ65u4/bLTUmaFV3r/kk3el9l/Gv0MN33QEHMa/j63LKPbVjT+M0HfEpiriv1p+zrPzfqG/JVAh/KRm4b9dgIaLnV3dPzFGz5u2Wdm/B7r/uyI24L/O6ovLKx0DQAPhVqtdHrO/ooOl/I47lL9iOCnMFxrWv2CoN7exL9+/dbaej8yy2L9cY5AWWP/8P/oGz4vWlvg/S80HaiNc3r+s2TDrfLngv7k+DfO+WMe/chIXmWrwzj99bpBtOTrcv7MRILRVteG/JHCeFKIX37/l5FImknDPv3zCGiferNm/GrW53emy4b+4+xwajHjiv2JPuFnnB8O/gn98vTzdvT82VHizHQrivws311S4u+C/9aEy9HZy47/VF5o5PobYP4RxNaOnwOK/MLKY1PTb078t6yqCpq7Vv/yGkNUrNNy/dSwflBnp3r/Kbd4ifO7bv2UZg9+tX/g/9Nvt0kxzwr9avjUnU1XZv4ZMoC2UxgZAlHE0L5qB8j/iIuLwfrDUvxhkVXYbL+G/NVbB10C/pL8IMgWG9lXJv7rriXPo3Ms/v6/sGgG83r/nwOFQtcjUvzOxkkY4q9u/BZfD3EHlzL/Kbu4EiU3evwJmMNLZT8u/t4d1USu74r+yTAfI6nvevw1RS2lsB8I/VExdRo7i1b/W/LVSOp7iv/15R5vtQQBAvP0Eu/IN37+tMmdokMrHP8IIN6QFXOK/O2SmqQnN1r+h1JZYbKXav/f068Eo6t6/cmORfbH9279K2F+QhcPhv+8UyUe3M7C/SW8fhf3b7T/2zZM/2mTbv5htdqdKANa/7/27UGUi4b/D9UU3I1baPzfSBsAumt6/yeDQZWtsmj9++yO8YLrBv7oK73sVgNG/i754p5N0wz8KczyK7LPFP86y7Gc/u96/x4/F76ts1b+eux8qNiLhP9fqHY8d5di/XgCL37yR3b9L0JYGl5UDQEj5d9Q2khBAiWwfBVky0r+zy5tJuhPKv34lUR67Nt+/Z/KVNLmFy78oGfaaOpfivxIYfq1qneC/eMF3Ck6s1b+Z+GH3NhXJP/I/DN+mR+C/l+l6q65m4b9x+N+4k7vhvyW3wskudNy/yVdHUQKysT9eWDd2WUjiv1u9Cp6lVcU/E1GRrzsC3L9zsoxZrdXbP2tZ4nWyfOA/dvjp8+XA0r9vus+Zh+nSvx18XNIBFta/ZxqrZA0l4r+tgz/lkEPgv8lmzhZh5N+/jsaDxLpf4r8MqhOO7xzaP6yYfk+jfeC/1KjNANy/2b8ZGvIfoRTcPzqIoGUZ6Mi/S0wckazDB0CdmIxNxJv3P596FAfNaOG/Yb2oCman8D+hk9+SalLVv8kKdwc53fE/Yj8zG0TN8j/E/86wHWvZvy/Bqxq7+vo/oa0+1h0g179FyrFO9vvTv1OHs0Uth7W/AX08zP4C4b/ILJ52Ryjfv+IunS31u8m/BVKzP/VG47+zP6HD0mXev+eW1Ws1yte/BRS6MHWb4b+yaR+Y99nev8JwPJgFBuG/zmIzrxQZ4L+vTX3twlDjPxAkwukRRda/tnvTfMqn4b8HgdJB2uDev9OxfHzx9eC/7tmx7XygxL9WvIIotvXSvx01GEysAcI/On1Q0cphw78HoaOeQM/dv70wB6S1h+G/77W8W5Wc179GTxRcpaDTPx4UXAgqg9y/ogSMcGxR3b/e0v9aYgHav4GZP29JOd2/MxsMQ7tQ4L9cRLw7/hDhvxFDU+zJteG/UbXkC0Bh2r98IPd4KFbiv+tkISxwY8w/HCJWq1lU0b/1jgFoGuffv4oKumMiH+Q/GNFI81RqCUA5AXoGfXHbv4sgLFOptdu/W3YGuuGw3r/hsAFlqDPKvxq/Ml/wyLY/LUn17YxI1r+C+hmwjTjOPxoUyc2m4dq/Vj0F0HCt3T+Zeq8FYD3TPxWWTNn1stg/80G6sxuQ4b9pofpVr+Svv5d+Th040PA/vBwTKgBEwz8SzydOYHPWv2m4AY2h4wBARkN58PdM1b/tuOwBvLnev2XDwv0ncdy/JTfSmv734b+TOZz/LVDZv4+LD0zc1LI/B3qkioOe4L8WNmfTHXLYP/Ki9iMudeK/JkrpruOS378H1bVpEKjiv+tAw/lPzn+/yC+38+P1z7/XKbBm3WLUv1hWKwkrlNW/Fy2KHvLF3b81P+DaeXvbv1mjIcitTsK/kmNzQuQY4L8B0ecCfvPuPxJh1fzz7YK/FM4ufN864b+TT7u6raHRv5on8OQljde/WKeqYg1Y8z8HR513mA3Zv0u8niqzCeK/Vsg9ZSwByL+tDTb6EJriv+PPMncdZ+O/tHjBgd/C3L+grGoSkYCMP4E0Cq4VhaE/3QRpe+Wo4r/gEIykZU7dv2MMFDMKhOG/ZQCsKpu9278dQXxAHjjFvxu9kkPk1uG/lEPAXr0Qwb+2lCLecBbhv1DGbO1Pu+G/ULb07UzA3L/Od6e78IjWvyh89whMFOs/cM2fagrmmT+S/za9Sl7iv1NKxoGlwOG/p8jORrx42b9hX9wUgcXGv4MIx14JY9u/BAgGdrB42L/y6nl4a/18P+TrOmUdZuG/85lHqBg/278yMEutzYrgvy96U1YrqOG/lGyjEhnh4L+VPb7cJZTgv69a0fJ4LuK/9Ly6aE5uwr+y6RhsqKUEQF7VbhgwNN6/uwsEiEr22L8MqmF/0CHbv1zDnIghLtm/LC794Zmo2r+bqVlGARzdv/Ojgt8Wt6k/P4njkWar2r/Dm+glQI+UP45zmVUHqMq/ocEBEDh2AkD9FKSde7fgv4tEave8RvA/Pmw2L03a4T8nk4Fs8+riv5PJJP8pf7+/mtdXqdVo6T/2GHw5pZnUv9lE7btyn9A/g+f/GiXwob+aubhHCOCmv53nLnum+RVAsEHS2jyWur/FYaiA0fn+P80+Ulsa9uG/7pGmZdFD478oDGVhp6LvP6UtdnR9uMa/OCNm/dQG2r9gUuPV5Q3Fv1kpvwXjWeC/ABBlCT3zyr9kcrcE60Hiv4UHdzYQURhAw+lh677r5j/mJKfVfx/jv0Zhs4h1GeC/EDB5qHH/zz+fgYlGUfDdvyFXbm6Z2eM/RzlDkgZU3L8qgN7w8enbv2cMlYcpFtu/r8bPzYDm0r8XsFJ8G9rhv1m5GDlPMN8/GSAx1hWo4L99TTJYCgnzP//BfrZep7A/ZXcA7Xk00j/HxTYklM+vP71bU+PjA9K/+muTnxB927/epIN1DWjiv/+fbUctLdi/fPc81Lrk4L9ugCj5nsniv9JBniL3J+K/YcQqBiYn8D+KlZx16YzfvwYPFe8EQ/o/9DEduSfGwD+6q4tH7xPXv5BgYUf5M9u/bmaCLb624r/YH3oI7GnbvzAzvbH51eC/7vy5pDAL+T/Ye5vJhdLfv2lO5RVrO9q/9RDqW9i60r/XQXjlpw7ivwI7Btsco5W/WfcgQ5Z84b8UvGEW+Uvhv3xRbkncrdG/oHrHta04gj8uGWd69jj0PxCelEP43dS/RXtrU7hk4T+KYdnEWtrWv8hu5LA4H9S/nnLQM9+3yb+A5PLGSjjgv8jPNzHXKuK/xpqHc59o3r+RoZzJBePSv/vm/sE26NO/ciSDYvzb0r/i4JaMZaLav0k1aCQ+LMq/em79MraY2r9aTPWqOZvcv80ovIbNF+G/zYnLadtMyD/P2hKNwMl4v5zIH+uCwt6/UIHx4g+Q4L8eu+6pwZPRv3t/lfDR6ANAu333D7AJvr9UT+ZaRlTjv2TAFi0K2eC/r41Yx2+0sr/2nEqoPIPfPyngHGVbf+K/m4gm6bEQv780j7MLHA7gvwxWnfk5YuK/uDLN/BCTtj/2+3p5JGLhv91T6WbJoRBA6Cug0Q4D0r84qIjrCSbev0n/pC9D27M/gnkSoLZet78nwBupUZvrP53TalWpMd+/eCqN4Fq11r8HSnt8y4KxP3tAscUCHtS/Q9AKGZJN5j9LbLYPEtC0vysrbWQud+o/msZ+0kly4L9p6IOij6vSv+X3I8KrvuC/zJaqrU1v5b+D5CyTPIXbvwSNKq6QSBRAI7Z7H8tfzz/j2q1Z5fTUvwS782N7V9C/msVcCtkD1r+YeMY7mYbbv5NcJuntzta/qgqE72jyz781ua0KOP3Uv3QEvFnmG96/mCP5VadQzL+svGYlT4nKv8otNz+H+ti/hPK5cO/30b81AbIpMJrjv7g5ppHwf8e/KxMF1qYI3791lmSa5B63P795helN796/ZxLS/hIB4r9Lt3GV1n3dv278SFC1ltk/sg8em3cv378nk4Fs8+riv4ytZNu1D9S/RI/6ywB94b8ZX9rWX3XiP/+MuQ4oPuQ/IcNqChbpxj8/VjoXNYbevylLsLA52+w/Rm6Vt4Sq1L9Sm4rytKrdv6BEJNbo/9C/jtrKTMuHhb9h0zxVtD3Ivy3Me+2wLuG/FHwdDuQD6D8faD8wYErgv/ryJGyggOC/SWS4xyQG4r9KPFWN8TjhvwQi9EBQqgJAm9v3CE7527/HwYzB5qjiPyZ1BXZw8N6/fT6WKxF31L/gy6LXe2a0P+3bPB+K6+C/FqXz7AWz2z+9xDhBT+7hvxQXSuaX9sS/YP9o/k36yb+GLB10R0HrP/At+PCSE+K/fPdaTfrKwL8j5QkNutfdv5RLbo88Vt6/NbDDgNIvvr/4MjkVEtPhv1wviwfEHvs/CW+OwiZl1r/azZj5kyjav10/z8WbCtg/e5071zo64b8s6DxTg+jgv5IWEhZu0du/5W0aNAEZ/D8pJqhRqAnmvx7rs0kgIeO/B5EtxcpTvb88Mx3z8WXfv6/qOSGspeG/WyMUEL0SgL/cIMbcd5W9vzhNkv6QXPk/Qb0vKSjR2r9JrOxevsHhvyAIiqIpKNG/sUqyYQeI47+0fycq7dvAv2KNIQCDV+G/VLEJnnc5yL9tPh/ziunhv5VXvS+WJOA/4Dbz/0Sl4j9y8rQnDuDiv8+FsNyYn9q/2dIjWSZy3D8GYOzYPnzYv5t4TyLM+dK/PXz8OC8D4b9+8VjLYk7gv/Q9Jud+1ta/Vubu/Xgxwr/25QD4ierrP5vnUlWBx96/WTKRPV621b9s2hLmkk3Vv8tnwE0yC+C/53s2ztN+4r/bdQsFl3ngv53TTgL3ysO/D6v/cTgL2r8RHlX6hjvev+wPm7WtSeI/tPA+deJn4L+ECAyoq//bP+a8F0+Imfk/JrE5h/EDyb91cIq8TLXdv+xKfYYc0OC/WOexmrZRvT+Zcj35WxbIv9Mu9nzND9a/CKTHmI3s4z8AWpmTJ7XYP+S9+qND68u/cvlmm29+07+1jCBpiJPCv5/BKwAezdu/4tDUSw1q8j93q7/zN/f9P6upJMPw5tC/kxGZtT3Ayr+3nvSCleHwPzz43HDLSty/10o/h3TyuL/cRQLIpxXYP/flKQd4Sco/HNuSxOnXmL+ijLkJ177MP91UpLGP/tU/Q6w7q/s50D/tyW+5o/zgvyGDcQhFN9e/I9zHPSPXy78SoUwkjQXwv2Bd03nxVti/nwEbrp5QwT8HZ04DNkTBP1C13+EXStW/H+6heEPn178MNewyaDPSvzpq78zMt86/eYmnTcgz1T+OeQtvusjHvyYJRM9FT+K/dLT15H+B3L8iaxtgIdjDv4+QVl/5392/byfEW3Nrsb8CU3dvrEnivxyh0d0RHeK/slN0JB/08D+tlKgkAZbcvxB18a4Wk+C/vjjgCbCr4b881ratgWjiv89s0RIO1ec/dM/oxkoK0789gCzzF+saQNHxg2knUN+/0NjZvk7RoD+tUkFtNSHHv9mo0NJ6Beg/LuFUFPjyzr9w7U3GPwfjvwcAy+Dnbsg/TsVjjfREy79/e5ZoEOrgv6SaVkPv+PE/d8JSSpHV4b/wp72OPbTdvz4/BlCAvt6/6v/f9gb69T9cMHvNlCbbv2CWalHLQN+/tgnIonoj278WzAH8iYTZvz4+9m1zX9y/vzQK3w3E3b/1o5QWll7hv+pRuPmuCuK/zfSpu/0+3L+Ht4NCGQvZv7Wdv3MiPeC/wrnHmdll4b/5SBZyjPbgv5dGhQLO7YU/FpPzI+E247+SKe9dYR/ev/5AChMHwd2/w86Bmxzb+z9SQu0bq5zhvyNy2fxEjLM/rf/GlZ0NzL8RStXniTXhvz5vzhKZKa6/+9UMnJMi4L8fdxuVHuipP4uSNy35OeK/LsxuMXU23r9jf1KrzI3Yv9P9eYLxoOG/PnVtgTOL3r8T6Yu7O1jdv60C64/qKuK/U5l8FP/74L9s2XkdU3vbv8mPfA/1VeA/9bnG5qJvvb+URVC68nLivzDneCPM5eG/Qzb3yiki3L9SVr8eZHoBQAFasuI+hOO/RPu7cise3r86TofuiXvev/oIu0DtXuG/EB9A4aLLxD/7vwtaU7fHv/ekJU3CT92/IJwSiMdjwz9SG8o7Jk3Uv1G+Cogk+9C/LtvrH2xQwD9obtFk5Wn2P2zrRoM5atu/fXN2euiA4r8Ph2Wmay3av57E2jgnL9C//GL2CV9W3L/uI6ZY7dzWv2n9hdjEzt6/nXVqmzT59D8r+sIwPJLiv4ywwrryou4/xJjZniog3b8lxcbArnPbvwzziaXE1cG/QfkoRVd2vr+A27P7Ts/eP+y/UIQ8U+4/teq1Mj+yqT8OiTdgpr3kP2Y17FC328K/lxCHe6eP4b8O39SeEQyiP2DJbDqOuuG/ovYLNvet0L9eUgzl02zjv+3UX12vReQ/KpKrVtjY27/n2IDAkRXEv7IgS7ZsY+k/NlNdX4BjFEB3Z58cvGDkP25w8leh/Na/Uka2ihGM4r+JXxBJRfHDPzoWAPm88Nm/SPxCPAm4xr/qWo9bUn7cv7jeIJ0xge0/KZgxRPnTmz9PSRF/sbDVvwOu/04It9O/uEs0AVfFoz/xFPAXGurgvyJUkfx5Ady/Mdrn6Tjx7j8+BCa+nODNv3Tmjn2kR9a/2FADvwPR0r9I6H4h92ngv8vOYRu8GNu//u2XzYKO4L8JntPoXO/Iv209u8wUTd6/P/ShEsDl178wOZVDFRgLQPrFlJyQJ9u/LMtU+xep0b9pk8AQ7qPNv5QpfW68qdq/AoHYF+BIlL9ObZL7Zr/qPzOMA0D/Dru/NTJwghE30b9G2DHAKsh9v1himDvCceC/iI1bCuelwL8gdThv+wHiv7mGWLPiY92/IfSq+XRisj9zLr7qFezQv6tFuMW1DeK/dkEubYzb1L8h/gVTVyrXP9TCJ8lL3qY/Y2vugP185L/CAhCqlPq3v8IgIt81Lt6/q4i/x3I93b//zdkCknWzP3WwjGZcz82/VKS6wuly3r8D6T/RLtLWv2TadXC9puK/ZTW1iGAm2D9y8rQnDuDiv8WwEAFU0GC/nsW6opJv4b/hkltJDFPlP5XkeSknXJK/1v361hAz27/uO0XIySnGv1VlzHj9CLy/m+dSVYHH3r88cIrcbw7Rvy46sZxey+O/Et2GC/uYwr+nXiCob53ev/tG+9eaT+G/Z0rJi/sv0z889reCiXXSv0/6EXa6H6q/KxcgY+m1zD//EAtWm06hP6rj0Kb/Rt+/K4ZVNM0h3r9i5GlwqXHiv9DEKWVBTus/yhCEieXwz7+uARBQpwHWv0+q5jcEyZC/PoTVnikn4b/MD20lJ6nhvzZUeLMdCuK/7wzl+vL+wT/puw0qapHWv2N/ZJEwneC/sttfFBGU27/xjuZisHadv8TjJrNgqc2/BOJL5snc079Louuilv7evyFnewCpR+G/lAcDZwmK379JvXJoCDgCQN7pLvjusdS/Yi5Ktir2zj8/fGQ+N8bvP7XTW0efP9a/8lIeyWPL2L8VqxuT7h/TvzO875bCKeS/jzj54p1P1b9Xhhv3AinTvymgqiMwwdW/3abTschE2L+08koUDW7fPy6wuofedOG/EGde+3ag8T/qoJ4EqmTSvyNGjQX6Ad2/J5OBbPPq4r/OkhsL2czfv63/oZqsPtA/ZDkjMazvyz+N+b1T4qbLP/WkAqpaUug/VK3gPs4M1b+IEYppwczdv1pRsqj6gsS/XoUPSDM2/T9/crJKMX7jv2Y9lVcOCtu/Ss+mwB9f0L+UJTcpmtbxP1DgVxvRk8s/HyJKgjH5zj+WlrQhwfbivxxl1uxwkLm/x+HbHVC0lz93V7JCd4HEvwRzH70k2cK/9x8IibVH3r+2Czyr/R7hv2tRsIgo2+C/ezE3zV5eEECCKrh/iQ/fv+MB4UcIcANAwbvVd48U3r9OVHeQeMC3v+WK7A6ncdi/c7qjn0l58z+2Q4fKgEMEQF1RReN9JMa/D0zwgXvc4L/vRfDn/t3gv+x6DuVPTvo/IAgG5h7M3r/YvvYPrD/cv1y784HK/8C/HDlY1N99yz/PtaX0mEvdv03jJiWjrda/n8X0boS83L9jpqDZyuTRvyF1bRHFN9i/8f31HFdv3L/uq3ypU3XUv5Yl+Uj4Vto/lDV+sr42IkDF8LrXkAzYv7cYZWI69dO/Kri5Kiiy4b9jEb9KZ1zBvzu0fgTUduC/1YFoqVMZyr8yJQBDpxvgvwBMDJ12Gek/cl8o/41Lzb+I8TzJZTrRvx6Utc9B6py/xJj0RcvAvr+KRIxShEbgvwbmHqmA+t6/xZeyk5NxxL/ppoc3KhLYv3bYeIfCD8a/ok95lF+d278GZSUa9QfOv5IdlBEuUdu/1gWNtN0R3b8yPubAWEXxP7J6jhHyO+I/XMwpqW9k8D9DWpGW9v/bv13JpQlTqbM/LDP5zlbnXr8zdh0iSFriv/z00kAVyeG/rlpd3UY5yj97M8Lat5Tcv4/2xI4QaOi/XYpGfIYy8T9evjPPyYPiP/xynoEDcNK/9oVxjqS447+jGXkHFm38P4+JuBCH+cK/jcLqzfWO0r9cUW7ya4PkvwC5KHdlT/0/U2v1yvc7zb/1Syre/tXVv918cIREcbm/2SLcCNTEiT/fqZFoSuzbv7gTCFW8St6/Xfy8Ri6L17/8X8E5ECLQv04mh5XxMdi/QdM3nP6Mrz8kJNwD9NrUP4tGOif5juG/djVvsv9+tD8UBihIUxLQv427OFqU8OG/1wSC/PjJ378j2WDPpQTaP19r6u/jYYq/47wB68Db379o+KddKWnWv++8CbWL5uC//KMPSqIu/T/MOSXGPWrdv6EOws5dSta/I7G280bJ4T/qJsyqw8vTvzLudkmD4NW/KDYBrwv9379ijMqVSLPgv8OYRAwereQ/2B05oCH8e7+cqwcbdmTev1nKkHOGI9y/fdtSX/rLwr/fAT7/5qLgv7+AB+UNb96/r548G6z64L/YfUR00gPcv4Gv0BluANm/WbpOP61/6D8zLXDFrPrxP3wYZZtbd+C/VdeN3xyUuT+IdoELKFcnQHM++bU70OG/cg69FQ7f4L/M1fX836fiv+4g7cuTTNi/jtJOqAnS0T+nyNNw5I/evy4f7jI1Yd6/u0E2FzSN4r+52nB94mDXv6GQiyB8Fs6/lMibWkXkmj/8aDOBSEHjvwmV9jMxQ76/FWo5f3PF4b+Hws6sP3rZvxCKZgDypgNABsOPlZhk3L+plonyAPDgv8ygFa4IntS/O2EtPCrC0z9Odrp+uZKoPzmsemledO0/DKIvkkaAy79Upl5DDo3Vv5YmHVD0beK/9gloYBg707/J7jalHcC1P5aRh4zkat6/icnZjjJt0L85n+YrMOjZvyhXAjwwGLY/KwePhAnKmb9/XnHcx5Pdv9ax/dAQiNq/Qf/afYQcx7+6TLH5+xrUvyvVC8cmXd2/e5agjGPr1j+ZK56s69vGPzs4egBwENW/61SmKNLQ1r8olm+bFrHXv/g1nl0CJt+/8UAcwbOm4r+xicpGqFpxv1vXlm5d0+C/vDegyP9W5z/3LJ6C8UyaP5EbDGGks60/Yfa4bA09wD+tmyogwRXcv2gsaw64G9+/CpkBTBAA9D8dhQO8A2vfv4zX+b9mquG/y2kVtBX/2r94NvoS8pLhv/lweay/w+G/BW9A0UVg1T8nN0dcQrPTP/zePGzI6uC/fPERQzUJ4r8h5L9euyvgv8XC92kOLuK/zPxIVQYW4b+Jkbez0DbDvwCCRZUTcNW/4ro87cFDyL9yayNbftzdv0mMGwJY0+K/WKCEjgYl37/5t+ftFP3NP+IGpWC1e+C/wAjwG9gW5L+bdAL3Wq7fv7RnBP4FM9+/v14RmmWr1b/dy4KJypjfv0mhofSXUuG/fQarx+pdsj/m6D9hwH7Qv8eh9M/T4PA/+gOOqxDT3L9JTKnALBXWvwtBR3+bAdW/XWXkAp+j4L9oYjBotgDkvzvq5TWHQ+C/C8EU8mVX4b+xUWTVaCbUv0FUH31D396/9fnMpK8Z4L89kDDrXPXjv47ruVxip8w/ZAs3tDuy1z9AEiMza/fgv6DoZQktbO8/rdmn60sd0L/IjoWV/e7hv4JPtnHMieK/cX9C3z/HiT/0zogcfVObv46PT9QPUbw/nbA0sFLw4r9400RwNJvVv0t3U5gU/dG/iJp9WHC84L964VK7BMnev1rSAoCKSsc/BIahPv0A2L8jNtS3U9HgP+ECiK3lTt6/fs1quywz379Mom9foVrRv1o0CnAJyeC/VIt4HX/84b+SAYwjLlLdv5vqC+LaV92/vUqbiTKL2b/86bdOkHjSv3JEiPkhVYm/UFxT4Q9Tz78FwnqJY+7Uv8KALF3nU7g/htTEIRTI5z8xKYIp4MXiv4KWhuLvqN6/wSpdZ08+3L/0pPJgS7uePzyL/itYUtq/i22998Ab0b9inDXZD7bivyLsiwh6V92/Qww/KhNh4L+S12gVJATKvw51+DDIe8y/iHqolvGlvz/qSjb+7oriv8/wObsopOG/84ozz4vg2b/IJXC/8OXgv2cE7IDS58K/vMTlQeVUDUDkcq/A73cTQEzzTwplgt+/2z+k0+Os4L8rOmXqCG/gv1rfFmbGotq/891D5adyqr/qC6/YEuwDQATaGfk/O8S/JnAn+9SK1r/rY7oBXy/Yv9ZWldWAnI4/ESoEiyNH4r8FAYmkGBDevw1GN+CaduW/ZT5v64zK8z+/hBBz7uPaP4yg0LaFrMm/Xj10DDDe3L8UHfhuOdX/P8MnLcEoIdW/1tA1ZTek378zAzCfAe3sP+8hAtjIwt+/1Biy+49+CUB/wx00serPv6knN6UK/Ni/wg0pRJB5wL83mTpGi3rhv02p9oSJ8dW/HuiPT9MDzb9io7fUzzXiv9KP2+9Ov/A/r/Gd9EfXoL9E/K8BhhbFv53G+vxA7dS/453JVpq/2r9vYa4Gc3/kv+4FTi4yAeO/UYgfmmbS3r/5K/6hf5jgv0rbZie+gcq/vekXkfJg2r/nrH0m5rfgv7mMysyVhNq/i/o8Ifnj4L8BfxRcJhP0P5RLbo88Vt6/9aOUFpZe4b+KTFj8QnLdv6Urf79RWeC/ATJPqAu34r/+nzilY/fhv/9SWzX4C9C/4NoxL+554L+b/oHyDXjZv2m6s3jR1Nm/BUQN+izc6D9vs1E1KUH+P6Yim6Fy7eK/1wsRtPRB4r+vGO3OV/Szv/CbXRjiztW/TipQBFgh2b8I4DV2AE3Zv7NK+ek0zeG/Dt4YhIXU4j/H1WLCXAbhvyVQIfykZuG/kh4osEUM0L/C8/c58yHiv6z42lVKItC/+Kjuuyg/3r9g7wRvrVb2P80HhwPxjN6/ZUVnVFVu2D9Fsnf5hAPcv/2P5IomROY/6D09v1PT4L+ehWgyMGm7v9PremXe6sI/L8BKrZgdtr//Bz6ZY6Hgv0YimLGE/9O/74fnB6+u2b9MGFV+WeXOv4Vpo8Xa4eC/Hc+mMfgK4L8vBziazsTYvyrc9nCokgNAsV8Wrgxotr8bL8HZmYHWv1kuUCJk+vE/unGt+uSkCkCq0V4HNH7Mv0kuUZZxOeK/oll/eq93479lW0HGMiPQv9pOuKxwC+K/q4ZqYY9J4r/9qArd3lPXvwm1HtmbBt+/ZmHombWhdr9sarzfBLPzPz8kd1n32cM/hyakP6j8CECzAriWXxnfv28tLnn56bc/00QBE16p6D9a+Het0CDiv1AyO1C2VOG/HUQxT2F3yD9VwbY/RGrDvxdnur4Lgt6/H7wsxeRo5z8wPCD+0Jmmv9DkiiqMmN2/L+OvtGX24L+AZZyPgz67v3VgZgGz99m/Yxyv7nKl1L8W9HYcIWHiv22asEtA9tI/ezCRoco3+z/6fcepYAj8P+ZR06ukQRdAfvkfS/li2L/nW5XpDq/Uv77KDTbiuug/LphioC9t4D8kaOc75GnBP0jwyMrRmvA/cRChA942BEBoIyk/IRvNv/AbHs9wLN+/76uG/aOj3r8QP6bQFS3sP8ToKPrDLda/HXFosN97xz+KW3mRC8nhv7UAnfxtct+/IdJHt9rJ+D/nXKXLGw7Xv6/U08QA5tG/PAvdyateUT/oVowg+kHgvw9oiNhfN8K/EAPBQJsEBUAarmday1HTv1iiKA8rP9a/F5R6Br351L+9uMnPLGjZP4dekiemv9u/U29wL3/947/zzQUvf9rev2poFOF86uq/AgE2iQ/01z8M5HtEqISevy7xyBU+bgVADIZWO/CnA0BxQyARjkzPv1kQqXMB2rI/pnKRjnqm1b98z2WEVSLIP6+ePBus+uC/32aKZo284L+0E7APixfTP05TUeDXP6k/EYe+FP2B4L+nzKmbhnfivwfMv2XNLN2//g7wDMU/0b8s5B+gs7vev2kQkJS+o7G/XZOncCGC1r8OVevI5JfkP3I+si0Oi+O/FcalX0/tuL+j+c2D2iz/P/tnyjCqjdq/M92+79Fn3b889reCiXXSvzv7RwxE1tk/gxIUzYaC4b+/Wkgr/7vUv2TsEB93zsM/ZQ/AAygc3b/4UgpyeMHgv8uE2B0/aeC/mvVTU7vFEEDNH8aCipzbv9upA1jvYd+/htGUlOvT2T8+pbbdnHTiv22E2ld5kta/8Qq1jwDa4r8YpUDhuVmzP08R4dHo+sI/AANqchhq4r+lZFj1MHHgv92dTJmPp7W/pHH4xTrU279ckx6K7g7fv0/urYFI6ba/4yNX7fZjzr+vKoiWD0Xev2PZU6hMONi/ELZK3F562r8ARwUT7VTSvwTpX6L3ib2/s4QczhKR379TlQGwdzrKv/2WtJDF8d+/bnS7xgfs179HwRnjbOzZv7kh51BLe8E/b0lUYJKgAkDLGl8hvMPbv2UalANmZqU/AZB879H87D8xvehoQ2LZv6Sv8dS6f92/l7fKAv552r/YiSN9EC7Rv4FKidzv/d2/kv82vUpe4r8azgg/kCHhv9Iz1Pdodd6/2R58DEMa4b92riyDyIu9v4+sXk353tu/rwb7hn5f4b/IEkzvz1Lgv74lHxVvxOo/7iOmWO3c1r/Ju5CjVt8ZQDZxY/YluMg/eAhTST2zpr+zPrTac04QQObTifbe4OC/CGFVKd0v4b9crhvACcbfv9l1xHxpNOK/2frUhDpE3r94YQkeQ/jdv9lG30Z25+G/RLOH25Fi3r/gU7JIwoXjvwD+PN073t2/CmvKfeiM2r+O8Z+LR73hv4X+GedK3dm/9jvWqsP54L/2Yll7i4bQv8cK0TqNw+Q/S1tLqhT+078RsyClXxgFQPP0k3z3ttM/AZG+iAsjzr/qNbALrwvkv49XNlDR6q8/cheUd7FS27/YW04pKkDTv7a08zrXBOC/ggjHXglj27/zF+NwZcfav6PpLjEQNOG/AaIkc8VFuj8Pn5/73CXSv/YqTsmzn9m/QyMsaZrj4b9qG0lXdQ7hv4wmsFLA5eC/JQ37V0gv27+6/iluZjCkv5PEkPdYzcy/9AvaQg63xD/T3IuHQlvdv/Yz2+kB1vA/tCRbrQCY6D9jjVaiTI3Xv5OdOHUKSMm/zyy/wSVU3b8jL3mM9geyP6IgRlSNIuE/QJhQ2YRe4r+imSE0fFThv8AtEcqAt9W/Vn3wUPZ317+S2Sjp+oTcvyTTIFQhgsK/ZcN080hD4j+SoWxRZMThv/fw0omx9QJA5g3qDpq70r/7+v3RmqTgv75fIXxyCti/buNrxbV05D9V8+iKXN+cv3LwQB+L5Ny/sUtZYB+i9z8ZZazgVdPhvwE5BkaVbNi/yltsg7Alyb+J3z/r3Szgv2cCsUcU284/ADJm0ZUG6T+zMOQyStzOPysEUe1c58+/y/TlXBQW9j9wcPeByRPcv4UNLsDXO9u/tKsTtAwTt78nvuhSwge1v7uku6tpJ6a/YaJgapWR4b9bdLFT/rzjv67JP5MhidU/WRG1KBOA2b9VlrbLaXPfv1V0xarpxtu/gzp3B7pP4r+71ZxWlynZv8wDy1DGleC/aNJ2zXNp4r9Cf0gADDXhvzLyhAGMbNc/qC0g2Iqp3r9ZYXudeRrbv484+eKdT9W/N/LXHJWI3b9sDYzoIlTgv3ABcJIJ6t2/9WeOPivByj8Zd1A3TmPDv1ooW99svdy/SbBG4hrTzz/uZ3glikX2P6Eu3kpTVf4/ew9/V++Lzj9Nynh/y8e+P5SNhFGMLuK/eN2fyRZjur9c6ro+fmbhv/K8TNigA70/xyJwqmkQ5L8vWkAxpsqgP7ZitJPFV9O/7s6C1giY379fAjSKCcPZv/4yqvTNdPM/oNU5JOENrz95AQmjkvOUv6SIIjmfbdG/X4lfE85QzL+os6HCDU7hv1JpQHTRCuC/Mx8KVOt1178lvO04foDMPxAoSj9yqgpApPGcKRfLyb8BYOqyF0Knv+h0tNIT/+K/W/H1sRCh4r8q0KRlWITdv4arrMvuweG/eGQim9/Fzr9iD7av1+3Sv0LLRQYM4OG/8+kNHX/Z3L/Gqh3s4UnDv0wW0J/U0tK/skR16h2d3L8YU3/0RWiov7ruthV0YuK/u5x8mIrM2r9vxyOfPcfBv5GbhXZt6MK/40bTBFBjxj8nUmRjJiLLv4E4vHYJD96/wc9GXpod1b9LY5CTLTa+v+7MwgIyF82/ASYHvNhH/z8lrffYMAjrP3o3mAVafOC/9lpD4bNL3L8hMQLpkWvZvyvRv+j1x1O/oPqChoHftL9/+D2iAnrpP6vRV4WCleC/HlBVb8zH+z+VV1LCopfYv7GJJRSqzp4/inqNQGydzb9ByTN4ymn3P4wyZCaDMeM/swK4ll8Z37+W2xsHEmreP5+F/JWt5qQ/p1rb9RMK0L9Y11Zo4XbOv0UtWjV4+9y/tlC3tT1K4r+xkYLSKqffv+fGz61djd+/Tecvs4Mi0z8HmBCJrFSXP3bZUYh6kOQ/2V2Yj0X6tj+nxEX3zw7UP6ijZLhcwdI/saUz2K810j/Q+2LKhxPyP7/7yU84r8g/m17AZncN4L9AaIRs7mmcvyobe2DBgMW/IGjUwmy9yL9tsg+cor3Gv+XU3PsAXb8/ULwxZTar478TdBZv02nUv/4bFsvwohBAIMlc5dT+zL//+Tmi46HhvzR2ZKp1n+C/R39SO1460r+x7sAYDz7Qv+got8wTVOK/pmYGyqW54b9fbfIKY/3Wv+X+UXkCAd+/XEiFqmQA4r+9uImwsuLdv4HQtoIJZd+/z/49sqij4L+Wcqq+2HTGv4Y0k/5hueG/yK6vefNa4D/FzsgjSiD6P83Xkevw4Nu/uZA88/eeub+L7o2QXNjcv71fSbgRBBFAWlYwM1Or2r+DrKWdb/rWv+uQ32N7+8W/HIAgF0Du0b+B9kbt1hrDP/7g6kA9M+K/EP+uo7ZisT8IMnDz6eLgv0EDuxV1W96/YEM/lHRT4L88FgUj5Qffvz17jND4J6W/enQGtOcTtT8J/othMIDvP/EqDa0MvMQ/Z3qDrqlt378hSry3K2fgP3bm7BVes+G/jiSVuM4+4b9bDVHUF+XPv6AP5JbOuOC/RzpTdBOz3r8FmBenUrrxP/fKMyESKeO/i9IJDkydoT/Fb2usEgvfv63BaGyyDdO//upVQfhh0b/TW4t2BYDgv+/RZHJQh+w/hNK4m+fq4b9WaHxEGgjhv6oAKZaGKts/DlIOV8W/3L/4vtjU3lrgv1nCPrUzytU/hAAVsHPMwj8P+XCAu7Hgv/XETEYbTcS/2tBMXMWh078le+l+yIbfv3vXI0NiSPA/xwoKT/69Wr+QwvQhRr3cv2AGVmcBB+G/2etyuszg2z/uxv20d7Hgv6WpeDlWduQ/+RDdhp6Zxr+S/za9Sl7ivz6CnIv4mdE/8j2qvIdb4r+CKdGsag/rP9XT7vGQNN6/67oHnK1g3r9OTEEl2M3cv32vQgkTdty/273ULj2oyL92ZQhY0z7QP+VYU3aCq96/c6vzTWEv7z+E5kr/zHHpP1X9q91cvtu/b9Pugow54b9KxpIqn9ThvzADbyto1de/U8to4SoHyr+sQjkFTsrev86v+GIvdfE/s90N6YXc3L+ChW3s6Sy6vwodJRKbVApAw0SlgXi8x7/FdvpjDoPhvzwfNfMZ0N+/uYgGiFes3r8ntacvPc3cvyWMs77dDuC/EvTWJWLH3b9uRaHuSmnhv10HGpe4CeC/Mq/pm+t5379BkL77t3/gvzFXjB+Q6da/9g4ZhsxfqL/Dmk2nrRvjv6cB7wTJ1de/XEvq8lRT379UXIYrULfev0z17mBhhdG/XK24wvNK1z9pdQPMx3Piv5mwv+4ONcG/U4ZYRN5o4L++pK5sFkXhv+NeEoTpcsM/C93qKDmPwD8nEMbKBc/hv6BkVSOSK8K/per5QELvnD9ayNCfr6LJv7uU6rq97di/Ck2iy87P17/9CepHS2rNP7DYoV2P7Ne/hBNrN8Em4r/LojVyIlzZv7HB+6Y1r9S/rZJTvh2i4b+nFzO7Ofa7v5DDWEi8WeC/+Y62lp/DCkBvew1KJk3mv8sodf6f0uK/gBg+L7Hdij/4e60GWgzVv2WAp9Z7ids/Wv9SMCAe4T/48scY5rgBQC4LbHYoQeE/MX8mIhpssr+I0ntODKvUv3Fk/CXZgsu/fJ95FJTexb/m/7WfeJ3iv/3J6xtSodi/Q/KLovZV3b8usLqH3nThv4OJG7Sve9m/xBeFSYQH37/z/d+f3uXPP8dsg9MY1wJAFyol1gFz4L+0Ff9fLvQTQGc6ZbHn7NO/GGRVdhsv4b/WbwaxYLfhv6zHUZ8yu9i/StE2HFXB4T+iTSQufKngv1cJq7djoLe/GBb2TfyX4r/da0q5BNSovxCmJiHFvNa/g+yen0Csxj9LicLiw1CRPzerB6xxaeG/2phBqu263L9yYNjwV23dv9JBniL3J+K/P5bXptlL179D0JqBdqnZv40qbAXr3N6/Ap2pb5jD9j+vFzOiiCr5PxA7eobPkeG/rkF2uStCk78HMPzqZufavwZ3ko+Yudu/8D/YLFw4gr/KZUcbh/jUv6dRtXkvcNm/lvmMgOQU3b/aXLyj8Arhv1JgzZnSq/I/dKIof5mS3L+SAzqjq3ghQIY5s9cCTeO/Q2AVlg0w4b85qIjrCSbev0rt5YLFQuC/4VRiOoyn4z+Siwb1uATSv7z9HraB6Ka/B0edd5gN2b9ONqtQi+/bv+ozSb9nCOG/Pp2my4ABBkAOuf4+kPPTv2T4FCOmx9S/LnZxmK3p1T9aXnQGQVziP0PLjI45JeC/0mWPy1GeKkBsatsECQLHvw80IZr9cNA/xinypSmQ4797vTysQkfRvyU+LcZbwbC/MDPtKZv00b9Njh2eTUOnv8t5vSu6GNG/1VzQ+tsU2b/QTqehwkAEQImnZLGnZNq/weAj/q8E9T8Yco4PZWTWv70Pt3k4XM0/PjKW9xd61L/U0tS7M6fRvxWFHhI8Fvs/Iz22o1aO4r/sTaKh6QodQEhGN6d59Ni/CIEmhkMe4L+rqJAk2SvcvwP4WNTjR92/PHtRiosh379w4u42KuDcP2klPVdh2eC/LquN8gHp3L9FzTpjrm3hv1NqykFKPNk/L4XTYhtN2L8k04HwdYXeP9xwN95LQuK/mpeHtvIV2L8b3hOSFOfgP1O0tFhqSsE/izw0Qam02b+8uISGisvYvzUWOBxwGeK/m42lnGpa4L9deZ91conGP+VGhhCcvN6/BQqvIP2p1L+H9XxRmbbav9wHUoDgV9K/6enifVB/1L+gbOiscNDNPw7nT9Zrhd+/eR0ishqI0b9ZZ7gUYwXiv56r7HPVw8w/AVoCLKlau79ZDeePhHnTv3iiyHVYLOG/tc3pLewe2b9+aUgxIlOpv7kkxdiV2tu/Yn2pAIBc3L+Nq8BakfXcvwWF0XtqJ9E/spVXUQgm8D+S0qbtOgXdv6q7aEKkYtm/n2sALkAK4L9VSg0K0wXgv39SEWZsrtW/PSOi71PTub+d8IIlto/fv7jXssZgudO/shNw8BCS179XaXjoOYbkP0ewctwL5ri/CtI2qahk37/HQA9dUjHWv92L26XVpNy/fs6SC1lpAUC6t+u9Svnev2qPB0lgG+c/wM2ds03s2L9KsPxVUvbgv+VzRlhNNNW/d04igv970b9LBNPBTMXhv1wGVEF0h8w/rJ/uZP/t17+ukoM2v8DSv5fhv77zKMG/mLHhz33M1L/T4bgcH+fhv6/6kn4Pmdu/n/K0tjU0078jEi9v1qPLvwcKfvyWIvA/T5qeDmy83T+h6IOCbFLfv+X3I8KrvuC/1Qq6Sbqd4b8cyTQYReriv95iyHnYtcu/f+UCqVeX4r8wpaS/gTvXvw1sela0heG/8NhGRVUb1b9Cga9MUzjkv7GMdN/tIua/UoOft4TY4b93liah9xjgvxhZtseLgt+/LRA1IMMoyr/nNG3f+wKvPyUNNk2andE/eqvmXynl2b9SpzmDUbbhv9v7bU16Fti/7FuNPv2kzb+p4ob4AJvhv4wWLb0Ocr2/L4bjRCis2r+wGsTLuMTMvzS2fNFKoPM/a8i8mXnr3b923NyKohKgP2bFfY7YseC/pNOLoIdd3b8qUPu+VU3hv9FCEeDjMu4/QEXR18Qz4r+GEpUhphTbvyu8ySG85uC/dhA1KkRKEUANfke8mnThvw65mac8ia6/mYkxoZZYvL/2EKYPY3yrv2KS5isH7t4/5LDCbiiKpj+btv9pk7fYP5ZvGZWo2vI/yzl7YjB5xb9H30GVhqncv8ZWzkCNbuU/AXWRnxpV1D/XrUZIDqjhv2aMXdDLVOK/SetrvVPw+j+6yKhBJIncvxE5UjCi8t6/1UoVe1k14b9xwyRlrYC/vwcjrK46+vI/ybkWHs4H0z/AF5sRcDD3P1o6KEVTrNy/BNiHd31Z3r+vvaQndDXXv9wtbAAKMcm/qtTJia7g4L9Wrk65lNfivxdRB6DaPYO/1HUfXIKD2L9QalfYj1LOv43sreu8n9M/oL10dxvt4r8GwmQM62TIP86nnNPwNNm/bAOGAtN52L/NtkHB2fqqvyZG0k6cnt0/b1Az4Z4d4L9Tp24lG+zXvwWzNjg1ceK/i5N3h6e31b/80Gjt6QnTv55IdkSAi+K/gf72Q+Pf5D91nkjnqFPFv26RnvRKFOK/HhKTjBSayT8jYvXjPD7Nv8JX7TZfl+G/rUbt1Ciy8j/J/WFDw6X4Px+vRmnaHre/kz13VPhO4r/OY5wYsfXhP6IlSLTuz8I/oO8AVAS72b+dFd/IsJ7nP4jmel5wZ+G/Ti1g2bWGyT/M8NsibzjWv4RQhNzVkdK/texct2Sp1D/BAwoPKdDdv0VBt/aTTO4/IYM8ZnsB4b/cQANTSRyhv7gzSUk+3ek/sSIgW0Riuz+Yh9Xq/c3Xvxs8S6W233s/meDQWcFH37/7gWRpr8nSPwc9u10QUuG/K4NJc2xM4D+e7WRl84Hgv+7bn/ppl+o/gImEYnExAEC21lrJX9X4P7kng48Xgt+/ebUcvhre0r/xMQjoJkjhv2ziG90sud+/WSnvfYR40b8lURiPmvbYP032CJe+Et6/KHp5k3rB4b8EJuAd6wfhPz5pEjUAvdu/PZNwOFx5xT8KKPPzzHvQvzD++vRf28u/KONh3IIayT8k5BwLkiUQQB5TuT0gy+G/oSgz+HQn4L89bvhBrwPiv2R7jmaOtdy/3sPrgdWi2L9OXLkk28jhvwd2h9ezcd6/HXZWh+Co/j9Ui3gdf/zhvzdjByTbo/0/aKiKoL75sr/7ok/8ckXePz7Zi42NX+w/PgSvpM9Txb+++xIw78XtP1w8usYVjsK/8U5+aes65j8eJpASeg79P7rrkhsnRcy/1WCek2ob37+IaWZ4/6HTvymfmkEjYtO/x14+gz+2FUDM/DuZyh3evznfU0Mzj+G/rWqBmOD2zT9fLGl+dyDlP+qx18t4mN2/d82Jj8iM3D+EHrah55Xiv7AT9MUZF+O/47JKH7In1L8dShAukfbDPxeiToWb2uK/vBUfP5tOwD9ajTTEpyH/P2r3g1YtUu4/OEoecGbJz7/jBDaCWpffvzATHM00BtO/jxuxmu/S47/r0jzH9kHRv9/Kcqe9Od2/6m3A564J4L90kabwEXHVP7oTGY9b8fI/GQ8LJNQzub8OFTLmjWvgv2OV+mV9e+G/cTVbjXYMsr9ilbPdTzbjv5asem6v89S/vddFAeRa1b9AQQhpXkThvyLtm+qGtt+/e7PRq4cY4r9SKwDdIxrgv6P5JV+lQcs/KSeWjXrJvL9iuD3HD7Xgv02itKhD99E/R442nEl64r9Ji7fb4Tbfv4LTbw9j9d2/R/Oye5Gy07+ZKqRHVwbRv10Fz50jbeg/GWfsXDogtL/izUpZzruov01/6p8J89i/f+7U4NLz17/lEuilcXj9P8NkQmiADAdAdewAl1do079kBFCeEN7APwrMGNRegeO/yjD19Qii3L+dBfR4agfxP7bFbmCrZuS/rhyEn49F37+8esuWhKXSP+ww9TN7o8C/Nfb7URaey7/RG5BOp07cv+BTskjCheO/ZE3GzuO/4b8+jrzi2fndv5X6qR4tbOK/ZeIVttdDsT+KYZD9oezaP2p5BgcgsN6/TzwvUKIf4b+vsRljn0jjvztsmHcZ6cq/HeGoOagv1r8IptAzHVviv0BzUudB5N6//YHJahz14L/k4+6oayKFP7o/bUlxAiZAvvoaCjP2+z95f4UUxvLhv87A/Rr7suC/hztDMziv1D/Q/4dgp0/ev0rPkpswp+o/Dcki+imx179/2SotgUEQQJhgh7z/dt6/g9A/aTzY1r/hCPrGmG/bv9+XG0to0s0/s4g5geK94b9cX9tJULm/Pzf0e525otS/D9JksMKI4L9kzg1oTuDcv8+vhx9PaOG/UukwowGH2r94L3gXMhPiv8cU47O4dNS/HyjN7jSM078KKdNdOLzhv0iWXQwjzMy/qN52AW1m4r+egYQcKdnYv6MNyfzcEeG/TdFZv7y+1r9czaJucQjhvwbPPiY1cOC/rAVdlBZ24r+foGVoSyC8vzrr9ReUouK/6FaMIPpB4L/G+eqnxdTYv1C0n4dpzOG/CXR5+f3C4b/qNbALrwvkvwADanIYauK/pxOHyOWO4b+yL3O06HnQv/6RNK7j9+K/b0mx5d6d4L8BoHJxVUTdv/h2UPnbYd+/fEwRPF4D3L91nVRYTlvev63kbplnMN6/JIH50izImL/jEa3AEVT0P4HaUftlss+/r548G6z64L9tfy9AHLrmP+sB8oRIcOC/2CNDd1JZ3L9ZpKFB1lHhv5Z3iDl02s6/UQLSIoSzxj9nEF72jwXcv6ktKQOthoe/m6c0WL9G078gW5KjGu/hv51JdEAp29y/WuEA3FHC9T9Svc9XnpTivx/DN8DVhNc/GqZRwPMW379r2DSZfObivyVbbGbL1eG/CvrtJ0Vv4b+NG1gsXn7dv4B9MlchI9q/FEQUgpmcxb/u2yj6mjPbPxIUo1ignte/HflwuHLb47/PoYMoz2jiv2oJagsrENm/q9JnZ4/04r/D9eoSP2Ccvy+8XFw/iOK/4Z/k8Itm2r+Mv1pQil3iP2DOKA/vgL6/irlD/fFi4r+HEEC7wiDgv5nbvTxcrOC/X+9WQhZ117895REPPAzivwXvuz4yId6/2NJn9rZI078QlfHwV2D2PxMcOmCVlN6/uxW2KTGT379xAx5nfjLfvzcJApD5IdO/A3pByKEb0L+biuwPEcrhv3HvKxNWbtW/W3SxU/6847/F4sjGdBzhv3pxyKVzOOG/BxPf8DFy1b8Uy3Xvhariv5WBXqciltW//MI0fsjr4r83ekCrUWSzP2AeQaIx2dy/THl4hlbS279tdIYkPrbhv+mNSrznsuC/GgL8Z8Dy2r9PRO9mhXTWP+lMmCAOd+C/D6q67WF24b809Q9Vz4biv+AClWkhR+G/jDxGJw3E4b++lqp1lkXiv2lREEFOqaw/0vmeLSei2L9yHdHumj3iv5KC8l44euO/mk5DPUz71b8oknGK5ovgv66B3cJxV+K/xmg99bvI4L8umzSVnvXivxOfAr6+qOK//uX4M3q327/6AWm9zv3Sv8E8Ks01Ldy/tDIB88gC478bJYt7qIjdvx2kR2ChFvQ/yhT6w0Sb4b+e7VJ/j3LYv6EeJqlxjdU/23nUc/1o4b87HZTa4H/hv/WotO828uK/kI2d0p9P378w8LgBn9kDQJvqC+LaV92/a8kgwO+H4b+8tdAjWVLfvxxIVYTijNY/YjNQe6TL0r8YyMFzVgjQv+2AHEU2Qd4/03SGk0Kx3r+nOXb6lWDcv+pKNv7uiuK/xNX9wO/a0j91mpahzLPav+eKSqdg3eO/O92p7CH18T8h+5q33p7ZvyIq61rFeOE/BtUO8Z8l4j9bBm/oFCjev9faW07FrPA/272dtwGLrb8XgAkgsvDdvwAO5VTg99O/LaUolYrA4r++8TJV8rLTvwHfz6ZLjOK/2IXU+RUR5z/+Vq2jj5fhv03O8oVyewxAUMkMK5J81T/+Vxs3VIvoP6nMJcZ98ta/1IwlAx/+zb8z3XDl8jnjPxmt4HfvjuG/zYK9g03C4L+54e1OesnRv3Yy6hteXuK/MeKSFh2f27+jCQCOdiLgv5P5+opgFwhAX0p6BweO4b83zj1RyKrdvyeTgWzz6uK/l189DgHL4L9iMbZ6nV2UP5cGhr9/zN6/5+YHry0Y/z9iBDvND2Dhv5fbdrQuZ+K/i4+uGEHI1L96Hyz5u7zJPxdU2EzwHNe/rFue42zCur9TSW8Xaxzhv6RV8Nc61d2/B/F2z+Jh4r8cZiHEz13Cv8arn72THsm/Xcj+v8fv078T8aFVE5PRv/JW+R0uyuG/6WKPEQkqCkDzF67Om5Hkvxqfs3GBMMS/CrJJ+Y8Pxb8OCOMKAKXmP3yo5PIYPuY/1cx5sgyt4b8qidT0NGXhv88HEOojANa/npYKD2lY178SkS4/4MfUvwVeQy7ySty/gJ8jeKHP3b/IbuSwOB/Uvy90Ft9Bvdq/wNQfrw1s2L+ziXnbkDvVv6TorSRuTr4/V6GPRuts3L/MZVFv1ybfv0tQ99cRKmM/gB1o+OmCu79uVPxPBQ3hv3LyRJDyO8a/XBL3qE59sb8sw2BVQqkGQJticIbGLdY/IG62czuC4r9DFRaMttTav9E8cqlmQJS/cFlaIpOmuT89AV9f3NDJP/cahoBGzsw/lkwMgqQ/3b8L2UGLm1fWv1cws/BHT+O/zs8EOEwZ3785WP1r9fnSP/GhKvivFcC//A3OXVL6379Ho7yOifngv/Yz2V8Djse/rVgjHgTm4L/JLZcvyjfLv33ymCURzNO/q7McWj6J+z+8M3mo4dLhv5KdVPSJLJM/tJoG58is4b/hCDW86t3RP+0Za9DTzNi/gIc4PXH94b860v89fbHiP0PLwTADW9a/se5JGEDa4L9TUPESK5zgv6lst9lyPt+/xAoaG0Ta2b9/ySoz+bbVv5OHQrB6LNa/PWaUnfia0z8ZcOqOQErfvx2gUWTpGcO/Q2iVjXb/2r9PSRLEsFQCQGW3eZdYsuG/wYOUdymP/T8upEzCgFf8PzTRdYkCqeK/V2y8s09b0b+mJgeLjN8FQKNTrXC5GeQ/nzmQpAmj1D9csL9ALuDWv2cMlYcpFtu/75zEQvMCyj+JSfo1BAjMv6f4rDUy1cW/r/5fGnFBuD9qXfnu95nbv0439ifqvNQ/RVvhl33k2T+UbVME4wLhPxu4pwwNeda/Gq1XeL7y0L8lg8+g/qLiv3YJI7u09N2/A3pANdvb9T+XArgm8cXYv2ljNmbhhOK/5TYtszjJ5L8iMKk/zB7bP3Ddh9VbB90/pXz1JYIV4j8XZ7q+C4Lev51Z7D8s1uG/irNeYYYvsb/ffwlA1UnRv+o1sAuvC+S/b4Q48DL+4b9F2z5aLm3gv+JN5Wj0Puk/Gmm81+kH4b/qNbALrwvkv77lU0y0iN6/zT+pxVSa4r9HnDqTyXnhv9sCu6ZwYOG/DNgBMe3Z4r+exbqikm/hv906RW7cMNQ/Ydq60l1szD8=",
          "dtype": "f8"
         }
        }
       ],
       "layout": {
        "coloraxis": {
         "colorbar": {
          "title": {
           "text": "cluster"
          }
         },
         "colorscale": [
          [
           0,
           "#0d0887"
          ],
          [
           0.1111111111111111,
           "#46039f"
          ],
          [
           0.2222222222222222,
           "#7201a8"
          ],
          [
           0.3333333333333333,
           "#9c179e"
          ],
          [
           0.4444444444444444,
           "#bd3786"
          ],
          [
           0.5555555555555556,
           "#d8576b"
          ],
          [
           0.6666666666666666,
           "#ed7953"
          ],
          [
           0.7777777777777778,
           "#fb9f3a"
          ],
          [
           0.8888888888888888,
           "#fdca26"
          ],
          [
           1,
           "#f0f921"
          ]
         ]
        },
        "legend": {
         "tracegroupgap": 0
        },
        "margin": {
         "t": 60
        },
        "scene": {
         "domain": {
          "x": [
           0,
           1
          ],
          "y": [
           0,
           1
          ]
         },
         "xaxis": {
          "title": {
           "text": "Recency"
          }
         },
         "yaxis": {
          "title": {
           "text": "Total_Transactions"
          }
         },
         "zaxis": {
          "title": {
           "text": "Total_Spend"
          }
         }
        },
        "template": {
         "data": {
          "bar": [
           {
            "error_x": {
             "color": "#2a3f5f"
            },
            "error_y": {
             "color": "#2a3f5f"
            },
            "marker": {
             "line": {
              "color": "#E5ECF6",
              "width": 0.5
             },
             "pattern": {
              "fillmode": "overlay",
              "size": 10,
              "solidity": 0.2
             }
            },
            "type": "bar"
           }
          ],
          "barpolar": [
           {
            "marker": {
             "line": {
              "color": "#E5ECF6",
              "width": 0.5
             },
             "pattern": {
              "fillmode": "overlay",
              "size": 10,
              "solidity": 0.2
             }
            },
            "type": "barpolar"
           }
          ],
          "carpet": [
           {
            "aaxis": {
             "endlinecolor": "#2a3f5f",
             "gridcolor": "white",
             "linecolor": "white",
             "minorgridcolor": "white",
             "startlinecolor": "#2a3f5f"
            },
            "baxis": {
             "endlinecolor": "#2a3f5f",
             "gridcolor": "white",
             "linecolor": "white",
             "minorgridcolor": "white",
             "startlinecolor": "#2a3f5f"
            },
            "type": "carpet"
           }
          ],
          "choropleth": [
           {
            "colorbar": {
             "outlinewidth": 0,
             "ticks": ""
            },
            "type": "choropleth"
           }
          ],
          "contour": [
           {
            "colorbar": {
             "outlinewidth": 0,
             "ticks": ""
            },
            "colorscale": [
             [
              0,
              "#0d0887"
             ],
             [
              0.1111111111111111,
              "#46039f"
             ],
             [
              0.2222222222222222,
              "#7201a8"
             ],
             [
              0.3333333333333333,
              "#9c179e"
             ],
             [
              0.4444444444444444,
              "#bd3786"
             ],
             [
              0.5555555555555556,
              "#d8576b"
             ],
             [
              0.6666666666666666,
              "#ed7953"
             ],
             [
              0.7777777777777778,
              "#fb9f3a"
             ],
             [
              0.8888888888888888,
              "#fdca26"
             ],
             [
              1,
              "#f0f921"
             ]
            ],
            "type": "contour"
           }
          ],
          "contourcarpet": [
           {
            "colorbar": {
             "outlinewidth": 0,
             "ticks": ""
            },
            "type": "contourcarpet"
           }
          ],
          "heatmap": [
           {
            "colorbar": {
             "outlinewidth": 0,
             "ticks": ""
            },
            "colorscale": [
             [
              0,
              "#0d0887"
             ],
             [
              0.1111111111111111,
              "#46039f"
             ],
             [
              0.2222222222222222,
              "#7201a8"
             ],
             [
              0.3333333333333333,
              "#9c179e"
             ],
             [
              0.4444444444444444,
              "#bd3786"
             ],
             [
              0.5555555555555556,
              "#d8576b"
             ],
             [
              0.6666666666666666,
              "#ed7953"
             ],
             [
              0.7777777777777778,
              "#fb9f3a"
             ],
             [
              0.8888888888888888,
              "#fdca26"
             ],
             [
              1,
              "#f0f921"
             ]
            ],
            "type": "heatmap"
           }
          ],
          "histogram": [
           {
            "marker": {
             "pattern": {
              "fillmode": "overlay",
              "size": 10,
              "solidity": 0.2
             }
            },
            "type": "histogram"
           }
          ],
          "histogram2d": [
           {
            "colorbar": {
             "outlinewidth": 0,
             "ticks": ""
            },
            "colorscale": [
             [
              0,
              "#0d0887"
             ],
             [
              0.1111111111111111,
              "#46039f"
             ],
             [
              0.2222222222222222,
              "#7201a8"
             ],
             [
              0.3333333333333333,
              "#9c179e"
             ],
             [
              0.4444444444444444,
              "#bd3786"
             ],
             [
              0.5555555555555556,
              "#d8576b"
             ],
             [
              0.6666666666666666,
              "#ed7953"
             ],
             [
              0.7777777777777778,
              "#fb9f3a"
             ],
             [
              0.8888888888888888,
              "#fdca26"
             ],
             [
              1,
              "#f0f921"
             ]
            ],
            "type": "histogram2d"
           }
          ],
          "histogram2dcontour": [
           {
            "colorbar": {
             "outlinewidth": 0,
             "ticks": ""
            },
            "colorscale": [
             [
              0,
              "#0d0887"
             ],
             [
              0.1111111111111111,
              "#46039f"
             ],
             [
              0.2222222222222222,
              "#7201a8"
             ],
             [
              0.3333333333333333,
              "#9c179e"
             ],
             [
              0.4444444444444444,
              "#bd3786"
             ],
             [
              0.5555555555555556,
              "#d8576b"
             ],
             [
              0.6666666666666666,
              "#ed7953"
             ],
             [
              0.7777777777777778,
              "#fb9f3a"
             ],
             [
              0.8888888888888888,
              "#fdca26"
             ],
             [
              1,
              "#f0f921"
             ]
            ],
            "type": "histogram2dcontour"
           }
          ],
          "mesh3d": [
           {
            "colorbar": {
             "outlinewidth": 0,
             "ticks": ""
            },
            "type": "mesh3d"
           }
          ],
          "parcoords": [
           {
            "line": {
             "colorbar": {
              "outlinewidth": 0,
              "ticks": ""
             }
            },
            "type": "parcoords"
           }
          ],
          "pie": [
           {
            "automargin": true,
            "type": "pie"
           }
          ],
          "scatter": [
           {
            "fillpattern": {
             "fillmode": "overlay",
             "size": 10,
             "solidity": 0.2
            },
            "type": "scatter"
           }
          ],
          "scatter3d": [
           {
            "line": {
             "colorbar": {
              "outlinewidth": 0,
              "ticks": ""
             }
            },
            "marker": {
             "colorbar": {
              "outlinewidth": 0,
              "ticks": ""
             }
            },
            "type": "scatter3d"
           }
          ],
          "scattercarpet": [
           {
            "marker": {
             "colorbar": {
              "outlinewidth": 0,
              "ticks": ""
             }
            },
            "type": "scattercarpet"
           }
          ],
          "scattergeo": [
           {
            "marker": {
             "colorbar": {
              "outlinewidth": 0,
              "ticks": ""
             }
            },
            "type": "scattergeo"
           }
          ],
          "scattergl": [
           {
            "marker": {
             "colorbar": {
              "outlinewidth": 0,
              "ticks": ""
             }
            },
            "type": "scattergl"
           }
          ],
          "scattermap": [
           {
            "marker": {
             "colorbar": {
              "outlinewidth": 0,
              "ticks": ""
             }
            },
            "type": "scattermap"
           }
          ],
          "scattermapbox": [
           {
            "marker": {
             "colorbar": {
              "outlinewidth": 0,
              "ticks": ""
             }
            },
            "type": "scattermapbox"
           }
          ],
          "scatterpolar": [
           {
            "marker": {
             "colorbar": {
              "outlinewidth": 0,
              "ticks": ""
             }
            },
            "type": "scatterpolar"
           }
          ],
          "scatterpolargl": [
           {
            "marker": {
             "colorbar": {
              "outlinewidth": 0,
              "ticks": ""
             }
            },
            "type": "scatterpolargl"
           }
          ],
          "scatterternary": [
           {
            "marker": {
             "colorbar": {
              "outlinewidth": 0,
              "ticks": ""
             }
            },
            "type": "scatterternary"
           }
          ],
          "surface": [
           {
            "colorbar": {
             "outlinewidth": 0,
             "ticks": ""
            },
            "colorscale": [
             [
              0,
              "#0d0887"
             ],
             [
              0.1111111111111111,
              "#46039f"
             ],
             [
              0.2222222222222222,
              "#7201a8"
             ],
             [
              0.3333333333333333,
              "#9c179e"
             ],
             [
              0.4444444444444444,
              "#bd3786"
             ],
             [
              0.5555555555555556,
              "#d8576b"
             ],
             [
              0.6666666666666666,
              "#ed7953"
             ],
             [
              0.7777777777777778,
              "#fb9f3a"
             ],
             [
              0.8888888888888888,
              "#fdca26"
             ],
             [
              1,
              "#f0f921"
             ]
            ],
            "type": "surface"
           }
          ],
          "table": [
           {
            "cells": {
             "fill": {
              "color": "#EBF0F8"
             },
             "line": {
              "color": "white"
             }
            },
            "header": {
             "fill": {
              "color": "#C8D4E3"
             },
             "line": {
              "color": "white"
             }
            },
            "type": "table"
           }
          ]
         },
         "layout": {
          "annotationdefaults": {
           "arrowcolor": "#2a3f5f",
           "arrowhead": 0,
           "arrowwidth": 1
          },
          "autotypenumbers": "strict",
          "coloraxis": {
           "colorbar": {
            "outlinewidth": 0,
            "ticks": ""
           }
          },
          "colorscale": {
           "diverging": [
            [
             0,
             "#8e0152"
            ],
            [
             0.1,
             "#c51b7d"
            ],
            [
             0.2,
             "#de77ae"
            ],
            [
             0.3,
             "#f1b6da"
            ],
            [
             0.4,
             "#fde0ef"
            ],
            [
             0.5,
             "#f7f7f7"
            ],
            [
             0.6,
             "#e6f5d0"
            ],
            [
             0.7,
             "#b8e186"
            ],
            [
             0.8,
             "#7fbc41"
            ],
            [
             0.9,
             "#4d9221"
            ],
            [
             1,
             "#276419"
            ]
           ],
           "sequential": [
            [
             0,
             "#0d0887"
            ],
            [
             0.1111111111111111,
             "#46039f"
            ],
            [
             0.2222222222222222,
             "#7201a8"
            ],
            [
             0.3333333333333333,
             "#9c179e"
            ],
            [
             0.4444444444444444,
             "#bd3786"
            ],
            [
             0.5555555555555556,
             "#d8576b"
            ],
            [
             0.6666666666666666,
             "#ed7953"
            ],
            [
             0.7777777777777778,
             "#fb9f3a"
            ],
            [
             0.8888888888888888,
             "#fdca26"
            ],
            [
             1,
             "#f0f921"
            ]
           ],
           "sequentialminus": [
            [
             0,
             "#0d0887"
            ],
            [
             0.1111111111111111,
             "#46039f"
            ],
            [
             0.2222222222222222,
             "#7201a8"
            ],
            [
             0.3333333333333333,
             "#9c179e"
            ],
            [
             0.4444444444444444,
             "#bd3786"
            ],
            [
             0.5555555555555556,
             "#d8576b"
            ],
            [
             0.6666666666666666,
             "#ed7953"
            ],
            [
             0.7777777777777778,
             "#fb9f3a"
            ],
            [
             0.8888888888888888,
             "#fdca26"
            ],
            [
             1,
             "#f0f921"
            ]
           ]
          },
          "colorway": [
           "#636efa",
           "#EF553B",
           "#00cc96",
           "#ab63fa",
           "#FFA15A",
           "#19d3f3",
           "#FF6692",
           "#B6E880",
           "#FF97FF",
           "#FECB52"
          ],
          "font": {
           "color": "#2a3f5f"
          },
          "geo": {
           "bgcolor": "white",
           "lakecolor": "white",
           "landcolor": "#E5ECF6",
           "showlakes": true,
           "showland": true,
           "subunitcolor": "white"
          },
          "hoverlabel": {
           "align": "left"
          },
          "hovermode": "closest",
          "mapbox": {
           "style": "light"
          },
          "paper_bgcolor": "white",
          "plot_bgcolor": "#E5ECF6",
          "polar": {
           "angularaxis": {
            "gridcolor": "white",
            "linecolor": "white",
            "ticks": ""
           },
           "bgcolor": "#E5ECF6",
           "radialaxis": {
            "gridcolor": "white",
            "linecolor": "white",
            "ticks": ""
           }
          },
          "scene": {
           "xaxis": {
            "backgroundcolor": "#E5ECF6",
            "gridcolor": "white",
            "gridwidth": 2,
            "linecolor": "white",
            "showbackground": true,
            "ticks": "",
            "zerolinecolor": "white"
           },
           "yaxis": {
            "backgroundcolor": "#E5ECF6",
            "gridcolor": "white",
            "gridwidth": 2,
            "linecolor": "white",
            "showbackground": true,
            "ticks": "",
            "zerolinecolor": "white"
           },
           "zaxis": {
            "backgroundcolor": "#E5ECF6",
            "gridcolor": "white",
            "gridwidth": 2,
            "linecolor": "white",
            "showbackground": true,
            "ticks": "",
            "zerolinecolor": "white"
           }
          },
          "shapedefaults": {
           "line": {
            "color": "#2a3f5f"
           }
          },
          "ternary": {
           "aaxis": {
            "gridcolor": "white",
            "linecolor": "white",
            "ticks": ""
           },
           "baxis": {
            "gridcolor": "white",
            "linecolor": "white",
            "ticks": ""
           },
           "bgcolor": "#E5ECF6",
           "caxis": {
            "gridcolor": "white",
            "linecolor": "white",
            "ticks": ""
           }
          },
          "title": {
           "x": 0.05
          },
          "xaxis": {
           "automargin": true,
           "gridcolor": "white",
           "linecolor": "white",
           "ticks": "",
           "title": {
            "standoff": 15
           },
           "zerolinecolor": "white",
           "zerolinewidth": 2
          },
          "yaxis": {
           "automargin": true,
           "gridcolor": "white",
           "linecolor": "white",
           "ticks": "",
           "title": {
            "standoff": 15
           },
           "zerolinecolor": "white",
           "zerolinewidth": 2
          }
         }
        }
       }
      }
     },
     "metadata": {},
     "output_type": "display_data"
    }
   ],
   "source": [
    "import plotly.express as px\n",
    "fig = px.scatter_3d(customer_RFM_scaled, x='Recency', y='Total_Transactions', z='Total_Spend', color='cluster')\n",
    "fig.show()"
   ]
  },
  {
   "cell_type": "code",
   "execution_count": 1264,
   "metadata": {},
   "outputs": [
    {
     "name": "stdout",
     "output_type": "stream",
     "text": [
      "Mean values of each cluster:\n",
      "            Recency  Total_Transactions  Total_Spend\n",
      "cluster                                             \n",
      "0         47.493522            2.884211   775.472972\n",
      "1        251.137236            1.710173   397.798090\n",
      "2         24.103293           10.402695  3240.263293\n",
      "3         10.384058           23.833333  9874.687971\n"
     ]
    }
   ],
   "source": [
    "# Print the mean values of each cluster for insights\n",
    "print(\"Mean values of each cluster:\")\n",
    "print(customer_data_cleaned.groupby('cluster')[['Recency', 'Total_Transactions', 'Total_Spend']].mean())"
   ]
  },
  {
   "cell_type": "code",
   "execution_count": 1265,
   "metadata": {},
   "outputs": [
    {
     "data": {
      "text/plain": [
       "RFM\n",
       "0    57.202409\n",
       "1    24.131542\n",
       "2    15.470125\n",
       "3     3.195924\n",
       "Name: proportion, dtype: float64"
      ]
     },
     "execution_count": 1265,
     "metadata": {},
     "output_type": "execute_result"
    }
   ],
   "source": [
    "# Rename the cluster column\n",
    "customer_data_cleaned.rename(columns={'cluster': 'RFM'}, inplace=True)\n",
    "customer_RFM_scaled.rename(columns={'cluster': 'RFM'}, inplace=True)\n",
    "\n",
    "# Calculate the percentage of customers in each cluster\n",
    "cluster_percentages = customer_data_cleaned['RFM'].value_counts(normalize=True) * 100\n",
    "cluster_percentages"
   ]
  },
  {
   "cell_type": "code",
   "execution_count": 1266,
   "metadata": {},
   "outputs": [
    {
     "data": {
      "text/html": [
       "<div>\n",
       "<style scoped>\n",
       "    .dataframe tbody tr th:only-of-type {\n",
       "        vertical-align: middle;\n",
       "    }\n",
       "\n",
       "    .dataframe tbody tr th {\n",
       "        vertical-align: top;\n",
       "    }\n",
       "\n",
       "    .dataframe thead th {\n",
       "        text-align: right;\n",
       "    }\n",
       "</style>\n",
       "<table border=\"1\" class=\"dataframe\">\n",
       "  <thead>\n",
       "    <tr style=\"text-align: right;\">\n",
       "      <th></th>\n",
       "      <th>Customer ID</th>\n",
       "      <th>Recency</th>\n",
       "      <th>Total_Transactions</th>\n",
       "      <th>Total_Products_Purchased</th>\n",
       "      <th>Total_Spend</th>\n",
       "      <th>Average_Transaction_Value</th>\n",
       "      <th>Unique_Products_Purchased</th>\n",
       "      <th>Cancellation_Frequency</th>\n",
       "      <th>Cancellation_Rate</th>\n",
       "      <th>Monthly_Spending_Mean</th>\n",
       "      <th>Monthly_Spending_Std</th>\n",
       "      <th>RFM</th>\n",
       "    </tr>\n",
       "  </thead>\n",
       "  <tbody>\n",
       "    <tr>\n",
       "      <th>0</th>\n",
       "      <td>12346.0</td>\n",
       "      <td>325</td>\n",
       "      <td>2</td>\n",
       "      <td>0</td>\n",
       "      <td>0.00</td>\n",
       "      <td>0.000000</td>\n",
       "      <td>1</td>\n",
       "      <td>1.0</td>\n",
       "      <td>0.500</td>\n",
       "      <td>0.000000</td>\n",
       "      <td>0.000000</td>\n",
       "      <td>Passenger</td>\n",
       "    </tr>\n",
       "    <tr>\n",
       "      <th>1</th>\n",
       "      <td>12347.0</td>\n",
       "      <td>1</td>\n",
       "      <td>7</td>\n",
       "      <td>2458</td>\n",
       "      <td>4310.00</td>\n",
       "      <td>615.714286</td>\n",
       "      <td>103</td>\n",
       "      <td>0.0</td>\n",
       "      <td>0.000</td>\n",
       "      <td>615.714286</td>\n",
       "      <td>341.070789</td>\n",
       "      <td>Loyal</td>\n",
       "    </tr>\n",
       "    <tr>\n",
       "      <th>2</th>\n",
       "      <td>12348.0</td>\n",
       "      <td>74</td>\n",
       "      <td>4</td>\n",
       "      <td>2332</td>\n",
       "      <td>1437.24</td>\n",
       "      <td>359.310000</td>\n",
       "      <td>21</td>\n",
       "      <td>0.0</td>\n",
       "      <td>0.000</td>\n",
       "      <td>359.310000</td>\n",
       "      <td>203.875689</td>\n",
       "      <td>Regular</td>\n",
       "    </tr>\n",
       "    <tr>\n",
       "      <th>3</th>\n",
       "      <td>12349.0</td>\n",
       "      <td>18</td>\n",
       "      <td>1</td>\n",
       "      <td>630</td>\n",
       "      <td>1457.55</td>\n",
       "      <td>1457.550000</td>\n",
       "      <td>72</td>\n",
       "      <td>0.0</td>\n",
       "      <td>0.000</td>\n",
       "      <td>1457.550000</td>\n",
       "      <td>0.000000</td>\n",
       "      <td>Regular</td>\n",
       "    </tr>\n",
       "    <tr>\n",
       "      <th>4</th>\n",
       "      <td>12350.0</td>\n",
       "      <td>309</td>\n",
       "      <td>1</td>\n",
       "      <td>196</td>\n",
       "      <td>294.40</td>\n",
       "      <td>294.400000</td>\n",
       "      <td>16</td>\n",
       "      <td>0.0</td>\n",
       "      <td>0.000</td>\n",
       "      <td>294.400000</td>\n",
       "      <td>0.000000</td>\n",
       "      <td>Passenger</td>\n",
       "    </tr>\n",
       "    <tr>\n",
       "      <th>5</th>\n",
       "      <td>12352.0</td>\n",
       "      <td>35</td>\n",
       "      <td>8</td>\n",
       "      <td>463</td>\n",
       "      <td>1265.41</td>\n",
       "      <td>158.176250</td>\n",
       "      <td>57</td>\n",
       "      <td>1.0</td>\n",
       "      <td>0.125</td>\n",
       "      <td>316.352500</td>\n",
       "      <td>134.700629</td>\n",
       "      <td>Regular</td>\n",
       "    </tr>\n",
       "    <tr>\n",
       "      <th>6</th>\n",
       "      <td>12353.0</td>\n",
       "      <td>203</td>\n",
       "      <td>1</td>\n",
       "      <td>20</td>\n",
       "      <td>89.00</td>\n",
       "      <td>89.000000</td>\n",
       "      <td>4</td>\n",
       "      <td>0.0</td>\n",
       "      <td>0.000</td>\n",
       "      <td>89.000000</td>\n",
       "      <td>0.000000</td>\n",
       "      <td>Passenger</td>\n",
       "    </tr>\n",
       "    <tr>\n",
       "      <th>7</th>\n",
       "      <td>12354.0</td>\n",
       "      <td>231</td>\n",
       "      <td>1</td>\n",
       "      <td>530</td>\n",
       "      <td>1079.40</td>\n",
       "      <td>1079.400000</td>\n",
       "      <td>58</td>\n",
       "      <td>0.0</td>\n",
       "      <td>0.000</td>\n",
       "      <td>1079.400000</td>\n",
       "      <td>0.000000</td>\n",
       "      <td>Passenger</td>\n",
       "    </tr>\n",
       "    <tr>\n",
       "      <th>8</th>\n",
       "      <td>12355.0</td>\n",
       "      <td>213</td>\n",
       "      <td>1</td>\n",
       "      <td>240</td>\n",
       "      <td>459.40</td>\n",
       "      <td>459.400000</td>\n",
       "      <td>13</td>\n",
       "      <td>0.0</td>\n",
       "      <td>0.000</td>\n",
       "      <td>459.400000</td>\n",
       "      <td>0.000000</td>\n",
       "      <td>Passenger</td>\n",
       "    </tr>\n",
       "    <tr>\n",
       "      <th>9</th>\n",
       "      <td>12356.0</td>\n",
       "      <td>22</td>\n",
       "      <td>3</td>\n",
       "      <td>1573</td>\n",
       "      <td>2487.43</td>\n",
       "      <td>829.143333</td>\n",
       "      <td>52</td>\n",
       "      <td>0.0</td>\n",
       "      <td>0.000</td>\n",
       "      <td>829.143333</td>\n",
       "      <td>991.462585</td>\n",
       "      <td>Regular</td>\n",
       "    </tr>\n",
       "  </tbody>\n",
       "</table>\n",
       "</div>"
      ],
      "text/plain": [
       "   Customer ID  Recency  Total_Transactions  Total_Products_Purchased  \\\n",
       "0      12346.0      325                   2                         0   \n",
       "1      12347.0        1                   7                      2458   \n",
       "2      12348.0       74                   4                      2332   \n",
       "3      12349.0       18                   1                       630   \n",
       "4      12350.0      309                   1                       196   \n",
       "5      12352.0       35                   8                       463   \n",
       "6      12353.0      203                   1                        20   \n",
       "7      12354.0      231                   1                       530   \n",
       "8      12355.0      213                   1                       240   \n",
       "9      12356.0       22                   3                      1573   \n",
       "\n",
       "   Total_Spend  Average_Transaction_Value  Unique_Products_Purchased  \\\n",
       "0         0.00                   0.000000                          1   \n",
       "1      4310.00                 615.714286                        103   \n",
       "2      1437.24                 359.310000                         21   \n",
       "3      1457.55                1457.550000                         72   \n",
       "4       294.40                 294.400000                         16   \n",
       "5      1265.41                 158.176250                         57   \n",
       "6        89.00                  89.000000                          4   \n",
       "7      1079.40                1079.400000                         58   \n",
       "8       459.40                 459.400000                         13   \n",
       "9      2487.43                 829.143333                         52   \n",
       "\n",
       "   Cancellation_Frequency  Cancellation_Rate  Monthly_Spending_Mean  \\\n",
       "0                     1.0              0.500               0.000000   \n",
       "1                     0.0              0.000             615.714286   \n",
       "2                     0.0              0.000             359.310000   \n",
       "3                     0.0              0.000            1457.550000   \n",
       "4                     0.0              0.000             294.400000   \n",
       "5                     1.0              0.125             316.352500   \n",
       "6                     0.0              0.000              89.000000   \n",
       "7                     0.0              0.000            1079.400000   \n",
       "8                     0.0              0.000             459.400000   \n",
       "9                     0.0              0.000             829.143333   \n",
       "\n",
       "   Monthly_Spending_Std        RFM  \n",
       "0              0.000000  Passenger  \n",
       "1            341.070789      Loyal  \n",
       "2            203.875689    Regular  \n",
       "3              0.000000    Regular  \n",
       "4              0.000000  Passenger  \n",
       "5            134.700629    Regular  \n",
       "6              0.000000  Passenger  \n",
       "7              0.000000  Passenger  \n",
       "8              0.000000  Passenger  \n",
       "9            991.462585    Regular  "
      ]
     },
     "execution_count": 1266,
     "metadata": {},
     "output_type": "execute_result"
    }
   ],
   "source": [
    "# Mapping dictionary\n",
    "cluster_map = {\n",
    "    0: 'Regular',\n",
    "    1: 'Passenger',\n",
    "    2: 'Loyal',\n",
    "    3: 'Champion'\n",
    "}\n",
    "\n",
    "# Apply mapping\n",
    "customer_RFM_scaled['RFM'] = customer_RFM_scaled['RFM'].map(cluster_map)\n",
    "customer_data_cleaned['RFM'] = customer_data_cleaned['RFM'].map(cluster_map)\n",
    "\n",
    "customer_data_cleaned.head(10)"
   ]
  },
  {
   "cell_type": "markdown",
   "metadata": {},
   "source": [
    "### Inferences\n",
    "\n",
    "### Evaluation Metrics\n",
    "\n",
    "- **Silhouette Score (0.6240):** A value close to 0.65 indicates good intra-cluster cohesion and inter-cluster separation. The clustering structure is solid.\n",
    "- **Calinski-Harabasz Score (5654.49):** A high value suggesting the clusters are well-defined and compact.\n",
    "- **Davies-Bouldin Score (0.6687):** A low score, which confirms distinct and non-overlapping clusters.\n",
    "\n",
    "### Clusters Interpretation\n",
    "\n",
    "- **Champion:** Very low recency, extremely high purchase frequency, and the highest total spend. Although they represent only 3.19% of the customer base, they are the most valuable. Should be prioritized for retention and rewards.\n",
    "- **Loyal:** Frequent buyers with strong spending and good recency. Representing 15.47%, they contribute consistently to revenue. Ideal candidates for loyalty programs and engagement campaigns.\n",
    "- **Regular:** The largest segment (57.20%) with moderate purchase activity and average spending. They form the core base with potential to be upsold or converted into more valuable customers.\n",
    "- **Passenger:** High recency, low frequency, and low total spend. These customers make up 24.13% and may be on the verge of churning. Consider reactivation strategies like targeted offers or win-back campaigns."
   ]
  },
  {
   "cell_type": "markdown",
   "metadata": {},
   "source": [
    "## Adding Churn client to RFM Segmentation\n",
    "\n",
    "It is important to detect clients that churned, we will consider a churned customer those with a Recency above 180 (almost 6 months).\n",
    "\n",
    "This will bring the opportunity to identify customers who was loyal or Champion and now is a lost customer, those are really important customers to recover. Based on the results we consider to add news segmentations."
   ]
  },
  {
   "cell_type": "code",
   "execution_count": 1267,
   "metadata": {},
   "outputs": [
    {
     "name": "stdout",
     "output_type": "stream",
     "text": [
      "Churned Customers Percentage by Cluster (RFM):\n",
      "RFM\n",
      "Champion      0.00\n",
      "Loyal         0.45\n",
      "Passenger    82.15\n",
      "Regular       0.00\n",
      "Name: Churned, dtype: float64\n"
     ]
    }
   ],
   "source": [
    "# Add 'Churned' column: 1 if Recency > 180, else 0\n",
    "customer_data_cleaned['Churned'] = (customer_data_cleaned['Recency'] > 180).astype(int)\n",
    "\n",
    "# Calculate churn percentage per cluster (RFM)\n",
    "churn_percentage_per_cluster = (\n",
    "    customer_data_cleaned.groupby('RFM')['Churned'].mean() * 100\n",
    ").round(2)\n",
    "\n",
    "# Print the result\n",
    "print(\"Churned Customers Percentage by Cluster (RFM):\")\n",
    "print(churn_percentage_per_cluster)"
   ]
  },
  {
   "cell_type": "code",
   "execution_count": 1268,
   "metadata": {},
   "outputs": [
    {
     "name": "stdout",
     "output_type": "stream",
     "text": [
      "Churned Customers Count by Cluster (RFM):\n",
      "RFM\n",
      "Champion       0\n",
      "Loyal          3\n",
      "Passenger    856\n",
      "Regular        0\n",
      "Name: Churned, dtype: int64\n"
     ]
    }
   ],
   "source": [
    "# Count the number of customers in each cluster who have churned\n",
    "churned_counts = customer_data_cleaned.groupby('RFM')['Churned'].sum()\n",
    "\n",
    "# Print the counts\n",
    "print(\"Churned Customers Count by Cluster (RFM):\")\n",
    "print(churned_counts)"
   ]
  },
  {
   "cell_type": "code",
   "execution_count": 1269,
   "metadata": {},
   "outputs": [
    {
     "name": "stdout",
     "output_type": "stream",
     "text": [
      "Churned Customers Count by Cluster (RFM):\n",
      "RFM\n",
      "Champion               0\n",
      "Churned Loyal          3\n",
      "Churned Passenger    856\n",
      "Loyal                  0\n",
      "Passenger              0\n",
      "Regular                0\n",
      "Name: Churned, dtype: int64\n"
     ]
    }
   ],
   "source": [
    "# Relabel RFM for churned customers\n",
    "customer_data_cleaned.loc[customer_data_cleaned['Churned'] == 1, 'RFM'] = (\n",
    "    'Churned ' + customer_data_cleaned.loc[customer_data_cleaned['Churned'] == 1, 'RFM']\n",
    ")\n",
    "\n",
    "# Count the number of customers in each cluster who have churned\n",
    "churned_counts = customer_data_cleaned.groupby('RFM')['Churned'].sum()\n",
    "\n",
    "# Delete the 'Churned' column\n",
    "customer_data_cleaned.drop(columns=['Churned'], inplace=True)\n",
    "\n",
    "# Print the counts\n",
    "print(\"Churned Customers Count by Cluster (RFM):\")\n",
    "print(churned_counts)"
   ]
  },
  {
   "cell_type": "code",
   "execution_count": 1270,
   "metadata": {},
   "outputs": [
    {
     "data": {
      "text/plain": [
       "RFM\n",
       "Regular              57.202409\n",
       "Churned Passenger    19.823993\n",
       "Loyal                15.400648\n",
       "Passenger             4.307550\n",
       "Champion              3.195924\n",
       "Churned Loyal         0.069477\n",
       "Name: proportion, dtype: float64"
      ]
     },
     "execution_count": 1270,
     "metadata": {},
     "output_type": "execute_result"
    }
   ],
   "source": [
    "# Calculate the percentage of customers in each Segment\n",
    "cluster_percentages = customer_data_cleaned['RFM'].value_counts(normalize=True) * 100\n",
    "cluster_percentages"
   ]
  },
  {
   "cell_type": "markdown",
   "metadata": {},
   "source": [
    "### Inferences\n",
    "\n",
    "- The addition of a churn analysis to the RFM segmentation provides critical insights into customer retention and behavior, enabling more targeted marketing strategies.\n",
    "\n",
    "- Customers with a recency greater than 180 days (approximately 6 months) are classified as churned.\n",
    "\n",
    "- The original RFM segmentation has been refined to include churn-specific labels: **Churned + Segment**\n",
    "\n",
    "- There are not (at the moment) but could be Churned Regular and Churned Champions.\n",
    "\n",
    "### **Updated Segmentation:**\n",
    "\n",
    "- **Churned Passenger (19.82%)**: A significant group of disengaged customers who require targeted reactivation efforts.\n",
    "- **Passenger (4.30%)**: Non-churned Passengers, indicating a small group of low-engagement customers who are still active but at risk.\n",
    "- **Regular (57.20%)**: Remains the largest and most stable segment.\n",
    "- **Loyal (15.40%)**: Active, frequent buyers who should be nurtured to maintain loyalty.\n",
    "- **Churned Loyal (0.06%)**: Small but critical group for recovery due to their historical value.\n",
    "- **Champion (3.19%)**: A small but highly valuable group of active, high-spending customers.\n",
    "\n",
    "By integrating churn analysis into the RFM framework, the business to prioritize high-value customer recovery, stabilize the core customer base, and prevent further churn through targeted interventions."
   ]
  },
  {
   "cell_type": "markdown",
   "metadata": {},
   "source": [
    "## Exporting Transactions_cleaned and Customer_data_cleaned"
   ]
  },
  {
   "cell_type": "code",
   "execution_count": 1271,
   "metadata": {},
   "outputs": [],
   "source": [
    "# Exporting Transactions_cleaned and Customer_cleaned\n",
    "customer_data_cleaned.to_csv('Customer_cleaned.csv', index=False)\n",
    "df.to_csv('Transactions_cleaned.csv', index=False)"
   ]
  },
  {
   "cell_type": "markdown",
   "metadata": {},
   "source": [
    "## Conclusions\n",
    "\n",
    "**In this analysis, we cleaned the retail dataset by Handling:**\n",
    "- Missing values.\n",
    "- Duplicates.\n",
    "- Stock code corrections.\n",
    "- Cancelled transactions adding Transaction_Status Column\n",
    "- Zero unit prices.\n",
    "- Adding Total Price Column.\n",
    "\n",
    "**We create and engineered RFM and additional features for customer insights, such as:**\n",
    "- **Recency:** The number of days that have passed since the customer's last purchase.\n",
    "- **Total_Transactions:** The total number of transactions made by the customer.\n",
    "- **Total_Products_Purchased:** The total quantity of products purchased by the customer across all transactions.\n",
    "- **Total_Spend:** The total amount of money the customer has spent across all transactions.\n",
    "- **Average_Transaction_Value:** The average value of the customer's transactions, calculated as total spend divided by transactions.\n",
    "- **Unique_Products_Purchased:** The number of different products the customer has purchased.\n",
    "- **Cancellation_Frequency:** The total number of transactions that the customer has cancelled.\n",
    "- **Cancellation_Rate:** The proportion of transactions that the customer has cancelled, calculated as cancellations/total.\n",
    "- **Monthly_Spending_Mean:** The average monthly spending of the customer.\n",
    "- **Monthly_Spending_Std:** The standard deviation of the customer's monthly spending, indicating variability.\n",
    "\n",
    "**Followed by:**\n",
    "- Outlier detection\n",
    "- Correlation analysis\n",
    "- Scaling the data.\n",
    "- Determining the Optimal Number of Clusters\n",
    "- Application of KMeans clustering to segment customers using **Recency**, **Total_Transactions**, **Total_Spend** columns (RFM features).\n",
    "- Refined the segmentation with churn analysis (recency > 180 days)\n",
    "- Exported the cleaned transactions and customer data.\n",
    "\n",
    "### Customer Data Description\n",
    "\n",
    "The final Customer Data Description including RFM Segmentation.\n",
    "\n",
    "| **Feature**                    | **Description**                                                                                      |\n",
    "|--------------------------------|------------------------------------------------------------------------------------------------------|\n",
    "| **Customer ID**                | Identifier uniquely assigned to each customer, used to distinguish individual customers.             |\n",
    "| **Recency**                    | The number of days that have passed since the customer's last purchase.                             |\n",
    "| **Total_Transactions**         | The total number of transactions made by the customer.                                              |\n",
    "| **Total_Products_Purchased**   | The total quantity of products purchased by the customer across all transactions.                   |\n",
    "| **Total_Spend**                | The total amount of money the customer has spent across all transactions.                           |\n",
    "| **Average_Transaction_Value**  | The average value of the customer's transactions, calculated as total spend divided by transactions. |\n",
    "| **Unique_Products_Purchased**  | The number of different products the customer has purchased.                                        |\n",
    "| **Cancellation_Frequency**     | The total number of transactions that the customer has cancelled.                                   |\n",
    "| **Cancellation_Rate**          | The proportion of transactions that the customer has cancelled, calculated as cancellations/total.  |\n",
    "| **Monthly_Spending_Mean**      | The average monthly spending of the customer.                                                       |\n",
    "| **Monthly_Spending_Std**       | The standard deviation of the customer's monthly spending, indicating variability.                  |\n",
    "| **RFM**                        | The customer segmentation category derived from Recency, Total_Transactions, and Total_Spend, indicating the customer's value and engagement level, such as 'Champion', 'Loyal', 'Regular', or 'Passenger'. This has been refined to integrate churn analysis, classifying customers with a recency greater than 180 days (approximately 6 months) as churned and adding churn-specific labels: Churned + Segment. |\n",
    "\n",
    "### Percentage and description of RFM Segmentations:\n",
    "- **Churned Passenger (19.82%)**: A significant group of disengaged customers who require targeted reactivation efforts.\n",
    "- **Passenger (4.30%)**: Non-churned Passengers, indicating a small group of low-engagement customers who are still active but at risk.\n",
    "- **Regular (57.20%)**: Remains the largest and most stable segment.\n",
    "- **Loyal (15.40%)**: Active, frequent buyers who should be nurtured to maintain loyalty.\n",
    "- **Churned Loyal (0.06%)**: Small but critical group for recovery due to their historical value.\n",
    "- **Champion (3.19%)**: A small but highly valuable group of active, high-spending customers.\n",
    "\n",
    "This segmentation offers actionable insights into customer behavior, supporting targeted marketing to boost retention and sales."
   ]
  }
 ],
 "metadata": {
  "kernelspec": {
   "display_name": "env",
   "language": "python",
   "name": "python3"
  },
  "language_info": {
   "codemirror_mode": {
    "name": "ipython",
    "version": 3
   },
   "file_extension": ".py",
   "mimetype": "text/x-python",
   "name": "python",
   "nbconvert_exporter": "python",
   "pygments_lexer": "ipython3",
   "version": "3.12.2"
  }
 },
 "nbformat": 4,
 "nbformat_minor": 2
}
