{
 "cells": [
  {
   "cell_type": "markdown",
   "metadata": {},
   "source": [
    "# Customer RFM Segmentation for E-Commerce\n",
    "\n",
    "This project utilizes the RFM (Recency, Frequency, Monetary) method to segment customers of a UK-based online retailer using transactional data between 01/12/2010 and 09/12/2011. Through data analysis and clustering algorithms, we transform raw data into actionable customer profiles, enabling optimized marketing strategies, improved customer retention, and increased sales by identifying and understanding the purchasing behavior of the most valuable customers.\n",
    "\n",
    "Results are visualized in a [Looker Studio dashboard](https://lookerstudio.google.com/s/kaK3n1F1tMA)\n",
    "\n",
    "### Opportunity\n",
    "\n",
    "The dataset encompasses transactions recorded between 2010 and 2011. Our main goal is to enhance marketing effectiveness and increase sales through customer segmentation. To achieve this, we transform the raw transactional data into a customer-focused format by engineering new features that support the identification of distinct customer segments using clustering algorithms.\n",
    "\n",
    "This segmentation enables us to uncover unique customer profiles and gain insights into their behaviors and preferences.\n",
    "\n"
   ]
  },
  {
   "cell_type": "markdown",
   "metadata": {},
   "source": [
    "### **Dataset Description:**\n",
    "\n",
    "The dataset consist of 541,909 entries and 8 columns.\n",
    "\n",
    "| **Column**    | **Description**                                                                                   |\n",
    "|----------------|---------------------------------------------------------------------------------------------------|\n",
    "| Invoice        | Code representing each unique transaction. If this code starts with letter 'C', it indicates a cancellation. |\n",
    "| StockCode      | Code uniquely assigned to each distinct product.                                                  |\n",
    "| Description    | Description of each product.                                                                      |\n",
    "| Quantity       | The number of units of a product in a transaction.                                                |\n",
    "| InvoiceDate    | The date and time of the transaction.                                                             |\n",
    "| Price          | The unit price of the product in sterling.                                                        |\n",
    "| Customer ID     | Identifier uniquely assigned to each customer.                                                   |\n",
    "| Country        | The country where each transaction took place.                                                   |\n"
   ]
  },
  {
   "cell_type": "markdown",
   "metadata": {},
   "source": [
    "## Setup and Initialization"
   ]
  },
  {
   "cell_type": "code",
   "execution_count": 1,
   "metadata": {},
   "outputs": [],
   "source": [
    "# Importing necessary libraries\n",
    "import pandas as pd\n",
    "import numpy as np\n",
    "import matplotlib.pyplot as plt\n",
    "from plotly.offline import iplot\n",
    "\n",
    "import warnings\n",
    "warnings.filterwarnings('ignore')"
   ]
  },
  {
   "cell_type": "markdown",
   "metadata": {},
   "source": [
    "## Initial Data Analysis"
   ]
  },
  {
   "cell_type": "code",
   "execution_count": 2,
   "metadata": {},
   "outputs": [
    {
     "data": {
      "text/html": [
       "<div>\n",
       "<style scoped>\n",
       "    .dataframe tbody tr th:only-of-type {\n",
       "        vertical-align: middle;\n",
       "    }\n",
       "\n",
       "    .dataframe tbody tr th {\n",
       "        vertical-align: top;\n",
       "    }\n",
       "\n",
       "    .dataframe thead th {\n",
       "        text-align: right;\n",
       "    }\n",
       "</style>\n",
       "<table border=\"1\" class=\"dataframe\">\n",
       "  <thead>\n",
       "    <tr style=\"text-align: right;\">\n",
       "      <th></th>\n",
       "      <th>Invoice</th>\n",
       "      <th>StockCode</th>\n",
       "      <th>Description</th>\n",
       "      <th>Quantity</th>\n",
       "      <th>InvoiceDate</th>\n",
       "      <th>Price</th>\n",
       "      <th>Customer ID</th>\n",
       "      <th>Country</th>\n",
       "    </tr>\n",
       "  </thead>\n",
       "  <tbody>\n",
       "    <tr>\n",
       "      <th>0</th>\n",
       "      <td>536365</td>\n",
       "      <td>85123A</td>\n",
       "      <td>WHITE HANGING HEART T-LIGHT HOLDER</td>\n",
       "      <td>6</td>\n",
       "      <td>2010-12-01 08:26:00</td>\n",
       "      <td>2.55</td>\n",
       "      <td>17850.0</td>\n",
       "      <td>United Kingdom</td>\n",
       "    </tr>\n",
       "    <tr>\n",
       "      <th>1</th>\n",
       "      <td>536365</td>\n",
       "      <td>71053</td>\n",
       "      <td>WHITE METAL LANTERN</td>\n",
       "      <td>6</td>\n",
       "      <td>2010-12-01 08:26:00</td>\n",
       "      <td>3.39</td>\n",
       "      <td>17850.0</td>\n",
       "      <td>United Kingdom</td>\n",
       "    </tr>\n",
       "    <tr>\n",
       "      <th>2</th>\n",
       "      <td>536365</td>\n",
       "      <td>84406B</td>\n",
       "      <td>CREAM CUPID HEARTS COAT HANGER</td>\n",
       "      <td>8</td>\n",
       "      <td>2010-12-01 08:26:00</td>\n",
       "      <td>2.75</td>\n",
       "      <td>17850.0</td>\n",
       "      <td>United Kingdom</td>\n",
       "    </tr>\n",
       "    <tr>\n",
       "      <th>3</th>\n",
       "      <td>536365</td>\n",
       "      <td>84029G</td>\n",
       "      <td>KNITTED UNION FLAG HOT WATER BOTTLE</td>\n",
       "      <td>6</td>\n",
       "      <td>2010-12-01 08:26:00</td>\n",
       "      <td>3.39</td>\n",
       "      <td>17850.0</td>\n",
       "      <td>United Kingdom</td>\n",
       "    </tr>\n",
       "    <tr>\n",
       "      <th>4</th>\n",
       "      <td>536365</td>\n",
       "      <td>84029E</td>\n",
       "      <td>RED WOOLLY HOTTIE WHITE HEART.</td>\n",
       "      <td>6</td>\n",
       "      <td>2010-12-01 08:26:00</td>\n",
       "      <td>3.39</td>\n",
       "      <td>17850.0</td>\n",
       "      <td>United Kingdom</td>\n",
       "    </tr>\n",
       "  </tbody>\n",
       "</table>\n",
       "</div>"
      ],
      "text/plain": [
       "  Invoice StockCode                          Description  Quantity  \\\n",
       "0  536365    85123A   WHITE HANGING HEART T-LIGHT HOLDER         6   \n",
       "1  536365     71053                  WHITE METAL LANTERN         6   \n",
       "2  536365    84406B       CREAM CUPID HEARTS COAT HANGER         8   \n",
       "3  536365    84029G  KNITTED UNION FLAG HOT WATER BOTTLE         6   \n",
       "4  536365    84029E       RED WOOLLY HOTTIE WHITE HEART.         6   \n",
       "\n",
       "          InvoiceDate  Price  Customer ID         Country  \n",
       "0 2010-12-01 08:26:00   2.55      17850.0  United Kingdom  \n",
       "1 2010-12-01 08:26:00   3.39      17850.0  United Kingdom  \n",
       "2 2010-12-01 08:26:00   2.75      17850.0  United Kingdom  \n",
       "3 2010-12-01 08:26:00   3.39      17850.0  United Kingdom  \n",
       "4 2010-12-01 08:26:00   3.39      17850.0  United Kingdom  "
      ]
     },
     "execution_count": 2,
     "metadata": {},
     "output_type": "execute_result"
    }
   ],
   "source": [
    "# Load the dataset and dataset overview\n",
    "df = pd.read_excel('online_retail_II.xlsx', sheet_name='Year 2010-2011')\n",
    "df.head()"
   ]
  },
  {
   "cell_type": "code",
   "execution_count": 3,
   "metadata": {},
   "outputs": [
    {
     "name": "stdout",
     "output_type": "stream",
     "text": [
      "<class 'pandas.core.frame.DataFrame'>\n",
      "RangeIndex: 541910 entries, 0 to 541909\n",
      "Data columns (total 8 columns):\n",
      " #   Column       Non-Null Count   Dtype         \n",
      "---  ------       --------------   -----         \n",
      " 0   Invoice      541910 non-null  object        \n",
      " 1   StockCode    541910 non-null  object        \n",
      " 2   Description  540456 non-null  object        \n",
      " 3   Quantity     541910 non-null  int64         \n",
      " 4   InvoiceDate  541910 non-null  datetime64[ns]\n",
      " 5   Price        541910 non-null  float64       \n",
      " 6   Customer ID  406830 non-null  float64       \n",
      " 7   Country      541910 non-null  object        \n",
      "dtypes: datetime64[ns](1), float64(2), int64(1), object(4)\n",
      "memory usage: 33.1+ MB\n"
     ]
    }
   ],
   "source": [
    "df.info()"
   ]
  },
  {
   "cell_type": "markdown",
   "metadata": {},
   "source": [
    "## Data Cleaning and Transformation\n",
    "\n",
    "### Handling Missing Values"
   ]
  },
  {
   "cell_type": "code",
   "execution_count": 4,
   "metadata": {},
   "outputs": [
    {
     "data": {
      "text/plain": [
       "Customer ID    24.926648\n",
       "Description     0.268310\n",
       "dtype: float64"
      ]
     },
     "execution_count": 4,
     "metadata": {},
     "output_type": "execute_result"
    }
   ],
   "source": [
    "# Percetage of missing values\n",
    "missing_percentage = df[['Customer ID', 'Description']].isnull() \\\n",
    "    .mean() * 100\n",
    "\n",
    "missing_percentage"
   ]
  },
  {
   "cell_type": "code",
   "execution_count": 5,
   "metadata": {},
   "outputs": [],
   "source": [
    "# Saving the missing values to a CSV file\n",
    "missing_values = df[['Customer ID', 'Description']].isnull().to_csv('missing_values.csv', index=False)\n",
    "\n",
    "# Drop missing values\n",
    "df.dropna(inplace = True)"
   ]
  },
  {
   "cell_type": "markdown",
   "metadata": {},
   "source": [
    "**Customer ID (24.93% missing values) and Description (0.27% missing values)** \n",
    "- Both columns are essential for clustering customers. Therefore, missing values in the dataset are removed."
   ]
  },
  {
   "cell_type": "markdown",
   "metadata": {},
   "source": [
    "### Handling Duplicates"
   ]
  },
  {
   "cell_type": "code",
   "execution_count": 6,
   "metadata": {},
   "outputs": [
    {
     "name": "stdout",
     "output_type": "stream",
     "text": [
      "The dataset contains 5225 duplicate rows that need to be removed.\n"
     ]
    }
   ],
   "source": [
    "# Displaying the number of duplicate rows\n",
    "print(f\"The dataset contains {df.duplicated().sum()} duplicate rows that need to be removed.\")"
   ]
  },
  {
   "cell_type": "code",
   "execution_count": 7,
   "metadata": {},
   "outputs": [
    {
     "name": "stdout",
     "output_type": "stream",
     "text": [
      "<class 'pandas.core.frame.DataFrame'>\n",
      "Index: 401605 entries, 0 to 541909\n",
      "Data columns (total 8 columns):\n",
      " #   Column       Non-Null Count   Dtype         \n",
      "---  ------       --------------   -----         \n",
      " 0   Invoice      401605 non-null  object        \n",
      " 1   StockCode    401605 non-null  object        \n",
      " 2   Description  401605 non-null  object        \n",
      " 3   Quantity     401605 non-null  int64         \n",
      " 4   InvoiceDate  401605 non-null  datetime64[ns]\n",
      " 5   Price        401605 non-null  float64       \n",
      " 6   Customer ID  401605 non-null  float64       \n",
      " 7   Country      401605 non-null  object        \n",
      "dtypes: datetime64[ns](1), float64(2), int64(1), object(4)\n",
      "memory usage: 27.6+ MB\n"
     ]
    }
   ],
   "source": [
    "# Drop duplicated rows\n",
    "df.drop_duplicates(inplace = True)\n",
    "df.info()"
   ]
  },
  {
   "cell_type": "markdown",
   "metadata": {},
   "source": [
    "**10,062 Duplicates rows**\n",
    "- The presence of identical transaction times, suggests that these might be data recording errors rather than genuine repeated transactions. Therefore, duplicate rows must be removed."
   ]
  },
  {
   "cell_type": "markdown",
   "metadata": {},
   "source": [
    "### Identifying Stock Codes"
   ]
  },
  {
   "cell_type": "code",
   "execution_count": 8,
   "metadata": {},
   "outputs": [
    {
     "name": "stdout",
     "output_type": "stream",
     "text": [
      "Number of unique StockCodes: 3684\n"
     ]
    }
   ],
   "source": [
    "# Number of unique StockCodes\n",
    "nunique_stock_codes = df['StockCode'].nunique()\n",
    "print(f\"Number of unique StockCodes: {nunique_stock_codes}\")"
   ]
  },
  {
   "cell_type": "code",
   "execution_count": 9,
   "metadata": {},
   "outputs": [
    {
     "data": {
      "image/png": "[encoded data removed]",
      "text/plain": [
       "<Figure size 1200x500 with 1 Axes>"
      ]
     },
     "metadata": {},
     "output_type": "display_data"
    }
   ],
   "source": [
    "# Finding the top 10 most frequent stock codes\n",
    "top_10_stock_codes = df['StockCode'].value_counts(normalize=True).head(10) * 100\n",
    "\n",
    "# Plotting the top 10 most frequent stock codes\n",
    "plt.figure(figsize=(12, 5))\n",
    "top_10_stock_codes.plot(kind='barh', color='#1C9BF9')\n",
    "\n",
    "# Adding the percentage frequency on the bars\n",
    "for index, value in enumerate(top_10_stock_codes):\n",
    "    plt.text(value, index+0.25, f'{value:.2f}%', fontsize=10)\n",
    "\n",
    "plt.title('Top 10 Most Frequent Stock Codes')\n",
    "plt.xlabel('Percentage Frequency (%)')\n",
    "plt.ylabel('Stock Codes')\n",
    "plt.gca().invert_yaxis()\n",
    "plt.show()"
   ]
  },
  {
   "cell_type": "code",
   "execution_count": 10,
   "metadata": {},
   "outputs": [
    {
     "data": {
      "text/plain": [
       "5    3676\n",
       "0       7\n",
       "1       1\n",
       "Name: count, dtype: int64"
      ]
     },
     "execution_count": 10,
     "metadata": {},
     "output_type": "execute_result"
    }
   ],
   "source": [
    "# Values of numeric characteres in unique stock codes\n",
    "unique_stock_codes = df['StockCode'].unique()\n",
    "numeric_char_counts_in_unique_codes = pd.Series(unique_stock_codes).apply(lambda x: sum(c.isdigit() for c in str(x))).value_counts()\n",
    "numeric_char_counts_in_unique_codes"
   ]
  },
  {
   "cell_type": "code",
   "execution_count": 11,
   "metadata": {},
   "outputs": [
    {
     "name": "stdout",
     "output_type": "stream",
     "text": [
      "POST\n",
      "D\n",
      "C2\n",
      "M\n",
      "BANK CHARGES\n",
      "PADS\n",
      "DOT\n",
      "CRUK\n"
     ]
    }
   ],
   "source": [
    "# Anomalous stock codes\n",
    "anomalous_stock_codes = [code for code in unique_stock_codes if sum(c.isdigit() for c in str(code)) in (0, 1)]\n",
    "\n",
    "for code in anomalous_stock_codes:\n",
    "    print(code)"
   ]
  },
  {
   "cell_type": "code",
   "execution_count": 12,
   "metadata": {},
   "outputs": [
    {
     "name": "stdout",
     "output_type": "stream",
     "text": [
      "Percentage of records with anomalous stock codes: 0.48%\n"
     ]
    }
   ],
   "source": [
    "# Calculating the percentage of records with anomalous stock codes\n",
    "percentage_anomalous_stock_codes = len(df[df['StockCode'].isin(anomalous_stock_codes)]) / len(df) * 100\n",
    "print(f\"Percentage of records with anomalous stock codes: {percentage_anomalous_stock_codes:.2f}%\")"
   ]
  },
  {
   "cell_type": "code",
   "execution_count": 13,
   "metadata": {},
   "outputs": [
    {
     "data": {
      "text/plain": [
       "399689"
      ]
     },
     "execution_count": 13,
     "metadata": {},
     "output_type": "execute_result"
    }
   ],
   "source": [
    "# Removing rows with anomalous stock codes\n",
    "df = df[~df['StockCode'].isin(anomalous_stock_codes)]\n",
    "\n",
    "len(df)"
   ]
  },
  {
   "cell_type": "markdown",
   "metadata": {},
   "source": [
    "### Inferences on Stock Codes:\n",
    "\n",
    "- **Product Variety:** The dataset contains 3684 unique stock codes. This diversity can potentially lead to the identification of distinct customers clusters, with preferences for different types of products.\n",
    "\n",
    "- **Most Frequent Stock Codes:** A closer look at the top 10 most frequent stock codes can offer insights into the popular products or categories that are frequently purchased by customers.\n",
    "\n",
    "- **Stock Codes Anomalies:** We observe that while most stock codes are composed of 5 or 6 characters, there are some anomalies like the code 'BANK CHANGES', 'POST' (perhaps postage fees) These anomalies might represent services or non-product transactions rather than actual products.\n",
    "\n",
    "- **Percentage of records with anomalous Stock Codes:** Only 0.48%, have anomalous stock codes, which deviate from the typical format observed in the majority of the data.\n",
    "\n",
    "We remove the anomalous stock codes since there's a negligible amount of stock codes"
   ]
  },
  {
   "cell_type": "markdown",
   "metadata": {},
   "source": [
    "### Handling Cancelled Transactions"
   ]
  },
  {
   "cell_type": "code",
   "execution_count": 14,
   "metadata": {},
   "outputs": [
    {
     "data": {
      "text/html": [
       "<div>\n",
       "<style scoped>\n",
       "    .dataframe tbody tr th:only-of-type {\n",
       "        vertical-align: middle;\n",
       "    }\n",
       "\n",
       "    .dataframe tbody tr th {\n",
       "        vertical-align: top;\n",
       "    }\n",
       "\n",
       "    .dataframe thead th {\n",
       "        text-align: right;\n",
       "    }\n",
       "</style>\n",
       "<table border=\"1\" class=\"dataframe\">\n",
       "  <thead>\n",
       "    <tr style=\"text-align: right;\">\n",
       "      <th></th>\n",
       "      <th>Quantity</th>\n",
       "      <th>Price</th>\n",
       "    </tr>\n",
       "  </thead>\n",
       "  <tbody>\n",
       "    <tr>\n",
       "      <th>count</th>\n",
       "      <td>8506.000000</td>\n",
       "      <td>8506.000000</td>\n",
       "    </tr>\n",
       "    <tr>\n",
       "      <th>mean</th>\n",
       "      <td>-31.473195</td>\n",
       "      <td>4.440148</td>\n",
       "    </tr>\n",
       "    <tr>\n",
       "      <th>min</th>\n",
       "      <td>-80995.000000</td>\n",
       "      <td>0.030000</td>\n",
       "    </tr>\n",
       "    <tr>\n",
       "      <th>25%</th>\n",
       "      <td>-6.000000</td>\n",
       "      <td>1.450000</td>\n",
       "    </tr>\n",
       "    <tr>\n",
       "      <th>50%</th>\n",
       "      <td>-2.000000</td>\n",
       "      <td>2.550000</td>\n",
       "    </tr>\n",
       "    <tr>\n",
       "      <th>75%</th>\n",
       "      <td>-1.000000</td>\n",
       "      <td>4.950000</td>\n",
       "    </tr>\n",
       "    <tr>\n",
       "      <th>max</th>\n",
       "      <td>-1.000000</td>\n",
       "      <td>295.000000</td>\n",
       "    </tr>\n",
       "    <tr>\n",
       "      <th>std</th>\n",
       "      <td>1197.051599</td>\n",
       "      <td>9.199140</td>\n",
       "    </tr>\n",
       "  </tbody>\n",
       "</table>\n",
       "</div>"
      ],
      "text/plain": [
       "           Quantity        Price\n",
       "count   8506.000000  8506.000000\n",
       "mean     -31.473195     4.440148\n",
       "min   -80995.000000     0.030000\n",
       "25%       -6.000000     1.450000\n",
       "50%       -2.000000     2.550000\n",
       "75%       -1.000000     4.950000\n",
       "max       -1.000000   295.000000\n",
       "std     1197.051599     9.199140"
      ]
     },
     "execution_count": 14,
     "metadata": {},
     "output_type": "execute_result"
    }
   ],
   "source": [
    "# Filter out the rows with Invoice values that start with 'C' and create a new column 'Transaction_Status' indicating the status of the transaction\n",
    "df['Transaction_Status'] = np.where(df['Invoice'].astype(str).str.startswith('C'), 'Cancelled', 'Completed')\n",
    "\n",
    "# Analyze the 'Cancelled' transactions\n",
    "cancelled_transactions = df[df['Transaction_Status'] == 'Cancelled']\n",
    "cancelled_transactions.describe().drop(['Customer ID', 'InvoiceDate'], axis=1)"
   ]
  },
  {
   "cell_type": "code",
   "execution_count": 15,
   "metadata": {},
   "outputs": [
    {
     "name": "stdout",
     "output_type": "stream",
     "text": [
      "Shape of transactions with TotalPrice negative: (8506, 10)\n",
      "Sum of TotalPrice with negative values: -471750.7100000001\n",
      "Sum of TotalPrice with Transaction_Status as Cancelled: -471750.7100000001\n"
     ]
    }
   ],
   "source": [
    "# Total price of each transaction\n",
    "df['TotalPrice'] = df['Quantity'] * df['Price']\n",
    "\n",
    "# Check shape of transactions with TotalPrice negative\n",
    "print(f'Shape of transactions with TotalPrice negative: {df[df[\"TotalPrice\"] < 0].shape}')\n",
    "\n",
    "# Check sum of TotalPrice with negative values\n",
    "print(f'Sum of TotalPrice with negative values: {df[df[\"TotalPrice\"] < 0][\"TotalPrice\"].sum()}')\n",
    "\n",
    "# Check sum of TotalPrice with Transaction_Status as Cancelled\n",
    "print(f'Sum of TotalPrice with Transaction_Status as Cancelled: {df[df[\"Transaction_Status\"] == \"Cancelled\"][\"TotalPrice\"].sum()}')"
   ]
  },
  {
   "cell_type": "code",
   "execution_count": 16,
   "metadata": {},
   "outputs": [
    {
     "data": {
      "text/plain": [
       "2.128154640232781"
      ]
     },
     "execution_count": 16,
     "metadata": {},
     "output_type": "execute_result"
    }
   ],
   "source": [
    "# Cancelled transactions percentage\n",
    "cancelled_percentage = (cancelled_transactions.shape[0] / df.shape[0]) * 100\n",
    "cancelled_percentage"
   ]
  },
  {
   "cell_type": "markdown",
   "metadata": {},
   "source": [
    "### Inferences\n",
    "\n",
    "- We can see that even thought the percentage of cancelled transactions is low, the total money is signiflicantly high.\n",
    "\n",
    "The strategy is to retain these cancelled transactions in the dataset, marking them distinctly to facilitate further analysis. This approach will:\n",
    "\n",
    "- Enhance feature engineering metrics.\n",
    "- The sum of total spend by customer will be balanced with the transaction of order in the first place.\n",
    "- Identify products with high cancellation rating."
   ]
  },
  {
   "cell_type": "markdown",
   "metadata": {},
   "source": [
    "### Cleaning Description Column"
   ]
  },
  {
   "cell_type": "code",
   "execution_count": 17,
   "metadata": {},
   "outputs": [
    {
     "data": {
      "image/png": "[encoded data removed]",
      "text/plain": [
       "<Figure size 1200x800 with 1 Axes>"
      ]
     },
     "metadata": {},
     "output_type": "display_data"
    }
   ],
   "source": [
    "# Calculate the occurrence of each unique description and sort them\n",
    "description_counts = df['Description'].value_counts()\n",
    "\n",
    "# Get the top 30 descriptions\n",
    "top_30_descriptions = description_counts[:30]\n",
    "\n",
    "# Plotting\n",
    "plt.figure(figsize=(12,8))\n",
    "plt.barh(top_30_descriptions.index[::-1], top_30_descriptions.values[::-1], color='#1C9BF9')\n",
    "\n",
    "# Adding labels and title\n",
    "plt.xlabel('Number of Occurrences')\n",
    "plt.ylabel('Description')\n",
    "plt.title('Top 30 Most Frequent Descriptions')\n",
    "\n",
    "# Show the plot\n",
    "plt.show()"
   ]
  },
  {
   "cell_type": "code",
   "execution_count": 18,
   "metadata": {},
   "outputs": [
    {
     "name": "stdout",
     "output_type": "stream",
     "text": [
      "Unique descriptions containing lowercase letters:\n",
      "--------------------------------------------------\n",
      "BAG 500g SWIRLY MARBLES\n",
      "POLYESTER FILLER PAD 45x45cm\n",
      "POLYESTER FILLER PAD 45x30cm\n",
      "POLYESTER FILLER PAD 40x40cm\n",
      "FRENCH BLUE METAL DOOR SIGN No\n",
      "BAG 250g SWIRLY MARBLES\n",
      "BAG 125g SWIRLY MARBLES\n",
      "3 TRADITIONAl BISCUIT CUTTERS  SET\n",
      "NUMBER TILE COTTAGE GARDEN No\n",
      "FOLK ART GREETING CARD,pack/12\n",
      "ESSENTIAL BALM 3.5g TIN IN ENVELOPE\n",
      "POLYESTER FILLER PAD 65CMx65CM\n",
      "NUMBER TILE VINTAGE FONT No \n",
      "POLYESTER FILLER PAD 30CMx30CM\n",
      "POLYESTER FILLER PAD 60x40cm\n",
      "FLOWERS HANDBAG blue and orange\n",
      "Next Day Carriage\n",
      "THE KING GIFT BAG 25x24x12cm\n",
      "High Resolution Image\n"
     ]
    }
   ],
   "source": [
    "# Finding unique descriptions containing lowercase letters\n",
    "lowercase_descriptions = df['Description'].unique()\n",
    "lowercase_descriptions = [desc for desc in lowercase_descriptions if any(c.islower() for c in str(desc))]\n",
    "\n",
    "print(\"Unique descriptions containing lowercase letters:\")\n",
    "print(\"-\" * 50)\n",
    "for desc in lowercase_descriptions:\n",
    "    print(desc)"
   ]
  },
  {
   "cell_type": "code",
   "execution_count": 19,
   "metadata": {},
   "outputs": [
    {
     "name": "stdout",
     "output_type": "stream",
     "text": [
      "Number of records with service descriptions: 83\n",
      "Percentage of records with service descriptions: 0.02%\n"
     ]
    }
   ],
   "source": [
    "# Calculating the number and percentage of records with service descriptions\n",
    "service_descriptions = [\"Next Day Carriage\", \"High Resolution Image\"]\n",
    "\n",
    "number_service_descriptions = df[df['Description'].isin(service_descriptions)].shape[0]\n",
    "percentage_service_descriptions = (number_service_descriptions / df.shape[0]) * 100\n",
    "print(f\"Number of records with service descriptions: {number_service_descriptions}\")\n",
    "print(f\"Percentage of records with service descriptions: {percentage_service_descriptions:.2f}%\")\n",
    "\n",
    "# Removing rows with descriptions containing service descriptions\n",
    "df = df[~df['Description'].isin(service_descriptions)]"
   ]
  },
  {
   "cell_type": "code",
   "execution_count": 20,
   "metadata": {},
   "outputs": [
    {
     "data": {
      "text/plain": [
       "399606"
      ]
     },
     "execution_count": 20,
     "metadata": {},
     "output_type": "execute_result"
    }
   ],
   "source": [
    "df.shape[0]"
   ]
  },
  {
   "cell_type": "markdown",
   "metadata": {},
   "source": [
    "### Inferences\n",
    "\n",
    "- The most frequent descriptions are generally household items, particularly those associated with kitchenware, lunch bags, and decorative items.\n",
    "\n",
    "- All the descriptions are in uppercase, which might be a standardized format for entering product descriptions in the database. It would be prudent to check if there are descriptions entered in lowercase or a mix of case styles.\n",
    "\n",
    "- Upon reviewing the descriptions that contain lowecase characters, it is evident that some entries are not product descriptions, such as \"Next Day Carriage\" and \"High Resolution Image\". Therefore, we removed rows with this descriptions."
   ]
  },
  {
   "cell_type": "markdown",
   "metadata": {},
   "source": [
    "## Comparing Stock Codes with Descriptions"
   ]
  },
  {
   "cell_type": "code",
   "execution_count": 21,
   "metadata": {},
   "outputs": [
    {
     "data": {
      "text/plain": [
       "{'Invoice': 21784,\n",
       " 'StockCode': 3674,\n",
       " 'Description': 3886,\n",
       " 'Quantity': 432,\n",
       " 'InvoiceDate': 20132,\n",
       " 'Price': 370,\n",
       " 'Customer ID': 4363,\n",
       " 'Country': 37,\n",
       " 'Transaction_Status': 2,\n",
       " 'TotalPrice': 3756}"
      ]
     },
     "execution_count": 21,
     "metadata": {},
     "output_type": "execute_result"
    }
   ],
   "source": [
    "# Unique values in each column\n",
    "{columns: len(df[columns].unique()) for columns in df.columns}"
   ]
  },
  {
   "cell_type": "code",
   "execution_count": 22,
   "metadata": {},
   "outputs": [
    {
     "name": "stdout",
     "output_type": "stream",
     "text": [
      "Descriptions shared by multiple StockCodes:\n",
      "--------------------------------------------------\n",
      "                          Description  StockCode_Count\n",
      "827      COLOURING PENCILS BROWN TUBE                2\n",
      "829        COLUMBIAN CANDLE RECTANGLE                2\n",
      "830            COLUMBIAN CANDLE ROUND                2\n",
      "1080  EAU DE NILE JEWELLED PHOTOFRAME                2\n",
      "1324     FRENCH FLORAL CUSHION COVER                 2\n",
      "1327    FRENCH LATTICE CUSHION COVER                 2\n",
      "1345              FROSTED WHITE BASE                 2\n",
      "2018   METAL SIGN,CUPCAKE SINGLE HOOK                3\n",
      "2332  PAPER LANTERN 9 POINT SNOW STAR                2\n",
      "2461    PINK FAIRY CAKE CUSHION COVER                2\n",
      "2466    PINK FLOCK GLASS CANDLEHOLDER                2\n",
      "2472       PINK FLOWERS RABBIT EASTER                2\n",
      "2796          RETRO PLASTIC 70'S TRAY                2\n",
      "2797         RETRO PLASTIC DAISY TRAY                2\n",
      "2799         RETRO PLASTIC POLKA TRAY                2\n",
      "2872     ROUND BLUE CLOCK WITH SUCKER                2\n",
      "3331    SQUARE CHERRY BLOSSOM CABINET                2\n",
      "3355         STORAGE TIN VINTAGE LEAF                2\n",
      "3685      WHITE BAMBOO RIBS LAMPSHADE                2\n",
      "\n",
      "StockCode details with shared descriptions:\n",
      "--------------------------------------------------\n",
      "       StockCode                      Description\n",
      "741        10133     COLOURING PENCILS BROWN TUBE\n",
      "3330       10135     COLOURING PENCILS BROWN TUBE\n",
      "3951       72133       COLUMBIAN CANDLE RECTANGLE\n",
      "12120      72131       COLUMBIAN CANDLE RECTANGLE\n",
      "7070       72130           COLUMBIAN CANDLE ROUND\n",
      "7071       72128           COLUMBIAN CANDLE ROUND\n",
      "75983     85024B  EAU DE NILE JEWELLED PHOTOFRAME\n",
      "37504     85023B  EAU DE NILE JEWELLED PHOTOFRAME\n",
      "170525     20840     FRENCH FLORAL CUSHION COVER \n",
      "93898      20837     FRENCH FLORAL CUSHION COVER \n",
      "172798     20838    FRENCH LATTICE CUSHION COVER \n",
      "172505     20835    FRENCH LATTICE CUSHION COVER \n",
      "29965      79403              FROSTED WHITE BASE \n",
      "91904      79406              FROSTED WHITE BASE \n",
      "29818     82613C   METAL SIGN,CUPCAKE SINGLE HOOK\n",
      "39555     82613A   METAL SIGN,CUPCAKE SINGLE HOOK\n",
      "9276      82613B   METAL SIGN,CUPCAKE SINGLE HOOK\n",
      "171346     23041  PAPER LANTERN 9 POINT SNOW STAR\n",
      "176849     23040  PAPER LANTERN 9 POINT SNOW STAR\n",
      "12796     47586A    PINK FAIRY CAKE CUSHION COVER\n",
      "42403     47585A    PINK FAIRY CAKE CUSHION COVER\n",
      "31758      79329    PINK FLOCK GLASS CANDLEHOLDER\n",
      "95347      79331    PINK FLOCK GLASS CANDLEHOLDER\n",
      "125020    35910B       PINK FLOWERS RABBIT EASTER\n",
      "89682     35909B       PINK FLOWERS RABBIT EASTER\n",
      "9170      79190A          RETRO PLASTIC 70'S TRAY\n",
      "64593     79192A          RETRO PLASTIC 70'S TRAY\n",
      "10013     79190D         RETRO PLASTIC DAISY TRAY\n",
      "67929     79191D         RETRO PLASTIC DAISY TRAY\n",
      "20476     79190B         RETRO PLASTIC POLKA TRAY\n",
      "10081     79191B         RETRO PLASTIC POLKA TRAY\n",
      "249672    81952B     ROUND BLUE CLOCK WITH SUCKER\n",
      "261919    81953B     ROUND BLUE CLOCK WITH SUCKER\n",
      "30554      84666    SQUARE CHERRY BLOSSOM CABINET\n",
      "14058      84665    SQUARE CHERRY BLOSSOM CABINET\n",
      "218409     23235         STORAGE TIN VINTAGE LEAF\n",
      "220213     23244         STORAGE TIN VINTAGE LEAF\n",
      "20340      40003      WHITE BAMBOO RIBS LAMPSHADE\n",
      "3093       40001      WHITE BAMBOO RIBS LAMPSHADE\n"
     ]
    }
   ],
   "source": [
    "# Ensure columns are of type string\n",
    "df['StockCode'] = df['StockCode'].astype(str)\n",
    "df['Description'] = df['Description'].astype(str)\n",
    "\n",
    "# Count how many StockCode are associated with each Description\n",
    "description_counts = df.groupby('Description')['StockCode'].nunique().reset_index()\n",
    "description_counts.rename(columns={'StockCode': 'StockCode_Count'}, inplace=True)\n",
    "\n",
    "# Filter descriptions shared by more than one StockCode\n",
    "shared_descriptions = description_counts[description_counts['StockCode_Count'] > 1]\n",
    "\n",
    "# Show shared descriptions\n",
    "print(\"Descriptions shared by multiple StockCodes:\")\n",
    "print(\"-\" * 50)\n",
    "print(shared_descriptions)\n",
    "\n",
    "# Get details of the StockCode associated with these Descriptions\n",
    "shared_desc_details = df[df['Description'].isin(shared_descriptions['Description'])][['StockCode', 'Description']].drop_duplicates().sort_values(by='Description')\n",
    "\n",
    "# Show details\n",
    "print(\"\\nStockCode details with shared descriptions:\")\n",
    "print(\"-\" * 50)\n",
    "print(shared_desc_details)"
   ]
  },
  {
   "cell_type": "code",
   "execution_count": 23,
   "metadata": {},
   "outputs": [
    {
     "name": "stdout",
     "output_type": "stream",
     "text": [
      "Stock codes with more than 1 unique description:\n",
      "--------------------------------------------------\n",
      "     StockCode  Unique_Descriptions_Count\n",
      "42      16156L                          2\n",
      "100     17107D                          3\n",
      "118      20622                          2\n",
      "170      20725                          2\n",
      "262      20914                          2\n",
      "...        ...                        ...\n",
      "3308    85184C                          2\n",
      "3309    85185B                          2\n",
      "3372    90014A                          2\n",
      "3373    90014B                          2\n",
      "3374    90014C                          2\n",
      "\n",
      "[213 rows x 2 columns]\n",
      "\n",
      "Details of the stock codes with more than 1 unique description:\n",
      "--------------------------------------------------\n",
      "       StockCode                          Description\n",
      "47284     16156L                       WRAP, CAROUSEL\n",
      "138080    16156L                        WRAP CAROUSEL\n",
      "315743    17107D         FLOWER FAIRY 5 DRAWER LINERS\n",
      "347764    17107D    FLOWER FAIRY 5 SUMMER DRAW LINERS\n",
      "6467      17107D  FLOWER FAIRY,5 SUMMER B'DRAW LINERS\n",
      "...          ...                                  ...\n",
      "37284     90014A            SILVER/MOP ORBIT NECKLACE\n",
      "28450     90014B         GOLD M PEARL  ORBIT NECKLACE\n",
      "386649    90014B           GOLD M.O.P. ORBIT NECKLACE\n",
      "504701    90014C      SILVER AND BLACK ORBIT NECKLACE\n",
      "142063    90014C          SILVER/BLACK ORBIT NECKLACE\n",
      "\n",
      "[445 rows x 2 columns]\n"
     ]
    }
   ],
   "source": [
    "# Convert StockCode to string\n",
    "df['StockCode'] = df['StockCode'].astype(str)\n",
    "\n",
    "# Group by StockCode and count the uniques Descriptions\n",
    "stock_code_description = df.groupby('StockCode')['Description'].nunique().reset_index()\n",
    "stock_code_description.rename(columns={'Description': 'Unique_Descriptions_Count'}, inplace= True)\n",
    "\n",
    "# Filtering the stock codes with more than 1 unique description\n",
    "multiple_descriptions = stock_code_description[stock_code_description['Unique_Descriptions_Count'] > 1]\n",
    "\n",
    "# Displaying the stock codes with more than 1 unique description\n",
    "print(\"Stock codes with more than 1 unique description:\")\n",
    "print(\"-\" * 50)\n",
    "\n",
    "print(multiple_descriptions)\n",
    "\n",
    "# Obtaining the details of the stock codes with more than 1 unique description\n",
    "multiple_descriptions_details = multiple_descriptions['StockCode']\n",
    "details = df[df['StockCode'].isin(multiple_descriptions_details)][['StockCode', 'Description']].drop_duplicates().sort_values(by='StockCode')\n",
    "\n",
    "print(\"\\nDetails of the stock codes with more than 1 unique description:\")\n",
    "print(\"-\" * 50)\n",
    "print(details)"
   ]
  },
  {
   "cell_type": "code",
   "execution_count": 24,
   "metadata": {},
   "outputs": [
    {
     "data": {
      "text/plain": [
       "{'Invoice': 21784,\n",
       " 'StockCode': 3674,\n",
       " 'Description': 3886,\n",
       " 'Quantity': 432,\n",
       " 'InvoiceDate': 20132,\n",
       " 'Price': 370,\n",
       " 'Customer ID': 4363,\n",
       " 'Country': 37,\n",
       " 'Transaction_Status': 2,\n",
       " 'TotalPrice': 3756}"
      ]
     },
     "execution_count": 24,
     "metadata": {},
     "output_type": "execute_result"
    }
   ],
   "source": [
    "{columns: len(df[columns].unique()) for columns in df.columns}"
   ]
  },
  {
   "cell_type": "code",
   "execution_count": 25,
   "metadata": {},
   "outputs": [
    {
     "name": "stdout",
     "output_type": "stream",
     "text": [
      "Unique values after cleaning:\n",
      "StockCode: 3674\n",
      "Description: 3674\n",
      "No StockCode with multiple descriptions.\n",
      "There are no descriptions shared by multiple StockCode.\n"
     ]
    }
   ],
   "source": [
    "import pandas as pd\n",
    "\n",
    "# Ensure columns are of type string\n",
    "df['StockCode'] = df['StockCode'].astype(str)\n",
    "df['Description'] = df['Description'].astype(str)\n",
    "\n",
    "# Step 1: Unify multiple descriptions by selecting the most frequent one\n",
    "most_frequent_desc = df.groupby(['StockCode', 'Description']).size().reset_index(name='Count')\n",
    "most_frequent_desc = most_frequent_desc.sort_values(['StockCode', 'Count'], ascending=[True, False])\n",
    "most_frequent_desc = most_frequent_desc.groupby('StockCode').first().reset_index()[['StockCode', 'Description']]\n",
    "\n",
    "# Update the DataFrame with unified descriptions\n",
    "df = df.drop(columns=['Description']).merge(most_frequent_desc, on='StockCode', how='left')\n",
    "\n",
    "# Step 2: Identify and modify shared descriptions\n",
    "description_counts = df.groupby('Description')['StockCode'].nunique().reset_index()\n",
    "shared_descriptions = description_counts[description_counts['StockCode'] > 1]['Description']\n",
    "\n",
    "# Modify shared descriptions by adding the StockCode\n",
    "df.loc[df['Description'].isin(shared_descriptions), 'Description'] = (\n",
    "    df['Description'] + \" (\" + df['StockCode'] + \")\"\n",
    ")\n",
    "\n",
    "# Step 3: Validate results\n",
    "# Verify unique values\n",
    "print(\"Unique values after cleaning:\")\n",
    "print(f\"StockCode: {df['StockCode'].nunique()}\")\n",
    "print(f\"Description: {df['Description'].nunique()}\")\n",
    "\n",
    "# Check multiple descriptions\n",
    "stock_code_description = df.groupby('StockCode')['Description'].nunique().reset_index()\n",
    "multiple_descriptions = stock_code_description[stock_code_description['Description'] > 1]\n",
    "if multiple_descriptions.empty:\n",
    "    print(\"No StockCode with multiple descriptions.\")\n",
    "else:\n",
    "    print(\"Warning: Some StockCode still have multiple descriptions:\")\n",
    "    print(multiple_descriptions)\n",
    "\n",
    "# Check shared descriptions\n",
    "description_counts = df.groupby('Description')['StockCode'].nunique().reset_index()\n",
    "shared_descriptions = description_counts[description_counts['StockCode'] > 1]\n",
    "if shared_descriptions.empty:\n",
    "    print(\"There are no descriptions shared by multiple StockCode.\")\n",
    "else:\n",
    "    print(\"Warning: Some descriptions are still shared:\")\n",
    "    print(shared_descriptions)"
   ]
  },
  {
   "cell_type": "markdown",
   "metadata": {},
   "source": [
    "### Inferences:\n",
    "\n",
    "- **StockCodes with multiple Descriptions:** 213 StockCodes have multiple descriptions (196 with 2, 15 with 3, 2 with 4), causing extra Description values\n",
    "- **Descriptions shared by multiple StockCodes:** 19 descriptions are used by 39 StockCodes\n",
    "\n",
    "The presence of multiple descriptions per StockCode and shared descriptions across StockCode led to data quality issues, complicating product-level analyses such as identifying top-selling items.\n",
    "\n",
    "### Strategy:\n",
    "\n",
    "- For the 213 StockCodes with multiple descriptions, we selected the most frequent Description for each StockCode using a group-by operation and sorting by count.\n",
    "- For the 19 descriptions shared across 39 StockCode, we appended the StockCode in parentheses to create unique descriptions (e.g., \"COLOURING PENCILS BROWN TUBE (10133)\" and \"COLOURING PENCILS BROWN TUBE (10135)\")."
   ]
  },
  {
   "cell_type": "markdown",
   "metadata": {},
   "source": [
    "## Treating Zero Unit Prices"
   ]
  },
  {
   "cell_type": "markdown",
   "metadata": {},
   "source": [
    "### "
   ]
  },
  {
   "cell_type": "code",
   "execution_count": 26,
   "metadata": {},
   "outputs": [
    {
     "data": {
      "text/plain": [
       "count    399606.000000\n",
       "mean          2.904957\n",
       "std           4.448796\n",
       "min           0.000000\n",
       "25%           1.250000\n",
       "50%           1.950000\n",
       "75%           3.750000\n",
       "max         649.500000\n",
       "Name: Price, dtype: float64"
      ]
     },
     "execution_count": 26,
     "metadata": {},
     "output_type": "execute_result"
    }
   ],
   "source": [
    "df['Price'].describe()"
   ]
  },
  {
   "cell_type": "code",
   "execution_count": 27,
   "metadata": {},
   "outputs": [
    {
     "data": {
      "text/html": [
       "<div>\n",
       "<style scoped>\n",
       "    .dataframe tbody tr th:only-of-type {\n",
       "        vertical-align: middle;\n",
       "    }\n",
       "\n",
       "    .dataframe tbody tr th {\n",
       "        vertical-align: top;\n",
       "    }\n",
       "\n",
       "    .dataframe thead th {\n",
       "        text-align: right;\n",
       "    }\n",
       "</style>\n",
       "<table border=\"1\" class=\"dataframe\">\n",
       "  <thead>\n",
       "    <tr style=\"text-align: right;\">\n",
       "      <th></th>\n",
       "      <th>Quantity</th>\n",
       "    </tr>\n",
       "  </thead>\n",
       "  <tbody>\n",
       "    <tr>\n",
       "      <th>count</th>\n",
       "      <td>33.000000</td>\n",
       "    </tr>\n",
       "    <tr>\n",
       "      <th>mean</th>\n",
       "      <td>420.515152</td>\n",
       "    </tr>\n",
       "    <tr>\n",
       "      <th>min</th>\n",
       "      <td>1.000000</td>\n",
       "    </tr>\n",
       "    <tr>\n",
       "      <th>25%</th>\n",
       "      <td>2.000000</td>\n",
       "    </tr>\n",
       "    <tr>\n",
       "      <th>50%</th>\n",
       "      <td>11.000000</td>\n",
       "    </tr>\n",
       "    <tr>\n",
       "      <th>75%</th>\n",
       "      <td>36.000000</td>\n",
       "    </tr>\n",
       "    <tr>\n",
       "      <th>max</th>\n",
       "      <td>12540.000000</td>\n",
       "    </tr>\n",
       "    <tr>\n",
       "      <th>std</th>\n",
       "      <td>2176.713608</td>\n",
       "    </tr>\n",
       "  </tbody>\n",
       "</table>\n",
       "</div>"
      ],
      "text/plain": [
       "           Quantity\n",
       "count     33.000000\n",
       "mean     420.515152\n",
       "min        1.000000\n",
       "25%        2.000000\n",
       "50%       11.000000\n",
       "75%       36.000000\n",
       "max    12540.000000\n",
       "std     2176.713608"
      ]
     },
     "execution_count": 27,
     "metadata": {},
     "output_type": "execute_result"
    }
   ],
   "source": [
    "df[df['Price']==0].describe()[['Quantity']]"
   ]
  },
  {
   "cell_type": "code",
   "execution_count": 28,
   "metadata": {},
   "outputs": [
    {
     "data": {
      "text/html": [
       "<div>\n",
       "<style scoped>\n",
       "    .dataframe tbody tr th:only-of-type {\n",
       "        vertical-align: middle;\n",
       "    }\n",
       "\n",
       "    .dataframe tbody tr th {\n",
       "        vertical-align: top;\n",
       "    }\n",
       "\n",
       "    .dataframe thead th {\n",
       "        text-align: right;\n",
       "    }\n",
       "</style>\n",
       "<table border=\"1\" class=\"dataframe\">\n",
       "  <thead>\n",
       "    <tr style=\"text-align: right;\">\n",
       "      <th></th>\n",
       "      <th>Invoice</th>\n",
       "      <th>StockCode</th>\n",
       "      <th>Quantity</th>\n",
       "      <th>InvoiceDate</th>\n",
       "      <th>Price</th>\n",
       "      <th>Customer ID</th>\n",
       "      <th>Country</th>\n",
       "      <th>Transaction_Status</th>\n",
       "      <th>TotalPrice</th>\n",
       "      <th>Description</th>\n",
       "    </tr>\n",
       "  </thead>\n",
       "  <tbody>\n",
       "    <tr>\n",
       "      <th>6816</th>\n",
       "      <td>537197</td>\n",
       "      <td>22841</td>\n",
       "      <td>1</td>\n",
       "      <td>2010-12-05 14:02:00</td>\n",
       "      <td>0.0</td>\n",
       "      <td>12647.0</td>\n",
       "      <td>Germany</td>\n",
       "      <td>Completed</td>\n",
       "      <td>0.0</td>\n",
       "      <td>ROUND CAKE TIN VINTAGE GREEN</td>\n",
       "    </tr>\n",
       "    <tr>\n",
       "      <th>22536</th>\n",
       "      <td>539263</td>\n",
       "      <td>22580</td>\n",
       "      <td>4</td>\n",
       "      <td>2010-12-16 14:36:00</td>\n",
       "      <td>0.0</td>\n",
       "      <td>16560.0</td>\n",
       "      <td>United Kingdom</td>\n",
       "      <td>Completed</td>\n",
       "      <td>0.0</td>\n",
       "      <td>ADVENT CALENDAR GINGHAM SACK</td>\n",
       "    </tr>\n",
       "    <tr>\n",
       "      <th>25442</th>\n",
       "      <td>539722</td>\n",
       "      <td>22423</td>\n",
       "      <td>10</td>\n",
       "      <td>2010-12-21 13:45:00</td>\n",
       "      <td>0.0</td>\n",
       "      <td>14911.0</td>\n",
       "      <td>EIRE</td>\n",
       "      <td>Completed</td>\n",
       "      <td>0.0</td>\n",
       "      <td>REGENCY CAKESTAND 3 TIER</td>\n",
       "    </tr>\n",
       "    <tr>\n",
       "      <th>29243</th>\n",
       "      <td>540372</td>\n",
       "      <td>22090</td>\n",
       "      <td>24</td>\n",
       "      <td>2011-01-06 16:41:00</td>\n",
       "      <td>0.0</td>\n",
       "      <td>13081.0</td>\n",
       "      <td>United Kingdom</td>\n",
       "      <td>Completed</td>\n",
       "      <td>0.0</td>\n",
       "      <td>PAPER BUNTING RETROSPOT</td>\n",
       "    </tr>\n",
       "    <tr>\n",
       "      <th>29245</th>\n",
       "      <td>540372</td>\n",
       "      <td>22553</td>\n",
       "      <td>24</td>\n",
       "      <td>2011-01-06 16:41:00</td>\n",
       "      <td>0.0</td>\n",
       "      <td>13081.0</td>\n",
       "      <td>United Kingdom</td>\n",
       "      <td>Completed</td>\n",
       "      <td>0.0</td>\n",
       "      <td>PLASTERS IN TIN SKULLS</td>\n",
       "    </tr>\n",
       "    <tr>\n",
       "      <th>34743</th>\n",
       "      <td>541109</td>\n",
       "      <td>22168</td>\n",
       "      <td>1</td>\n",
       "      <td>2011-01-13 15:10:00</td>\n",
       "      <td>0.0</td>\n",
       "      <td>15107.0</td>\n",
       "      <td>United Kingdom</td>\n",
       "      <td>Completed</td>\n",
       "      <td>0.0</td>\n",
       "      <td>ORGANISER WOOD ANTIQUE WHITE</td>\n",
       "    </tr>\n",
       "    <tr>\n",
       "      <th>54228</th>\n",
       "      <td>543599</td>\n",
       "      <td>84535B</td>\n",
       "      <td>16</td>\n",
       "      <td>2011-02-10 13:08:00</td>\n",
       "      <td>0.0</td>\n",
       "      <td>17560.0</td>\n",
       "      <td>United Kingdom</td>\n",
       "      <td>Completed</td>\n",
       "      <td>0.0</td>\n",
       "      <td>FAIRY CAKES NOTEBOOK A6 SIZE</td>\n",
       "    </tr>\n",
       "    <tr>\n",
       "      <th>86338</th>\n",
       "      <td>547417</td>\n",
       "      <td>22062</td>\n",
       "      <td>36</td>\n",
       "      <td>2011-03-23 10:25:00</td>\n",
       "      <td>0.0</td>\n",
       "      <td>13239.0</td>\n",
       "      <td>United Kingdom</td>\n",
       "      <td>Completed</td>\n",
       "      <td>0.0</td>\n",
       "      <td>CERAMIC BOWL WITH LOVE HEART DESIGN</td>\n",
       "    </tr>\n",
       "    <tr>\n",
       "      <th>93491</th>\n",
       "      <td>548318</td>\n",
       "      <td>22055</td>\n",
       "      <td>5</td>\n",
       "      <td>2011-03-30 12:45:00</td>\n",
       "      <td>0.0</td>\n",
       "      <td>13113.0</td>\n",
       "      <td>United Kingdom</td>\n",
       "      <td>Completed</td>\n",
       "      <td>0.0</td>\n",
       "      <td>MINI CAKE STAND  HANGING STRAWBERY</td>\n",
       "    </tr>\n",
       "    <tr>\n",
       "      <th>98139</th>\n",
       "      <td>548871</td>\n",
       "      <td>22162</td>\n",
       "      <td>2</td>\n",
       "      <td>2011-04-04 14:42:00</td>\n",
       "      <td>0.0</td>\n",
       "      <td>14410.0</td>\n",
       "      <td>United Kingdom</td>\n",
       "      <td>Completed</td>\n",
       "      <td>0.0</td>\n",
       "      <td>HEART GARLAND RUSTIC PADDED</td>\n",
       "    </tr>\n",
       "  </tbody>\n",
       "</table>\n",
       "</div>"
      ],
      "text/plain": [
       "      Invoice StockCode  Quantity         InvoiceDate  Price  Customer ID  \\\n",
       "6816   537197     22841         1 2010-12-05 14:02:00    0.0      12647.0   \n",
       "22536  539263     22580         4 2010-12-16 14:36:00    0.0      16560.0   \n",
       "25442  539722     22423        10 2010-12-21 13:45:00    0.0      14911.0   \n",
       "29243  540372     22090        24 2011-01-06 16:41:00    0.0      13081.0   \n",
       "29245  540372     22553        24 2011-01-06 16:41:00    0.0      13081.0   \n",
       "34743  541109     22168         1 2011-01-13 15:10:00    0.0      15107.0   \n",
       "54228  543599    84535B        16 2011-02-10 13:08:00    0.0      17560.0   \n",
       "86338  547417     22062        36 2011-03-23 10:25:00    0.0      13239.0   \n",
       "93491  548318     22055         5 2011-03-30 12:45:00    0.0      13113.0   \n",
       "98139  548871     22162         2 2011-04-04 14:42:00    0.0      14410.0   \n",
       "\n",
       "              Country Transaction_Status  TotalPrice  \\\n",
       "6816          Germany          Completed         0.0   \n",
       "22536  United Kingdom          Completed         0.0   \n",
       "25442            EIRE          Completed         0.0   \n",
       "29243  United Kingdom          Completed         0.0   \n",
       "29245  United Kingdom          Completed         0.0   \n",
       "34743  United Kingdom          Completed         0.0   \n",
       "54228  United Kingdom          Completed         0.0   \n",
       "86338  United Kingdom          Completed         0.0   \n",
       "93491  United Kingdom          Completed         0.0   \n",
       "98139  United Kingdom          Completed         0.0   \n",
       "\n",
       "                               Description  \n",
       "6816          ROUND CAKE TIN VINTAGE GREEN  \n",
       "22536         ADVENT CALENDAR GINGHAM SACK  \n",
       "25442             REGENCY CAKESTAND 3 TIER  \n",
       "29243              PAPER BUNTING RETROSPOT  \n",
       "29245               PLASTERS IN TIN SKULLS  \n",
       "34743        ORGANISER WOOD ANTIQUE WHITE   \n",
       "54228         FAIRY CAKES NOTEBOOK A6 SIZE  \n",
       "86338  CERAMIC BOWL WITH LOVE HEART DESIGN  \n",
       "93491   MINI CAKE STAND  HANGING STRAWBERY  \n",
       "98139          HEART GARLAND RUSTIC PADDED  "
      ]
     },
     "execution_count": 28,
     "metadata": {},
     "output_type": "execute_result"
    }
   ],
   "source": [
    "df[df['Price']==0].head(10)"
   ]
  },
  {
   "cell_type": "code",
   "execution_count": 29,
   "metadata": {},
   "outputs": [],
   "source": [
    "# Removing records with a unit price of zero to avoid potential data entry errors\n",
    "df = df[df['Price'] > 0]"
   ]
  },
  {
   "cell_type": "code",
   "execution_count": 30,
   "metadata": {},
   "outputs": [
    {
     "data": {
      "text/plain": [
       "399573"
      ]
     },
     "execution_count": 30,
     "metadata": {},
     "output_type": "execute_result"
    }
   ],
   "source": [
    "# Resetting the index of the cleaned dataset\n",
    "df.reset_index(drop=True, inplace=True)\n",
    "\n",
    "# Getting the number of rows in the dataframe\n",
    "df.shape[0]"
   ]
  },
  {
   "cell_type": "markdown",
   "metadata": {},
   "source": [
    "### Inferences\n",
    "\n",
    "- The transactions with a unit price of zero are relatively few in number (33 transactions).\n",
    "- These transactions have a large variability in the quantity of items involved, ranging from 1 to 12540, with a substantial standard deviation.\n",
    "\n",
    "Given the small number of these transactions and their potential to introduce noise in the data analysis, the strategy should be to remove these transactions from the dataset."
   ]
  },
  {
   "cell_type": "markdown",
   "metadata": {},
   "source": [
    "# Feature Engineering"
   ]
  },
  {
   "cell_type": "code",
   "execution_count": 31,
   "metadata": {},
   "outputs": [
    {
     "data": {
      "text/html": [
       "<div>\n",
       "<style scoped>\n",
       "    .dataframe tbody tr th:only-of-type {\n",
       "        vertical-align: middle;\n",
       "    }\n",
       "\n",
       "    .dataframe tbody tr th {\n",
       "        vertical-align: top;\n",
       "    }\n",
       "\n",
       "    .dataframe thead th {\n",
       "        text-align: right;\n",
       "    }\n",
       "</style>\n",
       "<table border=\"1\" class=\"dataframe\">\n",
       "  <thead>\n",
       "    <tr style=\"text-align: right;\">\n",
       "      <th></th>\n",
       "      <th>Invoice</th>\n",
       "      <th>StockCode</th>\n",
       "      <th>Quantity</th>\n",
       "      <th>InvoiceDate</th>\n",
       "      <th>Price</th>\n",
       "      <th>Customer ID</th>\n",
       "      <th>Country</th>\n",
       "      <th>Transaction_Status</th>\n",
       "      <th>TotalPrice</th>\n",
       "      <th>Description</th>\n",
       "    </tr>\n",
       "  </thead>\n",
       "  <tbody>\n",
       "    <tr>\n",
       "      <th>0</th>\n",
       "      <td>536365</td>\n",
       "      <td>85123A</td>\n",
       "      <td>6</td>\n",
       "      <td>2010-12-01 08:26:00</td>\n",
       "      <td>2.55</td>\n",
       "      <td>17850.0</td>\n",
       "      <td>United Kingdom</td>\n",
       "      <td>Completed</td>\n",
       "      <td>15.30</td>\n",
       "      <td>WHITE HANGING HEART T-LIGHT HOLDER</td>\n",
       "    </tr>\n",
       "    <tr>\n",
       "      <th>1</th>\n",
       "      <td>536365</td>\n",
       "      <td>71053</td>\n",
       "      <td>6</td>\n",
       "      <td>2010-12-01 08:26:00</td>\n",
       "      <td>3.39</td>\n",
       "      <td>17850.0</td>\n",
       "      <td>United Kingdom</td>\n",
       "      <td>Completed</td>\n",
       "      <td>20.34</td>\n",
       "      <td>WHITE METAL LANTERN</td>\n",
       "    </tr>\n",
       "    <tr>\n",
       "      <th>2</th>\n",
       "      <td>536365</td>\n",
       "      <td>84406B</td>\n",
       "      <td>8</td>\n",
       "      <td>2010-12-01 08:26:00</td>\n",
       "      <td>2.75</td>\n",
       "      <td>17850.0</td>\n",
       "      <td>United Kingdom</td>\n",
       "      <td>Completed</td>\n",
       "      <td>22.00</td>\n",
       "      <td>CREAM CUPID HEARTS COAT HANGER</td>\n",
       "    </tr>\n",
       "    <tr>\n",
       "      <th>3</th>\n",
       "      <td>536365</td>\n",
       "      <td>84029G</td>\n",
       "      <td>6</td>\n",
       "      <td>2010-12-01 08:26:00</td>\n",
       "      <td>3.39</td>\n",
       "      <td>17850.0</td>\n",
       "      <td>United Kingdom</td>\n",
       "      <td>Completed</td>\n",
       "      <td>20.34</td>\n",
       "      <td>KNITTED UNION FLAG HOT WATER BOTTLE</td>\n",
       "    </tr>\n",
       "    <tr>\n",
       "      <th>4</th>\n",
       "      <td>536365</td>\n",
       "      <td>84029E</td>\n",
       "      <td>6</td>\n",
       "      <td>2010-12-01 08:26:00</td>\n",
       "      <td>3.39</td>\n",
       "      <td>17850.0</td>\n",
       "      <td>United Kingdom</td>\n",
       "      <td>Completed</td>\n",
       "      <td>20.34</td>\n",
       "      <td>RED WOOLLY HOTTIE WHITE HEART.</td>\n",
       "    </tr>\n",
       "  </tbody>\n",
       "</table>\n",
       "</div>"
      ],
      "text/plain": [
       "  Invoice StockCode  Quantity         InvoiceDate  Price  Customer ID  \\\n",
       "0  536365    85123A         6 2010-12-01 08:26:00   2.55      17850.0   \n",
       "1  536365     71053         6 2010-12-01 08:26:00   3.39      17850.0   \n",
       "2  536365    84406B         8 2010-12-01 08:26:00   2.75      17850.0   \n",
       "3  536365    84029G         6 2010-12-01 08:26:00   3.39      17850.0   \n",
       "4  536365    84029E         6 2010-12-01 08:26:00   3.39      17850.0   \n",
       "\n",
       "          Country Transaction_Status  TotalPrice  \\\n",
       "0  United Kingdom          Completed       15.30   \n",
       "1  United Kingdom          Completed       20.34   \n",
       "2  United Kingdom          Completed       22.00   \n",
       "3  United Kingdom          Completed       20.34   \n",
       "4  United Kingdom          Completed       20.34   \n",
       "\n",
       "                           Description  \n",
       "0   WHITE HANGING HEART T-LIGHT HOLDER  \n",
       "1                  WHITE METAL LANTERN  \n",
       "2       CREAM CUPID HEARTS COAT HANGER  \n",
       "3  KNITTED UNION FLAG HOT WATER BOTTLE  \n",
       "4       RED WOOLLY HOTTIE WHITE HEART.  "
      ]
     },
     "execution_count": 31,
     "metadata": {},
     "output_type": "execute_result"
    }
   ],
   "source": [
    "# Displaying the first few rows of the cleaned dataset\n",
    "df.head()"
   ]
  },
  {
   "cell_type": "code",
   "execution_count": 32,
   "metadata": {},
   "outputs": [
    {
     "name": "stdout",
     "output_type": "stream",
     "text": [
      "Min Date 2010-12-01 08:26:00 Max Date 2011-12-09 12:50:00\n"
     ]
    }
   ],
   "source": [
    "# First and last date of the dataset\n",
    "print(\"Min Date\", df[\"InvoiceDate\"].min(), \"Max Date\", df[\"InvoiceDate\"].max())"
   ]
  },
  {
   "cell_type": "markdown",
   "metadata": {},
   "source": [
    "## Customer Behavioral Features (RFM)"
   ]
  },
  {
   "cell_type": "markdown",
   "metadata": {},
   "source": [
    "### Recency\n",
    "\n",
    "This metric indicates how recently a customer has made a purchase. A lower recency value means the customer has purchased more recently, indicating higher engagement with the brand."
   ]
  },
  {
   "cell_type": "code",
   "execution_count": 33,
   "metadata": {},
   "outputs": [
    {
     "data": {
      "text/html": [
       "<div>\n",
       "<style scoped>\n",
       "    .dataframe tbody tr th:only-of-type {\n",
       "        vertical-align: middle;\n",
       "    }\n",
       "\n",
       "    .dataframe tbody tr th {\n",
       "        vertical-align: top;\n",
       "    }\n",
       "\n",
       "    .dataframe thead th {\n",
       "        text-align: right;\n",
       "    }\n",
       "</style>\n",
       "<table border=\"1\" class=\"dataframe\">\n",
       "  <thead>\n",
       "    <tr style=\"text-align: right;\">\n",
       "      <th></th>\n",
       "      <th>Recency</th>\n",
       "    </tr>\n",
       "    <tr>\n",
       "      <th>Customer ID</th>\n",
       "      <th></th>\n",
       "    </tr>\n",
       "  </thead>\n",
       "  <tbody>\n",
       "    <tr>\n",
       "      <th>12346.0</th>\n",
       "      <td>325</td>\n",
       "    </tr>\n",
       "    <tr>\n",
       "      <th>12347.0</th>\n",
       "      <td>1</td>\n",
       "    </tr>\n",
       "    <tr>\n",
       "      <th>12348.0</th>\n",
       "      <td>74</td>\n",
       "    </tr>\n",
       "    <tr>\n",
       "      <th>12349.0</th>\n",
       "      <td>18</td>\n",
       "    </tr>\n",
       "    <tr>\n",
       "      <th>12350.0</th>\n",
       "      <td>309</td>\n",
       "    </tr>\n",
       "  </tbody>\n",
       "</table>\n",
       "</div>"
      ],
      "text/plain": [
       "             Recency\n",
       "Customer ID         \n",
       "12346.0          325\n",
       "12347.0            1\n",
       "12348.0           74\n",
       "12349.0           18\n",
       "12350.0          309"
      ]
     },
     "execution_count": 33,
     "metadata": {},
     "output_type": "execute_result"
    }
   ],
   "source": [
    "# Recency calculation and customer data creation\n",
    "today_date = df.agg({\"InvoiceDate\":\"max\"})\n",
    "\n",
    "# Calculate the number of days since the last purchase\n",
    "customer_data = (today_date - df.groupby(\"Customer ID\") \\\n",
    "           .agg({\"InvoiceDate\":\"max\"})) \\\n",
    "            .rename(columns = {\"InvoiceDate\":\"Recency\"})\n",
    "\n",
    "customer_data[\"Recency\"] = customer_data[\"Recency\"] \\\n",
    "    .apply(lambda x: x.days)\n",
    "\n",
    "customer_data.head()"
   ]
  },
  {
   "cell_type": "markdown",
   "metadata": {},
   "source": [
    "### Frecuency\n",
    "\n",
    "There are two features that quantify the frequency of a customer's engagement with the retailer:\n",
    "\n",
    "- **Total Transactions:** This feature represents the total number of transactions made by a customer. It helps in understanding the engagement level of a customer with the retailer.\n",
    "\n",
    "- **Total Products Purchased:** This feature indicates the total number of products (sum of quantities) purchased by a customer across all transactions. It gives an insight into the customer's buying behavior in terms of the volume of products purchased."
   ]
  },
  {
   "cell_type": "code",
   "execution_count": 34,
   "metadata": {},
   "outputs": [
    {
     "data": {
      "text/html": [
       "<div>\n",
       "<style scoped>\n",
       "    .dataframe tbody tr th:only-of-type {\n",
       "        vertical-align: middle;\n",
       "    }\n",
       "\n",
       "    .dataframe tbody tr th {\n",
       "        vertical-align: top;\n",
       "    }\n",
       "\n",
       "    .dataframe thead th {\n",
       "        text-align: right;\n",
       "    }\n",
       "</style>\n",
       "<table border=\"1\" class=\"dataframe\">\n",
       "  <thead>\n",
       "    <tr style=\"text-align: right;\">\n",
       "      <th></th>\n",
       "      <th>Customer ID</th>\n",
       "      <th>Recency</th>\n",
       "      <th>Total_Transactions</th>\n",
       "      <th>Total_Products_Purchased</th>\n",
       "    </tr>\n",
       "  </thead>\n",
       "  <tbody>\n",
       "    <tr>\n",
       "      <th>0</th>\n",
       "      <td>12346.0</td>\n",
       "      <td>325</td>\n",
       "      <td>2</td>\n",
       "      <td>0</td>\n",
       "    </tr>\n",
       "    <tr>\n",
       "      <th>1</th>\n",
       "      <td>12347.0</td>\n",
       "      <td>1</td>\n",
       "      <td>7</td>\n",
       "      <td>2458</td>\n",
       "    </tr>\n",
       "    <tr>\n",
       "      <th>2</th>\n",
       "      <td>12348.0</td>\n",
       "      <td>74</td>\n",
       "      <td>4</td>\n",
       "      <td>2332</td>\n",
       "    </tr>\n",
       "    <tr>\n",
       "      <th>3</th>\n",
       "      <td>12349.0</td>\n",
       "      <td>18</td>\n",
       "      <td>1</td>\n",
       "      <td>630</td>\n",
       "    </tr>\n",
       "    <tr>\n",
       "      <th>4</th>\n",
       "      <td>12350.0</td>\n",
       "      <td>309</td>\n",
       "      <td>1</td>\n",
       "      <td>196</td>\n",
       "    </tr>\n",
       "  </tbody>\n",
       "</table>\n",
       "</div>"
      ],
      "text/plain": [
       "   Customer ID  Recency  Total_Transactions  Total_Products_Purchased\n",
       "0      12346.0      325                   2                         0\n",
       "1      12347.0        1                   7                      2458\n",
       "2      12348.0       74                   4                      2332\n",
       "3      12349.0       18                   1                       630\n",
       "4      12350.0      309                   1                       196"
      ]
     },
     "execution_count": 34,
     "metadata": {},
     "output_type": "execute_result"
    }
   ],
   "source": [
    "# Calculate the total number of transactions made by each customer\n",
    "total_transactions = df.groupby('Customer ID')['Invoice'] \\\n",
    "                    .nunique() \\\n",
    "                        .reset_index()\n",
    "total_transactions.rename(columns={'Invoice': 'Total_Transactions'}, inplace=True)\n",
    "\n",
    "# Calculate the total number of products purchased by each customer\n",
    "total_products_purchased = df.groupby('Customer ID')['Quantity'] \\\n",
    "                            .sum() \\\n",
    "                                .reset_index()\n",
    "total_products_purchased.rename(columns={'Quantity': 'Total_Products_Purchased'}, inplace=True)\n",
    "\n",
    "# Merge the new features into the customer_data dataframe\n",
    "customer_data = pd.merge(customer_data, total_transactions, on='Customer ID')\n",
    "customer_data = pd.merge(customer_data, total_products_purchased, on='Customer ID')\n",
    "\n",
    "# Display the first few rows of the customer_data dataframe\n",
    "customer_data.head()"
   ]
  },
  {
   "cell_type": "markdown",
   "metadata": {},
   "source": [
    "### Monetary\n",
    "\n",
    "There are two features that represent the monetary aspect of customer's transactions:\n",
    "\n",
    "- **Total Spend:** This feature represents the total amount of money spent by each customer. It is calculated as the sum of the product of UnitPrice and Quantity for all transactions made by a customer. This feature is crucial as it helps in identifying the total revenue generated by each customer, which is a direct indicator of a customer's value to the business.\n",
    "\n",
    "- **Average Transaction Value:** This feature is calculated as the **Total Spend** divided by the Total Transactions for each customer. It indicates the average value of a transaction carried out by a customer. This metric is useful in understanding the spending behavior of customers per transaction, which can assist in tailoring marketing strategies and offers to different customer segments based on their average spending patterns."
   ]
  },
  {
   "cell_type": "code",
   "execution_count": 35,
   "metadata": {},
   "outputs": [
    {
     "data": {
      "text/html": [
       "<div>\n",
       "<style scoped>\n",
       "    .dataframe tbody tr th:only-of-type {\n",
       "        vertical-align: middle;\n",
       "    }\n",
       "\n",
       "    .dataframe tbody tr th {\n",
       "        vertical-align: top;\n",
       "    }\n",
       "\n",
       "    .dataframe thead th {\n",
       "        text-align: right;\n",
       "    }\n",
       "</style>\n",
       "<table border=\"1\" class=\"dataframe\">\n",
       "  <thead>\n",
       "    <tr style=\"text-align: right;\">\n",
       "      <th></th>\n",
       "      <th>Customer ID</th>\n",
       "      <th>Recency</th>\n",
       "      <th>Total_Transactions</th>\n",
       "      <th>Total_Products_Purchased</th>\n",
       "      <th>Total_Spend</th>\n",
       "      <th>Average_Transaction_Value</th>\n",
       "    </tr>\n",
       "  </thead>\n",
       "  <tbody>\n",
       "    <tr>\n",
       "      <th>0</th>\n",
       "      <td>12346.0</td>\n",
       "      <td>325</td>\n",
       "      <td>2</td>\n",
       "      <td>0</td>\n",
       "      <td>0.00</td>\n",
       "      <td>0.000000</td>\n",
       "    </tr>\n",
       "    <tr>\n",
       "      <th>1</th>\n",
       "      <td>12347.0</td>\n",
       "      <td>1</td>\n",
       "      <td>7</td>\n",
       "      <td>2458</td>\n",
       "      <td>4310.00</td>\n",
       "      <td>615.714286</td>\n",
       "    </tr>\n",
       "    <tr>\n",
       "      <th>2</th>\n",
       "      <td>12348.0</td>\n",
       "      <td>74</td>\n",
       "      <td>4</td>\n",
       "      <td>2332</td>\n",
       "      <td>1437.24</td>\n",
       "      <td>359.310000</td>\n",
       "    </tr>\n",
       "    <tr>\n",
       "      <th>3</th>\n",
       "      <td>12349.0</td>\n",
       "      <td>18</td>\n",
       "      <td>1</td>\n",
       "      <td>630</td>\n",
       "      <td>1457.55</td>\n",
       "      <td>1457.550000</td>\n",
       "    </tr>\n",
       "    <tr>\n",
       "      <th>4</th>\n",
       "      <td>12350.0</td>\n",
       "      <td>309</td>\n",
       "      <td>1</td>\n",
       "      <td>196</td>\n",
       "      <td>294.40</td>\n",
       "      <td>294.400000</td>\n",
       "    </tr>\n",
       "  </tbody>\n",
       "</table>\n",
       "</div>"
      ],
      "text/plain": [
       "   Customer ID  Recency  Total_Transactions  Total_Products_Purchased  \\\n",
       "0      12346.0      325                   2                         0   \n",
       "1      12347.0        1                   7                      2458   \n",
       "2      12348.0       74                   4                      2332   \n",
       "3      12349.0       18                   1                       630   \n",
       "4      12350.0      309                   1                       196   \n",
       "\n",
       "   Total_Spend  Average_Transaction_Value  \n",
       "0         0.00                   0.000000  \n",
       "1      4310.00                 615.714286  \n",
       "2      1437.24                 359.310000  \n",
       "3      1457.55                1457.550000  \n",
       "4       294.40                 294.400000  "
      ]
     },
     "execution_count": 35,
     "metadata": {},
     "output_type": "execute_result"
    }
   ],
   "source": [
    "# Calculate the total spend by each customer\n",
    "total_spend = df.groupby('Customer ID')['TotalPrice'] \\\n",
    "            .sum() \\\n",
    "                .reset_index()\n",
    "\n",
    "total_spend.rename(columns={'TotalPrice': 'Total_Spend'}, inplace=True)\n",
    "\n",
    "# Calculate the average transaction value for each customer\n",
    "average_transaction_value = total_spend.merge(total_transactions, on='Customer ID')\n",
    "average_transaction_value['Average_Transaction_Value'] = average_transaction_value['Total_Spend'] / average_transaction_value['Total_Transactions']\n",
    "\n",
    "# Merge the new features into the customer_data dataframe\n",
    "customer_data = pd.merge(customer_data, total_spend, on='Customer ID')\n",
    "customer_data = pd.merge(customer_data, average_transaction_value[['Customer ID', 'Average_Transaction_Value']], on='Customer ID')\n",
    "\n",
    "# Display the first few rows of the customer_data dataframe\n",
    "customer_data.head()"
   ]
  },
  {
   "cell_type": "code",
   "execution_count": 36,
   "metadata": {},
   "outputs": [
    {
     "data": {
      "text/html": [
       "<div>\n",
       "<style scoped>\n",
       "    .dataframe tbody tr th:only-of-type {\n",
       "        vertical-align: middle;\n",
       "    }\n",
       "\n",
       "    .dataframe tbody tr th {\n",
       "        vertical-align: top;\n",
       "    }\n",
       "\n",
       "    .dataframe thead th {\n",
       "        text-align: right;\n",
       "    }\n",
       "</style>\n",
       "<table border=\"1\" class=\"dataframe\">\n",
       "  <thead>\n",
       "    <tr style=\"text-align: right;\">\n",
       "      <th></th>\n",
       "      <th>Customer ID</th>\n",
       "      <th>Recency</th>\n",
       "      <th>Total_Transactions</th>\n",
       "      <th>Total_Products_Purchased</th>\n",
       "      <th>Total_Spend</th>\n",
       "      <th>Average_Transaction_Value</th>\n",
       "      <th>Unique_Products_Purchased</th>\n",
       "    </tr>\n",
       "  </thead>\n",
       "  <tbody>\n",
       "    <tr>\n",
       "      <th>0</th>\n",
       "      <td>12346.0</td>\n",
       "      <td>325</td>\n",
       "      <td>2</td>\n",
       "      <td>0</td>\n",
       "      <td>0.00</td>\n",
       "      <td>0.000000</td>\n",
       "      <td>1</td>\n",
       "    </tr>\n",
       "    <tr>\n",
       "      <th>1</th>\n",
       "      <td>12347.0</td>\n",
       "      <td>1</td>\n",
       "      <td>7</td>\n",
       "      <td>2458</td>\n",
       "      <td>4310.00</td>\n",
       "      <td>615.714286</td>\n",
       "      <td>103</td>\n",
       "    </tr>\n",
       "    <tr>\n",
       "      <th>2</th>\n",
       "      <td>12348.0</td>\n",
       "      <td>74</td>\n",
       "      <td>4</td>\n",
       "      <td>2332</td>\n",
       "      <td>1437.24</td>\n",
       "      <td>359.310000</td>\n",
       "      <td>21</td>\n",
       "    </tr>\n",
       "    <tr>\n",
       "      <th>3</th>\n",
       "      <td>12349.0</td>\n",
       "      <td>18</td>\n",
       "      <td>1</td>\n",
       "      <td>630</td>\n",
       "      <td>1457.55</td>\n",
       "      <td>1457.550000</td>\n",
       "      <td>72</td>\n",
       "    </tr>\n",
       "    <tr>\n",
       "      <th>4</th>\n",
       "      <td>12350.0</td>\n",
       "      <td>309</td>\n",
       "      <td>1</td>\n",
       "      <td>196</td>\n",
       "      <td>294.40</td>\n",
       "      <td>294.400000</td>\n",
       "      <td>16</td>\n",
       "    </tr>\n",
       "  </tbody>\n",
       "</table>\n",
       "</div>"
      ],
      "text/plain": [
       "   Customer ID  Recency  Total_Transactions  Total_Products_Purchased  \\\n",
       "0      12346.0      325                   2                         0   \n",
       "1      12347.0        1                   7                      2458   \n",
       "2      12348.0       74                   4                      2332   \n",
       "3      12349.0       18                   1                       630   \n",
       "4      12350.0      309                   1                       196   \n",
       "\n",
       "   Total_Spend  Average_Transaction_Value  Unique_Products_Purchased  \n",
       "0         0.00                   0.000000                          1  \n",
       "1      4310.00                 615.714286                        103  \n",
       "2      1437.24                 359.310000                         21  \n",
       "3      1457.55                1457.550000                         72  \n",
       "4       294.40                 294.400000                         16  "
      ]
     },
     "execution_count": 36,
     "metadata": {},
     "output_type": "execute_result"
    }
   ],
   "source": [
    "# Calculate the number of unique products purchased by each customer\n",
    "unique_products_purchased = df.groupby('Customer ID')['StockCode'] \\\n",
    "                            .nunique() \\\n",
    "                                .reset_index()\n",
    "unique_products_purchased.rename(columns={'StockCode': 'Unique_Products_Purchased'}, inplace=True)\n",
    "\n",
    "# Merge the new feature into the customer_data dataframe\n",
    "customer_data = pd.merge(customer_data, unique_products_purchased, on='Customer ID')\n",
    "\n",
    "# Display the first few rows of the customer_data dataframe\n",
    "customer_data.head()"
   ]
  },
  {
   "cell_type": "markdown",
   "metadata": {},
   "source": [
    "## Cancellation Insights\n",
    "\n",
    "- **Cancellation Frequency:** This metric represents the total number of transactions a customer has canceled. Understanding the frequency of cancellations can help us identify customers who are more likely to cancel transactions. This could be an indicator of dissatisfaction or other issues, and understanding this can help us tailor strategies to reduce cancellations and enhance customer satisfaction.\n",
    "\n",
    "- **Cancellation Rate:** This represents the proportion of transactions that a customer has canceled out of all their transactions. This metric gives a normalized view of cancellation behavior. A high cancellation rate might be indicative of an unsatisfied customer segment. By identifying these segments, we can develop targeted strategies to improve their shopping experience and potentially reduce the cancellation rate."
   ]
  },
  {
   "cell_type": "code",
   "execution_count": 37,
   "metadata": {},
   "outputs": [
    {
     "data": {
      "text/html": [
       "<div>\n",
       "<style scoped>\n",
       "    .dataframe tbody tr th:only-of-type {\n",
       "        vertical-align: middle;\n",
       "    }\n",
       "\n",
       "    .dataframe tbody tr th {\n",
       "        vertical-align: top;\n",
       "    }\n",
       "\n",
       "    .dataframe thead th {\n",
       "        text-align: right;\n",
       "    }\n",
       "</style>\n",
       "<table border=\"1\" class=\"dataframe\">\n",
       "  <thead>\n",
       "    <tr style=\"text-align: right;\">\n",
       "      <th></th>\n",
       "      <th>Customer ID</th>\n",
       "      <th>Recency</th>\n",
       "      <th>Total_Transactions</th>\n",
       "      <th>Total_Products_Purchased</th>\n",
       "      <th>Total_Spend</th>\n",
       "      <th>Average_Transaction_Value</th>\n",
       "      <th>Unique_Products_Purchased</th>\n",
       "      <th>Cancellation_Frequency</th>\n",
       "      <th>Cancellation_Rate</th>\n",
       "    </tr>\n",
       "  </thead>\n",
       "  <tbody>\n",
       "    <tr>\n",
       "      <th>0</th>\n",
       "      <td>12346.0</td>\n",
       "      <td>325</td>\n",
       "      <td>2</td>\n",
       "      <td>0</td>\n",
       "      <td>0.00</td>\n",
       "      <td>0.000000</td>\n",
       "      <td>1</td>\n",
       "      <td>1.0</td>\n",
       "      <td>0.5</td>\n",
       "    </tr>\n",
       "    <tr>\n",
       "      <th>1</th>\n",
       "      <td>12347.0</td>\n",
       "      <td>1</td>\n",
       "      <td>7</td>\n",
       "      <td>2458</td>\n",
       "      <td>4310.00</td>\n",
       "      <td>615.714286</td>\n",
       "      <td>103</td>\n",
       "      <td>0.0</td>\n",
       "      <td>0.0</td>\n",
       "    </tr>\n",
       "    <tr>\n",
       "      <th>2</th>\n",
       "      <td>12348.0</td>\n",
       "      <td>74</td>\n",
       "      <td>4</td>\n",
       "      <td>2332</td>\n",
       "      <td>1437.24</td>\n",
       "      <td>359.310000</td>\n",
       "      <td>21</td>\n",
       "      <td>0.0</td>\n",
       "      <td>0.0</td>\n",
       "    </tr>\n",
       "    <tr>\n",
       "      <th>3</th>\n",
       "      <td>12349.0</td>\n",
       "      <td>18</td>\n",
       "      <td>1</td>\n",
       "      <td>630</td>\n",
       "      <td>1457.55</td>\n",
       "      <td>1457.550000</td>\n",
       "      <td>72</td>\n",
       "      <td>0.0</td>\n",
       "      <td>0.0</td>\n",
       "    </tr>\n",
       "    <tr>\n",
       "      <th>4</th>\n",
       "      <td>12350.0</td>\n",
       "      <td>309</td>\n",
       "      <td>1</td>\n",
       "      <td>196</td>\n",
       "      <td>294.40</td>\n",
       "      <td>294.400000</td>\n",
       "      <td>16</td>\n",
       "      <td>0.0</td>\n",
       "      <td>0.0</td>\n",
       "    </tr>\n",
       "  </tbody>\n",
       "</table>\n",
       "</div>"
      ],
      "text/plain": [
       "   Customer ID  Recency  Total_Transactions  Total_Products_Purchased  \\\n",
       "0      12346.0      325                   2                         0   \n",
       "1      12347.0        1                   7                      2458   \n",
       "2      12348.0       74                   4                      2332   \n",
       "3      12349.0       18                   1                       630   \n",
       "4      12350.0      309                   1                       196   \n",
       "\n",
       "   Total_Spend  Average_Transaction_Value  Unique_Products_Purchased  \\\n",
       "0         0.00                   0.000000                          1   \n",
       "1      4310.00                 615.714286                        103   \n",
       "2      1437.24                 359.310000                         21   \n",
       "3      1457.55                1457.550000                         72   \n",
       "4       294.40                 294.400000                         16   \n",
       "\n",
       "   Cancellation_Frequency  Cancellation_Rate  \n",
       "0                     1.0                0.5  \n",
       "1                     0.0                0.0  \n",
       "2                     0.0                0.0  \n",
       "3                     0.0                0.0  \n",
       "4                     0.0                0.0  "
      ]
     },
     "execution_count": 37,
     "metadata": {},
     "output_type": "execute_result"
    }
   ],
   "source": [
    "# Calculate the total number of transactions made by each customer\n",
    "total_transactions = df.groupby('Customer ID')['Invoice'].nunique().reset_index()\n",
    "\n",
    "# Calculate the number of cancelled transactions for each customer\n",
    "cancelled_transactions = df[df['Transaction_Status'] == 'Cancelled']\n",
    "cancellation_frequency = cancelled_transactions.groupby('Customer ID')['Invoice'].nunique().reset_index()\n",
    "cancellation_frequency.rename(columns={'Invoice': 'Cancellation_Frequency'}, inplace=True)\n",
    "\n",
    "# Merge the Cancellation Frequency data into the customer_data dataframe\n",
    "customer_data = pd.merge(customer_data, cancellation_frequency, on='Customer ID', how='left')\n",
    "\n",
    "# Replace NaN values with 0 (for customers who have not cancelled any transaction)\n",
    "customer_data['Cancellation_Frequency'].fillna(0, inplace=True)\n",
    "\n",
    "# Calculate the Cancellation Rate\n",
    "customer_data['Cancellation_Rate'] = customer_data['Cancellation_Frequency'] / total_transactions['Invoice']\n",
    "\n",
    "# Display the first few rows of the customer_data dataframe\n",
    "customer_data.head()"
   ]
  },
  {
   "cell_type": "code",
   "execution_count": 38,
   "metadata": {},
   "outputs": [
    {
     "name": "stdout",
     "output_type": "stream",
     "text": [
      "Number of customers who cancelled at least one transaction: 1534\n"
     ]
    },
    {
     "data": {
      "text/html": [
       "<div>\n",
       "<style scoped>\n",
       "    .dataframe tbody tr th:only-of-type {\n",
       "        vertical-align: middle;\n",
       "    }\n",
       "\n",
       "    .dataframe tbody tr th {\n",
       "        vertical-align: top;\n",
       "    }\n",
       "\n",
       "    .dataframe thead th {\n",
       "        text-align: right;\n",
       "    }\n",
       "</style>\n",
       "<table border=\"1\" class=\"dataframe\">\n",
       "  <thead>\n",
       "    <tr style=\"text-align: right;\">\n",
       "      <th></th>\n",
       "      <th>Customer ID</th>\n",
       "      <th>Recency</th>\n",
       "      <th>Total_Transactions</th>\n",
       "      <th>Total_Products_Purchased</th>\n",
       "      <th>Total_Spend</th>\n",
       "      <th>Average_Transaction_Value</th>\n",
       "      <th>Unique_Products_Purchased</th>\n",
       "      <th>Cancellation_Frequency</th>\n",
       "      <th>Cancellation_Rate</th>\n",
       "    </tr>\n",
       "  </thead>\n",
       "  <tbody>\n",
       "    <tr>\n",
       "      <th>0</th>\n",
       "      <td>12346.0</td>\n",
       "      <td>325</td>\n",
       "      <td>2</td>\n",
       "      <td>0</td>\n",
       "      <td>0.00</td>\n",
       "      <td>0.000000</td>\n",
       "      <td>1</td>\n",
       "      <td>1.0</td>\n",
       "      <td>0.500000</td>\n",
       "    </tr>\n",
       "    <tr>\n",
       "      <th>5</th>\n",
       "      <td>12352.0</td>\n",
       "      <td>35</td>\n",
       "      <td>8</td>\n",
       "      <td>463</td>\n",
       "      <td>1265.41</td>\n",
       "      <td>158.176250</td>\n",
       "      <td>57</td>\n",
       "      <td>1.0</td>\n",
       "      <td>0.125000</td>\n",
       "    </tr>\n",
       "    <tr>\n",
       "      <th>12</th>\n",
       "      <td>12359.0</td>\n",
       "      <td>7</td>\n",
       "      <td>6</td>\n",
       "      <td>1599</td>\n",
       "      <td>6182.98</td>\n",
       "      <td>1030.496667</td>\n",
       "      <td>214</td>\n",
       "      <td>2.0</td>\n",
       "      <td>0.333333</td>\n",
       "    </tr>\n",
       "    <tr>\n",
       "      <th>15</th>\n",
       "      <td>12362.0</td>\n",
       "      <td>2</td>\n",
       "      <td>13</td>\n",
       "      <td>2180</td>\n",
       "      <td>4665.58</td>\n",
       "      <td>358.890769</td>\n",
       "      <td>200</td>\n",
       "      <td>3.0</td>\n",
       "      <td>0.230769</td>\n",
       "    </tr>\n",
       "    <tr>\n",
       "      <th>25</th>\n",
       "      <td>12375.0</td>\n",
       "      <td>2</td>\n",
       "      <td>3</td>\n",
       "      <td>175</td>\n",
       "      <td>375.42</td>\n",
       "      <td>125.140000</td>\n",
       "      <td>13</td>\n",
       "      <td>1.0</td>\n",
       "      <td>0.333333</td>\n",
       "    </tr>\n",
       "    <tr>\n",
       "      <th>28</th>\n",
       "      <td>12379.0</td>\n",
       "      <td>81</td>\n",
       "      <td>3</td>\n",
       "      <td>401</td>\n",
       "      <td>775.29</td>\n",
       "      <td>258.430000</td>\n",
       "      <td>38</td>\n",
       "      <td>1.0</td>\n",
       "      <td>0.333333</td>\n",
       "    </tr>\n",
       "    <tr>\n",
       "      <th>29</th>\n",
       "      <td>12380.0</td>\n",
       "      <td>21</td>\n",
       "      <td>5</td>\n",
       "      <td>1109</td>\n",
       "      <td>2423.56</td>\n",
       "      <td>484.712000</td>\n",
       "      <td>76</td>\n",
       "      <td>1.0</td>\n",
       "      <td>0.200000</td>\n",
       "    </tr>\n",
       "    <tr>\n",
       "      <th>30</th>\n",
       "      <td>12381.0</td>\n",
       "      <td>4</td>\n",
       "      <td>4</td>\n",
       "      <td>772</td>\n",
       "      <td>1433.46</td>\n",
       "      <td>358.365000</td>\n",
       "      <td>69</td>\n",
       "      <td>1.0</td>\n",
       "      <td>0.250000</td>\n",
       "    </tr>\n",
       "    <tr>\n",
       "      <th>31</th>\n",
       "      <td>12383.0</td>\n",
       "      <td>184</td>\n",
       "      <td>6</td>\n",
       "      <td>1515</td>\n",
       "      <td>1617.31</td>\n",
       "      <td>269.551667</td>\n",
       "      <td>83</td>\n",
       "      <td>1.0</td>\n",
       "      <td>0.166667</td>\n",
       "    </tr>\n",
       "    <tr>\n",
       "      <th>32</th>\n",
       "      <td>12384.0</td>\n",
       "      <td>28</td>\n",
       "      <td>3</td>\n",
       "      <td>117</td>\n",
       "      <td>406.16</td>\n",
       "      <td>135.386667</td>\n",
       "      <td>25</td>\n",
       "      <td>1.0</td>\n",
       "      <td>0.333333</td>\n",
       "    </tr>\n",
       "    <tr>\n",
       "      <th>39</th>\n",
       "      <td>12395.0</td>\n",
       "      <td>15</td>\n",
       "      <td>15</td>\n",
       "      <td>2092</td>\n",
       "      <td>2662.28</td>\n",
       "      <td>177.485333</td>\n",
       "      <td>90</td>\n",
       "      <td>3.0</td>\n",
       "      <td>0.200000</td>\n",
       "    </tr>\n",
       "    <tr>\n",
       "      <th>47</th>\n",
       "      <td>12406.0</td>\n",
       "      <td>21</td>\n",
       "      <td>3</td>\n",
       "      <td>1809</td>\n",
       "      <td>3280.75</td>\n",
       "      <td>1093.583333</td>\n",
       "      <td>92</td>\n",
       "      <td>1.0</td>\n",
       "      <td>0.333333</td>\n",
       "    </tr>\n",
       "    <tr>\n",
       "      <th>49</th>\n",
       "      <td>12408.0</td>\n",
       "      <td>32</td>\n",
       "      <td>8</td>\n",
       "      <td>1382</td>\n",
       "      <td>2587.57</td>\n",
       "      <td>323.446250</td>\n",
       "      <td>80</td>\n",
       "      <td>3.0</td>\n",
       "      <td>0.375000</td>\n",
       "    </tr>\n",
       "    <tr>\n",
       "      <th>50</th>\n",
       "      <td>12409.0</td>\n",
       "      <td>78</td>\n",
       "      <td>7</td>\n",
       "      <td>5543</td>\n",
       "      <td>11056.93</td>\n",
       "      <td>1579.561429</td>\n",
       "      <td>91</td>\n",
       "      <td>4.0</td>\n",
       "      <td>0.571429</td>\n",
       "    </tr>\n",
       "    <tr>\n",
       "      <th>51</th>\n",
       "      <td>12410.0</td>\n",
       "      <td>300</td>\n",
       "      <td>3</td>\n",
       "      <td>205</td>\n",
       "      <td>521.08</td>\n",
       "      <td>173.693333</td>\n",
       "      <td>25</td>\n",
       "      <td>1.0</td>\n",
       "      <td>0.333333</td>\n",
       "    </tr>\n",
       "  </tbody>\n",
       "</table>\n",
       "</div>"
      ],
      "text/plain": [
       "    Customer ID  Recency  Total_Transactions  Total_Products_Purchased  \\\n",
       "0       12346.0      325                   2                         0   \n",
       "5       12352.0       35                   8                       463   \n",
       "12      12359.0        7                   6                      1599   \n",
       "15      12362.0        2                  13                      2180   \n",
       "25      12375.0        2                   3                       175   \n",
       "28      12379.0       81                   3                       401   \n",
       "29      12380.0       21                   5                      1109   \n",
       "30      12381.0        4                   4                       772   \n",
       "31      12383.0      184                   6                      1515   \n",
       "32      12384.0       28                   3                       117   \n",
       "39      12395.0       15                  15                      2092   \n",
       "47      12406.0       21                   3                      1809   \n",
       "49      12408.0       32                   8                      1382   \n",
       "50      12409.0       78                   7                      5543   \n",
       "51      12410.0      300                   3                       205   \n",
       "\n",
       "    Total_Spend  Average_Transaction_Value  Unique_Products_Purchased  \\\n",
       "0          0.00                   0.000000                          1   \n",
       "5       1265.41                 158.176250                         57   \n",
       "12      6182.98                1030.496667                        214   \n",
       "15      4665.58                 358.890769                        200   \n",
       "25       375.42                 125.140000                         13   \n",
       "28       775.29                 258.430000                         38   \n",
       "29      2423.56                 484.712000                         76   \n",
       "30      1433.46                 358.365000                         69   \n",
       "31      1617.31                 269.551667                         83   \n",
       "32       406.16                 135.386667                         25   \n",
       "39      2662.28                 177.485333                         90   \n",
       "47      3280.75                1093.583333                         92   \n",
       "49      2587.57                 323.446250                         80   \n",
       "50     11056.93                1579.561429                         91   \n",
       "51       521.08                 173.693333                         25   \n",
       "\n",
       "    Cancellation_Frequency  Cancellation_Rate  \n",
       "0                      1.0           0.500000  \n",
       "5                      1.0           0.125000  \n",
       "12                     2.0           0.333333  \n",
       "15                     3.0           0.230769  \n",
       "25                     1.0           0.333333  \n",
       "28                     1.0           0.333333  \n",
       "29                     1.0           0.200000  \n",
       "30                     1.0           0.250000  \n",
       "31                     1.0           0.166667  \n",
       "32                     1.0           0.333333  \n",
       "39                     3.0           0.200000  \n",
       "47                     1.0           0.333333  \n",
       "49                     3.0           0.375000  \n",
       "50                     4.0           0.571429  \n",
       "51                     1.0           0.333333  "
      ]
     },
     "execution_count": 38,
     "metadata": {},
     "output_type": "execute_result"
    }
   ],
   "source": [
    "# Number of customers who cancelled at least one transaction\n",
    "customers_who_cancelled = customer_data[customer_data['Cancellation_Rate'] > 0]\n",
    "print(f\"Number of customers who cancelled at least one transaction: {customers_who_cancelled.shape[0]}\")\n",
    "customers_who_cancelled.head(15)"
   ]
  },
  {
   "cell_type": "markdown",
   "metadata": {},
   "source": [
    "## Seasonality\n",
    "\n",
    "The seasonality in customers' purchasing behaviors can offer invaluable insights for tailoring marketing strategies and enhancing customer satisfaction. Here are the two features to introduce:\n",
    "\n",
    "- **Monthly_Spending_Mean:** This is the average amount a customer spends monthly. It helps us gauge the general spending habit of each customer. A higher mean indicates a customer who spends more, potentially showing interest in premium products, whereas a lower mean might indicate a more budget-conscious customer.\n",
    "\n",
    "- **Monthly_Spending_Std:** This feature indicates the variability in a customer's monthly spending. A higher value signals that the customer's spending fluctuates significantly month-to-month, perhaps indicating sporadic large purchases. In contrast, a lower value suggests more stable, consistent spending habits. Understanding this variability can help in crafting personalized promotions or discounts during periods they are expected to spend more."
   ]
  },
  {
   "cell_type": "code",
   "execution_count": 39,
   "metadata": {},
   "outputs": [],
   "source": [
    "# Extract month and year from InvoiceDate\n",
    "df['Year'] = df['InvoiceDate'].dt.year\n",
    "df['Month'] = df['InvoiceDate'].dt.month\n",
    "\n",
    "# Calculate monthly spending for each customer\n",
    "monthly_spending = df.groupby(['Customer ID', 'Year', 'Month'])['TotalPrice'].sum().reset_index()\n",
    "\n",
    "# Calculate Seasonal Buying Patterns: We are using monthly frequency as a proxy for seasonal buying patterns\n",
    "seasonal_buying_patterns = monthly_spending.groupby('Customer ID')['TotalPrice'].agg(['mean', 'std']).reset_index()\n",
    "seasonal_buying_patterns.rename(columns={'mean': 'Monthly_Spending_Mean', 'std': 'Monthly_Spending_Std'}, inplace=True)\n",
    "\n",
    "# Replace NaN values in Monthly_Spending_Std with 0, implying no variability for customers with single transaction month\n",
    "seasonal_buying_patterns['Monthly_Spending_Std'].fillna(0, inplace=True)\n",
    "\n",
    "# Remove the Year and Month columns from the original dataframe\n",
    "df.drop(columns=['Year', 'Month'], inplace=True)"
   ]
  },
  {
   "cell_type": "code",
   "execution_count": 40,
   "metadata": {},
   "outputs": [
    {
     "data": {
      "text/html": [
       "<div>\n",
       "<style scoped>\n",
       "    .dataframe tbody tr th:only-of-type {\n",
       "        vertical-align: middle;\n",
       "    }\n",
       "\n",
       "    .dataframe tbody tr th {\n",
       "        vertical-align: top;\n",
       "    }\n",
       "\n",
       "    .dataframe thead th {\n",
       "        text-align: right;\n",
       "    }\n",
       "</style>\n",
       "<table border=\"1\" class=\"dataframe\">\n",
       "  <thead>\n",
       "    <tr style=\"text-align: right;\">\n",
       "      <th></th>\n",
       "      <th>Customer ID</th>\n",
       "      <th>Recency</th>\n",
       "      <th>Total_Transactions</th>\n",
       "      <th>Total_Products_Purchased</th>\n",
       "      <th>Total_Spend</th>\n",
       "      <th>Average_Transaction_Value</th>\n",
       "      <th>Unique_Products_Purchased</th>\n",
       "      <th>Cancellation_Frequency</th>\n",
       "      <th>Cancellation_Rate</th>\n",
       "      <th>Monthly_Spending_Mean</th>\n",
       "      <th>Monthly_Spending_Std</th>\n",
       "    </tr>\n",
       "  </thead>\n",
       "  <tbody>\n",
       "    <tr>\n",
       "      <th>0</th>\n",
       "      <td>12346.0</td>\n",
       "      <td>325</td>\n",
       "      <td>2</td>\n",
       "      <td>0</td>\n",
       "      <td>0.00</td>\n",
       "      <td>0.000000</td>\n",
       "      <td>1</td>\n",
       "      <td>1.0</td>\n",
       "      <td>0.5</td>\n",
       "      <td>0.000000</td>\n",
       "      <td>0.000000</td>\n",
       "    </tr>\n",
       "    <tr>\n",
       "      <th>1</th>\n",
       "      <td>12347.0</td>\n",
       "      <td>1</td>\n",
       "      <td>7</td>\n",
       "      <td>2458</td>\n",
       "      <td>4310.00</td>\n",
       "      <td>615.714286</td>\n",
       "      <td>103</td>\n",
       "      <td>0.0</td>\n",
       "      <td>0.0</td>\n",
       "      <td>615.714286</td>\n",
       "      <td>341.070789</td>\n",
       "    </tr>\n",
       "    <tr>\n",
       "      <th>2</th>\n",
       "      <td>12348.0</td>\n",
       "      <td>74</td>\n",
       "      <td>4</td>\n",
       "      <td>2332</td>\n",
       "      <td>1437.24</td>\n",
       "      <td>359.310000</td>\n",
       "      <td>21</td>\n",
       "      <td>0.0</td>\n",
       "      <td>0.0</td>\n",
       "      <td>359.310000</td>\n",
       "      <td>203.875689</td>\n",
       "    </tr>\n",
       "    <tr>\n",
       "      <th>3</th>\n",
       "      <td>12349.0</td>\n",
       "      <td>18</td>\n",
       "      <td>1</td>\n",
       "      <td>630</td>\n",
       "      <td>1457.55</td>\n",
       "      <td>1457.550000</td>\n",
       "      <td>72</td>\n",
       "      <td>0.0</td>\n",
       "      <td>0.0</td>\n",
       "      <td>1457.550000</td>\n",
       "      <td>0.000000</td>\n",
       "    </tr>\n",
       "    <tr>\n",
       "      <th>4</th>\n",
       "      <td>12350.0</td>\n",
       "      <td>309</td>\n",
       "      <td>1</td>\n",
       "      <td>196</td>\n",
       "      <td>294.40</td>\n",
       "      <td>294.400000</td>\n",
       "      <td>16</td>\n",
       "      <td>0.0</td>\n",
       "      <td>0.0</td>\n",
       "      <td>294.400000</td>\n",
       "      <td>0.000000</td>\n",
       "    </tr>\n",
       "  </tbody>\n",
       "</table>\n",
       "</div>"
      ],
      "text/plain": [
       "   Customer ID  Recency  Total_Transactions  Total_Products_Purchased  \\\n",
       "0      12346.0      325                   2                         0   \n",
       "1      12347.0        1                   7                      2458   \n",
       "2      12348.0       74                   4                      2332   \n",
       "3      12349.0       18                   1                       630   \n",
       "4      12350.0      309                   1                       196   \n",
       "\n",
       "   Total_Spend  Average_Transaction_Value  Unique_Products_Purchased  \\\n",
       "0         0.00                   0.000000                          1   \n",
       "1      4310.00                 615.714286                        103   \n",
       "2      1437.24                 359.310000                         21   \n",
       "3      1457.55                1457.550000                         72   \n",
       "4       294.40                 294.400000                         16   \n",
       "\n",
       "   Cancellation_Frequency  Cancellation_Rate  Monthly_Spending_Mean  \\\n",
       "0                     1.0                0.5               0.000000   \n",
       "1                     0.0                0.0             615.714286   \n",
       "2                     0.0                0.0             359.310000   \n",
       "3                     0.0                0.0            1457.550000   \n",
       "4                     0.0                0.0             294.400000   \n",
       "\n",
       "   Monthly_Spending_Std  \n",
       "0              0.000000  \n",
       "1            341.070789  \n",
       "2            203.875689  \n",
       "3              0.000000  \n",
       "4              0.000000  "
      ]
     },
     "execution_count": 40,
     "metadata": {},
     "output_type": "execute_result"
    }
   ],
   "source": [
    "# Merge the new features into the customer_data dataframe\n",
    "customer_data = pd.merge(customer_data, seasonal_buying_patterns, on='Customer ID')\n",
    "\n",
    "# Display the first few rows of the customer_data dataframe\n",
    "customer_data.head()"
   ]
  },
  {
   "cell_type": "markdown",
   "metadata": {},
   "source": [
    "## Customer Dataset Description\n",
    "\n",
    "| **Column**                    | **Description**                                                                                      |\n",
    "|-------------------------------|------------------------------------------------------------------------------------------------------|\n",
    "| Customer ID                   | Identifier uniquely assigned to each customer, used to distinguish individual customers.             |\n",
    "| Recency                       | The number of days that have passed since the customer's last purchase.                             |\n",
    "| Total_Transactions            | The total number of transactions made by the customer.                                              |\n",
    "| Total_Products_Purchased      | The total quantity of products purchased by the customer across all transactions.                   |\n",
    "| Total_Spend                   | The total amount of money the customer has spent across all transactions.                           |\n",
    "| Average_Transaction_Value     | The average value of the customer's transactions, calculated as total spend divided by transactions. |\n",
    "| Unique_Products_Purchased     | The number of different products the customer has purchased.                                        |\n",
    "| Cancellation_Frequency        | The total number of transactions that the customer has cancelled.                                   |\n",
    "| Cancellation_Rate             | The proportion of transactions that the customer has cancelled, calculated as cancellations/total.  |\n",
    "| Monthly_Spending_Mean         | The average monthly spending of the customer.                                                       |\n",
    "| Monthly_Spending_Std          | The standard deviation of the customer's monthly spending, indicating variability.                  |\n"
   ]
  },
  {
   "cell_type": "markdown",
   "metadata": {},
   "source": [
    "## Outlier Detection\n",
    "\n",
    "For a better understanding of the data, we will apply Isolation Forest to detect outliers.\n",
    "\n",
    "**Isolation Forest** algorithm works well for multi-dimensional data and is computationally efficient. It isolates observations by randomly selecting a feature and then randomly selecting a split value between the maximum and minimum values of the selected feature."
   ]
  },
  {
   "cell_type": "code",
   "execution_count": 41,
   "metadata": {},
   "outputs": [
    {
     "name": "stdout",
     "output_type": "stream",
     "text": [
      "                       mean  median      std     min        max\n",
      "Recency               91.17   49.00   100.97     0.0     373.00\n",
      "Total_Transactions     4.99    3.00     9.08     1.0     242.00\n",
      "Total_Spend         1894.60  641.78  8266.05 -1192.2  278778.02\n"
     ]
    }
   ],
   "source": [
    "# Calculate descriptive statistics\n",
    "stats = customer_data[['Recency', 'Total_Transactions', 'Total_Spend']].describe().T\n",
    "stats['median'] = customer_data[['Recency', 'Total_Transactions', 'Total_Spend']].median()\n",
    "stats = stats[['mean', 'median', 'std', 'min', 'max']]\n",
    "print(stats.round(2))"
   ]
  },
  {
   "cell_type": "code",
   "execution_count": 42,
   "metadata": {},
   "outputs": [
    {
     "data": {
      "image/png": "[encoded data removed]",
      "text/plain": [
       "<Figure size 640x480 with 1 Axes>"
      ]
     },
     "metadata": {},
     "output_type": "display_data"
    }
   ],
   "source": [
    "import numpy as np\n",
    "from sklearn.cluster import KMeans\n",
    "from sklearn.metrics import silhouette_score\n",
    "from sklearn.ensemble import IsolationForest\n",
    "import matplotlib.pyplot as plt\n",
    "\n",
    "# Select features for anomaly detection\n",
    "X = customer_data[['Recency', 'Total_Transactions', 'Total_Spend']]\n",
    "\n",
    "# Visualize the process of finding the optimal number of percentage of contamination\n",
    "contaminations = np.linspace(0.01, 0.10, 10)\n",
    "scores = []\n",
    "\n",
    "for c in contaminations:\n",
    "    iso = IsolationForest(contamination=c, random_state=0)\n",
    "    mask = iso.fit_predict(X) == 1\n",
    "    km = KMeans(n_clusters=3, random_state=0).fit(X[mask])\n",
    "    scores.append(silhouette_score(X[mask], km.labels_))\n",
    "\n",
    "# Plot\n",
    "plt.plot(contaminations, scores, marker='o')\n",
    "for x, y in zip(contaminations, scores):\n",
    "    plt.text(x, y, f\"{y:.2f}\", ha='center', va='bottom', fontsize=9)\n",
    "\n",
    "plt.xlabel(\"Contamination\")\n",
    "plt.ylabel(\"Silhouette score\")\n",
    "plt.title(\"Silhouette vs. Contamination\")\n",
    "plt.tight_layout()\n",
    "plt.show()"
   ]
  },
  {
   "cell_type": "code",
   "execution_count": 43,
   "metadata": {},
   "outputs": [
    {
     "data": {
      "text/html": [
       "<div>\n",
       "<style scoped>\n",
       "    .dataframe tbody tr th:only-of-type {\n",
       "        vertical-align: middle;\n",
       "    }\n",
       "\n",
       "    .dataframe tbody tr th {\n",
       "        vertical-align: top;\n",
       "    }\n",
       "\n",
       "    .dataframe thead th {\n",
       "        text-align: right;\n",
       "    }\n",
       "</style>\n",
       "<table border=\"1\" class=\"dataframe\">\n",
       "  <thead>\n",
       "    <tr style=\"text-align: right;\">\n",
       "      <th></th>\n",
       "      <th>Customer ID</th>\n",
       "      <th>Recency</th>\n",
       "      <th>Total_Transactions</th>\n",
       "      <th>Total_Products_Purchased</th>\n",
       "      <th>Total_Spend</th>\n",
       "      <th>Average_Transaction_Value</th>\n",
       "      <th>Unique_Products_Purchased</th>\n",
       "      <th>Cancellation_Frequency</th>\n",
       "      <th>Cancellation_Rate</th>\n",
       "      <th>Monthly_Spending_Mean</th>\n",
       "      <th>Monthly_Spending_Std</th>\n",
       "      <th>Outlier</th>\n",
       "    </tr>\n",
       "  </thead>\n",
       "  <tbody>\n",
       "    <tr>\n",
       "      <th>0</th>\n",
       "      <td>12346.0</td>\n",
       "      <td>325</td>\n",
       "      <td>2</td>\n",
       "      <td>0</td>\n",
       "      <td>0.00</td>\n",
       "      <td>0.000000</td>\n",
       "      <td>1</td>\n",
       "      <td>1.0</td>\n",
       "      <td>0.500</td>\n",
       "      <td>0.000000</td>\n",
       "      <td>0.000000</td>\n",
       "      <td>0</td>\n",
       "    </tr>\n",
       "    <tr>\n",
       "      <th>1</th>\n",
       "      <td>12347.0</td>\n",
       "      <td>1</td>\n",
       "      <td>7</td>\n",
       "      <td>2458</td>\n",
       "      <td>4310.00</td>\n",
       "      <td>615.714286</td>\n",
       "      <td>103</td>\n",
       "      <td>0.0</td>\n",
       "      <td>0.000</td>\n",
       "      <td>615.714286</td>\n",
       "      <td>341.070789</td>\n",
       "      <td>0</td>\n",
       "    </tr>\n",
       "    <tr>\n",
       "      <th>2</th>\n",
       "      <td>12348.0</td>\n",
       "      <td>74</td>\n",
       "      <td>4</td>\n",
       "      <td>2332</td>\n",
       "      <td>1437.24</td>\n",
       "      <td>359.310000</td>\n",
       "      <td>21</td>\n",
       "      <td>0.0</td>\n",
       "      <td>0.000</td>\n",
       "      <td>359.310000</td>\n",
       "      <td>203.875689</td>\n",
       "      <td>0</td>\n",
       "    </tr>\n",
       "    <tr>\n",
       "      <th>3</th>\n",
       "      <td>12349.0</td>\n",
       "      <td>18</td>\n",
       "      <td>1</td>\n",
       "      <td>630</td>\n",
       "      <td>1457.55</td>\n",
       "      <td>1457.550000</td>\n",
       "      <td>72</td>\n",
       "      <td>0.0</td>\n",
       "      <td>0.000</td>\n",
       "      <td>1457.550000</td>\n",
       "      <td>0.000000</td>\n",
       "      <td>0</td>\n",
       "    </tr>\n",
       "    <tr>\n",
       "      <th>4</th>\n",
       "      <td>12350.0</td>\n",
       "      <td>309</td>\n",
       "      <td>1</td>\n",
       "      <td>196</td>\n",
       "      <td>294.40</td>\n",
       "      <td>294.400000</td>\n",
       "      <td>16</td>\n",
       "      <td>0.0</td>\n",
       "      <td>0.000</td>\n",
       "      <td>294.400000</td>\n",
       "      <td>0.000000</td>\n",
       "      <td>0</td>\n",
       "    </tr>\n",
       "    <tr>\n",
       "      <th>5</th>\n",
       "      <td>12352.0</td>\n",
       "      <td>35</td>\n",
       "      <td>8</td>\n",
       "      <td>463</td>\n",
       "      <td>1265.41</td>\n",
       "      <td>158.176250</td>\n",
       "      <td>57</td>\n",
       "      <td>1.0</td>\n",
       "      <td>0.125</td>\n",
       "      <td>316.352500</td>\n",
       "      <td>134.700629</td>\n",
       "      <td>0</td>\n",
       "    </tr>\n",
       "    <tr>\n",
       "      <th>6</th>\n",
       "      <td>12353.0</td>\n",
       "      <td>203</td>\n",
       "      <td>1</td>\n",
       "      <td>20</td>\n",
       "      <td>89.00</td>\n",
       "      <td>89.000000</td>\n",
       "      <td>4</td>\n",
       "      <td>0.0</td>\n",
       "      <td>0.000</td>\n",
       "      <td>89.000000</td>\n",
       "      <td>0.000000</td>\n",
       "      <td>0</td>\n",
       "    </tr>\n",
       "    <tr>\n",
       "      <th>7</th>\n",
       "      <td>12354.0</td>\n",
       "      <td>231</td>\n",
       "      <td>1</td>\n",
       "      <td>530</td>\n",
       "      <td>1079.40</td>\n",
       "      <td>1079.400000</td>\n",
       "      <td>58</td>\n",
       "      <td>0.0</td>\n",
       "      <td>0.000</td>\n",
       "      <td>1079.400000</td>\n",
       "      <td>0.000000</td>\n",
       "      <td>0</td>\n",
       "    </tr>\n",
       "    <tr>\n",
       "      <th>8</th>\n",
       "      <td>12355.0</td>\n",
       "      <td>213</td>\n",
       "      <td>1</td>\n",
       "      <td>240</td>\n",
       "      <td>459.40</td>\n",
       "      <td>459.400000</td>\n",
       "      <td>13</td>\n",
       "      <td>0.0</td>\n",
       "      <td>0.000</td>\n",
       "      <td>459.400000</td>\n",
       "      <td>0.000000</td>\n",
       "      <td>0</td>\n",
       "    </tr>\n",
       "    <tr>\n",
       "      <th>9</th>\n",
       "      <td>12356.0</td>\n",
       "      <td>22</td>\n",
       "      <td>3</td>\n",
       "      <td>1573</td>\n",
       "      <td>2487.43</td>\n",
       "      <td>829.143333</td>\n",
       "      <td>52</td>\n",
       "      <td>0.0</td>\n",
       "      <td>0.000</td>\n",
       "      <td>829.143333</td>\n",
       "      <td>991.462585</td>\n",
       "      <td>0</td>\n",
       "    </tr>\n",
       "  </tbody>\n",
       "</table>\n",
       "</div>"
      ],
      "text/plain": [
       "   Customer ID  Recency  Total_Transactions  Total_Products_Purchased  \\\n",
       "0      12346.0      325                   2                         0   \n",
       "1      12347.0        1                   7                      2458   \n",
       "2      12348.0       74                   4                      2332   \n",
       "3      12349.0       18                   1                       630   \n",
       "4      12350.0      309                   1                       196   \n",
       "5      12352.0       35                   8                       463   \n",
       "6      12353.0      203                   1                        20   \n",
       "7      12354.0      231                   1                       530   \n",
       "8      12355.0      213                   1                       240   \n",
       "9      12356.0       22                   3                      1573   \n",
       "\n",
       "   Total_Spend  Average_Transaction_Value  Unique_Products_Purchased  \\\n",
       "0         0.00                   0.000000                          1   \n",
       "1      4310.00                 615.714286                        103   \n",
       "2      1437.24                 359.310000                         21   \n",
       "3      1457.55                1457.550000                         72   \n",
       "4       294.40                 294.400000                         16   \n",
       "5      1265.41                 158.176250                         57   \n",
       "6        89.00                  89.000000                          4   \n",
       "7      1079.40                1079.400000                         58   \n",
       "8       459.40                 459.400000                         13   \n",
       "9      2487.43                 829.143333                         52   \n",
       "\n",
       "   Cancellation_Frequency  Cancellation_Rate  Monthly_Spending_Mean  \\\n",
       "0                     1.0              0.500               0.000000   \n",
       "1                     0.0              0.000             615.714286   \n",
       "2                     0.0              0.000             359.310000   \n",
       "3                     0.0              0.000            1457.550000   \n",
       "4                     0.0              0.000             294.400000   \n",
       "5                     1.0              0.125             316.352500   \n",
       "6                     0.0              0.000              89.000000   \n",
       "7                     0.0              0.000            1079.400000   \n",
       "8                     0.0              0.000             459.400000   \n",
       "9                     0.0              0.000             829.143333   \n",
       "\n",
       "   Monthly_Spending_Std  Outlier  \n",
       "0              0.000000        0  \n",
       "1            341.070789        0  \n",
       "2            203.875689        0  \n",
       "3              0.000000        0  \n",
       "4              0.000000        0  \n",
       "5            134.700629        0  \n",
       "6              0.000000        0  \n",
       "7              0.000000        0  \n",
       "8              0.000000        0  \n",
       "9            991.462585        0  "
      ]
     },
     "execution_count": 43,
     "metadata": {},
     "output_type": "execute_result"
    }
   ],
   "source": [
    "# Fit the Isolation Forest model\n",
    "model = IsolationForest(contamination=0.01, random_state=42)\n",
    "model.fit(X)\n",
    "\n",
    "# Predict anomalies\n",
    "anomalies = model.predict(X)\n",
    "anomalies = pd.Series(anomalies, index=customer_data.index)\n",
    "customer_data['Outlier'] = anomalies\n",
    "customer_data['Outlier'] = customer_data['Outlier'].map({1: 0, -1: 1})  # Convert to binary (0 for normal, 1 for anomaly)\n",
    "\n",
    "# Display the first few rows of the customer_data dataframe\n",
    "customer_data.head(10)"
   ]
  },
  {
   "cell_type": "code",
   "execution_count": 44,
   "metadata": {},
   "outputs": [
    {
     "name": "stdout",
     "output_type": "stream",
     "text": [
      "Percentage of outliers: 1.01%\n",
      "Number of outliers: 44\n"
     ]
    }
   ],
   "source": [
    "# Percentage of outliers\n",
    "outlier_percentage = (customer_data['Outlier'].sum() / customer_data.shape[0]) * 100\n",
    "print(f\"Percentage of outliers: {outlier_percentage:.2f}%\")\n",
    "\n",
    "# Print the number of outliers\n",
    "print(f\"Number of outliers: {customer_data['Outlier'].sum()}\")"
   ]
  },
  {
   "cell_type": "code",
   "execution_count": 45,
   "metadata": {},
   "outputs": [
    {
     "name": "stdout",
     "output_type": "stream",
     "text": [
      "Outliers:\n",
      "      Customer ID  Recency  Total_Transactions  Total_Spend\n",
      "55        12415.0       23                  24    123638.18\n",
      "100       12471.0        1                  45     16323.52\n",
      "328       12748.0        0                 217     29819.99\n",
      "448       12921.0        3                  50     16389.74\n",
      "456       12931.0       21                  19     33544.81\n",
      "485       12971.0        3                  88     10933.76\n",
      "566       13089.0        2                 118     57322.13\n",
      "570       13093.0      266                  13      7741.47\n",
      "574       13098.0        0                  41     28658.88\n",
      "799       13408.0        1                  75     27888.38\n",
      "1001      13694.0        3                  57     62961.54\n",
      "1058      13767.0        1                  52     16945.71\n",
      "1063      13777.0        0                  40     25758.10\n",
      "1074      13798.0        0                  63     36352.87\n",
      "1291      14088.0        9                  14     50415.49\n",
      "1296      14096.0        3                  17     53258.43\n",
      "1341      14156.0        9                  64    113685.77\n",
      "1443      14298.0        2                  45     50862.44\n",
      "1670      14606.0        0                 125     11486.60\n",
      "1699      14646.0        1                  73    278778.02\n",
      "1891      14911.0        0                 242    128768.24\n",
      "1976      15039.0        9                  52     19638.59\n",
      "1995      15061.0        3                  54     54250.34\n",
      "2023      15098.0      181                   4     39619.50\n",
      "2075      15159.0        1                  34     18573.68\n",
      "2095      15189.0        0                  53     15802.14\n",
      "2188      15311.0        0                 118     59284.19\n",
      "2516      15749.0      234                   4     21535.90\n",
      "2531      15769.0        6                  29     51823.72\n",
      "2583      15838.0       10                  20     33362.28\n",
      "2701      16013.0        3                  52     33453.45\n",
      "2715      16029.0       38                  66     60369.93\n",
      "2791      16133.0        3                  46     14305.66\n",
      "3007      16422.0       16                  60     34311.00\n",
      "3195      16684.0        3                  30     65920.12\n",
      "3704      17389.0        0                  42     31317.48\n",
      "3749      17450.0        7                  49    189575.53\n",
      "3792      17511.0        2                  45     88138.20\n",
      "3916      17675.0        0                  41     20083.10\n",
      "3918      17677.0        1                  43     16201.37\n",
      "4033      17841.0        1                 169     39861.49\n",
      "4038      17850.0      301                  35      5303.48\n",
      "4115      17949.0        0                  49     53215.74\n",
      "4223      18102.0        0                  60    259657.30\n"
     ]
    }
   ],
   "source": [
    "# Print customer data with outliers\n",
    "outliers = customer_data[customer_data['Outlier'] == 1]\n",
    "print(\"Outliers:\")\n",
    "print(outliers[['Customer ID', 'Recency', 'Total_Transactions', 'Total_Spend']])"
   ]
  },
  {
   "cell_type": "code",
   "execution_count": 46,
   "metadata": {},
   "outputs": [
    {
     "data": {
      "text/plain": [
       "4362"
      ]
     },
     "execution_count": 46,
     "metadata": {},
     "output_type": "execute_result"
    }
   ],
   "source": [
    "# Separate outliers\n",
    "outliers = customer_data[customer_data['Outlier'] == 1]\n",
    "\n",
    "customer_data_cleaned = customer_data.copy()\n",
    "\n",
    "# Drop the Outlier column\n",
    "customer_data_cleaned.drop(columns=['Outlier'], inplace=True)\n",
    "customer_data_cleaned.reset_index(drop=True, inplace=True)\n",
    "\n",
    "customer_data_cleaned.shape[0]"
   ]
  },
  {
   "cell_type": "markdown",
   "metadata": {},
   "source": [
    "### Inferences\n",
    "\n",
    "The curve clearly shows that the higher the percentage of outliers to remove, the worse the internal \"quality\" of the clusters (silhouette score) becomes. Specifically:\n",
    "\n",
    "- Maximum peak at 0.01 (≈0.73).\n",
    "\n",
    "- From there, as the proportion of data removed increases, the silhouette score drops fairly steadily.\n",
    "\n",
    "### Strategy\n",
    "\n",
    "It is a good practice to handle these outliers to prevent them from affecting the clusters' quality significantly. In this case the outliers detected are customers who spend the most, the most important ones. Therefore the strategy will be to keep them and consider applying Hierarchical clustering too."
   ]
  },
  {
   "cell_type": "markdown",
   "metadata": {},
   "source": [
    "## Correlation Analysis\n",
    "\n",
    "Before we proceed to KMeans clustering, it's essential to check the correlation between features in our dataset."
   ]
  },
  {
   "cell_type": "code",
   "execution_count": 47,
   "metadata": {},
   "outputs": [
    {
     "data": {
      "application/vnd.plotly.v1+json": {
       "config": {
        "plotlyServerURL": "https://plot.ly"
       },
       "data": [
        {
         "coloraxis": "coloraxis",
         "hovertemplate": "x: %{x}<br>y: %{y}<br>Correlación: %{z}<extra></extra>",
         "name": "0",
         "textfont": {
          "family": "Arial",
          "size": 18
         },
         "texttemplate": "%{z:.2f}",
         "type": "heatmap",
         "x": [
          "Recency",
          "Total_Transactions",
          "Total_Products_Purchased",
          "Total_Spend",
          "Average_Transaction_Value",
          "Unique_Products_Purchased",
          "Cancellation_Frequency",
          "Cancellation_Rate",
          "Monthly_Spending_Mean",
          "Monthly_Spending_Std"
         ],
         "xaxis": "x",
         "y": [
          "Recency",
          "Total_Transactions",
          "Total_Products_Purchased",
          "Total_Spend",
          "Average_Transaction_Value",
          "Unique_Products_Purchased",
          "Cancellation_Frequency",
          "Cancellation_Rate",
          "Monthly_Spending_Mean",
          "Monthly_Spending_Std"
         ],
         "yaxis": "y",
         "z": {
          "bdata": "AAAAAAAA8D8AAAAAAAD4fwAAAAAAAPh/AAAAAAAA+H8AAAAAAAD4fwAAAAAAAPh/AAAAAAAA+H8AAAAAAAD4fwAAAAAAAPh/AAAAAAAA+H+kcD0K16PQvwAAAAAAAPA/AAAAAAAA+H8AAAAAAAD4fwAAAAAAAPh/AAAAAAAA+H8AAAAAAAD4fwAAAAAAAPh/AAAAAAAA+H8AAAAAAAD4f+xRuB6F68G/PQrXo3A94j8AAAAAAADwPwAAAAAAAPh/AAAAAAAA+H8AAAAAAAD4fwAAAAAAAPh/AAAAAAAA+H8AAAAAAAD4fwAAAAAAAPh/pHA9CtejwL+amZmZmZnhP3E9CtejcO0/AAAAAAAA8D8AAAAAAAD4fwAAAAAAAPh/AAAAAAAA+H8AAAAAAAD4fwAAAAAAAPh/AAAAAAAA+H/sUbgeheuxv3sUrkfherQ/UrgehetR2D8pXI/C9SjcPwAAAAAAAPA/AAAAAAAA+H8AAAAAAAD4fwAAAAAAAPh/AAAAAAAA+H8AAAAAAAD4fzMzMzMzM9O/ZmZmZmZm5j8pXI/C9SjcP5qZmZmZmdk/CtejcD0Kxz8AAAAAAADwPwAAAAAAAPh/AAAAAAAA+H8AAAAAAAD4fwAAAAAAAPh/UrgehetRyL9I4XoUrkfpP2ZmZmZmZtY/w/UoXI/C1T8AAAAAAAAAAPYoXI/C9eA/AAAAAAAA8D8AAAAAAAD4fwAAAAAAAPh/AAAAAAAA+H97FK5H4XqEvzMzMzMzM8M/uB6F61G4nj+4HoXrUbiePylcj8L1KLy/exSuR+F6tD/NzMzMzMzcPwAAAAAAAPA/AAAAAAAA+H8AAAAAAAD4f3sUrkfherS/H4XrUbge1T/Xo3A9CtfjP1yPwvUoXOc/SOF6FK5H6T+PwvUoXI/SP1K4HoXrUcg/exSuR+F6hD8AAAAAAADwPwAAAAAAAPh/uB6F61G4vr+amZmZmZnZPxSuR+F6FOY/PQrXo3A96j+4HoXrUbjeP3sUrkfhetQ/AAAAAAAA0D+amZmZmZm5Px+F61G4HuU/AAAAAAAA8D8=",
          "dtype": "f8",
          "shape": "10, 10"
         }
        }
       ],
       "layout": {
        "coloraxis": {
         "colorbar": {
          "title": {
           "text": "Correlación"
          }
         },
         "colorscale": [
          [
           0,
           "#ffffff"
          ],
          [
           1,
           "#1C9BF9"
          ]
         ]
        },
        "font": {
         "size": 15
        },
        "height": 900,
        "margin": {
         "t": 60
        },
        "template": {
         "data": {
          "bar": [
           {
            "error_x": {
             "color": "#2a3f5f"
            },
            "error_y": {
             "color": "#2a3f5f"
            },
            "marker": {
             "line": {
              "color": "#E5ECF6",
              "width": 0.5
             },
             "pattern": {
              "fillmode": "overlay",
              "size": 10,
              "solidity": 0.2
             }
            },
            "type": "bar"
           }
          ],
          "barpolar": [
           {
            "marker": {
             "line": {
              "color": "#E5ECF6",
              "width": 0.5
             },
             "pattern": {
              "fillmode": "overlay",
              "size": 10,
              "solidity": 0.2
             }
            },
            "type": "barpolar"
           }
          ],
          "carpet": [
           {
            "aaxis": {
             "endlinecolor": "#2a3f5f",
             "gridcolor": "white",
             "linecolor": "white",
             "minorgridcolor": "white",
             "startlinecolor": "#2a3f5f"
            },
            "baxis": {
             "endlinecolor": "#2a3f5f",
             "gridcolor": "white",
             "linecolor": "white",
             "minorgridcolor": "white",
             "startlinecolor": "#2a3f5f"
            },
            "type": "carpet"
           }
          ],
          "choropleth": [
           {
            "colorbar": {
             "outlinewidth": 0,
             "ticks": ""
            },
            "type": "choropleth"
           }
          ],
          "contour": [
           {
            "colorbar": {
             "outlinewidth": 0,
             "ticks": ""
            },
            "colorscale": [
             [
              0,
              "#0d0887"
             ],
             [
              0.1111111111111111,
              "#46039f"
             ],
             [
              0.2222222222222222,
              "#7201a8"
             ],
             [
              0.3333333333333333,
              "#9c179e"
             ],
             [
              0.4444444444444444,
              "#bd3786"
             ],
             [
              0.5555555555555556,
              "#d8576b"
             ],
             [
              0.6666666666666666,
              "#ed7953"
             ],
             [
              0.7777777777777778,
              "#fb9f3a"
             ],
             [
              0.8888888888888888,
              "#fdca26"
             ],
             [
              1,
              "#f0f921"
             ]
            ],
            "type": "contour"
           }
          ],
          "contourcarpet": [
           {
            "colorbar": {
             "outlinewidth": 0,
             "ticks": ""
            },
            "type": "contourcarpet"
           }
          ],
          "heatmap": [
           {
            "colorbar": {
             "outlinewidth": 0,
             "ticks": ""
            },
            "colorscale": [
             [
              0,
              "#0d0887"
             ],
             [
              0.1111111111111111,
              "#46039f"
             ],
             [
              0.2222222222222222,
              "#7201a8"
             ],
             [
              0.3333333333333333,
              "#9c179e"
             ],
             [
              0.4444444444444444,
              "#bd3786"
             ],
             [
              0.5555555555555556,
              "#d8576b"
             ],
             [
              0.6666666666666666,
              "#ed7953"
             ],
             [
              0.7777777777777778,
              "#fb9f3a"
             ],
             [
              0.8888888888888888,
              "#fdca26"
             ],
             [
              1,
              "#f0f921"
             ]
            ],
            "type": "heatmap"
           }
          ],
          "histogram": [
           {
            "marker": {
             "pattern": {
              "fillmode": "overlay",
              "size": 10,
              "solidity": 0.2
             }
            },
            "type": "histogram"
           }
          ],
          "histogram2d": [
           {
            "colorbar": {
             "outlinewidth": 0,
             "ticks": ""
            },
            "colorscale": [
             [
              0,
              "#0d0887"
             ],
             [
              0.1111111111111111,
              "#46039f"
             ],
             [
              0.2222222222222222,
              "#7201a8"
             ],
             [
              0.3333333333333333,
              "#9c179e"
             ],
             [
              0.4444444444444444,
              "#bd3786"
             ],
             [
              0.5555555555555556,
              "#d8576b"
             ],
             [
              0.6666666666666666,
              "#ed7953"
             ],
             [
              0.7777777777777778,
              "#fb9f3a"
             ],
             [
              0.8888888888888888,
              "#fdca26"
             ],
             [
              1,
              "#f0f921"
             ]
            ],
            "type": "histogram2d"
           }
          ],
          "histogram2dcontour": [
           {
            "colorbar": {
             "outlinewidth": 0,
             "ticks": ""
            },
            "colorscale": [
             [
              0,
              "#0d0887"
             ],
             [
              0.1111111111111111,
              "#46039f"
             ],
             [
              0.2222222222222222,
              "#7201a8"
             ],
             [
              0.3333333333333333,
              "#9c179e"
             ],
             [
              0.4444444444444444,
              "#bd3786"
             ],
             [
              0.5555555555555556,
              "#d8576b"
             ],
             [
              0.6666666666666666,
              "#ed7953"
             ],
             [
              0.7777777777777778,
              "#fb9f3a"
             ],
             [
              0.8888888888888888,
              "#fdca26"
             ],
             [
              1,
              "#f0f921"
             ]
            ],
            "type": "histogram2dcontour"
           }
          ],
          "mesh3d": [
           {
            "colorbar": {
             "outlinewidth": 0,
             "ticks": ""
            },
            "type": "mesh3d"
           }
          ],
          "parcoords": [
           {
            "line": {
             "colorbar": {
              "outlinewidth": 0,
              "ticks": ""
             }
            },
            "type": "parcoords"
           }
          ],
          "pie": [
           {
            "automargin": true,
            "type": "pie"
           }
          ],
          "scatter": [
           {
            "fillpattern": {
             "fillmode": "overlay",
             "size": 10,
             "solidity": 0.2
            },
            "type": "scatter"
           }
          ],
          "scatter3d": [
           {
            "line": {
             "colorbar": {
              "outlinewidth": 0,
              "ticks": ""
             }
            },
            "marker": {
             "colorbar": {
              "outlinewidth": 0,
              "ticks": ""
             }
            },
            "type": "scatter3d"
           }
          ],
          "scattercarpet": [
           {
            "marker": {
             "colorbar": {
              "outlinewidth": 0,
              "ticks": ""
             }
            },
            "type": "scattercarpet"
           }
          ],
          "scattergeo": [
           {
            "marker": {
             "colorbar": {
              "outlinewidth": 0,
              "ticks": ""
             }
            },
            "type": "scattergeo"
           }
          ],
          "scattergl": [
           {
            "marker": {
             "colorbar": {
              "outlinewidth": 0,
              "ticks": ""
             }
            },
            "type": "scattergl"
           }
          ],
          "scattermap": [
           {
            "marker": {
             "colorbar": {
              "outlinewidth": 0,
              "ticks": ""
             }
            },
            "type": "scattermap"
           }
          ],
          "scattermapbox": [
           {
            "marker": {
             "colorbar": {
              "outlinewidth": 0,
              "ticks": ""
             }
            },
            "type": "scattermapbox"
           }
          ],
          "scatterpolar": [
           {
            "marker": {
             "colorbar": {
              "outlinewidth": 0,
              "ticks": ""
             }
            },
            "type": "scatterpolar"
           }
          ],
          "scatterpolargl": [
           {
            "marker": {
             "colorbar": {
              "outlinewidth": 0,
              "ticks": ""
             }
            },
            "type": "scatterpolargl"
           }
          ],
          "scatterternary": [
           {
            "marker": {
             "colorbar": {
              "outlinewidth": 0,
              "ticks": ""
             }
            },
            "type": "scatterternary"
           }
          ],
          "surface": [
           {
            "colorbar": {
             "outlinewidth": 0,
             "ticks": ""
            },
            "colorscale": [
             [
              0,
              "#0d0887"
             ],
             [
              0.1111111111111111,
              "#46039f"
             ],
             [
              0.2222222222222222,
              "#7201a8"
             ],
             [
              0.3333333333333333,
              "#9c179e"
             ],
             [
              0.4444444444444444,
              "#bd3786"
             ],
             [
              0.5555555555555556,
              "#d8576b"
             ],
             [
              0.6666666666666666,
              "#ed7953"
             ],
             [
              0.7777777777777778,
              "#fb9f3a"
             ],
             [
              0.8888888888888888,
              "#fdca26"
             ],
             [
              1,
              "#f0f921"
             ]
            ],
            "type": "surface"
           }
          ],
          "table": [
           {
            "cells": {
             "fill": {
              "color": "#EBF0F8"
             },
             "line": {
              "color": "white"
             }
            },
            "header": {
             "fill": {
              "color": "#C8D4E3"
             },
             "line": {
              "color": "white"
             }
            },
            "type": "table"
           }
          ]
         },
         "layout": {
          "annotationdefaults": {
           "arrowcolor": "#2a3f5f",
           "arrowhead": 0,
           "arrowwidth": 1
          },
          "autotypenumbers": "strict",
          "coloraxis": {
           "colorbar": {
            "outlinewidth": 0,
            "ticks": ""
           }
          },
          "colorscale": {
           "diverging": [
            [
             0,
             "#8e0152"
            ],
            [
             0.1,
             "#c51b7d"
            ],
            [
             0.2,
             "#de77ae"
            ],
            [
             0.3,
             "#f1b6da"
            ],
            [
             0.4,
             "#fde0ef"
            ],
            [
             0.5,
             "#f7f7f7"
            ],
            [
             0.6,
             "#e6f5d0"
            ],
            [
             0.7,
             "#b8e186"
            ],
            [
             0.8,
             "#7fbc41"
            ],
            [
             0.9,
             "#4d9221"
            ],
            [
             1,
             "#276419"
            ]
           ],
           "sequential": [
            [
             0,
             "#0d0887"
            ],
            [
             0.1111111111111111,
             "#46039f"
            ],
            [
             0.2222222222222222,
             "#7201a8"
            ],
            [
             0.3333333333333333,
             "#9c179e"
            ],
            [
             0.4444444444444444,
             "#bd3786"
            ],
            [
             0.5555555555555556,
             "#d8576b"
            ],
            [
             0.6666666666666666,
             "#ed7953"
            ],
            [
             0.7777777777777778,
             "#fb9f3a"
            ],
            [
             0.8888888888888888,
             "#fdca26"
            ],
            [
             1,
             "#f0f921"
            ]
           ],
           "sequentialminus": [
            [
             0,
             "#0d0887"
            ],
            [
             0.1111111111111111,
             "#46039f"
            ],
            [
             0.2222222222222222,
             "#7201a8"
            ],
            [
             0.3333333333333333,
             "#9c179e"
            ],
            [
             0.4444444444444444,
             "#bd3786"
            ],
            [
             0.5555555555555556,
             "#d8576b"
            ],
            [
             0.6666666666666666,
             "#ed7953"
            ],
            [
             0.7777777777777778,
             "#fb9f3a"
            ],
            [
             0.8888888888888888,
             "#fdca26"
            ],
            [
             1,
             "#f0f921"
            ]
           ]
          },
          "colorway": [
           "#636efa",
           "#EF553B",
           "#00cc96",
           "#ab63fa",
           "#FFA15A",
           "#19d3f3",
           "#FF6692",
           "#B6E880",
           "#FF97FF",
           "#FECB52"
          ],
          "font": {
           "color": "#2a3f5f"
          },
          "geo": {
           "bgcolor": "white",
           "lakecolor": "white",
           "landcolor": "#E5ECF6",
           "showlakes": true,
           "showland": true,
           "subunitcolor": "white"
          },
          "hoverlabel": {
           "align": "left"
          },
          "hovermode": "closest",
          "mapbox": {
           "style": "light"
          },
          "paper_bgcolor": "white",
          "plot_bgcolor": "#E5ECF6",
          "polar": {
           "angularaxis": {
            "gridcolor": "white",
            "linecolor": "white",
            "ticks": ""
           },
           "bgcolor": "#E5ECF6",
           "radialaxis": {
            "gridcolor": "white",
            "linecolor": "white",
            "ticks": ""
           }
          },
          "scene": {
           "xaxis": {
            "backgroundcolor": "#E5ECF6",
            "gridcolor": "white",
            "gridwidth": 2,
            "linecolor": "white",
            "showbackground": true,
            "ticks": "",
            "zerolinecolor": "white"
           },
           "yaxis": {
            "backgroundcolor": "#E5ECF6",
            "gridcolor": "white",
            "gridwidth": 2,
            "linecolor": "white",
            "showbackground": true,
            "ticks": "",
            "zerolinecolor": "white"
           },
           "zaxis": {
            "backgroundcolor": "#E5ECF6",
            "gridcolor": "white",
            "gridwidth": 2,
            "linecolor": "white",
            "showbackground": true,
            "ticks": "",
            "zerolinecolor": "white"
           }
          },
          "shapedefaults": {
           "line": {
            "color": "#2a3f5f"
           }
          },
          "ternary": {
           "aaxis": {
            "gridcolor": "white",
            "linecolor": "white",
            "ticks": ""
           },
           "baxis": {
            "gridcolor": "white",
            "linecolor": "white",
            "ticks": ""
           },
           "bgcolor": "#E5ECF6",
           "caxis": {
            "gridcolor": "white",
            "linecolor": "white",
            "ticks": ""
           }
          },
          "title": {
           "x": 0.05
          },
          "xaxis": {
           "automargin": true,
           "gridcolor": "white",
           "linecolor": "white",
           "ticks": "",
           "title": {
            "standoff": 15
           },
           "zerolinecolor": "white",
           "zerolinewidth": 2
          },
          "yaxis": {
           "automargin": true,
           "gridcolor": "white",
           "linecolor": "white",
           "ticks": "",
           "title": {
            "standoff": 15
           },
           "zerolinecolor": "white",
           "zerolinewidth": 2
          }
         }
        },
        "width": 900,
        "xaxis": {
         "anchor": "y",
         "constrain": "domain",
         "domain": [
          0,
          1
         ],
         "scaleanchor": "y",
         "side": "bottom",
         "tickangle": -90,
         "tickfont": {
          "family": "Arial",
          "size": 14
         }
        },
        "yaxis": {
         "anchor": "x",
         "autorange": "reversed",
         "constrain": "domain",
         "domain": [
          0,
          1
         ],
         "tickfont": {
          "family": "Arial",
          "size": 14
         }
        }
       }
      }
     },
     "metadata": {},
     "output_type": "display_data"
    }
   ],
   "source": [
    "from plotly import express as px\n",
    "\n",
    "# Calcular la matriz de correlación (redondeada)\n",
    "corr = customer_data_cleaned.drop(columns=['Customer ID']).corr().round(2)\n",
    "\n",
    "# Crear máscara para mantener solo la mitad inferior\n",
    "mask = np.triu(np.ones(corr.shape), k=1).astype(bool)\n",
    "corr_masked = corr.mask(mask)\n",
    "\n",
    "# Crear heatmap\n",
    "fig = px.imshow(\n",
    "    corr_masked,\n",
    "    text_auto=True,\n",
    "    color_continuous_scale=[\"#ffffff\", \"#1C9BF9\"],\n",
    "    aspect=\"equal\",\n",
    "    labels=dict(x=\"\", y=\"\", color=\"Correlación\")\n",
    ")\n",
    "\n",
    "# Personalizar layout\n",
    "fig.update_layout(\n",
    "    width=900,\n",
    "    height=900,\n",
    "    xaxis_side=\"bottom\",  # Que aparezcan abajo\n",
    "    font=dict(size=15),\n",
    "    xaxis=dict(tickfont=dict(family=\"Arial\", size=14)),\n",
    "    yaxis=dict(tickfont=dict(family=\"Arial\", size=14))\n",
    ")\n",
    "\n",
    "# Cambiar fuente de los números dentro del heatmap\n",
    "fig.update_traces(\n",
    "    textfont=dict(family=\"Arial\", size=18),\n",
    "    texttemplate=\"%{z:.2f}\"\n",
    ")\n",
    "\n",
    "# Mantener etiquetas horizontales\n",
    "fig.update_xaxes(tickangle=270)\n",
    "\n",
    "fig.show()"
   ]
  },
  {
   "cell_type": "markdown",
   "metadata": {},
   "source": [
    "### Inferences\n",
    "\n",
    "- **Recency:** The more recent the customer’s last purchase, the more transactions (-0.26), products (-0.14), and money (-0.13) they spent. A shorter recency is associated with higher engagement, and customers who returned recently also bought a wider variety of products (-0.30).\n",
    "- **Total_Transactions:** More transactions are tied to more products purchased (0.57), higher total spending (0.55), a wider range of items (0.70), and a higher number of cancellations (0.35). Frequent customers tend to be high spenders who explore more products and are also more likely to cancel.\n",
    "- **Total_Products_Purchased:** Buying more products correlates strongly with total spend (0.92), showing that product quantity drives revenue. It’s also linked to greater variety (0.44), more transactions (0.57), and slightly with more cancellations (0.35). These customers tend to be somewhat more recent (-0.14).\n",
    "- **Total_Spend:** Strongly tied to product volume (0.92), purchase variety (0.40), and both average (0.79) and variable (0.82) monthly spending. High spenders also transact more (0.55) and have more recent activity (-0.13). This is the clearest indicator of high-value customers.\n",
    "- **Average_Transaction_Value:** Closely associated with average monthly spending (0.79) and moderately with total spend (0.44). This feature reflects purchasing power per transaction, but has minimal correlation with frequency or recency.\n",
    "- **Unique_Products_Purchased:** A wider range of products is linked to more transactions (0.70), total spend (0.40), and product count (0.44). These customers tend to cancel slightly more (0.53) and have made more recent purchases (-0.30).\n",
    "- **Cancellation_Frequency:** More frequent cancellations correlate with product variety (0.53), total product count (0.35), and number of transactions (0.35). These customers are active but may have issues with satisfaction. They also tend to have bought more recently (-0.19).\n",
    "- **Cancellation_Rate:** Only moderately associated with cancellation frequency (0.45), and largely independent of recency (-0.01), spend (0.03), or transaction volume. It likely reflects a behavioral pattern not directly tied to purchase value.\n",
    "- **Monthly_Spending_Mean:** Strongly correlated with total spend (0.73), transaction value (0.79), and product quantity (0.62). This metric reflects stable, high-value customer behavior and a pattern of regular spending.\n",
    "- **Monthly_Spending_Std:** High variability in monthly spending correlates with higher overall spending (0.82), higher monthly average (0.66), and slightly more products (0.69). These customers tend to be recent buyers (-0.12) with inconsistent but impactful purchasing patterns.\n"
   ]
  },
  {
   "cell_type": "markdown",
   "metadata": {},
   "source": [
    "## StandardScaler Application\n",
    "\n",
    "K-means relies heavily on the concept of 'distance' between data points to form clusters. When features are not on a similar scale, features with larger values can disproportionately influence the clustering outcome, potentially leading to incorrect groupings. That's why data must be standardized."
   ]
  },
  {
   "cell_type": "code",
   "execution_count": 48,
   "metadata": {},
   "outputs": [
    {
     "data": {
      "text/html": [
       "<div>\n",
       "<style scoped>\n",
       "    .dataframe tbody tr th:only-of-type {\n",
       "        vertical-align: middle;\n",
       "    }\n",
       "\n",
       "    .dataframe tbody tr th {\n",
       "        vertical-align: top;\n",
       "    }\n",
       "\n",
       "    .dataframe thead th {\n",
       "        text-align: right;\n",
       "    }\n",
       "</style>\n",
       "<table border=\"1\" class=\"dataframe\">\n",
       "  <thead>\n",
       "    <tr style=\"text-align: right;\">\n",
       "      <th></th>\n",
       "      <th>Recency</th>\n",
       "      <th>Total_Transactions</th>\n",
       "      <th>Total_Spend</th>\n",
       "    </tr>\n",
       "    <tr>\n",
       "      <th>Customer ID</th>\n",
       "      <th></th>\n",
       "      <th></th>\n",
       "      <th></th>\n",
       "    </tr>\n",
       "  </thead>\n",
       "  <tbody>\n",
       "    <tr>\n",
       "      <th>12346.0</th>\n",
       "      <td>2.316176</td>\n",
       "      <td>-0.329598</td>\n",
       "      <td>-0.229229</td>\n",
       "    </tr>\n",
       "    <tr>\n",
       "      <th>12347.0</th>\n",
       "      <td>-0.893205</td>\n",
       "      <td>0.220952</td>\n",
       "      <td>0.292240</td>\n",
       "    </tr>\n",
       "    <tr>\n",
       "      <th>12348.0</th>\n",
       "      <td>-0.170103</td>\n",
       "      <td>-0.109378</td>\n",
       "      <td>-0.055337</td>\n",
       "    </tr>\n",
       "    <tr>\n",
       "      <th>12349.0</th>\n",
       "      <td>-0.724811</td>\n",
       "      <td>-0.439709</td>\n",
       "      <td>-0.052880</td>\n",
       "    </tr>\n",
       "    <tr>\n",
       "      <th>12350.0</th>\n",
       "      <td>2.157688</td>\n",
       "      <td>-0.439709</td>\n",
       "      <td>-0.193610</td>\n",
       "    </tr>\n",
       "  </tbody>\n",
       "</table>\n",
       "</div>"
      ],
      "text/plain": [
       "              Recency  Total_Transactions  Total_Spend\n",
       "Customer ID                                           \n",
       "12346.0      2.316176           -0.329598    -0.229229\n",
       "12347.0     -0.893205            0.220952     0.292240\n",
       "12348.0     -0.170103           -0.109378    -0.055337\n",
       "12349.0     -0.724811           -0.439709    -0.052880\n",
       "12350.0      2.157688           -0.439709    -0.193610"
      ]
     },
     "execution_count": 48,
     "metadata": {},
     "output_type": "execute_result"
    }
   ],
   "source": [
    "from sklearn.preprocessing import StandardScaler\n",
    "\n",
    "# Feature selection\n",
    "RFM_features = ['Customer ID','Recency', 'Total_Transactions', 'Total_Spend']\n",
    "customer_RFM = customer_data_cleaned[RFM_features]\n",
    "\n",
    "# Initialize the StandardScaler\n",
    "scaler = StandardScaler()\n",
    "\n",
    "# List of columns that don't need to be scaled\n",
    "columns_to_exclude = ['Customer ID']\n",
    "\n",
    "# List of columns that need to be scaled\n",
    "columns_to_scale = customer_RFM.columns.difference(columns_to_exclude)\n",
    "\n",
    "# Copy the cleaned dataset\n",
    "customer_RFM_scaled = customer_RFM.copy()\n",
    "\n",
    "# Applying the scaler to the necessary columns in the dataset\n",
    "customer_RFM_scaled[columns_to_scale] = scaler.fit_transform(customer_RFM_scaled[columns_to_scale])\n",
    "\n",
    "# Set 'Customer ID' as index\n",
    "customer_RFM_scaled.set_index('Customer ID', inplace=True)\n",
    "\n",
    "# Display the first few rows of the scaled data\n",
    "customer_RFM_scaled.head()"
   ]
  },
  {
   "cell_type": "markdown",
   "metadata": {},
   "source": [
    "## Determining the Optimal Number of Clusters\n",
    "\n",
    "To ascertain the optimal number of clusters (k) for segmenting customers, I will explore two renowned methods:\n",
    "\n",
    "- **Elbow Method**\n",
    "\n",
    "- **Silhouette Method**"
   ]
  },
  {
   "cell_type": "code",
   "execution_count": 49,
   "metadata": {},
   "outputs": [
    {
     "data": {
      "image/png": "[encoded data removed]",
      "text/plain": [
       "<Figure size 1200x500 with 2 Axes>"
      ]
     },
     "metadata": {},
     "output_type": "display_data"
    }
   ],
   "source": [
    "# Elbow method to find the optimal number of clusters\n",
    "from sklearn.cluster import KMeans\n",
    "from sklearn.metrics import silhouette_score\n",
    "\n",
    "# Range of clusters to test\n",
    "range_n_clusters = range(2, 10)\n",
    "inertia = []\n",
    "silhouette_scores = []\n",
    "\n",
    "# Loop through the range of clusters\n",
    "for n_clusters in range_n_clusters:\n",
    "    kmeans = KMeans(n_clusters=n_clusters, random_state=42)\n",
    "    kmeans.fit(customer_RFM_scaled)\n",
    "    \n",
    "    # Calculate inertia\n",
    "    inertia.append(kmeans.inertia_)\n",
    "    \n",
    "    # Calculate silhouette score\n",
    "    silhouette_avg = silhouette_score(customer_RFM_scaled, kmeans.labels_)\n",
    "    silhouette_scores.append(silhouette_avg)\n",
    "\n",
    "# Plotting the elbow method\n",
    "plt.figure(figsize=(12, 5))\n",
    "plt.subplot(1, 2, 1)\n",
    "plt.plot(range_n_clusters, inertia, marker='o')\n",
    "plt.title('Elbow Method')\n",
    "plt.xlabel('Number of Clusters')\n",
    "plt.ylabel('Inertia')\n",
    "plt.grid()\n",
    "plt.subplot(1, 2, 2)\n",
    "plt.plot(range_n_clusters, silhouette_scores, marker='o')\n",
    "plt.title('Silhouette Score')\n",
    "plt.xlabel('Number of Clusters')\n",
    "plt.ylabel('Silhouette Score')\n",
    "plt.grid()\n",
    "plt.tight_layout()\n",
    "plt.show()"
   ]
  },
  {
   "cell_type": "markdown",
   "metadata": {},
   "source": [
    "### Inferences\n",
    "\n",
    "**Elbow: k between 4 and 5:** The inertia drops sharply from k = 2 to k = 4, and then begins to flatten from k = 5 onward. The point where the inertia starts to diminish at a slower rate is around k = 4 or 5. This suggests that the optimal number of clusters is likely between 4 and 5, as adding more clusters beyond this point yields smaller improvements.\n",
    "\n",
    "**Silhouette: k = 3 clearly wins:** Among higher values, k = 4 has the next highest silhouette score, indicating relatively well-separated and cohesive clusters. After k = 4, the silhouette score declines, showing reduced clustering quality.\n",
    "\n",
    "Although k = 2 gives the highest silhouette score, a choice of k = 4 provides a strong balance between cluster cohesion and model complexity. 4 clusters is the best option for a RFM Segmentation."
   ]
  },
  {
   "cell_type": "markdown",
   "metadata": {},
   "source": [
    "## Applying Clustering KMeans"
   ]
  },
  {
   "cell_type": "code",
   "execution_count": 50,
   "metadata": {},
   "outputs": [
    {
     "data": {
      "text/html": [
       "<div>\n",
       "<style scoped>\n",
       "    .dataframe tbody tr th:only-of-type {\n",
       "        vertical-align: middle;\n",
       "    }\n",
       "\n",
       "    .dataframe tbody tr th {\n",
       "        vertical-align: top;\n",
       "    }\n",
       "\n",
       "    .dataframe thead th {\n",
       "        text-align: right;\n",
       "    }\n",
       "</style>\n",
       "<table border=\"1\" class=\"dataframe\">\n",
       "  <thead>\n",
       "    <tr style=\"text-align: right;\">\n",
       "      <th></th>\n",
       "      <th>Customer ID</th>\n",
       "      <th>Recency</th>\n",
       "      <th>Total_Transactions</th>\n",
       "      <th>Total_Products_Purchased</th>\n",
       "      <th>Total_Spend</th>\n",
       "      <th>Average_Transaction_Value</th>\n",
       "      <th>Unique_Products_Purchased</th>\n",
       "      <th>Cancellation_Frequency</th>\n",
       "      <th>Cancellation_Rate</th>\n",
       "      <th>Monthly_Spending_Mean</th>\n",
       "      <th>Monthly_Spending_Std</th>\n",
       "      <th>cluster</th>\n",
       "    </tr>\n",
       "  </thead>\n",
       "  <tbody>\n",
       "    <tr>\n",
       "      <th>0</th>\n",
       "      <td>12346.0</td>\n",
       "      <td>325</td>\n",
       "      <td>2</td>\n",
       "      <td>0</td>\n",
       "      <td>0.00</td>\n",
       "      <td>0.000000</td>\n",
       "      <td>1</td>\n",
       "      <td>1.0</td>\n",
       "      <td>0.5</td>\n",
       "      <td>0.000000</td>\n",
       "      <td>0.000000</td>\n",
       "      <td>1</td>\n",
       "    </tr>\n",
       "    <tr>\n",
       "      <th>1</th>\n",
       "      <td>12347.0</td>\n",
       "      <td>1</td>\n",
       "      <td>7</td>\n",
       "      <td>2458</td>\n",
       "      <td>4310.00</td>\n",
       "      <td>615.714286</td>\n",
       "      <td>103</td>\n",
       "      <td>0.0</td>\n",
       "      <td>0.0</td>\n",
       "      <td>615.714286</td>\n",
       "      <td>341.070789</td>\n",
       "      <td>0</td>\n",
       "    </tr>\n",
       "    <tr>\n",
       "      <th>2</th>\n",
       "      <td>12348.0</td>\n",
       "      <td>74</td>\n",
       "      <td>4</td>\n",
       "      <td>2332</td>\n",
       "      <td>1437.24</td>\n",
       "      <td>359.310000</td>\n",
       "      <td>21</td>\n",
       "      <td>0.0</td>\n",
       "      <td>0.0</td>\n",
       "      <td>359.310000</td>\n",
       "      <td>203.875689</td>\n",
       "      <td>0</td>\n",
       "    </tr>\n",
       "    <tr>\n",
       "      <th>3</th>\n",
       "      <td>12349.0</td>\n",
       "      <td>18</td>\n",
       "      <td>1</td>\n",
       "      <td>630</td>\n",
       "      <td>1457.55</td>\n",
       "      <td>1457.550000</td>\n",
       "      <td>72</td>\n",
       "      <td>0.0</td>\n",
       "      <td>0.0</td>\n",
       "      <td>1457.550000</td>\n",
       "      <td>0.000000</td>\n",
       "      <td>0</td>\n",
       "    </tr>\n",
       "    <tr>\n",
       "      <th>4</th>\n",
       "      <td>12350.0</td>\n",
       "      <td>309</td>\n",
       "      <td>1</td>\n",
       "      <td>196</td>\n",
       "      <td>294.40</td>\n",
       "      <td>294.400000</td>\n",
       "      <td>16</td>\n",
       "      <td>0.0</td>\n",
       "      <td>0.0</td>\n",
       "      <td>294.400000</td>\n",
       "      <td>0.000000</td>\n",
       "      <td>1</td>\n",
       "    </tr>\n",
       "  </tbody>\n",
       "</table>\n",
       "</div>"
      ],
      "text/plain": [
       "   Customer ID  Recency  Total_Transactions  Total_Products_Purchased  \\\n",
       "0      12346.0      325                   2                         0   \n",
       "1      12347.0        1                   7                      2458   \n",
       "2      12348.0       74                   4                      2332   \n",
       "3      12349.0       18                   1                       630   \n",
       "4      12350.0      309                   1                       196   \n",
       "\n",
       "   Total_Spend  Average_Transaction_Value  Unique_Products_Purchased  \\\n",
       "0         0.00                   0.000000                          1   \n",
       "1      4310.00                 615.714286                        103   \n",
       "2      1437.24                 359.310000                         21   \n",
       "3      1457.55                1457.550000                         72   \n",
       "4       294.40                 294.400000                         16   \n",
       "\n",
       "   Cancellation_Frequency  Cancellation_Rate  Monthly_Spending_Mean  \\\n",
       "0                     1.0                0.5               0.000000   \n",
       "1                     0.0                0.0             615.714286   \n",
       "2                     0.0                0.0             359.310000   \n",
       "3                     0.0                0.0            1457.550000   \n",
       "4                     0.0                0.0             294.400000   \n",
       "\n",
       "   Monthly_Spending_Std  cluster  \n",
       "0              0.000000        1  \n",
       "1            341.070789        0  \n",
       "2            203.875689        0  \n",
       "3              0.000000        0  \n",
       "4              0.000000        1  "
      ]
     },
     "execution_count": 50,
     "metadata": {},
     "output_type": "execute_result"
    }
   ],
   "source": [
    "from collections import Counter\n",
    "\n",
    "# Apply KMeans clustering using the optimal k\n",
    "kmeans = KMeans(n_clusters=4, init='k-means++', n_init=10, max_iter=100, random_state=42)\n",
    "kmeans.fit(customer_RFM_scaled)\n",
    "\n",
    "# Get the frequency of each cluster\n",
    "cluster_frequencies = Counter(kmeans.labels_)\n",
    "\n",
    "freq_sorted = cluster_frequencies.most_common()  \n",
    "#    freq_sorted = [(3, 50), (1, 45), (4, 40), (0, 30), (2, 25)]\n",
    "\n",
    "label_mapping = {old_label: new_label for new_label, (old_label, _) in enumerate(freq_sorted)}\n",
    "#    label_mapping = {3:0, 1:1, 4:2, 0:3, 2:4}\n",
    "\n",
    "# Apply that mapping to each label generated by KMeans\n",
    "original_labels = kmeans.labels_                    # array([2, 0, 3, 3, 1, ...])\n",
    "new_labels = np.array([label_mapping[label] for label in original_labels])\n",
    "\n",
    "# Add the new labels to the original DataFrame\n",
    "customer_RFM_scaled['cluster'] = new_labels\n",
    "customer_data_cleaned['cluster'] = new_labels\n",
    "\n",
    "customer_data_cleaned.head()"
   ]
  },
  {
   "cell_type": "code",
   "execution_count": 51,
   "metadata": {},
   "outputs": [
    {
     "name": "stdout",
     "output_type": "stream",
     "text": [
      "cluster\n",
      "0    3071\n",
      "1    1073\n",
      "2     207\n",
      "3      11\n",
      "Name: count, dtype: int64\n"
     ]
    }
   ],
   "source": [
    "print(customer_data_cleaned['cluster'].value_counts().sort_index())"
   ]
  },
  {
   "cell_type": "code",
   "execution_count": 52,
   "metadata": {},
   "outputs": [
    {
     "name": "stdout",
     "output_type": "stream",
     "text": [
      "K-Means Clustering Metrics:\n",
      "Silhouette Score K-Means: 0.6757703128490342\n",
      "Calinski-Harabasz Score K-Means: 3732.4828701170163\n",
      "Davies-Bouldin Score K-Means: 0.7266546820394173\n"
     ]
    }
   ],
   "source": [
    "from sklearn.metrics import silhouette_score, calinski_harabasz_score, davies_bouldin_score\n",
    "\n",
    "features = customer_RFM_scaled.values\n",
    "\n",
    "# Calculate the metrics for K-Means clustering\n",
    "kmeans_silhouette = silhouette_score(features, kmeans.labels_)\n",
    "kmeans_calinski = calinski_harabasz_score(features, kmeans.labels_)\n",
    "kmeans_davies = davies_bouldin_score(features, kmeans.labels_)\n",
    "\n",
    "# Print the metrics\n",
    "print(\"K-Means Clustering Metrics:\")\n",
    "print(\"Silhouette Score K-Means:\", kmeans_silhouette)\n",
    "print(\"Calinski-Harabasz Score K-Means:\", kmeans_calinski)\n",
    "print(\"Davies-Bouldin Score K-Means:\", kmeans_davies)"
   ]
  },
  {
   "cell_type": "code",
   "execution_count": 53,
   "metadata": {},
   "outputs": [
    {
     "data": {
      "application/vnd.plotly.v1+json": {
       "config": {
        "plotlyServerURL": "https://plot.ly"
       },
       "data": [
        {
         "hovertemplate": "Recency=%{x}<br>Total_Transactions=%{y}<br>Total_Spend=%{z}<br>cluster=%{marker.color}<extra></extra>",
         "legendgroup": "",
         "marker": {
          "color": {
           "bdata": "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",
           "dtype": "i1"
          },
          "coloraxis": "coloraxis",
          "symbol": "circle"
         },
         "mode": "markers",
         "name": "",
         "scene": "scene",
         "showlegend": false,
         "type": "scatter3d",
         "x": {
          "bdata": "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",
          "dtype": "f8"
         },
         "y": {
          "bdata": "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",
          "dtype": "f8"
         },
         "z": {
          "bdata": "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",
          "dtype": "f8"
         }
        }
       ],
       "layout": {
        "coloraxis": {
         "colorbar": {
          "title": {
           "text": "cluster"
          }
         },
         "colorscale": [
          [
           0,
           "#0d0887"
          ],
          [
           0.1111111111111111,
           "#46039f"
          ],
          [
           0.2222222222222222,
           "#7201a8"
          ],
          [
           0.3333333333333333,
           "#9c179e"
          ],
          [
           0.4444444444444444,
           "#bd3786"
          ],
          [
           0.5555555555555556,
           "#d8576b"
          ],
          [
           0.6666666666666666,
           "#ed7953"
          ],
          [
           0.7777777777777778,
           "#fb9f3a"
          ],
          [
           0.8888888888888888,
           "#fdca26"
          ],
          [
           1,
           "#f0f921"
          ]
         ]
        },
        "legend": {
         "tracegroupgap": 0
        },
        "margin": {
         "t": 60
        },
        "scene": {
         "domain": {
          "x": [
           0,
           1
          ],
          "y": [
           0,
           1
          ]
         },
         "xaxis": {
          "title": {
           "text": "Recency"
          }
         },
         "yaxis": {
          "title": {
           "text": "Total_Transactions"
          }
         },
         "zaxis": {
          "title": {
           "text": "Total_Spend"
          }
         }
        },
        "template": {
         "data": {
          "bar": [
           {
            "error_x": {
             "color": "#2a3f5f"
            },
            "error_y": {
             "color": "#2a3f5f"
            },
            "marker": {
             "line": {
              "color": "#E5ECF6",
              "width": 0.5
             },
             "pattern": {
              "fillmode": "overlay",
              "size": 10,
              "solidity": 0.2
             }
            },
            "type": "bar"
           }
          ],
          "barpolar": [
           {
            "marker": {
             "line": {
              "color": "#E5ECF6",
              "width": 0.5
             },
             "pattern": {
              "fillmode": "overlay",
              "size": 10,
              "solidity": 0.2
             }
            },
            "type": "barpolar"
           }
          ],
          "carpet": [
           {
            "aaxis": {
             "endlinecolor": "#2a3f5f",
             "gridcolor": "white",
             "linecolor": "white",
             "minorgridcolor": "white",
             "startlinecolor": "#2a3f5f"
            },
            "baxis": {
             "endlinecolor": "#2a3f5f",
             "gridcolor": "white",
             "linecolor": "white",
             "minorgridcolor": "white",
             "startlinecolor": "#2a3f5f"
            },
            "type": "carpet"
           }
          ],
          "choropleth": [
           {
            "colorbar": {
             "outlinewidth": 0,
             "ticks": ""
            },
            "type": "choropleth"
           }
          ],
          "contour": [
           {
            "colorbar": {
             "outlinewidth": 0,
             "ticks": ""
            },
            "colorscale": [
             [
              0,
              "#0d0887"
             ],
             [
              0.1111111111111111,
              "#46039f"
             ],
             [
              0.2222222222222222,
              "#7201a8"
             ],
             [
              0.3333333333333333,
              "#9c179e"
             ],
             [
              0.4444444444444444,
              "#bd3786"
             ],
             [
              0.5555555555555556,
              "#d8576b"
             ],
             [
              0.6666666666666666,
              "#ed7953"
             ],
             [
              0.7777777777777778,
              "#fb9f3a"
             ],
             [
              0.8888888888888888,
              "#fdca26"
             ],
             [
              1,
              "#f0f921"
             ]
            ],
            "type": "contour"
           }
          ],
          "contourcarpet": [
           {
            "colorbar": {
             "outlinewidth": 0,
             "ticks": ""
            },
            "type": "contourcarpet"
           }
          ],
          "heatmap": [
           {
            "colorbar": {
             "outlinewidth": 0,
             "ticks": ""
            },
            "colorscale": [
             [
              0,
              "#0d0887"
             ],
             [
              0.1111111111111111,
              "#46039f"
             ],
             [
              0.2222222222222222,
              "#7201a8"
             ],
             [
              0.3333333333333333,
              "#9c179e"
             ],
             [
              0.4444444444444444,
              "#bd3786"
             ],
             [
              0.5555555555555556,
              "#d8576b"
             ],
             [
              0.6666666666666666,
              "#ed7953"
             ],
             [
              0.7777777777777778,
              "#fb9f3a"
             ],
             [
              0.8888888888888888,
              "#fdca26"
             ],
             [
              1,
              "#f0f921"
             ]
            ],
            "type": "heatmap"
           }
          ],
          "histogram": [
           {
            "marker": {
             "pattern": {
              "fillmode": "overlay",
              "size": 10,
              "solidity": 0.2
             }
            },
            "type": "histogram"
           }
          ],
          "histogram2d": [
           {
            "colorbar": {
             "outlinewidth": 0,
             "ticks": ""
            },
            "colorscale": [
             [
              0,
              "#0d0887"
             ],
             [
              0.1111111111111111,
              "#46039f"
             ],
             [
              0.2222222222222222,
              "#7201a8"
             ],
             [
              0.3333333333333333,
              "#9c179e"
             ],
             [
              0.4444444444444444,
              "#bd3786"
             ],
             [
              0.5555555555555556,
              "#d8576b"
             ],
             [
              0.6666666666666666,
              "#ed7953"
             ],
             [
              0.7777777777777778,
              "#fb9f3a"
             ],
             [
              0.8888888888888888,
              "#fdca26"
             ],
             [
              1,
              "#f0f921"
             ]
            ],
            "type": "histogram2d"
           }
          ],
          "histogram2dcontour": [
           {
            "colorbar": {
             "outlinewidth": 0,
             "ticks": ""
            },
            "colorscale": [
             [
              0,
              "#0d0887"
             ],
             [
              0.1111111111111111,
              "#46039f"
             ],
             [
              0.2222222222222222,
              "#7201a8"
             ],
             [
              0.3333333333333333,
              "#9c179e"
             ],
             [
              0.4444444444444444,
              "#bd3786"
             ],
             [
              0.5555555555555556,
              "#d8576b"
             ],
             [
              0.6666666666666666,
              "#ed7953"
             ],
             [
              0.7777777777777778,
              "#fb9f3a"
             ],
             [
              0.8888888888888888,
              "#fdca26"
             ],
             [
              1,
              "#f0f921"
             ]
            ],
            "type": "histogram2dcontour"
           }
          ],
          "mesh3d": [
           {
            "colorbar": {
             "outlinewidth": 0,
             "ticks": ""
            },
            "type": "mesh3d"
           }
          ],
          "parcoords": [
           {
            "line": {
             "colorbar": {
              "outlinewidth": 0,
              "ticks": ""
             }
            },
            "type": "parcoords"
           }
          ],
          "pie": [
           {
            "automargin": true,
            "type": "pie"
           }
          ],
          "scatter": [
           {
            "fillpattern": {
             "fillmode": "overlay",
             "size": 10,
             "solidity": 0.2
            },
            "type": "scatter"
           }
          ],
          "scatter3d": [
           {
            "line": {
             "colorbar": {
              "outlinewidth": 0,
              "ticks": ""
             }
            },
            "marker": {
             "colorbar": {
              "outlinewidth": 0,
              "ticks": ""
             }
            },
            "type": "scatter3d"
           }
          ],
          "scattercarpet": [
           {
            "marker": {
             "colorbar": {
              "outlinewidth": 0,
              "ticks": ""
             }
            },
            "type": "scattercarpet"
           }
          ],
          "scattergeo": [
           {
            "marker": {
             "colorbar": {
              "outlinewidth": 0,
              "ticks": ""
             }
            },
            "type": "scattergeo"
           }
          ],
          "scattergl": [
           {
            "marker": {
             "colorbar": {
              "outlinewidth": 0,
              "ticks": ""
             }
            },
            "type": "scattergl"
           }
          ],
          "scattermap": [
           {
            "marker": {
             "colorbar": {
              "outlinewidth": 0,
              "ticks": ""
             }
            },
            "type": "scattermap"
           }
          ],
          "scattermapbox": [
           {
            "marker": {
             "colorbar": {
              "outlinewidth": 0,
              "ticks": ""
             }
            },
            "type": "scattermapbox"
           }
          ],
          "scatterpolar": [
           {
            "marker": {
             "colorbar": {
              "outlinewidth": 0,
              "ticks": ""
             }
            },
            "type": "scatterpolar"
           }
          ],
          "scatterpolargl": [
           {
            "marker": {
             "colorbar": {
              "outlinewidth": 0,
              "ticks": ""
             }
            },
            "type": "scatterpolargl"
           }
          ],
          "scatterternary": [
           {
            "marker": {
             "colorbar": {
              "outlinewidth": 0,
              "ticks": ""
             }
            },
            "type": "scatterternary"
           }
          ],
          "surface": [
           {
            "colorbar": {
             "outlinewidth": 0,
             "ticks": ""
            },
            "colorscale": [
             [
              0,
              "#0d0887"
             ],
             [
              0.1111111111111111,
              "#46039f"
             ],
             [
              0.2222222222222222,
              "#7201a8"
             ],
             [
              0.3333333333333333,
              "#9c179e"
             ],
             [
              0.4444444444444444,
              "#bd3786"
             ],
             [
              0.5555555555555556,
              "#d8576b"
             ],
             [
              0.6666666666666666,
              "#ed7953"
             ],
             [
              0.7777777777777778,
              "#fb9f3a"
             ],
             [
              0.8888888888888888,
              "#fdca26"
             ],
             [
              1,
              "#f0f921"
             ]
            ],
            "type": "surface"
           }
          ],
          "table": [
           {
            "cells": {
             "fill": {
              "color": "#EBF0F8"
             },
             "line": {
              "color": "white"
             }
            },
            "header": {
             "fill": {
              "color": "#C8D4E3"
             },
             "line": {
              "color": "white"
             }
            },
            "type": "table"
           }
          ]
         },
         "layout": {
          "annotationdefaults": {
           "arrowcolor": "#2a3f5f",
           "arrowhead": 0,
           "arrowwidth": 1
          },
          "autotypenumbers": "strict",
          "coloraxis": {
           "colorbar": {
            "outlinewidth": 0,
            "ticks": ""
           }
          },
          "colorscale": {
           "diverging": [
            [
             0,
             "#8e0152"
            ],
            [
             0.1,
             "#c51b7d"
            ],
            [
             0.2,
             "#de77ae"
            ],
            [
             0.3,
             "#f1b6da"
            ],
            [
             0.4,
             "#fde0ef"
            ],
            [
             0.5,
             "#f7f7f7"
            ],
            [
             0.6,
             "#e6f5d0"
            ],
            [
             0.7,
             "#b8e186"
            ],
            [
             0.8,
             "#7fbc41"
            ],
            [
             0.9,
             "#4d9221"
            ],
            [
             1,
             "#276419"
            ]
           ],
           "sequential": [
            [
             0,
             "#0d0887"
            ],
            [
             0.1111111111111111,
             "#46039f"
            ],
            [
             0.2222222222222222,
             "#7201a8"
            ],
            [
             0.3333333333333333,
             "#9c179e"
            ],
            [
             0.4444444444444444,
             "#bd3786"
            ],
            [
             0.5555555555555556,
             "#d8576b"
            ],
            [
             0.6666666666666666,
             "#ed7953"
            ],
            [
             0.7777777777777778,
             "#fb9f3a"
            ],
            [
             0.8888888888888888,
             "#fdca26"
            ],
            [
             1,
             "#f0f921"
            ]
           ],
           "sequentialminus": [
            [
             0,
             "#0d0887"
            ],
            [
             0.1111111111111111,
             "#46039f"
            ],
            [
             0.2222222222222222,
             "#7201a8"
            ],
            [
             0.3333333333333333,
             "#9c179e"
            ],
            [
             0.4444444444444444,
             "#bd3786"
            ],
            [
             0.5555555555555556,
             "#d8576b"
            ],
            [
             0.6666666666666666,
             "#ed7953"
            ],
            [
             0.7777777777777778,
             "#fb9f3a"
            ],
            [
             0.8888888888888888,
             "#fdca26"
            ],
            [
             1,
             "#f0f921"
            ]
           ]
          },
          "colorway": [
           "#636efa",
           "#EF553B",
           "#00cc96",
           "#ab63fa",
           "#FFA15A",
           "#19d3f3",
           "#FF6692",
           "#B6E880",
           "#FF97FF",
           "#FECB52"
          ],
          "font": {
           "color": "#2a3f5f"
          },
          "geo": {
           "bgcolor": "white",
           "lakecolor": "white",
           "landcolor": "#E5ECF6",
           "showlakes": true,
           "showland": true,
           "subunitcolor": "white"
          },
          "hoverlabel": {
           "align": "left"
          },
          "hovermode": "closest",
          "mapbox": {
           "style": "light"
          },
          "paper_bgcolor": "white",
          "plot_bgcolor": "#E5ECF6",
          "polar": {
           "angularaxis": {
            "gridcolor": "white",
            "linecolor": "white",
            "ticks": ""
           },
           "bgcolor": "#E5ECF6",
           "radialaxis": {
            "gridcolor": "white",
            "linecolor": "white",
            "ticks": ""
           }
          },
          "scene": {
           "xaxis": {
            "backgroundcolor": "#E5ECF6",
            "gridcolor": "white",
            "gridwidth": 2,
            "linecolor": "white",
            "showbackground": true,
            "ticks": "",
            "zerolinecolor": "white"
           },
           "yaxis": {
            "backgroundcolor": "#E5ECF6",
            "gridcolor": "white",
            "gridwidth": 2,
            "linecolor": "white",
            "showbackground": true,
            "ticks": "",
            "zerolinecolor": "white"
           },
           "zaxis": {
            "backgroundcolor": "#E5ECF6",
            "gridcolor": "white",
            "gridwidth": 2,
            "linecolor": "white",
            "showbackground": true,
            "ticks": "",
            "zerolinecolor": "white"
           }
          },
          "shapedefaults": {
           "line": {
            "color": "#2a3f5f"
           }
          },
          "ternary": {
           "aaxis": {
            "gridcolor": "white",
            "linecolor": "white",
            "ticks": ""
           },
           "baxis": {
            "gridcolor": "white",
            "linecolor": "white",
            "ticks": ""
           },
           "bgcolor": "#E5ECF6",
           "caxis": {
            "gridcolor": "white",
            "linecolor": "white",
            "ticks": ""
           }
          },
          "title": {
           "x": 0.05
          },
          "xaxis": {
           "automargin": true,
           "gridcolor": "white",
           "linecolor": "white",
           "ticks": "",
           "title": {
            "standoff": 15
           },
           "zerolinecolor": "white",
           "zerolinewidth": 2
          },
          "yaxis": {
           "automargin": true,
           "gridcolor": "white",
           "linecolor": "white",
           "ticks": "",
           "title": {
            "standoff": 15
           },
           "zerolinecolor": "white",
           "zerolinewidth": 2
          }
         }
        }
       }
      }
     },
     "metadata": {},
     "output_type": "display_data"
    }
   ],
   "source": [
    "import plotly.express as px\n",
    "fig = px.scatter_3d(customer_RFM_scaled, x='Recency', y='Total_Transactions', z='Total_Spend', color='cluster')\n",
    "fig.show()"
   ]
  },
  {
   "cell_type": "code",
   "execution_count": 54,
   "metadata": {},
   "outputs": [
    {
     "name": "stdout",
     "output_type": "stream",
     "text": [
      "Mean values of each cluster:\n",
      "            Recency  Total_Transactions    Total_Spend\n",
      "cluster                                               \n",
      "0         41.926083            4.260501    1299.026864\n",
      "1        248.568500            1.778192     457.803374\n",
      "2         10.536232           27.101449   11667.639469\n",
      "3          4.090909          107.181818  124411.730909\n"
     ]
    }
   ],
   "source": [
    "# Print the mean values of each cluster for insights\n",
    "print(\"Mean values of each cluster:\")\n",
    "print(customer_data_cleaned.groupby('cluster')[['Recency', 'Total_Transactions', 'Total_Spend']].mean())"
   ]
  },
  {
   "cell_type": "code",
   "execution_count": 55,
   "metadata": {},
   "outputs": [
    {
     "data": {
      "text/plain": [
       "RFM\n",
       "0    70.403485\n",
       "1    24.598808\n",
       "2     4.745530\n",
       "3     0.252178\n",
       "Name: proportion, dtype: float64"
      ]
     },
     "execution_count": 55,
     "metadata": {},
     "output_type": "execute_result"
    }
   ],
   "source": [
    "# Rename the cluster column\n",
    "customer_data_cleaned.rename(columns={'cluster': 'RFM'}, inplace=True)\n",
    "customer_RFM_scaled.rename(columns={'cluster': 'RFM'}, inplace=True)\n",
    "\n",
    "# Calculate the percentage of customers in each cluster\n",
    "cluster_percentages = customer_data_cleaned['RFM'].value_counts(normalize=True) * 100\n",
    "cluster_percentages"
   ]
  },
  {
   "cell_type": "code",
   "execution_count": 56,
   "metadata": {},
   "outputs": [
    {
     "data": {
      "text/html": [
       "<div>\n",
       "<style scoped>\n",
       "    .dataframe tbody tr th:only-of-type {\n",
       "        vertical-align: middle;\n",
       "    }\n",
       "\n",
       "    .dataframe tbody tr th {\n",
       "        vertical-align: top;\n",
       "    }\n",
       "\n",
       "    .dataframe thead th {\n",
       "        text-align: right;\n",
       "    }\n",
       "</style>\n",
       "<table border=\"1\" class=\"dataframe\">\n",
       "  <thead>\n",
       "    <tr style=\"text-align: right;\">\n",
       "      <th></th>\n",
       "      <th>Customer ID</th>\n",
       "      <th>Recency</th>\n",
       "      <th>Total_Transactions</th>\n",
       "      <th>Total_Products_Purchased</th>\n",
       "      <th>Total_Spend</th>\n",
       "      <th>Average_Transaction_Value</th>\n",
       "      <th>Unique_Products_Purchased</th>\n",
       "      <th>Cancellation_Frequency</th>\n",
       "      <th>Cancellation_Rate</th>\n",
       "      <th>Monthly_Spending_Mean</th>\n",
       "      <th>Monthly_Spending_Std</th>\n",
       "      <th>RFM</th>\n",
       "    </tr>\n",
       "  </thead>\n",
       "  <tbody>\n",
       "    <tr>\n",
       "      <th>0</th>\n",
       "      <td>12346.0</td>\n",
       "      <td>325</td>\n",
       "      <td>2</td>\n",
       "      <td>0</td>\n",
       "      <td>0.00</td>\n",
       "      <td>0.000000</td>\n",
       "      <td>1</td>\n",
       "      <td>1.0</td>\n",
       "      <td>0.500</td>\n",
       "      <td>0.000000</td>\n",
       "      <td>0.000000</td>\n",
       "      <td>Passenger</td>\n",
       "    </tr>\n",
       "    <tr>\n",
       "      <th>1</th>\n",
       "      <td>12347.0</td>\n",
       "      <td>1</td>\n",
       "      <td>7</td>\n",
       "      <td>2458</td>\n",
       "      <td>4310.00</td>\n",
       "      <td>615.714286</td>\n",
       "      <td>103</td>\n",
       "      <td>0.0</td>\n",
       "      <td>0.000</td>\n",
       "      <td>615.714286</td>\n",
       "      <td>341.070789</td>\n",
       "      <td>Regular</td>\n",
       "    </tr>\n",
       "    <tr>\n",
       "      <th>2</th>\n",
       "      <td>12348.0</td>\n",
       "      <td>74</td>\n",
       "      <td>4</td>\n",
       "      <td>2332</td>\n",
       "      <td>1437.24</td>\n",
       "      <td>359.310000</td>\n",
       "      <td>21</td>\n",
       "      <td>0.0</td>\n",
       "      <td>0.000</td>\n",
       "      <td>359.310000</td>\n",
       "      <td>203.875689</td>\n",
       "      <td>Regular</td>\n",
       "    </tr>\n",
       "    <tr>\n",
       "      <th>3</th>\n",
       "      <td>12349.0</td>\n",
       "      <td>18</td>\n",
       "      <td>1</td>\n",
       "      <td>630</td>\n",
       "      <td>1457.55</td>\n",
       "      <td>1457.550000</td>\n",
       "      <td>72</td>\n",
       "      <td>0.0</td>\n",
       "      <td>0.000</td>\n",
       "      <td>1457.550000</td>\n",
       "      <td>0.000000</td>\n",
       "      <td>Regular</td>\n",
       "    </tr>\n",
       "    <tr>\n",
       "      <th>4</th>\n",
       "      <td>12350.0</td>\n",
       "      <td>309</td>\n",
       "      <td>1</td>\n",
       "      <td>196</td>\n",
       "      <td>294.40</td>\n",
       "      <td>294.400000</td>\n",
       "      <td>16</td>\n",
       "      <td>0.0</td>\n",
       "      <td>0.000</td>\n",
       "      <td>294.400000</td>\n",
       "      <td>0.000000</td>\n",
       "      <td>Passenger</td>\n",
       "    </tr>\n",
       "    <tr>\n",
       "      <th>5</th>\n",
       "      <td>12352.0</td>\n",
       "      <td>35</td>\n",
       "      <td>8</td>\n",
       "      <td>463</td>\n",
       "      <td>1265.41</td>\n",
       "      <td>158.176250</td>\n",
       "      <td>57</td>\n",
       "      <td>1.0</td>\n",
       "      <td>0.125</td>\n",
       "      <td>316.352500</td>\n",
       "      <td>134.700629</td>\n",
       "      <td>Regular</td>\n",
       "    </tr>\n",
       "    <tr>\n",
       "      <th>6</th>\n",
       "      <td>12353.0</td>\n",
       "      <td>203</td>\n",
       "      <td>1</td>\n",
       "      <td>20</td>\n",
       "      <td>89.00</td>\n",
       "      <td>89.000000</td>\n",
       "      <td>4</td>\n",
       "      <td>0.0</td>\n",
       "      <td>0.000</td>\n",
       "      <td>89.000000</td>\n",
       "      <td>0.000000</td>\n",
       "      <td>Passenger</td>\n",
       "    </tr>\n",
       "    <tr>\n",
       "      <th>7</th>\n",
       "      <td>12354.0</td>\n",
       "      <td>231</td>\n",
       "      <td>1</td>\n",
       "      <td>530</td>\n",
       "      <td>1079.40</td>\n",
       "      <td>1079.400000</td>\n",
       "      <td>58</td>\n",
       "      <td>0.0</td>\n",
       "      <td>0.000</td>\n",
       "      <td>1079.400000</td>\n",
       "      <td>0.000000</td>\n",
       "      <td>Passenger</td>\n",
       "    </tr>\n",
       "    <tr>\n",
       "      <th>8</th>\n",
       "      <td>12355.0</td>\n",
       "      <td>213</td>\n",
       "      <td>1</td>\n",
       "      <td>240</td>\n",
       "      <td>459.40</td>\n",
       "      <td>459.400000</td>\n",
       "      <td>13</td>\n",
       "      <td>0.0</td>\n",
       "      <td>0.000</td>\n",
       "      <td>459.400000</td>\n",
       "      <td>0.000000</td>\n",
       "      <td>Passenger</td>\n",
       "    </tr>\n",
       "    <tr>\n",
       "      <th>9</th>\n",
       "      <td>12356.0</td>\n",
       "      <td>22</td>\n",
       "      <td>3</td>\n",
       "      <td>1573</td>\n",
       "      <td>2487.43</td>\n",
       "      <td>829.143333</td>\n",
       "      <td>52</td>\n",
       "      <td>0.0</td>\n",
       "      <td>0.000</td>\n",
       "      <td>829.143333</td>\n",
       "      <td>991.462585</td>\n",
       "      <td>Regular</td>\n",
       "    </tr>\n",
       "  </tbody>\n",
       "</table>\n",
       "</div>"
      ],
      "text/plain": [
       "   Customer ID  Recency  Total_Transactions  Total_Products_Purchased  \\\n",
       "0      12346.0      325                   2                         0   \n",
       "1      12347.0        1                   7                      2458   \n",
       "2      12348.0       74                   4                      2332   \n",
       "3      12349.0       18                   1                       630   \n",
       "4      12350.0      309                   1                       196   \n",
       "5      12352.0       35                   8                       463   \n",
       "6      12353.0      203                   1                        20   \n",
       "7      12354.0      231                   1                       530   \n",
       "8      12355.0      213                   1                       240   \n",
       "9      12356.0       22                   3                      1573   \n",
       "\n",
       "   Total_Spend  Average_Transaction_Value  Unique_Products_Purchased  \\\n",
       "0         0.00                   0.000000                          1   \n",
       "1      4310.00                 615.714286                        103   \n",
       "2      1437.24                 359.310000                         21   \n",
       "3      1457.55                1457.550000                         72   \n",
       "4       294.40                 294.400000                         16   \n",
       "5      1265.41                 158.176250                         57   \n",
       "6        89.00                  89.000000                          4   \n",
       "7      1079.40                1079.400000                         58   \n",
       "8       459.40                 459.400000                         13   \n",
       "9      2487.43                 829.143333                         52   \n",
       "\n",
       "   Cancellation_Frequency  Cancellation_Rate  Monthly_Spending_Mean  \\\n",
       "0                     1.0              0.500               0.000000   \n",
       "1                     0.0              0.000             615.714286   \n",
       "2                     0.0              0.000             359.310000   \n",
       "3                     0.0              0.000            1457.550000   \n",
       "4                     0.0              0.000             294.400000   \n",
       "5                     1.0              0.125             316.352500   \n",
       "6                     0.0              0.000              89.000000   \n",
       "7                     0.0              0.000            1079.400000   \n",
       "8                     0.0              0.000             459.400000   \n",
       "9                     0.0              0.000             829.143333   \n",
       "\n",
       "   Monthly_Spending_Std        RFM  \n",
       "0              0.000000  Passenger  \n",
       "1            341.070789    Regular  \n",
       "2            203.875689    Regular  \n",
       "3              0.000000    Regular  \n",
       "4              0.000000  Passenger  \n",
       "5            134.700629    Regular  \n",
       "6              0.000000  Passenger  \n",
       "7              0.000000  Passenger  \n",
       "8              0.000000  Passenger  \n",
       "9            991.462585    Regular  "
      ]
     },
     "execution_count": 56,
     "metadata": {},
     "output_type": "execute_result"
    }
   ],
   "source": [
    "# Mapping dictionary\n",
    "cluster_map = {\n",
    "    0: 'Regular',\n",
    "    1: 'Passenger',\n",
    "    2: 'Loyal',\n",
    "    3: 'Champion'\n",
    "}\n",
    "\n",
    "# Apply mapping\n",
    "customer_RFM_scaled['RFM'] = customer_RFM_scaled['RFM'].map(cluster_map)\n",
    "customer_data_cleaned['RFM'] = customer_data_cleaned['RFM'].map(cluster_map)\n",
    "\n",
    "customer_data_cleaned.head(10)"
   ]
  },
  {
   "cell_type": "markdown",
   "metadata": {},
   "source": [
    "### Inferences\n",
    "\n",
    "### Evaluation Metrics\n",
    "\n",
    "- **Silhouette Score (0.6758):** A value close to 0.68 suggests well-defined clusters with good cohesion and separation. This indicates a reliable clustering structure.\n",
    "- **Calinski-Harabasz Score (3732.48):** A high score, reinforcing that the clusters are dense and well-separated.\n",
    "- **Davies-Bouldin Score (0.7267):** A relatively low value, confirming that clusters are distinct and not overlapping excessively.\n",
    "\n",
    "### Clusters Interpretation\n",
    "\n",
    "- **Champion:** Very low recency (≈4 days), extremely high purchase frequency (~107 transactions), and by far the highest total spend (~$124,412). Despite being only **0.25%** of the customer base, they are the most valuable segment. Prioritize retention, exclusive offers, and high-touch service for them.\n",
    "- **Loyal:** Low recency (~10.5 days), high frequency (~27 transactions), and strong spending (~$11,668). They represent **4.75%** of customers and contribute significantly to revenue. Ideal for loyalty programs, cross-sells, and appreciation campaigns.\n",
    "- **Regular:** Moderate recency (~42 days), moderate frequency (~4.26 transactions), and average total spend (~$1,299). Comprising **70.40%** of customers, they are the core base. Focus on nurturing, upselling, and engagement strategies to elevate them.\n",
    "- **Passenger:** High recency (~249 days), low frequency (~1.78 transactions), and low spending (~$458). Making up **24.60%** of the base, they are at risk of churn. Use reactivation tactics such as special offers, reminders, or feedback requests.\n"
   ]
  },
  {
   "cell_type": "markdown",
   "metadata": {},
   "source": [
    "## Adding Churn client to RFM Segmentation\n",
    "\n",
    "It is important to detect clients that churned, we will consider a churned customer those with a Recency above 180 (almost 6 months).\n",
    "\n",
    "This will bring the opportunity to identify customers who was loyal or Champion and now is a lost customer, those are really important customers to recover. Based on the results we consider to add news segmentations."
   ]
  },
  {
   "cell_type": "code",
   "execution_count": 57,
   "metadata": {},
   "outputs": [
    {
     "name": "stdout",
     "output_type": "stream",
     "text": [
      "Churned Customers Percentage by Cluster (RFM):\n",
      "RFM\n",
      "Champion      0.00\n",
      "Loyal         0.97\n",
      "Passenger    80.24\n",
      "Regular       0.00\n",
      "Name: Churned, dtype: float64\n"
     ]
    }
   ],
   "source": [
    "# Add 'Churned' column: 1 if Recency > 180, else 0\n",
    "customer_data_cleaned['Churned'] = (customer_data_cleaned['Recency'] > 180).astype(int)\n",
    "\n",
    "# Calculate churn percentage per cluster (RFM)\n",
    "churn_percentage_per_cluster = (\n",
    "    customer_data_cleaned.groupby('RFM')['Churned'].mean() * 100\n",
    ").round(2)\n",
    "\n",
    "# Print the result\n",
    "print(\"Churned Customers Percentage by Cluster (RFM):\")\n",
    "print(churn_percentage_per_cluster)"
   ]
  },
  {
   "cell_type": "code",
   "execution_count": 58,
   "metadata": {},
   "outputs": [
    {
     "name": "stdout",
     "output_type": "stream",
     "text": [
      "Churned Customers Count by Cluster (RFM):\n",
      "RFM\n",
      "Champion               0\n",
      "Churned Loyal          2\n",
      "Churned Passenger    861\n",
      "Loyal                  0\n",
      "Passenger              0\n",
      "Regular                0\n",
      "Name: Churned, dtype: int64\n"
     ]
    }
   ],
   "source": [
    "# Relabel RFM for churned customers\n",
    "customer_data_cleaned.loc[customer_data_cleaned['Churned'] == 1, 'RFM'] = (\n",
    "    'Churned ' + customer_data_cleaned.loc[customer_data_cleaned['Churned'] == 1, 'RFM']\n",
    ")\n",
    "\n",
    "# Count the number of customers in each cluster who have churned\n",
    "churned_counts = customer_data_cleaned.groupby('RFM')['Churned'].sum()\n",
    "\n",
    "# Delete the 'Churned' column\n",
    "customer_data_cleaned.drop(columns=['Churned'], inplace=True)\n",
    "\n",
    "# Print the counts\n",
    "print(\"Churned Customers Count by Cluster (RFM):\")\n",
    "print(churned_counts)"
   ]
  },
  {
   "cell_type": "code",
   "execution_count": 59,
   "metadata": {},
   "outputs": [
    {
     "name": "stdout",
     "output_type": "stream",
     "text": [
      "Percentage of Customers in Each Segment:\n"
     ]
    },
    {
     "data": {
      "text/plain": [
       "RFM\n",
       "Regular              70.403485\n",
       "Churned Passenger    19.738652\n",
       "Passenger             4.860156\n",
       "Loyal                 4.699679\n",
       "Champion              0.252178\n",
       "Churned Loyal         0.045851\n",
       "Name: proportion, dtype: float64"
      ]
     },
     "execution_count": 59,
     "metadata": {},
     "output_type": "execute_result"
    }
   ],
   "source": [
    "# Calculate the percentage of customers in each Segment\n",
    "print(\"Percentage of Customers in Each Segment:\")\n",
    "cluster_percentages = customer_data_cleaned['RFM'].value_counts(normalize=True) * 100\n",
    "cluster_percentages"
   ]
  },
  {
   "cell_type": "markdown",
   "metadata": {},
   "source": [
    "### Inferences\n",
    "\n",
    "- Integrating churn analysis into the RFM segmentation adds valuable insight into customer retention, allowing for more precise and actionable marketing strategies.\n",
    "\n",
    "- Customers with a recency greater than 180 days (approximately 6 months) are classified as **churned**.\n",
    "\n",
    "- The original RFM segments have been enhanced with churn-specific labels, such as **Churned Passenger** and **Churned Loyal**, allowing for a more nuanced understanding of customer behavior.\n",
    "\n",
    "- While no **Churned Regular** or **Churned Champion** customers were found in this dataset, these segments could emerge in future analyses as customer behavior evolves.\n",
    "\n",
    "### **Updated Segmentation Overview:**\n",
    "\n",
    "- **Churned Passenger (19.74%)**: A large group of inactive, low-value customers. These users are prime targets for reactivation campaigns to regain lost revenue.\n",
    "\n",
    "- **Passenger (4.86%)**: Low-engagement customers who are still active but at risk of churning. Monitoring and low-effort engagement strategies may help retain them.\n",
    "\n",
    "- **Regular (70.40%)**: The largest and most stable segment. They represent consistent engagement and should be maintained through continued value delivery.\n",
    "\n",
    "- **Loyal (4.70%)**: Frequent and engaged buyers. Nurturing this group with loyalty rewards and personalized offers is key to retention.\n",
    "\n",
    "- **Churned Loyal (0.05%)**: A small but high-potential segment. These previously loyal customers are worth win-back efforts due to their historical value.\n",
    "\n",
    "- **Champion (0.25%)**: High-spending, highly engaged customers. Though a small segment, they provide outsized value and should be prioritized for premium service and exclusive offers.\n",
    "\n",
    "By embedding churn status into the RFM framework, the business gains deeper visibility into customer lifecycles. This allows for:\n",
    "- Strategic recovery of high-value churned customers.\n",
    "- Proactive engagement with at-risk segments.\n",
    "- Focused retention of stable, revenue-generating customers.\n"
   ]
  },
  {
   "cell_type": "markdown",
   "metadata": {},
   "source": [
    "## Exporting Cleaned Transactions and Customers datasets"
   ]
  },
  {
   "cell_type": "code",
   "execution_count": 60,
   "metadata": {},
   "outputs": [],
   "source": [
    "from datetime import datetime\n",
    "\n",
    "# Year and month columns\n",
    "df['Year'] = df['InvoiceDate'].dt.year\n",
    "df['Month'] = df['InvoiceDate'].dt.month\n",
    "\n",
    "# Drop the Year and Month columns\n",
    "df.drop(columns=['Year', 'Month'], inplace=True)\n",
    "\n",
    "# Exporting Transactions_cleaned and Customer_cleaned\n",
    "customer_data_cleaned.to_csv('Customer_cleaned.csv', index=False)\n",
    "df.to_csv('Transactions_cleaned.csv', index=False)"
   ]
  },
  {
   "cell_type": "markdown",
   "metadata": {},
   "source": [
    "## Conclusions\n",
    "\n",
    "**In this analysis, we cleaned the retail dataset by Handling:**\n",
    "- Missing values.\n",
    "- Duplicates.\n",
    "- Stock code corrections.\n",
    "- Cancelled transactions.\n",
    "- Zero unit prices.\n",
    "- Adding Total Price Column.\n",
    "\n",
    "**We create and engineered RFM and additional features for customer insights, such as:**\n",
    "- **Recency:** The number of days that have passed since the customer's last purchase.\n",
    "- **Total_Transactions:** The total number of transactions made by the customer.\n",
    "- **Total_Products_Purchased:** The total quantity of products purchased by the customer across all transactions.\n",
    "- **Total_Spend:** The total amount of money the customer has spent across all transactions.\n",
    "- **Average_Transaction_Value:** The average value of the customer's transactions, calculated as total spend divided by transactions.\n",
    "- **Unique_Products_Purchased:** The number of different products the customer has purchased.\n",
    "- **Cancellation_Frequency:** The total number of transactions that the customer has cancelled.\n",
    "- **Cancellation_Rate:** The proportion of transactions that the customer has cancelled, calculated as cancellations/total.\n",
    "- **Monthly_Spending_Mean:** The average monthly spending of the customer.\n",
    "- **Monthly_Spending_Std:** The standard deviation of the customer's monthly spending, indicating variability.\n",
    "\n",
    "**Followed by:**\n",
    "- Outlier detection\n",
    "- Correlation analysis\n",
    "- Scaling the data.\n",
    "- Determining the Optimal Number of Clusters\n",
    "- Application of KMeans clustering to segment customers using **Recency**, **Total_Transactions**, **Total_Spend** columns (RFM features).\n",
    "- Refined the segmentation with churn analysis (recency > 180 days)\n",
    "- Exported the cleaned transactions and customer data.\n",
    "\n",
    "### Customer Data Description\n",
    "\n",
    "The final Customer Data Description including RFM Segmentation.\n",
    "\n",
    "| **Feature**                    | **Description**                                                                                      |\n",
    "|--------------------------------|------------------------------------------------------------------------------------------------------|\n",
    "| **Customer ID**                | Identifier uniquely assigned to each customer, used to distinguish individual customers.             |\n",
    "| **Recency**                    | The number of days that have passed since the customer's last purchase.                             |\n",
    "| **Total_Transactions**         | The total number of transactions made by the customer.                                              |\n",
    "| **Total_Products_Purchased**   | The total quantity of products purchased by the customer across all transactions.                   |\n",
    "| **Total_Spend**                | The total amount of money the customer has spent across all transactions.                           |\n",
    "| **Average_Transaction_Value**  | The average value of the customer's transactions, calculated as total spend divided by transactions. |\n",
    "| **Unique_Products_Purchased**  | The number of different products the customer has purchased.                                        |\n",
    "| **Cancellation_Frequency**     | The total number of transactions that the customer has cancelled.                                   |\n",
    "| **Cancellation_Rate**          | The proportion of transactions that the customer has cancelled, calculated as cancellations/total.  |\n",
    "| **Monthly_Spending_Mean**      | The average monthly spending of the customer.                                                       |\n",
    "| **Monthly_Spending_Std**       | The standard deviation of the customer's monthly spending, indicating variability.                  |\n",
    "| **RFM**                        | The customer segmentation category derived from Recency, Total_Transactions, and Total_Spend, indicating the customer's value and engagement level, such as 'Champion', 'Loyal', 'Regular', or 'Passenger'. This has been refined to integrate churn analysis, classifying customers with a recency greater than 180 days (approximately 6 months) as churned and adding churn-specific labels: Churned + Segment. |\n",
    "\n",
    "### Percentage and description of RFM Segmentations:\n",
    "- **Churned Passenger (19.74%)**: A large group of inactive, low-value customers. These users are prime targets for reactivation campaigns to regain lost revenue.\n",
    "- **Passenger (4.86%)**: Low-engagement customers who are still active but at risk of churning. Monitoring and low-effort engagement strategies may help retain them.\n",
    "- **Regular (70.40%)**: The largest and most stable segment. They represent consistent engagement and should be maintained through continued value delivery.\n",
    "- **Loyal (4.70%)**: Frequent and engaged buyers. Nurturing this group with loyalty rewards and personalized offers is key to retention.\n",
    "- **Churned Loyal (0.05%)**: A small but high-potential segment. These previously loyal customers are worth win-back efforts due to their historical value.\n",
    "- **Champion (0.25%)**: High-spending, highly engaged customers. Though a small segment, they provide outsized value and should be prioritized for premium service and exclusive offers.\n",
    "\n",
    "This segmentation offers actionable insights into customer behavior, supporting targeted marketing to boost retention and sales."
   ]
  }
 ],
 "metadata": {
  "kernelspec": {
   "display_name": "env",
   "language": "python",
   "name": "python3"
  },
  "language_info": {
   "codemirror_mode": {
    "name": "ipython",
    "version": 3
   },
   "file_extension": ".py",
   "mimetype": "text/x-python",
   "name": "python",
   "nbconvert_exporter": "python",
   "pygments_lexer": "ipython3",
   "version": "3.12.2"
  }
 },
 "nbformat": 4,
 "nbformat_minor": 2
}
